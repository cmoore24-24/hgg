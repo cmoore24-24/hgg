{
 "cells": [
  {
   "cell_type": "code",
   "execution_count": 2,
   "id": "04ef2df8-cb08-4dd2-b752-db0bd5a4884c",
   "metadata": {},
   "outputs": [],
   "source": [
    "from coffea.nanoevents import NanoEventsFactory, BaseSchema, PFNanoAODSchema\n",
    "import json\n",
    "import fastjet\n",
    "import numpy as np\n",
    "import awkward as ak\n",
    "from coffea import processor\n",
    "import hist\n",
    "import coffea.nanoevents.methods.vector as vector\n",
    "import warnings\n",
    "import hist.dask as dhist\n",
    "import dask\n",
    "import pickle\n",
    "import os\n",
    "#import distributed\n",
    "from ndcctools.taskvine import DaskVine\n",
    "import time"
   ]
  },
  {
   "cell_type": "code",
   "execution_count": 3,
   "id": "1821bd42-07d8-4251-aac8-761e1ca497e2",
   "metadata": {},
   "outputs": [
    {
     "data": {
      "text/plain": [
       "'2.5.2'"
      ]
     },
     "execution_count": 3,
     "metadata": {},
     "output_type": "execute_result"
    }
   ],
   "source": [
    "ak.__version__"
   ]
  },
  {
   "cell_type": "code",
   "execution_count": 4,
   "id": "6c5e7517-fab0-4e47-98e6-20e058a676eb",
   "metadata": {},
   "outputs": [],
   "source": [
    "warnings.filterwarnings(\"ignore\", \"Found duplicate branch\")\n",
    "warnings.filterwarnings(\"ignore\", \"Missing cross-reference index for\")\n",
    "warnings.filterwarnings(\"ignore\", \"dcut\")\n",
    "warnings.filterwarnings(\"ignore\", \"Please ensure\")\n",
    "warnings.filterwarnings(\"ignore\", \"The necessary\")"
   ]
  },
  {
   "cell_type": "code",
   "execution_count": 5,
   "id": "1f570696-4dc1-4f5b-8eb8-f3661ea4d390",
   "metadata": {},
   "outputs": [],
   "source": [
    "hbb_files = os.listdir('/project01/ndcms/cmoore24/signal/hbb')"
   ]
  },
  {
   "cell_type": "code",
   "execution_count": 6,
   "id": "9a880d50-2015-4c74-bca7-4cac1f712772",
   "metadata": {},
   "outputs": [
    {
     "data": {
      "text/plain": [
       "25"
      ]
     },
     "execution_count": 6,
     "metadata": {},
     "output_type": "execute_result"
    }
   ],
   "source": [
    "len(hbb_files)"
   ]
  },
  {
   "cell_type": "code",
   "execution_count": 7,
   "id": "0b62ed91-c2d3-487e-980d-e98cb11c14ae",
   "metadata": {},
   "outputs": [],
   "source": [
    "hbb_files = hbb_files[1:3]"
   ]
  },
  {
   "cell_type": "code",
   "execution_count": 9,
   "id": "8157dc57-934f-4ce6-94ff-2a106cb45f5f",
   "metadata": {
    "scrolled": true
   },
   "outputs": [],
   "source": [
    "hbb = NanoEventsFactory.from_root(\n",
    "    {'/project01/ndcms/cmoore24/signal/hbb/' + hbb_files[0]: \"/Events\"},\n",
    "    #permit_dask=True,\n",
    "    schemaclass=PFNanoAODSchema,\n",
    "    metadata={\"dataset\": \"QCD_Pt_1000to1400\"},\n",
    ").events()"
   ]
  },
  {
   "cell_type": "code",
   "execution_count": 11,
   "id": "84c84463-f312-46e8-8539-397b3bf88f6c",
   "metadata": {},
   "outputs": [],
   "source": [
    "class MyProcessor_Background(processor.ProcessorABC):\n",
    "        \n",
    "        def __init__(self):\n",
    "            pass\n",
    "    \n",
    "        \n",
    "        def process(self, events):\n",
    "            dataset = events.metadata['dataset']\n",
    "            \n",
    "            fatjet = events.FatJet \n",
    "            \n",
    "            cut = ((fatjet.pt > 300) & (fatjet.msoftdrop > 110) & \n",
    "                   (fatjet.msoftdrop < 140) & (abs(fatjet.eta) < 2.5))  #& (fatjet.btagDDBvLV2 < 0.50)\n",
    "            \n",
    "            boosted_fatjet = fatjet[cut]\n",
    "            \n",
    "            cmssw_n2 = (\n",
    "                dhist.Hist.new\n",
    "                .Reg(40, 0, 0.5, name='cmssw_n2', label='CMSSW_N2')\n",
    "                .Weight()\n",
    "            )\n",
    "\n",
    "            cmssw_n2.fill(cmssw_n2=ak.flatten(boosted_fatjet.n2b1))\n",
    "            \n",
    "            return {\n",
    "                dataset: {\n",
    "                    \"entries\": ak.count(events.event, axis=None),\n",
    "                    \"N2\": cmssw_n2,\n",
    "                }\n",
    "            }\n",
    "        \n",
    "        def postprocess(self, accumulator):\n",
    "            pass"
   ]
  },
  {
   "cell_type": "code",
   "execution_count": 12,
   "id": "3636fea2-8275-4830-ab65-4c2865f47724",
   "metadata": {},
   "outputs": [],
   "source": [
    "result = MyProcessor_Background().process(hbb)"
   ]
  },
  {
   "cell_type": "code",
   "execution_count": 13,
   "id": "a9b459da-2093-44df-8d1d-4930d65a9c91",
   "metadata": {},
   "outputs": [
    {
     "data": {
      "text/plain": [
       "({'QCD_Pt_1000to1400': {'entries': 6000,\n",
       "   'N2': Hist(Regular(40, 0, 0.5, name='cmssw_n2', label='CMSSW_N2'), storage=Weight()) # Sum: WeightedSum(value=637, variance=637)}},)"
      ]
     },
     "execution_count": 13,
     "metadata": {},
     "output_type": "execute_result"
    }
   ],
   "source": [
    "dask.compute(result)"
   ]
  },
  {
   "cell_type": "code",
   "execution_count": 12,
   "id": "852cf875-bb3d-43f0-82da-364abc91dcdb",
   "metadata": {},
   "outputs": [
    {
     "data": {
      "text/plain": [
       "coffea.nanoevents.methods.nanoaod.FatJetArray"
      ]
     },
     "execution_count": 12,
     "metadata": {},
     "output_type": "execute_result"
    }
   ],
   "source": [
    "type(ak.firsts(q1418.FatJet))#.n2b1)"
   ]
  },
  {
   "cell_type": "code",
   "execution_count": 9,
   "id": "509c491c-449e-4271-8461-561ba78b15e6",
   "metadata": {},
   "outputs": [
    {
     "data": {
      "text/html": [
       "<pre>[[0.385],\n",
       " [0.307, 0.364],\n",
       " [0.337, 0.276],\n",
       " [0.365, -1e+05],\n",
       " [0.378],\n",
       " [0.399],\n",
       " [0.112, 0.396, 0.338],\n",
       " [0.196],\n",
       " [0.401, -1e+05],\n",
       " [0.366, 0.16],\n",
       " ...,\n",
       " [0.272, 0.354],\n",
       " [0.262, 0.243],\n",
       " [0.329],\n",
       " [0.177, 0.324],\n",
       " [0.348, 0.396],\n",
       " [0.417, -1e+05],\n",
       " [0.378, 0.188],\n",
       " [-1e+05],\n",
       " [0.282, -1e+05]]\n",
       "--------------------------------------------------------------------\n",
       "type: 6000 * var * float32[parameters={&quot;__doc__&quot;: &quot;N2 with beta=1&quot;}]</pre>"
      ],
      "text/plain": [
       "<Array [[0.385], [...], ..., [0.282, -1e+05]] type='6000 * var * float32[pa...'>"
      ]
     },
     "execution_count": 9,
     "metadata": {},
     "output_type": "execute_result"
    }
   ],
   "source": [
    "q1418.FatJet.n2b1"
   ]
  },
  {
   "cell_type": "code",
   "execution_count": null,
   "id": "7acfc335-1e0d-432d-ad64-5f16fdbafd58",
   "metadata": {},
   "outputs": [],
   "source": []
  }
 ],
 "metadata": {
  "kernelspec": {
   "display_name": "Python 3 (ipykernel)",
   "language": "python",
   "name": "python3"
  },
  "language_info": {
   "codemirror_mode": {
    "name": "ipython",
    "version": 3
   },
   "file_extension": ".py",
   "mimetype": "text/x-python",
   "name": "python",
   "nbconvert_exporter": "python",
   "pygments_lexer": "ipython3",
   "version": "3.9.18"
  }
 },
 "nbformat": 4,
 "nbformat_minor": 5
}
