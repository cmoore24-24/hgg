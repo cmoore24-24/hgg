{
 "cells": [
  {
   "cell_type": "code",
   "execution_count": 1,
   "id": "0df7bd06-4941-402d-a8be-c51e2e2a28ce",
   "metadata": {},
   "outputs": [],
   "source": [
    "from coffea.nanoevents import NanoEventsFactory, BaseSchema, PFNanoAODSchema\n",
    "import json\n",
    "import fastjet\n",
    "import numpy as np\n",
    "import awkward as ak\n",
    "from coffea import processor\n",
    "import hist\n",
    "import coffea.nanoevents.methods.vector as vector\n",
    "import warnings\n",
    "import hist.dask as dhist\n",
    "import dask\n",
    "import pickle\n",
    "import os"
   ]
  },
  {
   "cell_type": "code",
   "execution_count": 2,
   "id": "53285c56-1b8f-411c-8779-4fc15e62520b",
   "metadata": {},
   "outputs": [],
   "source": [
    "warnings.filterwarnings(\"ignore\", \"Found duplicate branch\")\n",
    "warnings.filterwarnings(\"ignore\", \"Missing cross-reference index for\")\n",
    "warnings.filterwarnings(\"ignore\", \"dcut\")\n",
    "warnings.filterwarnings(\"ignore\", \"Please ensure\")"
   ]
  },
  {
   "cell_type": "code",
   "execution_count": 3,
   "id": "3decc1fb-a5e6-41a8-adb3-a1444ff40025",
   "metadata": {},
   "outputs": [],
   "source": [
    "q1014_files = os.listdir('/project01/ndcms/cmoore24/qcd/1000to1400')"
   ]
  },
  {
   "cell_type": "code",
   "execution_count": 22,
   "id": "58ae0c68-8bd3-4c00-ad33-69303c496ff3",
   "metadata": {},
   "outputs": [],
   "source": [
    "def color_ring(fatjet):\n",
    "    jetdef = fastjet.JetDefinition(fastjet.cambridge_algorithm, 0.8) # make this C/A at 0.8\n",
    "    pf = ak.flatten(fatjet.constituents.pf, axis=1)\n",
    "    cluster = fastjet.ClusterSequence(pf, jetdef)\n",
    "    subjets = cluster.exclusive_subjets_up_to(data=cluster.exclusive_jets(n_jets=1), nsub=3) #uncomment this when using C/A\n",
    "    #subjets = cluster.inclusive_jets()\n",
    "    vec = ak.zip({\n",
    "        \"x\": subjets.px,\n",
    "        \"y\": subjets.py,\n",
    "        \"z\": subjets.pz,\n",
    "        \"t\": subjets.E,\n",
    "        },\n",
    "        with_name = \"LorentzVector\",\n",
    "        behavior=vector.behavior,\n",
    "        )\n",
    "    vec = ak.pad_none(vec, 3)\n",
    "    vec[\"norm3\"] = np.sqrt(vec.dot(vec))\n",
    "    vec[\"idx\"] = ak.local_index(vec)\n",
    "    i, j = ak.unzip(ak.combinations(vec, 2))\n",
    "    best = ak.argmax((i + j).mass, axis=1, keepdims=True)\n",
    "    leg1, leg2 = ak.firsts(i[best]), ak.firsts(j[best])\n",
    "    #assert ak.all((leg1 + leg2).mass == ak.max((i + j).mass, axis=1))\n",
    "    #leg3 = vec[(best == 0)*2 + (best == 1)*1 + (best == 2)*0]\n",
    "    leg3 = ak.firsts(vec[(vec.idx != leg1.idx) & (vec.idx != leg2.idx)])\n",
    "    #assert ak.all(leg3.x != leg1.x)\n",
    "    #assert ak.all(leg3.x != leg2.x)\n",
    "    a12 = np.arccos(leg1.dot(leg2) / (leg1.norm3 * leg2.norm3))\n",
    "    a13 = np.arccos(leg1.dot(leg3) / (leg1.norm3 * leg3.norm3))\n",
    "    a23 = np.arccos(leg2.dot(leg3) / (leg2.norm3 * leg3.norm3))\n",
    "    color_ring = ((a13**2 + a23**2)/(a12**2))\n",
    "    return color_ring"
   ]
  },
  {
   "cell_type": "code",
   "execution_count": 23,
   "id": "7090740c-37d2-4cfd-96a6-b42b63244d73",
   "metadata": {},
   "outputs": [],
   "source": [
    "def d2_calc(fatjet):\n",
    "    jetdef = fastjet.JetDefinition(fastjet.cambridge_algorithm, 0.8) # make this C/A at 0.8\n",
    "    pf = ak.flatten(fatjet.constituents.pf, axis=1)\n",
    "    cluster = fastjet.ClusterSequence(pf, jetdef)\n",
    "    softdrop = cluster.exclusive_jets_softdrop_grooming()\n",
    "    softdrop_cluster = fastjet.ClusterSequence(softdrop.constituents, jetdef)\n",
    "    d2 = softdrop_cluster.exclusive_jets_energy_correlator(func='D2')\n",
    "    return d2"
   ]
  },
  {
   "cell_type": "code",
   "execution_count": 74,
   "id": "cae82bec-f2d7-4c19-89c8-a13b6949d10a",
   "metadata": {},
   "outputs": [],
   "source": [
    "class MyProcessor_Background(processor.ProcessorABC):\n",
    "    \n",
    "    def __init__(self):\n",
    "        pass\n",
    "\n",
    "    \n",
    "    def process(self, events):\n",
    "        dataset = events.metadata['dataset']\n",
    "        \n",
    "        fatjet = events.FatJet\n",
    "        \n",
    "        cut = ((fatjet.pt > 300) & (fatjet.msoftdrop > 110) & \n",
    "               (fatjet.msoftdrop < 140) & (abs(fatjet.eta) < 2.5)) #& (fatjet.btagDDBvLV2 > 0.89)\n",
    "        \n",
    "        boosted_fatjet = fatjet[cut]\n",
    "        \n",
    "        uf_cr = ak.unflatten(color_ring(boosted_fatjet), counts=ak.num(boosted_fatjet))\n",
    "        d2 = ak.unflatten(d2_calc(boosted_fatjet), counts=ak.num(boosted_fatjet))\n",
    "        boosted_fatjet['color_ring'] = uf_cr\n",
    "        boosted_fatjet['d2b1'] = d2\n",
    "        \n",
    "        hcr = (\n",
    "            dhist.Hist.new\n",
    "            .Reg(40, 0, 10, name='color_ring', label='Color_Ring')\n",
    "            .Weight()\n",
    "        )\n",
    "\n",
    "        d2b1 = (\n",
    "            dhist.Hist.new\n",
    "            .Reg(40, 0, 3, name='D2B1', label='D2B1')\n",
    "            .Weight()\n",
    "        )\n",
    "        \n",
    "        cmssw_n2 = (\n",
    "            dhist.Hist.new\n",
    "            .Reg(40, 0, 0.5, name='cmssw_n2', label='CMSSW_N2')\n",
    "            .Weight()\n",
    "        )\n",
    "        \n",
    "        cmssw_n3 = (\n",
    "            dhist.Hist.new\n",
    "            .Reg(40, 0, 3, name='cmssw_n3', label='CMSSW_N3')\n",
    "            .Weight()\n",
    "        )\n",
    "        \n",
    "        ncons = (\n",
    "            dhist.Hist.new\n",
    "            .Reg(40, 0, 200, name='constituents', label='nConstituents')\n",
    "            .Weight()\n",
    "        )\n",
    "        \n",
    "        mass = (\n",
    "            dhist.Hist.new\n",
    "            .Reg(40, 0, 250, name='mass', label='Mass')\n",
    "            .Weight()\n",
    "        )\n",
    "        \n",
    "        sdmass = (\n",
    "            dhist.Hist.new\n",
    "            .Reg(40, 0, 250, name='sdmass', label='SDmass')\n",
    "            .Weight()\n",
    "        )\n",
    "\n",
    "        btag = (\n",
    "            dhist.Hist.new\n",
    "            .Reg(40, -1, 1, name='Btag', label='Btag')\n",
    "            .Weight()\n",
    "        )\n",
    "        \n",
    "        fill_cr = ak.fill_none(ak.flatten(boosted_fatjet.color_ring), 0)\n",
    "        hcr.fill(color_ring=fill_cr)\n",
    "        d2b1.fill(D2B1=ak.flatten(boosted_fatjet.d2b1))\n",
    "        cmssw_n2.fill(cmssw_n2=ak.flatten(boosted_fatjet.n2b1))\n",
    "        cmssw_n3.fill(cmssw_n3=ak.flatten(boosted_fatjet.n3b1))\n",
    "        ncons.fill(constituents=ak.flatten(boosted_fatjet.nConstituents))\n",
    "        mass.fill(mass=ak.flatten(boosted_fatjet.mass))\n",
    "        sdmass.fill(sdmass=ak.flatten(boosted_fatjet.msoftdrop))\n",
    "        btag.fill(Btag=ak.flatten(boosted_fatjet.btagDDBvLV2))\n",
    "        \n",
    "        return {\n",
    "            dataset: {\n",
    "                #\"entries\": ak.max(events.event),\n",
    "                \"Color_Ring\": hcr,\n",
    "                \"N2\": cmssw_n2,\n",
    "                \"N3\": cmssw_n3,\n",
    "                \"nConstituents\": ncons,\n",
    "                \"Mass\": mass,\n",
    "                \"SDmass\": sdmass,\n",
    "                \"Btag\": btag,\n",
    "                \"D2\": d2b1,\n",
    "            }\n",
    "        }\n",
    "    \n",
    "    def postprocess(self, accumulator):\n",
    "        pass"
   ]
  },
  {
   "cell_type": "code",
   "execution_count": 60,
   "id": "d8e04788-b938-431b-88ca-121120f52207",
   "metadata": {},
   "outputs": [],
   "source": [
    "one = NanoEventsFactory.from_root(\n",
    "    {'/project01/ndcms/cmoore24/qcd/1000to1400/' + q1014_files[0]: \"/Events\"},\n",
    "    permit_dask=False,\n",
    "    schemaclass=PFNanoAODSchema,\n",
    "    metadata={\"dataset\": \"QCD_Pt_1000to1400\"},\n",
    ").events()"
   ]
  },
  {
   "cell_type": "code",
   "execution_count": 75,
   "id": "14c8d241-d852-4351-8d5d-807c5c8ba94f",
   "metadata": {},
   "outputs": [],
   "source": [
    "q1014 = NanoEventsFactory.from_root(\n",
    "    [{'/project01/ndcms/cmoore24/qcd/1000to1400/' + fn: \"/Events\"} for fn in q1014_files],\n",
    "    permit_dask=True,\n",
    "    schemaclass=PFNanoAODSchema,\n",
    "    metadata={\"dataset\": \"QCD_Pt_1000to1400\"},\n",
    ").events()"
   ]
  },
  {
   "cell_type": "code",
   "execution_count": 76,
   "id": "23ceffea-efbe-47fc-bdb0-7c26ec0159e5",
   "metadata": {},
   "outputs": [
    {
     "name": "stderr",
     "output_type": "stream",
     "text": [
      "function call on just metas failed; will try length zero array technique\n",
      "function call on just metas failed; will try length zero array technique\n"
     ]
    }
   ],
   "source": [
    "result = MyProcessor_Background().process(q1014)"
   ]
  },
  {
   "cell_type": "code",
   "execution_count": 81,
   "id": "9e0b1294-65ec-4bc4-b5ce-179e9b7fff3f",
   "metadata": {},
   "outputs": [],
   "source": [
    "#result['QCD_Pt_1000to1400']['Color_Ring'].compute()"
   ]
  },
  {
   "cell_type": "code",
   "execution_count": 83,
   "id": "e693ca0a-6f5d-4922-b0ea-b5c8d76d21f6",
   "metadata": {},
   "outputs": [],
   "source": [
    "from ndcctools.taskvine import DaskVine\n",
    "m = DaskVine([9123,9128], name=\"jupyter\")"
   ]
  },
  {
   "cell_type": "code",
   "execution_count": null,
   "id": "9a74f881-3b61-4ab1-8b16-68e2cd050483",
   "metadata": {},
   "outputs": [],
   "source": [
    "dask.compute(result['QCD_Pt_1000to1400']['Color_Ring'], scheduler=m.get)"
   ]
  },
  {
   "cell_type": "code",
   "execution_count": null,
   "id": "32dfdb99-0bdf-48ba-a309-301cee3d780b",
   "metadata": {},
   "outputs": [],
   "source": []
  }
 ],
 "metadata": {
  "kernelspec": {
   "display_name": "Python 3 (ipykernel)",
   "language": "python",
   "name": "python3"
  },
  "language_info": {
   "codemirror_mode": {
    "name": "ipython",
    "version": 3
   },
   "file_extension": ".py",
   "mimetype": "text/x-python",
   "name": "python",
   "nbconvert_exporter": "python",
   "pygments_lexer": "ipython3",
   "version": "3.10.13"
  }
 },
 "nbformat": 4,
 "nbformat_minor": 5
}
