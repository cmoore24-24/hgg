{
 "cells": [
  {
   "cell_type": "code",
   "execution_count": 1,
   "id": "0ae4c516-3d2d-4654-a59a-736142bfefd2",
   "metadata": {},
   "outputs": [],
   "source": [
    "import uproot\n",
    "import os\n",
    "import json"
   ]
  },
  {
   "cell_type": "code",
   "execution_count": 3,
   "id": "73def953-cd4a-47ac-aec6-8218dddf87e1",
   "metadata": {},
   "outputs": [],
   "source": [
    "root_path = '/cms/cephfs/data/store/user/cmoore24/samples/wwlnu'"
   ]
  },
  {
   "cell_type": "code",
   "execution_count": 17,
   "id": "70819b86-bd67-4823-98b9-2b660e88ab61",
   "metadata": {},
   "outputs": [],
   "source": [
    "path = '/scratch365/cmoore24/training/hgg/batch2024/ml_results_checking'\n",
    "with open(f'{path}/subregion_event_totals.json', 'r') as f:\n",
    "    totals = json.load(f)"
   ]
  },
  {
   "cell_type": "code",
   "execution_count": 23,
   "id": "9d78183a-7d6b-42f3-b7ae-3a913da8905c",
   "metadata": {},
   "outputs": [],
   "source": [
    "with open(f'{path}/my_xsecs.json', 'r') as f:\n",
    "    xsecs = json.load(f)"
   ]
  },
  {
   "cell_type": "code",
   "execution_count": 10,
   "id": "8670069f-3281-41e2-b9ac-8d34091e6b7b",
   "metadata": {},
   "outputs": [],
   "source": [
    "counts = {}\n",
    "for i in os.listdir(root_path):\n",
    "    count = 0\n",
    "    for j in os.listdir(f'{root_path}/{i}'):\n",
    "        count += list(uproot.num_entries(f'{root_path}/{i}/{j}:/Events'))[0][2]\n",
    "    counts[i] = count"
   ]
  },
  {
   "cell_type": "code",
   "execution_count": 13,
   "id": "37f0295b-939d-47f2-97e6-a8e32a999170",
   "metadata": {},
   "outputs": [],
   "source": [
    "del(totals['wwlnu'])"
   ]
  },
  {
   "cell_type": "code",
   "execution_count": 14,
   "id": "c93c331f-45da-4553-976c-12a672e7ec3f",
   "metadata": {},
   "outputs": [],
   "source": [
    "for i in counts:\n",
    "    totals[f'wwlnu_{i}'] = counts[i]"
   ]
  },
  {
   "cell_type": "code",
   "execution_count": 16,
   "id": "4dd0bef9-ef29-48db-b9e5-21522569e683",
   "metadata": {},
   "outputs": [],
   "source": [
    "# path = '/scratch365/cmoore24/training/hgg/batch2024/ml_results_checking'\n",
    "# with open(f'{path}/subregion_event_totals.json', 'w') as f:\n",
    "#     json.dump(totals, f)"
   ]
  },
  {
   "cell_type": "code",
   "execution_count": 20,
   "id": "31dd988d-f10e-4427-976e-cf92cbf78e9a",
   "metadata": {},
   "outputs": [],
   "source": [
    "del(xsecs['wwlnu'])"
   ]
  },
  {
   "cell_type": "code",
   "execution_count": 21,
   "id": "097988b9-84c0-4358-90c0-fa16f07e9162",
   "metadata": {},
   "outputs": [],
   "source": [
    "xsecs['wwlnu_200to400'] = 3.338e+02\n",
    "xsecs['wwlnu_400to600'] = 4.548e+01\n",
    "xsecs['wwlnu_600to800'] = 1.096e+01\n",
    "xsecs['wwlnu_800to1200'] = 4.896e+00\n",
    "xsecs['wwlnu_1200to2500'] = 1.169e+00\n",
    "xsecs['wwlnu_2500toInf'] = 2.636e-02"
   ]
  },
  {
   "cell_type": "code",
   "execution_count": 22,
   "id": "5f30519f-7019-4d23-81da-01ca35851743",
   "metadata": {},
   "outputs": [],
   "source": [
    "# with open(f'{path}/my_xsecs.json', 'w') as f:\n",
    "#     json.dump(xsecs, f)"
   ]
  },
  {
   "cell_type": "code",
   "execution_count": 24,
   "id": "9a16bd81-08d8-46c6-9884-51304d88b3d2",
   "metadata": {},
   "outputs": [
    {
     "data": {
      "text/plain": [
       "{'qcd': {'qcd_300to470': 6833.0,\n",
       "  'qcd_470to600': 549.5,\n",
       "  'qcd_600to800': 156.5,\n",
       "  'qcd_800to1000': 26.22,\n",
       "  'qcd_1000to1400': 7.475,\n",
       "  'qcd_1400to1800': 0.6482,\n",
       "  'qcd_1800to2400': 0.08742,\n",
       "  'qcd_2400to3200': 0.005237,\n",
       "  'qcd_3200toInf': 0.0001353},\n",
       " 'wqq': {'wqq_400to600': 277.0, 'wqq_600to800': 59.06, 'wqq_800toInf': 28.75},\n",
       " 'zqq': {'zqq_400to600': 114.5, 'zqq_600to800': 25.41, 'zqq_800toInf': 12.91},\n",
       " 'ttboosted': {'ttboosted_700to1000': 64.55, 'ttboosted_1000toInf': 16.45},\n",
       " 'hbb': 0.27395244,\n",
       " 'hgg': 0.471,\n",
       " 'singletop': 7.104,\n",
       " 'ww': 75.83,\n",
       " 'zz': 12.14,\n",
       " 'wz': 27.56,\n",
       " 'tthadronic': 687.1,\n",
       " 'wwlnu_200to400': 333.8,\n",
       " 'wwlnu_400to600': 45.48,\n",
       " 'wwlnu_600to800': 10.96,\n",
       " 'wwlnu_800to1200': 4.896,\n",
       " 'wwlnu_1200to2500': 1.169,\n",
       " 'wwlnu_2500toInf': 0.02636}"
      ]
     },
     "execution_count": 24,
     "metadata": {},
     "output_type": "execute_result"
    }
   ],
   "source": [
    "xsecs"
   ]
  },
  {
   "cell_type": "code",
   "execution_count": null,
   "id": "e4a222bf-8c9d-4a4f-a20c-3051ba47b996",
   "metadata": {},
   "outputs": [],
   "source": []
  }
 ],
 "metadata": {
  "kernelspec": {
   "display_name": "Python 3 (ipykernel)",
   "language": "python",
   "name": "python3"
  },
  "language_info": {
   "codemirror_mode": {
    "name": "ipython",
    "version": 3
   },
   "file_extension": ".py",
   "mimetype": "text/x-python",
   "name": "python",
   "nbconvert_exporter": "python",
   "pygments_lexer": "ipython3",
   "version": "3.11.9"
  }
 },
 "nbformat": 4,
 "nbformat_minor": 5
}
