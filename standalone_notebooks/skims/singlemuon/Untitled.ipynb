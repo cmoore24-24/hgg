{
 "cells": [
  {
   "cell_type": "code",
   "execution_count": 1,
   "id": "2a4d626c-b05f-4518-a523-3642cd4384fb",
   "metadata": {},
   "outputs": [
    {
     "name": "stderr",
     "output_type": "stream",
     "text": [
      "/afs/crc.nd.edu/user/c/cmoore24/Public/hgg/standalone_notebooks/skims/singlemuon/variable_functions.py:3: FutureWarning: In version 2024.7.0 (target date: 2024-06-30 11:59:59-05:00), this will be an error.\n",
      "To raise these warnings as errors (and get stack traces to find out where they're called), run\n",
      "    import warnings\n",
      "    warnings.filterwarnings(\"error\", module=\"coffea.*\")\n",
      "after the first `import coffea` or use `@pytest.mark.filterwarnings(\"error:::coffea.*\")` in pytest.\n",
      "Issue: coffea.nanoevents.methods.vector will be removed and replaced with scikit-hep vector. Nanoevents schemas internal to coffea will be migrated. Otherwise please consider using that package!.\n",
      "  import coffea.nanoevents.methods.vector as vector\n"
     ]
    }
   ],
   "source": [
    "from coffea.nanoevents import NanoEventsFactory, PFNanoAODSchema\n",
    "import awkward as ak\n",
    "import warnings\n",
    "import fastjet\n",
    "from variable_functions import *\n",
    "import scipy\n",
    "import json"
   ]
  },
  {
   "cell_type": "code",
   "execution_count": 2,
   "id": "b91a69fd-3a35-4efd-857e-7efd433dce58",
   "metadata": {},
   "outputs": [],
   "source": [
    "warnings.filterwarnings('ignore', 'Found duplicate')\n",
    "warnings.filterwarnings('ignore', 'Missing cross')"
   ]
  },
  {
   "cell_type": "code",
   "execution_count": 3,
   "id": "0547cd93-cdd5-41e5-8911-4a3c29d7dfb2",
   "metadata": {},
   "outputs": [],
   "source": [
    "path = '/project01/ndcms/cmoore24/samples/diboson/zz/nano_mc2017_6.root'"
   ]
  },
  {
   "cell_type": "code",
   "execution_count": 4,
   "id": "ef22144c-12fc-4719-9af5-ce780a0204b6",
   "metadata": {},
   "outputs": [],
   "source": [
    "events = NanoEventsFactory.from_root(\n",
    "    {f'{path}':'/Events'},\n",
    "    delayed=True,\n",
    "    schemaclass=PFNanoAODSchema,\n",
    "    metadata={'dataset':'test'},\n",
    ").events()"
   ]
  },
  {
   "cell_type": "code",
   "execution_count": 5,
   "id": "726e7e83-8357-4ce4-81f8-4407ef5aff6d",
   "metadata": {},
   "outputs": [],
   "source": [
    "goodmuon = (\n",
    "            (events.Muon.pt > 10)\n",
    "            & (abs(events.Muon.eta) < 2.4)\n",
    "            & (events.Muon.pfRelIso04_all < 0.25) # invert the isolation cut; > 0.25, check for QCD (maybe try > 1.0)\n",
    "            & events.Muon.looseId\n",
    "        )\n",
    "\n",
    "nmuons = ak.sum(goodmuon, axis=1)\n",
    "leadingmuon = ak.firsts(events.Muon[goodmuon])\n",
    "\n",
    "goodelectron = (\n",
    "    (events.Electron.pt > 10)\n",
    "    & (abs(events.Electron.eta) < 2.5)\n",
    "    & (events.Electron.cutBased >= 2) #events.Electron.LOOSE\n",
    ")\n",
    "nelectrons = ak.sum(goodelectron, axis=1)\n",
    "\n",
    "ntaus = ak.sum(\n",
    "    (\n",
    "        (events.Tau.pt > 20)\n",
    "        & (abs(events.Tau.eta) < 2.3)\n",
    "        & (events.Tau.rawIso < 5)\n",
    "        & (events.Tau.idDeepTau2017v2p1VSjet)\n",
    "        & ak.all(events.Tau.metric_table(events.Muon[goodmuon]) > 0.4, axis=2)\n",
    "        & ak.all(events.Tau.metric_table(events.Electron[goodelectron]) > 0.4, axis=2)\n",
    "    ),\n",
    "    axis=1,\n",
    ")\n",
    "\n",
    "nolepton = ((nmuons == 0) & (nelectrons == 0) & (ntaus == 0))\n",
    "\n",
    "onemuon = ((nmuons == 1) & (nelectrons == 0) & (ntaus == 0))"
   ]
  },
  {
   "cell_type": "code",
   "execution_count": 6,
   "id": "43123a38-14e7-40d3-bca8-a834bc9ba535",
   "metadata": {},
   "outputs": [
    {
     "data": {
      "text/html": [
       "<pre>[[],\n",
       " [],\n",
       " [],\n",
       " [],\n",
       " [],\n",
       " [],\n",
       " [],\n",
       " [],\n",
       " [],\n",
       " [],\n",
       " ...,\n",
       " [],\n",
       " [],\n",
       " [],\n",
       " [],\n",
       " [],\n",
       " [],\n",
       " [],\n",
       " [],\n",
       " []]\n",
       "-------------------------\n",
       "type: 335000 * var * bool</pre>"
      ],
      "text/plain": [
       "<Array [[], [], [], [], [], ..., [], [], [], [], []] type='335000 * var * bool'>"
      ]
     },
     "execution_count": 6,
     "metadata": {},
     "output_type": "execute_result"
    }
   ],
   "source": [
    "ak.fill_none(events.FatJet.delta_r(events.FatJet.nearest(events.Muon[goodmuon], axis=1)) > 0.8, True).compute()"
   ]
  },
  {
   "cell_type": "code",
   "execution_count": 7,
   "id": "4e7ce004-1940-4325-bbb7-55715ac338c3",
   "metadata": {},
   "outputs": [],
   "source": [
    "fatjetSelect = (\n",
    "            (events.FatJet.pt >= 450)\n",
    "            & (events.FatJet.pt <= 1200)\n",
    "            & (abs(events.FatJet.eta) <= 2.4)\n",
    "            & (events.FatJet.msoftdrop >= 40)\n",
    "            & (events.FatJet.msoftdrop <= 200)\n",
    "            & (onemuon)\n",
    "            & (ak.fill_none(events.FatJet.delta_r(events.FatJet.nearest(events.Muon[goodmuon], axis=1)) > 0.8, True))\n",
    "            # & (trigger)\n",
    "            # & (events.FatJet.btag_count == 0)\n",
    "        )"
   ]
  },
  {
   "cell_type": "code",
   "execution_count": 8,
   "id": "d60f0ca0-450b-4370-a5b5-d1ee5f21512b",
   "metadata": {},
   "outputs": [],
   "source": [
    "events[\"goodjets\"] = events.FatJet[fatjetSelect]\n",
    "mask = ~ak.is_none(ak.firsts(events.goodjets))\n",
    "events = events[mask]"
   ]
  },
  {
   "cell_type": "code",
   "execution_count": 9,
   "id": "15295275-d204-4adf-9f2b-bda261339bae",
   "metadata": {},
   "outputs": [
    {
     "data": {
      "text/html": [
       "<pre>[[{area: 2.06, btagCSVV2: 0.0836, btagDDBvLV2: 6.34e-06, ...}],\n",
       " [{area: 2.05, btagCSVV2: 0.415, btagDDBvLV2: 9.35e-05, btagDDCvBV2: ..., ...}],\n",
       " [{area: 2.08, btagCSVV2: 0.166, btagDDBvLV2: 0.000554, btagDDCvBV2: ..., ...}],\n",
       " [{area: 1.98, btagCSVV2: 0.849, btagDDBvLV2: 0.00058, btagDDCvBV2: ..., ...}],\n",
       " [{area: 2.04, btagCSVV2: 0.198, btagDDBvLV2: 0.00117, btagDDCvBV2: ..., ...}],\n",
       " [FatJet, FatJet],\n",
       " [{area: 2, btagCSVV2: 0.744, btagDDBvLV2: 0.562, btagDDCvBV2: 0.268, ...}],\n",
       " [{area: 2.09, btagCSVV2: 0.637, btagDDBvLV2: 0.0207, btagDDCvBV2: ..., ...}],\n",
       " [{area: 1.98, btagCSVV2: 0.857, btagDDBvLV2: 0.277, btagDDCvBV2: 0.151, ...}],\n",
       " [{area: 2, btagCSVV2: 0.846, btagDDBvLV2: 0.000373, btagDDCvBV2: 0.368, ...}]]\n",
       "---------------------------------------------------------------------------------------------------------------------------------------------------------------------------------------------------------------------\n",
       "type: 10 * var * FatJet[\n",
       "    area: float32[parameters={&quot;__doc__&quot;: &quot;jet catchment area, for JECs&quot;}],\n",
       "    btagCSVV2: float32[parameters={&quot;__doc__&quot;: &quot; pfCombinedInclusiveSecondaryVertexV2 b-tag discriminator (aka CSVV2)&quot;}],\n",
       "    btagDDBvLV2: float32[parameters={&quot;__doc__&quot;: &quot;DeepDoubleX V2(mass-decorrelated) discriminator for H(Z)-&gt;bb vs QCD&quot;}],\n",
       "    btagDDCvBV2: float32[parameters={&quot;__doc__&quot;: &quot;DeepDoubleX V2 (mass-decorrelated) discriminator for H(Z)-&gt;cc vs H(Z)-&gt;bb&quot;}],\n",
       "    btagDDCvLV2: float32[parameters={&quot;__doc__&quot;: &quot;DeepDoubleX V2 (mass-decorrelated) discriminator for H(Z)-&gt;cc vs QCD&quot;}],\n",
       "    btagDeepB: float32[parameters={&quot;__doc__&quot;: &quot;DeepCSV b+bb tag discriminator&quot;}],\n",
       "    btagHbb: float32[parameters={&quot;__doc__&quot;: &quot;Higgs to BB tagger discriminator&quot;}],\n",
       "    deepTagMD_H4qvsQCD: float32[parameters={&quot;__doc__&quot;: &quot;Mass-decorrelated DeepBoostedJet tagger H-&gt;4q vs QCD discriminator&quot;}],\n",
       "    deepTagMD_HbbvsQCD: float32[parameters={&quot;__doc__&quot;: &quot;Mass-decorrelated DeepBoostedJet tagger H-&gt;bb vs QCD discriminator&quot;}],\n",
       "    deepTagMD_TvsQCD: float32[parameters={&quot;__doc__&quot;: &quot;Mass-decorrelated DeepBoostedJet tagger top vs QCD discriminator&quot;}],\n",
       "    deepTagMD_WvsQCD: float32[parameters={&quot;__doc__&quot;: &quot;Mass-decorrelated DeepBoostedJet tagger W vs QCD discriminator&quot;}],\n",
       "    deepTagMD_ZHbbvsQCD: float32[parameters={&quot;__doc__&quot;: &quot;Mass-decorrelated DeepBoostedJet tagger Z/H-&gt;bb vs QCD discriminator&quot;}],\n",
       "    deepTagMD_ZHccvsQCD: float32[parameters={&quot;__doc__&quot;: &quot;Mass-decorrelated DeepBoostedJet tagger Z/H-&gt;cc vs QCD discriminator&quot;}],\n",
       "    deepTagMD_ZbbvsQCD: float32[parameters={&quot;__doc__&quot;: &quot;Mass-decorrelated DeepBoostedJet tagger Z-&gt;bb vs QCD discriminator&quot;}],\n",
       "    deepTagMD_ZvsQCD: float32[parameters={&quot;__doc__&quot;: &quot;Mass-decorrelated DeepBoostedJet tagger Z vs QCD discriminator&quot;}],\n",
       "    deepTagMD_bbvsLight: float32[parameters={&quot;__doc__&quot;: &quot;Mass-decorrelated DeepBoostedJet tagger Z/H/gluon-&gt;bb vs light flavour discriminator&quot;}],\n",
       "    deepTagMD_ccvsLight: float32[parameters={&quot;__doc__&quot;: &quot;Mass-decorrelated DeepBoostedJet tagger Z/H/gluon-&gt;cc vs light flavour discriminator&quot;}],\n",
       "    deepTag_H: float32[parameters={&quot;__doc__&quot;: &quot;DeepBoostedJet tagger H(bb,cc,4q) sum&quot;}],\n",
       "    deepTag_QCD: float32[parameters={&quot;__doc__&quot;: &quot;DeepBoostedJet tagger QCD(bb,cc,b,c,others) sum&quot;}],\n",
       "    deepTag_QCDothers: float32[parameters={&quot;__doc__&quot;: &quot;DeepBoostedJet tagger QCDothers value&quot;}],\n",
       "    deepTag_TvsQCD: float32[parameters={&quot;__doc__&quot;: &quot;DeepBoostedJet tagger top vs QCD discriminator&quot;}],\n",
       "    deepTag_WvsQCD: float32[parameters={&quot;__doc__&quot;: &quot;DeepBoostedJet tagger W vs QCD discriminator&quot;}],\n",
       "    deepTag_ZvsQCD: float32[parameters={&quot;__doc__&quot;: &quot;DeepBoostedJet tagger Z vs QCD discriminator&quot;}],\n",
       "    eta: float32[parameters={&quot;__doc__&quot;: &quot;eta&quot;}],\n",
       "    mass: float32[parameters={&quot;__doc__&quot;: &quot;mass&quot;}],\n",
       "    msoftdrop: float32[parameters={&quot;__doc__&quot;: &quot;Corrected soft drop mass with PUPPI&quot;}],\n",
       "    n2b1: float32[parameters={&quot;__doc__&quot;: &quot;N2 with beta=1&quot;}],\n",
       "    n3b1: float32[parameters={&quot;__doc__&quot;: &quot;N3 with beta=1&quot;}],\n",
       "    particleNetMD_QCD: float32[parameters={&quot;__doc__&quot;: &quot;Mass-decorrelated ParticleNet tagger raw QCD score&quot;}],\n",
       "    particleNetMD_Xbb: float32[parameters={&quot;__doc__&quot;: &quot;Mass-decorrelated ParticleNet tagger raw X-&gt;bb score. For X-&gt;bb vs QCD tagging, use Xbb/(Xbb+QCD)&quot;}],\n",
       "    particleNetMD_Xcc: float32[parameters={&quot;__doc__&quot;: &quot;Mass-decorrelated ParticleNet tagger raw X-&gt;cc score. For X-&gt;cc vs QCD tagging, use Xcc/(Xcc+QCD)&quot;}],\n",
       "    particleNetMD_Xqq: float32[parameters={&quot;__doc__&quot;: &quot;Mass-decorrelated ParticleNet tagger raw X-&gt;qq (uds) score. For X-&gt;qq vs QCD tagging, use Xqq/(Xqq+QCD). For W vs QCD tagging, use (Xcc+Xqq)/(Xcc+Xqq+QCD)&quot;}],\n",
       "    particleNet_H4qvsQCD: float32[parameters={&quot;__doc__&quot;: &quot;ParticleNet tagger H(-&gt;VV-&gt;qqqq) vs QCD discriminator&quot;}],\n",
       "    particleNet_HbbvsQCD: float32[parameters={&quot;__doc__&quot;: &quot;ParticleNet tagger H(-&gt;bb) vs QCD discriminator&quot;}],\n",
       "    particleNet_HccvsQCD: float32[parameters={&quot;__doc__&quot;: &quot;ParticleNet tagger H(-&gt;cc) vs QCD discriminator&quot;}],\n",
       "    particleNet_QCD: float32[parameters={&quot;__doc__&quot;: &quot;ParticleNet tagger QCD(bb,cc,b,c,others) sum&quot;}],\n",
       "    particleNet_TvsQCD: float32[parameters={&quot;__doc__&quot;: &quot;ParticleNet tagger top vs QCD discriminator&quot;}],\n",
       "    particleNet_WvsQCD: float32[parameters={&quot;__doc__&quot;: &quot;ParticleNet tagger W vs QCD discriminator&quot;}],\n",
       "    particleNet_ZvsQCD: float32[parameters={&quot;__doc__&quot;: &quot;ParticleNet tagger Z vs QCD discriminator&quot;}],\n",
       "    particleNet_mass: float32[parameters={&quot;__doc__&quot;: &quot;ParticleNet mass regression&quot;}],\n",
       "    phi: float32[parameters={&quot;__doc__&quot;: &quot;phi&quot;}],\n",
       "    pt: float32[parameters={&quot;__doc__&quot;: &quot;pt&quot;}],\n",
       "    rawFactor: float32[parameters={&quot;__doc__&quot;: &quot;1 - Factor to get back to raw pT&quot;}],\n",
       "    tau1: float32[parameters={&quot;__doc__&quot;: &quot;Nsubjettiness (1 axis)&quot;}],\n",
       "    tau2: float32[parameters={&quot;__doc__&quot;: &quot;Nsubjettiness (2 axis)&quot;}],\n",
       "    tau3: float32[parameters={&quot;__doc__&quot;: &quot;Nsubjettiness (3 axis)&quot;}],\n",
       "    tau4: float32[parameters={&quot;__doc__&quot;: &quot;Nsubjettiness (4 axis)&quot;}],\n",
       "    lsf3: float32[parameters={&quot;__doc__&quot;: &quot;Lepton Subjet Fraction (3 subjets)&quot;}],\n",
       "    jetId: int32[parameters={&quot;__doc__&quot;: &quot;Jet ID flags bit1 is loose (always false in 2017 since it does not exist), bit2 is tight, bit3 is tightLepVeto&quot;}],\n",
       "    subJetIdx1: int32[parameters={&quot;__doc__&quot;: &quot;index of first subjet&quot;}],\n",
       "    subJetIdx2: int32[parameters={&quot;__doc__&quot;: &quot;index of second subjet&quot;}],\n",
       "    electronIdx3SJ: int32[parameters={&quot;__doc__&quot;: &quot;index of electron matched to jet&quot;}],\n",
       "    muonIdx3SJ: int32[parameters={&quot;__doc__&quot;: &quot;index of muon matched to jet&quot;}],\n",
       "    nConstituents: uint8[parameters={&quot;__doc__&quot;: &quot;Number of particles in the jet&quot;}],\n",
       "    DDX_tau1_flightDistance2dSig: float32[parameters={&quot;__doc__&quot;: &quot;transverse distance significance between primary and secondary vertex associated to the 1st N-subjettiness axis&quot;}],\n",
       "    DDX_tau1_trackEtaRel_0: float32[parameters={&quot;__doc__&quot;: &quot;1st smallest track pseudorapidity, relative to the jet axis, associated to the 1st N-subjettiness axis&quot;}],\n",
       "    DDX_tau1_trackEtaRel_1: float32[parameters={&quot;__doc__&quot;: &quot;2nd smallest track pseudorapidity, relative to the jet axis, associated to the 1st N-subjettiness axis&quot;}],\n",
       "    DDX_tau1_trackEtaRel_2: float32[parameters={&quot;__doc__&quot;: &quot;3rd smallest track pseudorapidity, relative to the jet axis, associated to the 1st N-subjettiness axis&quot;}],\n",
       "    DDX_tau1_trackSip3dSig_0: float32[parameters={&quot;__doc__&quot;: &quot;1st largest track 3D signed impact parameter significance associated to the 1st N-subjettiness axis&quot;}],\n",
       "    DDX_tau1_trackSip3dSig_1: float32[parameters={&quot;__doc__&quot;: &quot;2nd largest track 3D signed impact parameter significance associated to the 1st N-subjettiness axis&quot;}],\n",
       "    DDX_tau1_vertexDeltaR: float32[parameters={&quot;__doc__&quot;: &quot;deltaR between the 1st N-subjettiness axis and secondary vertex direction&quot;}],\n",
       "    DDX_tau1_vertexEnergyRatio: float32[parameters={&quot;__doc__&quot;: &quot;ratio of energy at secondary vertex over total energy associated to the 1st N-subjettiness axis&quot;}],\n",
       "    DDX_tau1_vertexMass: float32[parameters={&quot;__doc__&quot;: &quot;mass of track sum at secondary vertex associated to the 1st N-subjettiness axis&quot;}],\n",
       "    DDX_tau2_flightDistance2dSig: float32[parameters={&quot;__doc__&quot;: &quot;transverse distance significance between primary and secondary vertex associated to the 2nd N-subjettiness axis&quot;}],\n",
       "    DDX_tau2_trackEtaRel_0: float32[parameters={&quot;__doc__&quot;: &quot;1st smallest track pseudorapidity, relative to the jet axis, associated to the 2nd N-subjettiness axis&quot;}],\n",
       "    DDX_tau2_trackEtaRel_1: float32[parameters={&quot;__doc__&quot;: &quot;2nd smallest track pseudorapidity, relative to the jet axis, associated to the 2nd N-subjettiness axis&quot;}],\n",
       "    DDX_tau2_trackEtaRel_3: float32[parameters={&quot;__doc__&quot;: &quot;3rd smallest track pseudorapidity, relative to the jet axis, associated to the 2nd N-subjettiness axis&quot;}],\n",
       "    DDX_tau2_trackSip3dSig_0: float32[parameters={&quot;__doc__&quot;: &quot;1st largest track 3D signed impact parameter significance associated to the 2nd N-subjettiness axis&quot;}],\n",
       "    DDX_tau2_trackSip3dSig_1: float32[parameters={&quot;__doc__&quot;: &quot;2nd largest track 3D signed impact parameter significance associated to the 2nd N-subjettiness axis&quot;}],\n",
       "    DDX_tau2_vertexEnergyRatio: float32[parameters={&quot;__doc__&quot;: &quot;ratio of energy at secondary vertex over total energy associated to the 2nd N-subjettiness axis&quot;}],\n",
       "    DDX_tau2_vertexMass: float32[parameters={&quot;__doc__&quot;: &quot;mass of track sum at secondary vertex associated to the 2nd N-subjettiness axis&quot;}],\n",
       "    DDX_trackSip2dSigAboveBottom_0: float32[parameters={&quot;__doc__&quot;: &quot;track 2D signed impact parameter significance of 1st track lifting mass above bottom&quot;}],\n",
       "    DDX_trackSip2dSigAboveBottom_1: float32[parameters={&quot;__doc__&quot;: &quot;track 2D signed impact parameter significance of 2nd track lifting mass above bottom&quot;}],\n",
       "    DDX_trackSip2dSigAboveCharm: float32[parameters={&quot;__doc__&quot;: &quot;track 2D signed impact parameter significance of 1st track lifting mass above charm&quot;}],\n",
       "    DDX_trackSip3dSig_0: float32[parameters={&quot;__doc__&quot;: &quot;1st largest track 3D signed impact parameter significance&quot;}],\n",
       "    DDX_trackSip3dSig_1: float32[parameters={&quot;__doc__&quot;: &quot;2nd largest track 3D signed impact parameter significance&quot;}],\n",
       "    DDX_trackSip3dSig_2: float32[parameters={&quot;__doc__&quot;: &quot;3rd largest track 3D signed impact parameter significance&quot;}],\n",
       "    DDX_trackSip3dSig_3: float32[parameters={&quot;__doc__&quot;: &quot;4th largest track 3D signed impact parameter significance&quot;}],\n",
       "    DDX_z_ratio: float32[parameters={&quot;__doc__&quot;: &quot;z = deltaR(SV0,SV1)*pT(SV1)/m(SV0,SV1), defined in Eq. 7 of arXiv:1712.07158&quot;}],\n",
       "    Proba: float32[parameters={&quot;__doc__&quot;: &quot;Jet Probability (Usage:BTV)&quot;}],\n",
       "    btagDeepB_b: float32[parameters={&quot;__doc__&quot;: &quot;DeepCSV b tag discriminator&quot;}],\n",
       "    btagDeepB_bb: float32[parameters={&quot;__doc__&quot;: &quot;DeepCSV bb tag discriminator&quot;}],\n",
       "    btagDeepL: float32[parameters={&quot;__doc__&quot;: &quot;DeepCSV light btag discriminator&quot;}],\n",
       "    DDX_jetNSecondaryVertices: int32[parameters={&quot;__doc__&quot;: &quot;number of SVs associated with the jet&quot;}],\n",
       "    DDX_jetNTracks: int32[parameters={&quot;__doc__&quot;: &quot;number of tracks associated with the jet&quot;}],\n",
       "    nBHadrons: int32[parameters={&quot;__doc__&quot;: &quot;number of b-hadrons&quot;}],\n",
       "    nCHadrons: int32[parameters={&quot;__doc__&quot;: &quot;number of c-hadrons&quot;}],\n",
       "    genJetAK8Idx: int32[parameters={&quot;__doc__&quot;: &quot;index of matched gen AK8 jet&quot;}],\n",
       "    hadronFlavour: int32[parameters={&quot;__doc__&quot;: &quot;flavour from hadron ghost clustering&quot;}],\n",
       "    genJetAK8IdxG: int64[parameters={&quot;__doc__&quot;: &quot;index of matched gen AK8 jet&quot;}],\n",
       "    subJetIdx1G: int64[parameters={&quot;__doc__&quot;: &quot;index of first subjet&quot;}],\n",
       "    subJetIdx2G: int64[parameters={&quot;__doc__&quot;: &quot;index of second subjet&quot;}],\n",
       "    electronIdx3SJG: int64[parameters={&quot;__doc__&quot;: &quot;index of electron matched to jet&quot;}],\n",
       "    muonIdx3SJG: int64[parameters={&quot;__doc__&quot;: &quot;index of muon matched to jet&quot;}],\n",
       "    subJetIdxG: [var * int64[parameters={&quot;__doc__&quot;: &quot;index of first subjet&quot;}], parameters={&quot;__doc__&quot;: &quot;index of first subjet&quot;}],\n",
       "    pFCandsIdxG: [var * int64, parameters={&quot;__doc__&quot;: &quot;Number of particles in the jet&quot;}], \n",
       "parameters={&quot;__doc__&quot;: &quot;slimmedJetsAK8, i.e. ak8 fat jets for boosted analysis&quot;, &quot;collection_name&quot;: &quot;FatJet&quot;}]</pre>"
      ],
      "text/plain": [
       "<FatJetArray [[{area: 2.06, ...}], ..., [{...}]] type='10 * var * FatJet[ar...'>"
      ]
     },
     "execution_count": 9,
     "metadata": {},
     "output_type": "execute_result"
    }
   ],
   "source": [
    "events.goodjets.compute()"
   ]
  },
  {
   "cell_type": "code",
   "execution_count": null,
   "id": "0b18020f-c644-4b11-9e62-21155891ba63",
   "metadata": {},
   "outputs": [],
   "source": []
  },
  {
   "cell_type": "code",
   "execution_count": null,
   "id": "a660778f-e99a-4ba6-a288-18fde7e9507d",
   "metadata": {},
   "outputs": [],
   "source": []
  },
  {
   "cell_type": "code",
   "execution_count": null,
   "id": "b3319c44-5e72-4832-98c6-dd1c8a6ccfbc",
   "metadata": {},
   "outputs": [],
   "source": []
  },
  {
   "cell_type": "code",
   "execution_count": 39,
   "id": "92161a2b-8dab-4dd8-bbdf-c83d144075c2",
   "metadata": {},
   "outputs": [],
   "source": [
    "pf = ak.flatten(events.goodjets.constituents.pf, axis=1)\n",
    "pf['px'] = pf.px\n",
    "pf['py'] = pf.py\n",
    "pf['pz'] = pf.pz\n",
    "pf['E'] = pf.E"
   ]
  },
  {
   "cell_type": "code",
   "execution_count": 40,
   "id": "04786e2d-aef4-44a8-b1b9-888960aa8af7",
   "metadata": {},
   "outputs": [],
   "source": [
    "jetdef = fastjet.JetDefinition(\n",
    "    fastjet.cambridge_algorithm, 1.0\n",
    ")"
   ]
  },
  {
   "cell_type": "code",
   "execution_count": 41,
   "id": "4d23d3d4-1460-46aa-b548-f3e6454d7293",
   "metadata": {},
   "outputs": [],
   "source": [
    "cluster = fastjet.ClusterSequence(pf, jetdef)"
   ]
  },
  {
   "cell_type": "code",
   "execution_count": 34,
   "id": "713e2058-85d6-4e96-8900-a1cd83ff3a86",
   "metadata": {},
   "outputs": [
    {
     "data": {
      "text/html": [
       "<pre>[[-3.73, -18.4, -2.63, -1.7, -9.05, ..., -3.39, -1.93, -1.17, -1.14, -1.13],\n",
       " [2.79, 14.5, 3.89, 140, 3.26, 3.53, ..., 1, 2.19, 5.91, 2.08, 0.628, 1.02],\n",
       " [0.53, 5.79, 6.93, 7.61, 6.42, 42.5, ..., 27.5, 13.5, 2.11, 0.702, 7.73, 1.43],\n",
       " [-0.836, -0.54, -20.1, -1.09, -0.373, ..., -1.14, -0.733, -0.425, -0.239],\n",
       " [-0.337, -49.7, -4.23, -1.29, -2.95, ..., -2.89, -2.03, -5.51, -0.595, -0.892],\n",
       " [0.397, 0.0744, 3.49, 2.52, 3.43, ..., 0.0447, 0.4, 0.753, -0.0224, -0.068],\n",
       " [0.0132, 0.866, 0.481, 0.252, 0.327, ..., 16.4, 1.49, 1.27, 0.538, -0.0729],\n",
       " [-187, -98.6, -25.4, -154, -18.5, ..., -2.06, -0.487, -0.501, -0.494, -0.197],\n",
       " [0.834, 0.965, 1.71, 2.8, 63, 28.9, ..., 1.49, 0.522, 1.12, 0.716, 0.698],\n",
       " [0.343, 4.29, 0.582, 0.246, 1.23, ..., -0.119, -0.182, 0.514, -0.497, 0.307],\n",
       " [-0.105, -0.382, -7.42, -5.44, -1.18, ..., -0.311, 0.0404, 0.233, -0.229]]\n",
       "--------------------------------------------------------------------------------\n",
       "type: 11 * option[var * ?float32]</pre>"
      ],
      "text/plain": [
       "<Array [[-3.73, -18.4, ..., -1.14, -1.13], ...] type='11 * option[var * ?fl...'>"
      ]
     },
     "execution_count": 34,
     "metadata": {},
     "output_type": "execute_result"
    }
   ],
   "source": [
    "pf.px.compute()"
   ]
  },
  {
   "cell_type": "code",
   "execution_count": null,
   "id": "eac9518c-a0ef-489e-bee8-1b15d5079e53",
   "metadata": {},
   "outputs": [],
   "source": []
  }
 ],
 "metadata": {
  "kernelspec": {
   "display_name": "Python 3 (ipykernel)",
   "language": "python",
   "name": "python3"
  },
  "language_info": {
   "codemirror_mode": {
    "name": "ipython",
    "version": 3
   },
   "file_extension": ".py",
   "mimetype": "text/x-python",
   "name": "python",
   "nbconvert_exporter": "python",
   "pygments_lexer": "ipython3",
   "version": "3.11.9"
  }
 },
 "nbformat": 4,
 "nbformat_minor": 5
}
