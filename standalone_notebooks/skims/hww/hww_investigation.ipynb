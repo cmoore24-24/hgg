{
 "cells": [
  {
   "cell_type": "code",
   "execution_count": 12,
   "id": "7e3255b6-101f-4155-808c-05ff1839b345",
   "metadata": {},
   "outputs": [],
   "source": [
    "import awkward as ak\n",
    "import numpy as np\n",
    "import matplotlib.pyplot as plt\n",
    "from coffea.nanoevents import NanoEventsFactory, PFNanoAODSchema\n",
    "import os\n",
    "import warnings\n",
    "import json"
   ]
  },
  {
   "cell_type": "code",
   "execution_count": 2,
   "id": "4df9bdfb-c847-4e5e-aa29-e0975351180d",
   "metadata": {},
   "outputs": [],
   "source": [
    "warnings.filterwarnings('ignore', 'Missing')"
   ]
  },
  {
   "cell_type": "code",
   "execution_count": 3,
   "id": "1d2e1728-9b67-47a9-88f9-81b28a3e3744",
   "metadata": {},
   "outputs": [],
   "source": [
    "columns = ['goodjets']\n",
    "path = '/project01/ndcms/cmoore24/skims/full_skims/nolepton/mc'\n",
    "hgg = ak.from_parquet(f'{path}/hgg/fd*', columns=columns)\n",
    "hww = ak.from_parquet(f'{path}/hww/*', columns=columns)"
   ]
  },
  {
   "cell_type": "code",
   "execution_count": 25,
   "id": "c9f3d5e4-c160-4513-aff9-75d2a1490110",
   "metadata": {},
   "outputs": [
    {
     "data": {
      "image/png": "[encoded data removed]",
      "text/plain": [
       "<Figure size 640x480 with 1 Axes>"
      ]
     },
     "metadata": {},
     "output_type": "display_data"
    }
   ],
   "source": [
    "plt.hist(hgg.goodjets.nConstituents, bins=40, histtype='step', label='Hgg', density=True)\n",
    "plt.hist(goodjets.nConstituents, bins=40, histtype='step', label='Hww', density=True)\n",
    "plt.legend()\n",
    "plt.show()"
   ]
  },
  {
   "cell_type": "code",
   "execution_count": 5,
   "id": "baa55865-28bc-4855-b59a-b05c314a4df7",
   "metadata": {
    "scrolled": true
   },
   "outputs": [
    {
     "name": "stderr",
     "output_type": "stream",
     "text": [
      "/afs/crc.nd.edu/user/c/cmoore24/miniconda3/envs/coffea/lib/python3.11/site-packages/coffea/nanoevents/methods/candidate.py:11: FutureWarning: In version 2024.7.0 (target date: 2024-06-30 11:59:59-05:00), this will be an error.\n",
      "To raise these warnings as errors (and get stack traces to find out where they're called), run\n",
      "    import warnings\n",
      "    warnings.filterwarnings(\"error\", module=\"coffea.*\")\n",
      "after the first `import coffea` or use `@pytest.mark.filterwarnings(\"error:::coffea.*\")` in pytest.\n",
      "Issue: coffea.nanoevents.methods.vector will be removed and replaced with scikit-hep vector. Nanoevents schemas internal to coffea will be migrated. Otherwise please consider using that package!.\n",
      "  from coffea.nanoevents.methods import vector\n"
     ]
    }
   ],
   "source": [
    "files = os.listdir('/project01/ndcms/cmoore24/samples/hww')\n",
    "hww_root = NanoEventsFactory.from_root(\n",
    "    [{f'/project01/ndcms/cmoore24/samples/hww/{file}':'/Events'} for file in files],\n",
    "    delayed=True, \n",
    "    schemaclass=PFNanoAODSchema,\n",
    "    metadata={'dataset':'Hww'},\n",
    ").events()"
   ]
  },
  {
   "cell_type": "code",
   "execution_count": 6,
   "id": "6ab305bb-7688-4f88-b1af-e633acc9651c",
   "metadata": {},
   "outputs": [],
   "source": [
    "hww_root['PFCands', 'pt'] = (\n",
    "    hww_root.PFCands.pt\n",
    "    * hww_root.PFCands.puppiWeight\n",
    ")"
   ]
  },
  {
   "cell_type": "code",
   "execution_count": 7,
   "id": "97712d91-b421-4473-bb27-d4d91da221e4",
   "metadata": {},
   "outputs": [],
   "source": [
    "cut_to_fix_softdrop = (ak.num(hww_root.FatJet.constituents.pf, axis=2) > 0)\n",
    "hww_root = hww_root[ak.all(cut_to_fix_softdrop, axis=1)]"
   ]
  },
  {
   "cell_type": "code",
   "execution_count": 8,
   "id": "58a3ad41-8840-462a-a116-9c38ea7acb48",
   "metadata": {},
   "outputs": [],
   "source": [
    "hww_root['FatJet', 'num_fatjets'] = ak.num(hww_root.FatJet)"
   ]
  },
  {
   "cell_type": "code",
   "execution_count": 9,
   "id": "7904fe58-12db-4448-899c-a5ee3912aba5",
   "metadata": {},
   "outputs": [],
   "source": [
    "hww_root['FatJet', 'btag_count'] = ak.sum(hww_root.Jet[(hww_root.Jet.pt > 20) & (abs(hww_root.Jet.eta) < 2.4)].btagDeepFlavB > 0.3040, axis=1)"
   ]
  },
  {
   "cell_type": "code",
   "execution_count": 10,
   "id": "b73ee4bf-375c-48d8-b6bd-155e1b85c1d1",
   "metadata": {},
   "outputs": [],
   "source": [
    "goodmuon = (\n",
    "            (hww_root.Muon.pt > 10)\n",
    "            & (abs(hww_root.Muon.eta) < 2.4)\n",
    "            & (hww_root.Muon.pfRelIso04_all < 0.25) # invert the isolation cut; > 0.25, check for QCD (maybe try > 1.0)\n",
    "            & hww_root.Muon.looseId\n",
    "        )\n",
    "\n",
    "nmuons = ak.sum(goodmuon, axis=1)\n",
    "leadingmuon = ak.firsts(hww_root.Muon[goodmuon])\n",
    "\n",
    "goodelectron = (\n",
    "    (hww_root.Electron.pt > 10)\n",
    "    & (abs(hww_root.Electron.eta) < 2.5)\n",
    "    & (hww_root.Electron.cutBased >= 2) #events.Electron.LOOSE\n",
    ")\n",
    "nelectrons = ak.sum(goodelectron, axis=1)\n",
    "\n",
    "ntaus = ak.sum(\n",
    "    (\n",
    "        (hww_root.Tau.pt > 20)\n",
    "        & (abs(hww_root.Tau.eta) < 2.3)\n",
    "        & (hww_root.Tau.rawIso < 5)\n",
    "        & (hww_root.Tau.idDeepTau2017v2p1VSjet)\n",
    "        & ak.all(hww_root.Tau.metric_table(hww_root.Muon[goodmuon]) > 0.4, axis=2)\n",
    "        & ak.all(hww_root.Tau.metric_table(hww_root.Electron[goodelectron]) > 0.4, axis=2)\n",
    "    ),\n",
    "    axis=1,\n",
    ")\n",
    "\n",
    "nolepton = ((nmuons == 0) & (nelectrons == 0) & (ntaus == 0))\n",
    "\n",
    "onemuon = ((nmuons == 1) & (nelectrons == 0) & (ntaus == 0))"
   ]
  },
  {
   "cell_type": "code",
   "execution_count": 13,
   "id": "cb8d5a2c-e7b0-4b38-aedb-c53500646989",
   "metadata": {},
   "outputs": [],
   "source": [
    "with open('../skimmer/triggers.json', 'r') as f:\n",
    "    triggers = json.load(f)"
   ]
  },
  {
   "cell_type": "code",
   "execution_count": 15,
   "id": "b9bfdf11-a7a8-44e1-bfbb-83f0330658ea",
   "metadata": {},
   "outputs": [],
   "source": [
    "trigger = ak.zeros_like(ak.firsts(hww_root.FatJet.pt), dtype='bool')\n",
    "for t in triggers['2017']:\n",
    "    if t in hww_root.HLT.fields:\n",
    "        trigger = trigger | hww_root.HLT[t]\n",
    "trigger = ak.fill_none(trigger, False)"
   ]
  },
  {
   "cell_type": "code",
   "execution_count": 16,
   "id": "f32292a0-0f41-4691-bda7-37109d24cd5c",
   "metadata": {},
   "outputs": [],
   "source": [
    "fatjetSelect = (\n",
    "            (hww_root.FatJet.pt >= 450)\n",
    "            & (hww_root.FatJet.pt <= 1000)\n",
    "            & (abs(hww_root.FatJet.eta) <= 2.4)\n",
    "            & (hww_root.FatJet.msoftdrop >= 40)\n",
    "            & (hww_root.FatJet.msoftdrop <= 200)\n",
    "            & (nolepton)\n",
    "            # & (ak.fill_none(events.FatJet.delta_r(events.FatJet.nearest(events.Muon[goodmuon], axis=1)) > 0.8, True))\n",
    "            & (trigger)\n",
    "            & (hww_root.FatJet.btag_count == 0)\n",
    "        )\n",
    "genparts = hww_root.GenPart[\n",
    "    (abs(hww_root.GenPart.pdgId) == 25)\n",
    "    & hww_root.GenPart.hasFlags(['fromHardProcess', 'isLastCopy'])\n",
    "]\n",
    "parents = hww_root.FatJet.nearest(genparts, threshold=0.2)\n",
    "matched_jets = ~ak.is_none(parents, axis=1)\n",
    "fatjetSelect = ((fatjetSelect) & (matched_jets))"
   ]
  },
  {
   "cell_type": "code",
   "execution_count": 17,
   "id": "c034ec7a-90aa-4acd-a257-ab0e5808c683",
   "metadata": {},
   "outputs": [],
   "source": [
    "hww_root[\"goodjets\"] = hww_root.FatJet[fatjetSelect]\n",
    "mask = ~ak.is_none(ak.firsts(hww_root.goodjets))\n",
    "hww_root = hww_root[mask]"
   ]
  },
  {
   "cell_type": "code",
   "execution_count": 18,
   "id": "beac0396-40ab-4c8a-a887-10e4f303b073",
   "metadata": {},
   "outputs": [],
   "source": [
    "goodjets = hww_root.goodjets.compute()"
   ]
  },
  {
   "cell_type": "code",
   "execution_count": 23,
   "id": "f8317342-b052-4f37-ae57-5b1f8c08de45",
   "metadata": {},
   "outputs": [
    {
     "data": {
      "text/plain": [
       "['area',\n",
       " 'btagCSVV2',\n",
       " 'btagDDBvLV2',\n",
       " 'btagDDCvBV2',\n",
       " 'btagDDCvLV2',\n",
       " 'btagDeepB',\n",
       " 'btagHbb',\n",
       " 'deepTagMD_H4qvsQCD',\n",
       " 'deepTagMD_HbbvsQCD',\n",
       " 'deepTagMD_TvsQCD',\n",
       " 'deepTagMD_WvsQCD',\n",
       " 'deepTagMD_ZHbbvsQCD',\n",
       " 'deepTagMD_ZHccvsQCD',\n",
       " 'deepTagMD_ZbbvsQCD',\n",
       " 'deepTagMD_ZvsQCD',\n",
       " 'deepTagMD_bbvsLight',\n",
       " 'deepTagMD_ccvsLight',\n",
       " 'deepTag_H',\n",
       " 'deepTag_QCD',\n",
       " 'deepTag_QCDothers',\n",
       " 'deepTag_TvsQCD',\n",
       " 'deepTag_WvsQCD',\n",
       " 'deepTag_ZvsQCD',\n",
       " 'eta',\n",
       " 'mass',\n",
       " 'msoftdrop',\n",
       " 'n2b1',\n",
       " 'n3b1',\n",
       " 'particleNetMD_QCD',\n",
       " 'particleNetMD_Xbb',\n",
       " 'particleNetMD_Xcc',\n",
       " 'particleNetMD_Xqq',\n",
       " 'particleNet_H4qvsQCD',\n",
       " 'particleNet_HbbvsQCD',\n",
       " 'particleNet_HccvsQCD',\n",
       " 'particleNet_QCD',\n",
       " 'particleNet_TvsQCD',\n",
       " 'particleNet_WvsQCD',\n",
       " 'particleNet_ZvsQCD',\n",
       " 'particleNet_mass',\n",
       " 'phi',\n",
       " 'pt',\n",
       " 'rawFactor',\n",
       " 'tau1',\n",
       " 'tau2',\n",
       " 'tau3',\n",
       " 'tau4',\n",
       " 'lsf3',\n",
       " 'jetId',\n",
       " 'subJetIdx1',\n",
       " 'subJetIdx2',\n",
       " 'electronIdx3SJ',\n",
       " 'muonIdx3SJ',\n",
       " 'nConstituents',\n",
       " 'DDX_tau1_flightDistance2dSig',\n",
       " 'DDX_tau1_trackEtaRel_0',\n",
       " 'DDX_tau1_trackEtaRel_1',\n",
       " 'DDX_tau1_trackEtaRel_2',\n",
       " 'DDX_tau1_trackSip3dSig_0',\n",
       " 'DDX_tau1_trackSip3dSig_1',\n",
       " 'DDX_tau1_vertexDeltaR',\n",
       " 'DDX_tau1_vertexEnergyRatio',\n",
       " 'DDX_tau1_vertexMass',\n",
       " 'DDX_tau2_flightDistance2dSig',\n",
       " 'DDX_tau2_trackEtaRel_0',\n",
       " 'DDX_tau2_trackEtaRel_1',\n",
       " 'DDX_tau2_trackEtaRel_3',\n",
       " 'DDX_tau2_trackSip3dSig_0',\n",
       " 'DDX_tau2_trackSip3dSig_1',\n",
       " 'DDX_tau2_vertexEnergyRatio',\n",
       " 'DDX_tau2_vertexMass',\n",
       " 'DDX_trackSip2dSigAboveBottom_0',\n",
       " 'DDX_trackSip2dSigAboveBottom_1',\n",
       " 'DDX_trackSip2dSigAboveCharm',\n",
       " 'DDX_trackSip3dSig_0',\n",
       " 'DDX_trackSip3dSig_1',\n",
       " 'DDX_trackSip3dSig_2',\n",
       " 'DDX_trackSip3dSig_3',\n",
       " 'DDX_z_ratio',\n",
       " 'Proba',\n",
       " 'btagDeepB_b',\n",
       " 'btagDeepB_bb',\n",
       " 'btagDeepL',\n",
       " 'DDX_jetNSecondaryVertices',\n",
       " 'DDX_jetNTracks',\n",
       " 'nBHadrons',\n",
       " 'nCHadrons',\n",
       " 'genJetAK8Idx',\n",
       " 'hadronFlavour',\n",
       " 'genJetAK8IdxG',\n",
       " 'subJetIdx1G',\n",
       " 'subJetIdx2G',\n",
       " 'electronIdx3SJG',\n",
       " 'muonIdx3SJG',\n",
       " 'subJetIdxG',\n",
       " 'pFCandsIdxG',\n",
       " 'num_fatjets',\n",
       " 'btag_count']"
      ]
     },
     "execution_count": 23,
     "metadata": {},
     "output_type": "execute_result"
    }
   ],
   "source": [
    "goodjets.fields"
   ]
  },
  {
   "cell_type": "code",
   "execution_count": null,
   "id": "7317292a-8984-4950-97ee-d6598e14db15",
   "metadata": {},
   "outputs": [],
   "source": []
  }
 ],
 "metadata": {
  "kernelspec": {
   "display_name": "Python 3 (ipykernel)",
   "language": "python",
   "name": "python3"
  },
  "language_info": {
   "codemirror_mode": {
    "name": "ipython",
    "version": 3
   },
   "file_extension": ".py",
   "mimetype": "text/x-python",
   "name": "python",
   "nbconvert_exporter": "python",
   "pygments_lexer": "ipython3",
   "version": "3.11.9"
  }
 },
 "nbformat": 4,
 "nbformat_minor": 5
}
