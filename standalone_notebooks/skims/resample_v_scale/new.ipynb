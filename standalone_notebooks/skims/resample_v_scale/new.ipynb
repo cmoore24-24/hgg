{
 "cells": [
  {
   "cell_type": "code",
   "execution_count": 1,
   "id": "60e96f59-1b90-4587-abc4-e4d439e60ff5",
   "metadata": {},
   "outputs": [],
   "source": [
    "import numpy as np\n",
    "import awkward as ak\n",
    "import hist\n",
    "import warnings\n",
    "import pickle\n",
    "import matplotlib.pyplot as plt\n",
    "import math\n",
    "import os\n",
    "import uproot\n",
    "import json\n",
    "import gc"
   ]
  },
  {
   "cell_type": "code",
   "execution_count": 2,
   "id": "ad7f8a69-fd6b-48dd-901b-6b7ee8fbeeac",
   "metadata": {},
   "outputs": [],
   "source": [
    "warnings.filterwarnings('ignore', 'No format checks')"
   ]
  },
  {
   "cell_type": "code",
   "execution_count": 3,
   "id": "bb64c692-c720-4714-8eca-58c7419985f2",
   "metadata": {},
   "outputs": [],
   "source": [
    "path = '/project01/ndcms/cmoore24/skims/full_skims/nolepton/mc'"
   ]
  },
  {
   "cell_type": "code",
   "execution_count": 15,
   "id": "ccaa94b3-4a2c-4944-a4aa-e2e4d3a69daa",
   "metadata": {},
   "outputs": [],
   "source": [
    "columns = ['goodjets.pt', 'goodjets.pt', 'goodjets.btag_count', 'goodjets.trigger_mask', 'goodjets.msoftdrop']"
   ]
  },
  {
   "cell_type": "code",
   "execution_count": 16,
   "id": "85c3573f-59a9-4b53-81b9-82601574b315",
   "metadata": {},
   "outputs": [
    {
     "name": "stdout",
     "output_type": "stream",
     "text": [
      "qcd_1000to1400\n",
      "qcd_1400to1800\n",
      "qcd_1800to2400\n",
      "qcd_2400to3200\n",
      "qcd_3200toInf\n",
      "qcd_470to600\n",
      "qcd_600to800\n",
      "qcd_800to1000\n"
     ]
    }
   ],
   "source": [
    "qcd = {}\n",
    "files = os.listdir(f'{path}')\n",
    "for i in files:\n",
    "    if ('qcd' in i) and ('300' not in i):\n",
    "        print(i)\n",
    "        qcd[i.rstrip('.parquet')] = ak.from_parquet(f'{path}/{i}/fd*', columns=columns)"
   ]
  },
  {
   "cell_type": "code",
   "execution_count": 17,
   "id": "2128cf81-07af-4755-8d04-e497dd8aae6b",
   "metadata": {},
   "outputs": [],
   "source": [
    "def nan_remover(sample):\n",
    "    if type(sample) == dict:\n",
    "        for j in sample:\n",
    "            mask = ak.ones_like(sample[j][sample[j].fields[0]], dtype='bool')\n",
    "            mask = ak.fill_none(mask, True)\n",
    "            for k in sample[j].fields:\n",
    "                mask = mask & (~ak.is_none(ak.nan_to_none(sample[j][k])))\n",
    "            sample[j] = sample[j][mask]\n",
    "    else:\n",
    "        mask = ak.ones_like(sample[sample.fields[0]], dtype='bool')\n",
    "        mask = ak.fill_none(mask, True)\n",
    "        for j in sample.fields:\n",
    "            if sample[j].fields == []:\n",
    "                mask = mask & (~ak.is_none(ak.nan_to_none(sample[j])))\n",
    "            else:\n",
    "                for k in sample[j].fields:\n",
    "                    mask = mask & (~ak.is_none(ak.nan_to_none(sample[j][k])))\n",
    "        sample = sample[mask]\n",
    "    return mask"
   ]
  },
  {
   "cell_type": "code",
   "execution_count": 18,
   "id": "ed762bde-ff95-4b20-9de0-2efec73519ef",
   "metadata": {},
   "outputs": [],
   "source": [
    "for i in qcd:\n",
    "    # for j in qcd[i].fields:\n",
    "    #     if j == 'event':\n",
    "    #         continue\n",
    "    #     else:\n",
    "    #         qcd[i][j] = ak.firsts(qcd[i][j])\n",
    "    qcd[i] = qcd[i][qcd[i].goodjets.msoftdrop <= 170]\n",
    "    qcd[i] = qcd[i][qcd[i].goodjets.msoftdrop >= 80]\n",
    "    qcd[i] = qcd[i][qcd[i].goodjets.pt >= 475]\n",
    "    qcd[i] = qcd[i][qcd[i].goodjets.pt <= 950]\n",
    "    qcd[i] = qcd[i][qcd[i].goodjets.btag_count == 0]\n",
    "    qcd[i] = qcd[i][qcd[i].goodjets.trigger_mask]"
   ]
  },
  {
   "cell_type": "code",
   "execution_count": 19,
   "id": "d507df42-4eb2-4167-b46a-0e1a0b8306bb",
   "metadata": {},
   "outputs": [],
   "source": [
    "# for i in qcd:\n",
    "#     mask = (nan_remover(qcd[i]))\n",
    "#     qcd[i] = qcd[i][mask]"
   ]
  },
  {
   "cell_type": "code",
   "execution_count": 20,
   "id": "cd2f97dc-b311-424b-a97b-38f07b947f74",
   "metadata": {},
   "outputs": [],
   "source": [
    "IL = 44.99\n",
    "xsec = {}\n",
    "xsec['qcd_300to470'] = 6833 #1300\n",
    "xsec['qcd_470to600'] = 549.5\n",
    "xsec['qcd_600to800'] = 156.5\n",
    "xsec['qcd_800to1000'] = 26.22\n",
    "xsec['qcd_1000to1400'] = 7.475\n",
    "xsec['qcd_1400to1800'] = 0.6482\n",
    "xsec['qcd_1800to2400'] = 0.08742\n",
    "xsec['qcd_2400to3200'] = 0.005237\n",
    "xsec['qcd_3200toInf'] = 0.0001353"
   ]
  },
  {
   "cell_type": "code",
   "execution_count": 21,
   "id": "ff1115ed-2473-4e9e-b3b4-f8ef836f8936",
   "metadata": {},
   "outputs": [],
   "source": [
    "qcd_frac = {}\n",
    "for i in qcd:\n",
    "    qcd_frac[i] = ((xsec[i]*1000)*IL)/len(qcd[i])\n",
    "qcd_frac['tot'] = sum(qcd_frac.values())\n",
    "sval = {}\n",
    "for i in qcd:\n",
    "    sval[i] = qcd_frac[i]/qcd_frac['tot']\n",
    "combed = {}\n",
    "for i in list(qcd.keys()):\n",
    "    temp = qcd[i]\n",
    "    combed[i] = temp[np.random.rand(len(temp)) < sval[i]]\n",
    "    # del(qcd[i])\n",
    "    # gc.collect()\n",
    "qcd_stitched = ak.concatenate([combed[x] for x in combed])"
   ]
  },
  {
   "cell_type": "code",
   "execution_count": 22,
   "id": "f1d8bba7-d7c3-45c5-8f9e-78b554662b3c",
   "metadata": {},
   "outputs": [],
   "source": [
    "qcd_msd = qcd_stitched.goodjets.pt\n",
    "qcd_stitched_hist = hist.Hist.new.Reg(40, 475, 950, name='msd', label='QCD MSD').Weight()\n",
    "qcd_stitched_hist.fill(msd=qcd_msd);"
   ]
  },
  {
   "cell_type": "code",
   "execution_count": 23,
   "id": "772e0042-b5f4-4d02-8ac4-4d91b4dc77bf",
   "metadata": {},
   "outputs": [
    {
     "data": {
      "image/png": "[encoded data removed]",
      "text/plain": [
       "<Figure size 640x480 with 1 Axes>"
      ]
     },
     "metadata": {},
     "output_type": "display_data"
    }
   ],
   "source": [
    "qcd_stitched_hist.plot1d()\n",
    "#plt.yscale('log')\n",
    "plt.show()"
   ]
  },
  {
   "cell_type": "code",
   "execution_count": 24,
   "id": "dafddd20-8894-485c-89a3-fc2c61f0aa96",
   "metadata": {},
   "outputs": [],
   "source": [
    "qcd_hist_dict = {}\n",
    "for i in qcd:\n",
    "    temp_qcd_hist = hist.Hist.new.Reg(40, 475, 950, name='msd', label='QCD MSD').Weight()\n",
    "    temp_qcd_hist.fill(msd=qcd[i].goodjets.pt);\n",
    "    qcd_hist_dict[i] = temp_qcd_hist"
   ]
  },
  {
   "cell_type": "code",
   "execution_count": 26,
   "id": "a65187ef-14e9-4dc0-adf6-5d3313b7ecac",
   "metadata": {},
   "outputs": [],
   "source": [
    "path = '/scratch365/cmoore24/training/hgg/batch2024/ml_results_checking'\n",
    "with open(f'{path}/subregion_event_totals.json', 'r') as f:\n",
    "    totals = json.load(f)\n",
    "del(totals['ww4q'])"
   ]
  },
  {
   "cell_type": "code",
   "execution_count": 27,
   "id": "0263a009-d13e-4dfa-81ad-1e595fbfe8ec",
   "metadata": {},
   "outputs": [],
   "source": [
    "with open(f'{path}/my_xsecs.json', 'r') as f:\n",
    "    xsecs = json.load(f)"
   ]
  },
  {
   "cell_type": "code",
   "execution_count": 28,
   "id": "6765180c-b4de-48c1-89d5-48e906f6dde5",
   "metadata": {},
   "outputs": [],
   "source": [
    "xsecs2 = {}\n",
    "for i in xsecs:\n",
    "    if type(xsecs[i]) == dict:\n",
    "        for j in xsecs[i]:\n",
    "            xsecs2[j] = xsecs[i][j]\n",
    "    else:\n",
    "        xsecs2[i] = xsecs[i]\n",
    "xsecs = xsecs2"
   ]
  },
  {
   "cell_type": "code",
   "execution_count": 29,
   "id": "19b8968b-b327-44e0-84a1-4f0f34846c16",
   "metadata": {},
   "outputs": [],
   "source": [
    "totals2 = {}\n",
    "for i in totals:\n",
    "    if type(totals[i]) == dict:\n",
    "        for j in totals[i]:\n",
    "            totals2[f'{i}_{j}'] = totals[i][j]\n",
    "    else:\n",
    "        totals2[i] = totals[i]\n",
    "totals = totals2"
   ]
  },
  {
   "cell_type": "code",
   "execution_count": 30,
   "id": "e3527068-bdd1-4d83-8d71-c182076922f4",
   "metadata": {},
   "outputs": [],
   "source": [
    "for i in qcd_hist_dict:\n",
    "    scale = ((44.99*(xsecs[i]*1000))/totals[i])\n",
    "    qcd_hist_dict[i].view(flow=True)[:] *= scale"
   ]
  },
  {
   "cell_type": "code",
   "execution_count": 31,
   "id": "bc0986f0-cbb9-4a82-b3fe-19a1c4c4dbfb",
   "metadata": {},
   "outputs": [],
   "source": [
    "qcd_hist = sum(value for key, value in qcd_hist_dict.items())"
   ]
  },
  {
   "cell_type": "code",
   "execution_count": 32,
   "id": "a911d432-301b-4a1d-b614-8c40b201b618",
   "metadata": {},
   "outputs": [
    {
     "data": {
      "image/png": "[encoded data removed]",
      "text/plain": [
       "<Figure size 640x480 with 1 Axes>"
      ]
     },
     "metadata": {},
     "output_type": "display_data"
    }
   ],
   "source": [
    "qcd_hist.plot1d()\n",
    "#plt.yscale('log')\n",
    "plt.show()"
   ]
  },
  {
   "cell_type": "code",
   "execution_count": 33,
   "id": "91e4ca8c-fa63-452f-ae67-6232931f8808",
   "metadata": {},
   "outputs": [
    {
     "data": {
      "image/png": "[encoded data removed]",
      "text/plain": [
       "<Figure size 640x480 with 1 Axes>"
      ]
     },
     "metadata": {},
     "output_type": "display_data"
    }
   ],
   "source": [
    "qcd_stitched_hist.plot1d(density=True, label='Stitched')\n",
    "qcd_hist.plot1d(density=True, label='Scaled')\n",
    "#plt.yscale('log')\n",
    "plt.legend()\n",
    "plt.show()"
   ]
  },
  {
   "cell_type": "code",
   "execution_count": null,
   "id": "2bb8065c-9c90-4cf9-9a38-d6c6f634926e",
   "metadata": {},
   "outputs": [],
   "source": [
    "#ak.to_parquet(qcd_stitched, '/project01/ndcms/cmoore24/skims/reduced_skims/stitched_qcd/qcd_ecfs.parquet')"
   ]
  },
  {
   "cell_type": "code",
   "execution_count": 27,
   "id": "a782a39a-8eef-4b01-b600-ef47edc0040f",
   "metadata": {},
   "outputs": [
    {
     "data": {
      "text/plain": [
       "2889434"
      ]
     },
     "execution_count": 27,
     "metadata": {},
     "output_type": "execute_result"
    }
   ],
   "source": [
    "len(qcd_stitched)"
   ]
  },
  {
   "cell_type": "code",
   "execution_count": null,
   "id": "136e2f81-c898-4c48-98a5-017d0bbbc9b5",
   "metadata": {},
   "outputs": [],
   "source": []
  }
 ],
 "metadata": {
  "kernelspec": {
   "display_name": "Python 3 (ipykernel)",
   "language": "python",
   "name": "python3"
  },
  "language_info": {
   "codemirror_mode": {
    "name": "ipython",
    "version": 3
   },
   "file_extension": ".py",
   "mimetype": "text/x-python",
   "name": "python",
   "nbconvert_exporter": "python",
   "pygments_lexer": "ipython3",
   "version": "3.11.9"
  }
 },
 "nbformat": 4,
 "nbformat_minor": 5
}
