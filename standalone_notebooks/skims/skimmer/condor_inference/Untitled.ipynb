{
 "cells": [
  {
   "cell_type": "code",
   "execution_count": 1,
   "id": "65f44c59-7d75-405f-bb2d-0b9cf2da257a",
   "metadata": {},
   "outputs": [],
   "source": [
    "import xgboost as xgb\n",
    "import awkward as ak\n",
    "import warnings\n",
    "import pickle\n",
    "import os\n",
    "import json\n",
    "import numpy as np\n",
    "import matplotlib.pyplot as plt"
   ]
  },
  {
   "cell_type": "code",
   "execution_count": 2,
   "id": "f04397a1-dbef-4578-b9f9-40ef2aa67fba",
   "metadata": {},
   "outputs": [],
   "source": [
    "warnings.filterwarnings('ignore', 'invalid value')\n",
    "warnings.filterwarnings('ignore', 'No format')\n",
    "warnings.filterwarnings('ignore', 'overflow encountered in exp')"
   ]
  },
  {
   "cell_type": "code",
   "execution_count": 3,
   "id": "b17a6182-8a50-444f-8505-26ce13124b42",
   "metadata": {},
   "outputs": [],
   "source": [
    "path = '/project01/ndcms/cmoore24/skims/analysis_skims/2017/nolepton/hgg/keep*.parquet'"
   ]
  },
  {
   "cell_type": "code",
   "execution_count": 4,
   "id": "e5f42cd3-ee2f-4f67-b7f0-13e590167f79",
   "metadata": {},
   "outputs": [],
   "source": [
    "def add_ratios(ratio, array):\n",
    "    dash = ratio.find('/')\n",
    "    asterisk = ratio.find('*')\n",
    "    numerator = ratio[4:dash]\n",
    "    denominator = ratio[dash+1:asterisk]\n",
    "    exponent = float(ratio[asterisk+2:].replace('_','.'))\n",
    "    if ratio[:3] == 'grm':\n",
    "        num_ecf = array.groomed_ecfs[numerator]\n",
    "        den_ecf = array.groomed_ecfs[denominator]\n",
    "    elif ratio[:3] == 'ugm':\n",
    "        num_ecf = array.ungroomed_ecfs[numerator]\n",
    "        den_ecf = array.ungroomed_ecfs[denominator]\n",
    "    ecf_ratio = (num_ecf / (den_ecf**exponent))   \n",
    "    return ecf_ratio"
   ]
  },
  {
   "cell_type": "code",
   "execution_count": 5,
   "id": "541c5ed8-4bd4-4d1d-924d-85c97bf66094",
   "metadata": {},
   "outputs": [],
   "source": [
    "# def nan_remover(sample):\n",
    "#     if type(sample) == dict:\n",
    "#         for j in sample:\n",
    "#             mask = ak.ones_like(sample[j][sample[j].fields[0]], dtype='bool')\n",
    "#             mask = ak.fill_none(mask, True)\n",
    "#             for k in sample[j].fields:\n",
    "#                 mask = mask & (~ak.is_none(ak.nan_to_none(sample[j][k])))\n",
    "#             sample[j] = sample[j][mask]\n",
    "#     else:\n",
    "#         mask = ak.ones_like(sample[sample.fields[0]], dtype='bool')\n",
    "#         mask = ak.fill_none(mask, True)\n",
    "#         for j in sample.fields:\n",
    "#             if sample[j].fields == []:\n",
    "#                 mask = mask & (~ak.is_none(ak.nan_to_none(sample[j])))\n",
    "#             else:\n",
    "#                 for k in sample[j].fields:\n",
    "#                     mask = mask & (~ak.is_none(ak.nan_to_none(sample[j][k])))\n",
    "#         sample = sample[mask]\n",
    "#     return mask"
   ]
  },
  {
   "cell_type": "code",
   "execution_count": 6,
   "id": "10b98119-1fbf-43ec-9837-945146a5955c",
   "metadata": {},
   "outputs": [],
   "source": [
    "ratios = 160\n",
    "\n",
    "model_path = f'/scratch365/cmoore24/training/hgg/final_draft_dev/QCDgg/outputs/{ratios}'\n",
    "\n",
    "bst = xgb.Booster()\n",
    "bst.load_model(f'{model_path}/bdt_model.json')\n",
    "\n",
    "scaler = f'{model_path}/scaler.pkl'\n",
    "with open(scaler, 'rb') as f:\n",
    "    scaler = pickle.load(f)\n",
    "\n",
    "feature_names = bst.feature_names"
   ]
  },
  {
   "cell_type": "code",
   "execution_count": 7,
   "id": "3e469c56-61d4-4836-b83d-a505de1cb5a4",
   "metadata": {},
   "outputs": [],
   "source": [
    "file = ak.from_parquet(path)"
   ]
  },
  {
   "cell_type": "code",
   "execution_count": 8,
   "id": "8f2b74d5-b742-4367-a981-056fe26c302d",
   "metadata": {},
   "outputs": [],
   "source": [
    "# file = file[nan_remover(file)]"
   ]
  },
  {
   "cell_type": "code",
   "execution_count": 9,
   "id": "19468c43-517c-444f-82bd-73ab2d5259a2",
   "metadata": {},
   "outputs": [],
   "source": [
    "ecf_ratios = {}\n",
    "\n",
    "for i in feature_names:\n",
    "    ecf_ratios[i] = add_ratios(i, file)\n",
    "\n",
    "ecf_ratios = ak.zip(ecf_ratios, depth_limit=1)"
   ]
  },
  {
   "cell_type": "code",
   "execution_count": 10,
   "id": "7835f932-7228-4b13-bc56-47951cdf35d9",
   "metadata": {},
   "outputs": [],
   "source": [
    "file_np = np.column_stack([ak.to_numpy(ecf_ratios[feature]) for feature in feature_names])\n",
    "file_np = scaler.transform(file_np)\n",
    "file_xgb = xgb.DMatrix(file_np, feature_names=feature_names)"
   ]
  },
  {
   "cell_type": "code",
   "execution_count": 11,
   "id": "f9507a48-ffd3-490f-bd0d-8ddcd854e07a",
   "metadata": {},
   "outputs": [],
   "source": [
    "a = bst.predict(file_xgb)"
   ]
  },
  {
   "cell_type": "code",
   "execution_count": 14,
   "id": "68d68fe6-1f44-4d80-8ed1-f468de97e3ff",
   "metadata": {},
   "outputs": [
    {
     "data": {
      "image/png": "[encoded data removed]",
      "text/plain": [
       "<Figure size 640x480 with 1 Axes>"
      ]
     },
     "metadata": {},
     "output_type": "display_data"
    }
   ],
   "source": [
    "plt.hist(a, bins=40, histtype='step')\n",
    "plt.show()"
   ]
  },
  {
   "cell_type": "code",
   "execution_count": null,
   "id": "3e02df94-2524-421b-8cf7-5ba50d4b9081",
   "metadata": {},
   "outputs": [],
   "source": []
  }
 ],
 "metadata": {
  "kernelspec": {
   "display_name": "Python 3 (ipykernel)",
   "language": "python",
   "name": "python3"
  },
  "language_info": {
   "codemirror_mode": {
    "name": "ipython",
    "version": 3
   },
   "file_extension": ".py",
   "mimetype": "text/x-python",
   "name": "python",
   "nbconvert_exporter": "python",
   "pygments_lexer": "ipython3",
   "version": "3.11.9"
  }
 },
 "nbformat": 4,
 "nbformat_minor": 5
}
