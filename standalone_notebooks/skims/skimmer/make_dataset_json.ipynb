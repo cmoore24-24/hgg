{
 "cells": [
  {
   "cell_type": "code",
   "execution_count": 1,
   "id": "b4a51aab-05b7-4e99-9de6-cf24f16815a2",
   "metadata": {},
   "outputs": [],
   "source": [
    "import json\n",
    "import dask\n",
    "import dask_awkward as dak\n",
    "import awkward as ak\n",
    "import matplotlib.pyplot\n",
    "from coffea import dataset_tools\n",
    "from coffea.nanoevents import NanoEventsFactory, PFNanoAODSchema\n",
    "import pickle\n",
    "import os\n",
    "import warnings"
   ]
  },
  {
   "cell_type": "code",
   "execution_count": 2,
   "id": "a397f652-012d-4cfe-b5ff-dc6065b5e04c",
   "metadata": {},
   "outputs": [],
   "source": [
    "warnings.filterwarnings(\"ignore\", module=\"coffea.*\")\n",
    "warnings.filterwarnings(\"ignore\", \"Found duplicate branch\")\n",
    "warnings.filterwarnings(\"ignore\", \"Missing cross-reference index for\")\n",
    "warnings.filterwarnings(\"ignore\", \"dcut\")\n",
    "warnings.filterwarnings(\"ignore\", \"Please ensure\")\n",
    "warnings.filterwarnings(\"ignore\", \"invalid value\")"
   ]
  },
  {
   "cell_type": "code",
   "execution_count": 3,
   "id": "f8eb0ba3-e760-4c75-ad9f-573004256467",
   "metadata": {},
   "outputs": [
    {
     "name": "stdout",
     "output_type": "stream",
     "text": [
      "['JetHT_Run2017B', 'JetHT_Run2017C', 'JetHT_Run2017D', 'JetHT_Run2017E', 'JetHT_Run2017F', 'flat400']\n"
     ]
    }
   ],
   "source": [
    "samples_path = '/project01/ndcms/cmoore24/samples'\n",
    "filelist = {}\n",
    "categories = os.listdir(samples_path)\n",
    "print(categories)\n",
    "for i in categories:\n",
    "    if '.root' in os.listdir(f'{samples_path}/{i}')[0]:\n",
    "        files = os.listdir(f'{samples_path}/{i}')\n",
    "        filelist[i] = [f'{samples_path}/{i}/{file}' for file in files]\n",
    "    else:\n",
    "        sub_cats = os.listdir(f'{samples_path}/{i}')\n",
    "        for j in sub_cats:\n",
    "            if '.root' in os.listdir(f'{samples_path}/{i}/{j}')[0]:\n",
    "                files = os.listdir(f'{samples_path}/{i}/{j}')\n",
    "                filelist[f'{i}_{j}'] = [f'{samples_path}/{i}/{j}/{file}' for file in files]"
   ]
  },
  {
   "cell_type": "code",
   "execution_count": 4,
   "id": "f94308ee-ec6e-44ee-91ee-49cb9a1988b0",
   "metadata": {},
   "outputs": [],
   "source": [
    "dict = {}\n",
    "for i in filelist:\n",
    "    dict[i] = {}\n",
    "    dict[i]['files'] = {}\n",
    "    for j in filelist[i]:\n",
    "        dict[i]['files'][j] = {'object_path': 'Events'}"
   ]
  },
  {
   "cell_type": "code",
   "execution_count": 5,
   "id": "16af04bb-1693-4a94-afab-ec6715c3857e",
   "metadata": {},
   "outputs": [
    {
     "data": {
      "text/plain": [
       "dict_keys(['JetHT_Run2017B_220701_194050', 'JetHT_Run2017B_240313_161752', 'JetHT_Run2017C_220701_194023', 'JetHT_Run2017D_220701_193930', 'JetHT_Run2017D_240313_161628', 'JetHT_Run2017E_220701_193905', 'JetHT_Run2017E_240313_161541', 'JetHT_Run2017F_220701_193956', 'JetHT_Run2017F_220701_193956_2', 'JetHT_Run2017F_240313_161657', 'flat400_mass100', 'flat400_mass105', 'flat400_mass110', 'flat400_mass115', 'flat400_mass120', 'flat400_mass125', 'flat400_mass130', 'flat400_mass135', 'flat400_mass140', 'flat400_mass145', 'flat400_mass150', 'flat400_mass155', 'flat400_mass160', 'flat400_mass165', 'flat400_mass170', 'flat400_mass175', 'flat400_mass180', 'flat400_mass70', 'flat400_mass75', 'flat400_mass80', 'flat400_mass85', 'flat400_mass90', 'flat400_mass95'])"
      ]
     },
     "execution_count": 5,
     "metadata": {},
     "output_type": "execute_result"
    }
   ],
   "source": [
    "dict.keys()"
   ]
  },
  {
   "cell_type": "code",
   "execution_count": 5,
   "id": "5118c851-5bc5-4092-be28-5133eb1d9e14",
   "metadata": {},
   "outputs": [],
   "source": [
    "sub_dict = {}"
   ]
  },
  {
   "cell_type": "code",
   "execution_count": 6,
   "id": "100928b0-a096-42a2-8bbd-bbd12f254af0",
   "metadata": {},
   "outputs": [],
   "source": [
    "for i in dict:\n",
    "    if 'tthadronic' in i:\n",
    "        sub_dict[i] = dict[i]\n",
    "    else:\n",
    "        continue"
   ]
  },
  {
   "cell_type": "code",
   "execution_count": 9,
   "id": "916e8df1-69a0-47a1-882d-7fd4d74f8ca3",
   "metadata": {},
   "outputs": [
    {
     "data": {
      "text/plain": [
       "1"
      ]
     },
     "execution_count": 9,
     "metadata": {},
     "output_type": "execute_result"
    }
   ],
   "source": [
    "len(sub_dict.keys())"
   ]
  },
  {
   "cell_type": "code",
   "execution_count": 6,
   "id": "02c49c35-8236-4c12-87ae-c1020966c70c",
   "metadata": {
    "scrolled": true
   },
   "outputs": [],
   "source": [
    "with open('input_datasets.json', 'w') as fin:\n",
    "    json.dump(dict, fin)"
   ]
  },
  {
   "cell_type": "code",
   "execution_count": null,
   "id": "3199dd65-73e9-4a3a-9af7-9f3ff5ba11d5",
   "metadata": {},
   "outputs": [],
   "source": [
    "@dask.delayed\n",
    "def sampler(samples):\n",
    "    samples_ready, samples = dataset_tools.preprocess(\n",
    "        samples,\n",
    "        step_size=50_000,\n",
    "        skip_bad_files=True,\n",
    "        recalculate_steps=True,\n",
    "        save_form=False,\n",
    "    )\n",
    "    return samples_ready"
   ]
  },
  {
   "cell_type": "code",
   "execution_count": null,
   "id": "714b08a0-2404-485e-b6ba-49bd4f4069de",
   "metadata": {},
   "outputs": [],
   "source": [
    "sampler_dict = {}\n",
    "for i in dict:\n",
    "    sampler_dict[i] = sampler(dict[i])"
   ]
  },
  {
   "cell_type": "code",
   "execution_count": 11,
   "id": "2cfe652a-351a-4446-8754-7d37df47b116",
   "metadata": {},
   "outputs": [],
   "source": [
    "with open('samples_ready.json', 'r') as f:\n",
    "    b = json.load(f)"
   ]
  },
  {
   "cell_type": "code",
   "execution_count": 12,
   "id": "f805a10c-e999-4e65-9ac7-9e9a1a43eaf2",
   "metadata": {
    "scrolled": true
   },
   "outputs": [
    {
     "data": {
      "text/plain": [
       "['JetHT_Run2017B_220701_194050',\n",
       " 'JetHT_Run2017B_240313_161752',\n",
       " 'JetHT_Run2017C_220701_194023',\n",
       " 'JetHT_Run2017D_220701_193930',\n",
       " 'JetHT_Run2017D_240313_161628',\n",
       " 'JetHT_Run2017E_220701_193905',\n",
       " 'JetHT_Run2017E_240313_161541',\n",
       " 'JetHT_Run2017F_220701_193956',\n",
       " 'JetHT_Run2017F_220701_193956_2',\n",
       " 'JetHT_Run2017F_240313_161657']"
      ]
     },
     "execution_count": 12,
     "metadata": {},
     "output_type": "execute_result"
    }
   ],
   "source": [
    "list(b.keys())"
   ]
  },
  {
   "cell_type": "code",
   "execution_count": null,
   "id": "72432721-e5d7-44b7-9c35-4239eb3ccf9f",
   "metadata": {},
   "outputs": [],
   "source": []
  }
 ],
 "metadata": {
  "kernelspec": {
   "display_name": "Python 3 (ipykernel)",
   "language": "python",
   "name": "python3"
  },
  "language_info": {
   "codemirror_mode": {
    "name": "ipython",
    "version": 3
   },
   "file_extension": ".py",
   "mimetype": "text/x-python",
   "name": "python",
   "nbconvert_exporter": "python",
   "pygments_lexer": "ipython3",
   "version": "3.11.9"
  }
 },
 "nbformat": 4,
 "nbformat_minor": 5
}
