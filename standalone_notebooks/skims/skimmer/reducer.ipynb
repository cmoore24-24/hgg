{
 "cells": [
  {
   "cell_type": "code",
   "execution_count": 1,
   "id": "b6d704d7-cfbe-49d7-bdcb-c2f80e69d9a5",
   "metadata": {},
   "outputs": [],
   "source": [
    "import os\n",
    "import awkward as ak\n",
    "import math\n",
    "import json\n",
    "import subprocess"
   ]
  },
  {
   "cell_type": "code",
   "execution_count": 2,
   "id": "f8c52929-0530-495b-adad-ca9829bb8adf",
   "metadata": {},
   "outputs": [],
   "source": [
    "def parq_reduce(dir_name):\n",
    "    a = ak.from_parquet(f'{dir_name}/*')\n",
    "    size = len(a)\n",
    "    one = math.floor(size / 6) * 1\n",
    "    two = math.floor(size / 6) * 2\n",
    "    three = math.floor(size / 6) * 3\n",
    "    four = math.floor(size / 6) * 4\n",
    "    five = math.floor(size / 6) * 5\n",
    "    c = a[:one]\n",
    "    d = a[one:two]\n",
    "    e = a[two:three]\n",
    "    f = a[three:four]\n",
    "    g = a[four:five]\n",
    "    h = a[five:]\n",
    "    del(a)\n",
    "    ak.to_parquet(c, f'{dir_name}/keep0.parquet')\n",
    "    ak.to_parquet(d, f'{dir_name}/keep1.parquet')\n",
    "    ak.to_parquet(e, f'{dir_name}/keep2.parquet')\n",
    "    ak.to_parquet(f, f'{dir_name}/keep3.parquet')\n",
    "    ak.to_parquet(g, f'{dir_name}/keep4.parquet')\n",
    "    ak.to_parquet(h, f'{dir_name}/keep5.parquet')\n",
    "    subprocess.run(f'find {dir_name} -name \"part*.parquet\" -exec rm {{}} +', shell=True, check=True)"
   ]
  },
  {
   "cell_type": "code",
   "execution_count": null,
   "id": "1174b4c5-d639-4fcb-ad44-deeee2234c78",
   "metadata": {},
   "outputs": [
    {
     "name": "stdout",
     "output_type": "stream",
     "text": [
      "Reducing JetHT_Run2017B_220701_194050\n"
     ]
    }
   ],
   "source": [
    "path = \"/project01/ndcms/cmoore24/skims/full_skims/nolepton/data\"\n",
    "with open('to_reduce.json', 'r') as f:\n",
    "    batch = json.load(f)\n",
    "# batch = ['tthadronic', 'diboson_ww', 'diboson_wz', 'diboson_zz', 'wqq_200to400',\n",
    "#             'wqq_400to600', 'wqq_600to800', 'zqq_200to400', 'zqq_400to600', 'zqq_600to800']\n",
    "for i in batch:\n",
    "    print(f'Reducing {i}')\n",
    "    parq_reduce(f'{path}/{i}')"
   ]
  },
  {
   "cell_type": "code",
   "execution_count": null,
   "id": "b805bb96-5d56-4e2d-af56-10f7029a2862",
   "metadata": {},
   "outputs": [],
   "source": []
  }
 ],
 "metadata": {
  "kernelspec": {
   "display_name": "Python 3 (ipykernel)",
   "language": "python",
   "name": "python3"
  },
  "language_info": {
   "codemirror_mode": {
    "name": "ipython",
    "version": 3
   },
   "file_extension": ".py",
   "mimetype": "text/x-python",
   "name": "python",
   "nbconvert_exporter": "python",
   "pygments_lexer": "ipython3",
   "version": "3.11.9"
  }
 },
 "nbformat": 4,
 "nbformat_minor": 5
}
