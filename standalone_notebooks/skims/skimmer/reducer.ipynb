{
 "cells": [
  {
   "cell_type": "code",
   "execution_count": 1,
   "id": "b6d704d7-cfbe-49d7-bdcb-c2f80e69d9a5",
   "metadata": {},
   "outputs": [],
   "source": [
    "import os\n",
    "import awkward as ak\n",
    "import math\n",
    "import json\n",
    "import subprocess"
   ]
  },
  {
   "cell_type": "code",
   "execution_count": 2,
   "id": "f8c52929-0530-495b-adad-ca9829bb8adf",
   "metadata": {},
   "outputs": [],
   "source": [
    "def parq_reduce(dir_name):\n",
    "    a = ak.from_parquet(f'{dir_name}/part*')\n",
    "    size = len(a)\n",
    "    diff = size / 12\n",
    "    for i in range(0,12):\n",
    "        if i < 11:\n",
    "            ak.to_parquet(a[diff*i:diff*(i+1)], f'{dir_name}/keep{i}.parquet')\n",
    "        else:\n",
    "            ak.to_parquet(a[diff*i:], f'{dir_name}/keep{i}.parquet')\n",
    "  \n",
    "    subprocess.run(f'find {dir_name} -name \"part*.parquet\" -exec rm {{}} +', shell=True, check=True)"
   ]
  },
  {
   "cell_type": "code",
   "execution_count": 3,
   "id": "1174b4c5-d639-4fcb-ad44-deeee2234c78",
   "metadata": {},
   "outputs": [
    {
     "name": "stdout",
     "output_type": "stream",
     "text": [
      "Reducing qcd_1000to1400\n",
      "Reducing qcd_1400to1800\n",
      "Reducing qcd_1800to2400\n",
      "Reducing qcd_2400to3200\n",
      "Reducing qcd_3200toInf\n",
      "Reducing qcd_470to600\n",
      "Reducing qcd_600to800\n",
      "Reducing qcd_800to1000\n"
     ]
    }
   ],
   "source": [
    "path = \"/project01/ndcms/cmoore24/skims/jet_skims/nolepton/mc/comparison\"\n",
    "for i in os.listdir(path):\n",
    "    if 'qcd' in i:\n",
    "        print(f'Reducing {i}')\n",
    "        parq_reduce(f'{path}/{i}')\n",
    "    else:\n",
    "        continue"
   ]
  },
  {
   "cell_type": "code",
   "execution_count": null,
   "id": "b805bb96-5d56-4e2d-af56-10f7029a2862",
   "metadata": {},
   "outputs": [],
   "source": []
  }
 ],
 "metadata": {
  "kernelspec": {
   "display_name": "Python 3 (ipykernel)",
   "language": "python",
   "name": "python3"
  },
  "language_info": {
   "codemirror_mode": {
    "name": "ipython",
    "version": 3
   },
   "file_extension": ".py",
   "mimetype": "text/x-python",
   "name": "python",
   "nbconvert_exporter": "python",
   "pygments_lexer": "ipython3",
   "version": "3.11.9"
  }
 },
 "nbformat": 4,
 "nbformat_minor": 5
}
