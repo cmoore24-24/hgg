{
 "cells": [
  {
   "cell_type": "code",
   "execution_count": 1,
   "id": "b6d704d7-cfbe-49d7-bdcb-c2f80e69d9a5",
   "metadata": {
    "editable": true,
    "slideshow": {
     "slide_type": ""
    },
    "tags": []
   },
   "outputs": [],
   "source": [
    "import os\n",
    "import awkward as ak\n",
    "import math\n",
    "import json\n",
    "import subprocess\n",
    "from coffea.nanoevents.methods.nanoaod import behavior\n",
    "import gc\n",
    "import numpy as np"
   ]
  },
  {
   "cell_type": "code",
   "execution_count": 2,
   "id": "f8c52929-0530-495b-adad-ca9829bb8adf",
   "metadata": {},
   "outputs": [],
   "source": [
    "def parq_reduce(dir_name):\n",
    "    # a = ak.from_parquet(f'{dir_name}/part*', behavior=behavior)\n",
    "    # gc.collect()\n",
    "    # size = len(a)\n",
    "    # diff = size / 12\n",
    "    # for i in range(0,12):\n",
    "    #     if i < 11:\n",
    "    #         ak.to_parquet(a[diff*i:diff*(i+1)], f'{dir_name}/keep{i}.parquet', extensionarray=True)\n",
    "    #     else:\n",
    "    #         ak.to_parquet(a[diff*i:], f'{dir_name}/keep{i}.parquet', extensionarray=True)\n",
    "  \n",
    "    subprocess.run(f'find {dir_name} -name \"part*.parquet\" -exec rm {{}} +', shell=True, check=True)\n",
    "    subprocess.run(f'find {dir_name} -name \"reduced*.parquet\" -exec rm {{}} +', shell=True, check=True)\n",
    "    gc.collect()"
   ]
  },
  {
   "cell_type": "code",
   "execution_count": 3,
   "id": "1174b4c5-d639-4fcb-ad44-deeee2234c78",
   "metadata": {},
   "outputs": [
    {
     "name": "stdout",
     "output_type": "stream",
     "text": [
      "Reducing hgg\n"
     ]
    }
   ],
   "source": [
    "path = \"/project01/ndcms/cmoore24/skims/analysis_skims/2017/nolepton/mc\"\n",
    "for i in os.listdir(path):\n",
    "    if 'hgg' in i:\n",
    "        try:\n",
    "            print(f'Reducing {i}')\n",
    "            parq_reduce(f'{path}/{i}')\n",
    "        except:\n",
    "            pass"
   ]
  },
  {
   "cell_type": "code",
   "execution_count": null,
   "id": "07ccfa60-fa0e-4bc8-b1b6-640807539148",
   "metadata": {},
   "outputs": [],
   "source": []
  }
 ],
 "metadata": {
  "kernelspec": {
   "display_name": "Python 3 (ipykernel)",
   "language": "python",
   "name": "python3"
  },
  "language_info": {
   "codemirror_mode": {
    "name": "ipython",
    "version": 3
   },
   "file_extension": ".py",
   "mimetype": "text/x-python",
   "name": "python",
   "nbconvert_exporter": "python",
   "pygments_lexer": "ipython3",
   "version": "3.9.23"
  }
 },
 "nbformat": 4,
 "nbformat_minor": 5
}
