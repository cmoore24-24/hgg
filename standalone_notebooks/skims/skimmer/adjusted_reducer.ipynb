{
 "cells": [
  {
   "cell_type": "code",
   "execution_count": 45,
   "id": "bbcffaaf",
   "metadata": {},
   "outputs": [],
   "source": [
    "import awkward as ak\n",
    "import os\n",
    "import subprocess\n",
    "import shutil\n",
    "import glob"
   ]
  },
  {
   "cell_type": "code",
   "execution_count": 61,
   "id": "89359b0c-cdca-4ff6-9c59-beba168ad791",
   "metadata": {},
   "outputs": [],
   "source": [
    "region = 'singlemuon'\n",
    "dset = 'ttboosted_1000toInf_part_'"
   ]
  },
  {
   "cell_type": "code",
   "execution_count": 62,
   "id": "4258b376",
   "metadata": {},
   "outputs": [
    {
     "name": "stdout",
     "output_type": "stream",
     "text": [
      "Processing ttboosted_1000toInf_part_001\n",
      "Processing ttboosted_1000toInf_part_002\n",
      "Processing ttboosted_1000toInf_part_003\n",
      "Processing ttboosted_1000toInf_part_004\n",
      "Processing ttboosted_1000toInf_part_005\n",
      "Processing ttboosted_1000toInf_part_006\n"
     ]
    }
   ],
   "source": [
    "for i in os.listdir(f'/project01/ndcms/cmoore24/skims/full_skims/{region}/mc/2017'):\n",
    "    if (f'{dset}' in i):\n",
    "        try:\n",
    "            print(f'Processing {i}')\n",
    "            arr = ak.from_parquet(f'/project01/ndcms/cmoore24/skims/full_skims/{region}/mc/2017/{i}/part*')\n",
    "            size = len(arr)\n",
    "            diff = size / 2\n",
    "            for j in range(0,2):\n",
    "                if j < 1:\n",
    "                    ak.to_parquet(arr[diff*j:diff*(j+1)], f'/project01/ndcms/cmoore24/skims/full_skims/{region}/mc/2017/{i}/keep{j}.parquet')\n",
    "                else:\n",
    "                    ak.to_parquet(arr[diff*j:], f'/project01/ndcms/cmoore24/skims/full_skims/{region}/mc/2017/{i}/keep{j}.parquet')\n",
    "    \n",
    "            subprocess.run(f'find /project01/ndcms/cmoore24/skims/full_skims/{region}/mc/2017/{i} -name \"part*.parquet\" -exec rm {{}} +', shell=True, check=True)\n",
    "        except:\n",
    "            continue"
   ]
  },
  {
   "cell_type": "code",
   "execution_count": 63,
   "id": "d270fad0",
   "metadata": {},
   "outputs": [],
   "source": [
    "base_path = f'/project01/ndcms/cmoore24/skims/full_skims/{region}/mc/2017'\n",
    "output_dirs = {}\n",
    "\n",
    "counter = 0\n",
    "\n",
    "for d in sorted(os.listdir(base_path)):\n",
    "    full_dir = os.path.join(base_path, d)\n",
    "    if not os.path.isdir(full_dir):\n",
    "        continue\n",
    "    if not d.startswith(f'{dset}'):\n",
    "        continue\n",
    "\n",
    "    base_name = d.rsplit('_', 2)[0]\n",
    "    out_dir = os.path.join(base_path, base_name)\n",
    "    os.makedirs(out_dir, exist_ok=True)\n",
    "\n",
    "    for f in sorted(glob.glob(os.path.join(full_dir, 'keep*.parquet'))):\n",
    "        new_name = f'keep{counter}.parquet'\n",
    "        new_path = os.path.join(out_dir, new_name)\n",
    "        shutil.move(f, new_path)\n",
    "        counter += 1\n",
    "\n",
    "    shutil.rmtree(full_dir)\n"
   ]
  },
  {
   "cell_type": "code",
   "execution_count": null,
   "id": "9772233e-fd32-4cd0-a85a-a1ec53eb76df",
   "metadata": {},
   "outputs": [],
   "source": []
  },
  {
   "cell_type": "code",
   "execution_count": null,
   "id": "f0cd0416-cbc1-4fd0-8e85-23214c41bd58",
   "metadata": {},
   "outputs": [],
   "source": []
  }
 ],
 "metadata": {
  "kernelspec": {
   "display_name": "Python 3 (ipykernel)",
   "language": "python",
   "name": "python3"
  },
  "language_info": {
   "codemirror_mode": {
    "name": "ipython",
    "version": 3
   },
   "file_extension": ".py",
   "mimetype": "text/x-python",
   "name": "python",
   "nbconvert_exporter": "python",
   "pygments_lexer": "ipython3",
   "version": "3.11.9"
  }
 },
 "nbformat": 4,
 "nbformat_minor": 5
}
