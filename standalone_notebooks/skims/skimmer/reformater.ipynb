{
 "cells": [
  {
   "cell_type": "code",
   "execution_count": 1,
   "id": "68a30f2e-0dca-4cfe-a02d-918219a2d2dc",
   "metadata": {},
   "outputs": [],
   "source": [
    "import awkward as ak\n",
    "import numpy as np\n",
    "import pyarrow as pa\n",
    "import pyarrow.parquet as pq\n",
    "from coffea.nanoevents import NanoEventsFactory, NanoAODSchema, PFNanoAODSchema"
   ]
  },
  {
   "cell_type": "code",
   "execution_count": 2,
   "id": "396df70f-96fd-4f6d-b401-18228a16dc54",
   "metadata": {},
   "outputs": [],
   "source": [
    "src = \"/project01/ndcms/cmoore24/skims/parquet_nano_test/hgg/keep0*\"\n",
    "dst = \"/project01/ndcms/cmoore24/skims/parquet_nano_test/hgg/test.parquet\""
   ]
  },
  {
   "cell_type": "code",
   "execution_count": 3,
   "id": "46b66669-6a12-457f-87c4-160838c5ba43",
   "metadata": {},
   "outputs": [],
   "source": [
    "events = ak.from_parquet(src)"
   ]
  },
  {
   "cell_type": "code",
   "execution_count": 4,
   "id": "b889d77c-b275-4e40-bd60-2ee53330c817",
   "metadata": {},
   "outputs": [],
   "source": [
    "out = {}\n",
    "for b in events.fields:\n",
    "    if events[b].fields:\n",
    "        for f in events[b].fields:\n",
    "            out[f\"{b}_{f}\"] = ak.without_parameters(events[b][f])\n",
    "    else:\n",
    "        out[b] = ak.without_parameters(events[b])"
   ]
  },
  {
   "cell_type": "code",
   "execution_count": 5,
   "id": "944fabc2-3c47-44ae-9005-eefc8d12fae8",
   "metadata": {},
   "outputs": [],
   "source": [
    "def norm(x):\n",
    "    s = str(ak.type(x))\n",
    "    if \"float64\" in s:\n",
    "        x = ak.values_astype(x, np.float32)\n",
    "    if \"int64\" in s:\n",
    "        x = ak.values_astype(x, np.int32)\n",
    "    if \"uint64\" in s:\n",
    "        x = ak.values_astype(x, np.uint32)\n",
    "    if \"?\" in s:\n",
    "        if \"float\" in s:\n",
    "            x = ak.fill_none(x, 0.0)\n",
    "        elif \"int\" in s or \"uint\" in s:\n",
    "            x = ak.fill_none(x, 0)\n",
    "        elif \"bool\" in s:\n",
    "            x = ak.fill_none(x, False)\n",
    "        else:\n",
    "            x = ak.fill_none(x, \"\")\n",
    "    return x"
   ]
  },
  {
   "cell_type": "code",
   "execution_count": 6,
   "id": "91ae1a6c-dad9-4694-a0bb-548b7434e2f5",
   "metadata": {},
   "outputs": [],
   "source": [
    "out = {k: norm(v) for k, v in out.items()}"
   ]
  },
  {
   "cell_type": "code",
   "execution_count": 7,
   "id": "747fdc97-ed47-4b0b-9092-865c77935346",
   "metadata": {},
   "outputs": [],
   "source": [
    "drop_empty = []\n",
    "for k, v in out.items():\n",
    "    try:\n",
    "        maxlen = ak.max(ak.num(v))\n",
    "    except Exception:\n",
    "        continue\n",
    "    if isinstance(maxlen, (int, np.integer)) and maxlen == 0:\n",
    "        drop_empty.append(k)\n",
    "for k in drop_empty:\n",
    "    out.pop(k, None)"
   ]
  },
  {
   "cell_type": "code",
   "execution_count": 8,
   "id": "2135c342-0507-4321-b1ae-10cb267ce2af",
   "metadata": {},
   "outputs": [],
   "source": [
    "table = ak.to_arrow_table(\n",
    "    ak.zip(out, depth_limit=1),\n",
    "    list_to32=True,\n",
    "    string_to32=True,\n",
    "    bytestring_to32=True,\n",
    "    extensionarray=False,\n",
    ")"
   ]
  },
  {
   "cell_type": "code",
   "execution_count": 9,
   "id": "f1917feb-80da-42f0-b07d-135c05c5b96d",
   "metadata": {},
   "outputs": [],
   "source": [
    "bad = []\n",
    "for field in table.schema:\n",
    "    t = field.type\n",
    "    if pa.types.is_list(t) or pa.types.is_large_list(t):\n",
    "        vt = t.value_type\n",
    "        try:\n",
    "            pd_dtype = vt.to_pandas_dtype()      # may be numpy.dtype, numpy scalar type, or Python type\n",
    "            scalar = pd_dtype()                  # coffea expects this to be callable\n",
    "            prim = getattr(scalar, \"dtype\", None)\n",
    "            if prim is None:\n",
    "                bad.append(field.name)\n",
    "        except Exception:\n",
    "            bad.append(field.name)\n",
    "    elif pa.types.is_struct(t) or pa.types.is_map(t) or pa.types.is_union(t):\n",
    "        bad.append(field.name)"
   ]
  },
  {
   "cell_type": "code",
   "execution_count": 10,
   "id": "44afd2e8-3c6f-46ac-8123-487490af35ce",
   "metadata": {},
   "outputs": [],
   "source": [
    "for field in table.schema:\n",
    "    if pa.types.is_null(field.type):\n",
    "        bad.append(field.name)"
   ]
  },
  {
   "cell_type": "code",
   "execution_count": 11,
   "id": "42ac36fd-2f7e-404a-adb8-fdb0ef32aa39",
   "metadata": {},
   "outputs": [],
   "source": [
    "bad = sorted(set(bad))\n",
    "if bad:\n",
    "    for k in bad:\n",
    "        out.pop(k, None)\n",
    "    table = ak.to_arrow_table(\n",
    "        ak.zip(out, depth_limit=1),\n",
    "        list_to32=True,\n",
    "        string_to32=True,\n",
    "        bytestring_to32=True,\n",
    "        extensionarray=False,\n",
    "    )"
   ]
  },
  {
   "cell_type": "code",
   "execution_count": 12,
   "id": "387e1c7a-4407-4d95-b632-5b4d1654c6cf",
   "metadata": {},
   "outputs": [],
   "source": [
    "pq.write_table(table, dst, compression=\"snappy\")"
   ]
  },
  {
   "cell_type": "code",
   "execution_count": 13,
   "id": "11ce2733-bd6b-4731-aa92-c85cd9a6b56f",
   "metadata": {},
   "outputs": [],
   "source": [
    "import coffea.nanoevents.transforms as _t\n",
    "_orig_nestedindex = _t.nestedindex\n",
    "\n",
    "def _nestedindex_patch(stack):\n",
    "    # Coerce any Awkward arrays/layouts on the stack into numpy arrays\n",
    "    for i, x in enumerate(stack):\n",
    "        try:\n",
    "            if isinstance(x, ak.Array):\n",
    "                stack[i] = ak.to_numpy(x)\n",
    "            # low-level layout (Content) – wrap then convert\n",
    "            elif hasattr(ak, \"contents\") and isinstance(x, ak.contents.Content):\n",
    "                stack[i] = ak.to_numpy(ak.Array(x))\n",
    "        except Exception:\n",
    "            # If something isn't convertible, leave it as-is and let coffea handle/raise\n",
    "            pass\n",
    "    return _orig_nestedindex(stack)\n",
    "\n",
    "_t.nestedindex = _nestedindex_patch"
   ]
  },
  {
   "cell_type": "code",
   "execution_count": 14,
   "id": "840dd516-6635-44e0-8a6a-31e9ef1d903d",
   "metadata": {},
   "outputs": [
    {
     "name": "stderr",
     "output_type": "stream",
     "text": [
      "/users/cmoore24/miniconda3/envs/virtual_jec/lib/python3.9/site-packages/coffea/nanoevents/schemas/nanoaod.py:271: RuntimeWarning: Missing cross-reference target for Electron_genPartIdx => GenPart\n",
      "  warnings.warn(\n",
      "/users/cmoore24/miniconda3/envs/virtual_jec/lib/python3.9/site-packages/coffea/nanoevents/schemas/nanoaod.py:271: RuntimeWarning: Missing cross-reference target for Electron_jetIdx => Jet\n",
      "  warnings.warn(\n",
      "/users/cmoore24/miniconda3/envs/virtual_jec/lib/python3.9/site-packages/coffea/nanoevents/schemas/nanoaod.py:271: RuntimeWarning: Missing cross-reference target for Electron_photonIdx => Photon\n",
      "  warnings.warn(\n",
      "/users/cmoore24/miniconda3/envs/virtual_jec/lib/python3.9/site-packages/coffea/nanoevents/schemas/nanoaod.py:264: RuntimeWarning: Missing cross-reference index for LowPtElectron_electronIdx => Electron\n",
      "  warnings.warn(\n",
      "/users/cmoore24/miniconda3/envs/virtual_jec/lib/python3.9/site-packages/coffea/nanoevents/schemas/nanoaod.py:271: RuntimeWarning: Missing cross-reference target for LowPtElectron_genPartIdx => GenPart\n",
      "  warnings.warn(\n",
      "/users/cmoore24/miniconda3/envs/virtual_jec/lib/python3.9/site-packages/coffea/nanoevents/schemas/nanoaod.py:264: RuntimeWarning: Missing cross-reference index for LowPtElectron_photonIdx => Photon\n",
      "  warnings.warn(\n",
      "/users/cmoore24/miniconda3/envs/virtual_jec/lib/python3.9/site-packages/coffea/nanoevents/schemas/nanoaod.py:271: RuntimeWarning: Missing cross-reference target for FatJet_genJetAK8Idx => GenJetAK8\n",
      "  warnings.warn(\n",
      "/users/cmoore24/miniconda3/envs/virtual_jec/lib/python3.9/site-packages/coffea/nanoevents/schemas/nanoaod.py:271: RuntimeWarning: Missing cross-reference target for FatJet_subJetIdx1 => SubJet\n",
      "  warnings.warn(\n",
      "/users/cmoore24/miniconda3/envs/virtual_jec/lib/python3.9/site-packages/coffea/nanoevents/schemas/nanoaod.py:271: RuntimeWarning: Missing cross-reference target for FatJet_subJetIdx2 => SubJet\n",
      "  warnings.warn(\n",
      "/users/cmoore24/miniconda3/envs/virtual_jec/lib/python3.9/site-packages/coffea/nanoevents/schemas/nanoaod.py:271: RuntimeWarning: Missing cross-reference target for FsrPhoton_muonIdx => Muon\n",
      "  warnings.warn(\n",
      "/users/cmoore24/miniconda3/envs/virtual_jec/lib/python3.9/site-packages/coffea/nanoevents/schemas/nanoaod.py:271: RuntimeWarning: Missing cross-reference target for GenPart_genPartIdxMother => GenPart\n",
      "  warnings.warn(\n",
      "/users/cmoore24/miniconda3/envs/virtual_jec/lib/python3.9/site-packages/coffea/nanoevents/schemas/nanoaod.py:271: RuntimeWarning: Missing cross-reference target for GenVisTau_genPartIdxMother => GenPart\n",
      "  warnings.warn(\n",
      "/users/cmoore24/miniconda3/envs/virtual_jec/lib/python3.9/site-packages/coffea/nanoevents/schemas/nanoaod.py:271: RuntimeWarning: Missing cross-reference target for Jet_electronIdx1 => Electron\n",
      "  warnings.warn(\n",
      "/users/cmoore24/miniconda3/envs/virtual_jec/lib/python3.9/site-packages/coffea/nanoevents/schemas/nanoaod.py:271: RuntimeWarning: Missing cross-reference target for Jet_electronIdx2 => Electron\n",
      "  warnings.warn(\n",
      "/users/cmoore24/miniconda3/envs/virtual_jec/lib/python3.9/site-packages/coffea/nanoevents/schemas/nanoaod.py:271: RuntimeWarning: Missing cross-reference target for Jet_genJetIdx => GenJet\n",
      "  warnings.warn(\n",
      "/users/cmoore24/miniconda3/envs/virtual_jec/lib/python3.9/site-packages/coffea/nanoevents/schemas/nanoaod.py:271: RuntimeWarning: Missing cross-reference target for Jet_muonIdx1 => Muon\n",
      "  warnings.warn(\n",
      "/users/cmoore24/miniconda3/envs/virtual_jec/lib/python3.9/site-packages/coffea/nanoevents/schemas/nanoaod.py:271: RuntimeWarning: Missing cross-reference target for Jet_muonIdx2 => Muon\n",
      "  warnings.warn(\n",
      "/users/cmoore24/miniconda3/envs/virtual_jec/lib/python3.9/site-packages/coffea/nanoevents/schemas/nanoaod.py:271: RuntimeWarning: Missing cross-reference target for Muon_fsrPhotonIdx => FsrPhoton\n",
      "  warnings.warn(\n",
      "/users/cmoore24/miniconda3/envs/virtual_jec/lib/python3.9/site-packages/coffea/nanoevents/schemas/nanoaod.py:271: RuntimeWarning: Missing cross-reference target for Muon_genPartIdx => GenPart\n",
      "  warnings.warn(\n",
      "/users/cmoore24/miniconda3/envs/virtual_jec/lib/python3.9/site-packages/coffea/nanoevents/schemas/nanoaod.py:271: RuntimeWarning: Missing cross-reference target for Muon_jetIdx => Jet\n",
      "  warnings.warn(\n",
      "/users/cmoore24/miniconda3/envs/virtual_jec/lib/python3.9/site-packages/coffea/nanoevents/schemas/nanoaod.py:271: RuntimeWarning: Missing cross-reference target for Photon_electronIdx => Electron\n",
      "  warnings.warn(\n",
      "/users/cmoore24/miniconda3/envs/virtual_jec/lib/python3.9/site-packages/coffea/nanoevents/schemas/nanoaod.py:271: RuntimeWarning: Missing cross-reference target for Photon_genPartIdx => GenPart\n",
      "  warnings.warn(\n",
      "/users/cmoore24/miniconda3/envs/virtual_jec/lib/python3.9/site-packages/coffea/nanoevents/schemas/nanoaod.py:271: RuntimeWarning: Missing cross-reference target for Photon_jetIdx => Jet\n",
      "  warnings.warn(\n",
      "/users/cmoore24/miniconda3/envs/virtual_jec/lib/python3.9/site-packages/coffea/nanoevents/schemas/nanoaod.py:271: RuntimeWarning: Missing cross-reference target for Tau_genPartIdx => GenPart\n",
      "  warnings.warn(\n",
      "/users/cmoore24/miniconda3/envs/virtual_jec/lib/python3.9/site-packages/coffea/nanoevents/schemas/nanoaod.py:271: RuntimeWarning: Missing cross-reference target for Tau_jetIdx => Jet\n",
      "  warnings.warn(\n"
     ]
    }
   ],
   "source": [
    "evts = NanoEventsFactory.from_parquet(dst, schemaclass=NanoAODSchema, mode='virtual').events()"
   ]
  },
  {
   "cell_type": "code",
   "execution_count": null,
   "id": "81fc6fc3-4fd4-4b5a-8a4c-26919cbaf781",
   "metadata": {},
   "outputs": [],
   "source": [
    "ak.materialize(evts)"
   ]
  },
  {
   "cell_type": "code",
   "execution_count": null,
   "id": "b8435c2f-57be-4b31-96dd-1531c2103701",
   "metadata": {},
   "outputs": [],
   "source": []
  }
 ],
 "metadata": {
  "kernelspec": {
   "display_name": "Python 3 (ipykernel)",
   "language": "python",
   "name": "python3"
  },
  "language_info": {
   "codemirror_mode": {
    "name": "ipython",
    "version": 3
   },
   "file_extension": ".py",
   "mimetype": "text/x-python",
   "name": "python",
   "nbconvert_exporter": "python",
   "pygments_lexer": "ipython3",
   "version": "3.9.23"
  }
 },
 "nbformat": 4,
 "nbformat_minor": 5
}
