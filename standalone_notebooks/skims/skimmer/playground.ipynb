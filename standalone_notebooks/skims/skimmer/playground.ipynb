{
 "cells": [
  {
   "cell_type": "code",
   "execution_count": 1,
   "id": "757750ea-d7c1-4e5f-bf10-e128ecb0d662",
   "metadata": {},
   "outputs": [
    {
     "name": "stderr",
     "output_type": "stream",
     "text": [
      "/users/cmoore24/Public/hgg/standalone_notebooks/skims/skimmer/variable_functions.py:3: FutureWarning: In version 2024.7.0 (target date: 2024-06-30 11:59:59-05:00), this will be an error.\n",
      "To raise these warnings as errors (and get stack traces to find out where they're called), run\n",
      "    import warnings\n",
      "    warnings.filterwarnings(\"error\", module=\"coffea.*\")\n",
      "after the first `import coffea` or use `@pytest.mark.filterwarnings(\"error:::coffea.*\")` in pytest.\n",
      "Issue: coffea.nanoevents.methods.vector will be removed and replaced with scikit-hep vector. Nanoevents schemas internal to coffea will be migrated. Otherwise please consider using that package!.\n",
      "  import coffea.nanoevents.methods.vector as vector\n"
     ]
    }
   ],
   "source": [
    "import json\n",
    "import dask\n",
    "import dask_awkward as dak\n",
    "import awkward as ak\n",
    "import numpy as np\n",
    "from coffea import dataset_tools\n",
    "from coffea.nanoevents import NanoEventsFactory, PFNanoAODSchema\n",
    "import fastjet\n",
    "import time\n",
    "import os\n",
    "import warnings\n",
    "from variable_functions import *\n",
    "import scipy"
   ]
  },
  {
   "cell_type": "code",
   "execution_count": 2,
   "id": "b1e12dda",
   "metadata": {},
   "outputs": [],
   "source": [
    "warnings.filterwarnings(\"ignore\", \"Found duplicate branch\")\n",
    "warnings.filterwarnings(\"ignore\", \"Missing cross-reference index for\")\n",
    "warnings.filterwarnings(\"ignore\", \"dcut\")\n",
    "warnings.filterwarnings(\"ignore\", \"Please ensure\")\n",
    "warnings.filterwarnings(\"ignore\", \"invalid value\")"
   ]
  },
  {
   "cell_type": "code",
   "execution_count": 3,
   "id": "5258c14a",
   "metadata": {},
   "outputs": [],
   "source": [
    "files = os.listdir(\"/cms/cephfs/data/store/user/cmoore24/samples/qcd/470to600\")[:1]"
   ]
  },
  {
   "cell_type": "code",
   "execution_count": 6,
   "id": "e63d6b48",
   "metadata": {},
   "outputs": [],
   "source": [
    "events = NanoEventsFactory.from_root(\n",
    "    {f'/cms/cephfs/data/store/user/cmoore24/samples/qcd/470to600/{files[0]}': '/Events'},\n",
    "    delayed=True,\n",
    "    schemaclass=PFNanoAODSchema,\n",
    "    metadata={'dataset':'Hgg'},\n",
    ").events()[:100]"
   ]
  },
  {
   "cell_type": "code",
   "execution_count": 23,
   "id": "75841135",
   "metadata": {},
   "outputs": [
    {
     "data": {
      "text/html": [
       "<pre>[[5.81],\n",
       " [],\n",
       " [-0.0116, 18.4],\n",
       " [6.81, 0.934],\n",
       " [0.678, 0.943],\n",
       " [7.17, 2.91],\n",
       " [1.44, 0.807],\n",
       " [],\n",
       " [0.865, 0.934, 4.41, 0.955, 2.11, 0.941, 0.951],\n",
       " [0.941, 9.5, 0.859]]\n",
       "--------------------------------------------------------------------------------\n",
       "type: 10 * var * float32[parameters={&quot;__doc__&quot;: &quot;number of degrees of freedom&quot;}]</pre>"
      ],
      "text/plain": [
       "<Array [[5.81], [], ..., [0.941, 9.5, 0.859]] type='10 * var * float32[para...'>"
      ]
     },
     "execution_count": 23,
     "metadata": {},
     "output_type": "execute_result"
    }
   ],
   "source": [
    "events.SV.ndof[:10].compute()"
   ]
  },
  {
   "cell_type": "code",
   "execution_count": null,
   "id": "7e778b4d",
   "metadata": {},
   "outputs": [],
   "source": []
  },
  {
   "cell_type": "code",
   "execution_count": null,
   "id": "645a1b2b",
   "metadata": {},
   "outputs": [],
   "source": []
  },
  {
   "cell_type": "code",
   "execution_count": 5,
   "id": "31ef7535",
   "metadata": {},
   "outputs": [],
   "source": [
    "with open('triggers.json', 'r') as f:\n",
    "        triggers = json.load(f)"
   ]
  },
  {
   "cell_type": "code",
   "execution_count": 6,
   "id": "91714b6b",
   "metadata": {},
   "outputs": [],
   "source": [
    "def apply_selections(events, region, trigger, goodmuon, pdgid=None, is_wz=False):     \n",
    "    fatjetSelect = (\n",
    "        (events.FatJet.pt >= 450)\n",
    "        & (events.FatJet.pt <= 1000)\n",
    "        & (abs(events.FatJet.eta) <= 2.4)\n",
    "        & (events.FatJet.msoftdrop >= 40)\n",
    "        & (events.FatJet.msoftdrop <= 200)\n",
    "        & (region)\n",
    "        # & (ak.fill_none(events.FatJet.delta_r(events.FatJet.nearest(events.Muon[goodmuon], axis=1)) > 0.8, True))\n",
    "        & (trigger)\n",
    "        & (events.FatJet.btag_count == 0)\n",
    "    )\n",
    "    \n",
    "    if (pdgid != None) or (is_wz):\n",
    "        if is_wz:\n",
    "            genparts = events.GenPart[\n",
    "                ((abs(events.GenPart.pdgId) == 24)|(events.GenPart.pdgId == 23))\n",
    "                & events.GenPart.hasFlags([\"fromHardProcess\", \"isLastCopy\"])\n",
    "            ]\n",
    "        else:\n",
    "            genparts = events.GenPart[\n",
    "                (abs(events.GenPart.pdgId) == pdgid)\n",
    "                & events.GenPart.hasFlags(['fromHardProcess', 'isLastCopy'])\n",
    "            ]\n",
    "        parents = events.FatJet.nearest(genparts, threshold=0.2)\n",
    "        matched_jets = ~ak.is_none(parents, axis=1)\n",
    "        fatjetSelect = ((fatjetSelect) & (matched_jets))\n",
    "    return fatjetSelect"
   ]
  },
  {
   "cell_type": "code",
   "execution_count": 7,
   "id": "1ab9cddf",
   "metadata": {},
   "outputs": [],
   "source": [
    "def ecf_reorg(ecf_dict, jet_array):\n",
    "    output_dict = {}        \n",
    "    for i in ecf_dict:\n",
    "        if i[1] == '2':\n",
    "            output_dict[f'1{i}'] = ak.unflatten(ecf_dict[i], counts = ak.num(jet_array))\n",
    "        elif i[1] == '3':\n",
    "            output_dict[f'1{i}'] = ak.unflatten(ecf_dict[i][:,0], counts = ak.num(jet_array))\n",
    "            output_dict[f'2{i}'] = ak.unflatten(ecf_dict[i][:,1], counts = ak.num(jet_array))\n",
    "            output_dict[f'3{i}'] = ak.unflatten(ecf_dict[i][:,2], counts = ak.num(jet_array))\n",
    "        elif i[1] == '4':\n",
    "            output_dict[f'1{i}'] = ak.unflatten(ecf_dict[i][:,0], counts = ak.num(jet_array))\n",
    "            output_dict[f'2{i}'] = ak.unflatten(ecf_dict[i][:,1], counts = ak.num(jet_array))\n",
    "            output_dict[f'3{i}'] = ak.unflatten(ecf_dict[i][:,2], counts = ak.num(jet_array))\n",
    "            output_dict[f'4{i}'] = ak.unflatten(ecf_dict[i][:,3], counts = ak.num(jet_array))\n",
    "            output_dict[f'5{i}'] = ak.unflatten(ecf_dict[i][:,4], counts = ak.num(jet_array))\n",
    "            output_dict[f'6{i}'] = ak.unflatten(ecf_dict[i][:,5], counts = ak.num(jet_array))\n",
    "        elif i[1] == '5':\n",
    "            output_dict[f'1{i}'] = ak.unflatten(ecf_dict[i][:,0], counts = ak.num(jet_array))\n",
    "            output_dict[f'2{i}'] = ak.unflatten(ecf_dict[i][:,1], counts = ak.num(jet_array))\n",
    "            output_dict[f'3{i}'] = ak.unflatten(ecf_dict[i][:,2], counts = ak.num(jet_array))\n",
    "            output_dict[f'4{i}'] = ak.unflatten(ecf_dict[i][:,3], counts = ak.num(jet_array))\n",
    "            output_dict[f'5{i}'] = ak.unflatten(ecf_dict[i][:,4], counts = ak.num(jet_array))\n",
    "            output_dict[f'6{i}'] = ak.unflatten(ecf_dict[i][:,5], counts = ak.num(jet_array))\n",
    "            output_dict[f'7{i}'] = ak.unflatten(ecf_dict[i][:,6], counts = ak.num(jet_array))\n",
    "            output_dict[f'8{i}'] = ak.unflatten(ecf_dict[i][:,7], counts = ak.num(jet_array))\n",
    "            output_dict[f'9{i}'] = ak.unflatten(ecf_dict[i][:,8], counts = ak.num(jet_array))\n",
    "            output_dict[f'10{i}'] = ak.unflatten(ecf_dict[i][:,9], counts = ak.num(jet_array))\n",
    "    return output_dict"
   ]
  },
  {
   "cell_type": "code",
   "execution_count": 8,
   "id": "86979d5f",
   "metadata": {},
   "outputs": [],
   "source": [
    "def ecf_reorg2(ecf_dict):\n",
    "    output_dict = {}        \n",
    "    for i in ecf_dict:\n",
    "        if i[1] == '2':\n",
    "            output_dict[f'1{i}'] = ecf_dict[i]\n",
    "        elif i[1] == '3':\n",
    "            output_dict[f'1{i}'] = ecf_dict[i][:,0]\n",
    "            output_dict[f'2{i}'] = ecf_dict[i][:,1]\n",
    "            output_dict[f'3{i}'] = ecf_dict[i][:,2]\n",
    "        elif i[1] == '4':\n",
    "            output_dict[f'1{i}'] = ecf_dict[i][:,0]\n",
    "            output_dict[f'2{i}'] = ecf_dict[i][:,1]\n",
    "            output_dict[f'3{i}'] = ecf_dict[i][:,2]\n",
    "            output_dict[f'4{i}'] = ecf_dict[i][:,3]\n",
    "            output_dict[f'5{i}'] = ecf_dict[i][:,4]\n",
    "            output_dict[f'6{i}'] = ecf_dict[i][:,5]\n",
    "        elif i[1] == '5':\n",
    "            output_dict[f'1{i}'] = ecf_dict[i][:,0]\n",
    "            output_dict[f'2{i}'] = ecf_dict[i][:,1]\n",
    "            output_dict[f'3{i}'] = ecf_dict[i][:,2]\n",
    "            output_dict[f'4{i}'] = ecf_dict[i][:,3]\n",
    "            output_dict[f'5{i}'] = ecf_dict[i][:,4]\n",
    "            output_dict[f'6{i}'] = ecf_dict[i][:,5]\n",
    "            output_dict[f'7{i}'] = ecf_dict[i][:,6]\n",
    "            output_dict[f'8{i}'] = ecf_dict[i][:,7]\n",
    "            output_dict[f'9{i}'] = ecf_dict[i][:,8]\n",
    "            output_dict[f'10{i}'] = ecf_dict[i][:,9]\n",
    "    return output_dict"
   ]
  },
  {
   "cell_type": "code",
   "execution_count": 9,
   "id": "ba006acc",
   "metadata": {},
   "outputs": [],
   "source": [
    "events['PFCands', 'pt'] = (\n",
    "        events.PFCands.pt\n",
    "        * events.PFCands.puppiWeight\n",
    "    )"
   ]
  },
  {
   "cell_type": "code",
   "execution_count": 10,
   "id": "eb212e25",
   "metadata": {},
   "outputs": [],
   "source": [
    "cut_to_fix_softdrop = (ak.num(events.FatJet.constituents.pf, axis=2) > 0)\n",
    "events = events[ak.all(cut_to_fix_softdrop, axis=1)]"
   ]
  },
  {
   "cell_type": "code",
   "execution_count": 11,
   "id": "691a1b71",
   "metadata": {},
   "outputs": [],
   "source": [
    "trigger = ak.zeros_like(ak.firsts(events.FatJet.pt), dtype='bool')\n",
    "for t in triggers['2017']:\n",
    "    if t in events.HLT.fields:\n",
    "        trigger = trigger | events.HLT[t]\n",
    "trigger = ak.fill_none(trigger, False)"
   ]
  },
  {
   "cell_type": "code",
   "execution_count": 12,
   "id": "2899769c",
   "metadata": {},
   "outputs": [],
   "source": [
    "events['FatJet', 'num_fatjets'] = ak.num(events.FatJet)"
   ]
  },
  {
   "cell_type": "code",
   "execution_count": 13,
   "id": "95469fe4",
   "metadata": {},
   "outputs": [],
   "source": [
    "goodmuon = (\n",
    "    (events.Muon.pt > 10)\n",
    "    & (abs(events.Muon.eta) < 2.4)\n",
    "    & (events.Muon.pfRelIso04_all < 0.25) # invert the isolation cut; > 0.25, check for QCD (maybe try > 1.0)\n",
    "    & events.Muon.looseId\n",
    ")\n",
    "\n",
    "nmuons = ak.sum(goodmuon, axis=1)\n",
    "leadingmuon = ak.firsts(events.Muon[goodmuon])\n",
    "\n",
    "goodelectron = (\n",
    "    (events.Electron.pt > 10)\n",
    "    & (abs(events.Electron.eta) < 2.5)\n",
    "    & (events.Electron.cutBased >= 2) #events.Electron.LOOSE\n",
    ")\n",
    "nelectrons = ak.sum(goodelectron, axis=1)\n",
    "\n",
    "ntaus = ak.sum(\n",
    "    (\n",
    "        (events.Tau.pt > 20)\n",
    "        & (abs(events.Tau.eta) < 2.3)\n",
    "        & (events.Tau.rawIso < 5)\n",
    "        & (events.Tau.idDeepTau2017v2p1VSjet)\n",
    "        & ak.all(events.Tau.metric_table(events.Muon[goodmuon]) > 0.4, axis=2)\n",
    "        & ak.all(events.Tau.metric_table(events.Electron[goodelectron]) > 0.4, axis=2)\n",
    "    ),\n",
    "    axis=1,\n",
    ")\n",
    "\n",
    "nolepton = ((nmuons == 0) & (nelectrons == 0) & (ntaus == 0))\n",
    "\n",
    "onemuon = ((nmuons == 1) & (nelectrons == 0) & (ntaus == 0))"
   ]
  },
  {
   "cell_type": "code",
   "execution_count": 14,
   "id": "48be5754",
   "metadata": {},
   "outputs": [],
   "source": [
    "region = nolepton"
   ]
  },
  {
   "cell_type": "code",
   "execution_count": 15,
   "id": "bbc33803",
   "metadata": {},
   "outputs": [],
   "source": [
    "events['FatJet', 'btag_count'] = ak.sum(events.Jet[(events.Jet.pt > 20) & (abs(events.Jet.eta) < 2.4)].btagDeepFlavB > 0.3040, axis=1)\n",
    "events['FatJet', 'trigger_mask'] = trigger"
   ]
  },
  {
   "cell_type": "code",
   "execution_count": 16,
   "id": "36d91f4c",
   "metadata": {},
   "outputs": [],
   "source": [
    "fatjetSelect = apply_selections(events, region, trigger, goodmuon)\n",
    "do_li = True"
   ]
  },
  {
   "cell_type": "code",
   "execution_count": 17,
   "id": "323951ea",
   "metadata": {},
   "outputs": [],
   "source": [
    "events[\"goodjets\"] = events.FatJet[fatjetSelect]\n",
    "mask = ~ak.is_none(ak.firsts(events.goodjets))\n",
    "events = events[mask]\n",
    "events = events[ak.num(events.goodjets)  < 3]"
   ]
  },
  {
   "cell_type": "code",
   "execution_count": 18,
   "id": "ceab19b2",
   "metadata": {},
   "outputs": [],
   "source": [
    "if do_li:\n",
    "    events['goodjets'] = events.goodjets[(ak.local_index(events.goodjets, axis=1) == 0)]"
   ]
  },
  {
   "cell_type": "code",
   "execution_count": 19,
   "id": "fb0b430b",
   "metadata": {},
   "outputs": [],
   "source": [
    "jetdef = fastjet.JetDefinition(\n",
    "    fastjet.cambridge_algorithm, 1.0\n",
    ")\n",
    "pf = ak.flatten(events.goodjets.constituents.pf, axis=1)\n",
    "cluster = fastjet.ClusterSequence(pf, jetdef)"
   ]
  },
  {
   "cell_type": "code",
   "execution_count": 30,
   "id": "c31b22c1",
   "metadata": {},
   "outputs": [],
   "source": [
    "ungroomed_ecf_classes = {}\n",
    "for n in range(2, 4):\n",
    "    for b in range(5, 45, 5):\n",
    "        ecf_class = f'e{n}^{b/10}'\n",
    "        ecf_result = cluster.exclusive_jets_energy_correlator(\n",
    "                func='generalized', npoint=n, beta=b/10, normalized=True, all_angles=True\n",
    "        )\n",
    "        ungroomed_ecf_classes[ecf_class] = ak.unflatten(ecf_result, counts = int((n*(n-1))/2))\n",
    "ungroomed_ecfs = ecf_reorg(ungroomed_ecf_classes, events.goodjets)\n",
    "events[\"ungroomed_ecfs_all\"] = ak.zip(ungroomed_ecfs, depth_limit=1)"
   ]
  },
  {
   "cell_type": "code",
   "execution_count": 21,
   "id": "453c4d06",
   "metadata": {},
   "outputs": [],
   "source": [
    "ungroomed_ecfs = {}\n",
    "for n in range(2,4):\n",
    "    for v in range(1, int(scipy.special.binom(n, 2))+1):\n",
    "        for b in range(5, 45, 5):\n",
    "            ecf_name = f'{v}e{n}^{b/10}'\n",
    "            ungroomed_ecfs[ecf_name] = ak.unflatten(\n",
    "                cluster.exclusive_jets_energy_correlator(\n",
    "                    func='generalized', npoint=n, angles=v, beta=b/10, normalized=True), \n",
    "                counts=dak.num(events.goodjets)\n",
    "            )\n",
    "events[\"ungroomed_ecfs_control\"] = ak.zip(ungroomed_ecfs, depth_limit=1)"
   ]
  },
  {
   "cell_type": "code",
   "execution_count": 24,
   "id": "b25383df",
   "metadata": {},
   "outputs": [],
   "source": [
    "a = events.ungroomed_ecfs_control.compute()"
   ]
  },
  {
   "cell_type": "code",
   "execution_count": 31,
   "id": "bef2d829",
   "metadata": {},
   "outputs": [],
   "source": [
    "b = events.ungroomed_ecfs_all.compute()"
   ]
  },
  {
   "cell_type": "code",
   "execution_count": 32,
   "id": "ee1aceb2",
   "metadata": {},
   "outputs": [
    {
     "data": {
      "text/html": [
       "<pre>[[0.00904],\n",
       " [0.0112],\n",
       " [0.0153],\n",
       " [0.0216],\n",
       " [0.0145],\n",
       " [0.00754],\n",
       " [0.00635],\n",
       " [0.00839],\n",
       " [0.012],\n",
       " [0.0103],\n",
       " ...,\n",
       " [0.0134],\n",
       " [0.0103],\n",
       " [0.0124],\n",
       " [0.0198],\n",
       " [0.0078],\n",
       " [0.0175],\n",
       " [0.0133],\n",
       " [0.00788],\n",
       " [0.00279]]\n",
       "------------------------\n",
       "backend: cpu\n",
       "nbytes: 696 B\n",
       "type: 43 * var * float64</pre>"
      ],
      "text/plain": [
       "<Array [[0.00904], [0.0112], ..., [0.00279]] type='43 * var * float64'>"
      ]
     },
     "execution_count": 32,
     "metadata": {},
     "output_type": "execute_result"
    }
   ],
   "source": [
    "a['1e3^1.0']"
   ]
  },
  {
   "cell_type": "code",
   "execution_count": 33,
   "id": "a9851869",
   "metadata": {},
   "outputs": [
    {
     "data": {
      "text/html": [
       "<pre>[[0.00904],\n",
       " [0.0112],\n",
       " [0.0153],\n",
       " [0.0216],\n",
       " [0.0145],\n",
       " [0.00754],\n",
       " [0.00635],\n",
       " [0.00839],\n",
       " [0.012],\n",
       " [0.0103],\n",
       " ...,\n",
       " [0.0134],\n",
       " [0.0103],\n",
       " [0.0124],\n",
       " [0.0198],\n",
       " [0.0078],\n",
       " [0.0175],\n",
       " [0.0133],\n",
       " [0.00788],\n",
       " [0.00279]]\n",
       "------------------------\n",
       "backend: cpu\n",
       "nbytes: 696 B\n",
       "type: 43 * var * float64</pre>"
      ],
      "text/plain": [
       "<Array [[0.00904], [0.0112], ..., [0.00279]] type='43 * var * float64'>"
      ]
     },
     "execution_count": 33,
     "metadata": {},
     "output_type": "execute_result"
    }
   ],
   "source": [
    "b['1e3^1.0']"
   ]
  },
  {
   "cell_type": "code",
   "execution_count": null,
   "id": "a9520152",
   "metadata": {},
   "outputs": [],
   "source": []
  }
 ],
 "metadata": {
  "kernelspec": {
   "display_name": "Python 3 (ipykernel)",
   "language": "python",
   "name": "python3"
  },
  "language_info": {
   "codemirror_mode": {
    "name": "ipython",
    "version": 3
   },
   "file_extension": ".py",
   "mimetype": "text/x-python",
   "name": "python",
   "nbconvert_exporter": "python",
   "pygments_lexer": "ipython3",
   "version": "3.11.9"
  }
 },
 "nbformat": 4,
 "nbformat_minor": 5
}
