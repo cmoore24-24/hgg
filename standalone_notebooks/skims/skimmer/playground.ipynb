{
 "cells": [
  {
   "cell_type": "code",
   "execution_count": 1,
   "id": "7a852bb0-5308-4724-80a5-4e80c6a4cda1",
   "metadata": {
    "scrolled": true
   },
   "outputs": [
    {
     "name": "stderr",
     "output_type": "stream",
     "text": [
      "/tmp/ipykernel_1784816/3549297373.py:8: FutureWarning: In version 2024.7.0 (target date: 2024-06-30 11:59:59-05:00), this will be an error.\n",
      "To raise these warnings as errors (and get stack traces to find out where they're called), run\n",
      "    import warnings\n",
      "    warnings.filterwarnings(\"error\", module=\"coffea.*\")\n",
      "after the first `import coffea` or use `@pytest.mark.filterwarnings(\"error:::coffea.*\")` in pytest.\n",
      "Issue: coffea.nanoevents.methods.vector will be removed and replaced with scikit-hep vector. Nanoevents schemas internal to coffea will be migrated. Otherwise please consider using that package!.\n",
      "  import coffea.nanoevents.methods.vector as vector\n"
     ]
    }
   ],
   "source": [
    "from coffea.nanoevents import NanoEventsFactory, BaseSchema, PFNanoAODSchema\n",
    "import json\n",
    "import fastjet\n",
    "import numpy as np\n",
    "import awkward as ak\n",
    "from coffea import processor\n",
    "import hist\n",
    "import coffea.nanoevents.methods.vector as vector\n",
    "import warnings\n",
    "import matplotlib.pyplot as plt\n",
    "import math\n",
    "from variable_functions import *\n",
    "import os\n",
    "import dask_awkward as dak\n",
    "import scipy"
   ]
  },
  {
   "cell_type": "code",
   "execution_count": 2,
   "id": "67cf206a-b8c1-48fc-8af8-a100d1508db2",
   "metadata": {},
   "outputs": [],
   "source": [
    "warnings.filterwarnings(\"ignore\", module=\"coffea.*\")\n",
    "warnings.filterwarnings(\"ignore\", \"Found duplicate branch\")\n",
    "warnings.filterwarnings(\"ignore\", \"Missing cross-reference index for\")\n",
    "warnings.filterwarnings(\"ignore\", \"dcut\")\n",
    "warnings.filterwarnings(\"ignore\", \"Please ensure\")\n",
    "warnings.filterwarnings(\"ignore\", \"invalid value\")"
   ]
  },
  {
   "cell_type": "code",
   "execution_count": 4,
   "id": "04566531-b10a-438c-a7a5-c04af1ee77fb",
   "metadata": {},
   "outputs": [],
   "source": [
    "#path = '/project01/ndcms/cmoore24/samples/qcd/470to600/'\n",
    "path = '/project01/ndcms/cmoore24/samples/flatHbb/mass125/'"
   ]
  },
  {
   "cell_type": "code",
   "execution_count": 5,
   "id": "638902a7-e450-40a1-b470-ba3d24efc2da",
   "metadata": {},
   "outputs": [],
   "source": [
    "files = os.listdir(path)[:1]"
   ]
  },
  {
   "cell_type": "code",
   "execution_count": 6,
   "id": "1b85406c-d3a6-4a1e-aaee-74529e5bad11",
   "metadata": {},
   "outputs": [],
   "source": [
    "events = NanoEventsFactory.from_root(\n",
    "    [{path + i: \"/Events\"} for i in files],\n",
    "    delayed=True,\n",
    "    schemaclass=PFNanoAODSchema,\n",
    "    metadata={\"dataset\": \"Hbb\"},\n",
    ").events()"
   ]
  },
  {
   "cell_type": "code",
   "execution_count": 8,
   "id": "95d5fba5-df29-4600-b178-20bf7a4db56e",
   "metadata": {},
   "outputs": [],
   "source": [
    "with open('triggers.json', 'r') as f:\n",
    "    triggers = json.load(f)"
   ]
  },
  {
   "cell_type": "code",
   "execution_count": 9,
   "id": "ab608bfc-149b-4912-a0f4-28764a9d65a7",
   "metadata": {},
   "outputs": [],
   "source": [
    "events['PFCands', 'pt'] = (\n",
    "    events.PFCands.pt\n",
    "    * events.PFCands.puppiWeight\n",
    ")"
   ]
  },
  {
   "cell_type": "code",
   "execution_count": 10,
   "id": "52c56d64-e90e-400f-9b37-27f9df69a32b",
   "metadata": {},
   "outputs": [],
   "source": [
    "# cut_to_fix_softdrop = (ak.num(events.FatJet.constituents.pf, axis=2) > 0)\n",
    "# events = events[ak.all(cut_to_fix_softdrop, axis=1)]"
   ]
  },
  {
   "cell_type": "code",
   "execution_count": 11,
   "id": "9066dc6e-1043-4f74-b71d-24c832d20970",
   "metadata": {},
   "outputs": [],
   "source": [
    "goodmuon = (\n",
    "    (events.Muon.pt > 10)\n",
    "    & (abs(events.Muon.eta) < 2.4)\n",
    "    & (events.Muon.pfRelIso04_all < 0.25)\n",
    "    & events.Muon.looseId\n",
    ")\n",
    "nmuons = ak.sum(goodmuon, axis=1)\n",
    "leadingmuon = ak.firsts(events.Muon[goodmuon])"
   ]
  },
  {
   "cell_type": "code",
   "execution_count": 12,
   "id": "50f7e906-136c-4fe5-9a18-30f2749bee3e",
   "metadata": {},
   "outputs": [],
   "source": [
    "goodelectron = (\n",
    "    (events.Electron.pt > 10)\n",
    "    & (abs(events.Electron.eta) < 2.5)\n",
    "    & (events.Electron.cutBased >= 2)\n",
    ")\n",
    "nelectrons = ak.sum(goodelectron, axis=1)"
   ]
  },
  {
   "cell_type": "code",
   "execution_count": 13,
   "id": "72f52f21-7e21-4359-8482-d46ba9928c23",
   "metadata": {},
   "outputs": [],
   "source": [
    "ntaus = ak.sum(\n",
    "            (\n",
    "                (events.Tau.pt > 20)\n",
    "                & (abs(events.Tau.eta) < 2.3)\n",
    "                & (events.Tau.rawIso < 5)\n",
    "                & (events.Tau.idDeepTau2017v2p1VSjet)\n",
    "                & ak.all(events.Tau.metric_table(events.Muon[goodmuon]) > 0.4, axis=2)\n",
    "                & ak.all(events.Tau.metric_table(events.Electron[goodelectron]) > 0.4, axis=2)\n",
    "            ),\n",
    "            axis=1,\n",
    "        )"
   ]
  },
  {
   "cell_type": "code",
   "execution_count": 14,
   "id": "eeb642bd-381d-4f72-9e6a-da422648a5d5",
   "metadata": {},
   "outputs": [],
   "source": [
    "nolepton = (nmuons == 0) & (nelectrons == 0) & (ntaus == 0)"
   ]
  },
  {
   "cell_type": "code",
   "execution_count": 15,
   "id": "1ec77520-2f41-48ec-a699-c1331c678eab",
   "metadata": {},
   "outputs": [
    {
     "data": {
      "text/plain": [
       "(<Array [10, 16, 89, 111, 203, ..., 2976, 2993, 2995, 2997] type='106 * int64'>,)"
      ]
     },
     "execution_count": 15,
     "metadata": {},
     "output_type": "execute_result"
    }
   ],
   "source": [
    "ak.where(nolepton.compute() == False)"
   ]
  },
  {
   "cell_type": "code",
   "execution_count": 16,
   "id": "3581f73f-1a2c-4e78-95da-0cc6d481d904",
   "metadata": {},
   "outputs": [],
   "source": [
    "onemuon = ((nmuons == 1) & (nelectrons == 0) & (ntaus == 0))\n",
    "muonkin = ((leadingmuon.pt > 55.) & (abs(leadingmuon.eta) < 2.1))\n",
    "muonDphiAK8 = (abs(leadingmuon.delta_phi(events.FatJet)) > 2*np.pi/3)"
   ]
  },
  {
   "cell_type": "code",
   "execution_count": 17,
   "id": "ad159c2e-5fbf-44fb-96cf-d3440703189d",
   "metadata": {},
   "outputs": [],
   "source": [
    "# trigger = ak.zeros_like(ak.firsts(events.FatJet.pt), dtype='bool')\n",
    "# for t in triggers['2017']:\n",
    "#     if t in events.HLT.fields:\n",
    "#         trigger = trigger | events.HLT[t]\n",
    "# trigger = ak.fill_none(trigger, False)"
   ]
  },
  {
   "cell_type": "code",
   "execution_count": 25,
   "id": "ffd0ce8c-c419-4aa2-be4e-0b45db7107a6",
   "metadata": {},
   "outputs": [
    {
     "data": {
      "text/html": [
       "<pre>[[[21, 21]],\n",
       " [[21, 21]],\n",
       " [[21, 21]],\n",
       " [[21, 21]],\n",
       " [[21, 21]],\n",
       " [[21, 21]],\n",
       " [[21, 21]],\n",
       " [[21, 21]],\n",
       " [[21, 21]],\n",
       " [[21, 21]],\n",
       " ...,\n",
       " [[21, 21]],\n",
       " [[21, 21]],\n",
       " [[21, 21]],\n",
       " [[21, 21]],\n",
       " [[21, 21]],\n",
       " [[21, 21]],\n",
       " [[21, 21]],\n",
       " [[21, 21]],\n",
       " [[21, 21]]]\n",
       "-----------------------------------------------------------------\n",
       "type: 3000 * var * var * ?int32[parameters={&quot;__doc__&quot;: &quot;PDG id&quot;}]</pre>"
      ],
      "text/plain": [
       "<Array [[[21, 21]], [[...]], ..., [[21, 21]]] type='3000 * var * var * ?int...'>"
      ]
     },
     "execution_count": 25,
     "metadata": {},
     "output_type": "execute_result"
    }
   ],
   "source": [
    "genhiggs.children.pdgId.compute()"
   ]
  },
  {
   "cell_type": "code",
   "execution_count": 18,
   "id": "f3658ac7-8de0-4b73-9c55-276ef952fc4f",
   "metadata": {},
   "outputs": [],
   "source": [
    "genhiggs = events.GenPart[\n",
    "    (abs(events.GenPart.pdgId) == 25)\n",
    "    & events.GenPart.hasFlags([\"fromHardProcess\", \"isLastCopy\"])\n",
    "]\n",
    "parents = events.FatJet.nearest(genhiggs, threshold=0.2)\n",
    "higgs_jets = ~ak.is_none(parents, axis=1)\n",
    "\n",
    "# events['FatJet', 'num_fatjet'] = ak.num(events.FatJet)\n",
    "\n",
    "# JetSelect = (\n",
    "#     (events.Jet.btagDeepFlavB < 0.3040)\n",
    "# )\n",
    "\n",
    "# events['Jet'] = events.Jet[JetSelect]\n",
    "\n",
    "fatjetSelect = (\n",
    "            (events.FatJet.pt > 400)\n",
    "            & (abs(events.FatJet.eta) < 2.4)\n",
    "            & (events.FatJet.msoftdrop > 40)\n",
    "            & (events.FatJet.msoftdrop < 200)\n",
    "            #& (trigger)\n",
    "            & (nolepton)\n",
    "            # & (higgs_jets)\n",
    "            & (ak.all(events.FatJet.subjets.btagDeepB < .4506, axis=2))\n",
    "            #& (ak.all(events.FatJet.subjets.btagDeepB > 0, axis=2))\n",
    "        )\n",
    "\n",
    "# events[\"goodjets\"] = events.FatJet[fatjetSelect]\n",
    "# mask = ~ak.is_none(ak.firsts(events.goodjets))\n",
    "events[\"goodjets\"] = events.FatJet[fatjetSelect]\n",
    "mask = ~ak.is_none(ak.firsts(events.goodjets))\n",
    "events = events[mask]\n",
    "# cut = (ak.num(uncut_events.FatJet.constituents.pf, axis=2) > 0)\n",
    "# events = uncut_events[ak.all(cut, axis=1)]"
   ]
  },
  {
   "cell_type": "code",
   "execution_count": 17,
   "id": "af3c7f6a-5299-463d-a89e-371a3827ca17",
   "metadata": {},
   "outputs": [],
   "source": [
    "jetdef = fastjet.JetDefinition(\n",
    "            fastjet.cambridge_algorithm, 0.8\n",
    "        )\n",
    "pf = ak.flatten(events.goodjets.constituents.pf, axis=1)\n",
    "cluster = fastjet.ClusterSequence(pf, jetdef)\n",
    "softdrop = cluster.exclusive_jets_softdrop_grooming()\n",
    "softdrop_cluster = fastjet.ClusterSequence(softdrop.constituents, jetdef)\n",
    "\n",
    "ecfs = {}\n",
    "for n in range(2,6):\n",
    "    for v in range(1, int(scipy.special.binom(n, 2))+1):\n",
    "        for b in range(5, 45, 5):\n",
    "            ecf_name = f'{v}e{n}^{b/10}'\n",
    "            ecfs[ecf_name] = ak.unflatten(\n",
    "                softdrop_cluster.exclusive_jets_energy_correlator(\n",
    "                    func='generic', npoint=n, angles=v, beta=b/10, normalized=True), \n",
    "                counts=ak.num(events.goodjets)\n",
    "            )   \n"
   ]
  },
  {
   "cell_type": "code",
   "execution_count": 18,
   "id": "13593e36-3e6f-4ecb-a616-ac5df9baef66",
   "metadata": {},
   "outputs": [
    {
     "data": {
      "text/plain": [
       "160"
      ]
     },
     "execution_count": 18,
     "metadata": {},
     "output_type": "execute_result"
    }
   ],
   "source": [
    "len(ecfs)"
   ]
  },
  {
   "cell_type": "code",
   "execution_count": 19,
   "id": "59551c6a-de99-4e37-b12f-effd4504e0f5",
   "metadata": {},
   "outputs": [],
   "source": [
    "path = '/scratch365/cmoore24/training/hgg/batch/outputs_fd/256nodes_3layers_120ecfs_32batch_2msoftdrop/'\n",
    "\n",
    "with open(f'{path}/selected_ecfs.txt', 'r') as f:\n",
    "    ratio_list = f.readlines()\n",
    "ratio_list = [item.strip() for item in ratio_list]\n",
    "\n",
    "ecf_list = []\n",
    "for ratio in ratio_list:\n",
    "    dash = ratio.find('/')\n",
    "    asterisk = ratio.find('*')\n",
    "    numerator = ratio[:dash]\n",
    "    denominator = ratio[dash+1:asterisk]\n",
    "    ecf_list.append(numerator)\n",
    "    ecf_list.append(denominator)\n",
    "ecf_list = list(set(ecf_list))"
   ]
  },
  {
   "cell_type": "code",
   "execution_count": 20,
   "id": "484080af-4373-4fad-9b66-5a07fe19b41e",
   "metadata": {},
   "outputs": [],
   "source": [
    "ecfs = {key: ecfs[key] for key in ecf_list}"
   ]
  },
  {
   "cell_type": "code",
   "execution_count": 21,
   "id": "d4427e76-bc84-47b3-9c5b-b48f6ae5873a",
   "metadata": {},
   "outputs": [
    {
     "data": {
      "text/plain": [
       "80"
      ]
     },
     "execution_count": 21,
     "metadata": {},
     "output_type": "execute_result"
    }
   ],
   "source": [
    "len(ecfs)"
   ]
  },
  {
   "cell_type": "code",
   "execution_count": 22,
   "id": "6ccfc4a5-65b1-48d1-8448-133b9815b4a4",
   "metadata": {},
   "outputs": [
    {
     "data": {
      "text/plain": [
       "{'4e4^2.5': dask.awkward<unflatten, npartitions=1>,\n",
       " '10e5^1.0': dask.awkward<unflatten, npartitions=1>,\n",
       " '8e5^1.5': dask.awkward<unflatten, npartitions=1>,\n",
       " '2e3^4.0': dask.awkward<unflatten, npartitions=1>,\n",
       " '3e5^3.0': dask.awkward<unflatten, npartitions=1>,\n",
       " '3e4^3.5': dask.awkward<unflatten, npartitions=1>,\n",
       " '6e4^0.5': dask.awkward<unflatten, npartitions=1>,\n",
       " '4e5^1.0': dask.awkward<unflatten, npartitions=1>,\n",
       " '4e4^2.0': dask.awkward<unflatten, npartitions=1>,\n",
       " '1e4^2.0': dask.awkward<unflatten, npartitions=1>,\n",
       " '3e4^4.0': dask.awkward<unflatten, npartitions=1>,\n",
       " '1e3^0.5': dask.awkward<unflatten, npartitions=1>,\n",
       " '3e4^3.0': dask.awkward<unflatten, npartitions=1>,\n",
       " '3e4^2.0': dask.awkward<unflatten, npartitions=1>,\n",
       " '1e4^1.0': dask.awkward<unflatten, npartitions=1>,\n",
       " '3e5^3.5': dask.awkward<unflatten, npartitions=1>,\n",
       " '6e5^1.5': dask.awkward<unflatten, npartitions=1>,\n",
       " '2e5^3.0': dask.awkward<unflatten, npartitions=1>,\n",
       " '4e5^3.0': dask.awkward<unflatten, npartitions=1>,\n",
       " '4e4^1.5': dask.awkward<unflatten, npartitions=1>,\n",
       " '3e5^2.5': dask.awkward<unflatten, npartitions=1>,\n",
       " '9e5^1.0': dask.awkward<unflatten, npartitions=1>,\n",
       " '1e3^4.0': dask.awkward<unflatten, npartitions=1>,\n",
       " '2e3^3.5': dask.awkward<unflatten, npartitions=1>,\n",
       " '2e3^2.5': dask.awkward<unflatten, npartitions=1>,\n",
       " '5e5^3.0': dask.awkward<unflatten, npartitions=1>,\n",
       " '6e5^0.5': dask.awkward<unflatten, npartitions=1>,\n",
       " '3e3^1.5': dask.awkward<unflatten, npartitions=1>,\n",
       " '2e5^1.5': dask.awkward<unflatten, npartitions=1>,\n",
       " '7e5^1.0': dask.awkward<unflatten, npartitions=1>,\n",
       " '2e5^0.5': dask.awkward<unflatten, npartitions=1>,\n",
       " '6e5^1.0': dask.awkward<unflatten, npartitions=1>,\n",
       " '7e5^1.5': dask.awkward<unflatten, npartitions=1>,\n",
       " '2e3^2.0': dask.awkward<unflatten, npartitions=1>,\n",
       " '2e3^1.5': dask.awkward<unflatten, npartitions=1>,\n",
       " '1e5^3.0': dask.awkward<unflatten, npartitions=1>,\n",
       " '8e5^0.5': dask.awkward<unflatten, npartitions=1>,\n",
       " '4e5^2.0': dask.awkward<unflatten, npartitions=1>,\n",
       " '2e5^2.5': dask.awkward<unflatten, npartitions=1>,\n",
       " '2e4^4.0': dask.awkward<unflatten, npartitions=1>,\n",
       " '7e5^0.5': dask.awkward<unflatten, npartitions=1>,\n",
       " '6e5^2.0': dask.awkward<unflatten, npartitions=1>,\n",
       " '3e3^0.5': dask.awkward<unflatten, npartitions=1>,\n",
       " '2e4^3.0': dask.awkward<unflatten, npartitions=1>,\n",
       " '5e4^0.5': dask.awkward<unflatten, npartitions=1>,\n",
       " '3e5^2.0': dask.awkward<unflatten, npartitions=1>,\n",
       " '5e5^2.0': dask.awkward<unflatten, npartitions=1>,\n",
       " '9e5^0.5': dask.awkward<unflatten, npartitions=1>,\n",
       " '1e4^3.5': dask.awkward<unflatten, npartitions=1>,\n",
       " '10e5^0.5': dask.awkward<unflatten, npartitions=1>,\n",
       " '3e4^1.0': dask.awkward<unflatten, npartitions=1>,\n",
       " '1e5^1.5': dask.awkward<unflatten, npartitions=1>,\n",
       " '4e4^1.0': dask.awkward<unflatten, npartitions=1>,\n",
       " '5e5^1.0': dask.awkward<unflatten, npartitions=1>,\n",
       " '3e4^2.5': dask.awkward<unflatten, npartitions=1>,\n",
       " '2e3^1.0': dask.awkward<unflatten, npartitions=1>,\n",
       " '1e4^4.0': dask.awkward<unflatten, npartitions=1>,\n",
       " '2e4^2.5': dask.awkward<unflatten, npartitions=1>,\n",
       " '4e5^3.5': dask.awkward<unflatten, npartitions=1>,\n",
       " '2e4^3.5': dask.awkward<unflatten, npartitions=1>,\n",
       " '2e5^4.0': dask.awkward<unflatten, npartitions=1>,\n",
       " '1e5^2.5': dask.awkward<unflatten, npartitions=1>,\n",
       " '3e4^1.5': dask.awkward<unflatten, npartitions=1>,\n",
       " '4e5^1.5': dask.awkward<unflatten, npartitions=1>,\n",
       " '1e5^3.5': dask.awkward<unflatten, npartitions=1>,\n",
       " '2e4^2.0': dask.awkward<unflatten, npartitions=1>,\n",
       " '1e5^2.0': dask.awkward<unflatten, npartitions=1>,\n",
       " '5e4^1.0': dask.awkward<unflatten, npartitions=1>,\n",
       " '3e4^0.5': dask.awkward<unflatten, npartitions=1>,\n",
       " '5e5^1.5': dask.awkward<unflatten, npartitions=1>,\n",
       " '4e5^2.5': dask.awkward<unflatten, npartitions=1>,\n",
       " '1e3^1.0': dask.awkward<unflatten, npartitions=1>,\n",
       " '8e5^1.0': dask.awkward<unflatten, npartitions=1>,\n",
       " '1e4^1.5': dask.awkward<unflatten, npartitions=1>,\n",
       " '3e5^4.0': dask.awkward<unflatten, npartitions=1>,\n",
       " '2e5^3.5': dask.awkward<unflatten, npartitions=1>,\n",
       " '5e5^2.5': dask.awkward<unflatten, npartitions=1>,\n",
       " '4e4^0.5': dask.awkward<unflatten, npartitions=1>,\n",
       " '3e3^1.0': dask.awkward<unflatten, npartitions=1>,\n",
       " '5e5^0.5': dask.awkward<unflatten, npartitions=1>}"
      ]
     },
     "execution_count": 22,
     "metadata": {},
     "output_type": "execute_result"
    }
   ],
   "source": [
    "ecfs"
   ]
  },
  {
   "cell_type": "code",
   "execution_count": 80,
   "id": "60486e59-3f7b-42d6-a900-131b59fe7ef1",
   "metadata": {},
   "outputs": [
    {
     "data": {
      "text/plain": [
       "(<Array [12, 13, 14, 15, 26, 36, ..., 283, 288, 291, 293, 301] type='62 * int64'>,)"
      ]
     },
     "execution_count": 80,
     "metadata": {},
     "output_type": "execute_result"
    }
   ],
   "source": [
    "ak.where(ak.any(events.goodjets.subjets.btagDeepB.compute() < 0, axis=1) == True)"
   ]
  },
  {
   "cell_type": "code",
   "execution_count": 83,
   "id": "d91be79c-da75-4aa5-adb7-23dfcb50af70",
   "metadata": {},
   "outputs": [],
   "source": [
    "a = events.goodjets.compute()[12]"
   ]
  },
  {
   "cell_type": "code",
   "execution_count": 97,
   "id": "4c84a4a4-49b3-4f89-abf8-132c9e5b9379",
   "metadata": {},
   "outputs": [
    {
     "data": {
      "text/plain": [
       "0.00042891502"
      ]
     },
     "execution_count": 97,
     "metadata": {},
     "output_type": "execute_result"
    }
   ],
   "source": [
    "a.btagDeepB_bb"
   ]
  },
  {
   "cell_type": "code",
   "execution_count": 38,
   "id": "d5bb22c3-108b-4b1f-9058-bcd77cdb8556",
   "metadata": {},
   "outputs": [
    {
     "data": {
      "text/plain": [
       "'DeepJet b+bb+lepb tag discriminator'"
      ]
     },
     "execution_count": 38,
     "metadata": {},
     "output_type": "execute_result"
    }
   ],
   "source": [
    "events.Jet.btagDeepFlavB.__doc__"
   ]
  },
  {
   "cell_type": "code",
   "execution_count": 39,
   "id": "fe53efb2-b462-4769-b296-a4768ef6a1aa",
   "metadata": {},
   "outputs": [
    {
     "data": {
      "text/plain": [
       "'DeepCSV b+bb tag discriminator'"
      ]
     },
     "execution_count": 39,
     "metadata": {},
     "output_type": "execute_result"
    }
   ],
   "source": [
    "events.Jet.btagDeepB.__doc__"
   ]
  },
  {
   "cell_type": "code",
   "execution_count": 22,
   "id": "0f0bb7a1-c5f4-446e-9900-52738f156e57",
   "metadata": {},
   "outputs": [],
   "source": [
    "deepjet = events.Jet.btagDeepFlavB"
   ]
  },
  {
   "cell_type": "code",
   "execution_count": 23,
   "id": "e387cc7d-c039-4589-b95e-a881916630e3",
   "metadata": {},
   "outputs": [
    {
     "data": {
      "image/png": "[encoded data removed]",
      "text/plain": [
       "<Figure size 640x480 with 1 Axes>"
      ]
     },
     "metadata": {},
     "output_type": "display_data"
    }
   ],
   "source": [
    "plt.hist(ak.flatten(deepjet), bins=50)\n",
    "plt.show()"
   ]
  },
  {
   "cell_type": "code",
   "execution_count": 22,
   "id": "7512b6fd-a8de-47af-a96d-e9cff03a84d1",
   "metadata": {},
   "outputs": [
    {
     "data": {
      "image/png": "[encoded data removed]",
      "text/plain": [
       "<Figure size 640x480 with 1 Axes>"
      ]
     },
     "metadata": {},
     "output_type": "display_data"
    }
   ],
   "source": [
    "plt.hist(ak.flatten(deepjet), bins=50)\n",
    "plt.show()"
   ]
  },
  {
   "cell_type": "code",
   "execution_count": null,
   "id": "7b550587-25bf-434b-bdbe-09b3bb47981c",
   "metadata": {},
   "outputs": [],
   "source": []
  },
  {
   "cell_type": "code",
   "execution_count": null,
   "id": "de219224-488c-4258-a5a4-120e8a50c363",
   "metadata": {},
   "outputs": [],
   "source": []
  },
  {
   "cell_type": "code",
   "execution_count": null,
   "id": "751e077d-5359-4c10-a674-f6380b0e26aa",
   "metadata": {},
   "outputs": [],
   "source": []
  },
  {
   "cell_type": "code",
   "execution_count": null,
   "id": "ceee1fa7-e340-4128-99b8-7d16c31ac271",
   "metadata": {},
   "outputs": [],
   "source": []
  },
  {
   "cell_type": "code",
   "execution_count": null,
   "id": "82ef8555-9deb-4fe1-9101-2627497f62e2",
   "metadata": {},
   "outputs": [],
   "source": []
  },
  {
   "cell_type": "code",
   "execution_count": null,
   "id": "315a2dec-95e5-46ce-9aa5-aad01c8fd4be",
   "metadata": {},
   "outputs": [],
   "source": []
  },
  {
   "cell_type": "code",
   "execution_count": null,
   "id": "c164563e-c83d-42ab-8dbc-814963db2faf",
   "metadata": {},
   "outputs": [],
   "source": []
  },
  {
   "cell_type": "code",
   "execution_count": null,
   "id": "30410f32-c906-462b-8ccb-5c34a41dda10",
   "metadata": {},
   "outputs": [],
   "source": []
  },
  {
   "cell_type": "code",
   "execution_count": 35,
   "id": "799bb74c-746d-4eae-bece-dc35ae404ed0",
   "metadata": {},
   "outputs": [],
   "source": [
    "a = events.goodjets[[x for x in ak.fields(events.goodjets) if x == 'area']]"
   ]
  },
  {
   "cell_type": "code",
   "execution_count": 36,
   "id": "0fa83e10-8275-46c5-b8f6-108318cd9e66",
   "metadata": {},
   "outputs": [
    {
     "data": {
      "text/html": [
       "<pre>[[{area: 1.96}],\n",
       " [{area: 2.01}],\n",
       " [{area: 2.04}],\n",
       " [{area: 2}],\n",
       " [{area: 1.98}],\n",
       " [{area: 2.01}],\n",
       " [{area: 2.33}],\n",
       " [{area: 2.01}],\n",
       " [{area: 2}],\n",
       " [{area: 2}],\n",
       " ...,\n",
       " [{area: 1.97}],\n",
       " [{area: 2.05}],\n",
       " [{area: 2.01}],\n",
       " [{area: 2}],\n",
       " [{area: 2.01}],\n",
       " [{area: 2.09}],\n",
       " [{area: 1.97}],\n",
       " [{area: 1.98}],\n",
       " [{area: 2.03}]]\n",
       "-------------------------------------------------------------------------\n",
       "type: 261 * var * {\n",
       "    area: float32[parameters={&quot;__doc__&quot;: &quot;jet catchment area, for JECs&quot;}]\n",
       "}</pre>"
      ],
      "text/plain": [
       "<Array [[{area: 1.96}], [{...}], ..., [{...}]] type='261 * var * {area: flo...'>"
      ]
     },
     "execution_count": 36,
     "metadata": {},
     "output_type": "execute_result"
    }
   ],
   "source": [
    "a.compute()"
   ]
  },
  {
   "cell_type": "code",
   "execution_count": null,
   "id": "d1929878-9c20-4c90-8e99-e43cbd7711d1",
   "metadata": {},
   "outputs": [],
   "source": []
  },
  {
   "cell_type": "code",
   "execution_count": null,
   "id": "5af12915-09fe-452b-9ba8-118557269855",
   "metadata": {},
   "outputs": [],
   "source": []
  },
  {
   "cell_type": "code",
   "execution_count": null,
   "id": "5d0e6fa5-4424-4f84-bfa2-816ca826671e",
   "metadata": {},
   "outputs": [],
   "source": []
  },
  {
   "cell_type": "code",
   "execution_count": null,
   "id": "6e423063-94f0-4cad-9a60-0a737706b803",
   "metadata": {},
   "outputs": [],
   "source": []
  },
  {
   "cell_type": "code",
   "execution_count": null,
   "id": "d8d40c8b-a7af-4ec6-808a-44e6eca446d9",
   "metadata": {},
   "outputs": [],
   "source": []
  },
  {
   "cell_type": "code",
   "execution_count": null,
   "id": "df2b9190-12ca-404b-b88f-091bda9796d4",
   "metadata": {},
   "outputs": [],
   "source": []
  },
  {
   "cell_type": "code",
   "execution_count": null,
   "id": "ffdfee86-294a-4844-8722-fabbac04f543",
   "metadata": {},
   "outputs": [],
   "source": []
  },
  {
   "cell_type": "code",
   "execution_count": null,
   "id": "9021df54-d89e-4f2d-b669-96505f4ae10c",
   "metadata": {},
   "outputs": [],
   "source": []
  },
  {
   "cell_type": "code",
   "execution_count": 61,
   "id": "746dd31a-6e80-48be-aec7-d2cc6a07c2a8",
   "metadata": {},
   "outputs": [],
   "source": [
    "events = NanoEventsFactory.from_root(\n",
    "    {'/project01/ndcms/cmoore24/samples/hbb/' + files[0]: \"/Events\"},\n",
    "    delayed=False,\n",
    "    schemaclass=PFNanoAODSchema,\n",
    "    metadata={\"dataset\": \"Hbb\"},\n",
    ").events()"
   ]
  },
  {
   "cell_type": "code",
   "execution_count": 62,
   "id": "f435bbdf-8012-40ce-8361-c21698af6ae2",
   "metadata": {},
   "outputs": [],
   "source": [
    "events['PFCands', 'pt'] = (\n",
    "    events.PFCands.pt\n",
    "    * events.PFCands.puppiWeight\n",
    ")"
   ]
  },
  {
   "cell_type": "code",
   "execution_count": 63,
   "id": "391f0d69-ce85-4c47-84d2-2125c9ecfc7f",
   "metadata": {},
   "outputs": [],
   "source": [
    "cut_to_fix_softdrop = (ak.num(events.FatJet.constituents.pf, axis=2) > 0)\n",
    "events = events[ak.all(cut_to_fix_softdrop, axis=1)]"
   ]
  },
  {
   "cell_type": "code",
   "execution_count": 64,
   "id": "982e9185-756b-4df0-9ece-de8a20ab513c",
   "metadata": {},
   "outputs": [],
   "source": [
    "genhiggs = events.GenPart[\n",
    "    (events.GenPart.pdgId == 25)\n",
    "    & events.GenPart.hasFlags([\"fromHardProcess\", \"isLastCopy\"])\n",
    "]\n",
    "parents = events.FatJet.nearest(genhiggs, threshold=0.2)\n",
    "higgs_jets = ~ak.is_none(parents, axis=1)"
   ]
  },
  {
   "cell_type": "code",
   "execution_count": 65,
   "id": "85a81eed-7746-4226-840e-e581d7c1e945",
   "metadata": {},
   "outputs": [],
   "source": [
    "fatjetSelect = (\n",
    "            (events.FatJet.pt > 400)\n",
    "            #& (events.FatJet.num_subjets >= 3)\n",
    "            & (abs(events.FatJet.eta) < 2.4)\n",
    "            & (events.FatJet.msoftdrop > 40)\n",
    "            & (events.FatJet.msoftdrop < 200)\n",
    "            & (higgs_jets)\n",
    "        )"
   ]
  },
  {
   "cell_type": "code",
   "execution_count": 66,
   "id": "b8964c27-cd33-4897-849a-057cd5b7f2f9",
   "metadata": {},
   "outputs": [],
   "source": [
    "events[\"goodjets\"] = events.FatJet[fatjetSelect]"
   ]
  },
  {
   "cell_type": "code",
   "execution_count": 67,
   "id": "ed01480e-690d-4fef-a901-70709ef7577d",
   "metadata": {},
   "outputs": [],
   "source": [
    "mask = ~ak.is_none(ak.firsts(events.goodjets))"
   ]
  },
  {
   "cell_type": "code",
   "execution_count": 68,
   "id": "fafbd08d-c451-4766-89f7-f74de0c43a16",
   "metadata": {},
   "outputs": [],
   "source": [
    "events = events[mask]"
   ]
  },
  {
   "cell_type": "code",
   "execution_count": 10,
   "id": "491773fa-e065-459d-82cc-fc5aedfa1a8e",
   "metadata": {},
   "outputs": [],
   "source": [
    "a = os.listdir('/project01/ndcms/cmoore24/skims/test/hbb/')[:2]"
   ]
  },
  {
   "cell_type": "code",
   "execution_count": 12,
   "id": "53a2b6f4-ee8e-4c54-b7da-87d88acfa5bf",
   "metadata": {},
   "outputs": [
    {
     "data": {
      "text/plain": [
       "dask.awkward<from-parquet, npartitions=2>"
      ]
     },
     "execution_count": 12,
     "metadata": {},
     "output_type": "execute_result"
    }
   ],
   "source": [
    "dak.from_parquet(['/project01/ndcms/cmoore24/skims/test/hbb/' + i for i in a])"
   ]
  },
  {
   "cell_type": "code",
   "execution_count": null,
   "id": "2380761d-e45a-4414-bf1d-b45559cdacbb",
   "metadata": {},
   "outputs": [],
   "source": []
  },
  {
   "cell_type": "code",
   "execution_count": 13,
   "id": "269f57f1-98f1-4813-84a8-058f50ce4fac",
   "metadata": {},
   "outputs": [],
   "source": [
    "a = ak.from_parquet('/project01/ndcms/cmoore24/skims/test/hbb2/')"
   ]
  },
  {
   "cell_type": "code",
   "execution_count": 24,
   "id": "459e54b3-108a-4c89-9ad7-e2a50d206fed",
   "metadata": {},
   "outputs": [
    {
     "data": {
      "image/png": "[encoded data removed]",
      "text/plain": [
       "<Figure size 640x480 with 1 Axes>"
      ]
     },
     "metadata": {},
     "output_type": "display_data"
    }
   ],
   "source": [
    "plt.hist(a.goodjets.u1, bins=40)\n",
    "#plt.yscale('log')\n",
    "plt.show()"
   ]
  },
  {
   "cell_type": "code",
   "execution_count": 20,
   "id": "8c2a6616-c0a1-4d43-be4e-361a82e70f41",
   "metadata": {},
   "outputs": [],
   "source": [
    "with open('samples_ready.json') as f:\n",
    "    b = json.load(f)"
   ]
  },
  {
   "cell_type": "code",
   "execution_count": 21,
   "id": "a0160c5d-0f05-421e-9caf-c90db69404d7",
   "metadata": {},
   "outputs": [
    {
     "name": "stdout",
     "output_type": "stream",
     "text": [
      "diboson_ww\n",
      "diboson_ww4q\n",
      "diboson_wz\n",
      "diboson_zz\n",
      "hbb\n",
      "hgg\n",
      "qcd_1000to1400\n",
      "qcd_1400to1800\n",
      "qcd_170to300\n",
      "qcd_1800to2400\n",
      "qcd_2400to3200\n",
      "qcd_300to470\n",
      "qcd_3200toInf\n",
      "qcd_470to600\n",
      "qcd_600to800\n",
      "qcd_800to1000\n",
      "singletop\n",
      "ttboosted_1000toInf\n",
      "ttboosted_700to1000\n",
      "wqq_200to400\n",
      "wqq_400to600\n",
      "wqq_600to800\n",
      "wqq_800toInf\n",
      "zqq_200to400\n",
      "zqq_400to600\n",
      "zqq_600to800\n",
      "zqq_800toInf\n"
     ]
    }
   ],
   "source": [
    "for i in b:\n",
    "    print(i)"
   ]
  },
  {
   "cell_type": "code",
   "execution_count": null,
   "id": "85e275b4-7363-46a9-9335-9a18e5ff4e37",
   "metadata": {},
   "outputs": [],
   "source": []
  },
  {
   "cell_type": "code",
   "execution_count": null,
   "id": "757750ea-d7c1-4e5f-bf10-e128ecb0d662",
   "metadata": {},
   "outputs": [],
   "source": []
  }
 ],
 "metadata": {
  "kernelspec": {
   "display_name": "Python 3 (ipykernel)",
   "language": "python",
   "name": "python3"
  },
  "language_info": {
   "codemirror_mode": {
    "name": "ipython",
    "version": 3
   },
   "file_extension": ".py",
   "mimetype": "text/x-python",
   "name": "python",
   "nbconvert_exporter": "python",
   "pygments_lexer": "ipython3",
   "version": "3.11.9"
  }
 },
 "nbformat": 4,
 "nbformat_minor": 5
}
