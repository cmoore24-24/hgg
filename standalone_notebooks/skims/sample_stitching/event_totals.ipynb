{
 "cells": [
  {
   "cell_type": "code",
   "execution_count": 19,
   "id": "06b6fc39-0c8c-4fa4-8c81-2aca19eb0d80",
   "metadata": {},
   "outputs": [],
   "source": [
    "import os\n",
    "import awkward as ak\n",
    "import uproot\n",
    "import json"
   ]
  },
  {
   "cell_type": "code",
   "execution_count": 15,
   "id": "d592daa6-0b68-4807-a838-9b213d37c074",
   "metadata": {},
   "outputs": [],
   "source": [
    "samples = os.listdir(\"/project01/ndcms/cmoore24/samples\")\n",
    "stitched_samples = [\n",
    "    'qcd', \n",
    "    'ttboosted', \n",
    "    'wqq', \n",
    "    'zqq']\n",
    "standalone_samples = ['hgg', 'hbb', 'singletop']\n",
    "diboson_samples = ['ww', 'wz', 'zz', 'ww4q']"
   ]
  },
  {
   "cell_type": "code",
   "execution_count": 13,
   "id": "bfaf38ef-768b-4f03-9be4-a2a9530472e4",
   "metadata": {},
   "outputs": [],
   "source": [
    "event_totals = {}\n",
    "for i in stitched_samples:\n",
    "    dirs = os.listdir(f'/project01/ndcms/cmoore24/samples/{i}')\n",
    "    region_files = {}\n",
    "    for j in dirs:\n",
    "        nopath_files = os.listdir(f\"/project01/ndcms/cmoore24/samples/{i}/{j}\")\n",
    "        path_files = [f\"/project01/ndcms/cmoore24/samples/{i}/{j}/\" + file for file in nopath_files]\n",
    "        region_files[j] = path_files\n",
    "    nevents = {}\n",
    "    for sample, files in region_files.items():\n",
    "        nevents[sample] = sum(item[2] for item in uproot.num_entries({file: \"Events\" for file in files}))\n",
    "    event_totals[i] = nevents"
   ]
  },
  {
   "cell_type": "code",
   "execution_count": 16,
   "id": "a6daaa1d-53eb-4215-ae2e-5bffb31e8208",
   "metadata": {},
   "outputs": [],
   "source": [
    "for i in standalone_samples:\n",
    "    nopath_files = os.listdir(f\"/project01/ndcms/cmoore24/samples/{i}/\")\n",
    "    path_files = [f\"/project01/ndcms/cmoore24/samples/{i}/\" + file for file in nopath_files] \n",
    "    events = sum(item[2] for item in uproot.num_entries({file: \"Events\" for file in path_files}))\n",
    "    event_totals[i] = events\n",
    "\n",
    "for i in diboson_samples:\n",
    "    nopath_files = os.listdir(f\"/project01/ndcms/cmoore24/samples/diboson/{i}/\")\n",
    "    path_files = [f\"/project01/ndcms/cmoore24/samples/diboson/{i}/\" + file for file in nopath_files] \n",
    "    events = sum(item[2] for item in uproot.num_entries({file: \"Events\" for file in path_files}))\n",
    "    event_totals[i] = events"
   ]
  },
  {
   "cell_type": "code",
   "execution_count": 17,
   "id": "678a8a21-2e6c-4a02-b082-f23756603e0f",
   "metadata": {},
   "outputs": [
    {
     "data": {
      "text/plain": [
       "{'qcd': {'1000to1400': 19781000,\n",
       "  '1400to1800': 10978000,\n",
       "  '170to300': 29911000,\n",
       "  '1800to2400': 5188000,\n",
       "  '2400to3200': 2427000,\n",
       "  '300to470': 20000000,\n",
       "  '3200toInf': 643000,\n",
       "  '470to600': 20178000,\n",
       "  '600to800': 20000000,\n",
       "  '800to1000': 20076000},\n",
       " 'ttboosted': {'1000toInf': 22808974, '700to1000': 35862238},\n",
       " 'wqq': {'200to400': 16300346,\n",
       "  '400to600': 6847169,\n",
       "  '600to800': 14704816,\n",
       "  '800toInf': 15055570},\n",
       " 'zqq': {'200to400': 15256299,\n",
       "  '400to600': 14838080,\n",
       "  '600to800': 11563988,\n",
       "  '800toInf': 9498947},\n",
       " 'hgg': 2392373,\n",
       " 'hbb': 497000,\n",
       " 'singletop': 11564999,\n",
       " 'ww': 9945000,\n",
       " 'wz': 6681000,\n",
       " 'zz': 2706000,\n",
       " 'ww4q': 3725127}"
      ]
     },
     "execution_count": 17,
     "metadata": {},
     "output_type": "execute_result"
    }
   ],
   "source": [
    "event_totals"
   ]
  },
  {
   "cell_type": "code",
   "execution_count": 20,
   "id": "31d543c5-f5ff-4044-8da8-46037bd4fe14",
   "metadata": {},
   "outputs": [],
   "source": [
    "with open('event_total.json', 'w') as f:\n",
    "    json.dump(event_totals, f)"
   ]
  },
  {
   "cell_type": "code",
   "execution_count": null,
   "id": "5e1f14cb-e1ce-4f1b-9ea2-c0dabe6e6962",
   "metadata": {},
   "outputs": [],
   "source": []
  }
 ],
 "metadata": {
  "kernelspec": {
   "display_name": "Python 3 (ipykernel)",
   "language": "python",
   "name": "python3"
  },
  "language_info": {
   "codemirror_mode": {
    "name": "ipython",
    "version": 3
   },
   "file_extension": ".py",
   "mimetype": "text/x-python",
   "name": "python",
   "nbconvert_exporter": "python",
   "pygments_lexer": "ipython3",
   "version": "3.11.9"
  }
 },
 "nbformat": 4,
 "nbformat_minor": 5
}
