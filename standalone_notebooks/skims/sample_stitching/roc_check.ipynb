{
 "cells": [
  {
   "cell_type": "code",
   "execution_count": 1,
   "id": "e7969326-0a3d-4f97-9b46-6e86170ab2fd",
   "metadata": {},
   "outputs": [],
   "source": [
    "import pandas as pd\n",
    "import matplotlib.pyplot as plt\n",
    "import numpy as np\n",
    "import awkward as ak\n",
    "import pickle\n",
    "import pandas as pd\n",
    "import os\n",
    "import json\n",
    "import pyarrow as pa\n",
    "import hist\n",
    "import pickle"
   ]
  },
  {
   "cell_type": "code",
   "execution_count": 2,
   "id": "175c56c4-1cb7-4318-8a20-16123ebefe33",
   "metadata": {},
   "outputs": [],
   "source": [
    "path = '/project01/ndcms/cmoore24/skims/full_cut_skims/sole_vars/'"
   ]
  },
  {
   "cell_type": "code",
   "execution_count": 208,
   "id": "3b33dd95-be54-4020-b0c9-20f4af0dab58",
   "metadata": {},
   "outputs": [],
   "source": [
    "hgg = ak.firsts(ak.from_parquet(f'{path}hgg.parquet'))"
   ]
  },
  {
   "cell_type": "code",
   "execution_count": 209,
   "id": "55b690c7-29f2-4c3f-89f3-21859af9fea7",
   "metadata": {},
   "outputs": [],
   "source": [
    "hgg = hgg[hgg.msoftdrop < 200]\n",
    "hgg = hgg[hgg.msoftdrop > 40]\n",
    "hgg = hgg[hgg.pt > 450]\n",
    "hgg = hgg[hgg.pt < 600]"
   ]
  },
  {
   "cell_type": "code",
   "execution_count": 210,
   "id": "f9035dbd-20fe-4cd0-9de0-474646d9e4b4",
   "metadata": {},
   "outputs": [],
   "source": [
    "qcd = {}\n",
    "files = os.listdir(f'{path}')\n",
    "for i in files:\n",
    "    if 'qcd' in i:\n",
    "        qcd[i.rstrip('.parquet')] = ak.firsts(ak.from_parquet(f'{path}/{i}'))"
   ]
  },
  {
   "cell_type": "code",
   "execution_count": 211,
   "id": "007701e0-9450-4ecb-9fcc-eb8c9ba88488",
   "metadata": {},
   "outputs": [],
   "source": [
    "for i in qcd:\n",
    "    qcd[i] = qcd[i][qcd[i].msoftdrop < 200]\n",
    "    qcd[i] = qcd[i][qcd[i].msoftdrop > 40]\n",
    "    qcd[i] = qcd[i][qcd[i].pt > 450]\n",
    "    qcd[i] = qcd[i][qcd[i].pt < 600]"
   ]
  },
  {
   "cell_type": "code",
   "execution_count": 212,
   "id": "978d55a8-82c8-4c29-b97a-8e3cdfac2d7b",
   "metadata": {},
   "outputs": [],
   "source": [
    "with open('event_total.json', 'r') as f:\n",
    "    totals = json.load(f)\n",
    "qcd_totals = totals['qcd']"
   ]
  },
  {
   "cell_type": "code",
   "execution_count": 213,
   "id": "fe2526a3-ff5d-4733-9f74-a7a2f98b8157",
   "metadata": {},
   "outputs": [],
   "source": [
    "qcd_counts = {}\n",
    "for i in qcd_totals:\n",
    "    qcd_counts[f'qcd_{i}'] = qcd_totals[i]"
   ]
  },
  {
   "cell_type": "code",
   "execution_count": 214,
   "id": "e6bb0285-c860-48b7-b27d-e07fc07a212f",
   "metadata": {},
   "outputs": [],
   "source": [
    "IL = 44.99"
   ]
  },
  {
   "cell_type": "code",
   "execution_count": 215,
   "id": "57f12939-8fa0-494d-8f4f-89c4bf38949f",
   "metadata": {},
   "outputs": [],
   "source": [
    "xsec = {}\n",
    "xsec['qcd_300to470'] = 6833\n",
    "xsec['qcd_470to600'] = 549.5\n",
    "xsec['qcd_600to800'] = 156.5\n",
    "xsec['qcd_800to1000'] = 26.22\n",
    "xsec['qcd_1000to1400'] = 7.475\n",
    "xsec['qcd_1400to1800'] = 0.6482\n",
    "xsec['qcd_1800to2400'] = 0.08742\n",
    "xsec['qcd_2400to3200'] = 0.005237\n",
    "xsec['qcd_3200toInf'] = 0.0001353"
   ]
  },
  {
   "cell_type": "code",
   "execution_count": 329,
   "id": "6b0dbb4f-c2c8-4134-9790-f89652d3de62",
   "metadata": {},
   "outputs": [],
   "source": [
    "qcd_var = {}\n",
    "for i in qcd:\n",
    "    var_hist = hist.Hist.new.Reg(40, 0.5, 4, name=f\"Var\", label=f\"Var\").Weight()\n",
    "    var_hist.fill(Var=(qcd[i].mass/qcd[i].msoftdrop))\n",
    "    qcd_var[i] = var_hist"
   ]
  },
  {
   "cell_type": "code",
   "execution_count": 330,
   "id": "ba8a18e1-f9d6-46cf-9d76-c88672825a3d",
   "metadata": {},
   "outputs": [
    {
     "data": {
      "text/html": [
       "<html>\n",
       "<div style=\"display:flex; align-items:center;\">\n",
       "<div style=\"width:290px;\">\n",
       "<svg xmlns=\"http://www.w3.org/2000/svg\" viewBox=\"-10 -105 270 120\">\n",
       "<line x1=\"-5\" y1=\"0\" x2=\"255\" y2=\"0\" style=\"fill:none;stroke-width:2;stroke:currentColor\"/>\n",
       "<text text-anchor=\"middle\" x=\"0\" y=\"15\" style=\"fill:currentColor;\">\n",
       "0.5\n",
       "</text>\n",
       "<text text-anchor=\"middle\" x=\"250\" y=\"15\" style=\"fill:currentColor;\">\n",
       "4\n",
       "</text>\n",
       "<text text-anchor=\"middle\" x=\"125.0\" y=\"15\" style=\"fill:currentColor;\">\n",
       "Var\n",
       "</text>\n",
       "<polyline points=\"  0,0   0,-0 6.25,-0 6.25,-0 12.5,-0 12.5,-0 18.75,-0 18.75,-0  25,-0  25,-0.0195 31.25,-0.0195 31.25,-100 37.5,-100 37.5,-76 43.75,-76 43.75,-14.2  50,-14.2  50,-7.26 56.25,-7.26 56.25,-5.27 62.5,-5.27 62.5,-3.72 68.75,-3.72 68.75,-2.85  75,-2.85  75,-2.07 81.25,-2.07 81.25,-1.63 87.5,-1.63 87.5,-1.36 93.75,-1.36 93.75,-1.09 100,-1.09 100,-0.89 106.25,-0.89 106.25,-0.664 112.5,-0.664 112.5,-0.601 118.75,-0.601 118.75,-0.515 125,-0.515 125,-0.464 131.25,-0.464 131.25,-0.285 137.5,-0.285 137.5,-0.301 143.75,-0.301 143.75,-0.312 150,-0.312 150,-0.203 156.25,-0.203 156.25,-0.125 162.5,-0.125 162.5,-0.101 168.75,-0.101 168.75,-0.0781 175,-0.0781 175,-0.0703 181.25,-0.0703 181.25,-0.0624 187.5,-0.0624 187.5,-0.0234 193.75,-0.0234 193.75,-0.00781 200,-0.00781 200,-0.0039 206.25,-0.0039 206.25,-0.0039 212.5,-0.0039 212.5,-0.0039 218.75,-0.0039 218.75,-0 225,-0 225,-0.0039 231.25,-0.0039 231.25,-0 237.5,-0 237.5,-0.0039 243.75,-0.0039 243.75,-0 250,-0 250,0\" style=\"fill:none; stroke:currentColor;\"/>\n",
       "</svg>\n",
       "</div>\n",
       "<div style=\"flex=grow:1;\">\n",
       "Regular(40, 0.5, 4, name='Var')<br/>\n",
       "<hr style=\"margin-top:.2em; margin-bottom:.2em;\"/>\n",
       "Weight() Σ=WeightedSum(value=56399, variance=56399)\n",
       "\n",
       "</div>\n",
       "</div>\n",
       "</html>"
      ],
      "text/plain": [
       "Hist(Regular(40, 0.5, 4, name='Var'), storage=Weight()) # Sum: WeightedSum(value=56399, variance=56399)"
      ]
     },
     "execution_count": 330,
     "metadata": {},
     "output_type": "execute_result"
    }
   ],
   "source": [
    "hgg_var = hist.Hist.new.Reg(40, 0.5, 4, name=f\"Var\", label=f\"Var\").Weight()\n",
    "hgg_var.fill(Var=(hgg.mass/hgg.msoftdrop))"
   ]
  },
  {
   "cell_type": "code",
   "execution_count": 331,
   "id": "c719bd6c-49d9-4cfc-8116-7b8e764f0631",
   "metadata": {},
   "outputs": [
    {
     "data": {
      "text/plain": [
       "(4.461421, 3.8308992)"
      ]
     },
     "execution_count": 331,
     "metadata": {},
     "output_type": "execute_result"
    }
   ],
   "source": [
    "ak.max((qcd['qcd_470to600'].mass/qcd['qcd_470to600'].msoftdrop)), ak.max((hgg.mass/hgg.msoftdrop))"
   ]
  },
  {
   "cell_type": "code",
   "execution_count": 332,
   "id": "f635fff0-355c-4cd7-8aa9-a343bf56136a",
   "metadata": {},
   "outputs": [],
   "source": [
    "for i in qcd_var:\n",
    "    scale = ((44.99*(xsec[i]*1000))/qcd_counts[i])\n",
    "    qcd_var[i].view(flow=True)[:] *= scale"
   ]
  },
  {
   "cell_type": "code",
   "execution_count": 333,
   "id": "c0156c3e-2042-4315-bc47-3bfcdb8313e0",
   "metadata": {},
   "outputs": [],
   "source": [
    "scaleHgg = ((44.99*(0.471*1000)*0.0817)/(totals['hgg']))\n",
    "hgg_var.view(flow=True)[:] *= scale"
   ]
  },
  {
   "cell_type": "code",
   "execution_count": 334,
   "id": "436549ae-4ca2-42d0-b666-bf89361c098e",
   "metadata": {},
   "outputs": [],
   "source": [
    "bkg_var = sum(qcd_var[i] for i in qcd_var)"
   ]
  },
  {
   "cell_type": "code",
   "execution_count": 335,
   "id": "bff4cb14-77ab-4b31-84f1-a94d3aca898b",
   "metadata": {},
   "outputs": [],
   "source": [
    "var_bckgrd_total = bkg_var[0:40:sum]\n",
    "hgg_total = hgg_var[0:40:sum]"
   ]
  },
  {
   "cell_type": "code",
   "execution_count": 336,
   "id": "26777f1d-9479-41c9-9dd5-1ddecc7e08a5",
   "metadata": {},
   "outputs": [],
   "source": [
    "var_false_positive = []\n",
    "for i in range(1, 41):\n",
    "    var_false_positive.append(bkg_var[0:i:sum].value/var_bckgrd_total.value)"
   ]
  },
  {
   "cell_type": "code",
   "execution_count": 337,
   "id": "ff3f724b-303c-4103-8481-8fba77518a45",
   "metadata": {},
   "outputs": [],
   "source": [
    "hgg_var_true_positive = []\n",
    "for i in range(1, 41):\n",
    "    hgg_var_true_positive.append(hgg_var[0:i:sum].value/hgg_total.value)"
   ]
  },
  {
   "cell_type": "code",
   "execution_count": 338,
   "id": "d65d6057-2ce2-484f-9bb6-812749ae6181",
   "metadata": {},
   "outputs": [],
   "source": [
    "with open('resampled.pkl', 'rb') as f:\n",
    "    resampled = pickle.load(f)"
   ]
  },
  {
   "cell_type": "code",
   "execution_count": 339,
   "id": "e35e2d43-1d4f-43e5-b93a-0a56b8aa5989",
   "metadata": {},
   "outputs": [],
   "source": [
    "with open('scaled.pkl', 'rb') as f:\n",
    "    scaled = pickle.load(f)"
   ]
  },
  {
   "cell_type": "code",
   "execution_count": 340,
   "id": "5210c8f4-0f33-4497-a165-2c6394ea4800",
   "metadata": {},
   "outputs": [
    {
     "data": {
      "text/plain": [
       "<matplotlib.legend.Legend at 0x7fd0a8657590>"
      ]
     },
     "execution_count": 340,
     "metadata": {},
     "output_type": "execute_result"
    },
    {
     "data": {
      "image/png": "[encoded data removed]",
      "text/plain": [
       "<Figure size 640x480 with 1 Axes>"
      ]
     },
     "metadata": {},
     "output_type": "display_data"
    }
   ],
   "source": [
    "fig, ax = plt.subplots()\n",
    "ax.plot( hgg_var_true_positive, var_false_positive, linewidth=2.0, label='Hgg Var')\n",
    "# ax.plot(scaled['tpr'], scaled['fpr'], linewidth=2.0, label='Scaled Var')\n",
    "# ax.plot(resampled['tpr'], resampled['fpr'], linewidth=2.0, label='Resampled Var')\n",
    "plt.xlabel(\"True Positive\")\n",
    "plt.ylabel(\"False Positive\")\n",
    "lims = [\n",
    "    np.min([ax.get_xlim(), ax.get_ylim()]),  # min of both axes\n",
    "    np.max([ax.get_xlim(), ax.get_ylim()]),  # max of both axes\n",
    "]\n",
    "ax.plot(lims, lims, 'k-', alpha=0.75, zorder=0)\n",
    "plt.xlim(0, 1)\n",
    "plt.ylim(0, 1)\n",
    "plt.legend()"
   ]
  },
  {
   "cell_type": "code",
   "execution_count": 295,
   "id": "554afe86-6020-45d6-b155-2a76b1583a01",
   "metadata": {},
   "outputs": [],
   "source": [
    "hgg_var_true_positive.reverse()"
   ]
  },
  {
   "cell_type": "code",
   "execution_count": 296,
   "id": "4d77ab7f-7a1d-4acb-9558-296b4c0a3d6a",
   "metadata": {},
   "outputs": [
    {
     "data": {
      "text/plain": [
       "[0.0022872745970673237,\n",
       " 0.015603113530381744,\n",
       " 0.050107271405521375,\n",
       " 0.10812248444121349,\n",
       " 0.18292877533289595,\n",
       " 0.2685153992092058,\n",
       " 0.35755953119736156,\n",
       " 0.44834128264685535,\n",
       " 0.5350626784162839,\n",
       " 0.6124931293108032,\n",
       " 0.6825475629000514,\n",
       " 0.7441089381017394,\n",
       " 0.7979396797815564,\n",
       " 0.8438802106420327,\n",
       " 0.8799092182485505,\n",
       " 0.9093423642263161,\n",
       " 0.933385343711768,\n",
       " 0.9518431177857765,\n",
       " 0.96592138158478,\n",
       " 0.9761875210553379,\n",
       " 0.9834748843064594,\n",
       " 0.9887763967446231,\n",
       " 0.9921452508023192,\n",
       " 0.9943970637777265,\n",
       " 0.9962233372932144,\n",
       " 0.9971985318888633,\n",
       " 0.9981382648628522,\n",
       " 0.9987588432419016,\n",
       " 0.9991311902693311,\n",
       " 0.9994680756751005,\n",
       " 0.9996808454050603,\n",
       " 0.9997694994592102,\n",
       " 0.9998758843241902,\n",
       " 0.99994680756751,\n",
       " 0.99994680756751,\n",
       " 0.99998226918917,\n",
       " 1.0,\n",
       " 1.0,\n",
       " 1.0,\n",
       " 1.0]"
      ]
     },
     "execution_count": 296,
     "metadata": {},
     "output_type": "execute_result"
    }
   ],
   "source": [
    "hgg_var_true_positive"
   ]
  },
  {
   "cell_type": "code",
   "execution_count": null,
   "id": "fad30a35-f1c8-4e28-8e85-15b4b96ce93e",
   "metadata": {},
   "outputs": [],
   "source": []
  }
 ],
 "metadata": {
  "kernelspec": {
   "display_name": "Python 3 (ipykernel)",
   "language": "python",
   "name": "python3"
  },
  "language_info": {
   "codemirror_mode": {
    "name": "ipython",
    "version": 3
   },
   "file_extension": ".py",
   "mimetype": "text/x-python",
   "name": "python",
   "nbconvert_exporter": "python",
   "pygments_lexer": "ipython3",
   "version": "3.11.9"
  }
 },
 "nbformat": 4,
 "nbformat_minor": 5
}
