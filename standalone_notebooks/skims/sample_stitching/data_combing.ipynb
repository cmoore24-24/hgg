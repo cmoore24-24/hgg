{
 "cells": [
  {
   "cell_type": "code",
   "execution_count": 1,
   "id": "9ed4d440",
   "metadata": {
    "editable": true,
    "slideshow": {
     "slide_type": ""
    },
    "tags": []
   },
   "outputs": [],
   "source": [
    "import pandas as pd\n",
    "import matplotlib.pyplot as plt\n",
    "import numpy as np\n",
    "import awkward as ak\n",
    "import pickle\n",
    "import os"
   ]
  },
  {
   "cell_type": "code",
   "execution_count": 2,
   "id": "75df47c4-2fe6-46f5-9c9a-687da2b7a160",
   "metadata": {},
   "outputs": [],
   "source": [
    "hbb = ak.from_parquet('parquet/signal/hbb.parquet')\n",
    "hgg = ak.from_parquet('parquet/signal/hgg.parquet')"
   ]
  },
  {
   "cell_type": "code",
   "execution_count": 3,
   "id": "a004b11d-c686-4995-8858-51b823d208b8",
   "metadata": {},
   "outputs": [],
   "source": [
    "qcd = {}\n",
    "files = os.listdir('parquet/qcd/')\n",
    "for i in files:\n",
    "    if 'qcd' in i:\n",
    "        qcd[i.rstrip('.parquet')] = ak.from_parquet(f'parquet/qcd/{i}')"
   ]
  },
  {
   "cell_type": "code",
   "execution_count": 4,
   "id": "9ab4df32-eadd-4e7f-91da-cb8e6d3546b6",
   "metadata": {},
   "outputs": [
    {
     "data": {
      "text/plain": [
       "dict_keys(['qcd_800to1000', 'qcd_300to470', 'qcd_1400to1800', 'qcd_2400to3200', 'qcd_1000to1400', 'qcd_600to800', 'qcd_3200toInf', 'qcd_1800to2400', 'qcd_470to600'])"
      ]
     },
     "execution_count": 4,
     "metadata": {},
     "output_type": "execute_result"
    }
   ],
   "source": [
    "qcd.keys()"
   ]
  },
  {
   "cell_type": "code",
   "execution_count": 5,
   "id": "ee78a58c-a89a-47c5-ae3f-bacb636b79a2",
   "metadata": {},
   "outputs": [],
   "source": [
    "for i in qcd:\n",
    "    qcd[i] = ak.firsts(qcd[i])"
   ]
  },
  {
   "cell_type": "code",
   "execution_count": 6,
   "id": "c9638c85-8481-45e7-8b82-6e04a76ffd52",
   "metadata": {},
   "outputs": [],
   "source": [
    "a = [len(qcd[i]) for i in qcd]"
   ]
  },
  {
   "cell_type": "code",
   "execution_count": 7,
   "id": "60b353d9-abc4-47fe-b742-26613e141e20",
   "metadata": {},
   "outputs": [],
   "source": [
    "def nan_remover(sample):\n",
    "    if type(sample) == dict:\n",
    "        for j in sample:\n",
    "            mask = ak.ones_like(sample[j][sample[j].fields[0]], dtype='bool')\n",
    "            mask = ak.fill_none(mask, True)\n",
    "            for k in sample[j].fields:\n",
    "                mask = mask & (~ak.is_none(ak.nan_to_none(sample[j][k])))\n",
    "            sample[j] = sample[j][mask]\n",
    "    else:\n",
    "        mask = ak.ones_like(sample[sample.fields[0]], dtype='bool')\n",
    "        mask = ak.fill_none(mask, True)\n",
    "        for j in sample.fields:\n",
    "            mask = mask & (~ak.is_none(ak.nan_to_none(sample[j])))\n",
    "        sample = sample[mask]\n",
    "    return sample"
   ]
  },
  {
   "cell_type": "code",
   "execution_count": 8,
   "id": "d14cab98-776a-4468-8a59-0a895e18f43d",
   "metadata": {},
   "outputs": [],
   "source": [
    "qcd = nan_remover(qcd)"
   ]
  },
  {
   "cell_type": "code",
   "execution_count": 9,
   "id": "770d2383-2c98-43b0-b439-a37da641a3c3",
   "metadata": {},
   "outputs": [],
   "source": [
    "b = [len(qcd[i]) for i in qcd]"
   ]
  },
  {
   "cell_type": "code",
   "execution_count": 11,
   "id": "d48eed08-0cfc-4f03-843d-370450a5b85a",
   "metadata": {},
   "outputs": [
    {
     "data": {
      "text/plain": [
       "[122602, 12967, 93184, 31027, 140063, 97857, 10293, 53340, 74813]"
      ]
     },
     "execution_count": 11,
     "metadata": {},
     "output_type": "execute_result"
    }
   ],
   "source": [
    "[(a[i] - b[i]) for i in range(len(a))]"
   ]
  },
  {
   "cell_type": "code",
   "execution_count": 12,
   "id": "2153048a-84db-4fdf-9d57-ad4853499e76",
   "metadata": {},
   "outputs": [],
   "source": [
    "vars = qcd['qcd_470to600'].fields"
   ]
  },
  {
   "cell_type": "code",
   "execution_count": 13,
   "id": "de66637e-8855-45d1-b8db-475c0f2d7b29",
   "metadata": {},
   "outputs": [],
   "source": [
    "IL = 44.99"
   ]
  },
  {
   "cell_type": "code",
   "execution_count": 14,
   "id": "8fd33901-1046-4549-8b1b-075620a38616",
   "metadata": {},
   "outputs": [],
   "source": [
    "xsec = {}\n",
    "xsec['qcd_300to470'] = 6833\n",
    "xsec['qcd_470to600'] = 549.5\n",
    "xsec['qcd_600to800'] = 156.5\n",
    "xsec['qcd_800to1000'] = 26.22\n",
    "xsec['qcd_1000to1400'] = 7.475\n",
    "xsec['qcd_1400to1800'] = 0.6482\n",
    "xsec['qcd_1800to2400'] = 0.08742\n",
    "xsec['qcd_2400to3200'] = 0.005237\n",
    "xsec['qcd_3200toInf'] = 0.0001353"
   ]
  },
  {
   "cell_type": "code",
   "execution_count": 15,
   "id": "2d87dad1-c490-4826-94b8-b0a74fc90d54",
   "metadata": {},
   "outputs": [],
   "source": [
    "qcd_frac = {}\n",
    "for i in qcd:\n",
    "    qcd_frac[i] = ((xsec[i]*1000)*IL)/len(qcd[i])\n",
    "qcd_frac['tot'] = sum(qcd_frac.values())\n",
    "sval = {}\n",
    "for i in qcd:\n",
    "    sval[i] = qcd_frac[i]/qcd_frac['tot']\n",
    "combed = {}\n",
    "for i in qcd:\n",
    "    temp = qcd[i]\n",
    "    combed[i] = temp[np.random.rand(len(temp)) < sval[i]]\n",
    "qcd = ak.concatenate([combed[x] for x in combed])"
   ]
  },
  {
   "cell_type": "code",
   "execution_count": 16,
   "id": "912392ba-3532-4eca-be6f-f79601db44c2",
   "metadata": {},
   "outputs": [
    {
     "data": {
      "image/png": "[encoded data removed]",
      "text/plain": [
       "<Figure size 640x480 with 1 Axes>"
      ]
     },
     "metadata": {},
     "output_type": "display_data"
    }
   ],
   "source": [
    "fig, ax = plt.subplots()\n",
    "plt.hist(qcd['color_ring'], range=(.5,5), bins=75, density=True, histtype='step', label='QCD',#weights=21*np.ones_like(tst)\n",
    "        )\n",
    "plt.hist(hgg['color_ring'], range=(.5,5), bins=75, density=True, histtype='step', label='Signal',#weights=21*np.ones_like(tst)\n",
    "        )\n",
    "plt.legend()\n",
    "#plt.yscale('log')\n",
    "#plt.xlim(100, 5000)\n",
    "plt.show()"
   ]
  },
  {
   "cell_type": "code",
   "execution_count": 17,
   "id": "b789c770-c187-4af4-9b4a-de7200708916",
   "metadata": {},
   "outputs": [
    {
     "data": {
      "image/png": "[encoded data removed]",
      "text/plain": [
       "<Figure size 640x480 with 1 Axes>"
      ]
     },
     "metadata": {},
     "output_type": "display_data"
    }
   ],
   "source": [
    "fig, ax = plt.subplots()\n",
    "plt.hist(qcd['pt'], range=(400,1200), bins=75, histtype='step' #density=True, #weights=21*np.ones_like(tst)\n",
    "        )\n",
    "plt.yscale('log')\n",
    "#plt.xlim(100, 5000)\n",
    "plt.show()"
   ]
  },
  {
   "cell_type": "code",
   "execution_count": 18,
   "id": "324fd420-b8d5-45a6-9b52-3d67f2d9e4fa",
   "metadata": {},
   "outputs": [],
   "source": [
    "hgg = nan_remover(hgg)"
   ]
  },
  {
   "cell_type": "code",
   "execution_count": 19,
   "id": "fdec27ee-ccaf-4595-b51f-d23836782aaa",
   "metadata": {},
   "outputs": [],
   "source": [
    "hbb = nan_remover(hbb)"
   ]
  },
  {
   "cell_type": "code",
   "execution_count": 20,
   "id": "bb8bbe96-8e41-43ce-a36f-aa61f06e48c4",
   "metadata": {},
   "outputs": [
    {
     "data": {
      "text/plain": [
       "<pyarrow._parquet.FileMetaData object at 0x7f33545f4d10>\n",
       "  created_by: parquet-cpp-arrow version 17.0.0\n",
       "  num_columns: 20\n",
       "  num_rows: 1917517\n",
       "  num_row_groups: 1\n",
       "  format_version: 2.6\n",
       "  serialized_size: 0"
      ]
     },
     "execution_count": 20,
     "metadata": {},
     "output_type": "execute_result"
    }
   ],
   "source": [
    "ak.to_parquet(hgg, 'parquet/combed/hgg.parquet')\n",
    "ak.to_parquet(hbb, 'parquet/combed/hbb.parquet')\n",
    "ak.to_parquet(qcd, 'parquet/combed/qcd_w_300to470.parquet')"
   ]
  },
  {
   "cell_type": "code",
   "execution_count": 32,
   "id": "bdfe27b1-fcc9-4c2d-890b-c008d16c719e",
   "metadata": {},
   "outputs": [],
   "source": [
    "ttboosted = {}\n",
    "files = os.listdir('parquet/ttboosted')\n",
    "for i in files:\n",
    "    if 'ttboosted' in i:\n",
    "        ttboosted[i.rstrip('.parquet')] = ak.from_parquet(f'parquet/ttboosted/{i}')"
   ]
  },
  {
   "cell_type": "code",
   "execution_count": 33,
   "id": "d05b9ed7-9631-4863-9422-0a2695b419c4",
   "metadata": {},
   "outputs": [],
   "source": [
    "for i in ttboosted:\n",
    "    ttboosted[i] = ak.firsts(ttboosted[i])"
   ]
  },
  {
   "cell_type": "code",
   "execution_count": 34,
   "id": "cf266f38-fe1e-4a10-82ce-3d371b4a4195",
   "metadata": {},
   "outputs": [],
   "source": [
    "vars = ttboosted['ttboosted_700to1000'].fields"
   ]
  },
  {
   "cell_type": "code",
   "execution_count": 35,
   "id": "963fc920-8ecf-4170-8121-50ddd17ddde5",
   "metadata": {},
   "outputs": [],
   "source": [
    "xsec = {}\n",
    "xsec['ttboosted_700to1000'] = 64.35\n",
    "xsec['ttboosted_1000toInf'] = 16.44"
   ]
  },
  {
   "cell_type": "code",
   "execution_count": 36,
   "id": "33a4bd2b-a75d-4c4d-b712-85cc79b2fb48",
   "metadata": {},
   "outputs": [
    {
     "data": {
      "text/plain": [
       "{'ttboosted_700to1000': 64.35, 'ttboosted_1000toInf': 16.44}"
      ]
     },
     "execution_count": 36,
     "metadata": {},
     "output_type": "execute_result"
    }
   ],
   "source": [
    "xsec"
   ]
  },
  {
   "cell_type": "code",
   "execution_count": 37,
   "id": "4b71460b-c05c-43dc-b3c7-2fffdef4a655",
   "metadata": {},
   "outputs": [],
   "source": [
    "ttboosted = nan_remover(ttboosted)"
   ]
  },
  {
   "cell_type": "code",
   "execution_count": 38,
   "id": "9fc399db-3b0a-4efe-bb86-c7f9619aa6ac",
   "metadata": {},
   "outputs": [],
   "source": [
    "ttboosted_frac = {}\n",
    "for i in ttboosted:\n",
    "    ttboosted_frac[i] = ((xsec[i]*1000)*IL)/len(ttboosted[i])\n",
    "ttboosted_frac['tot'] = sum(ttboosted_frac.values())\n",
    "sval = {}\n",
    "for i in ttboosted:\n",
    "    sval[i] = ttboosted_frac[i]/ttboosted_frac['tot']\n",
    "combed = {}\n",
    "for i in ttboosted:\n",
    "    temp = ttboosted[i]\n",
    "    combed[i] = temp[np.random.rand(len(temp)) < sval[i]]\n",
    "ttboosted = ak.concatenate([combed[x] for x in combed])"
   ]
  },
  {
   "cell_type": "code",
   "execution_count": 39,
   "id": "b34142f7-ad28-4b33-a132-4f84de902128",
   "metadata": {},
   "outputs": [
    {
     "data": {
      "image/png": "[encoded data removed]",
      "text/plain": [
       "<Figure size 640x480 with 1 Axes>"
      ]
     },
     "metadata": {},
     "output_type": "display_data"
    }
   ],
   "source": [
    "fig, ax = plt.subplots()\n",
    "plt.hist(ttboosted['pt'], range=(400,1500), bins=75, #density=True, #weights=21*np.ones_like(tst)\n",
    "        )\n",
    "plt.yscale('log')\n",
    "#plt.xlim(100, 5000)\n",
    "plt.show()"
   ]
  },
  {
   "cell_type": "code",
   "execution_count": 40,
   "id": "f7de43de-ff6e-4f58-b377-3390ad58a63d",
   "metadata": {},
   "outputs": [
    {
     "data": {
      "text/plain": [
       "<pyarrow._parquet.FileMetaData object at 0x7f4d127cddf0>\n",
       "  created_by: parquet-cpp-arrow version 17.0.0\n",
       "  num_columns: 20\n",
       "  num_rows: 469777\n",
       "  num_row_groups: 1\n",
       "  format_version: 2.6\n",
       "  serialized_size: 0"
      ]
     },
     "execution_count": 40,
     "metadata": {},
     "output_type": "execute_result"
    }
   ],
   "source": [
    "ak.to_parquet(ttboosted, 'parquet/combed/ttboosted.parquet')"
   ]
  },
  {
   "cell_type": "code",
   "execution_count": 41,
   "id": "8cc2ecf7-85a2-4f99-b60d-ad2c2884e9ae",
   "metadata": {},
   "outputs": [],
   "source": [
    "wqq = {}\n",
    "files = os.listdir('parquet/wqq')\n",
    "for i in files:\n",
    "    if 'wqq' in i:\n",
    "        wqq[i.rstrip('.parquet')] = ak.from_parquet(f'parquet/wqq/{i}')"
   ]
  },
  {
   "cell_type": "code",
   "execution_count": 42,
   "id": "0d0e89d1-8a84-4a98-9a78-ef79edcd09f2",
   "metadata": {},
   "outputs": [],
   "source": [
    "for i in wqq:\n",
    "    wqq[i] = ak.firsts(wqq[i])"
   ]
  },
  {
   "cell_type": "code",
   "execution_count": 43,
   "id": "4efe17e2-24ff-4059-81dc-084cd526eef8",
   "metadata": {},
   "outputs": [],
   "source": [
    "vars = wqq['wqq_600to800'].fields"
   ]
  },
  {
   "cell_type": "code",
   "execution_count": 44,
   "id": "8651602d-563d-4e50-b4b8-996d3213c4ad",
   "metadata": {},
   "outputs": [],
   "source": [
    "xsec = {}\n",
    "xsec['wqq_200to400'] = 2574\n",
    "xsec['wqq_400to600'] = 276.2\n",
    "xsec['wqq_600to800'] = 58.9\n",
    "xsec['wqq_800toInf'] = 28.93"
   ]
  },
  {
   "cell_type": "code",
   "execution_count": 45,
   "id": "23e3d20b-05c1-49d0-9bcd-55e5ca981b08",
   "metadata": {},
   "outputs": [
    {
     "data": {
      "text/plain": [
       "<matplotlib.legend.Legend at 0x7f4d11cc4390>"
      ]
     },
     "execution_count": 45,
     "metadata": {},
     "output_type": "execute_result"
    },
    {
     "data": {
      "image/png": "[encoded data removed]",
      "text/plain": [
       "<Figure size 640x480 with 1 Axes>"
      ]
     },
     "metadata": {},
     "output_type": "display_data"
    }
   ],
   "source": [
    "import hist\n",
    "h = hist.Hist.new.Reg(75, 40, 200).StrCat(list(wqq), name=\"name\").Double()\n",
    "for name, samp in wqq.items():\n",
    "    h.fill(samp[\"msoftdrop\"], name, weight=xsec[name]*1000*IL/len(samp))\n",
    "\n",
    "fig, ax = plt.subplots()\n",
    "h.plot1d(ax=ax, overlay=\"name\")\n",
    "ax.set_yscale(\"log\")\n",
    "ax.legend()"
   ]
  },
  {
   "cell_type": "code",
   "execution_count": 46,
   "id": "af96f372-3b10-42cd-8554-e89bb97f5158",
   "metadata": {},
   "outputs": [],
   "source": [
    "del wqq['wqq_200to400']"
   ]
  },
  {
   "cell_type": "code",
   "execution_count": 47,
   "id": "1ca1b472-7583-4774-b729-6661f82c905b",
   "metadata": {},
   "outputs": [],
   "source": [
    "del wqq['wqq_400to600']"
   ]
  },
  {
   "cell_type": "code",
   "execution_count": 48,
   "id": "28fdbbd6-532f-48cb-a1a3-a92eac437f3d",
   "metadata": {},
   "outputs": [],
   "source": [
    "wqq = nan_remover(wqq)"
   ]
  },
  {
   "cell_type": "code",
   "execution_count": 49,
   "id": "1e27589b-dae1-4fd7-b07f-36d5cb467950",
   "metadata": {},
   "outputs": [],
   "source": [
    "wqq_frac = {}\n",
    "for i in wqq:\n",
    "    wqq_frac[i] = ((xsec[i]*1000)*IL)/len(wqq[i])\n",
    "wqq_frac['tot'] = sum(wqq_frac.values())\n",
    "sval = {}\n",
    "for i in wqq:\n",
    "    sval[i] = wqq_frac[i]/wqq_frac['tot']\n",
    "combed = {}\n",
    "for i in wqq:\n",
    "    temp = wqq[i]\n",
    "    combed[i] = temp[np.random.rand(len(temp)) < sval[i]]\n",
    "wqq = ak.concatenate([combed[x] for x in combed])"
   ]
  },
  {
   "cell_type": "code",
   "execution_count": 50,
   "id": "49891971-953a-433a-8d75-182647f7923c",
   "metadata": {},
   "outputs": [
    {
     "data": {
      "image/png": "[encoded data removed]",
      "text/plain": [
       "<Figure size 640x480 with 1 Axes>"
      ]
     },
     "metadata": {},
     "output_type": "display_data"
    }
   ],
   "source": [
    "fig, ax = plt.subplots()\n",
    "plt.hist(wqq['pt'], range=(400,1500), bins=75, #density=True, #weights=21*np.ones_like(tst)\n",
    "        )\n",
    "plt.yscale('log')\n",
    "#plt.xlim(100, 5000)\n",
    "plt.show()"
   ]
  },
  {
   "cell_type": "code",
   "execution_count": 51,
   "id": "ee1fd399-30a5-498f-a77a-03f4496d7132",
   "metadata": {},
   "outputs": [
    {
     "data": {
      "text/plain": [
       "<pyarrow._parquet.FileMetaData object at 0x7f4d0d6b9df0>\n",
       "  created_by: parquet-cpp-arrow version 17.0.0\n",
       "  num_columns: 20\n",
       "  num_rows: 101803\n",
       "  num_row_groups: 1\n",
       "  format_version: 2.6\n",
       "  serialized_size: 0"
      ]
     },
     "execution_count": 51,
     "metadata": {},
     "output_type": "execute_result"
    }
   ],
   "source": [
    "ak.to_parquet(wqq, 'parquet/combed/wqq.parquet')"
   ]
  },
  {
   "cell_type": "code",
   "execution_count": 52,
   "id": "2ccbba71-0d9a-4f2a-af55-ef00f274ad56",
   "metadata": {},
   "outputs": [],
   "source": [
    "zqq = {}\n",
    "files = os.listdir('parquet/zqq')\n",
    "for i in files:\n",
    "    if 'zqq' in i:\n",
    "        zqq[i.rstrip('.parquet')] = ak.from_parquet(f'parquet/zqq/{i}')"
   ]
  },
  {
   "cell_type": "code",
   "execution_count": 53,
   "id": "8810951e-5792-4bf4-8185-45b383c84c64",
   "metadata": {},
   "outputs": [],
   "source": [
    "for i in zqq:\n",
    "    zqq[i] = ak.firsts(zqq[i])"
   ]
  },
  {
   "cell_type": "code",
   "execution_count": 54,
   "id": "2ae2fba3-b375-4bac-a664-033b97009930",
   "metadata": {},
   "outputs": [],
   "source": [
    "vars = zqq['zqq_600to800'].fields"
   ]
  },
  {
   "cell_type": "code",
   "execution_count": 55,
   "id": "a42c13ba-a7df-488b-8664-984edc5282f4",
   "metadata": {},
   "outputs": [],
   "source": [
    "xsec = {}\n",
    "xsec['zqq_200to400'] = 1006\n",
    "xsec['zqq_400to600'] = 114.3\n",
    "xsec['zqq_600to800'] = 25.19\n",
    "xsec['zqq_800toInf'] = 12.9"
   ]
  },
  {
   "cell_type": "code",
   "execution_count": 56,
   "id": "4a6045cb-1469-4121-b62e-19fd910f5b8d",
   "metadata": {},
   "outputs": [
    {
     "data": {
      "text/plain": [
       "<matplotlib.legend.Legend at 0x7f4d0d95fd10>"
      ]
     },
     "execution_count": 56,
     "metadata": {},
     "output_type": "execute_result"
    },
    {
     "data": {
      "image/png": "[encoded data removed]",
      "text/plain": [
       "<Figure size 640x480 with 1 Axes>"
      ]
     },
     "metadata": {},
     "output_type": "display_data"
    }
   ],
   "source": [
    "import hist\n",
    "h = hist.Hist.new.Reg(75, 40, 200).StrCat(list(zqq), name=\"name\").Double()\n",
    "for name, samp in zqq.items():\n",
    "    h.fill(samp[\"msoftdrop\"], name, weight=xsec[name]*1000*IL/len(samp))\n",
    "\n",
    "fig, ax = plt.subplots()\n",
    "h.plot1d(ax=ax, overlay=\"name\")\n",
    "ax.set_yscale(\"log\")\n",
    "ax.legend()"
   ]
  },
  {
   "cell_type": "code",
   "execution_count": 57,
   "id": "9e54d43f-8c83-42e8-96d8-0ab92aaf1afd",
   "metadata": {},
   "outputs": [],
   "source": [
    "del zqq['zqq_200to400']\n",
    "del zqq['zqq_400to600']\n",
    "del zqq['zqq_600to800']"
   ]
  },
  {
   "cell_type": "code",
   "execution_count": 58,
   "id": "d3d3dcc4-d11f-46c6-84e4-fd13a0663e9c",
   "metadata": {},
   "outputs": [],
   "source": [
    "zqq = nan_remover(zqq)"
   ]
  },
  {
   "cell_type": "code",
   "execution_count": 59,
   "id": "94beb726-fd28-400d-af71-be86bd2cdb14",
   "metadata": {},
   "outputs": [],
   "source": [
    "zqq_frac = {}\n",
    "for i in zqq:\n",
    "    zqq_frac[i] = ((xsec[i]*1000)*IL)/len(zqq[i])\n",
    "zqq_frac['tot'] = sum(zqq_frac.values())\n",
    "sval = {}\n",
    "for i in zqq:\n",
    "    sval[i] = zqq_frac[i]/zqq_frac['tot']\n",
    "combed = {}\n",
    "for i in zqq:\n",
    "    temp = zqq[i]\n",
    "    combed[i] = temp[np.random.rand(len(temp)) < sval[i]]\n",
    "zqq = ak.concatenate([combed[x] for x in combed])"
   ]
  },
  {
   "cell_type": "code",
   "execution_count": 60,
   "id": "38555854-80ec-40ef-b16a-5c16730ec6f6",
   "metadata": {},
   "outputs": [
    {
     "data": {
      "image/png": "[encoded data removed]",
      "text/plain": [
       "<Figure size 640x480 with 1 Axes>"
      ]
     },
     "metadata": {},
     "output_type": "display_data"
    }
   ],
   "source": [
    "fig, ax = plt.subplots()\n",
    "plt.hist(zqq['pt'], range=(400,1500), bins=75, #density=True, #weights=21*np.ones_like(tst)\n",
    "        )\n",
    "plt.yscale('log')\n",
    "#plt.xlim(100, 5000)\n",
    "plt.show()"
   ]
  },
  {
   "cell_type": "code",
   "execution_count": 61,
   "id": "801e4b2f-e880-4ce8-8945-06203d93d79f",
   "metadata": {},
   "outputs": [
    {
     "data": {
      "text/plain": [
       "<pyarrow._parquet.FileMetaData object at 0x7f4d0d8bb150>\n",
       "  created_by: parquet-cpp-arrow version 17.0.0\n",
       "  num_columns: 20\n",
       "  num_rows: 1116320\n",
       "  num_row_groups: 1\n",
       "  format_version: 2.6\n",
       "  serialized_size: 0"
      ]
     },
     "execution_count": 61,
     "metadata": {},
     "output_type": "execute_result"
    }
   ],
   "source": [
    "ak.to_parquet(zqq, 'parquet/combed/zqq.parquet')"
   ]
  },
  {
   "cell_type": "code",
   "execution_count": 62,
   "id": "2e90d97a-97f1-41e3-ac24-a865fd5bad71",
   "metadata": {},
   "outputs": [],
   "source": [
    "singletop = ak.from_parquet('parquet/singletop/singletop.parquet')"
   ]
  },
  {
   "cell_type": "code",
   "execution_count": 63,
   "id": "76f6b100-43e0-4c46-b268-9f15e9a75dba",
   "metadata": {},
   "outputs": [],
   "source": [
    "singletop = ak.firsts(singletop)"
   ]
  },
  {
   "cell_type": "code",
   "execution_count": 64,
   "id": "e1795360-b776-4ef3-a51b-2ec4b08542a2",
   "metadata": {},
   "outputs": [],
   "source": [
    "singletop = nan_remover(singletop)"
   ]
  },
  {
   "cell_type": "code",
   "execution_count": 65,
   "id": "3c5cc24f-c410-4d30-be37-d71d09b9282a",
   "metadata": {},
   "outputs": [
    {
     "data": {
      "text/plain": [
       "<pyarrow._parquet.FileMetaData object at 0x7f4d11c96fc0>\n",
       "  created_by: parquet-cpp-arrow version 17.0.0\n",
       "  num_columns: 20\n",
       "  num_rows: 30249\n",
       "  num_row_groups: 1\n",
       "  format_version: 2.6\n",
       "  serialized_size: 0"
      ]
     },
     "execution_count": 65,
     "metadata": {},
     "output_type": "execute_result"
    }
   ],
   "source": [
    "ak.to_parquet(singletop, 'parquet/combed/singletop.parquet')"
   ]
  },
  {
   "cell_type": "code",
   "execution_count": 66,
   "id": "a16c1cd2-be66-4294-9ab8-251a8b2a21a4",
   "metadata": {},
   "outputs": [],
   "source": [
    "ww = ak.from_parquet('parquet/diboson/ww.parquet')"
   ]
  },
  {
   "cell_type": "code",
   "execution_count": 67,
   "id": "d482b313-2f6e-4b2f-9473-422d9b6fc165",
   "metadata": {},
   "outputs": [],
   "source": [
    "ww = ak.firsts(ww)"
   ]
  },
  {
   "cell_type": "code",
   "execution_count": 68,
   "id": "86570a95-b31c-46cd-a8fc-932609f0723b",
   "metadata": {},
   "outputs": [],
   "source": [
    "ww = nan_remover(ww)"
   ]
  },
  {
   "cell_type": "code",
   "execution_count": 69,
   "id": "30de2929-1c8e-4182-b562-909fd6cb8848",
   "metadata": {},
   "outputs": [
    {
     "data": {
      "text/plain": [
       "<pyarrow._parquet.FileMetaData object at 0x7f4d3403e520>\n",
       "  created_by: parquet-cpp-arrow version 17.0.0\n",
       "  num_columns: 20\n",
       "  num_rows: 8939\n",
       "  num_row_groups: 1\n",
       "  format_version: 2.6\n",
       "  serialized_size: 0"
      ]
     },
     "execution_count": 69,
     "metadata": {},
     "output_type": "execute_result"
    }
   ],
   "source": [
    "ak.to_parquet(ww, 'parquet/combed/ww.parquet')"
   ]
  },
  {
   "cell_type": "code",
   "execution_count": 70,
   "id": "0f7f1823-a9ee-4ec4-bdcb-7f27a6ee6021",
   "metadata": {},
   "outputs": [],
   "source": [
    "wz = ak.from_parquet('parquet/diboson/wz.parquet')"
   ]
  },
  {
   "cell_type": "code",
   "execution_count": 71,
   "id": "6d291a56-80c8-4295-b8e3-15d2e8a9cd09",
   "metadata": {},
   "outputs": [],
   "source": [
    "wz = ak.firsts(wz)"
   ]
  },
  {
   "cell_type": "code",
   "execution_count": 72,
   "id": "a4922f3f-088b-4452-8864-f06c7a497b87",
   "metadata": {},
   "outputs": [],
   "source": [
    "wz = nan_remover(wz)"
   ]
  },
  {
   "cell_type": "code",
   "execution_count": 73,
   "id": "3661b8c7-740c-44ba-81a4-7ef8cc7e8ebf",
   "metadata": {},
   "outputs": [
    {
     "data": {
      "text/plain": [
       "<pyarrow._parquet.FileMetaData object at 0x7f4d340ea110>\n",
       "  created_by: parquet-cpp-arrow version 17.0.0\n",
       "  num_columns: 20\n",
       "  num_rows: 8119\n",
       "  num_row_groups: 1\n",
       "  format_version: 2.6\n",
       "  serialized_size: 0"
      ]
     },
     "execution_count": 73,
     "metadata": {},
     "output_type": "execute_result"
    }
   ],
   "source": [
    "ak.to_parquet(wz, 'parquet/combed/wz.parquet')"
   ]
  },
  {
   "cell_type": "code",
   "execution_count": 74,
   "id": "7111be24-b3f4-4289-b1b4-e54041db7cc8",
   "metadata": {},
   "outputs": [],
   "source": [
    "zz = ak.from_parquet('parquet/diboson/zz.parquet')"
   ]
  },
  {
   "cell_type": "code",
   "execution_count": 75,
   "id": "6a0f9500-0195-42da-a415-89387456fff7",
   "metadata": {},
   "outputs": [],
   "source": [
    "zz = ak.firsts(zz)"
   ]
  },
  {
   "cell_type": "code",
   "execution_count": 76,
   "id": "38df35b2-519f-47b4-ad43-10272addfaa6",
   "metadata": {},
   "outputs": [],
   "source": [
    "zz = nan_remover(zz)"
   ]
  },
  {
   "cell_type": "code",
   "execution_count": 77,
   "id": "c47b09f4-9c45-44fc-a9a2-77e9c0f940f7",
   "metadata": {},
   "outputs": [
    {
     "data": {
      "text/plain": [
       "<pyarrow._parquet.FileMetaData object at 0x7f4d37231ad0>\n",
       "  created_by: parquet-cpp-arrow version 17.0.0\n",
       "  num_columns: 20\n",
       "  num_rows: 2807\n",
       "  num_row_groups: 1\n",
       "  format_version: 2.6\n",
       "  serialized_size: 0"
      ]
     },
     "execution_count": 77,
     "metadata": {},
     "output_type": "execute_result"
    }
   ],
   "source": [
    "ak.to_parquet(zz, 'parquet/combed/zz.parquet')"
   ]
  },
  {
   "cell_type": "code",
   "execution_count": 78,
   "id": "83c47cbe-9da9-419a-8833-ed84897ba231",
   "metadata": {},
   "outputs": [],
   "source": [
    "ww4q = ak.from_parquet('parquet/diboson/ww4q.parquet')"
   ]
  },
  {
   "cell_type": "code",
   "execution_count": 79,
   "id": "f6783da1-5e22-4202-92c4-9e65ba53d5a0",
   "metadata": {},
   "outputs": [],
   "source": [
    "ww4q = ak.firsts(ww4q)"
   ]
  },
  {
   "cell_type": "code",
   "execution_count": 80,
   "id": "03093df5-8cca-4c3e-bc11-1546ea3323ef",
   "metadata": {},
   "outputs": [],
   "source": [
    "ww4q = nan_remover(ww4q)"
   ]
  },
  {
   "cell_type": "code",
   "execution_count": 81,
   "id": "6c03ca2c-bf54-42a7-b416-a54aed5a1e38",
   "metadata": {},
   "outputs": [
    {
     "data": {
      "text/plain": [
       "<pyarrow._parquet.FileMetaData object at 0x7f4d340db510>\n",
       "  created_by: parquet-cpp-arrow version 17.0.0\n",
       "  num_columns: 20\n",
       "  num_rows: 10865\n",
       "  num_row_groups: 1\n",
       "  format_version: 2.6\n",
       "  serialized_size: 0"
      ]
     },
     "execution_count": 81,
     "metadata": {},
     "output_type": "execute_result"
    }
   ],
   "source": [
    "ak.to_parquet(ww4q, 'parquet/combed/ww4q.parquet')"
   ]
  },
  {
   "cell_type": "code",
   "execution_count": null,
   "id": "be8f2c22-aa1f-402a-b50e-f9a06ba866ff",
   "metadata": {},
   "outputs": [],
   "source": []
  }
 ],
 "metadata": {
  "kernelspec": {
   "display_name": "Python 3 (ipykernel)",
   "language": "python",
   "name": "python3"
  },
  "language_info": {
   "codemirror_mode": {
    "name": "ipython",
    "version": 3
   },
   "file_extension": ".py",
   "mimetype": "text/x-python",
   "name": "python",
   "nbconvert_exporter": "python",
   "pygments_lexer": "ipython3",
   "version": "3.11.9"
  }
 },
 "nbformat": 4,
 "nbformat_minor": 5
}
