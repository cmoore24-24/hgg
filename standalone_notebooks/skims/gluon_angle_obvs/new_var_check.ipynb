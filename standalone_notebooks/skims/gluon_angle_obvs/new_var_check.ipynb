{
 "cells": [
  {
   "cell_type": "code",
   "execution_count": 42,
   "id": "e97df6ec-edfa-42d5-a1db-b3a00663434f",
   "metadata": {},
   "outputs": [],
   "source": [
    "import awkward as ak\n",
    "import numpy as np\n",
    "import matplotlib.pyplot as plt\n",
    "import json\n",
    "import os\n",
    "import gc\n",
    "import hist\n",
    "import fastjet"
   ]
  },
  {
   "cell_type": "code",
   "execution_count": 2,
   "id": "fbab856f-8233-4383-9ffc-81173621112c",
   "metadata": {
    "jupyter": {
     "source_hidden": true
    }
   },
   "outputs": [],
   "source": [
    "IL = 44.99\n",
    "xsec = {}\n",
    "xsec['qcd_300to470'] = 6833 #1300\n",
    "xsec['qcd_470to600'] = 549.5\n",
    "xsec['qcd_600to800'] = 156.5\n",
    "xsec['qcd_800to1000'] = 26.22\n",
    "xsec['qcd_1000to1400'] = 7.475\n",
    "xsec['qcd_1400to1800'] = 0.6482\n",
    "xsec['qcd_1800to2400'] = 0.08742\n",
    "xsec['qcd_2400to3200'] = 0.005237\n",
    "xsec['qcd_3200toInf'] = 0.0001353"
   ]
  },
  {
   "cell_type": "code",
   "execution_count": 3,
   "id": "14826b8f-28f7-4e57-891b-729b6ce0487a",
   "metadata": {
    "jupyter": {
     "source_hidden": true
    },
    "scrolled": true
   },
   "outputs": [],
   "source": [
    "#QCD sample stitching\n",
    "\n",
    "# qcd = {}\n",
    "# path = \"/project01/ndcms/cmoore24/skims/jet_skims/nolepton/mc\"\n",
    "\n",
    "# for i in os.listdir(path):\n",
    "#     if 'qcd' in i:\n",
    "#         qcd[i] = ak.from_parquet(f'{path}/{i}', columns=['event'])\n",
    "\n",
    "# qcd_frac = {}\n",
    "# for i in qcd:\n",
    "#     qcd_frac[i] = ((xsec[i]*1000)*IL)/len(qcd[i])\n",
    "# qcd_frac['tot'] = sum(qcd_frac.values())\n",
    "# sval = {}\n",
    "# for i in qcd:\n",
    "#     sval[i] = qcd_frac[i]/qcd_frac['tot']\n",
    "\n",
    "# del(qcd)\n",
    "\n",
    "# combed = {}\n",
    "# for i in os.listdir(path):\n",
    "#     if 'qcd' in i:\n",
    "#         gc.collect()\n",
    "#         print(i)\n",
    "#         qcd_sample = ak.from_parquet(f'{path}/{i}', columns=['goodjets', 'JetCons'])\n",
    "#         print('    Read')\n",
    "#         ak.to_parquet(qcd_sample[np.random.rand(len(qcd_sample)) < sval[i]], f'{path}/reduced/{i}.parquet')\n",
    "#         print('    Written')"
   ]
  },
  {
   "cell_type": "code",
   "execution_count": 36,
   "id": "035d1421-1d01-476b-9550-e11c62fd4d90",
   "metadata": {
    "jupyter": {
     "source_hidden": true
    }
   },
   "outputs": [],
   "source": [
    "qcd_scale = {}\n",
    "path = '/project01/ndcms/cmoore24/skims/jet_skims/nolepton/mc/comparison'\n",
    "for i in os.listdir(path):\n",
    "    qcd_scale[i] = ak.from_parquet(f'{path}/{i}/*')\n",
    "\n",
    "\n",
    "path = '/scratch365/cmoore24/training/hgg/batch2024/ml_results_checking'\n",
    "with open(f'{path}/subregion_event_totals.json', 'r') as f:\n",
    "    totals = json.load(f)\n",
    "with open(f'{path}/my_xsecs.json', 'r') as f:\n",
    "    xsecs = json.load(f)\n",
    "\n",
    "xsecs2 = {}\n",
    "for i in xsecs:\n",
    "    if type(xsecs[i]) == dict:\n",
    "        for j in xsecs[i]:\n",
    "            xsecs2[j] = xsecs[i][j]\n",
    "    else:\n",
    "        xsecs2[i] = xsecs[i]\n",
    "xsecs = xsecs2\n",
    "\n",
    "totals2 = {}\n",
    "for i in totals:\n",
    "    if type(totals[i]) == dict:\n",
    "        for j in totals[i]:\n",
    "            totals2[f'{i}_{j}'] = totals[i][j]\n",
    "    else:\n",
    "        totals2[i] = totals[i]\n",
    "totals = totals2\n",
    "\n",
    "qcd_hist_dict = {}\n",
    "for i in qcd_scale:\n",
    "    qcd_hist = (hist.Hist.new\n",
    "        .Reg(40, 40, 200, name='Msd', label='QCD Msd', flow=False)\n",
    "        .Weight())\n",
    "    qcd_hist.fill(Msd=qcd_scale[i].goodjets_msd); \n",
    "    qcd_hist_dict[i] = qcd_hist\n",
    "\n",
    "for i in qcd_hist_dict:\n",
    "    scale = ((44.99*(xsecs[i]*1000))/totals[i])\n",
    "    qcd_hist_dict[i].view(flow=True)[:] *= scale"
   ]
  },
  {
   "cell_type": "code",
   "execution_count": 4,
   "id": "58e6de43-5da8-4106-8dda-cbc663c83a45",
   "metadata": {},
   "outputs": [],
   "source": [
    "qcd = ak.from_parquet('/project01/ndcms/cmoore24/skims/jet_skims/nolepton/mc/reduced/*', \n",
    "                      columns=['goodjets','JetCons'])"
   ]
  },
  {
   "cell_type": "code",
   "execution_count": 37,
   "id": "b29d7588-f5eb-431c-917a-1c812feaab90",
   "metadata": {},
   "outputs": [
    {
     "data": {
      "image/png": "[encoded data removed]",
      "text/plain": [
       "<Figure size 640x480 with 1 Axes>"
      ]
     },
     "metadata": {},
     "output_type": "display_data"
    }
   ],
   "source": [
    "plt.hist(qcd.goodjets.msoftdrop, bins=40, histtype='step', density=True, label='Stitch')\n",
    "sum(qcd_hist_dict[i] for i in qcd_hist_dict).plot1d(density=True, label='Scale', yerr=False)\n",
    "# plt.yscale('log')\n",
    "plt.legend()\n",
    "plt.show()"
   ]
  },
  {
   "cell_type": "code",
   "execution_count": 45,
   "id": "fe215baa-6eea-4933-911b-d8851ee8830d",
   "metadata": {},
   "outputs": [],
   "source": [
    "jetdef = fastjet.JetDefinition(fastjet.kt_algorithm, 0.5)"
   ]
  },
  {
   "cell_type": "code",
   "execution_count": 70,
   "id": "5b0a026d-b78f-4c07-bc1e-b1a0f0bd2a63",
   "metadata": {},
   "outputs": [
    {
     "ename": "AttributeError",
     "evalue": "no field named 'astype'",
     "output_type": "error",
     "traceback": [
      "\u001b[0;31m---------------------------------------------------------------------------\u001b[0m",
      "\u001b[0;31mAttributeError\u001b[0m                            Traceback (most recent call last)",
      "Cell \u001b[0;32mIn[70], line 5\u001b[0m\n\u001b[1;32m      1\u001b[0m particles \u001b[38;5;241m=\u001b[39m ak\u001b[38;5;241m.\u001b[39mflatten(qcd\u001b[38;5;241m.\u001b[39mJetCons, axis\u001b[38;5;241m=\u001b[39m\u001b[38;5;241m1\u001b[39m)\n\u001b[1;32m      3\u001b[0m \u001b[38;5;66;03m# Keep only the necessary fields and cast to float64\u001b[39;00m\n\u001b[1;32m      4\u001b[0m fj_ready \u001b[38;5;241m=\u001b[39m ak\u001b[38;5;241m.\u001b[39mzip({\n\u001b[0;32m----> 5\u001b[0m     \u001b[38;5;124m\"\u001b[39m\u001b[38;5;124mpx\u001b[39m\u001b[38;5;124m\"\u001b[39m: \u001b[43mparticles\u001b[49m\u001b[38;5;241;43m.\u001b[39;49m\u001b[43mpx\u001b[49m\u001b[38;5;241;43m.\u001b[39;49m\u001b[43mastype\u001b[49m(\u001b[38;5;124m\"\u001b[39m\u001b[38;5;124mfloat64\u001b[39m\u001b[38;5;124m\"\u001b[39m),\n\u001b[1;32m      6\u001b[0m     \u001b[38;5;124m\"\u001b[39m\u001b[38;5;124mpy\u001b[39m\u001b[38;5;124m\"\u001b[39m: particles\u001b[38;5;241m.\u001b[39mpy\u001b[38;5;241m.\u001b[39mastype(\u001b[38;5;124m\"\u001b[39m\u001b[38;5;124mfloat64\u001b[39m\u001b[38;5;124m\"\u001b[39m),\n\u001b[1;32m      7\u001b[0m     \u001b[38;5;124m\"\u001b[39m\u001b[38;5;124mpz\u001b[39m\u001b[38;5;124m\"\u001b[39m: particles\u001b[38;5;241m.\u001b[39mpz\u001b[38;5;241m.\u001b[39mastype(\u001b[38;5;124m\"\u001b[39m\u001b[38;5;124mfloat64\u001b[39m\u001b[38;5;124m\"\u001b[39m),\n\u001b[1;32m      8\u001b[0m     \u001b[38;5;124m\"\u001b[39m\u001b[38;5;124mE\u001b[39m\u001b[38;5;124m\"\u001b[39m:  particles\u001b[38;5;241m.\u001b[39mE\u001b[38;5;241m.\u001b[39mastype(\u001b[38;5;124m\"\u001b[39m\u001b[38;5;124mfloat64\u001b[39m\u001b[38;5;124m\"\u001b[39m),\n\u001b[1;32m      9\u001b[0m })\n\u001b[1;32m     11\u001b[0m \u001b[38;5;66;03m# Cluster\u001b[39;00m\n\u001b[1;32m     12\u001b[0m cluster \u001b[38;5;241m=\u001b[39m fastjet\u001b[38;5;241m.\u001b[39mClusterSequence(fj_ready, jetdef)\n",
      "File \u001b[0;32m~/miniconda3/envs/coffea/lib/python3.11/site-packages/awkward/highlevel.py:1289\u001b[0m, in \u001b[0;36mArray.__getattr__\u001b[0;34m(self, where)\u001b[0m\n\u001b[1;32m   1284\u001b[0m         \u001b[38;5;28;01mraise\u001b[39;00m \u001b[38;5;167;01mAttributeError\u001b[39;00m(\n\u001b[1;32m   1285\u001b[0m             \u001b[38;5;124mf\u001b[39m\u001b[38;5;124m\"\u001b[39m\u001b[38;5;124mwhile trying to get field \u001b[39m\u001b[38;5;132;01m{\u001b[39;00mwhere\u001b[38;5;132;01m!r}\u001b[39;00m\u001b[38;5;124m, an exception \u001b[39m\u001b[38;5;124m\"\u001b[39m\n\u001b[1;32m   1286\u001b[0m             \u001b[38;5;124mf\u001b[39m\u001b[38;5;124m\"\u001b[39m\u001b[38;5;124moccurred:\u001b[39m\u001b[38;5;130;01m\\n\u001b[39;00m\u001b[38;5;132;01m{\u001b[39;00m\u001b[38;5;28mtype\u001b[39m(err)\u001b[38;5;132;01m}\u001b[39;00m\u001b[38;5;124m: \u001b[39m\u001b[38;5;132;01m{\u001b[39;00merr\u001b[38;5;132;01m!s}\u001b[39;00m\u001b[38;5;124m\"\u001b[39m\n\u001b[1;32m   1287\u001b[0m         ) \u001b[38;5;28;01mfrom\u001b[39;00m \u001b[38;5;21;01merr\u001b[39;00m\n\u001b[1;32m   1288\u001b[0m \u001b[38;5;28;01melse\u001b[39;00m:\n\u001b[0;32m-> 1289\u001b[0m     \u001b[38;5;28;01mraise\u001b[39;00m \u001b[38;5;167;01mAttributeError\u001b[39;00m(\u001b[38;5;124mf\u001b[39m\u001b[38;5;124m\"\u001b[39m\u001b[38;5;124mno field named \u001b[39m\u001b[38;5;132;01m{\u001b[39;00mwhere\u001b[38;5;132;01m!r}\u001b[39;00m\u001b[38;5;124m\"\u001b[39m)\n",
      "\u001b[0;31mAttributeError\u001b[0m: no field named 'astype'"
     ]
    }
   ],
   "source": [
    "particles = ak.flatten(qcd.JetCons, axis=1)\n",
    "\n",
    "# Keep only the necessary fields and cast to float64\n",
    "fj_ready = ak.zip({\n",
    "    \"px\": particles.px.astype(\"float64\"),\n",
    "    \"py\": particles.py.astype(\"float64\"),\n",
    "    \"pz\": particles.pz.astype(\"float64\"),\n",
    "    \"E\":  particles.E.astype(\"float64\"),\n",
    "})\n",
    "\n",
    "# Cluster\n",
    "cluster = fastjet.ClusterSequence(fj_ready, jetdef)"
   ]
  },
  {
   "cell_type": "code",
   "execution_count": null,
   "id": "0daf019f-ef9f-4b29-b4d0-14645830acc0",
   "metadata": {},
   "outputs": [],
   "source": []
  }
 ],
 "metadata": {
  "kernelspec": {
   "display_name": "Python 3 (ipykernel)",
   "language": "python",
   "name": "python3"
  },
  "language_info": {
   "codemirror_mode": {
    "name": "ipython",
    "version": 3
   },
   "file_extension": ".py",
   "mimetype": "text/x-python",
   "name": "python",
   "nbconvert_exporter": "python",
   "pygments_lexer": "ipython3",
   "version": "3.11.9"
  }
 },
 "nbformat": 4,
 "nbformat_minor": 5
}
