{
 "cells": [
  {
   "cell_type": "code",
   "execution_count": 1,
   "id": "006336e1-1f5f-45d5-8e38-16596c1bfa3f",
   "metadata": {},
   "outputs": [],
   "source": [
    "import numpy as np\n",
    "import matplotlib.pyplot as plt \n",
    "import pickle\n",
    "import math"
   ]
  },
  {
   "cell_type": "code",
   "execution_count": 2,
   "id": "104e1a26-02fb-4e7b-89e3-ceaa5117e803",
   "metadata": {},
   "outputs": [],
   "source": [
    "with open(\"../../outputs/multi_variable_outputs/all_but_n4_Feb5.pkl\", \"rb\") as f:\n",
    "    vars = pickle.load(f)"
   ]
  },
  {
   "cell_type": "code",
   "execution_count": 3,
   "id": "a3bdfe5a-ca6e-4362-9e0d-bf972cfc0d7b",
   "metadata": {},
   "outputs": [],
   "source": [
    "#n4 handling\n",
    "with open(\"../../outputs/n4/hgg_n4.pkl\", \"rb\") as f:\n",
    "    hgg_n4 = pickle.load(f)\n",
    "with open(\"../../outputs/n4/hbb_n4.pkl\", \"rb\") as f:\n",
    "    hbb_n4 = pickle.load(f)\n",
    "with open(\"../../outputs/n4/q347_n4.pkl\", \"rb\") as f:\n",
    "    q347_n4 = pickle.load(f)\n",
    "with open(\"../../outputs/n4/q476_n4.pkl\", \"rb\") as f:\n",
    "    q476_n4 = pickle.load(f)\n",
    "with open(\"../../outputs/n4/q68_n4.pkl\", \"rb\") as f:\n",
    "    q68_n4 = pickle.load(f)\n",
    "with open(\"../../outputs/n4/q810_n4.pkl\", \"rb\") as f:\n",
    "    q810_n4 = pickle.load(f)\n",
    "with open(\"../../outputs/n4/q1014_n4.pkl\", \"rb\") as f:\n",
    "    q1014_n4 = pickle.load(f)\n",
    "with open(\"../../outputs/n4/q1418_n4.pkl\", \"rb\") as f:\n",
    "    q1418_n4 = pickle.load(f)\n",
    "with open(\"../../outputs/n4/q1824_n4.pkl\", \"rb\") as f:\n",
    "    q1824_n4 = pickle.load(f)\n",
    "with open(\"../../outputs/n4/q2432_n4.pkl\", \"rb\") as f:\n",
    "    q2432_n4 = pickle.load(f)\n",
    "with open(\"../../outputs/n4/q32inf_n4.pkl\", \"rb\") as f:\n",
    "    q32inf_n4 = pickle.load(f)\n",
    "with open(\"../../outputs/n4/n2_n3_d2_d3.pkl\", \"rb\") as f:\n",
    "    ecfs = pickle.load(f)"
   ]
  },
  {
   "cell_type": "code",
   "execution_count": 4,
   "id": "068fb89e-5826-41b9-b118-7d2ddd1c9d4f",
   "metadata": {},
   "outputs": [],
   "source": [
    "hgg = vars[0]['Hgg']['Hgg']\n",
    "hbb = vars[0]['Hbb']['Hbb']\n",
    "\n",
    "#n4\n",
    "hgg['N4'] = hgg_n4[0]['Hgg']['Hgg']['N4']\n",
    "hbb['N4'] = hbb_n4[0]['Hbb']['Hbb']['N4']"
   ]
  },
  {
   "cell_type": "code",
   "execution_count": 5,
   "id": "1bd3e8a8-bfa4-4214-947b-cc136e26cfc9",
   "metadata": {},
   "outputs": [],
   "source": [
    "#signal scale factors\n",
    "scalesHJ = ((44.99*(0.471*1000)*0.0817)/(hgg['entries']))\n",
    "scalesHbb = ((44.99*(0.274*1000)*0.581)/(hbb['entries']))"
   ]
  },
  {
   "cell_type": "code",
   "execution_count": 6,
   "id": "c739fbb7-71bf-4d6e-b83f-888f3c0deeb8",
   "metadata": {},
   "outputs": [],
   "source": [
    "#do the scaling \n",
    "hgg_entries = list(hgg.keys())\n",
    "for i in range(1, len(hgg_entries)):\n",
    "    hgg[hgg_entries[i]].view(flow=True)[:] *= scalesHJ\n",
    "\n",
    "hbb_entries = list(hgg.keys())\n",
    "for i in range(1, len(hbb_entries)):\n",
    "    hbb[hbb_entries[i]].view(flow=True)[:] *= scalesHbb"
   ]
  },
  {
   "cell_type": "code",
   "execution_count": 7,
   "id": "d4d8a3ea-8e33-4718-81db-2776a93513eb",
   "metadata": {},
   "outputs": [],
   "source": [
    "#get the totals for each histogram\n",
    "hgg_totals_dict = {}\n",
    "for i in range(1, len(hgg_entries)):\n",
    "    hgg_totals_dict[hgg_entries[i]] = hgg[hgg_entries[i]][0:len(hgg[hgg_entries[i]].view()):sum]\n",
    "\n",
    "hbb_totals_dict = {}\n",
    "for i in range(1, len(hbb_entries)):\n",
    "    hbb_totals_dict[hbb_entries[i]] = hbb[hbb_entries[i]][0:len(hbb[hbb_entries[i]].view()):sum]"
   ]
  },
  {
   "cell_type": "code",
   "execution_count": 8,
   "id": "415edd75-7836-4ec1-b1b8-d421544025e3",
   "metadata": {},
   "outputs": [],
   "source": [
    "#get the true positive fractions forward\n",
    "hgg_truth_dict_for = {}\n",
    "for i in range(1, len(hgg_entries)):\n",
    "    temp_list = []\n",
    "    for j in range(1, len(hgg[hgg_entries[i]].view())+1):\n",
    "        temp_list.append(hgg[hgg_entries[i]][0:j:sum].value/hgg_totals_dict[hgg_entries[i]].value)\n",
    "    hgg_truth_dict_for[hgg_entries[i]] = temp_list\n",
    "\n",
    "hbb_truth_dict_for = {}\n",
    "for i in range(1, len(hbb_entries)):\n",
    "    temp_list = []\n",
    "    for j in range(1, len(hbb[hbb_entries[i]].view())+1):\n",
    "        temp_list.append(hbb[hbb_entries[i]][0:j:sum].value/hbb_totals_dict[hbb_entries[i]].value)\n",
    "    hbb_truth_dict_for[hbb_entries[i]] = temp_list"
   ]
  },
  {
   "cell_type": "code",
   "execution_count": 9,
   "id": "85760b8e-7aa8-490f-bdae-4b5e6482ff66",
   "metadata": {},
   "outputs": [],
   "source": [
    "#get the true positive fractions backward\n",
    "hgg_truth_dict_back = {}\n",
    "for i in range(1, len(hgg_entries)):\n",
    "    temp_list = []\n",
    "    for j in range(1, len(hgg[hgg_entries[i]].view())+1):\n",
    "        temp_list.append(hgg[hgg_entries[i]][len(hgg[hgg_entries[i]].view())-j:len(hgg[hgg_entries[i]].view()):sum].value/hgg_totals_dict[hgg_entries[i]].value)\n",
    "    hgg_truth_dict_back[hgg_entries[i]] = temp_list\n",
    "\n",
    "hbb_truth_dict_back = {}\n",
    "for i in range(1, len(hbb_entries)):\n",
    "    temp_list = []\n",
    "    for j in range(1, len(hbb[hbb_entries[i]].view())+1):\n",
    "        temp_list.append(hbb[hbb_entries[i]][len(hbb[hbb_entries[i]].view())-j:len(hbb[hbb_entries[i]].view()):sum].value/hbb_totals_dict[hbb_entries[i]].value)\n",
    "    hbb_truth_dict_back[hbb_entries[i]] = temp_list"
   ]
  },
  {
   "cell_type": "code",
   "execution_count": 10,
   "id": "ddf04000-a809-4a2b-b455-2e28459e8b4a",
   "metadata": {},
   "outputs": [],
   "source": [
    "#2017 integrated luminosity and QCD cross sections\n",
    "IL = 44.99\n",
    "xs_300to470 = 6833\n",
    "xs_470to600 = 549.5\n",
    "xs_600to800 = 156.5\n",
    "xs_800to1000 = 26.22\n",
    "xs_1000to1400 = 7.475\n",
    "xs_1400to1800 = 0.6482\n",
    "xs_1800to2400 = 0.08742\n",
    "xs_2400to3200 = 0.005237\n",
    "xs_3200toInf = 0.0001353"
   ]
  },
  {
   "cell_type": "code",
   "execution_count": 11,
   "id": "eb27de9d-fa7f-4e75-899f-d0aef2165cb8",
   "metadata": {},
   "outputs": [],
   "source": [
    "#combine the qcds into a dictionary\n",
    "qcd_dict = {}\n",
    "qcd_dict['q347'] = vars[0]['QCD_Pt_300to470_TuneCP5_13TeV_pythia8']['QCD_Pt_300to470']\n",
    "qcd_dict['q476'] = vars[0]['QCD_Pt_470to600_TuneCP5_13TeV_pythia8']['QCD_Pt_470to600']\n",
    "qcd_dict['q68'] = vars[0]['QCD_Pt_600to800_TuneCP5_13TeV_pythia8']['QCD_Pt_600to800']\n",
    "qcd_dict['q810'] = vars[0]['QCD_Pt_800to1000_TuneCP5_13TeV_pythia8']['QCD_Pt_800to1000']\n",
    "qcd_dict['q1014'] = vars[0]['QCD_Pt_1000to1400_TuneCP5_13TeV_pythia8']['QCD_Pt_1000to1400']\n",
    "qcd_dict['q1418'] = vars[0]['QCD_Pt_1400to1800_TuneCP5_13TeV_pythia8']['QCD_Pt_1400to1800']\n",
    "qcd_dict['q1824'] = vars[0]['QCD_Pt_1800to2400_TuneCP5_13TeV_pythia8']['QCD_Pt_1800to2400']\n",
    "qcd_dict['q2432'] = vars[0]['QCD_Pt_2400to3200_TuneCP5_13TeV_pythia8']['QCD_Pt_2400to3200']\n",
    "qcd_dict['q32inf'] = vars[0]['QCD_Pt_3200toInf_TuneCP5_13TeV_pythia8']['QCD_Pt_3200toInf']\n",
    "\n",
    "#n4\n",
    "qcd_dict['q347']['N4'] = q347_n4[0]['QCD_Pt_300to470_TuneCP5_13TeV_pythia8']['QCD_Pt_300to470']['N4']\n",
    "qcd_dict['q476']['N4'] = q476_n4[0]['QCD_Pt_470to600_TuneCP5_13TeV_pythia8']['QCD_Pt_470to600']['N4']\n",
    "qcd_dict['q68']['N4'] = q68_n4[0]['QCD_Pt_600to800_TuneCP5_13TeV_pythia8']['QCD_Pt_600to800']['N4']\n",
    "qcd_dict['q810']['N4'] = q810_n4[0]['QCD_Pt_800to1000_TuneCP5_13TeV_pythia8']['QCD_Pt_800to1000']['N4']\n",
    "qcd_dict['q1014']['N4'] = q1014_n4[0]['QCD_Pt_1000to1400_TuneCP5_13TeV_pythia8']['QCD_Pt_1000to1400']['N4']\n",
    "qcd_dict['q1418']['N4'] = q1418_n4[0]['QCD_Pt_1400to1800_TuneCP5_13TeV_pythia8']['QCD_Pt_1400to1800']['N4']\n",
    "qcd_dict['q1824']['N4'] = q1824_n4[0]['QCD_Pt_1800to2400_TuneCP5_13TeV_pythia8']['QCD_Pt_1800to2400']['N4']\n",
    "qcd_dict['q2432']['N4'] = q2432_n4[0]['QCD_Pt_2400to3200_TuneCP5_13TeV_pythia8']['QCD_Pt_2400to3200']['N4']\n",
    "qcd_dict['q32inf']['N4'] = q32inf_n4[0]['QCD_Pt_3200toInf_TuneCP5_13TeV_pythia8']['QCD_Pt_3200toInf']['N4']"
   ]
  },
  {
   "cell_type": "code",
   "execution_count": 12,
   "id": "3e9af354-47da-41b5-b5ee-bc69837f736e",
   "metadata": {},
   "outputs": [],
   "source": [
    "#QCD scale factors dictionary\n",
    "qcd_sf_dict = {}\n",
    "qcd_sf_dict['scales300to470'] = (((xs_300to470*1000)*IL)/(qcd_dict['q347']['entries']))\n",
    "qcd_sf_dict['scales470to600'] = (((xs_470to600*1000)*IL)/(qcd_dict['q476']['entries']))\n",
    "qcd_sf_dict['scales600to800'] = (((xs_600to800*1000)*IL)/(qcd_dict['q68']['entries']))\n",
    "qcd_sf_dict['scales800to1000'] = (((xs_800to1000*1000)*IL)/(qcd_dict['q810']['entries']))\n",
    "qcd_sf_dict['scales1000to1400'] = (((xs_1000to1400*1000)*IL)/(qcd_dict['q1014']['entries']))\n",
    "qcd_sf_dict['scales1400to1800'] = (((xs_1400to1800*1000)*IL)/(qcd_dict['q1418']['entries']))\n",
    "qcd_sf_dict['scales1800to2400'] = (((xs_1800to2400*1000)*IL)/(qcd_dict['q1824']['entries']))\n",
    "qcd_sf_dict['scales2400to3200'] = (((xs_2400to3200*1000)*IL)/(qcd_dict['q2432']['entries']))\n",
    "qcd_sf_dict['scales3200toInf'] = (((xs_3200toInf*1000)*IL)/(qcd_dict['q32inf']['entries']))"
   ]
  },
  {
   "cell_type": "code",
   "execution_count": 13,
   "id": "82561c39-c00a-4e7a-a4c9-31d5c06bf310",
   "metadata": {},
   "outputs": [],
   "source": [
    "#scale all the qcd values\n",
    "entries = list(qcd_dict['q347'].keys())\n",
    "for i in range(0, len(qcd_dict)):\n",
    "    qcd_range = list(qcd_dict.keys())[i]\n",
    "    qcd_scales = list(qcd_sf_dict.keys())[i]\n",
    "    for j in range(1, len(entries)):\n",
    "        qcd_dict[qcd_range][entries[j]].view(flow=True)[:] *= qcd_sf_dict[qcd_scales]"
   ]
  },
  {
   "cell_type": "code",
   "execution_count": 14,
   "id": "6a02919c-7889-4f5e-81b6-a2097b7512c9",
   "metadata": {},
   "outputs": [],
   "source": [
    "#combine the qcds into individual variable fields\n",
    "qcd_vars = {}\n",
    "for i in range(1, len(entries)):\n",
    "    temp_hist = qcd_dict['q347'][entries[i]]\n",
    "    for j in range(1, len(qcd_dict)):\n",
    "        temp_hist += qcd_dict[list(qcd_dict.keys())[j]][entries[i]]\n",
    "    qcd_vars[entries[i]] = temp_hist"
   ]
  },
  {
   "cell_type": "code",
   "execution_count": 15,
   "id": "6657a2f1-4d8e-40b6-9503-5a9e805a466b",
   "metadata": {},
   "outputs": [],
   "source": [
    "#totals for each qcd hist\n",
    "qcd_totals_dict = {}\n",
    "for i in range(1, len(entries)):\n",
    "    qcd_totals_dict[entries[i]] = qcd_vars[entries[i]][0:len(qcd_vars[entries[i]].view()):sum]"
   ]
  },
  {
   "cell_type": "code",
   "execution_count": 17,
   "id": "8f339223-738c-47c2-b420-efddde109c00",
   "metadata": {},
   "outputs": [],
   "source": [
    "#false positive fractions for each qcd variable forward\n",
    "qcd_false_positive_dict_for = {}\n",
    "for i in range(1, len(entries)):\n",
    "    temp_list = []\n",
    "    for j in range(1, len(qcd_vars[entries[i]].view())+1):\n",
    "        temp_list.append(qcd_vars[entries[i]][0:j:sum].value/qcd_totals_dict[entries[i]].value)\n",
    "    qcd_false_positive_dict_for[entries[i]] = temp_list\n",
    "\n",
    "#false positive fractions for each qcd variable backward\n",
    "qcd_false_positive_dict_back = {}\n",
    "for i in range(1, len(entries)):\n",
    "    temp_list = []\n",
    "    for j in range(1, len(qcd_vars[entries[i]].view())+1):\n",
    "        temp_list.append(qcd_vars[entries[i]][len(qcd_vars[entries[i]].view())-j:len(qcd_vars[entries[i]].view()):sum].value/qcd_totals_dict[entries[i]].value)\n",
    "    qcd_false_positive_dict_back[entries[i]] = temp_list"
   ]
  },
  {
   "cell_type": "code",
   "execution_count": 18,
   "id": "db0dde81-373c-4806-b55f-09d318dca752",
   "metadata": {},
   "outputs": [],
   "source": [
    "#make the s over root b dict for hgg forward\n",
    "hgg_s_over_rb_dict_for = {}\n",
    "for i in range(1, len(hgg_entries)):\n",
    "    temp_list = []\n",
    "    for j in range(1, len(hgg[hgg_entries[i]].view())+1):\n",
    "        try:\n",
    "            temp_list.append(hgg[hgg_entries[i]][0:j:sum].value/math.sqrt(qcd_vars[hgg_entries[i]][0:j:sum].value))\n",
    "        except:\n",
    "            continue\n",
    "    hgg_s_over_rb_dict_for[hgg_entries[i]] = temp_list\n",
    "\n",
    "#make the s over root b dict for hgg backward\n",
    "hgg_s_over_rb_dict_back = {}\n",
    "for i in range(1, len(hgg_entries)):\n",
    "    temp_list = []\n",
    "    for j in range(1, len(hgg[hgg_entries[i]].view())+1):\n",
    "        try:\n",
    "            temp_list.append(hgg[hgg_entries[i]][len(hgg[hgg_entries[i]].view())-j:len(hgg[hgg_entries[i]].view()):sum].value/math.sqrt(qcd_vars[hgg_entries[i]][len(hgg[hgg_entries[i]].view())-j:len(hgg[hgg_entries[i]].view()):sum].value))\n",
    "        except:\n",
    "            continue\n",
    "    hgg_s_over_rb_dict_back[hgg_entries[i]] = temp_list"
   ]
  },
  {
   "cell_type": "code",
   "execution_count": 19,
   "id": "5d440b8e-8559-4c11-82ea-45a9a6fc2024",
   "metadata": {},
   "outputs": [],
   "source": [
    "#make the s over root b dict for hbb forward\n",
    "hbb_s_over_rb_dict_for = {}\n",
    "for i in range(1, len(hbb_entries)):\n",
    "    temp_list = []\n",
    "    for j in range(1, len(hbb[hbb_entries[i]].view())+1):\n",
    "        try:\n",
    "            temp_list.append(hbb[hbb_entries[i]][0:j:sum].value/math.sqrt(qcd_vars[hbb_entries[i]][0:j:sum].value))\n",
    "        except:\n",
    "            continue\n",
    "    hbb_s_over_rb_dict_for[hbb_entries[i]] = temp_list\n",
    "\n",
    "#make the s over root b dict for hbb backward\n",
    "hbb_s_over_rb_dict_back = {}\n",
    "for i in range(1, len(hbb_entries)):\n",
    "    temp_list = []\n",
    "    for j in range(1, len(hbb[hbb_entries[i]].view())+1):\n",
    "        try:\n",
    "            temp_list.append(hbb[hbb_entries[i]][len(hbb[hbb_entries[i]].view())-j:len(hbb[hbb_entries[i]].view()):sum].value/math.sqrt(qcd_vars[hbb_entries[i]][len(hbb[hbb_entries[i]].view())-j:len(hbb[hbb_entries[i]].view()):sum].value))\n",
    "        except:\n",
    "            continue\n",
    "    hbb_s_over_rb_dict_back[hbb_entries[i]] = temp_list"
   ]
  },
  {
   "cell_type": "code",
   "execution_count": 32,
   "id": "6270da00-5b31-468e-a073-89b6fd4fe84b",
   "metadata": {},
   "outputs": [],
   "source": [
    "# fig, ax = plt.subplots()\n",
    "\n",
    "# ax.plot(hgg['Color_Ring'].to_numpy()[1][1:]/hgg['Color_Ring'].to_numpy()[1][-1], hgg_s_over_rb_dict_back['Color_Ring'], linewidth=2.0, label='Color Ring')\n",
    "# ax.plot(hgg['Color_Ring_Var'].to_numpy()[1][1:]/hgg['Color_Ring_Var'].to_numpy()[1][-1], hgg_s_over_rb_dict['Color_Ring_Var'], linewidth=2.0, label='Color_Ring_Var')\n",
    "# ax.plot(hgg['D2'].to_numpy()[1][1:]/hgg['D2'].to_numpy()[1][-1], hgg_s_over_rb_dict['D2'], linewidth=2.0, label='D2')\n",
    "# ax.plot(hgg['D3'].to_numpy()[1][1:]/hgg['D3'].to_numpy()[1][-1], hgg_s_over_rb_dict['D3'], linewidth=2.0, label='D3')\n",
    "# ax.plot(hgg['U1'].to_numpy()[1][1:]/hgg['U1'].to_numpy()[1][-1], hgg_s_over_rb_dict['U1'], linewidth=2.0, label='U1')\n",
    "# ax.plot(hgg['U2'].to_numpy()[1][1:]/hgg['U2'].to_numpy()[1][-1], hgg_s_over_rb_dict['U2'], linewidth=2.0, label='U2')\n",
    "# ax.plot(hgg['U3'].to_numpy()[1][1:]/hgg['U3'].to_numpy()[1][-1], hgg_s_over_rb_dict['U3'], linewidth=2.0, label='U3')\n",
    "# ax.plot(hgg['MRatio'].to_numpy()[1][1:]/hgg['MRatio'].to_numpy()[1][-1], hgg_s_over_rb_dict['MRatio'], linewidth=2.0, label='MRatio')\n",
    "# ax.plot(hgg['N2'].to_numpy()[1][1:]/hgg['N2'].to_numpy()[1][-1], hgg_s_over_rb_dict['N2'], linewidth=2.0, label='N2')\n",
    "# ax.plot(hgg['N3'].to_numpy()[1][1:]/hgg['N3'].to_numpy()[1][-1], hgg_s_over_rb_dict['N3'], linewidth=2.0, label='N3')\n",
    "# ax.plot(hgg['nConstituents'].to_numpy()[1][1:]/hgg['nConstituents'].to_numpy()[1][-1], hgg_s_over_rb_dict['nConstituents'], linewidth=2.0, label='nConstituents')\n",
    "# ax.plot(hgg['Btag'].to_numpy()[1][1:]/hgg['Btag'].to_numpy()[1][-1], hgg_s_over_rb_dict['Btag'], linewidth=2.0, label='Btag')\n",
    "\n",
    "\n",
    "\n",
    "# plt.xlabel(\"Variable Value\")\n",
    "# plt.ylabel(\"S/sqrt(B)\")\n",
    "# plt.title('Hgg')\n",
    "\n",
    "\n",
    "# plt.xlim(0, 1)\n",
    "# plt.ylim(0, 1)\n",
    "# plt.legend()"
   ]
  },
  {
   "cell_type": "code",
   "execution_count": null,
   "id": "acaec7ec-f1e9-4668-b74c-19d12f36dcba",
   "metadata": {},
   "outputs": [],
   "source": [
    "# fig, ax = plt.subplots()\n",
    "\n",
    "# ax.plot(hbb['Color_Ring'].to_numpy()[1][1:]/hbb['Color_Ring'].to_numpy()[1][-1], hbb_s_over_rb_dict['Color_Ring'], linewidth=2.0, label='Color Ring')\n",
    "# ax.plot(hbb['Color_Ring_Var'].to_numpy()[1][1:]/hbb['Color_Ring_Var'].to_numpy()[1][-1], hbb_s_over_rb_dict['Color_Ring_Var'], linewidth=2.0, label='Color_Ring_Var')\n",
    "# ax.plot(hbb['D2'].to_numpy()[1][1:]/hbb['D2'].to_numpy()[1][-1], hbb_s_over_rb_dict['D2'], linewidth=2.0, label='D2')\n",
    "# ax.plot(hbb['D3'].to_numpy()[1][1:]/hbb['D3'].to_numpy()[1][-1], hbb_s_over_rb_dict['D3'], linewidth=2.0, label='D3')\n",
    "# ax.plot(hbb['U1'].to_numpy()[1][1:]/hbb['U1'].to_numpy()[1][-1], hbb_s_over_rb_dict['U1'], linewidth=2.0, label='U1')\n",
    "# ax.plot(hbb['U2'].to_numpy()[1][1:]/hbb['U2'].to_numpy()[1][-1], hbb_s_over_rb_dict['U2'], linewidth=2.0, label='U2')\n",
    "# ax.plot(hbb['U3'].to_numpy()[1][1:]/hbb['U3'].to_numpy()[1][-1], hbb_s_over_rb_dict['U3'], linewidth=2.0, label='U3')\n",
    "# ax.plot(hbb['MRatio'].to_numpy()[1][1:]/hbb['MRatio'].to_numpy()[1][-1], hbb_s_over_rb_dict['MRatio'], linewidth=2.0, label='MRatio')\n",
    "# ax.plot(hbb['N2'].to_numpy()[1][1:]/hbb['N2'].to_numpy()[1][-1], hbb_s_over_rb_dict['N2'], linewidth=2.0, label='N2')\n",
    "# ax.plot(hbb['N3'].to_numpy()[1][1:]/hbb['N3'].to_numpy()[1][-1], hbb_s_over_rb_dict['N3'], linewidth=2.0, label='N3')\n",
    "# ax.plot(hbb['nConstituents'].to_numpy()[1][1:]/hbb['nConstituents'].to_numpy()[1][-1], hbb_s_over_rb_dict['nConstituents'], linewidth=2.0, label='nConstituents')\n",
    "# ax.plot(hbb['Btag'].to_numpy()[1][1:]/hbb['Btag'].to_numpy()[1][-1], hbb_s_over_rb_dict['Btag'], linewidth=2.0, label='Btag')\n",
    "\n",
    "\n",
    "\n",
    "# plt.xlabel(\"Variable Value\")\n",
    "# plt.ylabel(\"S/sqrt(B)\")\n",
    "# plt.title('Hbb')\n",
    "\n",
    "\n",
    "# plt.xlim(0, 1)\n",
    "# plt.ylim(0, 1)\n",
    "# plt.legend()"
   ]
  },
  {
   "cell_type": "code",
   "execution_count": 41,
   "id": "1708dba3-f049-4398-afcf-b0e8246e75b7",
   "metadata": {},
   "outputs": [
    {
     "data": {
      "text/plain": [
       "<matplotlib.legend.Legend at 0x7f63f7d4a490>"
      ]
     },
     "execution_count": 41,
     "metadata": {},
     "output_type": "execute_result"
    },
    {
     "data": {
      "image/png": "[encoded data removed]",
      "text/plain": [
       "<Figure size 640x480 with 1 Axes>"
      ]
     },
     "metadata": {},
     "output_type": "display_data"
    }
   ],
   "source": [
    "fig, ax = plt.subplots()\n",
    "\n",
    "# ax.plot(np.flip(hgg['Color_Ring'].to_numpy()[1][1:]), hgg_s_over_rb_dict_back['Color_Ring'], linewidth=2.0, label='Color Ring')\n",
    "# ax.plot(hgg['Color_Ring_Var'].to_numpy()[1][1:].to_numpy()[1][-1], hgg_s_over_rb_dict['Color_Ring_Var'], linewidth=2.0, label='Color_Ring_Var')\n",
    "# ax.plot(hgg['D2'].to_numpy()[1][1:], hgg_s_over_rb_dict_for['D2'], linewidth=2.0, label='D2')\n",
    "# ax.plot(hgg['D3'].to_numpy()[1][1:], hgg_s_over_rb_dict['D3'], linewidth=2.0, label='D3')\n",
    "# ax.plot(hgg['U1'].to_numpy()[1][1:], hgg_s_over_rb_dict['U1'], linewidth=2.0, label='U1')\n",
    "# ax.plot(hgg['U2'].to_numpy()[1][1:], hgg_s_over_rb_dict['U2'], linewidth=2.0, label='U2')\n",
    "# ax.plot(hgg['U3'].to_numpy()[1][1:], hgg_s_over_rb_dict['U3'], linewidth=2.0, label='U3')\n",
    "# ax.plot(hgg['MRatio'].to_numpy()[1][1:], hgg_s_over_rb_dict['MRatio'], linewidth=2.0, label='MRatio')\n",
    "# ax.plot(hgg['N2'].to_numpy()[1][1:], hgg_s_over_rb_dict['N2'], linewidth=2.0, label='N2')\n",
    "# ax.plot(hgg['N3'].to_numpy()[1][1:], hgg_s_over_rb_dict_for['N3'], linewidth=2.0, label='N3')\n",
    "# ax.plot(hgg['nConstituents'].to_numpy()[1][1:], hgg_s_over_rb_dict['nConstituents'], linewidth=2.0, label='nConstituents')\n",
    "# ax.plot(hgg['Btag'].to_numpy()[1][1:], hgg_s_over_rb_dict['Btag'], linewidth=2.0, label='Btag')\n",
    "# ax.plot(np.flip(hgg['N4'].to_numpy()[1][1:]), hgg_s_over_rb_dict_back['N4'], linewidth=2.0, label='N4')\n",
    "\n",
    "plt.xlabel(\"Variable Value\")\n",
    "plt.ylabel(\"S/sqrt(B)\")\n",
    "plt.title('Hgg')\n",
    "\n",
    "plt.legend()"
   ]
  },
  {
   "cell_type": "code",
   "execution_count": null,
   "id": "c5fa3a61-bae5-4cf8-bb8f-d7b18234e4d7",
   "metadata": {},
   "outputs": [],
   "source": [
    "# fig, ax = plt.subplots()\n",
    "\n",
    "# ax.plot(hbb['Color_Ring'].to_numpy()[1][1:], hbb_s_over_rb_dict['Color_Ring'], linewidth=2.0, label='Color Ring')\n",
    "# ax.plot(hbb['Color_Ring_Var'].to_numpy()[1][1:].to_numpy()[1][-1], hbb_s_over_rb_dict['Color_Ring_Var'], linewidth=2.0, label='Color_Ring_Var')\n",
    "# ax.plot(hbb['D2'].to_numpy()[1][1:], hbb_s_over_rb_dict['D2'], linewidth=2.0, label='D2')\n",
    "# ax.plot(hbb['D3'].to_numpy()[1][1:], hbb_s_over_rb_dict['D3'], linewidth=2.0, label='D3')\n",
    "# ax.plot(hbb['U1'].to_numpy()[1][1:], hbb_s_over_rb_dict['U1'], linewidth=2.0, label='U1')\n",
    "# ax.plot(hbb['U2'].to_numpy()[1][1:], hbb_s_over_rb_dict['U2'], linewidth=2.0, label='U2')\n",
    "# ax.plot(hbb['U3'].to_numpy()[1][1:], hbb_s_over_rb_dict['U3'], linewidth=2.0, label='U3')\n",
    "# ax.plot(hbb['MRatio'].to_numpy()[1][1:], hbb_s_over_rb_dict['MRatio'], linewidth=2.0, label='MRatio')\n",
    "# ax.plot(hbb['N2'].to_numpy()[1][1:], hbb_s_over_rb_dict['N2'], linewidth=2.0, label='N2')\n",
    "# ax.plot(hbb['N3'].to_numpy()[1][1:], hbb_s_over_rb_dict['N3'], linewidth=2.0, label='N3')\n",
    "# ax.plot(hbb['nConstituents'].to_numpy()[1][1:], hbb_s_over_rb_dict['nConstituents'], linewidth=2.0, label='nConstituents')\n",
    "# ax.plot(hbb['Btag'].to_numpy()[1][1:], hbb_s_over_rb_dict['Btag'], linewidth=2.0, label='Btag')\n",
    "\n",
    "# plt.xlabel(\"Variable Value\")\n",
    "# plt.ylabel(\"S/sqrt(B)\")\n",
    "# plt.title('Hgg')\n",
    "\n",
    "# plt.legend()"
   ]
  },
  {
   "cell_type": "code",
   "execution_count": 23,
   "id": "e17ef782-d37f-45ff-aaeb-20149e21865a",
   "metadata": {},
   "outputs": [],
   "source": [
    "plot_names = hgg_entries\n",
    "plot_names.remove('SDmass')\n",
    "plot_names.remove('Mass')"
   ]
  },
  {
   "cell_type": "code",
   "execution_count": 50,
   "id": "999122db-6d2c-4a3e-8106-efba49e21aa6",
   "metadata": {},
   "outputs": [],
   "source": [
    "for i in range(1, len(plot_names)):\n",
    "    fig, ax = plt.subplots()\n",
    "    ax.plot(np.flip(hgg[plot_names[i]].to_numpy()[1][1:]), hgg_s_over_rb_dict_back[plot_names[i]], linewidth=2.0, label=plot_names[i])\n",
    "    plt.xlabel(\"Variable Value\")\n",
    "    plt.ylabel(\"S/sqrt(B)\")\n",
    "    plt.title('Hgg')\n",
    "    plt.legend()\n",
    "    plt_name = 'hgg_' + plot_names[i]\n",
    "    plt.savefig('./plots/hgg_backward/' + plt_name + '.pdf', format='pdf')\n",
    "    plt.close(fig)"
   ]
  },
  {
   "cell_type": "code",
   "execution_count": 57,
   "id": "dfe1af87-79ff-4f76-8cc1-9835747f70af",
   "metadata": {},
   "outputs": [],
   "source": [
    "for i in range(10, len(plot_names)):\n",
    "    fig, ax = plt.subplots()\n",
    "    ax.plot(np.flip(hbb[plot_names[i]].to_numpy()[1][1:]), hbb_s_over_rb_dict_back[plot_names[i]], linewidth=2.0, label=plot_names[i])\n",
    "    plt.xlabel(\"Variable Value\")\n",
    "    plt.ylabel(\"S/sqrt(B)\")\n",
    "    plt.title('Hbb')\n",
    "    plt.legend()\n",
    "    plt_name = 'hbb_' + plot_names[i]\n",
    "    plt.savefig('./plots/hbb_backward/' + plt_name + '.pdf', format='pdf')\n",
    "    plt.close(fig)"
   ]
  },
  {
   "cell_type": "code",
   "execution_count": 56,
   "id": "084080ef-a454-42f1-8df8-0cacf854e194",
   "metadata": {},
   "outputs": [
    {
     "data": {
      "text/plain": [
       "9"
      ]
     },
     "execution_count": 56,
     "metadata": {},
     "output_type": "execute_result"
    }
   ],
   "source": [
    "i"
   ]
  },
  {
   "cell_type": "code",
   "execution_count": null,
   "id": "f36a5e4d-7eea-45f9-87d1-1852a8f034c6",
   "metadata": {},
   "outputs": [],
   "source": []
  }
 ],
 "metadata": {
  "kernelspec": {
   "display_name": "Python 3 (ipykernel)",
   "language": "python",
   "name": "python3"
  },
  "language_info": {
   "codemirror_mode": {
    "name": "ipython",
    "version": 3
   },
   "file_extension": ".py",
   "mimetype": "text/x-python",
   "name": "python",
   "nbconvert_exporter": "python",
   "pygments_lexer": "ipython3",
   "version": "3.10.13"
  }
 },
 "nbformat": 4,
 "nbformat_minor": 5
}
