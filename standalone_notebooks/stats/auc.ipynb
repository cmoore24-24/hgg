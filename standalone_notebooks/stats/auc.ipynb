{
 "cells": [
  {
   "cell_type": "code",
   "execution_count": 2,
   "id": "896d57c0-91c8-4277-a43e-6d339e5b46e8",
   "metadata": {},
   "outputs": [],
   "source": [
    "import numpy as np\n",
    "import matplotlib.pyplot as plt \n",
    "import pickle\n",
    "import sklearn.metrics as metrics"
   ]
  },
  {
   "cell_type": "code",
   "execution_count": 3,
   "id": "e441e52f-e913-482a-b10b-821f3464076c",
   "metadata": {},
   "outputs": [],
   "source": [
    "with open(\"../../outputs/cr_investigations/pt200_akt02_regmass_argmin.pkl\", \"rb\") as f:\n",
    "#with open(\"../../outputs/mseries/mseries.pkl\", \"rb\") as f:\n",
    "    vars = pickle.load(f)"
   ]
  },
  {
   "cell_type": "code",
   "execution_count": 3,
   "id": "bf57b415-7a06-4ef1-8964-d232134339a0",
   "metadata": {},
   "outputs": [],
   "source": [
    "#n4 handling\n",
    "with open(\"../../outputs/n4/hgg_n4.pkl\", \"rb\") as f:\n",
    "    hgg_n4 = pickle.load(f)\n",
    "with open(\"../../outputs/n4/hbb_n4.pkl\", \"rb\") as f:\n",
    "    hbb_n4 = pickle.load(f)\n",
    "with open(\"../../outputs/n4/q347_n4.pkl\", \"rb\") as f:\n",
    "    q347_n4 = pickle.load(f)\n",
    "with open(\"../../outputs/n4/q476_n4.pkl\", \"rb\") as f:\n",
    "    q476_n4 = pickle.load(f)\n",
    "with open(\"../../outputs/n4/q68_n4.pkl\", \"rb\") as f:\n",
    "    q68_n4 = pickle.load(f)\n",
    "with open(\"../../outputs/n4/q810_n4.pkl\", \"rb\") as f:\n",
    "    q810_n4 = pickle.load(f)\n",
    "with open(\"../../outputs/n4/q1014_n4.pkl\", \"rb\") as f:\n",
    "    q1014_n4 = pickle.load(f)\n",
    "with open(\"../../outputs/n4/q1418_n4.pkl\", \"rb\") as f:\n",
    "    q1418_n4 = pickle.load(f)\n",
    "with open(\"../../outputs/n4/q1824_n4.pkl\", \"rb\") as f:\n",
    "    q1824_n4 = pickle.load(f)\n",
    "with open(\"../../outputs/n4/q2432_n4.pkl\", \"rb\") as f:\n",
    "    q2432_n4 = pickle.load(f)\n",
    "with open(\"../../outputs/n4/q32inf_n4.pkl\", \"rb\") as f:\n",
    "    q32inf_n4 = pickle.load(f)\n",
    "with open(\"../../outputs/n4/n2_n3_d2_d3.pkl\", \"rb\") as f:\n",
    "    ecfs = pickle.load(f)"
   ]
  },
  {
   "cell_type": "code",
   "execution_count": 4,
   "id": "d707e5e4-ab8a-4f51-88c1-f9a03fe2ec91",
   "metadata": {},
   "outputs": [],
   "source": [
    "hgg = vars[0]['Hgg']['Hgg']\n",
    "hbb = vars[0]['Hbb']['Hbb']\n",
    "\n",
    "#n4\n",
    "# hgg['N4'] = hgg_n4[0]['Hgg']['Hgg']['N4']\n",
    "# hbb['N4'] = hbb_n4[0]['Hbb']['Hbb']['N4']"
   ]
  },
  {
   "cell_type": "code",
   "execution_count": 5,
   "id": "af1ca353-1480-47b4-858e-f5f997e5832e",
   "metadata": {},
   "outputs": [],
   "source": [
    "#signal scale factors\n",
    "scalesHJ = ((44.99*(0.471*1000)*0.0817)/(hgg['entries']))\n",
    "scalesHbb = ((44.99*(0.274*1000)*0.581)/(hbb['entries']))"
   ]
  },
  {
   "cell_type": "code",
   "execution_count": 6,
   "id": "9584de17-9d8e-4217-a657-6bd0a0000ee5",
   "metadata": {},
   "outputs": [],
   "source": [
    "#do the scaling \n",
    "hgg_entries = list(hgg.keys())\n",
    "for i in range(1, len(hgg_entries)):\n",
    "    hgg[hgg_entries[i]].view(flow=True)[:] *= scalesHJ\n",
    "\n",
    "hbb_entries = list(hgg.keys())\n",
    "for i in range(1, len(hbb_entries)):\n",
    "    hbb[hbb_entries[i]].view(flow=True)[:] *= scalesHbb"
   ]
  },
  {
   "cell_type": "code",
   "execution_count": 7,
   "id": "93d10acb-b640-49f1-b06d-6c19700fab1a",
   "metadata": {},
   "outputs": [],
   "source": [
    "#get the totals for each histogram\n",
    "hgg_totals_dict = {}\n",
    "for i in range(1, len(hgg_entries)):\n",
    "    hgg_totals_dict[hgg_entries[i]] = hgg[hgg_entries[i]][0:len(hgg[hgg_entries[i]].view()):sum]\n",
    "\n",
    "hbb_totals_dict = {}\n",
    "for i in range(1, len(hbb_entries)):\n",
    "    hbb_totals_dict[hbb_entries[i]] = hbb[hbb_entries[i]][0:len(hbb[hbb_entries[i]].view()):sum]"
   ]
  },
  {
   "cell_type": "code",
   "execution_count": 8,
   "id": "caa6b027-23df-42c0-bcdb-a6bdb24b2360",
   "metadata": {},
   "outputs": [],
   "source": [
    "#get the true positive fractions\n",
    "hgg_truth_dict = {}\n",
    "for i in range(1, len(hgg_entries)):\n",
    "    temp_list = []\n",
    "    for j in range(1, len(hgg[hgg_entries[i]].view())+1):\n",
    "        temp_list.append(hgg[hgg_entries[i]][0:j:sum].value/hgg_totals_dict[hgg_entries[i]].value)\n",
    "    hgg_truth_dict[hgg_entries[i]] = temp_list\n",
    "\n",
    "hbb_truth_dict = {}\n",
    "for i in range(1, len(hbb_entries)):\n",
    "    temp_list = []\n",
    "    for j in range(1, len(hbb[hbb_entries[i]].view())+1):\n",
    "        temp_list.append(hbb[hbb_entries[i]][0:j:sum].value/hbb_totals_dict[hbb_entries[i]].value)\n",
    "    hbb_truth_dict[hbb_entries[i]] = temp_list"
   ]
  },
  {
   "cell_type": "code",
   "execution_count": 9,
   "id": "ed5685c8-2e4b-4466-be1a-755fe97884d8",
   "metadata": {},
   "outputs": [],
   "source": [
    "#2017 integrated luminosity and QCD cross sections\n",
    "IL = 44.99\n",
    "xs_300to470 = 6833\n",
    "xs_470to600 = 549.5\n",
    "xs_600to800 = 156.5\n",
    "xs_800to1000 = 26.22\n",
    "xs_1000to1400 = 7.475\n",
    "xs_1400to1800 = 0.6482\n",
    "xs_1800to2400 = 0.08742\n",
    "xs_2400to3200 = 0.005237\n",
    "xs_3200toInf = 0.0001353"
   ]
  },
  {
   "cell_type": "code",
   "execution_count": 10,
   "id": "47d79770-24d0-419c-b368-317d5c091890",
   "metadata": {},
   "outputs": [],
   "source": [
    "#combine the qcds into a dictionary\n",
    "qcd_dict = {}\n",
    "qcd_dict['q347'] = vars[0]['QCD_Pt_300to470_TuneCP5_13TeV_pythia8']['QCD_Pt_300to470']\n",
    "qcd_dict['q476'] = vars[0]['QCD_Pt_470to600_TuneCP5_13TeV_pythia8']['QCD_Pt_470to600']\n",
    "qcd_dict['q68'] = vars[0]['QCD_Pt_600to800_TuneCP5_13TeV_pythia8']['QCD_Pt_600to800']\n",
    "qcd_dict['q810'] = vars[0]['QCD_Pt_800to1000_TuneCP5_13TeV_pythia8']['QCD_Pt_800to1000']\n",
    "qcd_dict['q1014'] = vars[0]['QCD_Pt_1000to1400_TuneCP5_13TeV_pythia8']['QCD_Pt_1000to1400']\n",
    "qcd_dict['q1418'] = vars[0]['QCD_Pt_1400to1800_TuneCP5_13TeV_pythia8']['QCD_Pt_1400to1800']\n",
    "qcd_dict['q1824'] = vars[0]['QCD_Pt_1800to2400_TuneCP5_13TeV_pythia8']['QCD_Pt_1800to2400']\n",
    "qcd_dict['q2432'] = vars[0]['QCD_Pt_2400to3200_TuneCP5_13TeV_pythia8']['QCD_Pt_2400to3200']\n",
    "qcd_dict['q32inf'] = vars[0]['QCD_Pt_3200toInf_TuneCP5_13TeV_pythia8']['QCD_Pt_3200toInf']\n",
    "\n",
    "#n4\n",
    "# qcd_dict['q347']['N4'] = q347_n4[0]['QCD_Pt_300to470_TuneCP5_13TeV_pythia8']['QCD_Pt_300to470']['N4']\n",
    "# qcd_dict['q476']['N4'] = q476_n4[0]['QCD_Pt_470to600_TuneCP5_13TeV_pythia8']['QCD_Pt_470to600']['N4']\n",
    "# qcd_dict['q68']['N4'] = q68_n4[0]['QCD_Pt_600to800_TuneCP5_13TeV_pythia8']['QCD_Pt_600to800']['N4']\n",
    "# qcd_dict['q810']['N4'] = q810_n4[0]['QCD_Pt_800to1000_TuneCP5_13TeV_pythia8']['QCD_Pt_800to1000']['N4']\n",
    "# qcd_dict['q1014']['N4'] = q1014_n4[0]['QCD_Pt_1000to1400_TuneCP5_13TeV_pythia8']['QCD_Pt_1000to1400']['N4']\n",
    "# qcd_dict['q1418']['N4'] = q1418_n4[0]['QCD_Pt_1400to1800_TuneCP5_13TeV_pythia8']['QCD_Pt_1400to1800']['N4']\n",
    "# qcd_dict['q1824']['N4'] = q1824_n4[0]['QCD_Pt_1800to2400_TuneCP5_13TeV_pythia8']['QCD_Pt_1800to2400']['N4']\n",
    "# qcd_dict['q2432']['N4'] = q2432_n4[0]['QCD_Pt_2400to3200_TuneCP5_13TeV_pythia8']['QCD_Pt_2400to3200']['N4']\n",
    "# qcd_dict['q32inf']['N4'] = q32inf_n4[0]['QCD_Pt_3200toInf_TuneCP5_13TeV_pythia8']['QCD_Pt_3200toInf']['N4']"
   ]
  },
  {
   "cell_type": "code",
   "execution_count": 11,
   "id": "1004e5b5-14f5-4edb-a464-8a5bc5a89121",
   "metadata": {},
   "outputs": [],
   "source": [
    "#QCD scale factors dictionary\n",
    "qcd_sf_dict = {}\n",
    "qcd_sf_dict['scales300to470'] = (((xs_300to470*1000)*IL)/(qcd_dict['q347']['entries']))\n",
    "qcd_sf_dict['scales470to600'] = (((xs_470to600*1000)*IL)/(qcd_dict['q476']['entries']))\n",
    "qcd_sf_dict['scales600to800'] = (((xs_600to800*1000)*IL)/(qcd_dict['q68']['entries']))\n",
    "qcd_sf_dict['scales800to1000'] = (((xs_800to1000*1000)*IL)/(qcd_dict['q810']['entries']))\n",
    "qcd_sf_dict['scales1000to1400'] = (((xs_1000to1400*1000)*IL)/(qcd_dict['q1014']['entries']))\n",
    "qcd_sf_dict['scales1400to1800'] = (((xs_1400to1800*1000)*IL)/(qcd_dict['q1418']['entries']))\n",
    "qcd_sf_dict['scales1800to2400'] = (((xs_1800to2400*1000)*IL)/(qcd_dict['q1824']['entries']))\n",
    "qcd_sf_dict['scales2400to3200'] = (((xs_2400to3200*1000)*IL)/(qcd_dict['q2432']['entries']))\n",
    "qcd_sf_dict['scales3200toInf'] = (((xs_3200toInf*1000)*IL)/(qcd_dict['q32inf']['entries']))"
   ]
  },
  {
   "cell_type": "code",
   "execution_count": 12,
   "id": "cd57fd02-0ad0-4f60-8377-afdb1905caea",
   "metadata": {},
   "outputs": [],
   "source": [
    "#scale all the qcd values\n",
    "entries = list(qcd_dict['q347'].keys())\n",
    "for i in range(0, len(qcd_dict)):\n",
    "    qcd_range = list(qcd_dict.keys())[i]\n",
    "    qcd_scales = list(qcd_sf_dict.keys())[i]\n",
    "    for j in range(1, len(entries)):\n",
    "        qcd_dict[qcd_range][entries[j]].view(flow=True)[:] *= qcd_sf_dict[qcd_scales]"
   ]
  },
  {
   "cell_type": "code",
   "execution_count": 13,
   "id": "27f5460a-bdd4-4a1f-b779-3b08c91f9ff7",
   "metadata": {},
   "outputs": [],
   "source": [
    "#combine the qcds into individual variable fields\n",
    "qcd_vars = {}\n",
    "for i in range(1, len(entries)):\n",
    "    temp_hist = qcd_dict['q347'][entries[i]]\n",
    "    for j in range(1, len(qcd_dict)):\n",
    "        temp_hist += qcd_dict[list(qcd_dict.keys())[j]][entries[i]]\n",
    "    qcd_vars[entries[i]] = temp_hist"
   ]
  },
  {
   "cell_type": "code",
   "execution_count": 14,
   "id": "92dcec90-d487-41b6-a4e5-cb5f5affcf78",
   "metadata": {},
   "outputs": [],
   "source": [
    "#totals for each qcd hist\n",
    "qcd_totals_dict = {}\n",
    "for i in range(1, len(entries)):\n",
    "    qcd_totals_dict[entries[i]] = qcd_vars[entries[i]][0:len(qcd_vars[entries[i]].view()):sum]"
   ]
  },
  {
   "cell_type": "code",
   "execution_count": 15,
   "id": "54e1fb58-9e01-4b1b-b1a9-cceb95a32151",
   "metadata": {},
   "outputs": [],
   "source": [
    "#false positive fractions for each qcd variable\n",
    "qcd_false_positive_dict = {}\n",
    "for i in range(1, len(entries)):\n",
    "    temp_list = []\n",
    "    for j in range(1, len(qcd_vars[entries[i]].view())+1):\n",
    "        temp_list.append(qcd_vars[entries[i]][0:j:sum].value/qcd_totals_dict[entries[i]].value)\n",
    "    qcd_false_positive_dict[entries[i]] = temp_list"
   ]
  },
  {
   "cell_type": "code",
   "execution_count": 21,
   "id": "f0485933-d321-47d3-bd2b-e3cc2f07171f",
   "metadata": {},
   "outputs": [
    {
     "data": {
      "text/plain": [
       "<matplotlib.legend.Legend at 0x7f06f2b49eb0>"
      ]
     },
     "execution_count": 21,
     "metadata": {},
     "output_type": "execute_result"
    },
    {
     "data": {
      "image/png": "[encoded data removed]",
      "text/plain": [
       "<Figure size 640x480 with 1 Axes>"
      ]
     },
     "metadata": {},
     "output_type": "display_data"
    }
   ],
   "source": [
    "fig, ax = plt.subplots()\n",
    "\n",
    "ax.plot(hbb_truth_dict['Btag'], qcd_false_positive_dict['Btag'], linewidth=2.0, label='Hbb N4')\n",
    "ax.plot(hgg_truth_dict['Btag'], qcd_false_positive_dict['Btag'], linewidth=2.0, label='Hgg N4')\n",
    "\n",
    "plt.xlabel(\"True Positive\")\n",
    "plt.ylabel(\"False Positive\")\n",
    "lims = [\n",
    "    np.min([ax.get_xlim(), ax.get_ylim()]),  # min of both axes\n",
    "    np.max([ax.get_xlim(), ax.get_ylim()]),  # max of both axes\n",
    "]\n",
    "ax.plot(lims, lims, 'k-', alpha=0.75, zorder=0)\n",
    "plt.xlim(0, 1)\n",
    "plt.ylim(0, 1)\n",
    "plt.legend()"
   ]
  },
  {
   "cell_type": "code",
   "execution_count": 16,
   "id": "d1fcee2c-aee5-4ba6-8b0f-cb92eec458b6",
   "metadata": {},
   "outputs": [],
   "source": [
    "hgg_auc_dict = {}\n",
    "for i in range(1, len(hgg_entries)):\n",
    "    hgg_auc_dict[hgg_entries[i]] = metrics.auc(\n",
    "                                        hgg_truth_dict[hgg_entries[i]],\n",
    "                                        qcd_false_positive_dict[hgg_entries[i]]\n",
    "                                    )\n",
    "for i in range(1, len(hgg_entries)):\n",
    "    if hgg_auc_dict[hgg_entries[i]] >= 0.5:\n",
    "        hgg_auc_dict[hgg_entries[i]] = 1 - hgg_auc_dict[hgg_entries[i]]"
   ]
  },
  {
   "cell_type": "code",
   "execution_count": 17,
   "id": "da3860df-444d-4bf0-a39e-95223dc6af46",
   "metadata": {},
   "outputs": [
    {
     "data": {
      "text/plain": [
       "{'Color_Ring': 0.39703278311936113}"
      ]
     },
     "execution_count": 17,
     "metadata": {},
     "output_type": "execute_result"
    }
   ],
   "source": [
    "hgg_auc_dict"
   ]
  },
  {
   "cell_type": "code",
   "execution_count": 18,
   "id": "7c6d55fd-f7f3-4d50-8851-67ef2a33f1c3",
   "metadata": {},
   "outputs": [],
   "source": [
    "hbb_auc_dict = {}\n",
    "for i in range(1, len(hbb_entries)):\n",
    "    hbb_auc_dict[hgg_entries[i]] = metrics.auc(\n",
    "                                        hbb_truth_dict[hbb_entries[i]],\n",
    "                                        qcd_false_positive_dict[hbb_entries[i]]\n",
    "                                    )\n",
    "for i in range(1, len(hbb_entries)):\n",
    "    if hbb_auc_dict[hbb_entries[i]] >= 0.5:\n",
    "        hbb_auc_dict[hbb_entries[i]] = 1 - hbb_auc_dict[hbb_entries[i]]"
   ]
  },
  {
   "cell_type": "code",
   "execution_count": 19,
   "id": "91d66795-fbf9-44d4-a384-375214788f70",
   "metadata": {},
   "outputs": [
    {
     "data": {
      "text/plain": [
       "{'Color_Ring': 0.37732731182161267}"
      ]
     },
     "execution_count": 19,
     "metadata": {},
     "output_type": "execute_result"
    }
   ],
   "source": [
    "hbb_auc_dict"
   ]
  },
  {
   "cell_type": "code",
   "execution_count": 27,
   "id": "9f1df8e2-e1c9-4d9b-ae87-024e7ff6fc75",
   "metadata": {},
   "outputs": [
    {
     "data": {
      "text/plain": [
       "(array([1.79124979e+02, 2.29976763e+00, 1.02035002e+00, 5.74580082e-01,\n",
       "        3.49524156e-01, 2.51831069e-01, 2.01175394e-01, 1.36046669e-01,\n",
       "        1.01311349e-01, 8.39436895e-02, 8.68382995e-02, 6.36814197e-02,\n",
       "        4.99320222e-02, 3.76299298e-02, 3.32880148e-02, 2.67751424e-02,\n",
       "        3.18407098e-02, 2.31568799e-02, 1.73676599e-02, 1.73676599e-02,\n",
       "        1.88149649e-02, 7.96017746e-03, 1.01311349e-02, 6.51287246e-03,\n",
       "        5.78921997e-03, 7.96017746e-03, 7.23652496e-03, 3.61826248e-03,\n",
       "        2.17095749e-03, 3.61826248e-03, 2.89460998e-03, 2.17095749e-03,\n",
       "        4.34191498e-03, 1.44730499e-03, 1.44730499e-03, 7.23652496e-04,\n",
       "        0.00000000e+00, 1.44730499e-03, 0.00000000e+00, 0.00000000e+00]),\n",
       " array([0.   , 0.025, 0.05 , 0.075, 0.1  , 0.125, 0.15 , 0.175, 0.2  ,\n",
       "        0.225, 0.25 , 0.275, 0.3  , 0.325, 0.35 , 0.375, 0.4  , 0.425,\n",
       "        0.45 , 0.475, 0.5  , 0.525, 0.55 , 0.575, 0.6  , 0.625, 0.65 ,\n",
       "        0.675, 0.7  , 0.725, 0.75 , 0.775, 0.8  , 0.825, 0.85 , 0.875,\n",
       "        0.9  , 0.925, 0.95 , 0.975, 1.   ]))"
      ]
     },
     "execution_count": 27,
     "metadata": {},
     "output_type": "execute_result"
    }
   ],
   "source": [
    "hgg['Btag'].to_numpy()"
   ]
  },
  {
   "cell_type": "code",
   "execution_count": 23,
   "id": "a3205c3e-04ab-41e1-ab7a-1faa488b4362",
   "metadata": {},
   "outputs": [
    {
     "data": {
      "text/html": [
       "<html>\n",
       "<div style=\"display:flex; align-items:center;\">\n",
       "<div style=\"width:290px;\">\n",
       "<svg xmlns=\"http://www.w3.org/2000/svg\" viewBox=\"-10 -105 270 120\">\n",
       "<line x1=\"-5\" y1=\"0\" x2=\"255\" y2=\"0\" style=\"fill:none;stroke-width:2;stroke:currentColor\"/>\n",
       "<text text-anchor=\"middle\" x=\"0\" y=\"15\" style=\"fill:currentColor;\">\n",
       "0\n",
       "</text>\n",
       "<text text-anchor=\"middle\" x=\"250\" y=\"15\" style=\"fill:currentColor;\">\n",
       "1\n",
       "</text>\n",
       "<text text-anchor=\"middle\" x=\"125.0\" y=\"15\" style=\"fill:currentColor;\">\n",
       "Btag\n",
       "</text>\n",
       "<polyline points=\"  0,0   0,-100 6.25,-100 6.25,-54.8 12.5,-54.8 12.5,-39.5 18.75,-39.5 18.75,-35.8  25,-35.8  25,-32.3 31.25,-32.3 31.25,-30.2 37.5,-30.2 37.5,-33.7 43.75,-33.7 43.75,-31.3  50,-31.3  50,-32.9 56.25,-32.9 56.25,-31.3 62.5,-31.3 62.5,-32.4 68.75,-32.4 68.75,-31  75,-31  75,-29.4 81.25,-29.4 81.25,-27.1 87.5,-27.1 87.5,-28.3 93.75,-28.3 93.75,-25.1 100,-25.1 100,-25.2 106.25,-25.2 106.25,-23.1 112.5,-23.1 112.5,-22.6 118.75,-22.6 118.75,-24.1 125,-24.1 125,-23.4 131.25,-23.4 131.25,-23.2 137.5,-23.2 137.5,-21.9 143.75,-21.9 143.75,-22.2 150,-22.2 150,-21.9 156.25,-21.9 156.25,-20.8 162.5,-20.8 162.5,-20 168.75,-20 168.75,-19.2 175,-19.2 175,-17.9 181.25,-17.9 181.25,-17.3 187.5,-17.3 187.5,-16.3 193.75,-16.3 193.75,-14.6 200,-14.6 200,-14.2 206.25,-14.2 206.25,-14.3 212.5,-14.3 212.5,-13.5 218.75,-13.5 218.75,-11.4 225,-11.4 225,-9.46 231.25,-9.46 231.25,-6.2 237.5,-6.2 237.5,-3.69 243.75,-3.69 243.75,-0.458 250,-0.458 250,0\" style=\"fill:none; stroke:currentColor;\"/>\n",
       "</svg>\n",
       "</div>\n",
       "<div style=\"flex=grow:1;\">\n",
       "Regular(40, 0, 1, underflow=False, overflow=False, name='Btag')<br/>\n",
       "<hr style=\"margin-top:.2em; margin-bottom:.2em;\"/>\n",
       "Weight() Σ=WeightedSum(value=568.071, variance=8.18633)\n",
       "\n",
       "</div>\n",
       "</div>\n",
       "</html>"
      ],
      "text/plain": [
       "Hist(Regular(40, 0, 1, underflow=False, overflow=False, name='Btag'), storage=Weight()) # Sum: WeightedSum(value=568.071, variance=8.18633)"
      ]
     },
     "execution_count": 23,
     "metadata": {},
     "output_type": "execute_result"
    }
   ],
   "source": [
    "hbb['Btag']"
   ]
  },
  {
   "cell_type": "code",
   "execution_count": 24,
   "id": "a0206622-ee0b-4644-96c5-f074af52909e",
   "metadata": {},
   "outputs": [
    {
     "data": {
      "text/html": [
       "<html>\n",
       "<div style=\"display:flex; align-items:center;\">\n",
       "<div style=\"width:290px;\">\n",
       "<svg xmlns=\"http://www.w3.org/2000/svg\" viewBox=\"-10 -105 270 120\">\n",
       "<line x1=\"-5\" y1=\"0\" x2=\"255\" y2=\"0\" style=\"fill:none;stroke-width:2;stroke:currentColor\"/>\n",
       "<text text-anchor=\"middle\" x=\"0\" y=\"15\" style=\"fill:currentColor;\">\n",
       "0\n",
       "</text>\n",
       "<text text-anchor=\"middle\" x=\"250\" y=\"15\" style=\"fill:currentColor;\">\n",
       "1\n",
       "</text>\n",
       "<text text-anchor=\"middle\" x=\"125.0\" y=\"15\" style=\"fill:currentColor;\">\n",
       "Btag\n",
       "</text>\n",
       "<polyline points=\"  0,0   0,-100 6.25,-100 6.25,-1.46 12.5,-1.46 12.5,-0.655 18.75,-0.655 18.75,-0.395  25,-0.395  25,-0.278 31.25,-0.278 31.25,-0.214 37.5,-0.214 37.5,-0.17 43.75,-0.17 43.75,-0.141  50,-0.141  50,-0.118 56.25,-0.118 56.25,-0.0998 62.5,-0.0998 62.5,-0.0877 68.75,-0.0877 68.75,-0.0679  75,-0.0679  75,-0.0593 81.25,-0.0593 81.25,-0.0487 87.5,-0.0487 87.5,-0.0428 93.75,-0.0428 93.75,-0.0378 100,-0.0378 100,-0.0308 106.25,-0.0308 106.25,-0.0307 112.5,-0.0307 112.5,-0.0263 118.75,-0.0263 118.75,-0.0229 125,-0.0229 125,-0.0189 131.25,-0.0189 131.25,-0.0167 137.5,-0.0167 137.5,-0.0161 143.75,-0.0161 143.75,-0.0125 150,-0.0125 150,-0.0113 156.25,-0.0113 156.25,-0.00995 162.5,-0.00995 162.5,-0.00975 168.75,-0.00975 168.75,-0.00725 175,-0.00725 175,-0.00649 181.25,-0.00649 181.25,-0.00577 187.5,-0.00577 187.5,-0.00565 193.75,-0.00565 193.75,-0.00417 200,-0.00417 200,-0.00291 206.25,-0.00291 206.25,-0.00351 212.5,-0.00351 212.5,-0.0017 218.75,-0.0017 218.75,-0.00122 225,-0.00122 225,-0.000692 231.25,-0.000692 231.25,-0.000791 237.5,-0.000791 237.5,-0.000129 243.75,-0.000129 243.75,-6.66e-06 250,-6.66e-06 250,0\" style=\"fill:none; stroke:currentColor;\"/>\n",
       "</svg>\n",
       "</div>\n",
       "<div style=\"flex=grow:1;\">\n",
       "Regular(40, 0, 1, underflow=False, overflow=False, name='Btag')<br/>\n",
       "<hr style=\"margin-top:.2em; margin-bottom:.2em;\"/>\n",
       "Weight() Σ=WeightedSum(value=2.7561e+07, variance=3.69095e+08)\n",
       "\n",
       "</div>\n",
       "</div>\n",
       "</html>"
      ],
      "text/plain": [
       "Hist(Regular(40, 0, 1, underflow=False, overflow=False, name='Btag'), storage=Weight()) # Sum: WeightedSum(value=2.7561e+07, variance=3.69095e+08)"
      ]
     },
     "execution_count": 24,
     "metadata": {},
     "output_type": "execute_result"
    }
   ],
   "source": [
    "qcd_vars['Btag']"
   ]
  },
  {
   "cell_type": "code",
   "execution_count": 29,
   "id": "755cf230-a683-414b-95fb-c67e5d14ab41",
   "metadata": {},
   "outputs": [
    {
     "data": {
      "text/plain": [
       "[0.9702377685969851,\n",
       " 0.9826945539780969,\n",
       " 0.988221321563801,\n",
       " 0.9913335580624174,\n",
       " 0.9932267699375205,\n",
       " 0.9945908232139921,\n",
       " 0.9956804979578401,\n",
       " 0.9964174003026006,\n",
       " 0.9969661573678479,\n",
       " 0.9974208417933385,\n",
       " 0.9978912049921217,\n",
       " 0.9982361380045628,\n",
       " 0.9985065968438632,\n",
       " 0.9987104208966693,\n",
       " 0.9988907267895362,\n",
       " 0.9990357554424943,\n",
       " 0.999208221948715,\n",
       " 0.9993336521350572,\n",
       " 0.9994277247748139,\n",
       " 0.9995217974145706,\n",
       " 0.9996237094409737,\n",
       " 0.9996668260675288,\n",
       " 0.9997217017740535,\n",
       " 0.9997569790139622,\n",
       " 0.9997883365605478,\n",
       " 0.9998314531871028,\n",
       " 0.9998706501203347,\n",
       " 0.9998902485869506,\n",
       " 0.9999020076669203,\n",
       " 0.9999216061335362,\n",
       " 0.999937284906829,\n",
       " 0.9999490439867985,\n",
       " 0.9999725621467377,\n",
       " 0.9999804015333841,\n",
       " 0.9999882409200305,\n",
       " 0.9999921606133536,\n",
       " 0.9999921606133536,\n",
       " 1.0,\n",
       " 1.0,\n",
       " 1.0]"
      ]
     },
     "execution_count": 29,
     "metadata": {},
     "output_type": "execute_result"
    }
   ],
   "source": [
    "hgg_truth_dict['Btag']"
   ]
  },
  {
   "cell_type": "code",
   "execution_count": null,
   "id": "458eb78a-d404-412c-9608-7b4aca67c9ed",
   "metadata": {},
   "outputs": [],
   "source": []
  }
 ],
 "metadata": {
  "kernelspec": {
   "display_name": "Python 3 (ipykernel)",
   "language": "python",
   "name": "python3"
  },
  "language_info": {
   "codemirror_mode": {
    "name": "ipython",
    "version": 3
   },
   "file_extension": ".py",
   "mimetype": "text/x-python",
   "name": "python",
   "nbconvert_exporter": "python",
   "pygments_lexer": "ipython3",
   "version": "3.9.18"
  }
 },
 "nbformat": 4,
 "nbformat_minor": 5
}
