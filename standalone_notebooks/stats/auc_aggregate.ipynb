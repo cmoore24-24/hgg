{
 "cells": [
  {
   "cell_type": "code",
   "execution_count": 1,
   "id": "3cacff33-6e6e-4058-ad0e-d3dc52fd1734",
   "metadata": {},
   "outputs": [],
   "source": [
    "import numpy as np\n",
    "import matplotlib.pyplot as plt \n",
    "import pickle\n",
    "import sklearn.metrics as metrics\n",
    "import os"
   ]
  },
  {
   "cell_type": "code",
   "execution_count": 2,
   "id": "2bdb70fe-4d96-4d2f-bddc-1ef4c72b6216",
   "metadata": {},
   "outputs": [],
   "source": [
    "filelist = os.listdir(\"../../outputs/cr_investigations\")\n",
    "filelist.remove(\".ipynb_checkpoints\")"
   ]
  },
  {
   "cell_type": "code",
   "execution_count": 3,
   "id": "e790389d-4896-4fa7-96c3-d5fe68c9810e",
   "metadata": {},
   "outputs": [
    {
     "data": {
      "text/plain": [
       "['pt200_akt01_sdmass_argmin.pkl',\n",
       " 'pt200_akt02_sdmass_argmin.pkl',\n",
       " 'pt200_akt03_sdmass_argmin.pkl',\n",
       " 'pt200_akt04_sdmass_argmin.pkl',\n",
       " 'pt300_akt01_sdmass_argmin.pkl',\n",
       " 'pt300_akt02_sdmass_argmin.pkl',\n",
       " 'pt300_akt03_sdmass_argmin.pkl',\n",
       " 'pt300_akt04_sdmass_argmin.pkl',\n",
       " 'pt400_akt01_sdmass_argmin.pkl',\n",
       " 'pt400_akt02_sdmass_argmin.pkl',\n",
       " 'pt400_akt03_sdmass_argmin.pkl',\n",
       " 'pt400_akt04_sdmass_argmin.pkl',\n",
       " 'pt500_akt01_sdmass_argmin.pkl',\n",
       " 'pt500_akt02_sdmass_argmin.pkl',\n",
       " 'pt500_akt03_sdmass_argmin.pkl',\n",
       " 'pt500_akt04_sdmass_argmin.pkl',\n",
       " 'pt600_akt01_sdmass_argmin.pkl',\n",
       " 'pt600_akt02_sdmass_argmin.pkl',\n",
       " 'pt600_akt03_sdmass_argmin.pkl',\n",
       " 'pt600_akt04_sdmass_argmin.pkl',\n",
       " 'pt200_akt01_regmass_argmin.pkl',\n",
       " 'pt200_akt02_regmass_argmin.pkl',\n",
       " 'pt200_akt03_regmass_argmin.pkl',\n",
       " 'pt200_akt04_regmass_argmin.pkl',\n",
       " 'pt300_akt01_regmass_argmin.pkl',\n",
       " 'pt300_akt02_regmass_argmin.pkl',\n",
       " 'pt300_akt03_regmass_argmin.pkl',\n",
       " 'pt300_akt04_regmass_argmin.pkl',\n",
       " 'pt400_akt01_regmass_argmin.pkl',\n",
       " 'pt400_akt02_regmass_argmin.pkl',\n",
       " 'pt400_akt03_regmass_argmin.pkl',\n",
       " 'pt400_akt04_regmass_argmin.pkl',\n",
       " 'pt500_akt01_regmass_argmin.pkl',\n",
       " 'pt500_akt02_regmass_argmin.pkl',\n",
       " 'pt500_akt03_regmass_argmin.pkl',\n",
       " 'pt500_akt04_regmass_argmin.pkl',\n",
       " 'pt600_akt01_regmass_argmin.pkl',\n",
       " 'pt600_akt02_regmass_argmin.pkl',\n",
       " 'pt600_akt03_regmass_argmin.pkl',\n",
       " 'pt600_akt04_regmass_argmin.pkl',\n",
       " 'pt200to300_akt01_regmass_argmin.pkl',\n",
       " 'pt200to400_akt01_regmass_argmin.pkl',\n",
       " 'pt200to500_akt01_regmass_argmin.pkl',\n",
       " 'pt200to300_akt02_regmass_argmin.pkl',\n",
       " 'pt200to400_akt02_regmass_argmin.pkl',\n",
       " 'pt200to500_akt02_regmass_argmin.pkl',\n",
       " 'pt200to300_akt03_regmass_argmin.pkl',\n",
       " 'pt200to400_akt03_regmass_argmin.pkl',\n",
       " 'pt200to500_akt03_regmass_argmin.pkl',\n",
       " 'pt200to300_akt04_regmass_argmin.pkl',\n",
       " 'pt200to400_akt04_regmass_argmin.pkl',\n",
       " 'pt200to500_akt04_regmass_argmin.pkl',\n",
       " 'pt300to400_akt01_regmass_argmin.pkl',\n",
       " 'pt300to500_akt01_regmass_argmin.pkl',\n",
       " 'pt300to600_akt01_regmass_argmin.pkl',\n",
       " 'pt300to400_akt02_regmass_argmin.pkl',\n",
       " 'pt300to500_akt02_regmass_argmin.pkl',\n",
       " 'pt300to600_akt02_regmass_argmin.pkl',\n",
       " 'pt300to400_akt03_regmass_argmin.pkl',\n",
       " 'pt300to500_akt03_regmass_argmin.pkl',\n",
       " 'pt300to600_akt03_regmass_argmin.pkl',\n",
       " 'pt300to400_akt04_regmass_argmin.pkl',\n",
       " 'pt300to500_akt04_regmass_argmin.pkl',\n",
       " 'pt300to600_akt04_regmass_argmin.pkl',\n",
       " 'pt400to500_akt01_regmass_argmin.pkl',\n",
       " 'pt400to600_akt01_regmass_argmin.pkl',\n",
       " 'pt400to700_akt01_regmass_argmin.pkl',\n",
       " 'pt400to500_akt02_regmass_argmin.pkl',\n",
       " 'pt400to600_akt02_regmass_argmin.pkl',\n",
       " 'pt400to700_akt02_regmass_argmin.pkl',\n",
       " 'pt400to500_akt03_regmass_argmin.pkl',\n",
       " 'pt400to600_akt03_regmass_argmin.pkl',\n",
       " 'pt400to700_akt03_regmass_argmin.pkl',\n",
       " 'pt400to500_akt04_regmass_argmin.pkl',\n",
       " 'pt400to600_akt04_regmass_argmin.pkl',\n",
       " 'pt400to700_akt04_regmass_argmin.pkl',\n",
       " 'pt500to600_akt01_regmass_argmin.pkl',\n",
       " 'pt500to700_akt01_regmass_argmin.pkl',\n",
       " 'pt500to800_akt01_regmass_argmin.pkl',\n",
       " 'pt500to600_akt02_regmass_argmin.pkl',\n",
       " 'pt500to700_akt02_regmass_argmin.pkl',\n",
       " 'pt500to800_akt02_regmass_argmin.pkl',\n",
       " 'pt500to600_akt03_regmass_argmin.pkl',\n",
       " 'pt500to700_akt03_regmass_argmin.pkl',\n",
       " 'pt500to800_akt03_regmass_argmin.pkl',\n",
       " 'pt500to600_akt04_regmass_argmin.pkl',\n",
       " 'pt500to700_akt04_regmass_argmin.pkl',\n",
       " 'pt500to800_akt04_regmass_argmin.pkl',\n",
       " 'pt200_akt01_regmass_argmax.pkl',\n",
       " 'pt200_akt02_regmass_argmax.pkl',\n",
       " 'pt200_akt03_regmass_argmax.pkl',\n",
       " 'pt200_akt04_regmass_argmax.pkl',\n",
       " 'pt300_akt01_regmass_argmax.pkl',\n",
       " 'pt300_akt02_regmass_argmax.pkl',\n",
       " 'pt300_akt03_regmass_argmax.pkl',\n",
       " 'pt300_akt04_regmass_argmax.pkl',\n",
       " 'pt400_akt01_regmass_argmax.pkl',\n",
       " 'pt400_akt02_regmass_argmax.pkl',\n",
       " 'pt400_akt03_regmass_argmax.pkl',\n",
       " 'pt400_akt04_regmass_argmax.pkl',\n",
       " 'pt500_akt01_regmass_argmax.pkl',\n",
       " 'pt500_akt02_regmass_argmax.pkl',\n",
       " 'pt500_akt03_regmass_argmax.pkl',\n",
       " 'pt500_akt04_regmass_argmax.pkl',\n",
       " 'pt200to300_akt01_regmass_argmax.pkl',\n",
       " 'pt200to400_akt01_regmass_argmax.pkl',\n",
       " 'pt200to500_akt01_regmass_argmax.pkl',\n",
       " 'pt200to300_akt02_regmass_argmax.pkl',\n",
       " 'pt200to400_akt02_regmass_argmax.pkl',\n",
       " 'pt200to500_akt02_regmass_argmax.pkl',\n",
       " 'pt200to300_akt03_regmass_argmax.pkl',\n",
       " 'pt200to400_akt03_regmass_argmax.pkl',\n",
       " 'pt200to500_akt03_regmass_argmax.pkl',\n",
       " 'pt200to300_akt04_regmass_argmax.pkl',\n",
       " 'pt200to400_akt04_regmass_argmax.pkl',\n",
       " 'pt200to500_akt04_regmass_argmax.pkl',\n",
       " 'pt300to400_akt01_regmass_argmax.pkl',\n",
       " 'pt300to500_akt01_regmass_argmax.pkl',\n",
       " 'pt300to600_akt01_regmass_argmax.pkl',\n",
       " 'pt300to400_akt02_regmass_argmax.pkl',\n",
       " 'pt300to500_akt02_regmass_argmax.pkl',\n",
       " 'pt300to600_akt02_regmass_argmax.pkl',\n",
       " 'pt300to400_akt03_regmass_argmax.pkl',\n",
       " 'pt300to500_akt03_regmass_argmax.pkl',\n",
       " 'pt300to600_akt03_regmass_argmax.pkl',\n",
       " 'pt300to400_akt04_regmass_argmax.pkl',\n",
       " 'pt300to500_akt04_regmass_argmax.pkl',\n",
       " 'pt300to600_akt04_regmass_argmax.pkl',\n",
       " 'pt400to500_akt01_regmass_argmax.pkl',\n",
       " 'pt400to600_akt01_regmass_argmax.pkl',\n",
       " 'pt400to700_akt01_regmass_argmax.pkl',\n",
       " 'pt400to500_akt02_regmass_argmax.pkl',\n",
       " 'pt400to600_akt02_regmass_argmax.pkl',\n",
       " 'pt400to700_akt02_regmass_argmax.pkl',\n",
       " 'pt400to500_akt03_regmass_argmax.pkl',\n",
       " 'pt400to600_akt03_regmass_argmax.pkl',\n",
       " 'pt400to700_akt03_regmass_argmax.pkl',\n",
       " 'pt400to500_akt04_regmass_argmax.pkl',\n",
       " 'pt400to600_akt04_regmass_argmax.pkl',\n",
       " 'pt400to700_akt04_regmass_argmax.pkl',\n",
       " 'pt500to600_akt01_regmass_argmax.pkl',\n",
       " 'pt500to700_akt01_regmass_argmax.pkl',\n",
       " 'pt500to800_akt01_regmass_argmax.pkl',\n",
       " 'pt500to600_akt02_regmass_argmax.pkl',\n",
       " 'pt500to700_akt02_regmass_argmax.pkl',\n",
       " 'pt500to800_akt02_regmass_argmax.pkl',\n",
       " 'pt500to600_akt03_regmass_argmax.pkl',\n",
       " 'pt500to700_akt03_regmass_argmax.pkl',\n",
       " 'pt500to800_akt03_regmass_argmax.pkl',\n",
       " 'pt500to600_akt04_regmass_argmax.pkl',\n",
       " 'pt500to700_akt04_regmass_argmax.pkl',\n",
       " 'pt500to800_akt04_regmass_argmax.pkl']"
      ]
     },
     "execution_count": 3,
     "metadata": {},
     "output_type": "execute_result"
    }
   ],
   "source": [
    "filelist"
   ]
  },
  {
   "cell_type": "code",
   "execution_count": 4,
   "id": "b1e3c6f6-43ea-472f-bd4d-ba1b3c67b1ea",
   "metadata": {},
   "outputs": [],
   "source": [
    "#2017 integrated luminosity and QCD cross sections\n",
    "IL = 44.99\n",
    "xs_170to300 = 103700\n",
    "xs_300to470 = 6835\n",
    "xs_470to600 = 549.5\n",
    "xs_600to800 = 156.5\n",
    "xs_800to1000 = 26.22\n",
    "xs_1000to1400 = 7.475\n",
    "xs_1400to1800 = 0.6482\n",
    "xs_1800to2400 = 0.08742\n",
    "xs_2400to3200 = 0.005237\n",
    "xs_3200toInf = 0.0001353"
   ]
  },
  {
   "cell_type": "code",
   "execution_count": 5,
   "id": "61b5ae7b-8da7-4ca8-8dce-f40f4ea2ee60",
   "metadata": {},
   "outputs": [],
   "source": [
    "master_dict = {}"
   ]
  },
  {
   "cell_type": "code",
   "execution_count": 6,
   "id": "abf8964c-cd83-41c9-9f3a-db078556a28c",
   "metadata": {},
   "outputs": [],
   "source": [
    "for k in filelist:\n",
    "    file = \"../../outputs/cr_investigations/\" + str(k)\n",
    "    with open(file, \"rb\") as f:\n",
    "        vars = pickle.load(f)\n",
    "\n",
    "    hgg = vars[0]['Hgg']['Hgg']\n",
    "    hbb = vars[0]['Hbb']['Hbb']\n",
    "    #signal scale factors\n",
    "    scalesHJ = ((44.99*(0.471*1000)*0.0817)/(hgg['entries']))\n",
    "    scalesHbb = ((44.99*(0.274*1000)*0.581)/(hbb['entries']))\n",
    "    #do the scaling \n",
    "    hgg_entries = list(hgg.keys())\n",
    "    for i in range(1, len(hgg_entries)):\n",
    "        hgg[hgg_entries[i]].view(flow=True)[:] *= scalesHJ\n",
    "    \n",
    "    hbb_entries = list(hgg.keys())\n",
    "    for i in range(1, len(hbb_entries)):\n",
    "        hbb[hbb_entries[i]].view(flow=True)[:] *= scalesHbb\n",
    "\n",
    "    #get the totals for each histogram\n",
    "    hgg_totals_dict = {}\n",
    "    for i in range(1, len(hgg_entries)):\n",
    "        hgg_totals_dict[hgg_entries[i]] = hgg[hgg_entries[i]][0:len(hgg[hgg_entries[i]].view()):sum]\n",
    "    \n",
    "    hbb_totals_dict = {}\n",
    "    for i in range(1, len(hbb_entries)):\n",
    "        hbb_totals_dict[hbb_entries[i]] = hbb[hbb_entries[i]][0:len(hbb[hbb_entries[i]].view()):sum]\n",
    "\n",
    "    #get the true positive fractions\n",
    "    hgg_truth_dict = {}\n",
    "    for i in range(1, len(hgg_entries)):\n",
    "        temp_list = []\n",
    "        for j in range(1, len(hgg[hgg_entries[i]].view())+1):\n",
    "            temp_list.append(hgg[hgg_entries[i]][0:j:sum].value/hgg_totals_dict[hgg_entries[i]].value)\n",
    "        hgg_truth_dict[hgg_entries[i]] = temp_list\n",
    "    \n",
    "    hbb_truth_dict = {}\n",
    "    for i in range(1, len(hbb_entries)):\n",
    "        temp_list = []\n",
    "        for j in range(1, len(hbb[hbb_entries[i]].view())+1):\n",
    "            temp_list.append(hbb[hbb_entries[i]][0:j:sum].value/hbb_totals_dict[hbb_entries[i]].value)\n",
    "        hbb_truth_dict[hbb_entries[i]] = temp_list\n",
    "\n",
    "    #combine the qcds into a dictionary\n",
    "    qcd_dict = {}\n",
    "    qcd_dict['q173'] = vars[0]['QCD_Pt_170to300_TuneCP5_13TeV_pythia8']['QCD_Pt_170to300']\n",
    "    qcd_dict['q347'] = vars[0]['QCD_Pt_300to470_TuneCP5_13TeV_pythia8']['QCD_Pt_300to470']\n",
    "    qcd_dict['q476'] = vars[0]['QCD_Pt_470to600_TuneCP5_13TeV_pythia8']['QCD_Pt_470to600']\n",
    "    qcd_dict['q68'] = vars[0]['QCD_Pt_600to800_TuneCP5_13TeV_pythia8']['QCD_Pt_600to800']\n",
    "    qcd_dict['q810'] = vars[0]['QCD_Pt_800to1000_TuneCP5_13TeV_pythia8']['QCD_Pt_800to1000']\n",
    "    qcd_dict['q1014'] = vars[0]['QCD_Pt_1000to1400_TuneCP5_13TeV_pythia8']['QCD_Pt_1000to1400']\n",
    "    qcd_dict['q1418'] = vars[0]['QCD_Pt_1400to1800_TuneCP5_13TeV_pythia8']['QCD_Pt_1400to1800']\n",
    "    qcd_dict['q1824'] = vars[0]['QCD_Pt_1800to2400_TuneCP5_13TeV_pythia8']['QCD_Pt_1800to2400']\n",
    "    qcd_dict['q2432'] = vars[0]['QCD_Pt_2400to3200_TuneCP5_13TeV_pythia8']['QCD_Pt_2400to3200']\n",
    "    qcd_dict['q32inf'] = vars[0]['QCD_Pt_3200toInf_TuneCP5_13TeV_pythia8']['QCD_Pt_3200toInf']\n",
    "\n",
    "    #QCD scale factors dictionary\n",
    "    qcd_sf_dict = {}\n",
    "    qcd_sf_dict['scales170to300'] = (((xs_170to300*1000)*IL)/(qcd_dict['q173']['entries']))\n",
    "    qcd_sf_dict['scales300to470'] = (((xs_300to470*1000)*IL)/(qcd_dict['q347']['entries']))\n",
    "    qcd_sf_dict['scales470to600'] = (((xs_470to600*1000)*IL)/(qcd_dict['q476']['entries']))\n",
    "    qcd_sf_dict['scales600to800'] = (((xs_600to800*1000)*IL)/(qcd_dict['q68']['entries']))\n",
    "    qcd_sf_dict['scales800to1000'] = (((xs_800to1000*1000)*IL)/(qcd_dict['q810']['entries']))\n",
    "    qcd_sf_dict['scales1000to1400'] = (((xs_1000to1400*1000)*IL)/(qcd_dict['q1014']['entries']))\n",
    "    qcd_sf_dict['scales1400to1800'] = (((xs_1400to1800*1000)*IL)/(qcd_dict['q1418']['entries']))\n",
    "    qcd_sf_dict['scales1800to2400'] = (((xs_1800to2400*1000)*IL)/(qcd_dict['q1824']['entries']))\n",
    "    qcd_sf_dict['scales2400to3200'] = (((xs_2400to3200*1000)*IL)/(qcd_dict['q2432']['entries']))\n",
    "    qcd_sf_dict['scales3200toInf'] = (((xs_3200toInf*1000)*IL)/(qcd_dict['q32inf']['entries']))\n",
    "\n",
    "    #scale all the qcd values\n",
    "    entries = list(qcd_dict['q173'].keys())\n",
    "    for i in range(0, len(qcd_dict)):\n",
    "        qcd_range = list(qcd_dict.keys())[i]\n",
    "        qcd_scales = list(qcd_sf_dict.keys())[i]\n",
    "        for j in range(1, len(entries)):\n",
    "            qcd_dict[qcd_range][entries[j]].view(flow=True)[:] *= qcd_sf_dict[qcd_scales]\n",
    "\n",
    "    #combine the qcds into individual variable fields\n",
    "    qcd_vars = {}\n",
    "    for i in range(1, len(entries)):\n",
    "        temp_hist = qcd_dict['q173'][entries[i]]\n",
    "        for j in range(1, len(qcd_dict)):\n",
    "            temp_hist += qcd_dict[list(qcd_dict.keys())[j]][entries[i]]\n",
    "        qcd_vars[entries[i]] = temp_hist\n",
    "\n",
    "    #totals for each qcd hist\n",
    "    qcd_totals_dict = {}\n",
    "    for i in range(1, len(entries)):\n",
    "        qcd_totals_dict[entries[i]] = qcd_vars[entries[i]][0:len(qcd_vars[entries[i]].view()):sum]\n",
    "\n",
    "    #false positive fractions for each qcd variable\n",
    "    qcd_false_positive_dict = {}\n",
    "    for i in range(1, len(entries)):\n",
    "        temp_list = []\n",
    "        for j in range(1, len(qcd_vars[entries[i]].view())+1):\n",
    "            temp_list.append(qcd_vars[entries[i]][0:j:sum].value/qcd_totals_dict[entries[i]].value)\n",
    "        qcd_false_positive_dict[entries[i]] = temp_list\n",
    "\n",
    "    hgg_auc_dict = {}\n",
    "    for i in range(1, len(hgg_entries)):\n",
    "        hgg_auc_dict[hgg_entries[i]] = metrics.auc(\n",
    "                                            hgg_truth_dict[hgg_entries[i]],\n",
    "                                            qcd_false_positive_dict[hgg_entries[i]]\n",
    "                                        )\n",
    "    for i in range(1, len(hgg_entries)):\n",
    "        if hgg_auc_dict[hgg_entries[i]] >= 0.5:\n",
    "            hgg_auc_dict[hgg_entries[i]] = 1 - hgg_auc_dict[hgg_entries[i]]\n",
    "\n",
    "    hbb_auc_dict = {}\n",
    "    for i in range(1, len(hbb_entries)):\n",
    "        hbb_auc_dict[hgg_entries[i]] = metrics.auc(\n",
    "                                            hbb_truth_dict[hbb_entries[i]],\n",
    "                                            qcd_false_positive_dict[hbb_entries[i]]\n",
    "                                        )\n",
    "    for i in range(1, len(hbb_entries)):\n",
    "        if hbb_auc_dict[hbb_entries[i]] >= 0.5:\n",
    "            hbb_auc_dict[hbb_entries[i]] = 1 - hbb_auc_dict[hbb_entries[i]]\n",
    "\n",
    "    category = str(k)[:-4]\n",
    "\n",
    "    master_dict[category] = {}\n",
    "    master_dict[category]['Hgg'] = hgg_auc_dict\n",
    "    master_dict[category]['Hbb'] = hbb_auc_dict"
   ]
  },
  {
   "cell_type": "code",
   "execution_count": 7,
   "id": "3bd5b4c6-2c48-4ab1-9d58-712b5c1c41f4",
   "metadata": {},
   "outputs": [],
   "source": [
    "hgg_list = {}\n",
    "for i in master_dict:\n",
    "    hgg_list[i] = master_dict[i]['Hgg']['Color_Ring']"
   ]
  },
  {
   "cell_type": "code",
   "execution_count": 8,
   "id": "e1443ab6-0e1d-4dd0-b9c4-314ecf5e3ee3",
   "metadata": {},
   "outputs": [
    {
     "data": {
      "text/plain": [
       "'pt400to500_akt02_regmass_argmax'"
      ]
     },
     "execution_count": 8,
     "metadata": {},
     "output_type": "execute_result"
    }
   ],
   "source": [
    "min(hgg_list, key=hgg_list.get)"
   ]
  },
  {
   "cell_type": "code",
   "execution_count": 9,
   "id": "a3420054-bca4-4c59-b97f-9e051c089f99",
   "metadata": {},
   "outputs": [
    {
     "data": {
      "text/plain": [
       "0.41868115229110436"
      ]
     },
     "execution_count": 9,
     "metadata": {},
     "output_type": "execute_result"
    }
   ],
   "source": [
    "hgg_list[min(hgg_list, key=hgg_list.get)]"
   ]
  },
  {
   "cell_type": "code",
   "execution_count": 10,
   "id": "31ba60f3-2aae-4531-9777-115049aafbd5",
   "metadata": {},
   "outputs": [],
   "source": [
    "hbb_list = {}\n",
    "for i in master_dict:\n",
    "    hbb_list[i] = master_dict[i]['Hbb']['Color_Ring']"
   ]
  },
  {
   "cell_type": "code",
   "execution_count": 11,
   "id": "e12bd1fc-2ec7-4daa-aec6-8d053f0f3b76",
   "metadata": {},
   "outputs": [
    {
     "data": {
      "text/plain": [
       "'pt400to500_akt02_regmass_argmax'"
      ]
     },
     "execution_count": 11,
     "metadata": {},
     "output_type": "execute_result"
    }
   ],
   "source": [
    "min(hbb_list, key=hbb_list.get)"
   ]
  },
  {
   "cell_type": "code",
   "execution_count": 12,
   "id": "75402c18-689b-4fae-983c-50671f1d1ea2",
   "metadata": {},
   "outputs": [
    {
     "data": {
      "text/plain": [
       "0.39117847339000755"
      ]
     },
     "execution_count": 12,
     "metadata": {},
     "output_type": "execute_result"
    }
   ],
   "source": [
    "hbb_list[min(hbb_list, key=hbb_list.get)]"
   ]
  },
  {
   "cell_type": "code",
   "execution_count": null,
   "id": "c07bfacb-c4c8-48c6-804c-3fd009b9a51a",
   "metadata": {},
   "outputs": [],
   "source": []
  }
 ],
 "metadata": {
  "kernelspec": {
   "display_name": "Python 3 (ipykernel)",
   "language": "python",
   "name": "python3"
  },
  "language_info": {
   "codemirror_mode": {
    "name": "ipython",
    "version": 3
   },
   "file_extension": ".py",
   "mimetype": "text/x-python",
   "name": "python",
   "nbconvert_exporter": "python",
   "pygments_lexer": "ipython3",
   "version": "3.9.18"
  }
 },
 "nbformat": 4,
 "nbformat_minor": 5
}
