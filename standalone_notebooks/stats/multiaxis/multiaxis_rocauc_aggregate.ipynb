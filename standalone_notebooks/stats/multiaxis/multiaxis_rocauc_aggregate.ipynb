{
 "cells": [
  {
   "cell_type": "code",
   "execution_count": 1,
   "id": "6c2ac44b-cf77-4353-ba46-9189d6cc29ff",
   "metadata": {},
   "outputs": [],
   "source": [
    "import numpy as np\n",
    "import matplotlib.pyplot as plt \n",
    "import pickle\n",
    "import sklearn.metrics as metrics\n",
    "import os\n",
    "import numba \n",
    "import copy"
   ]
  },
  {
   "cell_type": "code",
   "execution_count": 2,
   "id": "ff4cc4a7-cb68-4be8-8886-1d2313b513c7",
   "metadata": {},
   "outputs": [],
   "source": [
    "filelist = os.listdir(\"../../../outputs/cr_investigations/multi_var_hists\")\n",
    "filelist.remove(\".ipynb_checkpoints\")"
   ]
  },
  {
   "cell_type": "code",
   "execution_count": 3,
   "id": "a7668384-8e10-4a6c-b36f-1cfc7695dcad",
   "metadata": {},
   "outputs": [],
   "source": [
    "path = \"../../../outputs/cr_investigations/multi_var_hists/cambridge_argmax.pkl\"\n",
    "with open(path, 'rb') as f:\n",
    "    cring = pickle.load(f)"
   ]
  },
  {
   "cell_type": "code",
   "execution_count": 4,
   "id": "8924853a-a91d-4174-abd1-ee88aa272c9e",
   "metadata": {},
   "outputs": [],
   "source": [
    "#2017 integrated luminosity and QCD cross sections\n",
    "IL = 44.99\n",
    "xs_170to300 = 103700\n",
    "xs_300to470 = 6835\n",
    "xs_470to600 = 549.5\n",
    "xs_600to800 = 156.5\n",
    "xs_800to1000 = 26.22\n",
    "xs_1000to1400 = 7.475\n",
    "xs_1400to1800 = 0.6482\n",
    "xs_1800to2400 = 0.08742\n",
    "xs_2400to3200 = 0.005237\n",
    "xs_3200toInf = 0.0001353"
   ]
  },
  {
   "cell_type": "code",
   "execution_count": 5,
   "id": "92b35a88-bed8-4d71-b88b-0a9fe4920e76",
   "metadata": {},
   "outputs": [],
   "source": [
    "master_dict = {}"
   ]
  },
  {
   "cell_type": "code",
   "execution_count": 6,
   "id": "581986b5-ecb0-4f40-ad35-ba4c0c1ce3b7",
   "metadata": {},
   "outputs": [],
   "source": [
    "signal_dict = {}\n",
    "signal_dict['Hgg'] = cring[0]['Hgg']['Hgg']\n",
    "signal_dict['Hbb'] = cring[0]['Hbb']['Hbb']\n",
    "\n",
    "hgg_scaled = signal_dict['Hgg']\n",
    "hbb_scaled = signal_dict['Hbb']\n",
    "\n",
    "#signal scale factors\n",
    "scalesHJ = ((44.99*(0.471*1000)*0.0817)/(hgg_scaled['entries']))\n",
    "scalesHbb = ((44.99*(0.274*1000)*0.581)/(hbb_scaled['entries']))\n",
    "\n",
    "#do the scaling \n",
    "hgg_entries = list(hgg_scaled.keys())\n",
    "for i in range(1, len(hgg_entries)):\n",
    "    hgg_scaled[hgg_entries[i]].view(flow=True)[:] *= scalesHJ\n",
    "\n",
    "hbb_entries = list(hbb_scaled.keys())\n",
    "for i in range(1, len(hbb_entries)):\n",
    "    hbb_scaled[hbb_entries[i]].view(flow=True)[:] *= scalesHbb"
   ]
  },
  {
   "cell_type": "code",
   "execution_count": 7,
   "id": "d573b3fc-f0e2-45d3-85d9-238c50978e92",
   "metadata": {},
   "outputs": [],
   "source": [
    "#combine the qcds into a dictionary\n",
    "qcd_dict = {}\n",
    "qcd_dict['q173'] = cring[0]['QCD_Pt_170to300_TuneCP5_13TeV_pythia8']['QCD_Pt_170to300']\n",
    "qcd_dict['q347'] = cring[0]['QCD_Pt_300to470_TuneCP5_13TeV_pythia8']['QCD_Pt_300to470']\n",
    "qcd_dict['q476'] = cring[0]['QCD_Pt_470to600_TuneCP5_13TeV_pythia8']['QCD_Pt_470to600']\n",
    "qcd_dict['q68'] = cring[0]['QCD_Pt_600to800_TuneCP5_13TeV_pythia8']['QCD_Pt_600to800']\n",
    "qcd_dict['q810'] = cring[0]['QCD_Pt_800to1000_TuneCP5_13TeV_pythia8']['QCD_Pt_800to1000']\n",
    "qcd_dict['q1014'] = cring[0]['QCD_Pt_1000to1400_TuneCP5_13TeV_pythia8']['QCD_Pt_1000to1400']\n",
    "qcd_dict['q1418'] = cring[0]['QCD_Pt_1400to1800_TuneCP5_13TeV_pythia8']['QCD_Pt_1400to1800']\n",
    "qcd_dict['q1824'] = cring[0]['QCD_Pt_1800to2400_TuneCP5_13TeV_pythia8']['QCD_Pt_1800to2400']\n",
    "qcd_dict['q2432'] = cring[0]['QCD_Pt_2400to3200_TuneCP5_13TeV_pythia8']['QCD_Pt_2400to3200']\n",
    "qcd_dict['q32inf'] = cring[0]['QCD_Pt_3200toInf_TuneCP5_13TeV_pythia8']['QCD_Pt_3200toInf']\n",
    "\n",
    "#QCD scale factors dictionary\n",
    "qcd_sf_dict = {}\n",
    "qcd_sf_dict['scales170to300'] = (((xs_170to300*1000)*IL)/(qcd_dict['q173']['entries']))\n",
    "qcd_sf_dict['scales300to470'] = (((xs_300to470*1000)*IL)/(qcd_dict['q347']['entries']))\n",
    "qcd_sf_dict['scales470to600'] = (((xs_470to600*1000)*IL)/(qcd_dict['q476']['entries']))\n",
    "qcd_sf_dict['scales600to800'] = (((xs_600to800*1000)*IL)/(qcd_dict['q68']['entries']))\n",
    "qcd_sf_dict['scales800to1000'] = (((xs_800to1000*1000)*IL)/(qcd_dict['q810']['entries']))\n",
    "qcd_sf_dict['scales1000to1400'] = (((xs_1000to1400*1000)*IL)/(qcd_dict['q1014']['entries']))\n",
    "qcd_sf_dict['scales1400to1800'] = (((xs_1400to1800*1000)*IL)/(qcd_dict['q1418']['entries']))\n",
    "qcd_sf_dict['scales1800to2400'] = (((xs_1800to2400*1000)*IL)/(qcd_dict['q1824']['entries']))\n",
    "qcd_sf_dict['scales2400to3200'] = (((xs_2400to3200*1000)*IL)/(qcd_dict['q2432']['entries']))\n",
    "qcd_sf_dict['scales3200toInf'] = (((xs_3200toInf*1000)*IL)/(qcd_dict['q32inf']['entries']))\n",
    "\n",
    "#scale all the qcd values\n",
    "entries = list(qcd_dict['q173'].keys())\n",
    "for i in range(0, len(qcd_dict)):\n",
    "    qcd_range = list(qcd_dict.keys())[i]\n",
    "    qcd_scales = list(qcd_sf_dict.keys())[i]\n",
    "    for j in range(1, len(entries)):\n",
    "        qcd_dict[qcd_range][entries[j]].view(flow=True)[:] *= qcd_sf_dict[qcd_scales]\n",
    "\n",
    "#combine the qcds into individual variable fields\n",
    "qcd_vars_scaled = {}\n",
    "for i in range(1, len(entries)):\n",
    "    temp_hist = qcd_dict['q173'][entries[i]]\n",
    "    for j in range(1, len(qcd_dict)):\n",
    "        temp_hist += qcd_dict[list(qcd_dict.keys())[j]][entries[i]]\n",
    "    qcd_vars_scaled[entries[i]] = temp_hist"
   ]
  },
  {
   "cell_type": "code",
   "execution_count": 8,
   "id": "32971605-10b9-44d1-8eaa-b8fcfbc025f9",
   "metadata": {},
   "outputs": [],
   "source": [
    "for l in range(45, 48):\n",
    "    for m in range(l+2, 52):\n",
    "\n",
    "        hgg_copy = copy.copy(hgg_scaled)\n",
    "        hbb_copy = copy.copy(hbb_scaled)\n",
    "\n",
    "        hgg_copy['Color_Ring'] = hgg_copy['Color_Ring'][:,:,:,l:m]\n",
    "        hbb_copy['Color_Ring'] = hbb_copy['Color_Ring'][:,:,:,l:m]\n",
    "\n",
    "        if (hgg_copy['Color_Ring'].sum().value == 0) or (hbb_copy['Color_Ring'].sum().value == 0):\n",
    "            continue\n",
    "\n",
    "        hgg = hgg_copy\n",
    "        hbb = hbb_copy\n",
    "        \n",
    "        #get the totals for each histogram\n",
    "        hgg_totals_dict = {}\n",
    "        for i in range(1, len(hgg_entries)):\n",
    "            if len(hgg[hgg_entries[i]].axes) == 1:\n",
    "                hgg_totals_dict[hgg_entries[i]] = hgg[hgg_entries[i]][0:len(hgg[hgg_entries[i]].view()):sum]\n",
    "            else:\n",
    "                for j in hgg[hgg_entries[i]].axes.name:\n",
    "                        hgg_totals_dict[j] = hgg[hgg_entries[i]].project(j)[0:len(hgg[hgg_entries[i]].project(j).view()):sum]\n",
    "\n",
    "                \n",
    "        hbb_totals_dict = {}\n",
    "        for i in range(1, len(hbb_entries)):\n",
    "            if len(hbb[hbb_entries[i]].axes) == 1:\n",
    "                hbb_totals_dict[hbb_entries[i]] = hbb[hbb_entries[i]][0:len(hbb[hbb_entries[i]].view()):sum]\n",
    "            else:\n",
    "                for j in hbb[hbb_entries[i]].axes.name:\n",
    "                        hbb_totals_dict[j] = hbb[hbb_entries[i]].project(j)[0:len(hbb[hbb_entries[i]].project(j).view()):sum]\n",
    "        \n",
    "        #get the true positive fractions\n",
    "        hgg_truth_dict = {}\n",
    "        for i in range(1, len(hgg_entries)):\n",
    "            if len(hgg[hgg_entries[i]].axes) == 1:\n",
    "                temp_list = []\n",
    "                for j in range(1, len(hgg[hgg_entries[i]].view())+1):\n",
    "                    temp_list.append(hgg[hgg_entries[i]][0:j:sum].value/hgg_totals_dict[hgg_entries[i]].value)\n",
    "                hgg_truth_dict[hgg_entries[i]] = temp_list\n",
    "            else:\n",
    "                for j in hgg[hgg_entries[i]].axes.name:\n",
    "                        temp_list = []\n",
    "                        for k in range(1, len(hgg[hgg_entries[i]].project(j).view())+1):\n",
    "                            temp_list.append(hgg[hgg_entries[i]].project(j)[0:k:sum].value/hgg_totals_dict[hgg_entries[i]].value)\n",
    "                        hgg_truth_dict[j] = temp_list\n",
    "                        \n",
    "        hbb_truth_dict = {}\n",
    "        for i in range(1, len(hbb_entries)):\n",
    "            if len(hbb[hbb_entries[i]].axes) == 1:\n",
    "                temp_list = []\n",
    "                for j in range(1, len(hbb[hbb_entries[i]].view())+1):\n",
    "                    temp_list.append(hbb[hbb_entries[i]][0:j:sum].value/hbb_totals_dict[hbb_entries[i]].value)\n",
    "                hbb_truth_dict[hbb_entries[i]] = temp_list\n",
    "            else:\n",
    "                for j in hbb[hbb_entries[i]].axes.name:\n",
    "                        temp_list = []\n",
    "                        for k in range(1, len(hbb[hbb_entries[i]].project(j).view())+1):\n",
    "                            temp_list.append(hbb[hbb_entries[i]].project(j)[0:k:sum].value/hbb_totals_dict[hbb_entries[i]].value)\n",
    "                        hbb_truth_dict[j] = temp_list\n",
    "        \n",
    "\n",
    "        qcd_vars_copy = copy.deepcopy(qcd_vars_scaled)\n",
    "        qcd_vars_copy['Color_Ring'] = qcd_vars_copy['Color_Ring'][:,:,:,l:m]\n",
    "        qcd_vars = qcd_vars_copy\n",
    "        \n",
    "        #totals for each qcd hist\n",
    "        qcd_totals_dict = {}\n",
    "        for i in range(1, len(entries)):\n",
    "            if len(qcd_vars[entries[i]].axes) == 1:\n",
    "                qcd_totals_dict[entries[i]] = qcd_vars[entries[i]][0:len(qcd_vars[entries[i]].view()):sum]\n",
    "            else:\n",
    "                for j in qcd_vars[entries[i]].axes.name:\n",
    "                        qcd_totals_dict[j] = qcd_vars[entries[i]].project(j)[0:len(qcd_vars[entries[i]].project(j).view()):sum]\n",
    "        \n",
    "        #false positive fractions for each qcd variable\n",
    "        qcd_false_positive_dict = {}\n",
    "        for i in range(1, len(entries)):\n",
    "            if len(qcd_vars[entries[i]].axes) == 1:\n",
    "                temp_list = []\n",
    "                for j in range(1, len(qcd_vars[entries[i]].view())+1):\n",
    "                    temp_list.append(qcd_vars[entries[i]][0:j:sum].value/qcd_totals_dict[entries[i]].value)\n",
    "                qcd_false_positive_dict[entries[i]] = temp_list\n",
    "            else:\n",
    "                for j in qcd_vars[entries[i]].axes.name:\n",
    "                        temp_list = []\n",
    "                        for k in range(1, len(qcd_vars[entries[i]].project(j).view())+1):\n",
    "                            temp_list.append(qcd_vars[entries[i]].project(j)[0:k:sum].value/qcd_totals_dict[entries[i]].value)\n",
    "                        qcd_false_positive_dict[j] = temp_list\n",
    "        \n",
    "        hgg_auc_dict = {}\n",
    "        hgg_keys = list(hgg_truth_dict.keys())\n",
    "        for i in range(0, len(hgg_keys)):\n",
    "            hgg_auc_dict[hgg_keys[i]] = metrics.auc(\n",
    "                                                hgg_truth_dict[hgg_keys[i]],\n",
    "                                                qcd_false_positive_dict[hgg_keys[i]]\n",
    "                                            )\n",
    "        # for i in range(0, len(hgg_keys)):\n",
    "        #     if hgg_auc_dict[hgg_keys[i]] >= 0.5:\n",
    "        #         hgg_auc_dict[hgg_keys[i]] = 1 - hgg_auc_dict[hgg_keys[i]]\n",
    "        \n",
    "        hbb_auc_dict = {}\n",
    "        hbb_keys = list(hbb_truth_dict.keys())\n",
    "        for i in range(0, len(hbb_keys)):\n",
    "            hbb_auc_dict[hbb_keys[i]] = metrics.auc(\n",
    "                                                hbb_truth_dict[hbb_keys[i]],\n",
    "                                                qcd_false_positive_dict[hbb_keys[i]]\n",
    "                                            )\n",
    "        # for i in range(0, len(hbb_keys)):\n",
    "        #     if hbb_auc_dict[hbb_keys[i]] >= 0.5:\n",
    "        #         hbb_auc_dict[hbb_keys[i]] = 1 - hbb_auc_dict[hbb_keys[i]]\n",
    "        \n",
    "        category = 'mass_window_' + str(l) + '_' + str(m)\n",
    "        master_dict[category] = {}\n",
    "        master_dict[category]['Hgg'] = hgg_auc_dict\n",
    "        master_dict[category]['Hbb'] = hbb_auc_dict"
   ]
  },
  {
   "cell_type": "code",
   "execution_count": 9,
   "id": "13ab1e64-014a-4fdc-b29d-bab848fbefbb",
   "metadata": {},
   "outputs": [
    {
     "data": {
      "text/plain": [
       "{'mass_window_45_47': {'Hgg': {'Color_Ring': 0.4932425231810516,\n",
       "   'PT': 0.5333368576609064,\n",
       "   'Mass': 0.5097597051123297,\n",
       "   'SDMass': 0.331916207818804},\n",
       "  'Hbb': {'Color_Ring': 0.5038238849175458,\n",
       "   'PT': 0.5743970433803549,\n",
       "   'Mass': 0.5080681625282684,\n",
       "   'SDMass': 0.34961810477022043}},\n",
       " 'mass_window_45_48': {'Hgg': {'Color_Ring': 0.4944132955020004,\n",
       "   'PT': 0.5295599672257226,\n",
       "   'Mass': 0.49436321114130755,\n",
       "   'SDMass': 0.38383039203451846},\n",
       "  'Hbb': {'Color_Ring': 0.5071649673459365,\n",
       "   'PT': 0.5711261646449066,\n",
       "   'Mass': 0.48695858814439374,\n",
       "   'SDMass': 0.3905803349078424}},\n",
       " 'mass_window_45_49': {'Hgg': {'Color_Ring': 0.49505422191157045,\n",
       "   'PT': 0.5253610155001185,\n",
       "   'Mass': 0.4806704649747207,\n",
       "   'SDMass': 0.3938333873590792},\n",
       "  'Hbb': {'Color_Ring': 0.5081478481099421,\n",
       "   'PT': 0.5672397413328656,\n",
       "   'Mass': 0.4726216792740605,\n",
       "   'SDMass': 0.39833994201825507}},\n",
       " 'mass_window_45_50': {'Hgg': {'Color_Ring': 0.49528402922677395,\n",
       "   'PT': 0.523474308517898,\n",
       "   'Mass': 0.47445256829341836,\n",
       "   'SDMass': 0.39121061682892383},\n",
       "  'Hbb': {'Color_Ring': 0.5087198267488544,\n",
       "   'PT': 0.5666365725377472,\n",
       "   'Mass': 0.46687592617903406,\n",
       "   'SDMass': 0.3961898995093452}},\n",
       " 'mass_window_45_51': {'Hgg': {'Color_Ring': 0.49528402922677395,\n",
       "   'PT': 0.523474308517898,\n",
       "   'Mass': 0.47445256829341836,\n",
       "   'SDMass': 0.39121061682892383},\n",
       "  'Hbb': {'Color_Ring': 0.5087198267488544,\n",
       "   'PT': 0.5666365725377472,\n",
       "   'Mass': 0.46687592617903406,\n",
       "   'SDMass': 0.3961898995093452}},\n",
       " 'mass_window_46_48': {'Hgg': {'Color_Ring': 0.4966610685906339,\n",
       "   'PT': 0.5247034928405439,\n",
       "   'Mass': 0.50664816226644,\n",
       "   'SDMass': 0.3223412112845177},\n",
       "  'Hbb': {'Color_Ring': 0.5069719666852526,\n",
       "   'PT': 0.5653508790232238,\n",
       "   'Mass': 0.4888604322061185,\n",
       "   'SDMass': 0.3079033204411881}},\n",
       " 'mass_window_46_49': {'Hgg': {'Color_Ring': 0.49698165514462334,\n",
       "   'PT': 0.5199284660084962,\n",
       "   'Mass': 0.49335115111988753,\n",
       "   'SDMass': 0.37189056242122936},\n",
       "  'Hbb': {'Color_Ring': 0.5083235327277201,\n",
       "   'PT': 0.5612856593836528,\n",
       "   'Mass': 0.475940660280356,\n",
       "   'SDMass': 0.3601214583295157}},\n",
       " 'mass_window_46_50': {'Hgg': {'Color_Ring': 0.49719933212619494,\n",
       "   'PT': 0.5178027326591812,\n",
       "   'Mass': 0.48750975580813305,\n",
       "   'SDMass': 0.3743715403541676},\n",
       "  'Hbb': {'Color_Ring': 0.5091486500910796,\n",
       "   'PT': 0.5611828338060446,\n",
       "   'Mass': 0.4709725945306704,\n",
       "   'SDMass': 0.36496749321912597}},\n",
       " 'mass_window_46_51': {'Hgg': {'Color_Ring': 0.49719933212619494,\n",
       "   'PT': 0.5178027326591812,\n",
       "   'Mass': 0.48750975580813305,\n",
       "   'SDMass': 0.3743715403541676},\n",
       "  'Hbb': {'Color_Ring': 0.5091486500910796,\n",
       "   'PT': 0.5611828338060446,\n",
       "   'Mass': 0.4709725945306704,\n",
       "   'SDMass': 0.36496749321912597}},\n",
       " 'mass_window_47_49': {'Hgg': {'Color_Ring': 0.49701851780440415,\n",
       "   'PT': 0.5149479718551262,\n",
       "   'Mass': 0.5080047489189783,\n",
       "   'SDMass': 0.30387337022743727},\n",
       "  'Hbb': {'Color_Ring': 0.5150175931735792,\n",
       "   'PT': 0.5587837813675851,\n",
       "   'Mass': 0.4917040747867102,\n",
       "   'SDMass': 0.3066367011806735}},\n",
       " 'mass_window_47_50': {'Hgg': {'Color_Ring': 0.497397628813703,\n",
       "   'PT': 0.5123752711917668,\n",
       "   'Mass': 0.5040105560279076,\n",
       "   'SDMass': 0.32871386035601635},\n",
       "  'Hbb': {'Color_Ring': 0.5158057114704863,\n",
       "   'PT': 0.5597245319394534,\n",
       "   'Mass': 0.48895396227585913,\n",
       "   'SDMass': 0.33427857462016736}},\n",
       " 'mass_window_47_51': {'Hgg': {'Color_Ring': 0.497397628813703,\n",
       "   'PT': 0.5123752711917668,\n",
       "   'Mass': 0.5040105560279076,\n",
       "   'SDMass': 0.32871386035601635},\n",
       "  'Hbb': {'Color_Ring': 0.5158057114704863,\n",
       "   'PT': 0.5597245319394534,\n",
       "   'Mass': 0.48895396227585913,\n",
       "   'SDMass': 0.33427857462016736}}}"
      ]
     },
     "execution_count": 9,
     "metadata": {},
     "output_type": "execute_result"
    }
   ],
   "source": [
    "master_dict"
   ]
  },
  {
   "cell_type": "code",
   "execution_count": 10,
   "id": "0f3655e7-ef4b-4075-9c59-ddb5aa41bd0c",
   "metadata": {},
   "outputs": [],
   "source": [
    "hgg_list = {}\n",
    "for i in master_dict:\n",
    "    hgg_list[i] = master_dict[i]['Hgg']['Color_Ring']"
   ]
  },
  {
   "cell_type": "code",
   "execution_count": 11,
   "id": "b6d43e7d-86cc-4b57-919c-5c66e3ea8902",
   "metadata": {},
   "outputs": [
    {
     "data": {
      "text/plain": [
       "'mass_window_45_47'"
      ]
     },
     "execution_count": 11,
     "metadata": {},
     "output_type": "execute_result"
    }
   ],
   "source": [
    "min(hgg_list, key=hgg_list.get)"
   ]
  },
  {
   "cell_type": "code",
   "execution_count": 12,
   "id": "e5cd0996-490b-4776-8ffb-eecc2f2e74eb",
   "metadata": {},
   "outputs": [
    {
     "data": {
      "text/plain": [
       "0.4932425231810516"
      ]
     },
     "execution_count": 12,
     "metadata": {},
     "output_type": "execute_result"
    }
   ],
   "source": [
    "hgg_list[min(hgg_list, key=hgg_list.get)]"
   ]
  },
  {
   "cell_type": "code",
   "execution_count": 13,
   "id": "c1134a5f-e27f-47c6-9b1f-51f7501e6632",
   "metadata": {},
   "outputs": [],
   "source": [
    "hbb_list = {}\n",
    "for i in master_dict:\n",
    "    hbb_list[i] = master_dict[i]['Hbb']['Color_Ring']"
   ]
  },
  {
   "cell_type": "code",
   "execution_count": 14,
   "id": "4243dd96-ad48-47dd-8d9b-b19c202e1947",
   "metadata": {},
   "outputs": [
    {
     "data": {
      "text/plain": [
       "'mass_window_45_47'"
      ]
     },
     "execution_count": 14,
     "metadata": {},
     "output_type": "execute_result"
    }
   ],
   "source": [
    "min(hbb_list, key=hbb_list.get)"
   ]
  },
  {
   "cell_type": "code",
   "execution_count": 15,
   "id": "d92f513c-5283-44cd-8a8a-64a4380584e6",
   "metadata": {},
   "outputs": [
    {
     "data": {
      "text/plain": [
       "0.5038238849175458"
      ]
     },
     "execution_count": 15,
     "metadata": {},
     "output_type": "execute_result"
    }
   ],
   "source": [
    "hbb_list[min(hbb_list, key=hbb_list.get)]"
   ]
  },
  {
   "cell_type": "code",
   "execution_count": 16,
   "id": "f388a188-ea09-4113-b1e7-e0a5caf5128b",
   "metadata": {},
   "outputs": [
    {
     "data": {
      "text/plain": [
       "{'entries': 2392373,\n",
       " 'Color_Ring': Hist(\n",
       "   Regular(50, 0, 10, underflow=False, overflow=False, name='Color_Ring'),\n",
       "   Regular(50, 150, 2500, underflow=False, overflow=False, name='PT'),\n",
       "   Regular(50, 50, 150, underflow=False, overflow=False, name='Mass'),\n",
       "   Regular(50, 50, 150, underflow=False, overflow=False, name='SDMass'),\n",
       "   storage=Weight()) # Sum: WeightedSum(value=522.391, variance=0.37803)}"
      ]
     },
     "execution_count": 16,
     "metadata": {},
     "output_type": "execute_result"
    }
   ],
   "source": [
    "hgg_scaled"
   ]
  },
  {
   "cell_type": "code",
   "execution_count": null,
   "id": "cdbd8e5a-4b81-4711-ad26-dd1692f3a9e6",
   "metadata": {},
   "outputs": [],
   "source": []
  }
 ],
 "metadata": {
  "kernelspec": {
   "display_name": "Python 3 (ipykernel)",
   "language": "python",
   "name": "python3"
  },
  "language_info": {
   "codemirror_mode": {
    "name": "ipython",
    "version": 3
   },
   "file_extension": ".py",
   "mimetype": "text/x-python",
   "name": "python",
   "nbconvert_exporter": "python",
   "pygments_lexer": "ipython3",
   "version": "3.10.13"
  }
 },
 "nbformat": 4,
 "nbformat_minor": 5
}
