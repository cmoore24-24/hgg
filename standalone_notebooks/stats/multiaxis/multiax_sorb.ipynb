{
 "cells": [
  {
   "cell_type": "code",
   "execution_count": 94,
   "id": "3409bfed-c67a-407a-ab66-3492d33bf8cb",
   "metadata": {},
   "outputs": [],
   "source": [
    "import numpy as np\n",
    "import matplotlib.pyplot as plt \n",
    "import pickle\n",
    "import math"
   ]
  },
  {
   "cell_type": "code",
   "execution_count": 95,
   "id": "f3ca56ba-ca2b-43bb-8658-2c2f8e63c782",
   "metadata": {},
   "outputs": [],
   "source": [
    "path = \"../../../outputs/cr_investigations/multi_var_hists/cambridge04_averaged.pkl\"\n",
    "with open(path, 'rb') as f:\n",
    "    cring = pickle.load(f)"
   ]
  },
  {
   "cell_type": "code",
   "execution_count": 96,
   "id": "6098de60-9b48-4cfe-a214-b1c4ca3430fd",
   "metadata": {},
   "outputs": [],
   "source": [
    "hgg = cring[0]['Hgg']['Hgg']\n",
    "hbb = cring[0]['Hbb']['Hbb']"
   ]
  },
  {
   "cell_type": "code",
   "execution_count": 97,
   "id": "63e00553-c3e7-4f52-9758-e93542920965",
   "metadata": {},
   "outputs": [],
   "source": [
    "#signal scale factors\n",
    "scalesHJ = ((44.99*(0.471*1000)*0.0817)/(hgg['entries']))\n",
    "scalesHbb = ((44.99*(0.274*1000)*0.581)/(hbb['entries']))"
   ]
  },
  {
   "cell_type": "code",
   "execution_count": 98,
   "id": "c69452d2-2673-42d1-9ad4-dee8f068b856",
   "metadata": {},
   "outputs": [],
   "source": [
    "#do the scaling \n",
    "hgg_entries = list(hgg.keys())\n",
    "for i in range(1, len(hgg_entries)):\n",
    "    hgg[hgg_entries[i]].view(flow=True)[:] *= scalesHJ\n",
    "\n",
    "hbb_entries = list(hgg.keys())\n",
    "for i in range(1, len(hbb_entries)):\n",
    "    hbb[hbb_entries[i]].view(flow=True)[:] *= scalesHbb"
   ]
  },
  {
   "cell_type": "code",
   "execution_count": 99,
   "id": "7f0337be-621b-4d76-b1d9-a99d0dfe782a",
   "metadata": {},
   "outputs": [],
   "source": [
    "l = 0\n",
    "m = 40\n",
    "hgg['Color_Ring'] = hgg['Color_Ring'][l:m,4:,:,:]\n",
    "hbb['Color_Ring'] = hbb['Color_Ring'][l:m,4:,:,:]"
   ]
  },
  {
   "cell_type": "code",
   "execution_count": 100,
   "id": "2c77f655-fa25-41f5-af09-5d5f64829655",
   "metadata": {},
   "outputs": [],
   "source": [
    "#get the totals for each histogram\n",
    "hgg_totals_dict = {}\n",
    "for i in range(1, len(hgg_entries)):\n",
    "    if len(hgg[hgg_entries[i]].axes) == 1:\n",
    "        hgg_totals_dict[hgg_entries[i]] = hgg[hgg_entries[i]][0:len(hgg[hgg_entries[i]].view()):sum]\n",
    "    else:\n",
    "        for j in hgg[hgg_entries[i]].axes.name:\n",
    "            hgg_totals_dict[j] = hgg[hgg_entries[i]].project(j)[0:len(hgg[hgg_entries[i]].project(j).view()):sum]   \n",
    "        \n",
    "hbb_totals_dict = {}\n",
    "for i in range(1, len(hbb_entries)):\n",
    "    if len(hbb[hbb_entries[i]].axes) == 1:\n",
    "        hbb_totals_dict[hbb_entries[i]] = hbb[hbb_entries[i]][0:len(hbb[hbb_entries[i]].view()):sum]\n",
    "    else:\n",
    "        for j in hbb[hbb_entries[i]].axes.name:\n",
    "            hbb_totals_dict[j] = hbb[hbb_entries[i]].project(j)[0:len(hbb[hbb_entries[i]].project(j).view()):sum]"
   ]
  },
  {
   "cell_type": "code",
   "execution_count": 101,
   "id": "5c755b1b-0dc6-48c3-b806-265c2e752370",
   "metadata": {},
   "outputs": [],
   "source": [
    "#get the true positive fractions\n",
    "hgg_truth_dict = {}\n",
    "for i in range(1, len(hgg_entries)):\n",
    "    if len(hgg[hgg_entries[i]].axes) == 1:\n",
    "        temp_list = []\n",
    "        for j in range(1, len(hgg[hgg_entries[i]].view())+1):\n",
    "            temp_list.append(hgg[hgg_entries[i]][0:j:sum].value/hgg_totals_dict[hgg_entries[i]].value)\n",
    "        hgg_truth_dict[hgg_entries[i]] = temp_list\n",
    "    else:\n",
    "        for j in hgg[hgg_entries[i]].axes.name:\n",
    "            temp_list = []\n",
    "            for k in range(1, len(hgg[hgg_entries[i]].project(j).view())+1):\n",
    "                temp_list.append(hgg[hgg_entries[i]].project(j)[0:k:sum].value/hgg_totals_dict[hgg_entries[i]].value)\n",
    "            hgg_truth_dict[j] = temp_list\n",
    "                \n",
    "hbb_truth_dict = {}\n",
    "for i in range(1, len(hbb_entries)):\n",
    "    if len(hbb[hbb_entries[i]].axes) == 1:\n",
    "        temp_list = []\n",
    "        for j in range(1, len(hbb[hbb_entries[i]].view())+1):\n",
    "            temp_list.append(hbb[hbb_entries[i]][0:j:sum].value/hbb_totals_dict[hbb_entries[i]].value)\n",
    "        hbb_truth_dict[hbb_entries[i]] = temp_list\n",
    "    else:\n",
    "        for j in hbb[hbb_entries[i]].axes.name:\n",
    "            temp_list = []\n",
    "            for k in range(1, len(hbb[hbb_entries[i]].project(j).view())+1):\n",
    "                temp_list.append(hbb[hbb_entries[i]].project(j)[0:k:sum].value/hbb_totals_dict[hbb_entries[i]].value)\n",
    "            hbb_truth_dict[j] = temp_list"
   ]
  },
  {
   "cell_type": "code",
   "execution_count": 102,
   "id": "fcb479cd-931e-4c35-b6eb-b5955e893a8d",
   "metadata": {},
   "outputs": [],
   "source": [
    "#get the true positive fractions backwards\n",
    "hgg_truth_dict_back = {}\n",
    "for i in range(1, len(hgg_entries)):\n",
    "    if len(hgg[hgg_entries[i]].axes) == 1:\n",
    "        temp_list = []\n",
    "        for j in range(1, len(hgg[hgg_entries[i]].view())+1):\n",
    "            temp_list.append(hgg[hgg_entries[i]][len(hgg[hgg_entries[i]].view())-j:len(hgg[hgg_entries[i]].view()):sum].value/hgg_totals_dict[hgg_entries[i]].value)\n",
    "        hgg_truth_dict_back[hgg_entries[i]] = temp_list\n",
    "    else:\n",
    "        for j in hgg[hgg_entries[i]].axes.name:\n",
    "            temp_list = []\n",
    "            for k in range(1, len(hgg[hgg_entries[i]].project(j).view())+1):\n",
    "                temp_list.append(hgg[hgg_entries[i]].project(j)[len(hgg[hgg_entries[i]].project(j).view())-k:len(hgg[hgg_entries[i]].project(j).view()):sum].value/hgg_totals_dict[hgg_entries[i]].value)\n",
    "            hgg_truth_dict_back[j] = temp_list\n",
    "                \n",
    "hbb_truth_dict_back = {}\n",
    "for i in range(1, len(hbb_entries)):\n",
    "    if len(hbb[hbb_entries[i]].axes) == 1:\n",
    "        temp_list = []\n",
    "        for j in range(1, len(hbb[hbb_entries[i]].view())+1):\n",
    "            temp_list.append(hbb[hbb_entries[i]][len(hbb[hbb_entries[i]].view())-j:len(hbb[hbb_entries[i]].view()):sum].value/hbb_totals_dict[hbb_entries[i]].value)\n",
    "        hbb_truth_dict_back[hbb_entries[i]] = temp_list\n",
    "    else:\n",
    "        for j in hbb[hbb_entries[i]].axes.name:\n",
    "            temp_list = []\n",
    "            for k in range(1, len(hbb[hbb_entries[i]].project(j).view())+1):\n",
    "                temp_list.append(hbb[hbb_entries[i]].project(j)[len(hbb[hbb_entries[i]].project(j).view())-k:len(hbb[hbb_entries[i]].project(j).view()):sum].value/hbb_totals_dict[hbb_entries[i]].value)\n",
    "            hbb_truth_dict_back[j] = temp_list"
   ]
  },
  {
   "cell_type": "code",
   "execution_count": 103,
   "id": "e3900587-5ef4-4307-9780-960155973092",
   "metadata": {},
   "outputs": [],
   "source": [
    "#2017 integrated luminosity and QCD cross sections\n",
    "IL = 44.99\n",
    "xs_170to300 = 103700\n",
    "xs_300to470 = 6835\n",
    "xs_470to600 = 549.5\n",
    "xs_600to800 = 156.5\n",
    "xs_800to1000 = 26.22\n",
    "xs_1000to1400 = 7.475\n",
    "xs_1400to1800 = 0.6482\n",
    "xs_1800to2400 = 0.08742\n",
    "xs_2400to3200 = 0.005237\n",
    "xs_3200toInf = 0.0001353"
   ]
  },
  {
   "cell_type": "code",
   "execution_count": 104,
   "id": "4c448f86-de3a-4d6c-bcb3-74aab6c802cb",
   "metadata": {},
   "outputs": [],
   "source": [
    "#combine the qcds into a dictionary\n",
    "qcd_dict = {}\n",
    "qcd_dict['q173'] = cring[0]['QCD_Pt_170to300_TuneCP5_13TeV_pythia8']['QCD_Pt_170to300']\n",
    "qcd_dict['q347'] = cring[0]['QCD_Pt_300to470_TuneCP5_13TeV_pythia8']['QCD_Pt_300to470']\n",
    "qcd_dict['q476'] = cring[0]['QCD_Pt_470to600_TuneCP5_13TeV_pythia8']['QCD_Pt_470to600']\n",
    "qcd_dict['q68'] = cring[0]['QCD_Pt_600to800_TuneCP5_13TeV_pythia8']['QCD_Pt_600to800']\n",
    "qcd_dict['q810'] = cring[0]['QCD_Pt_800to1000_TuneCP5_13TeV_pythia8']['QCD_Pt_800to1000']\n",
    "qcd_dict['q1014'] = cring[0]['QCD_Pt_1000to1400_TuneCP5_13TeV_pythia8']['QCD_Pt_1000to1400']\n",
    "qcd_dict['q1418'] = cring[0]['QCD_Pt_1400to1800_TuneCP5_13TeV_pythia8']['QCD_Pt_1400to1800']\n",
    "qcd_dict['q1824'] = cring[0]['QCD_Pt_1800to2400_TuneCP5_13TeV_pythia8']['QCD_Pt_1800to2400']\n",
    "qcd_dict['q2432'] = cring[0]['QCD_Pt_2400to3200_TuneCP5_13TeV_pythia8']['QCD_Pt_2400to3200']\n",
    "qcd_dict['q32inf'] = cring[0]['QCD_Pt_3200toInf_TuneCP5_13TeV_pythia8']['QCD_Pt_3200toInf']"
   ]
  },
  {
   "cell_type": "code",
   "execution_count": 105,
   "id": "60d54036-0bfc-4414-82a7-431d128c8ac4",
   "metadata": {},
   "outputs": [],
   "source": [
    "#QCD scale factors dictionary\n",
    "qcd_sf_dict = {}\n",
    "qcd_sf_dict['scales170to300'] = (((xs_170to300*1000)*IL)/(qcd_dict['q173']['entries']))\n",
    "qcd_sf_dict['scales300to470'] = (((xs_300to470*1000)*IL)/(qcd_dict['q347']['entries']))\n",
    "qcd_sf_dict['scales470to600'] = (((xs_470to600*1000)*IL)/(qcd_dict['q476']['entries']))\n",
    "qcd_sf_dict['scales600to800'] = (((xs_600to800*1000)*IL)/(qcd_dict['q68']['entries']))\n",
    "qcd_sf_dict['scales800to1000'] = (((xs_800to1000*1000)*IL)/(qcd_dict['q810']['entries']))\n",
    "qcd_sf_dict['scales1000to1400'] = (((xs_1000to1400*1000)*IL)/(qcd_dict['q1014']['entries']))\n",
    "qcd_sf_dict['scales1400to1800'] = (((xs_1400to1800*1000)*IL)/(qcd_dict['q1418']['entries']))\n",
    "qcd_sf_dict['scales1800to2400'] = (((xs_1800to2400*1000)*IL)/(qcd_dict['q1824']['entries']))\n",
    "qcd_sf_dict['scales2400to3200'] = (((xs_2400to3200*1000)*IL)/(qcd_dict['q2432']['entries']))\n",
    "qcd_sf_dict['scales3200toInf'] = (((xs_3200toInf*1000)*IL)/(qcd_dict['q32inf']['entries']))"
   ]
  },
  {
   "cell_type": "code",
   "execution_count": 106,
   "id": "c30b4977-f5ba-4464-b970-0921e0668e2c",
   "metadata": {},
   "outputs": [],
   "source": [
    "#scale all the qcd values\n",
    "entries = list(qcd_dict['q173'].keys())\n",
    "for i in range(0, len(qcd_dict)):\n",
    "    qcd_range = list(qcd_dict.keys())[i]\n",
    "    qcd_scales = list(qcd_sf_dict.keys())[i]\n",
    "    for j in range(1, len(entries)):\n",
    "        qcd_dict[qcd_range][entries[j]].view(flow=True)[:] *= qcd_sf_dict[qcd_scales]"
   ]
  },
  {
   "cell_type": "code",
   "execution_count": 107,
   "id": "3fb7c1cb-d8fb-4c0d-a1c9-efb9ee8b89f9",
   "metadata": {},
   "outputs": [],
   "source": [
    "#combine the qcds into individual variable fields\n",
    "qcd_vars = {}\n",
    "for i in range(1, len(entries)):\n",
    "    temp_hist = qcd_dict['q173'][entries[i]]\n",
    "    for j in range(1, len(qcd_dict)):\n",
    "        temp_hist += qcd_dict[list(qcd_dict.keys())[j]][entries[i]]\n",
    "    qcd_vars[entries[i]] = temp_hist"
   ]
  },
  {
   "cell_type": "code",
   "execution_count": 108,
   "id": "7a32cb30-bd29-4655-8258-9307fe6a93b1",
   "metadata": {},
   "outputs": [],
   "source": [
    "qcd_vars['Color_Ring'] = qcd_vars['Color_Ring'][l:m,4:,:,:]"
   ]
  },
  {
   "cell_type": "code",
   "execution_count": 109,
   "id": "c81406a3-4cd4-4026-90aa-f3f203e4d456",
   "metadata": {},
   "outputs": [],
   "source": [
    "#totals for each qcd hist\n",
    "qcd_totals_dict = {}\n",
    "for i in range(1, len(entries)):\n",
    "    if len(qcd_vars[entries[i]].axes) == 1:\n",
    "        qcd_totals_dict[entries[i]] = qcd_vars[entries[i]][0:len(qcd_vars[entries[i]].view()):sum]\n",
    "    else:\n",
    "        for j in qcd_vars[entries[i]].axes.name:\n",
    "            qcd_totals_dict[j] = qcd_vars[entries[i]].project(j)[0:len(qcd_vars[entries[i]].project(j).view()):sum]"
   ]
  },
  {
   "cell_type": "code",
   "execution_count": 110,
   "id": "b5ff6afa-3a3b-4810-9ec5-bc16f248d685",
   "metadata": {},
   "outputs": [],
   "source": [
    "#false positive fractions for each qcd variable\n",
    "qcd_false_positive_dict = {}\n",
    "for i in range(1, len(entries)):\n",
    "    if len(qcd_vars[entries[i]].axes) == 1:\n",
    "        temp_list = []\n",
    "        for j in range(1, len(qcd_vars[entries[i]].view())+1):\n",
    "            temp_list.append(qcd_vars[entries[i]][0:j:sum].value/qcd_totals_dict[entries[i]].value)\n",
    "        qcd_false_positive_dict[entries[i]] = temp_list\n",
    "    else:\n",
    "        for j in qcd_vars[entries[i]].axes.name:\n",
    "            temp_list = []\n",
    "            for k in range(1, len(qcd_vars[entries[i]].project(j).view())+1):\n",
    "                temp_list.append(qcd_vars[entries[i]].project(j)[0:k:sum].value/qcd_totals_dict[entries[i]].value)\n",
    "            qcd_false_positive_dict[j] = temp_list"
   ]
  },
  {
   "cell_type": "code",
   "execution_count": 111,
   "id": "d2d326de-ee45-40c4-ba09-3c4a83b82c9a",
   "metadata": {},
   "outputs": [],
   "source": [
    "#false positive fractions backwards for each qcd variable\n",
    "qcd_false_positive_dict_back = {}\n",
    "for i in range(1, len(entries)):\n",
    "    if len(qcd_vars[entries[i]].axes) == 1:\n",
    "        temp_list = []\n",
    "        for j in range(1, len(qcd_vars[entries[i]].view())+1):\n",
    "            temp_list.append(qcd_vars[entries[i]][len(qcd_vars[entries[i]].view())-j:len(qcd_vars[entries[i]].view()):sum].value/qcd_totals_dict[entries[i]].value)\n",
    "        qcd_false_positive_dict_back[entries[i]] = temp_list\n",
    "    else:\n",
    "        for j in qcd_vars[entries[i]].axes.name:\n",
    "            temp_list = []\n",
    "            for k in range(1, len(qcd_vars[entries[i]].project(j).view())+1):\n",
    "                temp_list.append(qcd_vars[entries[i]].project(j)[len(qcd_vars[entries[i]].project(j).view())-k:len(qcd_vars[entries[i]].project(j).view()):sum].value/qcd_totals_dict[entries[i]].value)\n",
    "            qcd_false_positive_dict_back[j] = temp_list"
   ]
  },
  {
   "cell_type": "code",
   "execution_count": 112,
   "id": "78a5a0c8-9391-4619-acc3-7abf9ac894c1",
   "metadata": {},
   "outputs": [],
   "source": [
    "#make the s over root b dict for hgg forward\n",
    "hgg_s_over_rb_dict_for = {}\n",
    "for i in range(1, len(hgg_entries)):\n",
    "    if len(hgg[hgg_entries[i]].axes) == 1:\n",
    "        temp_list = []\n",
    "        for j in range(1, len(hgg[hgg_entries[i]].view())+1):\n",
    "            try:\n",
    "                temp_list.append(hgg[hgg_entries[i]][0:j:sum].value/math.sqrt(qcd_vars[hgg_entries[i]][0:j:sum].value))\n",
    "            except:\n",
    "                continue\n",
    "            hgg_s_over_rb_dict_for[hgg_entries[i]] = temp_list\n",
    "    else:\n",
    "        for j in hgg[hgg_entries[i]].axes.name:\n",
    "            temp_list = []\n",
    "            for k in range(1, len(hgg[hgg_entries[i]].project(j).view())+1):\n",
    "                try:\n",
    "                    temp_list.append(hgg[hgg_entries[i]].project(j)[0:k:sum].value/math.sqrt(qcd_vars[hgg_entries[i]].project(j)[0:k:sum].value))\n",
    "                except:\n",
    "                    continue\n",
    "            hgg_s_over_rb_dict_for[j] = temp_list\n",
    "\n",
    "#make the s over root b dict for hgg backward\n",
    "hgg_s_over_rb_dict_back = {}\n",
    "for i in range(1, len(hgg_entries)):\n",
    "    if len(hgg[hgg_entries[i]].axes) == 1:\n",
    "        temp_list = []\n",
    "        for j in range(1, len(hgg[hgg_entries[i]].view())+1):\n",
    "            try:\n",
    "                temp_list.append(hgg[hgg_entries[i]][len(hgg[hgg_entries[i]].view())-j:len(hgg[hgg_entries[i]].view()):sum].value/math.sqrt(qcd_vars[hgg_entries[i]][len(hgg[hgg_entries[i]].view())-j:len(hgg[hgg_entries[i]].view()):sum].value))\n",
    "            except:\n",
    "                continue\n",
    "            hgg_s_over_rb_dict_back[hgg_entries[i]] = temp_list\n",
    "    else:\n",
    "        for j in hgg[hgg_entries[i]].axes.name:\n",
    "            temp_list = []\n",
    "            # try:\n",
    "            for k in range(1, len(hgg[hgg_entries[i]].project(j).view())+1):\n",
    "                temp_list.append(hgg[hgg_entries[i]].project(j)[len(hgg[hgg_entries[i]].project(j).view())-k:len(hgg[hgg_entries[i]].project(j).view()):sum].value/math.sqrt(qcd_vars[hgg_entries[i]].project(j)[len(hgg[hgg_entries[i]].project(j).view())-k:len(hgg[hgg_entries[i]].project(j).view()):sum].value))\n",
    "            # except:\n",
    "            #     continue\n",
    "            hgg_s_over_rb_dict_back[j] = temp_list"
   ]
  },
  {
   "cell_type": "code",
   "execution_count": 113,
   "id": "3f930f3e-618e-4011-b3ed-c73cd73ab736",
   "metadata": {},
   "outputs": [],
   "source": [
    "#make the s over root b dict for hbb forward\n",
    "hbb_s_over_rb_dict_for = {}\n",
    "for i in range(1, len(hbb_entries)):\n",
    "    if len(hbb[hbb_entries[i]].axes) == 1:\n",
    "        temp_list = []\n",
    "        for j in range(1, len(hbb[hbb_entries[i]].view())+1):\n",
    "            try:\n",
    "                temp_list.append(hbb[hbb_entries[i]][0:j:sum].value/math.sqrt(qcd_vars[hbb_entries[i]][0:j:sum].value))\n",
    "            except:\n",
    "                continue\n",
    "            hbb_s_over_rb_dict_for[hbb_entries[i]] = temp_list\n",
    "    else:\n",
    "        for j in hbb[hbb_entries[i]].axes.name:\n",
    "            temp_list = []\n",
    "\n",
    "            for k in range(1, len(hbb[hbb_entries[i]].project(j).view())+1):\n",
    "                try:\n",
    "                    temp_list.append(hbb[hbb_entries[i]].project(j)[0:k:sum].value/math.sqrt(qcd_vars[hbb_entries[i]].project(j)[0:k:sum].value))\n",
    "                except:\n",
    "                     continue\n",
    "            hbb_s_over_rb_dict_for[j] = temp_list\n",
    "\n",
    "#make the s over root b dict for hbb backward\n",
    "hbb_s_over_rb_dict_back = {}\n",
    "for i in range(1, len(hbb_entries)):\n",
    "    if len(hbb[hbb_entries[i]].axes) == 1:\n",
    "        temp_list = []\n",
    "        for j in range(1, len(hbb[hbb_entries[i]].view())+1):\n",
    "            try:\n",
    "                temp_list.append(hbb[hbb_entries[i]][len(hbb[hbb_entries[i]].view())-j:len(hbb[hbb_entries[i]].view()):sum].value/math.sqrt(qcd_vars[hbb_entries[i]][len(hbb[hbb_entries[i]].view())-j:len(hbb[hbb_entries[i]].view()):sum].value))\n",
    "            except:\n",
    "                continue\n",
    "            hbb_s_over_rb_dict_back[hbb_entries[i]] = temp_list\n",
    "    else:\n",
    "        for j in hbb[hbb_entries[i]].axes.name:\n",
    "            temp_list = []\n",
    "            try:\n",
    "                for k in range(1, len(hbb[hbb_entries[i]].project(j).view())+1):\n",
    "                    temp_list.append(hbb[hbb_entries[i]].project(j)[len(hbb[hbb_entries[i]].project(j).view())-k:len(hbb[hbb_entries[i]].project(j).view()):sum].value/math.sqrt(qcd_vars[hbb_entries[i]].project(j)[len(hbb[hbb_entries[i]].project(j).view())-k:len(hbb[hbb_entries[i]].project(j).view()):sum].value))\n",
    "            except:\n",
    "                continue\n",
    "            hbb_s_over_rb_dict_back[j] = temp_list"
   ]
  },
  {
   "cell_type": "code",
   "execution_count": 115,
   "id": "562efa33-e54b-4799-8fa8-c883bb536703",
   "metadata": {},
   "outputs": [
    {
     "data": {
      "text/plain": [
       "Text(0.5, 1.0, 'Hbb')"
      ]
     },
     "execution_count": 115,
     "metadata": {},
     "output_type": "execute_result"
    },
    {
     "data": {
      "image/png": "[encoded data removed]",
      "text/plain": [
       "<Figure size 640x480 with 1 Axes>"
      ]
     },
     "metadata": {},
     "output_type": "display_data"
    }
   ],
   "source": [
    "fig, ax = plt.subplots()\n",
    "\n",
    "#ax.plot(hgg['Color_Ring'].to_numpy()[1][1:]/hgg['Color_Ring'].to_numpy()[1][-1], hgg_s_over_rb_dict_back['Color_Ring'], linewidth=2.0, label='Color Ring')\n",
    "#ax.plot(hgg_s_over_rb_dict_for['Color_Ring'], linewidth=2.0, label='Color Ring')\n",
    "ax.plot(hgg['Color_Ring'].project('Color_Ring').to_numpy()[1][5:40], hgg_s_over_rb_dict_for['Color_Ring'], linewidth=2.0, label='Color Ring')\n",
    "\n",
    "plt.xlabel(\"Variable Value\")\n",
    "plt.ylabel(\"S/sqrt(B)\")\n",
    "plt.title('Hbb')"
   ]
  },
  {
   "cell_type": "code",
   "execution_count": null,
   "id": "aea5eba7-a4fa-478b-a5ca-8f4c3027789d",
   "metadata": {},
   "outputs": [],
   "source": [
    "hgg['Color_Ring'][:,4:,:,:]"
   ]
  },
  {
   "cell_type": "code",
   "execution_count": null,
   "id": "aab39ab2-6875-4884-807d-f45705751069",
   "metadata": {},
   "outputs": [],
   "source": []
  }
 ],
 "metadata": {
  "kernelspec": {
   "display_name": "Python 3 (ipykernel)",
   "language": "python",
   "name": "python3"
  },
  "language_info": {
   "codemirror_mode": {
    "name": "ipython",
    "version": 3
   },
   "file_extension": ".py",
   "mimetype": "text/x-python",
   "name": "python",
   "nbconvert_exporter": "python",
   "pygments_lexer": "ipython3",
   "version": "3.10.13"
  }
 },
 "nbformat": 4,
 "nbformat_minor": 5
}
