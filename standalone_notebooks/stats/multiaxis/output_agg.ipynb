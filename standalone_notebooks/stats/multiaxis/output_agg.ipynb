{
 "cells": [
  {
   "cell_type": "code",
   "execution_count": 165,
   "id": "d9eaf0ea-5976-4be9-9a7e-6cd5e2576c4c",
   "metadata": {},
   "outputs": [],
   "source": [
    "import pickle\n",
    "import os"
   ]
  },
  {
   "cell_type": "code",
   "execution_count": 166,
   "id": "6ecb6716-0614-4c70-8eb4-64025811f260",
   "metadata": {},
   "outputs": [],
   "source": [
    "filelist = os.listdir('./outputs/ca')\n",
    "filelist.remove('.ipynb_checkpoints')"
   ]
  },
  {
   "cell_type": "code",
   "execution_count": 167,
   "id": "5cafb32f-74b3-424f-b39f-31bec3f29541",
   "metadata": {},
   "outputs": [
    {
     "data": {
      "text/plain": [
       "['pt_window_cambridge04_argmax.pkl',\n",
       " 'pt_window_cambridge02_pt_argmax.pkl',\n",
       " 'mass_window_cambridge02_pt_argmax.pkl',\n",
       " 'pt_window_cambridge02_pt_mass_argmax.pkl',\n",
       " 'mass_window_cambridge02_pt_mass_argmax.pkl',\n",
       " 'cr_window_cambridge02_pt_mass_argmax.pkl']"
      ]
     },
     "execution_count": 167,
     "metadata": {},
     "output_type": "execute_result"
    }
   ],
   "source": [
    "filelist"
   ]
  },
  {
   "cell_type": "code",
   "execution_count": 168,
   "id": "d6484feb-3a2a-4f20-a8da-d21ec278b726",
   "metadata": {},
   "outputs": [],
   "source": [
    "mass_files = []\n",
    "pt_files = []\n",
    "cr_files = []\n",
    "for i in filelist:\n",
    "    if 'mass_window' in i:\n",
    "        mass_files.append(i)\n",
    "    elif 'pt_window' in i:\n",
    "        pt_files.append(i)\n",
    "    elif 'cr_window' in i:\n",
    "        cr_files.append(i)"
   ]
  },
  {
   "cell_type": "code",
   "execution_count": 169,
   "id": "f361ac17-9e27-4c85-aa74-184cd0dca5fb",
   "metadata": {},
   "outputs": [],
   "source": [
    "mass_dict = {}\n",
    "pt_dict = {}\n",
    "cr_dict = {}"
   ]
  },
  {
   "cell_type": "code",
   "execution_count": 170,
   "id": "4729ec5f-1972-4fd6-94d7-2d74363ffc92",
   "metadata": {},
   "outputs": [],
   "source": [
    "for i in mass_files:\n",
    "    file = './outputs/ca/' + i\n",
    "    with open(file, 'rb') as f:\n",
    "        mass_dict[i[:-4]] = pickle.load(f)"
   ]
  },
  {
   "cell_type": "code",
   "execution_count": 171,
   "id": "4d3091a9-8415-40ad-96b2-fdfa435867e0",
   "metadata": {},
   "outputs": [],
   "source": [
    "for i in pt_files:\n",
    "    file = './outputs/ca/' + i\n",
    "    with open(file, 'rb') as f:\n",
    "        pt_dict[i[:-4]] = pickle.load(f)"
   ]
  },
  {
   "cell_type": "code",
   "execution_count": 172,
   "id": "3b6330bc-0575-4a15-a866-70850981f390",
   "metadata": {},
   "outputs": [],
   "source": [
    "for i in cr_files:\n",
    "    file = './outputs/ca/' + i\n",
    "    with open(file, 'rb') as f:\n",
    "        cr_dict[i[:-4]] = pickle.load(f)"
   ]
  },
  {
   "cell_type": "code",
   "execution_count": 173,
   "id": "2f40ed0a-fcc2-4ee4-b640-e5cd003940d0",
   "metadata": {},
   "outputs": [],
   "source": [
    "hgg_mass = {}\n",
    "for i in mass_dict:\n",
    "    hgg_mass[i] = {}\n",
    "\n",
    "for i in mass_dict:\n",
    "    for j in mass_dict[i]:\n",
    "        if mass_dict[i][j] == None:\n",
    "            continue\n",
    "        else:\n",
    "            hgg_mass[i][j] = mass_dict[i][j]['Hgg']['Color_Ring']"
   ]
  },
  {
   "cell_type": "code",
   "execution_count": 174,
   "id": "e919c327-a5fb-417a-8808-7797d9aa6e9c",
   "metadata": {
    "scrolled": true
   },
   "outputs": [],
   "source": [
    "hgg_pt = {}\n",
    "for i in pt_dict:\n",
    "    hgg_pt[i] = {}\n",
    "\n",
    "for i in pt_dict:\n",
    "    for j in pt_dict[i]:\n",
    "        if pt_dict[i][j] == None:\n",
    "            continue\n",
    "        else:\n",
    "            hgg_pt[i][j] = pt_dict[i][j]['Hgg']['Color_Ring']"
   ]
  },
  {
   "cell_type": "code",
   "execution_count": 175,
   "id": "21862619-a6a0-4f98-8e5f-badb0a740458",
   "metadata": {},
   "outputs": [],
   "source": [
    "hgg_cr = {}\n",
    "for i in cr_dict:\n",
    "    hgg_cr[i] = {}\n",
    "\n",
    "for i in cr_dict:\n",
    "    for j in cr_dict[i]:\n",
    "        if cr_dict[i][j] == None:\n",
    "            continue\n",
    "        else:\n",
    "            hgg_cr[i][j] = cr_dict[i][j]['Hgg']['Color_Ring']"
   ]
  },
  {
   "cell_type": "code",
   "execution_count": 191,
   "id": "0d7d0dce-1b06-4604-8ae4-017e9b4da040",
   "metadata": {},
   "outputs": [],
   "source": [
    "path = \"../../../outputs/cr_investigations/multi_var_hists/cambridge02_pt_mass_argmax.pkl\"\n",
    "with open(path, 'rb') as f:\n",
    "    cring = pickle.load(f)"
   ]
  },
  {
   "cell_type": "code",
   "execution_count": 177,
   "id": "b3637bad-9688-4d09-bfe0-e84498d16c36",
   "metadata": {},
   "outputs": [],
   "source": [
    "mass_mins = {}\n",
    "for i in hgg_mass:\n",
    "    mass_mins[i] = {}\n",
    "for i in hgg_mass:\n",
    "    res = [(value, window) for window, value in hgg_mass[i].items() if value < 0.44] #and value > 0.40]\n",
    "    mass_mins[i] = res"
   ]
  },
  {
   "cell_type": "code",
   "execution_count": 178,
   "id": "42f5a221-9ed9-49c3-b68c-64983f5d1c75",
   "metadata": {},
   "outputs": [
    {
     "data": {
      "text/plain": [
       "145.0"
      ]
     },
     "execution_count": 178,
     "metadata": {},
     "output_type": "execute_result"
    }
   ],
   "source": [
    "cring[0]['Hgg']['Hgg']['Color_Ring'].project('Mass').to_numpy()[1][38]"
   ]
  },
  {
   "cell_type": "code",
   "execution_count": 179,
   "id": "221aa2bf-90f7-419c-9ad9-42826dc80532",
   "metadata": {},
   "outputs": [
    {
     "data": {
      "text/plain": [
       "(0.4312126864835944, 'mass_window_29_33')"
      ]
     },
     "execution_count": 179,
     "metadata": {},
     "output_type": "execute_result"
    }
   ],
   "source": [
    "min(mass_mins['mass_window_cambridge02_pt_mass_argmax'])"
   ]
  },
  {
   "cell_type": "code",
   "execution_count": 180,
   "id": "a084f625-8541-4b83-a59b-a794424f0c88",
   "metadata": {},
   "outputs": [],
   "source": [
    "#mass_mins['mass_window_cambridge02_pt_argmax']"
   ]
  },
  {
   "cell_type": "code",
   "execution_count": 181,
   "id": "d957fe34-b734-470c-b007-f9372038e713",
   "metadata": {},
   "outputs": [],
   "source": [
    "pt_mins = {}\n",
    "for i in hgg_pt:\n",
    "    pt_mins[i] = {}\n",
    "for i in hgg_pt:\n",
    "    res = [(value, window) for window, value in hgg_pt[i].items() if value < 0.36] #and value > 0.36]\n",
    "    pt_mins[i] = res"
   ]
  },
  {
   "cell_type": "code",
   "execution_count": 234,
   "id": "08728641-a297-4360-ba9c-e235ee954065",
   "metadata": {},
   "outputs": [
    {
     "data": {
      "text/plain": [
       "0.44999999999999996"
      ]
     },
     "execution_count": 234,
     "metadata": {},
     "output_type": "execute_result"
    }
   ],
   "source": [
    "cring[0]['Hgg']['Hgg']['Color_Ring'].project('Color_Ring').to_numpy()[1][6]"
   ]
  },
  {
   "cell_type": "code",
   "execution_count": 183,
   "id": "b8fe0c16-5182-4345-9138-948f5ba7d8b7",
   "metadata": {},
   "outputs": [
    {
     "data": {
      "text/plain": [
       "(0.3527300920549083, 'pt_window_4_6')"
      ]
     },
     "execution_count": 183,
     "metadata": {},
     "output_type": "execute_result"
    }
   ],
   "source": [
    "min(pt_mins['pt_window_cambridge02_pt_mass_argmax'])"
   ]
  },
  {
   "cell_type": "code",
   "execution_count": 184,
   "id": "a75420bc-ceb0-4ab1-900b-48647d3c2eb9",
   "metadata": {},
   "outputs": [
    {
     "data": {
      "text/plain": [
       "[(0.3599720531313006, 'pt_window_3_5'),\n",
       " (0.3527300920549083, 'pt_window_4_6'),\n",
       " (0.3552337635117866, 'pt_window_4_7'),\n",
       " (0.3576083837430388, 'pt_window_4_8'),\n",
       " (0.3598154200954407, 'pt_window_4_9'),\n",
       " (0.35387937831897426, 'pt_window_5_7'),\n",
       " (0.35674301097178157, 'pt_window_5_8'),\n",
       " (0.3598945165988238, 'pt_window_5_9'),\n",
       " (0.358803038624869, 'pt_window_6_8')]"
      ]
     },
     "execution_count": 184,
     "metadata": {},
     "output_type": "execute_result"
    }
   ],
   "source": [
    "pt_mins['pt_window_cambridge02_pt_mass_argmax']"
   ]
  },
  {
   "cell_type": "code",
   "execution_count": 225,
   "id": "c1ef2242-ed95-4d6b-bb41-657114eba126",
   "metadata": {},
   "outputs": [],
   "source": [
    "cr_mins = {}\n",
    "for i in hgg_cr:\n",
    "    cr_mins[i] = {}\n",
    "for i in hgg_cr:\n",
    "    res = [(value, window) for window, value in hgg_cr[i].items() if value < 0.43 and value > 0.39]\n",
    "    cr_mins[i] = res"
   ]
  },
  {
   "cell_type": "code",
   "execution_count": 226,
   "id": "6501d944-1706-45e1-8013-e24771c8397e",
   "metadata": {},
   "outputs": [
    {
     "data": {
      "text/plain": [
       "(0.40776038152441835, 'cr_window_8_11')"
      ]
     },
     "execution_count": 226,
     "metadata": {},
     "output_type": "execute_result"
    }
   ],
   "source": [
    "min(cr_mins['cr_window_cambridge02_pt_mass_argmax']) #43204"
   ]
  },
  {
   "cell_type": "code",
   "execution_count": 227,
   "id": "211877f4-cbdb-422a-bccb-1bf8ef43874d",
   "metadata": {},
   "outputs": [
    {
     "data": {
      "text/plain": [
       "[(0.41696889419405636, 'cr_window_7_10'),\n",
       " (0.40776038152441835, 'cr_window_8_11'),\n",
       " (0.4203628768897332, 'cr_window_9_12'),\n",
       " (0.4282521464734492, 'cr_window_10_13')]"
      ]
     },
     "execution_count": 227,
     "metadata": {},
     "output_type": "execute_result"
    }
   ],
   "source": [
    "cr_mins['cr_window_cambridge02_pt_mass_argmax']"
   ]
  },
  {
   "cell_type": "code",
   "execution_count": 218,
   "id": "2c345f76-38d4-4a89-8670-92e9450a64cb",
   "metadata": {},
   "outputs": [],
   "source": [
    "hbb_mass = {}\n",
    "for i in mass_dict:\n",
    "    hbb_mass[i] = {}\n",
    "\n",
    "for i in mass_dict:\n",
    "    for j in mass_dict[i]:\n",
    "        if mass_dict[i][j] == None:\n",
    "            continue\n",
    "        else:\n",
    "            hbb_mass[i][j] = mass_dict[i][j]['Hbb']['Color_Ring']"
   ]
  },
  {
   "cell_type": "code",
   "execution_count": 62,
   "id": "b53c9d98-a48d-4186-9012-12c66b942621",
   "metadata": {},
   "outputs": [],
   "source": [
    "hbb_pt = {}\n",
    "for i in pt_dict:\n",
    "    hbb_pt[i] = {}\n",
    "\n",
    "for i in pt_dict:\n",
    "    for j in pt_dict[i]:\n",
    "        if pt_dict[i][j] == None:\n",
    "            continue\n",
    "        else:\n",
    "            hbb_pt[i][j] = pt_dict[i][j]['Hbb']['Color_Ring']"
   ]
  },
  {
   "cell_type": "code",
   "execution_count": null,
   "id": "0b7a4f59-8b0d-44e6-bf21-006713e92772",
   "metadata": {},
   "outputs": [],
   "source": [
    "mass_mins = {}\n",
    "for i in hbb_mass:\n",
    "    mass_mins[i] = {}\n",
    "for i in hbb_mass:\n",
    "    res = [(value, window) for window, value in hbb_mass[i].items() if value < 0.34] #and value > 0.33]\n",
    "    mass_mins[i] = res"
   ]
  },
  {
   "cell_type": "code",
   "execution_count": null,
   "id": "530f767d-9d33-4099-b7e3-f37f8a01b68e",
   "metadata": {},
   "outputs": [],
   "source": [
    "cring[0]['Hbb']['Hbb']['Color_Ring'].project('Mass').to_numpy()[1][77]"
   ]
  },
  {
   "cell_type": "code",
   "execution_count": null,
   "id": "42e3f0f3-3c75-4732-9368-4d224943bf35",
   "metadata": {},
   "outputs": [],
   "source": [
    "min(mass_mins['mass_window_sdmass_akt04'])"
   ]
  },
  {
   "cell_type": "code",
   "execution_count": 63,
   "id": "59f930d1-5f72-475d-879f-449039dc5c9e",
   "metadata": {},
   "outputs": [],
   "source": [
    "pt_mins = {}\n",
    "for i in hbb_pt:\n",
    "    pt_mins[i] = {}\n",
    "for i in hbb_pt:\n",
    "    res = [(value, window) for window, value in hbb_pt[i].items() if value < 0.39] #and value > 0.33]\n",
    "    pt_mins[i] = res"
   ]
  },
  {
   "cell_type": "code",
   "execution_count": null,
   "id": "1911e976-96fc-4a77-9962-c5d0eac3244e",
   "metadata": {},
   "outputs": [],
   "source": [
    "cring[0]['Hbb']['Hbb']['Color_Ring'].project('PT').to_numpy()[1][37]"
   ]
  },
  {
   "cell_type": "code",
   "execution_count": 67,
   "id": "8dbe6e8a-8fb3-4368-bec4-7f2e3a986877",
   "metadata": {},
   "outputs": [
    {
     "data": {
      "text/plain": [
       "(0.36957500306626734, 'pt_window_3_5')"
      ]
     },
     "execution_count": 67,
     "metadata": {},
     "output_type": "execute_result"
    }
   ],
   "source": [
    "min(pt_mins['pt_window_cambridge_argmax'][:-3])"
   ]
  },
  {
   "cell_type": "code",
   "execution_count": 65,
   "id": "5c5a0556-67b5-4ad3-849a-d1236e8ba05a",
   "metadata": {},
   "outputs": [
    {
     "data": {
      "text/plain": [
       "[(0.3868722680174728, 'pt_window_2_5'),\n",
       " (0.36957500306626734, 'pt_window_3_5'),\n",
       " (0.3759027251278029, 'pt_window_3_6'),\n",
       " (0.38331091340141443, 'pt_window_3_7'),\n",
       " (0.37543941553453875, 'pt_window_4_6'),\n",
       " (0.3859441203801092, 'pt_window_4_7'),\n",
       " (0.32858364537943446, 'pt_window_22_24'),\n",
       " (0.32840214573718224, 'pt_window_22_25'),\n",
       " (0.38905143519252294, 'pt_window_23_25')]"
      ]
     },
     "execution_count": 65,
     "metadata": {},
     "output_type": "execute_result"
    }
   ],
   "source": [
    "pt_mins['pt_window_cambridge_argmax']"
   ]
  },
  {
   "cell_type": "code",
   "execution_count": null,
   "id": "04d14151-05d5-44b1-bbc6-704eed730736",
   "metadata": {},
   "outputs": [],
   "source": []
  }
 ],
 "metadata": {
  "kernelspec": {
   "display_name": "Python 3 (ipykernel)",
   "language": "python",
   "name": "python3"
  },
  "language_info": {
   "codemirror_mode": {
    "name": "ipython",
    "version": 3
   },
   "file_extension": ".py",
   "mimetype": "text/x-python",
   "name": "python",
   "nbconvert_exporter": "python",
   "pygments_lexer": "ipython3",
   "version": "3.10.13"
  }
 },
 "nbformat": 4,
 "nbformat_minor": 5
}
