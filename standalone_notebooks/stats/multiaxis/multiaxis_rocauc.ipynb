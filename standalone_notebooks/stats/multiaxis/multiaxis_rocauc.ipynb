{
 "cells": [
  {
   "cell_type": "code",
   "execution_count": 1,
   "id": "6a470c97-de68-4cc5-a001-91c5e8724fcc",
   "metadata": {},
   "outputs": [],
   "source": [
    "import numpy as np\n",
    "import matplotlib.pyplot as plt \n",
    "import pickle\n",
    "import sklearn.metrics as metrics\n",
    "import os"
   ]
  },
  {
   "cell_type": "code",
   "execution_count": 2,
   "id": "12dc6385-a11d-4154-b846-c712d0829341",
   "metadata": {},
   "outputs": [],
   "source": [
    "filelist = os.listdir(\"../../outputs/cr_investigations/multi_var_hists\")\n",
    "filelist.remove(\".ipynb_checkpoints\")"
   ]
  },
  {
   "cell_type": "code",
   "execution_count": 3,
   "id": "c5a37d0d-e6e0-4172-bde0-e6d5c8e8da0b",
   "metadata": {},
   "outputs": [],
   "source": [
    "path = \"../../outputs/cr_investigations/multi_var_hists/\" + str(filelist[-1])\n",
    "with open(path, 'rb') as f:\n",
    "    cring = pickle.load(f)"
   ]
  },
  {
   "cell_type": "code",
   "execution_count": 4,
   "id": "7135832c-48d7-498e-9336-7efb538fb0b1",
   "metadata": {},
   "outputs": [],
   "source": [
    "hgg = cring[0]['Hgg']['Hgg']\n",
    "hbb = cring[0]['Hbb']['Hbb']"
   ]
  },
  {
   "cell_type": "code",
   "execution_count": 6,
   "id": "8ba6d557-7c12-4293-b718-51a620427042",
   "metadata": {},
   "outputs": [],
   "source": [
    "#signal scale factors\n",
    "scalesHJ = ((44.99*(0.471*1000)*0.0817)/(hgg['entries']))\n",
    "scalesHbb = ((44.99*(0.274*1000)*0.581)/(hbb['entries']))"
   ]
  },
  {
   "cell_type": "code",
   "execution_count": 7,
   "id": "a734257d-5bf7-44c7-b6b4-430c6e2b793f",
   "metadata": {},
   "outputs": [],
   "source": [
    "#do the scaling \n",
    "hgg_entries = list(hgg.keys())\n",
    "for i in range(1, len(hgg_entries)):\n",
    "    hgg[hgg_entries[i]].view(flow=True)[:] *= scalesHJ\n",
    "\n",
    "hbb_entries = list(hgg.keys())\n",
    "for i in range(1, len(hbb_entries)):\n",
    "    hbb[hbb_entries[i]].view(flow=True)[:] *= scalesHbb"
   ]
  },
  {
   "cell_type": "code",
   "execution_count": 8,
   "id": "f0037fa2-8b7a-42b9-9cd9-55a53b9c4971",
   "metadata": {},
   "outputs": [],
   "source": [
    "#get the totals for each histogram\n",
    "hgg_totals_dict = {}\n",
    "for i in range(1, len(hgg_entries)):\n",
    "    if len(hgg[hgg_entries[i]].axes) == 1:\n",
    "        hgg_totals_dict[hgg_entries[i]] = hgg[hgg_entries[i]][0:len(hgg[hgg_entries[i]].view()):sum]\n",
    "    else:\n",
    "        for j in hgg[hgg_entries[i]].axes.name:\n",
    "            hgg_totals_dict[j] = hgg[hgg_entries[i]].project(j)[0:len(hgg[hgg_entries[i]].project(j).view()):sum]   \n",
    "        \n",
    "hbb_totals_dict = {}\n",
    "for i in range(1, len(hbb_entries)):\n",
    "    if len(hbb[hbb_entries[i]].axes) == 1:\n",
    "        hbb_totals_dict[hbb_entries[i]] = hbb[hbb_entries[i]][0:len(hbb[hbb_entries[i]].view()):sum]\n",
    "    else:\n",
    "        for j in hbb[hbb_entries[i]].axes.name:\n",
    "            hbb_totals_dict[j] = hbb[hbb_entries[i]].project(j)[0:len(hbb[hbb_entries[i]].project(j).view()):sum]"
   ]
  },
  {
   "cell_type": "code",
   "execution_count": 9,
   "id": "a6788581-9e67-4482-a76b-a40d7c89a898",
   "metadata": {},
   "outputs": [],
   "source": [
    "#get the true positive fractions\n",
    "hgg_truth_dict = {}\n",
    "for i in range(1, len(hgg_entries)):\n",
    "    if len(hgg[hgg_entries[i]].axes) == 1:\n",
    "        temp_list = []\n",
    "        for j in range(1, len(hgg[hgg_entries[i]].view())+1):\n",
    "            temp_list.append(hgg[hgg_entries[i]][0:j:sum].value/hgg_totals_dict[hgg_entries[i]].value)\n",
    "        hgg_truth_dict[hgg_entries[i]] = temp_list\n",
    "    else:\n",
    "        for j in hgg[hgg_entries[i]].axes.name:\n",
    "            temp_list = []\n",
    "            for k in range(1, len(hgg[hgg_entries[i]].project(j).view())+1):\n",
    "                temp_list.append(hgg[hgg_entries[i]].project(j)[0:k:sum].value/hgg_totals_dict[hgg_entries[i]].value)\n",
    "            hgg_truth_dict[j] = temp_list\n",
    "                \n",
    "hbb_truth_dict = {}\n",
    "for i in range(1, len(hbb_entries)):\n",
    "    if len(hbb[hbb_entries[i]].axes) == 1:\n",
    "        temp_list = []\n",
    "        for j in range(1, len(hbb[hbb_entries[i]].view())+1):\n",
    "            temp_list.append(hbb[hbb_entries[i]][0:j:sum].value/hbb_totals_dict[hbb_entries[i]].value)\n",
    "        hbb_truth_dict[hbb_entries[i]] = temp_list\n",
    "    else:\n",
    "        for j in hbb[hbb_entries[i]].axes.name:\n",
    "            temp_list = []\n",
    "            for k in range(1, len(hbb[hbb_entries[i]].project(j).view())+1):\n",
    "                temp_list.append(hbb[hbb_entries[i]].project(j)[0:k:sum].value/hbb_totals_dict[hbb_entries[i]].value)\n",
    "            hbb_truth_dict[j] = temp_list"
   ]
  },
  {
   "cell_type": "code",
   "execution_count": 10,
   "id": "ad31fd1b-8186-40ad-8fe2-183f8124a936",
   "metadata": {},
   "outputs": [],
   "source": [
    "#2017 integrated luminosity and QCD cross sections\n",
    "IL = 44.99\n",
    "xs_170to300 = 103700\n",
    "xs_300to470 = 6835\n",
    "xs_470to600 = 549.5\n",
    "xs_600to800 = 156.5\n",
    "xs_800to1000 = 26.22\n",
    "xs_1000to1400 = 7.475\n",
    "xs_1400to1800 = 0.6482\n",
    "xs_1800to2400 = 0.08742\n",
    "xs_2400to3200 = 0.005237\n",
    "xs_3200toInf = 0.0001353"
   ]
  },
  {
   "cell_type": "code",
   "execution_count": 11,
   "id": "12dc59dd-6217-4ba9-863a-091d92ce4158",
   "metadata": {},
   "outputs": [],
   "source": [
    "#combine the qcds into a dictionary\n",
    "qcd_dict = {}\n",
    "qcd_dict['q173'] = cring[0]['QCD_Pt_170to300_TuneCP5_13TeV_pythia8']['QCD_Pt_170to300']\n",
    "qcd_dict['q347'] = cring[0]['QCD_Pt_300to470_TuneCP5_13TeV_pythia8']['QCD_Pt_300to470']\n",
    "qcd_dict['q476'] = cring[0]['QCD_Pt_470to600_TuneCP5_13TeV_pythia8']['QCD_Pt_470to600']\n",
    "qcd_dict['q68'] = cring[0]['QCD_Pt_600to800_TuneCP5_13TeV_pythia8']['QCD_Pt_600to800']\n",
    "qcd_dict['q810'] = cring[0]['QCD_Pt_800to1000_TuneCP5_13TeV_pythia8']['QCD_Pt_800to1000']\n",
    "qcd_dict['q1014'] = cring[0]['QCD_Pt_1000to1400_TuneCP5_13TeV_pythia8']['QCD_Pt_1000to1400']\n",
    "qcd_dict['q1418'] = cring[0]['QCD_Pt_1400to1800_TuneCP5_13TeV_pythia8']['QCD_Pt_1400to1800']\n",
    "qcd_dict['q1824'] = cring[0]['QCD_Pt_1800to2400_TuneCP5_13TeV_pythia8']['QCD_Pt_1800to2400']\n",
    "qcd_dict['q2432'] = cring[0]['QCD_Pt_2400to3200_TuneCP5_13TeV_pythia8']['QCD_Pt_2400to3200']\n",
    "qcd_dict['q32inf'] = cring[0]['QCD_Pt_3200toInf_TuneCP5_13TeV_pythia8']['QCD_Pt_3200toInf']"
   ]
  },
  {
   "cell_type": "code",
   "execution_count": 12,
   "id": "374bbf6f-524f-4494-ad23-1bc9cf230900",
   "metadata": {},
   "outputs": [],
   "source": [
    "#QCD scale factors dictionary\n",
    "qcd_sf_dict = {}\n",
    "qcd_sf_dict['scales170to300'] = (((xs_170to300*1000)*IL)/(qcd_dict['q173']['entries']))\n",
    "qcd_sf_dict['scales300to470'] = (((xs_300to470*1000)*IL)/(qcd_dict['q347']['entries']))\n",
    "qcd_sf_dict['scales470to600'] = (((xs_470to600*1000)*IL)/(qcd_dict['q476']['entries']))\n",
    "qcd_sf_dict['scales600to800'] = (((xs_600to800*1000)*IL)/(qcd_dict['q68']['entries']))\n",
    "qcd_sf_dict['scales800to1000'] = (((xs_800to1000*1000)*IL)/(qcd_dict['q810']['entries']))\n",
    "qcd_sf_dict['scales1000to1400'] = (((xs_1000to1400*1000)*IL)/(qcd_dict['q1014']['entries']))\n",
    "qcd_sf_dict['scales1400to1800'] = (((xs_1400to1800*1000)*IL)/(qcd_dict['q1418']['entries']))\n",
    "qcd_sf_dict['scales1800to2400'] = (((xs_1800to2400*1000)*IL)/(qcd_dict['q1824']['entries']))\n",
    "qcd_sf_dict['scales2400to3200'] = (((xs_2400to3200*1000)*IL)/(qcd_dict['q2432']['entries']))\n",
    "qcd_sf_dict['scales3200toInf'] = (((xs_3200toInf*1000)*IL)/(qcd_dict['q32inf']['entries']))"
   ]
  },
  {
   "cell_type": "code",
   "execution_count": 13,
   "id": "30da5218-435a-4850-83cc-5c22b841485f",
   "metadata": {},
   "outputs": [],
   "source": [
    "#scale all the qcd values\n",
    "entries = list(qcd_dict['q173'].keys())\n",
    "for i in range(0, len(qcd_dict)):\n",
    "    qcd_range = list(qcd_dict.keys())[i]\n",
    "    qcd_scales = list(qcd_sf_dict.keys())[i]\n",
    "    for j in range(1, len(entries)):\n",
    "        qcd_dict[qcd_range][entries[j]].view(flow=True)[:] *= qcd_sf_dict[qcd_scales]"
   ]
  },
  {
   "cell_type": "code",
   "execution_count": 14,
   "id": "a8ea7ea7-949a-4d8f-a4f7-4050067dd916",
   "metadata": {},
   "outputs": [],
   "source": [
    "#combine the qcds into individual variable fields\n",
    "qcd_vars = {}\n",
    "for i in range(1, len(entries)):\n",
    "    temp_hist = qcd_dict['q173'][entries[i]]\n",
    "    for j in range(1, len(qcd_dict)):\n",
    "        temp_hist += qcd_dict[list(qcd_dict.keys())[j]][entries[i]]\n",
    "    qcd_vars[entries[i]] = temp_hist"
   ]
  },
  {
   "cell_type": "code",
   "execution_count": 15,
   "id": "574a8de8-f5f8-4f01-95df-1309efcb3e7d",
   "metadata": {},
   "outputs": [],
   "source": [
    "#totals for each qcd hist\n",
    "qcd_totals_dict = {}\n",
    "for i in range(1, len(entries)):\n",
    "    if len(qcd_vars[entries[i]].axes) == 1:\n",
    "        qcd_totals_dict[entries[i]] = qcd_vars[entries[i]][0:len(qcd_vars[entries[i]].view()):sum]\n",
    "    else:\n",
    "        for j in qcd_vars[entries[i]].axes.name:\n",
    "            qcd_totals_dict[j] = qcd_vars[entries[i]].project(j)[0:len(qcd_vars[entries[i]].project(j).view()):sum]"
   ]
  },
  {
   "cell_type": "code",
   "execution_count": 52,
   "id": "c0c60ac2-7bef-493c-96ab-6742a5c6dc8a",
   "metadata": {},
   "outputs": [],
   "source": [
    "#false positive fractions for each qcd variable\n",
    "qcd_false_positive_dict = {}\n",
    "for i in range(1, len(entries)):\n",
    "    if len(qcd_vars[entries[i]].axes) == 1:\n",
    "        temp_list = []\n",
    "        for j in range(1, len(qcd_vars[entries[i]].view())+1):\n",
    "            temp_list.append(qcd_vars[entries[i]][0:j:sum].value/qcd_totals_dict[entries[i]].value)\n",
    "        qcd_false_positive_dict[entries[i]] = temp_list\n",
    "    else:\n",
    "        for j in qcd_vars[entries[i]].axes.name:\n",
    "            temp_list = []\n",
    "            for k in range(1, len(qcd_vars[entries[i]].project(j).view())+1):\n",
    "                temp_list.append(qcd_vars[entries[i]].project(j)[0:k:sum].value/qcd_totals_dict[entries[i]].value)\n",
    "            qcd_false_positive_dict[j] = temp_list"
   ]
  },
  {
   "cell_type": "code",
   "execution_count": 68,
   "id": "ea11701e-4861-4bc2-8513-1ffc69a8c53e",
   "metadata": {},
   "outputs": [],
   "source": [
    "hgg_auc_dict = {}\n",
    "hgg_keys = list(hgg_truth_dict.keys())\n",
    "for i in range(0, len(hgg_keys)):\n",
    "    hgg_auc_dict[hgg_keys[i]] = metrics.auc(\n",
    "                                        hgg_truth_dict[hgg_keys[i]],\n",
    "                                        qcd_false_positive_dict[hgg_keys[i]]\n",
    "                                    )\n",
    "for i in range(0, len(hgg_keys)):\n",
    "    if hgg_auc_dict[hgg_keys[i]] >= 0.5:\n",
    "        hgg_auc_dict[hgg_keys[i]] = 1 - hgg_auc_dict[hgg_keys[i]]\n",
    "\n",
    "hbb_auc_dict = {}\n",
    "hbb_keys = list(hbb_truth_dict.keys())\n",
    "for i in range(0, len(hbb_keys)):\n",
    "    hbb_auc_dict[hbb_keys[i]] = metrics.auc(\n",
    "                                        hbb_truth_dict[hbb_keys[i]],\n",
    "                                        qcd_false_positive_dict[hbb_keys[i]]\n",
    "                                    )\n",
    "for i in range(0, len(hbb_keys)):\n",
    "    if hbb_auc_dict[hbb_keys[i]] >= 0.5:\n",
    "        hbb_auc_dict[hbb_keys[i]] = 1 - hbb_auc_dict[hbb_keys[i]]"
   ]
  },
  {
   "cell_type": "code",
   "execution_count": 60,
   "id": "726233e8-c042-4917-8739-0f40ea8cce50",
   "metadata": {},
   "outputs": [
    {
     "data": {
      "text/plain": [
       "<matplotlib.legend.Legend at 0x7ffa38830e50>"
      ]
     },
     "execution_count": 60,
     "metadata": {},
     "output_type": "execute_result"
    },
    {
     "data": {
      "image/png": "[encoded data removed]",
      "text/plain": [
       "<Figure size 640x480 with 1 Axes>"
      ]
     },
     "metadata": {},
     "output_type": "display_data"
    }
   ],
   "source": [
    "fig, ax = plt.subplots()\n",
    "\n",
    "ax.plot(hbb_truth_dict['Mass'], qcd_false_positive_dict['Mass'], linewidth=2.0, label='Hbb Color Ring')\n",
    "ax.plot(hgg_truth_dict['Mass'], qcd_false_positive_dict['Mass'], linewidth=2.0, label='Hgg Color Ring')\n",
    "\n",
    "plt.xlabel(\"True Positive\")\n",
    "plt.ylabel(\"False Positive\")\n",
    "lims = [\n",
    "    np.min([ax.get_xlim(), ax.get_ylim()]),  # min of both axes\n",
    "    np.max([ax.get_xlim(), ax.get_ylim()]),  # max of both axes\n",
    "]\n",
    "ax.plot(lims, lims, 'k-', alpha=0.75, zorder=0)\n",
    "plt.xlim(0, 1)\n",
    "plt.ylim(0, 1)\n",
    "plt.legend()"
   ]
  },
  {
   "cell_type": "code",
   "execution_count": 69,
   "id": "c68c5991-c687-4f9a-a115-4e02b39231f3",
   "metadata": {},
   "outputs": [
    {
     "data": {
      "text/plain": [
       "{'Color_Ring_test': 0.4216911460639779,\n",
       " 'Color_Ring': 0.4216911460639796,\n",
       " 'PT': 0.38186544505043885,\n",
       " 'Mass': 0.23873682432541365}"
      ]
     },
     "execution_count": 69,
     "metadata": {},
     "output_type": "execute_result"
    }
   ],
   "source": [
    "hgg_auc_dict"
   ]
  },
  {
   "cell_type": "code",
   "execution_count": 70,
   "id": "a0d3a758-9593-4db9-afbc-9a2649f1fdf4",
   "metadata": {},
   "outputs": [
    {
     "data": {
      "text/plain": [
       "{'Color_Ring_test': 0.38887283677913825,\n",
       " 'Color_Ring': 0.38887283677913953,\n",
       " 'PT': 0.32073702382146607,\n",
       " 'Mass': 0.22561571798835378}"
      ]
     },
     "execution_count": 70,
     "metadata": {},
     "output_type": "execute_result"
    }
   ],
   "source": [
    "hbb_auc_dict"
   ]
  },
  {
   "cell_type": "code",
   "execution_count": null,
   "id": "795d86c4-fbee-48d8-b555-753225a0e40c",
   "metadata": {},
   "outputs": [],
   "source": []
  }
 ],
 "metadata": {
  "kernelspec": {
   "display_name": "Python 3 (ipykernel)",
   "language": "python",
   "name": "python3"
  },
  "language_info": {
   "codemirror_mode": {
    "name": "ipython",
    "version": 3
   },
   "file_extension": ".py",
   "mimetype": "text/x-python",
   "name": "python",
   "nbconvert_exporter": "python",
   "pygments_lexer": "ipython3",
   "version": "3.9.18"
  }
 },
 "nbformat": 4,
 "nbformat_minor": 5
}
