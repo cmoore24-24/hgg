{
 "cells": [
  {
   "cell_type": "code",
   "execution_count": 1,
   "id": "877f4736-0e4c-4f27-b65c-f102e7485795",
   "metadata": {},
   "outputs": [],
   "source": [
    "import numpy as np\n",
    "import matplotlib.pyplot as plt \n",
    "import pickle"
   ]
  },
  {
   "cell_type": "code",
   "execution_count": 2,
   "id": "6d9b9180-4561-4487-9ff1-eb1a9697d4a0",
   "metadata": {},
   "outputs": [],
   "source": [
    "with open('../../outputs/cr_investigations/ca_ak1_recluster_attempt.pkl', 'rb') as f:\n",
    "    ccring = pickle.load(f)\n",
    "with open('../../outputs/cr_investigations/antikt_ak1_recluster_attempt.pkl', 'rb') as f:\n",
    "    acring = pickle.load(f)"
   ]
  },
  {
   "cell_type": "code",
   "execution_count": 3,
   "id": "76cdeec2-ae38-45d8-9eb9-285758d5d73c",
   "metadata": {},
   "outputs": [],
   "source": [
    "cscalesHJ = ((44.99*(0.471*1000)*0.0817)/(ccring[0]['Hgg']['Hgg']['entries']))\n",
    "cscalesHbb = ((44.99*(0.274*1000)*0.581)/(ccring[0]['Hbb']['Hbb']['entries']))\n",
    "\n",
    "ascalesHJ = ((44.99*(0.471*1000)*0.0817)/(acring[0]['Hgg']['Hgg']['entries']))\n",
    "ascalesHbb = ((44.99*(0.274*1000)*0.581)/(acring[0]['Hbb']['Hbb']['entries']))"
   ]
  },
  {
   "cell_type": "code",
   "execution_count": 4,
   "id": "288ad5b2-4ba3-40d4-8bc5-d71999cb9eda",
   "metadata": {},
   "outputs": [],
   "source": [
    "ccring[0]['Hbb']['Hbb']['Color_Ring'].view(flow=True)[:] *= cscalesHbb\n",
    "ccring[0]['Hgg']['Hgg']['Color_Ring'].view(flow=True)[:] *= cscalesHJ\n",
    "\n",
    "acring[0]['Hbb']['Hbb']['Color_Ring'].view(flow=True)[:] *= ascalesHbb\n",
    "acring[0]['Hgg']['Hgg']['Color_Ring'].view(flow=True)[:] *= ascalesHJ"
   ]
  },
  {
   "cell_type": "code",
   "execution_count": 5,
   "id": "b695bea0-6fcb-4ad9-9d04-db4c2d78e722",
   "metadata": {},
   "outputs": [],
   "source": [
    "ccr_hgg_total = ccring[0]['Hgg']['Hgg']['Color_Ring'][0:100:sum]\n",
    "ccr_hbb_total = ccring[0]['Hbb']['Hbb']['Color_Ring'][0:100:sum]\n",
    "\n",
    "acr_hgg_total = acring[0]['Hgg']['Hgg']['Color_Ring'][0:100:sum]\n",
    "acr_hbb_total = acring[0]['Hbb']['Hbb']['Color_Ring'][0:100:sum]"
   ]
  },
  {
   "cell_type": "code",
   "execution_count": 6,
   "id": "1537fd17-318f-4751-9875-3b3b6b1085f3",
   "metadata": {},
   "outputs": [],
   "source": [
    "chgg_cr_true_positive = []\n",
    "for i in range(1, 101):\n",
    "    chgg_cr_true_positive.append(ccring[0]['Hgg']['Hgg']['Color_Ring'][0:i:sum].value/ccr_hgg_total.value)\n",
    "#chgg_cr_true_positive.insert(0,0)\n",
    "\n",
    "chbb_cr_true_positive = []\n",
    "for i in range(1, 101):\n",
    "    chbb_cr_true_positive.append(ccring[0]['Hbb']['Hbb']['Color_Ring'][0:i:sum].value/ccr_hbb_total.value)\n",
    "#chbb_cr_true_positive.insert(0,0)\n",
    "\n",
    "ahgg_cr_true_positive = []\n",
    "for i in range(1, 101):\n",
    "    ahgg_cr_true_positive.append(acring[0]['Hgg']['Hgg']['Color_Ring'][0:i:sum].value/acr_hgg_total.value)\n",
    "#ahgg_cr_true_positive.insert(0,0)\n",
    "\n",
    "ahbb_cr_true_positive = []\n",
    "for i in range(1, 101):\n",
    "    ahbb_cr_true_positive.append(acring[0]['Hbb']['Hbb']['Color_Ring'][0:i:sum].value/acr_hbb_total.value)\n",
    "#ahbb_cr_true_positive.insert(0,0)"
   ]
  },
  {
   "cell_type": "code",
   "execution_count": 7,
   "id": "2ae52cb7-3010-4cc3-92dc-5e40591109c7",
   "metadata": {},
   "outputs": [],
   "source": [
    "#2017 integrated luminosity and QCD cross sections\n",
    "IL = 44.99\n",
    "xs_300to470 = 6833\n",
    "xs_470to600 = 549.5\n",
    "xs_600to800 = 156.5\n",
    "xs_800to1000 = 26.22\n",
    "xs_1000to1400 = 7.475\n",
    "xs_1400to1800 = 0.6482\n",
    "xs_1800to2400 = 0.08742\n",
    "xs_2400to3200 = 0.005237\n",
    "xs_3200toInf = 0.0001353"
   ]
  },
  {
   "cell_type": "code",
   "execution_count": 8,
   "id": "7217ac44-5f2a-470e-936c-b9741c0718be",
   "metadata": {},
   "outputs": [],
   "source": [
    "#QCD scale factors\n",
    "cscales300to470 = (((xs_300to470*1000)*IL)/(ccring[0]['QCD_Pt_300to470_TuneCP5_13TeV_pythia8']['QCD_Pt_300to470']['entries']))\n",
    "cscales470to600 = (((xs_470to600*1000)*IL)/(ccring[0]['QCD_Pt_470to600_TuneCP5_13TeV_pythia8']['QCD_Pt_470to600']['entries']))\n",
    "cscales600to800 = (((xs_600to800*1000)*IL)/(ccring[0]['QCD_Pt_600to800_TuneCP5_13TeV_pythia8']['QCD_Pt_600to800']['entries']))\n",
    "cscales800to1000 = (((xs_800to1000*1000)*IL)/(ccring[0]['QCD_Pt_800to1000_TuneCP5_13TeV_pythia8']['QCD_Pt_800to1000']['entries']))\n",
    "cscales1000to1400 = (((xs_1000to1400*1000)*IL)/(ccring[0]['QCD_Pt_1000to1400_TuneCP5_13TeV_pythia8']['QCD_Pt_1000to1400']['entries']))\n",
    "cscales1400to1800 = (((xs_1400to1800*1000)*IL)/(ccring[0]['QCD_Pt_1400to1800_TuneCP5_13TeV_pythia8']['QCD_Pt_1400to1800']['entries']))\n",
    "cscales1800to2400 = (((xs_1800to2400*1000)*IL)/(ccring[0]['QCD_Pt_1800to2400_TuneCP5_13TeV_pythia8']['QCD_Pt_1800to2400']['entries']))\n",
    "cscales2400to3200 = (((xs_2400to3200*1000)*IL)/(ccring[0]['QCD_Pt_2400to3200_TuneCP5_13TeV_pythia8']['QCD_Pt_2400to3200']['entries']))\n",
    "cscales3200toInf = (((xs_3200toInf*1000)*IL)/(ccring[0]['QCD_Pt_3200toInf_TuneCP5_13TeV_pythia8']['QCD_Pt_3200toInf']['entries']))\n",
    "\n",
    "ascales300to470 = (((xs_300to470*1000)*IL)/(acring[0]['QCD_Pt_300to470_TuneCP5_13TeV_pythia8']['QCD_Pt_300to470']['entries']))\n",
    "ascales470to600 = (((xs_470to600*1000)*IL)/(acring[0]['QCD_Pt_470to600_TuneCP5_13TeV_pythia8']['QCD_Pt_470to600']['entries']))\n",
    "ascales600to800 = (((xs_600to800*1000)*IL)/(acring[0]['QCD_Pt_600to800_TuneCP5_13TeV_pythia8']['QCD_Pt_600to800']['entries']))\n",
    "ascales800to1000 = (((xs_800to1000*1000)*IL)/(acring[0]['QCD_Pt_800to1000_TuneCP5_13TeV_pythia8']['QCD_Pt_800to1000']['entries']))\n",
    "ascales1000to1400 = (((xs_1000to1400*1000)*IL)/(acring[0]['QCD_Pt_1000to1400_TuneCP5_13TeV_pythia8']['QCD_Pt_1000to1400']['entries']))\n",
    "ascales1400to1800 = (((xs_1400to1800*1000)*IL)/(acring[0]['QCD_Pt_1400to1800_TuneCP5_13TeV_pythia8']['QCD_Pt_1400to1800']['entries']))\n",
    "ascales1800to2400 = (((xs_1800to2400*1000)*IL)/(acring[0]['QCD_Pt_1800to2400_TuneCP5_13TeV_pythia8']['QCD_Pt_1800to2400']['entries']))\n",
    "ascales2400to3200 = (((xs_2400to3200*1000)*IL)/(acring[0]['QCD_Pt_2400to3200_TuneCP5_13TeV_pythia8']['QCD_Pt_2400to3200']['entries']))\n",
    "ascales3200toInf = (((xs_3200toInf*1000)*IL)/(acring[0]['QCD_Pt_3200toInf_TuneCP5_13TeV_pythia8']['QCD_Pt_3200toInf']['entries']))"
   ]
  },
  {
   "cell_type": "code",
   "execution_count": 9,
   "id": "7a8b5b85-09ee-48da-8768-e862a81521dc",
   "metadata": {},
   "outputs": [],
   "source": [
    "ccring[0]['QCD_Pt_300to470_TuneCP5_13TeV_pythia8']['QCD_Pt_300to470']['Color_Ring'].view(flow=True)[:] *= cscales300to470\n",
    "ccring[0]['QCD_Pt_470to600_TuneCP5_13TeV_pythia8']['QCD_Pt_470to600']['Color_Ring'].view(flow=True)[:] *= cscales470to600\n",
    "ccring[0]['QCD_Pt_600to800_TuneCP5_13TeV_pythia8']['QCD_Pt_600to800']['Color_Ring'].view(flow=True)[:] *= cscales600to800\n",
    "ccring[0]['QCD_Pt_800to1000_TuneCP5_13TeV_pythia8']['QCD_Pt_800to1000']['Color_Ring'].view(flow=True)[:] *= cscales800to1000\n",
    "ccring[0]['QCD_Pt_1000to1400_TuneCP5_13TeV_pythia8']['QCD_Pt_1000to1400']['Color_Ring'].view(flow=True)[:] *= cscales1000to1400\n",
    "ccring[0]['QCD_Pt_1400to1800_TuneCP5_13TeV_pythia8']['QCD_Pt_1400to1800']['Color_Ring'].view(flow=True)[:] *= cscales1400to1800\n",
    "ccring[0]['QCD_Pt_1800to2400_TuneCP5_13TeV_pythia8']['QCD_Pt_1800to2400']['Color_Ring'].view(flow=True)[:] *= cscales1800to2400\n",
    "ccring[0]['QCD_Pt_2400to3200_TuneCP5_13TeV_pythia8']['QCD_Pt_2400to3200']['Color_Ring'].view(flow=True)[:] *= cscales2400to3200\n",
    "ccring[0]['QCD_Pt_3200toInf_TuneCP5_13TeV_pythia8']['QCD_Pt_3200toInf']['Color_Ring'].view(flow=True)[:] *= cscales3200toInf\n",
    "\n",
    "acring[0]['QCD_Pt_300to470_TuneCP5_13TeV_pythia8']['QCD_Pt_300to470']['Color_Ring'].view(flow=True)[:] *= ascales300to470\n",
    "acring[0]['QCD_Pt_470to600_TuneCP5_13TeV_pythia8']['QCD_Pt_470to600']['Color_Ring'].view(flow=True)[:] *= ascales470to600\n",
    "acring[0]['QCD_Pt_600to800_TuneCP5_13TeV_pythia8']['QCD_Pt_600to800']['Color_Ring'].view(flow=True)[:] *= ascales600to800\n",
    "acring[0]['QCD_Pt_800to1000_TuneCP5_13TeV_pythia8']['QCD_Pt_800to1000']['Color_Ring'].view(flow=True)[:] *= ascales800to1000\n",
    "acring[0]['QCD_Pt_1000to1400_TuneCP5_13TeV_pythia8']['QCD_Pt_1000to1400']['Color_Ring'].view(flow=True)[:] *= ascales1000to1400\n",
    "acring[0]['QCD_Pt_1400to1800_TuneCP5_13TeV_pythia8']['QCD_Pt_1400to1800']['Color_Ring'].view(flow=True)[:] *= ascales1400to1800\n",
    "acring[0]['QCD_Pt_1800to2400_TuneCP5_13TeV_pythia8']['QCD_Pt_1800to2400']['Color_Ring'].view(flow=True)[:] *= ascales1800to2400\n",
    "acring[0]['QCD_Pt_2400to3200_TuneCP5_13TeV_pythia8']['QCD_Pt_2400to3200']['Color_Ring'].view(flow=True)[:] *= ascales2400to3200\n",
    "acring[0]['QCD_Pt_3200toInf_TuneCP5_13TeV_pythia8']['QCD_Pt_3200toInf']['Color_Ring'].view(flow=True)[:] *= ascales3200toInf"
   ]
  },
  {
   "cell_type": "code",
   "execution_count": 10,
   "id": "9babf217-9590-4dba-8ee6-4b943b000bde",
   "metadata": {},
   "outputs": [],
   "source": [
    "cqcd_cr = (ccring[0]['QCD_Pt_300to470_TuneCP5_13TeV_pythia8']['QCD_Pt_300to470']['Color_Ring']+\n",
    "        ccring[0]['QCD_Pt_470to600_TuneCP5_13TeV_pythia8']['QCD_Pt_470to600']['Color_Ring']+\n",
    "        ccring[0]['QCD_Pt_600to800_TuneCP5_13TeV_pythia8']['QCD_Pt_600to800']['Color_Ring']+\n",
    "        ccring[0]['QCD_Pt_800to1000_TuneCP5_13TeV_pythia8']['QCD_Pt_800to1000']['Color_Ring']+\n",
    "        ccring[0]['QCD_Pt_1000to1400_TuneCP5_13TeV_pythia8']['QCD_Pt_1000to1400']['Color_Ring']+\n",
    "        ccring[0]['QCD_Pt_1400to1800_TuneCP5_13TeV_pythia8']['QCD_Pt_1400to1800']['Color_Ring']+\n",
    "        ccring[0]['QCD_Pt_1800to2400_TuneCP5_13TeV_pythia8']['QCD_Pt_1800to2400']['Color_Ring']+\n",
    "        ccring[0]['QCD_Pt_2400to3200_TuneCP5_13TeV_pythia8']['QCD_Pt_2400to3200']['Color_Ring']+\n",
    "        ccring[0]['QCD_Pt_3200toInf_TuneCP5_13TeV_pythia8']['QCD_Pt_3200toInf']['Color_Ring'])\n",
    "\n",
    "aqcd_cr = (acring[0]['QCD_Pt_300to470_TuneCP5_13TeV_pythia8']['QCD_Pt_300to470']['Color_Ring']+\n",
    "        acring[0]['QCD_Pt_470to600_TuneCP5_13TeV_pythia8']['QCD_Pt_470to600']['Color_Ring']+\n",
    "        acring[0]['QCD_Pt_600to800_TuneCP5_13TeV_pythia8']['QCD_Pt_600to800']['Color_Ring']+\n",
    "        acring[0]['QCD_Pt_800to1000_TuneCP5_13TeV_pythia8']['QCD_Pt_800to1000']['Color_Ring']+\n",
    "        acring[0]['QCD_Pt_1000to1400_TuneCP5_13TeV_pythia8']['QCD_Pt_1000to1400']['Color_Ring']+\n",
    "        acring[0]['QCD_Pt_1400to1800_TuneCP5_13TeV_pythia8']['QCD_Pt_1400to1800']['Color_Ring']+\n",
    "        acring[0]['QCD_Pt_1800to2400_TuneCP5_13TeV_pythia8']['QCD_Pt_1800to2400']['Color_Ring']+\n",
    "        acring[0]['QCD_Pt_2400to3200_TuneCP5_13TeV_pythia8']['QCD_Pt_2400to3200']['Color_Ring']+\n",
    "        acring[0]['QCD_Pt_3200toInf_TuneCP5_13TeV_pythia8']['QCD_Pt_3200toInf']['Color_Ring'])"
   ]
  },
  {
   "cell_type": "code",
   "execution_count": 11,
   "id": "bbb6eabf-9bf0-4752-8c7d-4ddd17498ea7",
   "metadata": {},
   "outputs": [],
   "source": [
    "ccr_bckgrd_total = cqcd_cr[0:100:sum]\n",
    "\n",
    "ccr_false_positive = []\n",
    "for i in range(1, 101):\n",
    "    ccr_false_positive.append(cqcd_cr[0:i:sum].value/ccr_bckgrd_total.value)\n",
    "#ccr_false_positive.insert(0,0)\n",
    "\n",
    "acr_bckgrd_total = aqcd_cr[0:100:sum]\n",
    "\n",
    "acr_false_positive = []\n",
    "for i in range(1, 101):\n",
    "    acr_false_positive.append(aqcd_cr[0:i:sum].value/acr_bckgrd_total.value)\n",
    "#acr_false_positive.insert(0,0)"
   ]
  },
  {
   "cell_type": "code",
   "execution_count": 14,
   "id": "9f4fa3c5-f055-4a03-9dbe-f85d249ed708",
   "metadata": {},
   "outputs": [
    {
     "data": {
      "text/plain": [
       "<matplotlib.legend.Legend at 0x7f95befe2e20>"
      ]
     },
     "execution_count": 14,
     "metadata": {},
     "output_type": "execute_result"
    },
    {
     "data": {
      "image/png": "[encoded data removed]",
      "text/plain": [
       "<Figure size 640x480 with 1 Axes>"
      ]
     },
     "metadata": {},
     "output_type": "display_data"
    }
   ],
   "source": [
    "fig, ax = plt.subplots()\n",
    "ax.plot(chbb_cr_true_positive, ccr_false_positive, linewidth=2.0, label='C/A')\n",
    "ax.plot(ahbb_cr_true_positive, acr_false_positive, linewidth=2.0, label='Akt', marker=\".\")\n",
    "plt.xlabel(\"True Positive\")\n",
    "plt.ylabel(\"False Positive\")\n",
    "lims = [\n",
    "    np.min([ax.get_xlim(), ax.get_ylim()]),  # min of both axes\n",
    "    np.max([ax.get_xlim(), ax.get_ylim()]),  # max of both axes\n",
    "]\n",
    "ax.plot(lims, lims, 'k-', alpha=0.75, zorder=0)\n",
    "plt.xlim(0, 1)\n",
    "plt.ylim(0, 1)\n",
    "plt.legend()"
   ]
  },
  {
   "cell_type": "code",
   "execution_count": 1,
   "id": "d8d8998c-942c-4417-9acb-4a958b113091",
   "metadata": {},
   "outputs": [
    {
     "ename": "NameError",
     "evalue": "name 'plt' is not defined",
     "output_type": "error",
     "traceback": [
      "\u001b[0;31m---------------------------------------------------------------------------\u001b[0m",
      "\u001b[0;31mNameError\u001b[0m                                 Traceback (most recent call last)",
      "Cell \u001b[0;32mIn[1], line 1\u001b[0m\n\u001b[0;32m----> 1\u001b[0m fig, ax \u001b[38;5;241m=\u001b[39m \u001b[43mplt\u001b[49m\u001b[38;5;241m.\u001b[39msubplots()\n\u001b[1;32m      2\u001b[0m (ccring[\u001b[38;5;241m0\u001b[39m][\u001b[38;5;124m'\u001b[39m\u001b[38;5;124mHbb\u001b[39m\u001b[38;5;124m'\u001b[39m][\u001b[38;5;124m'\u001b[39m\u001b[38;5;124mHbb\u001b[39m\u001b[38;5;124m'\u001b[39m][\u001b[38;5;124m'\u001b[39m\u001b[38;5;124mColor_Ring\u001b[39m\u001b[38;5;124m'\u001b[39m])\u001b[38;5;241m.\u001b[39mplot1d(ax\u001b[38;5;241m=\u001b[39max, label\u001b[38;5;241m=\u001b[39m\u001b[38;5;124m'\u001b[39m\u001b[38;5;124mC/A\u001b[39m\u001b[38;5;124m'\u001b[39m, density\u001b[38;5;241m=\u001b[39m\u001b[38;5;28;01mTrue\u001b[39;00m)\n\u001b[1;32m      3\u001b[0m (acring[\u001b[38;5;241m0\u001b[39m][\u001b[38;5;124m'\u001b[39m\u001b[38;5;124mHbb\u001b[39m\u001b[38;5;124m'\u001b[39m][\u001b[38;5;124m'\u001b[39m\u001b[38;5;124mHbb\u001b[39m\u001b[38;5;124m'\u001b[39m][\u001b[38;5;124m'\u001b[39m\u001b[38;5;124mColor_Ring\u001b[39m\u001b[38;5;124m'\u001b[39m])\u001b[38;5;241m.\u001b[39mplot1d(ax\u001b[38;5;241m=\u001b[39max, label\u001b[38;5;241m=\u001b[39m\u001b[38;5;124m'\u001b[39m\u001b[38;5;124mAkt\u001b[39m\u001b[38;5;124m'\u001b[39m, density\u001b[38;5;241m=\u001b[39m\u001b[38;5;28;01mTrue\u001b[39;00m)\n",
      "\u001b[0;31mNameError\u001b[0m: name 'plt' is not defined"
     ]
    }
   ],
   "source": [
    "fig, ax = plt.subplots()\n",
    "(ccring[0]['Hbb']['Hbb']['Color_Ring']).plot1d(ax=ax, label='C/A', density=True)\n",
    "(acring[0]['Hbb']['Hbb']['Color_Ring']).plot1d(ax=ax, label='Akt', density=True)\n",
    "aqcd_cr.plot1d(ax=ax, label='QCD', density=True)\n",
    "ax.set_title('Hgg Color Ring')\n",
    "plt.legend()\n",
    "plt.yscale('log')\n",
    "plt.xscale('log')\n",
    "plt.xlim(0.5,4.5)\n",
    "plt.ylim(0, .5)"
   ]
  },
  {
   "cell_type": "code",
   "execution_count": null,
   "id": "1fd7797a-0d2a-4b83-b59f-8eac2b1d7e5a",
   "metadata": {},
   "outputs": [],
   "source": []
  }
 ],
 "metadata": {
  "kernelspec": {
   "display_name": "Python 3 (ipykernel)",
   "language": "python",
   "name": "python3"
  },
  "language_info": {
   "codemirror_mode": {
    "name": "ipython",
    "version": 3
   },
   "file_extension": ".py",
   "mimetype": "text/x-python",
   "name": "python",
   "nbconvert_exporter": "python",
   "pygments_lexer": "ipython3",
   "version": "3.10.13"
  }
 },
 "nbformat": 4,
 "nbformat_minor": 5
}
