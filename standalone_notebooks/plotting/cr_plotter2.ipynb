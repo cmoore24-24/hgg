{
 "cells": [
  {
   "cell_type": "code",
   "execution_count": 1,
   "id": "1380d2cc-d3d7-4089-addb-151239b6e3ad",
   "metadata": {},
   "outputs": [],
   "source": [
    "import numpy as np\n",
    "import matplotlib.pyplot as plt \n",
    "import pickle\n",
    "import sklearn.metrics as metrics"
   ]
  },
  {
   "cell_type": "code",
   "execution_count": 2,
   "id": "a512ca39-f12d-42ed-8e01-d45849e451fe",
   "metadata": {},
   "outputs": [],
   "source": [
    "with open('../../outputs/cr_investigations/pt600_akt04_regmass_argmin.pkl', 'rb') as f:\n",
    "    cring = pickle.load(f)"
   ]
  },
  {
   "cell_type": "code",
   "execution_count": 3,
   "id": "6a360138-8af5-4775-8cbc-88e187676e59",
   "metadata": {},
   "outputs": [],
   "source": [
    "hgg = cring[0]['Hgg']['Hgg']\n",
    "hbb = cring[0]['Hbb']['Hbb']"
   ]
  },
  {
   "cell_type": "code",
   "execution_count": 4,
   "id": "437cc63c-a07c-43b7-84ce-245adb49c022",
   "metadata": {},
   "outputs": [],
   "source": [
    "#signal scale factors\n",
    "scalesHJ = ((44.99*(0.471*1000)*0.0817)/(hgg['entries']))\n",
    "scalesHbb = ((44.99*(0.274*1000)*0.581)/(hbb['entries']))"
   ]
  },
  {
   "cell_type": "code",
   "execution_count": 5,
   "id": "16aee609-e737-48ec-b630-ac5453fc7cc0",
   "metadata": {},
   "outputs": [],
   "source": [
    "#do the scaling \n",
    "hgg_entries = list(hgg.keys())\n",
    "for i in range(1, len(hgg_entries)):\n",
    "    hgg[hgg_entries[i]].view(flow=True)[:] *= scalesHJ\n",
    "\n",
    "hbb_entries = list(hgg.keys())\n",
    "for i in range(1, len(hbb_entries)):\n",
    "    hbb[hbb_entries[i]].view(flow=True)[:] *= scalesHbb"
   ]
  },
  {
   "cell_type": "code",
   "execution_count": 6,
   "id": "5fe71be0-f07b-4d8c-93b1-ffd6823e42c8",
   "metadata": {},
   "outputs": [],
   "source": [
    "#get the totals for each histogram\n",
    "hgg_totals_dict = {}\n",
    "for i in range(1, len(hgg_entries)):\n",
    "    hgg_totals_dict[hgg_entries[i]] = hgg[hgg_entries[i]][0:len(hgg[hgg_entries[i]].view()):sum]\n",
    "\n",
    "hbb_totals_dict = {}\n",
    "for i in range(1, len(hbb_entries)):\n",
    "    hbb_totals_dict[hbb_entries[i]] = hbb[hbb_entries[i]][0:len(hbb[hbb_entries[i]].view()):sum]"
   ]
  },
  {
   "cell_type": "code",
   "execution_count": 7,
   "id": "9f37e0a5-7b40-49ac-82d4-79ced7d1ec5c",
   "metadata": {},
   "outputs": [],
   "source": [
    "#get the true positive fractions\n",
    "hgg_truth_dict = {}\n",
    "for i in range(1, len(hgg_entries)):\n",
    "    temp_list = []\n",
    "    for j in range(1, len(hgg[hgg_entries[i]].view())+1):\n",
    "        temp_list.append(hgg[hgg_entries[i]][0:j:sum].value/hgg_totals_dict[hgg_entries[i]].value)\n",
    "    hgg_truth_dict[hgg_entries[i]] = temp_list\n",
    "\n",
    "hbb_truth_dict = {}\n",
    "for i in range(1, len(hbb_entries)):\n",
    "    temp_list = []\n",
    "    for j in range(1, len(hbb[hbb_entries[i]].view())+1):\n",
    "        temp_list.append(hbb[hbb_entries[i]][0:j:sum].value/hbb_totals_dict[hbb_entries[i]].value)\n",
    "    hbb_truth_dict[hbb_entries[i]] = temp_list"
   ]
  },
  {
   "cell_type": "code",
   "execution_count": 8,
   "id": "441ebc70-a7d3-4c73-980f-af33233046a5",
   "metadata": {},
   "outputs": [],
   "source": [
    "#2017 integrated luminosity and QCD cross sections\n",
    "IL = 44.99\n",
    "xs_170to300 = 103700\n",
    "xs_300to470 = 6835\n",
    "xs_470to600 = 549.5\n",
    "xs_600to800 = 156.5\n",
    "xs_800to1000 = 26.22\n",
    "xs_1000to1400 = 7.475\n",
    "xs_1400to1800 = 0.6482\n",
    "xs_1800to2400 = 0.08742\n",
    "xs_2400to3200 = 0.005237\n",
    "xs_3200toInf = 0.0001353"
   ]
  },
  {
   "cell_type": "code",
   "execution_count": 9,
   "id": "fe937b9a-52c7-4c5c-91f6-8dbde935e3d7",
   "metadata": {},
   "outputs": [],
   "source": [
    "#combine the qcds into a dictionary\n",
    "qcd_dict = {}\n",
    "qcd_dict['q173'] = cring[0]['QCD_Pt_170to300_TuneCP5_13TeV_pythia8']['QCD_Pt_170to300']\n",
    "qcd_dict['q347'] = cring[0]['QCD_Pt_300to470_TuneCP5_13TeV_pythia8']['QCD_Pt_300to470']\n",
    "qcd_dict['q476'] = cring[0]['QCD_Pt_470to600_TuneCP5_13TeV_pythia8']['QCD_Pt_470to600']\n",
    "qcd_dict['q68'] = cring[0]['QCD_Pt_600to800_TuneCP5_13TeV_pythia8']['QCD_Pt_600to800']\n",
    "qcd_dict['q810'] = cring[0]['QCD_Pt_800to1000_TuneCP5_13TeV_pythia8']['QCD_Pt_800to1000']\n",
    "qcd_dict['q1014'] = cring[0]['QCD_Pt_1000to1400_TuneCP5_13TeV_pythia8']['QCD_Pt_1000to1400']\n",
    "qcd_dict['q1418'] = cring[0]['QCD_Pt_1400to1800_TuneCP5_13TeV_pythia8']['QCD_Pt_1400to1800']\n",
    "qcd_dict['q1824'] = cring[0]['QCD_Pt_1800to2400_TuneCP5_13TeV_pythia8']['QCD_Pt_1800to2400']\n",
    "qcd_dict['q2432'] = cring[0]['QCD_Pt_2400to3200_TuneCP5_13TeV_pythia8']['QCD_Pt_2400to3200']\n",
    "qcd_dict['q32inf'] = cring[0]['QCD_Pt_3200toInf_TuneCP5_13TeV_pythia8']['QCD_Pt_3200toInf']"
   ]
  },
  {
   "cell_type": "code",
   "execution_count": 10,
   "id": "06ee986c-972c-4cfa-aaf9-51561dafbcc6",
   "metadata": {},
   "outputs": [],
   "source": [
    "#QCD scale factors dictionary\n",
    "qcd_sf_dict = {}\n",
    "qcd_sf_dict['scales170to300'] = (((xs_170to300*1000)*IL)/(qcd_dict['q173']['entries']))\n",
    "qcd_sf_dict['scales300to470'] = (((xs_300to470*1000)*IL)/(qcd_dict['q347']['entries']))\n",
    "qcd_sf_dict['scales470to600'] = (((xs_470to600*1000)*IL)/(qcd_dict['q476']['entries']))\n",
    "qcd_sf_dict['scales600to800'] = (((xs_600to800*1000)*IL)/(qcd_dict['q68']['entries']))\n",
    "qcd_sf_dict['scales800to1000'] = (((xs_800to1000*1000)*IL)/(qcd_dict['q810']['entries']))\n",
    "qcd_sf_dict['scales1000to1400'] = (((xs_1000to1400*1000)*IL)/(qcd_dict['q1014']['entries']))\n",
    "qcd_sf_dict['scales1400to1800'] = (((xs_1400to1800*1000)*IL)/(qcd_dict['q1418']['entries']))\n",
    "qcd_sf_dict['scales1800to2400'] = (((xs_1800to2400*1000)*IL)/(qcd_dict['q1824']['entries']))\n",
    "qcd_sf_dict['scales2400to3200'] = (((xs_2400to3200*1000)*IL)/(qcd_dict['q2432']['entries']))\n",
    "qcd_sf_dict['scales3200toInf'] = (((xs_3200toInf*1000)*IL)/(qcd_dict['q32inf']['entries']))"
   ]
  },
  {
   "cell_type": "code",
   "execution_count": 11,
   "id": "d0288b25-5156-4e1e-91df-3c4a2f19a358",
   "metadata": {},
   "outputs": [],
   "source": [
    "#scale all the qcd values\n",
    "entries = list(qcd_dict['q173'].keys())\n",
    "for i in range(0, len(qcd_dict)):\n",
    "    qcd_range = list(qcd_dict.keys())[i]\n",
    "    qcd_scales = list(qcd_sf_dict.keys())[i]\n",
    "    for j in range(1, len(entries)):\n",
    "        qcd_dict[qcd_range][entries[j]].view(flow=True)[:] *= qcd_sf_dict[qcd_scales]"
   ]
  },
  {
   "cell_type": "code",
   "execution_count": 12,
   "id": "3e85c8a2-4c59-4bf8-8232-2253d6adf2ea",
   "metadata": {},
   "outputs": [],
   "source": [
    "#combine the qcds into individual variable fields\n",
    "qcd_vars = {}\n",
    "for i in range(1, len(entries)):\n",
    "    temp_hist = qcd_dict['q173'][entries[i]]\n",
    "    for j in range(1, len(qcd_dict)):\n",
    "        temp_hist += qcd_dict[list(qcd_dict.keys())[j]][entries[i]]\n",
    "    qcd_vars[entries[i]] = temp_hist"
   ]
  },
  {
   "cell_type": "code",
   "execution_count": 13,
   "id": "e1063614-731c-4d18-a8b3-2eac4c7d664c",
   "metadata": {},
   "outputs": [],
   "source": [
    "#totals for each qcd hist\n",
    "qcd_totals_dict = {}\n",
    "for i in range(1, len(entries)):\n",
    "    qcd_totals_dict[entries[i]] = qcd_vars[entries[i]][0:len(qcd_vars[entries[i]].view()):sum]"
   ]
  },
  {
   "cell_type": "code",
   "execution_count": 14,
   "id": "f5596bce-9f92-4ad0-a467-7185024b9b53",
   "metadata": {},
   "outputs": [],
   "source": [
    "#false positive fractions for each qcd variable\n",
    "qcd_false_positive_dict = {}\n",
    "for i in range(1, len(entries)):\n",
    "    temp_list = []\n",
    "    for j in range(1, len(qcd_vars[entries[i]].view())+1):\n",
    "        temp_list.append(qcd_vars[entries[i]][0:j:sum].value/qcd_totals_dict[entries[i]].value)\n",
    "    qcd_false_positive_dict[entries[i]] = temp_list"
   ]
  },
  {
   "cell_type": "code",
   "execution_count": 15,
   "id": "57b3cc03-c7c6-495a-b80f-8eaab7e0c6a1",
   "metadata": {},
   "outputs": [
    {
     "data": {
      "text/plain": [
       "<matplotlib.legend.Legend at 0x7ff386cc4f40>"
      ]
     },
     "execution_count": 15,
     "metadata": {},
     "output_type": "execute_result"
    },
    {
     "data": {
      "image/png": "[encoded data removed]",
      "text/plain": [
       "<Figure size 640x480 with 1 Axes>"
      ]
     },
     "metadata": {},
     "output_type": "display_data"
    }
   ],
   "source": [
    "fig, ax = plt.subplots()\n",
    "\n",
    "ax.plot(hbb_truth_dict['Color_Ring'], qcd_false_positive_dict['Color_Ring'], linewidth=2.0, label='Hbb Color Ring')\n",
    "ax.plot(hgg_truth_dict['Color_Ring'], qcd_false_positive_dict['Color_Ring'], linewidth=2.0, label='Hgg Color Ring')\n",
    "#ax.plot(hgg_truth_dict['D2'], qcd_false_positive_dict['D2'], linewidth=2.0, label='Hgg D2')\n",
    "#ax.plot(hbb_truth_dict['D2'], qcd_false_positive_dict['D2'], linewidth=2.0, label='Hbb D2')\n",
    "\n",
    "plt.xlabel(\"True Positive\")\n",
    "plt.ylabel(\"False Positive\")\n",
    "lims = [\n",
    "    np.min([ax.get_xlim(), ax.get_ylim()]),  # min of both axes\n",
    "    np.max([ax.get_xlim(), ax.get_ylim()]),  # max of both axes\n",
    "]\n",
    "ax.plot(lims, lims, 'k-', alpha=0.75, zorder=0)\n",
    "plt.xlim(0, 1)\n",
    "plt.ylim(0, 1)\n",
    "plt.legend()"
   ]
  },
  {
   "cell_type": "code",
   "execution_count": 16,
   "id": "13d50832-7228-4e99-bd69-59064c0e0f0a",
   "metadata": {},
   "outputs": [
    {
     "data": {
      "text/plain": [
       "<matplotlib.legend.Legend at 0x7ff386ca5df0>"
      ]
     },
     "execution_count": 16,
     "metadata": {},
     "output_type": "execute_result"
    },
    {
     "data": {
      "image/png": "[encoded data removed]",
      "text/plain": [
       "<Figure size 640x480 with 1 Axes>"
      ]
     },
     "metadata": {},
     "output_type": "display_data"
    }
   ],
   "source": [
    "fig, ax = plt.subplots()\n",
    "hgg['Color_Ring'].plot1d(ax=ax, label='Hgg', density=True)\n",
    "hbb['Color_Ring'].plot1d(ax=ax, label='Hbb', density=True)\n",
    "qcd_vars['Color_Ring'].plot1d(ax=ax, label='QCD', density=True)\n",
    "ax.set_title('Color Ring')\n",
    "\n",
    "# plt.yscale('log')\n",
    "# plt.xscale('log')\n",
    "# plt.xlim(125,5000)\n",
    "\n",
    "\n",
    "plt.legend()"
   ]
  },
  {
   "cell_type": "code",
   "execution_count": 17,
   "id": "f72cf46d-8566-4086-9d52-b586eea835a8",
   "metadata": {},
   "outputs": [],
   "source": [
    "hbb_auc_dict = {}\n",
    "for i in range(1, len(hbb_entries)):\n",
    "    hbb_auc_dict[hgg_entries[i]] = metrics.auc(\n",
    "                                        hbb_truth_dict[hbb_entries[i]],\n",
    "                                        qcd_false_positive_dict[hbb_entries[i]]\n",
    "                                    )\n",
    "for i in range(1, len(hbb_entries)):\n",
    "    if hbb_auc_dict[hbb_entries[i]] >= 0.5:\n",
    "        hbb_auc_dict[hbb_entries[i]] = 1 - hbb_auc_dict[hbb_entries[i]]"
   ]
  },
  {
   "cell_type": "code",
   "execution_count": 18,
   "id": "6e9a2e87-ec61-4e06-989c-7582f9fd0088",
   "metadata": {},
   "outputs": [],
   "source": [
    "hgg_auc_dict = {}\n",
    "for i in range(1, len(hgg_entries)):\n",
    "    hgg_auc_dict[hgg_entries[i]] = metrics.auc(\n",
    "                                        hgg_truth_dict[hgg_entries[i]],\n",
    "                                        qcd_false_positive_dict[hgg_entries[i]]\n",
    "                                    )\n",
    "for i in range(1, len(hgg_entries)):\n",
    "    if hgg_auc_dict[hgg_entries[i]] >= 0.5:\n",
    "        hgg_auc_dict[hgg_entries[i]] = 1 - hgg_auc_dict[hgg_entries[i]]"
   ]
  },
  {
   "cell_type": "code",
   "execution_count": 19,
   "id": "5186d7e4-88a8-41f0-87be-d241a2523997",
   "metadata": {},
   "outputs": [
    {
     "data": {
      "text/plain": [
       "{'Color_Ring': 0.4694620756180726}"
      ]
     },
     "execution_count": 19,
     "metadata": {},
     "output_type": "execute_result"
    }
   ],
   "source": [
    "hbb_auc_dict"
   ]
  },
  {
   "cell_type": "code",
   "execution_count": 20,
   "id": "4f6e6f4e-d911-497d-868b-7df0bcfc1e9f",
   "metadata": {},
   "outputs": [
    {
     "data": {
      "text/plain": [
       "{'Color_Ring': 0.4751919824487397}"
      ]
     },
     "execution_count": 20,
     "metadata": {},
     "output_type": "execute_result"
    }
   ],
   "source": [
    "hgg_auc_dict"
   ]
  },
  {
   "cell_type": "code",
   "execution_count": 21,
   "id": "f21d397b-62ea-409b-afec-bf2ca345b642",
   "metadata": {},
   "outputs": [
    {
     "data": {
      "text/plain": [
       "WeightedSum(value=6.00559, variance=0.00434596)"
      ]
     },
     "execution_count": 21,
     "metadata": {},
     "output_type": "execute_result"
    }
   ],
   "source": [
    "hgg['Color_Ring'][::sum]"
   ]
  },
  {
   "cell_type": "code",
   "execution_count": 22,
   "id": "18755b61-96a6-4e4b-b568-57653d34cf73",
   "metadata": {},
   "outputs": [
    {
     "data": {
      "text/plain": [
       "WeightedSum(value=20.1894, variance=0.290945)"
      ]
     },
     "execution_count": 22,
     "metadata": {},
     "output_type": "execute_result"
    }
   ],
   "source": [
    "hbb['Color_Ring'][::sum]"
   ]
  },
  {
   "cell_type": "code",
   "execution_count": 23,
   "id": "9ba81ba5-2450-4073-a17e-a44044d38173",
   "metadata": {},
   "outputs": [
    {
     "data": {
      "text/plain": [
       "WeightedSum(value=3.19561e+06, variance=8.02842e+06)"
      ]
     },
     "execution_count": 23,
     "metadata": {},
     "output_type": "execute_result"
    }
   ],
   "source": [
    "qcd_vars['Color_Ring'][::sum]"
   ]
  },
  {
   "cell_type": "code",
   "execution_count": null,
   "id": "5bba299d-ba18-4028-b9bd-9e8a655e9242",
   "metadata": {},
   "outputs": [],
   "source": []
  }
 ],
 "metadata": {
  "kernelspec": {
   "display_name": "Python 3 (ipykernel)",
   "language": "python",
   "name": "python3"
  },
  "language_info": {
   "codemirror_mode": {
    "name": "ipython",
    "version": 3
   },
   "file_extension": ".py",
   "mimetype": "text/x-python",
   "name": "python",
   "nbconvert_exporter": "python",
   "pygments_lexer": "ipython3",
   "version": "3.11.9"
  }
 },
 "nbformat": 4,
 "nbformat_minor": 5
}
