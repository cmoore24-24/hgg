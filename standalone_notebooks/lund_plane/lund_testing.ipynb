{
 "cells": [
  {
   "cell_type": "code",
   "execution_count": 1,
   "id": "f3ac8454-6ae4-4573-a667-d862e48bab7d",
   "metadata": {},
   "outputs": [],
   "source": [
    "import json\n",
    "import dask\n",
    "import dask_awkward as dak\n",
    "import awkward as ak\n",
    "import numpy as np\n",
    "from coffea import dataset_tools\n",
    "from coffea.nanoevents import NanoEventsFactory, PFNanoAODSchema\n",
    "import fastjet\n",
    "import time\n",
    "import os\n",
    "import warnings\n",
    "import scipy"
   ]
  },
  {
   "cell_type": "code",
   "execution_count": 2,
   "id": "7bcf95ea-2349-4102-8ab4-e393d3195987",
   "metadata": {},
   "outputs": [],
   "source": [
    "warnings.filterwarnings(\"ignore\", module=\"coffea.*\")\n",
    "warnings.filterwarnings(\"ignore\", \"Found duplicate branch\")\n",
    "warnings.filterwarnings(\"ignore\", \"Missing cross-reference index for\")\n",
    "warnings.filterwarnings(\"ignore\", \"dcut\")\n",
    "warnings.filterwarnings(\"ignore\", \"Please ensure\")\n",
    "warnings.filterwarnings(\"ignore\", \"invalid value\")"
   ]
  },
  {
   "cell_type": "code",
   "execution_count": 9,
   "id": "9880cca2-09e5-4a75-a155-6e42d7535501",
   "metadata": {},
   "outputs": [],
   "source": [
    "path = '/cms/cephfs/data/store/user/cmoore24/samples/hgg/'\n",
    "files = os.listdir(path)"
   ]
  },
  {
   "cell_type": "code",
   "execution_count": 47,
   "id": "1c1ce5cb-f387-44cf-b694-d1629f3ea92f",
   "metadata": {},
   "outputs": [],
   "source": [
    "events = NanoEventsFactory.from_root(\n",
    "    {f'{path}{files[2]}':\"/Events\"},\n",
    "    delayed=False,\n",
    "    schemaclass=PFNanoAODSchema,\n",
    "    metadata={'dataset':'hgg'}\n",
    ").events()"
   ]
  },
  {
   "cell_type": "code",
   "execution_count": 48,
   "id": "424ae7a8-7484-4224-b838-28b76538ffc7",
   "metadata": {},
   "outputs": [],
   "source": [
    "fatjetSelect = (\n",
    "            (events.FatJet.pt >= 450)\n",
    "            & (events.FatJet.pt <= 1200)\n",
    "            & (abs(events.FatJet.eta) <= 2.4)\n",
    "            & (events.FatJet.msoftdrop >= 40)\n",
    "            & (events.FatJet.msoftdrop <= 200)\n",
    "        )"
   ]
  },
  {
   "cell_type": "code",
   "execution_count": 49,
   "id": "171c8120-c034-4956-8169-95ba78182450",
   "metadata": {},
   "outputs": [],
   "source": [
    "cut_to_fix_softdrop = (ak.num(events.FatJet.constituents.pf, axis=2) > 0)\n",
    "events = events[ak.all(cut_to_fix_softdrop, axis=1)]"
   ]
  },
  {
   "cell_type": "code",
   "execution_count": 50,
   "id": "55b9e4ac-c5c8-47e0-8d6e-d3c0f2a95b80",
   "metadata": {},
   "outputs": [],
   "source": [
    "events[\"goodjets\"] = events.FatJet[fatjetSelect]\n",
    "mask = ~ak.is_none(ak.firsts(events.goodjets))\n",
    "events = events[mask]"
   ]
  },
  {
   "cell_type": "code",
   "execution_count": 51,
   "id": "e968b8c4-5395-4e39-a03f-08bc25ab8793",
   "metadata": {},
   "outputs": [],
   "source": [
    "events['goodjets'] = events.goodjets[(ak.local_index(events.goodjets, axis=1) == 0)]"
   ]
  },
  {
   "cell_type": "code",
   "execution_count": 52,
   "id": "b82e71e3-da4a-48b2-a19d-972d786b365d",
   "metadata": {},
   "outputs": [],
   "source": [
    "jetdef = fastjet.JetDefinition(\n",
    "            fastjet.cambridge_algorithm, 1.0\n",
    "        )"
   ]
  },
  {
   "cell_type": "code",
   "execution_count": 53,
   "id": "b67ee6e5-c3c7-46b1-b429-a6332bb3ccf7",
   "metadata": {},
   "outputs": [],
   "source": [
    "pf = ak.flatten(events.goodjets.constituents.pf, axis=1)"
   ]
  },
  {
   "cell_type": "code",
   "execution_count": 55,
   "id": "963e5bc7-16b2-4c06-acd6-d77af47d7f14",
   "metadata": {},
   "outputs": [],
   "source": [
    "cluster = fastjet.ClusterSequence(pf, jetdef)"
   ]
  },
  {
   "cell_type": "code",
   "execution_count": 112,
   "id": "988c8f47-c9c1-40ec-9b6b-bdb98acbbe57",
   "metadata": {},
   "outputs": [
    {
     "data": {
      "text/html": [
       "<pre>[[{Delta: 0.546, kt: 27.5}, {...}, ..., {...}, {Delta: 0.00775, kt: 0.0191}]]\n",
       "-----------------------------------------------------------------------------\n",
       "type: 1 * var * {\n",
       "    Delta: float64,\n",
       "    kt: float64\n",
       "}</pre>"
      ],
      "text/plain": [
       "<Array [[{Delta: 0.546, kt: 27.5}, ..., {...}]] type='1 * var * {Delta: flo...'>"
      ]
     },
     "execution_count": 112,
     "metadata": {},
     "output_type": "execute_result"
    }
   ],
   "source": [
    "cluster.exclusive_jets_lund_declusterings(1)[0]"
   ]
  },
  {
   "cell_type": "code",
   "execution_count": 111,
   "id": "c6193592-2c27-46f6-8f04-cb6a40fec286",
   "metadata": {},
   "outputs": [
    {
     "data": {
      "text/plain": [
       "['_jetdef',\n",
       " '_jagedness',\n",
       " '_flag',\n",
       " '_internalrep',\n",
       " '__module__',\n",
       " '__init__',\n",
       " '_check_jaggedness',\n",
       " '_check_listoffset_index',\n",
       " '_check_record',\n",
       " '_check_indexed',\n",
       " '_check_listoffset_subtree',\n",
       " '_check_general',\n",
       " '_check_general_jaggedness',\n",
       " '_check_listoffset',\n",
       " 'jet_def',\n",
       " 'inclusive_jets',\n",
       " 'unclustered_particles',\n",
       " 'exclusive_jets',\n",
       " 'exclusive_jets_up_to',\n",
       " 'exclusive_jets_ycut',\n",
       " 'constituent_index',\n",
       " 'constituents',\n",
       " 'exclusive_jets_constituent_index',\n",
       " 'exclusive_jets_constituents',\n",
       " 'exclusive_jets_softdrop_grooming',\n",
       " 'exclusive_jets_energy_correlator',\n",
       " 'exclusive_jets_lund_declusterings',\n",
       " 'exclusive_dmerge',\n",
       " 'exclusive_dmerge_max',\n",
       " 'exclusive_ymerge_max',\n",
       " 'exclusive_ymerge',\n",
       " 'Q',\n",
       " 'Q2',\n",
       " 'exclusive_subjets',\n",
       " 'exclusive_subjets_up_to',\n",
       " 'exclusive_subdmerge',\n",
       " 'exclusive_subdmerge_max',\n",
       " 'n_exclusive_subjets',\n",
       " 'has_parents',\n",
       " 'has_child',\n",
       " 'jet_scale_for_algorithm',\n",
       " 'unique_history_order',\n",
       " 'n_particles',\n",
       " 'n_exclusive_jets',\n",
       " 'childless_pseudojets',\n",
       " 'jets',\n",
       " 'get_parents',\n",
       " 'get_child',\n",
       " '__doc__',\n",
       " 'exclusive_jets_constituents_index',\n",
       " '__dict__',\n",
       " '__weakref__',\n",
       " '__new__',\n",
       " '__repr__',\n",
       " '__hash__',\n",
       " '__str__',\n",
       " '__getattribute__',\n",
       " '__setattr__',\n",
       " '__delattr__',\n",
       " '__lt__',\n",
       " '__le__',\n",
       " '__eq__',\n",
       " '__ne__',\n",
       " '__gt__',\n",
       " '__ge__',\n",
       " '__reduce_ex__',\n",
       " '__reduce__',\n",
       " '__getstate__',\n",
       " '__subclasshook__',\n",
       " '__init_subclass__',\n",
       " '__format__',\n",
       " '__sizeof__',\n",
       " '__dir__',\n",
       " '__class__']"
      ]
     },
     "execution_count": 111,
     "metadata": {},
     "output_type": "execute_result"
    }
   ],
   "source": [
    "cluster.get_child()"
   ]
  },
  {
   "cell_type": "code",
   "execution_count": null,
   "id": "394a5b8e-7340-47fb-ad12-194f2c33def0",
   "metadata": {},
   "outputs": [],
   "source": []
  }
 ],
 "metadata": {
  "kernelspec": {
   "display_name": "Python 3 (ipykernel)",
   "language": "python",
   "name": "python3"
  },
  "language_info": {
   "codemirror_mode": {
    "name": "ipython",
    "version": 3
   },
   "file_extension": ".py",
   "mimetype": "text/x-python",
   "name": "python",
   "nbconvert_exporter": "python",
   "pygments_lexer": "ipython3",
   "version": "3.11.9"
  }
 },
 "nbformat": 4,
 "nbformat_minor": 5
}
