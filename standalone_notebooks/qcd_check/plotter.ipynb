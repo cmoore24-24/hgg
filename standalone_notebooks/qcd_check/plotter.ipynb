{
 "cells": [
  {
   "cell_type": "code",
   "execution_count": 2,
   "id": "01a295da-82e2-4f9d-90bb-682657783165",
   "metadata": {},
   "outputs": [],
   "source": [
    "import numpy as np\n",
    "import matplotlib.pyplot as plt \n",
    "import pickle"
   ]
  },
  {
   "cell_type": "code",
   "execution_count": 3,
   "id": "d16e6560-9c42-4433-a9c9-436982d1248d",
   "metadata": {},
   "outputs": [],
   "source": [
    "#2017 integrated luminosity and QCD cross sections\n",
    "IL = 44.99\n",
    "xs_300to470 = 6833\n",
    "xs_470to600 = 549.5\n",
    "xs_600to800 = 156.5\n",
    "xs_800to1000 = 26.22\n",
    "xs_1000to1400 = 7.475\n",
    "xs_1400to1800 = 0.6482\n",
    "xs_1800to2400 = 0.08742\n",
    "xs_2400to3200 = 0.005237\n",
    "xs_3200toInf = 0.0001353"
   ]
  },
  {
   "cell_type": "code",
   "execution_count": 4,
   "id": "a37d9dd9-5ad6-472b-9c61-20dc7bddc6df",
   "metadata": {},
   "outputs": [],
   "source": [
    "with open('./qcd_pt.pkl', 'rb') as f:\n",
    "    qcd = pickle.load(f)"
   ]
  },
  {
   "cell_type": "code",
   "execution_count": 5,
   "id": "195d4023-c7ee-4175-a5e7-85fd249ddd3c",
   "metadata": {},
   "outputs": [
    {
     "data": {
      "text/plain": [
       "(array([1.774155e+06, 1.169885e+06, 8.462120e+05, 6.605290e+05,\n",
       "        5.497390e+05, 4.938090e+05, 4.753830e+05, 4.985010e+05,\n",
       "        5.730930e+05, 7.374690e+05, 1.126903e+06, 2.220074e+06,\n",
       "        4.757867e+06, 7.254254e+06, 7.060247e+06, 5.405882e+06,\n",
       "        3.841457e+06, 2.618776e+06, 1.648175e+06, 8.835190e+05,\n",
       "        4.085760e+05, 1.902200e+05, 9.879500e+04, 5.559300e+04,\n",
       "        3.210900e+04, 1.888800e+04, 1.086600e+04, 6.208000e+03,\n",
       "        3.538000e+03, 2.003000e+03, 1.086000e+03, 6.370000e+02,\n",
       "        3.550000e+02, 1.970000e+02, 1.110000e+02, 6.100000e+01,\n",
       "        3.200000e+01, 2.800000e+01, 9.000000e+00, 1.100000e+01,\n",
       "        6.000000e+00, 4.000000e+00, 9.000000e+00, 5.000000e+00,\n",
       "        7.000000e+00, 5.000000e+00, 4.000000e+00, 4.000000e+00,\n",
       "        5.000000e+00, 2.000000e+00, 4.000000e+00, 3.000000e+00,\n",
       "        6.000000e+00, 4.000000e+00, 5.000000e+00, 4.000000e+00,\n",
       "        3.000000e+00, 4.000000e+00, 1.000000e+00, 5.000000e+00,\n",
       "        1.000000e+00, 1.000000e+00, 2.000000e+00, 0.000000e+00,\n",
       "        3.000000e+00, 0.000000e+00, 5.000000e+00, 3.000000e+00,\n",
       "        4.000000e+00, 2.000000e+00, 2.000000e+00, 2.000000e+00,\n",
       "        2.000000e+00, 2.000000e+00, 2.000000e+00]),\n",
       " array([ 200.,  264.,  328.,  392.,  456.,  520.,  584.,  648.,  712.,\n",
       "         776.,  840.,  904.,  968., 1032., 1096., 1160., 1224., 1288.,\n",
       "        1352., 1416., 1480., 1544., 1608., 1672., 1736., 1800., 1864.,\n",
       "        1928., 1992., 2056., 2120., 2184., 2248., 2312., 2376., 2440.,\n",
       "        2504., 2568., 2632., 2696., 2760., 2824., 2888., 2952., 3016.,\n",
       "        3080., 3144., 3208., 3272., 3336., 3400., 3464., 3528., 3592.,\n",
       "        3656., 3720., 3784., 3848., 3912., 3976., 4040., 4104., 4168.,\n",
       "        4232., 4296., 4360., 4424., 4488., 4552., 4616., 4680., 4744.,\n",
       "        4808., 4872., 4936., 5000.]))"
      ]
     },
     "execution_count": 5,
     "metadata": {},
     "output_type": "execute_result"
    }
   ],
   "source": [
    "qcd[0]['QCD_Pt_1000to1400_TuneCP5_13TeV_pythia8']['QCD_Pt_1000to1400']['Jet_Pt'].to_numpy()"
   ]
  },
  {
   "cell_type": "code",
   "execution_count": 6,
   "id": "85456a33-a034-4fd3-84a1-932f5231f34d",
   "metadata": {},
   "outputs": [],
   "source": [
    "#QCD scale factors\n",
    "scales300to470 = (((xs_300to470*1000)*IL)/(qcd[0]['QCD_Pt_300to470_TuneCP5_13TeV_pythia8']['QCD_Pt_300to470']['entries']))\n",
    "scales470to600 = (((xs_470to600*1000)*IL)/(qcd[0]['QCD_Pt_470to600_TuneCP5_13TeV_pythia8']['QCD_Pt_470to600']['entries']))\n",
    "scales600to800 = (((xs_600to800*1000)*IL)/(qcd[0]['QCD_Pt_600to800_TuneCP5_13TeV_pythia8']['QCD_Pt_600to800']['entries']))\n",
    "scales800to1000 = (((xs_800to1000*1000)*IL)/(qcd[0]['QCD_Pt_800to1000_TuneCP5_13TeV_pythia8']['QCD_Pt_800to1000']['entries']))\n",
    "scales1000to1400 = (((xs_1000to1400*1000)*IL)/(qcd[0]['QCD_Pt_1000to1400_TuneCP5_13TeV_pythia8']['QCD_Pt_1000to1400']['entries']))\n",
    "scales1400to1800 = (((xs_1400to1800*1000)*IL)/(qcd[0]['QCD_Pt_1400to1800_TuneCP5_13TeV_pythia8']['QCD_Pt_1400to1800']['entries']))\n",
    "scales1800to2400 = (((xs_1800to2400*1000)*IL)/(qcd[0]['QCD_Pt_1800to2400_TuneCP5_13TeV_pythia8']['QCD_Pt_1800to2400']['entries']))\n",
    "scales2400to3200 = (((xs_2400to3200*1000)*IL)/(qcd[0]['QCD_Pt_2400to3200_TuneCP5_13TeV_pythia8']['QCD_Pt_2400to3200']['entries']))\n",
    "scales3200toInf = (((xs_3200toInf*1000)*IL)/(qcd[0]['QCD_Pt_3200toInf_TuneCP5_13TeV_pythia8']['QCD_Pt_3200toInf']['entries']))"
   ]
  },
  {
   "cell_type": "code",
   "execution_count": 7,
   "id": "7b7d1afb-b15a-4cf0-9cf9-aab5030f5725",
   "metadata": {},
   "outputs": [],
   "source": [
    "qcd[0]['QCD_Pt_300to470_TuneCP5_13TeV_pythia8']['QCD_Pt_300to470']['Jet_Pt'].view(flow=True)[:] *= scales300to470\n",
    "qcd[0]['QCD_Pt_470to600_TuneCP5_13TeV_pythia8']['QCD_Pt_470to600']['Jet_Pt'].view(flow=True)[:] *= scales470to600\n",
    "qcd[0]['QCD_Pt_600to800_TuneCP5_13TeV_pythia8']['QCD_Pt_600to800']['Jet_Pt'].view(flow=True)[:] *= scales600to800\n",
    "qcd[0]['QCD_Pt_800to1000_TuneCP5_13TeV_pythia8']['QCD_Pt_800to1000']['Jet_Pt'].view(flow=True)[:] *= scales800to1000\n",
    "qcd[0]['QCD_Pt_1000to1400_TuneCP5_13TeV_pythia8']['QCD_Pt_1000to1400']['Jet_Pt'].view(flow=True)[:] *= scales1000to1400\n",
    "qcd[0]['QCD_Pt_1400to1800_TuneCP5_13TeV_pythia8']['QCD_Pt_1400to1800']['Jet_Pt'].view(flow=True)[:] *= scales1400to1800\n",
    "qcd[0]['QCD_Pt_1800to2400_TuneCP5_13TeV_pythia8']['QCD_Pt_1800to2400']['Jet_Pt'].view(flow=True)[:] *= scales1800to2400\n",
    "qcd[0]['QCD_Pt_2400to3200_TuneCP5_13TeV_pythia8']['QCD_Pt_2400to3200']['Jet_Pt'].view(flow=True)[:] *= scales2400to3200\n",
    "qcd[0]['QCD_Pt_3200toInf_TuneCP5_13TeV_pythia8']['QCD_Pt_3200toInf']['Jet_Pt'].view(flow=True)[:] *= scales3200toInf"
   ]
  },
  {
   "cell_type": "code",
   "execution_count": 8,
   "id": "8bfe78e0-4ba4-4e9c-b777-a1da0454fd65",
   "metadata": {},
   "outputs": [
    {
     "data": {
      "text/plain": [
       "(array([3.01627203e+04, 1.98894200e+04, 1.43865986e+04, 1.12297694e+04,\n",
       "        9.34620915e+03, 8.39533341e+03, 8.08206975e+03, 8.47510292e+03,\n",
       "        9.74325460e+03, 1.25378398e+04, 1.91586755e+04, 3.77438674e+04,\n",
       "        8.08893313e+04, 1.23330844e+05, 1.20032497e+05, 9.19063479e+04,\n",
       "        6.53092841e+04, 4.45222700e+04, 2.80209122e+04, 1.50208615e+04,\n",
       "        6.94627223e+03, 3.23396358e+03, 1.67963112e+03, 9.45146342e+02,\n",
       "        5.45890740e+02, 3.21118200e+02, 1.84734772e+02, 1.05543297e+02,\n",
       "        6.01501585e+01, 3.40533543e+01, 1.84632765e+01, 1.08297487e+01,\n",
       "        6.03541726e+00, 3.34923155e+00, 1.88713047e+00, 1.03707170e+00,\n",
       "        5.44037612e-01, 4.76032910e-01, 1.53010578e-01, 1.87012929e-01,\n",
       "        1.02007052e-01, 6.80047015e-02, 1.53010578e-01, 8.50058769e-02,\n",
       "        1.19008228e-01, 8.50058769e-02, 6.80047015e-02, 6.80047015e-02,\n",
       "        8.50058769e-02, 3.40023507e-02, 6.80047015e-02, 5.10035261e-02,\n",
       "        1.02007052e-01, 6.80047015e-02, 8.50058769e-02, 6.80047015e-02,\n",
       "        5.10035261e-02, 6.80047015e-02, 1.70011754e-02, 8.50058769e-02,\n",
       "        1.70011754e-02, 1.70011754e-02, 3.40023507e-02, 0.00000000e+00,\n",
       "        5.10035261e-02, 0.00000000e+00, 8.50058769e-02, 5.10035261e-02,\n",
       "        6.80047015e-02, 3.40023507e-02, 3.40023507e-02, 3.40023507e-02,\n",
       "        3.40023507e-02, 3.40023507e-02, 3.40023507e-02]),\n",
       " array([ 200.,  264.,  328.,  392.,  456.,  520.,  584.,  648.,  712.,\n",
       "         776.,  840.,  904.,  968., 1032., 1096., 1160., 1224., 1288.,\n",
       "        1352., 1416., 1480., 1544., 1608., 1672., 1736., 1800., 1864.,\n",
       "        1928., 1992., 2056., 2120., 2184., 2248., 2312., 2376., 2440.,\n",
       "        2504., 2568., 2632., 2696., 2760., 2824., 2888., 2952., 3016.,\n",
       "        3080., 3144., 3208., 3272., 3336., 3400., 3464., 3528., 3592.,\n",
       "        3656., 3720., 3784., 3848., 3912., 3976., 4040., 4104., 4168.,\n",
       "        4232., 4296., 4360., 4424., 4488., 4552., 4616., 4680., 4744.,\n",
       "        4808., 4872., 4936., 5000.]))"
      ]
     },
     "execution_count": 8,
     "metadata": {},
     "output_type": "execute_result"
    }
   ],
   "source": [
    "qcd[0]['QCD_Pt_1000to1400_TuneCP5_13TeV_pythia8']['QCD_Pt_1000to1400']['Jet_Pt'].to_numpy()"
   ]
  },
  {
   "cell_type": "code",
   "execution_count": 9,
   "id": "9ab8d928-d1bd-4142-a5ca-5ad4e5f31a87",
   "metadata": {},
   "outputs": [],
   "source": [
    "qcd_pt = (qcd[0]['QCD_Pt_300to470_TuneCP5_13TeV_pythia8']['QCD_Pt_300to470']['Jet_Pt']+\n",
    "        qcd[0]['QCD_Pt_470to600_TuneCP5_13TeV_pythia8']['QCD_Pt_470to600']['Jet_Pt']+\n",
    "        qcd[0]['QCD_Pt_600to800_TuneCP5_13TeV_pythia8']['QCD_Pt_600to800']['Jet_Pt']+\n",
    "        qcd[0]['QCD_Pt_800to1000_TuneCP5_13TeV_pythia8']['QCD_Pt_800to1000']['Jet_Pt']+\n",
    "        qcd[0]['QCD_Pt_1000to1400_TuneCP5_13TeV_pythia8']['QCD_Pt_1000to1400']['Jet_Pt']+\n",
    "        qcd[0]['QCD_Pt_1400to1800_TuneCP5_13TeV_pythia8']['QCD_Pt_1400to1800']['Jet_Pt']+\n",
    "        qcd[0]['QCD_Pt_1800to2400_TuneCP5_13TeV_pythia8']['QCD_Pt_1800to2400']['Jet_Pt']+\n",
    "        qcd[0]['QCD_Pt_2400to3200_TuneCP5_13TeV_pythia8']['QCD_Pt_2400to3200']['Jet_Pt']+\n",
    "        qcd[0]['QCD_Pt_3200toInf_TuneCP5_13TeV_pythia8']['QCD_Pt_3200toInf']['Jet_Pt'])"
   ]
  },
  {
   "cell_type": "code",
   "execution_count": 12,
   "id": "97d05d9c-8e9e-4e5e-8395-2f1d9c2d9c13",
   "metadata": {},
   "outputs": [
    {
     "data": {
      "text/plain": [
       "(100.0, 5000.0)"
      ]
     },
     "execution_count": 12,
     "metadata": {},
     "output_type": "execute_result"
    },
    {
     "data": {
      "image/png": "[encoded data removed]",
      "text/plain": [
       "<Figure size 640x480 with 1 Axes>"
      ]
     },
     "metadata": {},
     "output_type": "display_data"
    }
   ],
   "source": [
    "fig, ax = plt.subplots()\n",
    "qcd_pt.plot(ax=ax)\n",
    "plt.yscale('log')\n",
    "plt.xlabel(\"Jet PT\")\n",
    "plt.title(\"QCD PT\")\n",
    "plt.xlim(100,5000)"
   ]
  },
  {
   "cell_type": "code",
   "execution_count": 11,
   "id": "88bb927d-14c5-4667-a7c2-b04f262f812d",
   "metadata": {},
   "outputs": [
    {
     "data": {
      "text/html": [
       "<html>\n",
       "<div style=\"display:flex; align-items:center;\">\n",
       "<div style=\"width:290px;\">\n",
       "<svg xmlns=\"http://www.w3.org/2000/svg\" viewBox=\"-10 -105 270 120\">\n",
       "<line x1=\"-5\" y1=\"0\" x2=\"255\" y2=\"0\" style=\"fill:none;stroke-width:2;stroke:currentColor\"/>\n",
       "<text text-anchor=\"middle\" x=\"0\" y=\"15\" style=\"fill:currentColor;\">\n",
       "200\n",
       "</text>\n",
       "<text text-anchor=\"middle\" x=\"250\" y=\"15\" style=\"fill:currentColor;\">\n",
       "5e+03\n",
       "</text>\n",
       "<text text-anchor=\"middle\" x=\"125.0\" y=\"15\" style=\"fill:currentColor;\">\n",
       "Jet_Pt\n",
       "</text>\n",
       "<polyline points=\"  0,0   0,-30.1 3.33333,-30.1 3.33333,-19 6.66667,-19 6.66667,-13  10,-13  10,-9.24 13.3333,-9.24 13.3333,-6.96 16.6667,-6.96 16.6667,-5.36  20,-5.36  20,-4.36 23.3333,-4.36 23.3333,-3.57 26.6667,-3.57 26.6667,-3.02  30,-3.02  30,-2.54 33.3333,-2.54 33.3333,-2.18 36.6667,-2.18 36.6667,-1.92  40,-1.92  40,-1.76 43.3333,-1.76 43.3333,-1.57 46.6667,-1.57 46.6667,-1.46  50,-1.46  50,-1.41 53.3333,-1.41 53.3333,-1.29 56.6667,-1.29 56.6667,-1.3  60,-1.3  60,-1.21 63.3333,-1.21 63.3333,-1.16 66.6667,-1.16 66.6667,-1.22  70,-1.22  70,-1.17 73.3333,-1.17 73.3333,-1.16 76.6667,-1.16 76.6667,-1.17  80,-1.17  80,-1.28 83.3333,-1.28 83.3333,-1.28 86.6667,-1.28 86.6667,-1.36  90,-1.36  90,-1.41 93.3333,-1.41 93.3333,-1.52 96.6667,-1.52 96.6667,-1.69 100,-1.69 100,-1.73 103.333,-1.73 103.333,-1.8 106.667,-1.8 106.667,-2.03 110,-2.03 110,-2.19 113.333,-2.19 113.333,-2.47 116.667,-2.47 116.667,-2.82 120,-2.82 120,-3.3 123.333,-3.3 123.333,-3.98 126.667,-3.98 126.667,-4.91 130,-4.91 130,-6.21 133.333,-6.21 133.333,-8.11 136.667,-8.11 136.667,-11.6 140,-11.6 140,-16.4 143.333,-16.4 143.333,-23.9 146.667,-23.9 146.667,-34.9 150,-34.9 150,-51 153.333,-51 153.333,-70.2 156.667,-70.2 156.667,-88.3 160,-88.3 160,-100 163.333,-100 163.333,-99.2 166.667,-99.2 166.667,-88.1 170,-88.1 170,-73.1 173.333,-73.1 173.333,-57.3 176.667,-57.3 176.667,-44.5 180,-44.5 180,-34.8 183.333,-34.8 183.333,-24.5 186.667,-24.5 186.667,-19 190,-19 190,-14.3 193.333,-14.3 193.333,-10.5 196.667,-10.5 196.667,-7.77 200,-7.77 200,-5.9 203.333,-5.9 203.333,-4.31 206.667,-4.31 206.667,-3.11 210,-3.11 210,-2.33 213.333,-2.33 213.333,-1.7 216.667,-1.7 216.667,-1.24 220,-1.24 220,-0.922 223.333,-0.922 223.333,-0.661 226.667,-0.661 226.667,-0.465 230,-0.465 230,-0.342 233.333,-0.342 233.333,-0.273 236.667,-0.273 236.667,-0.179 240,-0.179 240,-0.142 243.333,-0.142 243.333,-0.0856 246.667,-0.0856 246.667,-0.0732 250,-0.0732 250,0\" style=\"fill:none; stroke:currentColor;\"/>\n",
       "</svg>\n",
       "</div>\n",
       "<div style=\"flex=grow:1;\">\n",
       "Regular(75, 200, 5000, name='jet_pt', label='Jet_Pt')<br/>\n",
       "<hr style=\"margin-top:.2em; margin-bottom:.2em;\"/>\n",
       "Weight() Σ=WeightedSum(value=13.6645, variance=0.000129359) <em>(WeightedSum(value=13.9394, variance=0.000131961) with flow)</em>\n",
       "\n",
       "</div>\n",
       "</div>\n",
       "</html>"
      ],
      "text/plain": [
       "Hist(Regular(75, 200, 5000, name='jet_pt', label='Jet_Pt'), storage=Weight()) # Sum: WeightedSum(value=13.6645, variance=0.000129359) (WeightedSum(value=13.9394, variance=0.000131961) with flow)"
      ]
     },
     "execution_count": 11,
     "metadata": {},
     "output_type": "execute_result"
    }
   ],
   "source": [
    " qcd[0]['QCD_Pt_3200toInf_TuneCP5_13TeV_pythia8']['QCD_Pt_3200toInf']['Jet_Pt']"
   ]
  },
  {
   "cell_type": "code",
   "execution_count": null,
   "id": "eeaba856-29c5-48d4-900f-33565870f883",
   "metadata": {},
   "outputs": [],
   "source": []
  },
  {
   "cell_type": "code",
   "execution_count": null,
   "id": "840df4b9-708a-4746-82be-96691baf84fb",
   "metadata": {},
   "outputs": [],
   "source": []
  },
  {
   "cell_type": "code",
   "execution_count": null,
   "id": "8496ddd5-bbf9-4699-a678-2f58ba6001cb",
   "metadata": {},
   "outputs": [],
   "source": []
  }
 ],
 "metadata": {
  "kernelspec": {
   "display_name": "Python 3 (ipykernel)",
   "language": "python",
   "name": "python3"
  },
  "language_info": {
   "codemirror_mode": {
    "name": "ipython",
    "version": 3
   },
   "file_extension": ".py",
   "mimetype": "text/x-python",
   "name": "python",
   "nbconvert_exporter": "python",
   "pygments_lexer": "ipython3",
   "version": "3.10.13"
  }
 },
 "nbformat": 4,
 "nbformat_minor": 5
}
