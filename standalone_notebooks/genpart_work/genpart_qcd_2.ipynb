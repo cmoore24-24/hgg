{
 "cells": [
  {
   "cell_type": "code",
   "execution_count": 1,
   "id": "bf89e559-3067-40fc-9aa9-5b5e574c1fb6",
   "metadata": {},
   "outputs": [
    {
     "name": "stderr",
     "output_type": "stream",
     "text": [
      "/tmp/ipykernel_300339/1518451047.py:8: FutureWarning: In version 2024.7.0 (target date: 2024-06-30 11:59:59-05:00), this will be an error.\n",
      "To raise these warnings as errors (and get stack traces to find out where they're called), run\n",
      "    import warnings\n",
      "    warnings.filterwarnings(\"error\", module=\"coffea.*\")\n",
      "after the first `import coffea` or use `@pytest.mark.filterwarnings(\"error:::coffea.*\")` in pytest.\n",
      "Issue: coffea.nanoevents.methods.vector will be removed and replaced with scikit-hep vector. Nanoevents schemas internal to coffea will be migrated. Otherwise please consider using that package!.\n",
      "  import coffea.nanoevents.methods.vector as vector\n"
     ]
    }
   ],
   "source": [
    "from coffea.nanoevents import NanoEventsFactory, BaseSchema, PFNanoAODSchema\n",
    "import json\n",
    "import fastjet\n",
    "import numpy as np\n",
    "import awkward as ak\n",
    "from coffea import processor\n",
    "import hist\n",
    "import coffea.nanoevents.methods.vector as vector\n",
    "import warnings\n",
    "import matplotlib.pyplot as plt\n",
    "import math"
   ]
  },
  {
   "cell_type": "code",
   "execution_count": 2,
   "id": "75fe3c47-d1b6-4eed-a789-b0cf4c973ec2",
   "metadata": {},
   "outputs": [],
   "source": [
    "warnings.filterwarnings(\"ignore\", module=\"coffea.*\")\n",
    "warnings.filterwarnings(\"ignore\", \"Found duplicate branch\")\n",
    "warnings.filterwarnings(\"ignore\", \"Missing cross-reference index for\")\n",
    "warnings.filterwarnings(\"ignore\", \"dcut\")\n",
    "warnings.filterwarnings(\"ignore\", \"Please ensure\")\n",
    "warnings.filterwarnings(\"ignore\", \"invalid value\")"
   ]
  },
  {
   "cell_type": "code",
   "execution_count": 3,
   "id": "b2e338fd-52ec-4e6d-aed4-e548acac3f5a",
   "metadata": {},
   "outputs": [],
   "source": [
    "with open('../../filelists/300to470_files.txt', 'r') as f:\n",
    "    qcd_files = [line.strip() for line in f]"
   ]
  },
  {
   "cell_type": "code",
   "execution_count": 4,
   "id": "32e10959-6d09-457e-a341-60a3b03def15",
   "metadata": {},
   "outputs": [],
   "source": [
    "qcd = NanoEventsFactory.from_root(\n",
    "    {'/project01/ndcms/cmoore24/qcd/300to470/' + qcd_files[0]: \"/Events\"},\n",
    "    delayed=False,\n",
    "    schemaclass=PFNanoAODSchema,\n",
    "    metadata={\"dataset\": \"300to470\"},\n",
    ").events()"
   ]
  },
  {
   "cell_type": "code",
   "execution_count": 367,
   "id": "74bc132b-6a58-4f78-8e3a-9c32d9f0681f",
   "metadata": {},
   "outputs": [],
   "source": [
    "#color ring\n",
    "def color_ring(fatjet, cluster_val):\n",
    "    pf = ak.flatten(fatjet.constituents.pf, axis=1)\n",
    "    jetdef = fastjet.JetDefinition(fastjet.antikt_algorithm, cluster_val)\n",
    "    cluster = fastjet.ClusterSequence(pf, jetdef)\n",
    "    #subjets = cluster.exclusive_jets(n_jets=3)\n",
    "    subjets = cluster.inclusive_jets()\n",
    "    vec = ak.zip(\n",
    "        {\n",
    "            \"x\": subjets.px,\n",
    "            \"y\": subjets.py,\n",
    "            \"z\": subjets.pz,\n",
    "            \"t\": subjets.E,\n",
    "        },\n",
    "        with_name=\"LorentzVector\",\n",
    "        behavior=vector.behavior,\n",
    "    )\n",
    "    vec = ak.pad_none(vec, 3)\n",
    "    vec[\"norm3\"] = np.sqrt(vec.dot(vec))\n",
    "    vec[\"idx\"] = ak.local_index(vec)\n",
    "    i, j, k = ak.unzip(ak.combinations(vec, 3))\n",
    "    #best = ak.argmin(abs((i + j + k).mass - 125), axis=1, keepdims=True)\n",
    "    best = ak.argmax(abs((i + j + k).mass), axis=1, keepdims=True)\n",
    "    order_check = ak.concatenate([i[best].mass, j[best].mass, k[best].mass], axis=1)\n",
    "    largest = ak.argmax(order_check, axis=1, keepdims=True)\n",
    "    smallest = ak.argmin(order_check, axis=1, keepdims=True)\n",
    "    leading_particles = ak.concatenate([i[best], j[best], k[best]], axis=1)\n",
    "    leg1 = leading_particles[largest]\n",
    "    leg3 = leading_particles[smallest]\n",
    "    leg2 = leading_particles[\n",
    "        (leading_particles.idx != ak.flatten(leg1.idx))\n",
    "        & (leading_particles.idx != ak.flatten(leg3.idx))\n",
    "    ]\n",
    "    leg1 = ak.firsts(leg1)\n",
    "    leg2 = ak.firsts(leg2)\n",
    "    leg3 = ak.firsts(leg3)\n",
    "    \n",
    "    # a12 = np.arccos(leg1.dot(leg2) / (leg1.norm3 * leg2.norm3))\n",
    "    # a13 = np.arccos(leg1.dot(leg3) / (leg1.norm3 * leg3.norm3))\n",
    "    # a23 = np.arccos(leg2.dot(leg3) / (leg2.norm3 * leg3.norm3))\n",
    "    # color_ring = (a13**2 + a23**2) / (a12**2)\n",
    "\n",
    "    a12 = leg1.delta_r2(leg2)\n",
    "    a13 = leg1.delta_r2(leg3)\n",
    "    a23 = leg2.delta_r2(leg3)\n",
    "    color_ring = (a13 + a23) / (a12)\n",
    "    \n",
    "    return ak.Array({\"cr\":color_ring, \"hp0_eta\":leg1.eta, \"hp1_eta\":leg2.eta, \"se_eta\":leg3.eta,\n",
    "                    \"hp0_phi\":leg1.phi, \"hp1_phi\":leg2.phi, \"se_phi\":leg3.phi,\n",
    "                    \"hp0_pt\":leg1.pt, \"hp1_pt\":leg2.pt, \"se_pt\":leg3.pt})"
   ]
  },
  {
   "cell_type": "code",
   "execution_count": 368,
   "id": "272579fc-e457-4ca1-8a83-d6e247a1c6e1",
   "metadata": {},
   "outputs": [],
   "source": [
    "fatjet = qcd.FatJet[(qcd.FatJet.pt == ak.max(qcd.FatJet.pt, axis=1))]"
   ]
  },
  {
   "cell_type": "code",
   "execution_count": 369,
   "id": "45c5da5d-8681-4c44-bfa9-512ad2a1b64b",
   "metadata": {},
   "outputs": [],
   "source": [
    "cr_arr = color_ring(fatjet, cluster_val=0.2) #output color ring and chosen subjets\n",
    "uf_cr = ak.unflatten(cr_arr['cr'], counts=ak.num(fatjet)) #unflatten color ring to  event structure\n",
    "uf_hp0_eta = ak.unflatten(cr_arr['hp0_eta'], counts=ak.num(fatjet))\n",
    "uf_hp0_phi = ak.unflatten(cr_arr['hp0_phi'], counts=ak.num(fatjet))\n",
    "uf_hp0_pt = ak.unflatten(cr_arr['hp0_pt'], counts=ak.num(fatjet))\n",
    "uf_hp1_eta = ak.unflatten(cr_arr['hp1_eta'], counts=ak.num(fatjet))\n",
    "uf_hp1_phi = ak.unflatten(cr_arr['hp1_phi'], counts=ak.num(fatjet))\n",
    "uf_hp1_pt = ak.unflatten(cr_arr['hp1_pt'], counts=ak.num(fatjet))\n",
    "uf_se_eta = ak.unflatten(cr_arr['se_eta'], counts=ak.num(fatjet))\n",
    "uf_se_phi = ak.unflatten(cr_arr['se_phi'], counts=ak.num(fatjet))\n",
    "uf_se_pt = ak.unflatten(cr_arr['se_pt'], counts=ak.num(fatjet))"
   ]
  },
  {
   "cell_type": "code",
   "execution_count": 370,
   "id": "28364f9a-8178-430c-9e9b-e178bd8d9428",
   "metadata": {},
   "outputs": [],
   "source": [
    "all_vals = ak.zip({'cr':uf_cr,\n",
    "        'hp0_eta':uf_hp0_eta, 'hp0_phi':uf_hp0_phi, 'hp0_pt':uf_hp0_pt,\n",
    "        'hp1_eta':uf_hp1_eta, 'hp1_phi':uf_hp1_phi, 'hp1_pt':uf_hp1_pt,\n",
    "        'se_eta':uf_se_eta, 'se_phi':uf_se_phi, 'se_pt':uf_se_pt,\n",
    "       'idx':np.linspace(0, len(fatjet)-1, len(fatjet), dtype='int'),\n",
    "                  })"
   ]
  },
  {
   "cell_type": "code",
   "execution_count": 417,
   "id": "fffd8c7e-d391-4349-ac25-29695ffc5464",
   "metadata": {},
   "outputs": [],
   "source": [
    "choose = 5\n",
    "hp0_eta = all_vals['hp0_eta'][choose][0]\n",
    "hp1_eta = all_vals['hp1_eta'][choose][0]\n",
    "se_eta = all_vals['se_eta'][choose][0]\n",
    "hp0_phi = all_vals['hp0_phi'][choose][0]\n",
    "hp1_phi = all_vals['hp1_phi'][choose][0]\n",
    "se_phi = all_vals['se_phi'][choose][0]"
   ]
  },
  {
   "cell_type": "code",
   "execution_count": 418,
   "id": "bd479f08-24f1-4828-b19b-42bf204c8fd6",
   "metadata": {},
   "outputs": [],
   "source": [
    "pfcands_eta = fatjet.constituents.pf.eta[choose][(abs(fatjet.constituents.pf.eta[choose]) < 2.5) & (abs(fatjet.constituents.pf.phi[choose]) < 1)]\n",
    "pfcands_phi = fatjet.constituents.pf.phi[choose][(abs(fatjet.constituents.pf.eta[choose]) < 2.5) & (abs(fatjet.constituents.pf.phi[choose]) < 1)]"
   ]
  },
  {
   "cell_type": "code",
   "execution_count": 431,
   "id": "c12d9b1f-437f-4c79-93fe-3060f0bf9980",
   "metadata": {},
   "outputs": [],
   "source": [
    "genpart = qcd.GenPart[qcd.GenPart.hasFlags(['fromHardProcess', 'isPrompt'])]\n",
    "# genpart_eta = genpart.eta[choose][(abs(genpart.eta[choose]) < 10) & (abs(genpart.phi[choose]) < 10)]\n",
    "# genpart_phi = genpart.phi[choose][(abs(genpart.eta[choose]) < 10) & (abs(genpart.phi[choose]) < 10)]\n",
    "genpart_eta = genpart.eta[choose][(abs(genpart.eta[choose]) < 2.5) & (abs(genpart.phi[choose]) < 3)]\n",
    "genpart_phi = genpart.phi[choose][(abs(genpart.eta[choose]) < 2.5) & (abs(genpart.phi[choose]) < 3)]"
   ]
  },
  {
   "cell_type": "code",
   "execution_count": 432,
   "id": "190d9f40-7118-4cae-9f5e-ef0719e7b27c",
   "metadata": {},
   "outputs": [],
   "source": [
    "midpoint_eta = (hp0_eta + hp1_eta)/2\n",
    "midpoint_phi = (hp0_phi + hp1_phi)/2"
   ]
  },
  {
   "cell_type": "code",
   "execution_count": 433,
   "id": "9fcec073-61d9-4b2c-9100-cb5a95f950e4",
   "metadata": {},
   "outputs": [
    {
     "data": {
      "text/plain": [
       "Text(0.5, 1.0, 'QCD Jet')"
      ]
     },
     "execution_count": 433,
     "metadata": {},
     "output_type": "execute_result"
    },
    {
     "data": {
      "image/png": "[encoded data removed]",
      "text/plain": [
       "<Figure size 640x480 with 1 Axes>"
      ]
     },
     "metadata": {},
     "output_type": "display_data"
    }
   ],
   "source": [
    "#First gen children and the selected subjets\n",
    "fig,ax = plt.subplots()\n",
    "# ax.add_patch(plt.Circle((parent.eta, parent.phi), 0.8, facecolor=\"none\", edgecolor=\"k\", label=\"AK8 Jet\"))\n",
    "# ax.add_patch(plt.Circle((midpoint_eta, midpoint_phi), radius, facecolor='none', edgecolor='r', label='Color Ring'))\n",
    "# ax.add_patch(plt.Circle((midpoint_eta, midpoint_phi), 0.8*radius, facecolor='none', edgecolor='r', linestyle='--'))\n",
    "# ax.add_patch(plt.Circle((midpoint_eta, midpoint_phi), 0.6*radius, facecolor='none', edgecolor='r', linestyle='--'))\n",
    "# ax.add_patch(plt.Circle((midpoint_eta, midpoint_phi), 0.4*radius, facecolor='none', edgecolor='r', linestyle='--'))\n",
    "# ax.add_patch(plt.Circle((midpoint_eta, midpoint_phi), 0.2*radius, facecolor='none', edgecolor='r', linestyle='--'))\n",
    "# ax.scatter(parent.children[0].eta, parent.children[0].phi, \n",
    "#            #s=higgs.children[0].pt, \n",
    "#            label=\"B Quark 0\", color='m')\n",
    "# ax.scatter(parent.children[1].eta, parent.children[1].phi, \n",
    "#            #s=higgs.children[1].pt, \n",
    "#            label=\"B Quark 1\", color='g')\n",
    "ax.add_patch(plt.Circle((midpoint_eta, midpoint_phi), 0.8, facecolor='none', edgecolor='k', label=f\"FatJet pT={fatjet[choose].pt}\"))\n",
    "ax.scatter(pfcands_eta, pfcands_phi, \n",
    "#            #s=glu_pt, \n",
    "            marker=\"o\", color='orange', label='pfcands',facecolors='none')\n",
    "ax.scatter(genpart_eta, genpart_phi, \n",
    "#            #s=glu_pt, \n",
    "            marker=\"o\", color='blue', label='genparticles',facecolors='none')\n",
    "ax.add_patch(plt.Circle((hp0_eta, hp0_phi), 0.2, facecolor='none', edgecolor='m', label='Hard Parton Jet 0'))\n",
    "ax.add_patch(plt.Circle((hp1_eta, hp1_phi), 0.2, facecolor='none', edgecolor='g', label='Hard Parton Jet 1'))\n",
    "ax.add_patch(plt.Circle((se_eta, se_phi), 0.2, facecolor='none', edgecolor='k', label='Soft Emission Jet'))\n",
    "\n",
    "lgnd = ax.legend(bbox_to_anchor=(1,1), title='Color Ring Value = ' + str(all_vals['cr'][choose]))\n",
    "plt.title('QCD Jet')"
   ]
  },
  {
   "cell_type": "code",
   "execution_count": 434,
   "id": "c5346c58-5251-41e0-9b82-4eb3e2d4c63c",
   "metadata": {},
   "outputs": [
    {
     "data": {
      "text/html": [
       "<pre>[-1.26]\n",
       "------------------\n",
       "type: 1 * ?float64</pre>"
      ],
      "text/plain": [
       "<Array [-1.26] type='1 * ?float64'>"
      ]
     },
     "execution_count": 434,
     "metadata": {},
     "output_type": "execute_result"
    }
   ],
   "source": [
    "all_vals['hp0_eta'][choose]"
   ]
  },
  {
   "cell_type": "code",
   "execution_count": null,
   "id": "665b2595-6734-4c4c-ad44-c21a05be7854",
   "metadata": {},
   "outputs": [],
   "source": []
  },
  {
   "cell_type": "code",
   "execution_count": null,
   "id": "d994585e-017f-41d2-bdf9-c31eb80aafaf",
   "metadata": {},
   "outputs": [],
   "source": []
  },
  {
   "cell_type": "code",
   "execution_count": null,
   "id": "53f4e3d3-4f6e-4a6c-b503-50e3c997e250",
   "metadata": {},
   "outputs": [],
   "source": []
  }
 ],
 "metadata": {
  "kernelspec": {
   "display_name": "Python 3 (ipykernel)",
   "language": "python",
   "name": "python3"
  },
  "language_info": {
   "codemirror_mode": {
    "name": "ipython",
    "version": 3
   },
   "file_extension": ".py",
   "mimetype": "text/x-python",
   "name": "python",
   "nbconvert_exporter": "python",
   "pygments_lexer": "ipython3",
   "version": "3.10.13"
  }
 },
 "nbformat": 4,
 "nbformat_minor": 5
}
