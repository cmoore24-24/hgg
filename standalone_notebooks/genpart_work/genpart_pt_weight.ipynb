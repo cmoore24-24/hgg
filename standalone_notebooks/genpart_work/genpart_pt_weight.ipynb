{
 "cells": [
  {
   "cell_type": "code",
   "execution_count": 1,
   "id": "02ea7206-4643-411e-b9fd-f699b20adf41",
   "metadata": {},
   "outputs": [
    {
     "name": "stderr",
     "output_type": "stream",
     "text": [
      "/tmp/ipykernel_2551031/1518451047.py:8: FutureWarning: In version 2024.7.0 (target date: 2024-06-30 11:59:59-05:00), this will be an error.\n",
      "To raise these warnings as errors (and get stack traces to find out where they're called), run\n",
      "    import warnings\n",
      "    warnings.filterwarnings(\"error\", module=\"coffea.*\")\n",
      "after the first `import coffea` or use `@pytest.mark.filterwarnings(\"error:::coffea.*\")` in pytest.\n",
      "Issue: coffea.nanoevents.methods.vector will be removed and replaced with scikit-hep vector. Nanoevents schemas internal to coffea will be migrated. Otherwise please consider using that package!.\n",
      "  import coffea.nanoevents.methods.vector as vector\n"
     ]
    }
   ],
   "source": [
    "from coffea.nanoevents import NanoEventsFactory, BaseSchema, PFNanoAODSchema\n",
    "import json\n",
    "import fastjet\n",
    "import numpy as np\n",
    "import awkward as ak\n",
    "from coffea import processor\n",
    "import hist\n",
    "import coffea.nanoevents.methods.vector as vector\n",
    "import warnings\n",
    "import matplotlib.pyplot as plt\n",
    "import math"
   ]
  },
  {
   "cell_type": "code",
   "execution_count": 2,
   "id": "22292989-cbed-4bf2-b25a-d6b3e3eadd6a",
   "metadata": {},
   "outputs": [],
   "source": [
    "warnings.filterwarnings(\"ignore\", module=\"coffea.*\")\n",
    "warnings.filterwarnings(\"ignore\", \"Found duplicate branch\")\n",
    "warnings.filterwarnings(\"ignore\", \"Missing cross-reference index for\")\n",
    "warnings.filterwarnings(\"ignore\", \"dcut\")\n",
    "warnings.filterwarnings(\"ignore\", \"Please ensure\")\n",
    "warnings.filterwarnings(\"ignore\", \"invalid value\")"
   ]
  },
  {
   "cell_type": "code",
   "execution_count": 3,
   "id": "e12647c4-7942-4267-b48d-17f68a83e4e9",
   "metadata": {},
   "outputs": [],
   "source": [
    "with open('../../filelists/hgg_files.txt', 'r') as f:\n",
    "    hgg_files = [line.strip() for line in f]"
   ]
  },
  {
   "cell_type": "code",
   "execution_count": 4,
   "id": "019a171a-868a-4272-91c8-7e17b3c784dd",
   "metadata": {},
   "outputs": [],
   "source": [
    "hgg = NanoEventsFactory.from_root(\n",
    "    {'/project01/ndcms/cmoore24/signal/hgg/' + hgg_files[0]: \"/Events\"},\n",
    "    delayed=False,\n",
    "    schemaclass=PFNanoAODSchema,\n",
    "    metadata={\"dataset\": \"Hgg\"},\n",
    ").events()"
   ]
  },
  {
   "cell_type": "code",
   "execution_count": 92,
   "id": "5869a3a1-90f3-4e33-873d-a094c7b00651",
   "metadata": {},
   "outputs": [],
   "source": [
    "cut = ((hgg.FatJet.pt>300) & \n",
    "       (abs(hgg.FatJet.phi)<1) & \n",
    "       (abs(hgg.FatJet.eta)<2.5))\n",
    "fatjet = hgg.FatJet[cut]"
   ]
  },
  {
   "cell_type": "code",
   "execution_count": 93,
   "id": "88f84430-4c10-4fe6-aee2-c12aa644a72c",
   "metadata": {},
   "outputs": [],
   "source": [
    "pf = ak.flatten(fatjet.constituents.pf, axis=1)"
   ]
  },
  {
   "cell_type": "code",
   "execution_count": 94,
   "id": "e2a2d010-aff5-4526-9ee8-9b674da11ec2",
   "metadata": {},
   "outputs": [],
   "source": [
    "jetdef = fastjet.JetDefinition(fastjet.cambridge_algorithm, 0.2)"
   ]
  },
  {
   "cell_type": "code",
   "execution_count": 95,
   "id": "f1a8cf0a-4e12-49d2-9aee-7d15a9a65d53",
   "metadata": {},
   "outputs": [],
   "source": [
    "cluster = fastjet.ClusterSequence(pf, jetdef)"
   ]
  },
  {
   "cell_type": "code",
   "execution_count": 96,
   "id": "72c72e38-9368-48c0-99e8-5f025f5debbd",
   "metadata": {},
   "outputs": [],
   "source": [
    "subjets = cluster.inclusive_jets()"
   ]
  },
  {
   "cell_type": "code",
   "execution_count": 97,
   "id": "e3994029-224f-483e-9f78-a8abbff5b46f",
   "metadata": {},
   "outputs": [],
   "source": [
    "vec = ak.zip(\n",
    "    {\n",
    "        \"x\": subjets.px,\n",
    "        \"y\": subjets.py,\n",
    "        \"z\": subjets.pz,\n",
    "        \"t\": subjets.E,\n",
    "    },\n",
    "    with_name=\"LorentzVector\",\n",
    "    behavior=vector.behavior,\n",
    ")"
   ]
  },
  {
   "cell_type": "code",
   "execution_count": 98,
   "id": "53ae4495-bbd2-4589-96ac-352e0e194629",
   "metadata": {},
   "outputs": [],
   "source": [
    "vec = ak.pad_none(vec, 3)"
   ]
  },
  {
   "cell_type": "code",
   "execution_count": 99,
   "id": "1c13cc2f-2039-4338-8c77-c60578e55ca8",
   "metadata": {},
   "outputs": [],
   "source": [
    "vec[\"idx\"] = ak.local_index(vec)"
   ]
  },
  {
   "cell_type": "code",
   "execution_count": 100,
   "id": "beaa3431-030b-4bf1-af9a-7adf8fbd2e7f",
   "metadata": {},
   "outputs": [],
   "source": [
    "i, j = ak.unzip(ak.combinations(vec, 2))"
   ]
  },
  {
   "cell_type": "code",
   "execution_count": 101,
   "id": "00c0fa15-9500-4ea2-b3c2-2cdb7ec72f0f",
   "metadata": {},
   "outputs": [],
   "source": [
    "best = ak.argmax(abs((i + j).pt), axis=1, keepdims=True)"
   ]
  },
  {
   "cell_type": "code",
   "execution_count": 102,
   "id": "f01a1032-64d9-4874-b78d-bbdd45a6b67e",
   "metadata": {},
   "outputs": [],
   "source": [
    "order_check = ak.concatenate([i[best].pt, j[best].pt], axis=1)"
   ]
  },
  {
   "cell_type": "code",
   "execution_count": 103,
   "id": "54bef7eb-9b6e-470c-b716-f383835d1c74",
   "metadata": {},
   "outputs": [],
   "source": [
    "leading = ak.argmax(order_check, axis=1, keepdims=True)"
   ]
  },
  {
   "cell_type": "code",
   "execution_count": 104,
   "id": "0a081440-cc3c-4618-875c-bb674864c210",
   "metadata": {},
   "outputs": [],
   "source": [
    "subleading = ak.argmin(order_check, axis=1, keepdims=True)"
   ]
  },
  {
   "cell_type": "code",
   "execution_count": 105,
   "id": "5ba68b5b-1969-4fb5-b48b-1aa0558bd33e",
   "metadata": {},
   "outputs": [],
   "source": [
    "leading_particles = ak.concatenate([i[best], j[best]], axis=1)"
   ]
  },
  {
   "cell_type": "code",
   "execution_count": 106,
   "id": "26530752-cbc3-4167-befd-5f75771d3b4a",
   "metadata": {},
   "outputs": [],
   "source": [
    "cut = ((vec.idx != ak.firsts(leading_particles.idx)) & \n",
    "       (vec.idx != ak.firsts(ak.sort(leading_particles.idx, ascending=False)))\n",
    "      )"
   ]
  },
  {
   "cell_type": "code",
   "execution_count": 107,
   "id": "63019748-c66e-41d6-a2c2-6e66cb003036",
   "metadata": {},
   "outputs": [],
   "source": [
    "everything_else = vec[cut]\n"
   ]
  },
  {
   "cell_type": "code",
   "execution_count": 126,
   "id": "b2998f94-e812-4536-8085-d7f81799c88f",
   "metadata": {},
   "outputs": [],
   "source": [
    "total_soft_pt = ak.sum(everything_else.pt, axis=1)"
   ]
  },
  {
   "cell_type": "code",
   "execution_count": 127,
   "id": "0c529c50-fbd8-4d51-b086-f48223a93c86",
   "metadata": {},
   "outputs": [],
   "source": [
    "everything_else['momentum_fraction'] = (everything_else.pt)/total_soft_pt"
   ]
  },
  {
   "cell_type": "code",
   "execution_count": 110,
   "id": "ff13a2d8-c4b3-4954-bd3b-4bb4454e94a9",
   "metadata": {},
   "outputs": [],
   "source": [
    "everything_else['weighted_eta'] = everything_else.eta * everything_else.momentum_fraction"
   ]
  },
  {
   "cell_type": "code",
   "execution_count": 111,
   "id": "21c28f7b-a81a-490e-9fa6-2ee76d9a0b0e",
   "metadata": {},
   "outputs": [],
   "source": [
    "everything_else['weighted_phi'] = everything_else.phi * everything_else.momentum_fraction"
   ]
  },
  {
   "cell_type": "code",
   "execution_count": 112,
   "id": "c4238bb2-8a41-4abc-8977-78e34891fda0",
   "metadata": {},
   "outputs": [],
   "source": [
    "weighted_average_eta = ak.sum(everything_else.weighted_eta, axis=1)/ak.num(everything_else, axis=1)"
   ]
  },
  {
   "cell_type": "code",
   "execution_count": 113,
   "id": "8c93e836-e763-4387-b56e-401e5ccc7e49",
   "metadata": {},
   "outputs": [],
   "source": [
    "average_eta = ak.sum(everything_else.eta, axis=1)/ak.num(everything_else, axis=1)"
   ]
  },
  {
   "cell_type": "code",
   "execution_count": 114,
   "id": "17b41f54-f5a0-4864-826e-9bf48aa5da11",
   "metadata": {},
   "outputs": [],
   "source": [
    "weighted_average_phi = ak.sum(everything_else.weighted_phi, axis=1)/ak.num(everything_else, axis=1)"
   ]
  },
  {
   "cell_type": "code",
   "execution_count": 115,
   "id": "0bea72dd-690b-4273-84b2-70e8522fe7cc",
   "metadata": {},
   "outputs": [],
   "source": [
    "average_phi = ak.sum(everything_else.phi, axis=1)/ak.num(everything_else, axis=1)"
   ]
  },
  {
   "cell_type": "code",
   "execution_count": 116,
   "id": "c53b1015-feeb-45b0-af5e-a29952ba8093",
   "metadata": {},
   "outputs": [],
   "source": [
    "leg1 = ak.firsts(leading_particles[leading])\n",
    "leg2 = ak.firsts(leading_particles[subleading])"
   ]
  },
  {
   "cell_type": "code",
   "execution_count": 117,
   "id": "e18c5cca-1256-4d48-aa13-22e2be447555",
   "metadata": {},
   "outputs": [],
   "source": [
    "a13 = ((((leg1.eta * (leg1.pt/total_pt)) - weighted_average_eta)**2) + (((leg1.phi * (leg1.pt/total_pt)) - weighted_average_phi)**2))\n",
    "a23 = ((((leg2.eta * (leg2.pt/total_pt)) - weighted_average_eta)**2) + (((leg2.phi * (leg2.pt/total_pt)) - weighted_average_phi)**2))\n",
    "a12 = ((((leg1.eta * (leg1.pt/total_pt)) - (leg2.eta * (leg2.pt/total_pt)))**2) + (((leg1.phi * (leg1.pt/total_pt)) - (leg2.phi * (leg2.pt/total_pt)))**2))\n",
    "color_ring = (a13 + a23) / (a12)"
   ]
  },
  {
   "cell_type": "code",
   "execution_count": 118,
   "id": "ac568fdd-70ec-4c82-aa90-384c36ab28fd",
   "metadata": {},
   "outputs": [
    {
     "data": {
      "text/html": [
       "<pre>[1.04,\n",
       " 2.84,\n",
       " 3.38,\n",
       " 1.03,\n",
       " 1.01,\n",
       " 2.44,\n",
       " 0.652,\n",
       " 5.86,\n",
       " 1.32,\n",
       " 2.73,\n",
       " ...,\n",
       " 1.12,\n",
       " 2.2,\n",
       " 7.6,\n",
       " 1.04,\n",
       " 1.12,\n",
       " 1.47,\n",
       " 0.866,\n",
       " 13.6,\n",
       " 11.7]\n",
       "--------------------\n",
       "type: 489 * ?float64</pre>"
      ],
      "text/plain": [
       "<Array [1.04, 2.84, 3.38, 1.03, ..., 0.866, 13.6, 11.7] type='489 * ?float64'>"
      ]
     },
     "execution_count": 118,
     "metadata": {},
     "output_type": "execute_result"
    }
   ],
   "source": [
    "color_ring"
   ]
  },
  {
   "cell_type": "code",
   "execution_count": 119,
   "id": "faad8046-dc0a-4a22-9bf8-8b5cd20132c1",
   "metadata": {},
   "outputs": [
    {
     "data": {
      "text/html": [
       "<pre>[4.32,\n",
       " 0.673,\n",
       " 10.9,\n",
       " 1.58,\n",
       " 0.392,\n",
       " 0.26,\n",
       " 20.5,\n",
       " 1.03,\n",
       " 1.3,\n",
       " 2.03]\n",
       "-------------------\n",
       "type: 10 * ?float64</pre>"
      ],
      "text/plain": [
       "<Array [4.32, 0.673, 10.9, 1.58, ..., 1.03, 1.3, 2.03] type='10 * ?float64'>"
      ]
     },
     "execution_count": 119,
     "metadata": {},
     "output_type": "execute_result"
    }
   ],
   "source": [
    "everything_else[6].pt"
   ]
  },
  {
   "cell_type": "code",
   "execution_count": 120,
   "id": "77b26a0b-7985-4cea-95d2-a0312197c295",
   "metadata": {},
   "outputs": [
    {
     "data": {
      "text/plain": [
       "238.91807443433095"
      ]
     },
     "execution_count": 120,
     "metadata": {},
     "output_type": "execute_result"
    }
   ],
   "source": [
    "leg1[6].pt"
   ]
  },
  {
   "cell_type": "code",
   "execution_count": 121,
   "id": "4d08ea02-1bed-4ef6-8145-68c6399458cc",
   "metadata": {},
   "outputs": [
    {
     "data": {
      "text/plain": [
       "90.48466409057333"
      ]
     },
     "execution_count": 121,
     "metadata": {},
     "output_type": "execute_result"
    }
   ],
   "source": [
    "leg2[6].pt"
   ]
  },
  {
   "cell_type": "code",
   "execution_count": 128,
   "id": "78c4f94f-e37f-4c53-a654-532eb861a0d6",
   "metadata": {},
   "outputs": [
    {
     "data": {
      "text/html": [
       "<pre>[[0.164, 0.0191, 0.163, 0.199, 0.0942, 0.0126, 0.0597, 0.114, 0.175],\n",
       " [0.0152, 0.531, 0.0672, 0.0117, 0.00784, 0.0608, 0.0858, 0.218, 0.00309],\n",
       " [0.301, 0.0308, 0.0385, 0.0263, 0.0582, ..., 0.173, 0.0222, 0.0577, 0.0298],\n",
       " [0.23, 0.127, 0.643],\n",
       " [0.111, 0.169, 0.133, 0.188, 0.0189, 0.38],\n",
       " [0.0736, 0.0994, 0.315, 0.0571, 0.0275, 0.0488, 0.25, 0.129],\n",
       " [0.1, 0.0157, 0.254, 0.0368, 0.00911, ..., 0.477, 0.0241, 0.0302, 0.0473],\n",
       " [0.066, 0.0075, 0.0578, 0.096, 0.046, 0.681, 0.0274, 0.0185],\n",
       " [0.00978, 0.0101, 0.00815, 0.0698, ..., 0.0196, 0.00668, 0.0351, 0.0618],\n",
       " [0.26, 0.0241, 0.419, 0.038, 0.027, ..., 0.0198, 0.0723, 0.0188, 0.0821],\n",
       " ...,\n",
       " [0.0668, 0.168, 0.00595, 0.113, 0.0054, ..., 0.0211, 0.101, 0.0807, 0.0223],\n",
       " [0.0162, 0.0157, 0.0171, 0.0276, 0.156, ..., 0.0924, 0.241, 0.0469, 0.253],\n",
       " [0.124, 0.0159, 0.0555, 0.0869, 0.0109, ..., 0.357, 0.11, 0.0109, 0.137],\n",
       " [0.103, 0.159, 0.118, 0.0589, 0.0266, 0.107, 0.0445, 0.382],\n",
       " [0.0602, 0.0297, 0.177, 0.0234, 0.0388, ..., 0.00774, 0.0398, 0.0953, 0.243],\n",
       " [0.022, 0.00656, 0.17, 0.0224, 0.0531, ..., 0.133, 0.026, 0.0295, 0.0433],\n",
       " [0.0212, 0.0226, 0.226, 0.0216, 0.0955, ..., 0.0839, 0.0202, 0.0742, 0.118],\n",
       " [0.434, 0.0592, 0.266, 0.0098, 0.0316, ..., 0.0063, 0.0297, 0.0109, 0.00808],\n",
       " [0.333, 0.238, 0.0334, 0.0744, 0.0297, ..., 0.14, 0.0186, 0.0319, 0.014]]\n",
       "------------------------------------------------------------------------------\n",
       "type: 489 * option[var * ?float64]</pre>"
      ],
      "text/plain": [
       "<Array [[0.164, 0.0191, ..., 0.175], ...] type='489 * option[var * ?float64]'>"
      ]
     },
     "execution_count": 128,
     "metadata": {},
     "output_type": "execute_result"
    }
   ],
   "source": [
    "everything_else['momentum_fraction']"
   ]
  },
  {
   "cell_type": "code",
   "execution_count": null,
   "id": "cc0b0835-103f-4706-a935-85acec78414d",
   "metadata": {},
   "outputs": [],
   "source": []
  }
 ],
 "metadata": {
  "kernelspec": {
   "display_name": "Python 3 (ipykernel)",
   "language": "python",
   "name": "python3"
  },
  "language_info": {
   "codemirror_mode": {
    "name": "ipython",
    "version": 3
   },
   "file_extension": ".py",
   "mimetype": "text/x-python",
   "name": "python",
   "nbconvert_exporter": "python",
   "pygments_lexer": "ipython3",
   "version": "3.10.13"
  }
 },
 "nbformat": 4,
 "nbformat_minor": 5
}
