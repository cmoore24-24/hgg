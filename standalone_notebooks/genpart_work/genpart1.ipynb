{
 "cells": [
  {
   "cell_type": "code",
   "execution_count": 17,
   "id": "8b534e81-4d75-4082-b57c-764a085e83e5",
   "metadata": {},
   "outputs": [],
   "source": [
    "from coffea.nanoevents import NanoEventsFactory, BaseSchema, PFNanoAODSchema\n",
    "import json\n",
    "import fastjet\n",
    "import numpy as np\n",
    "import awkward as ak\n",
    "from coffea import processor\n",
    "import hist\n",
    "import coffea.nanoevents.methods.vector as vector\n",
    "import warnings\n",
    "import matplotlib.pyplot as plt"
   ]
  },
  {
   "cell_type": "code",
   "execution_count": 2,
   "id": "806af0b7-22ed-4afa-9001-25c4421c1b9a",
   "metadata": {},
   "outputs": [],
   "source": [
    "warnings.filterwarnings(\"ignore\", \"Found duplicate branch\")\n",
    "warnings.filterwarnings(\"ignore\", \"Missing cross-reference index for\")\n",
    "warnings.filterwarnings(\"ignore\", \"dcut\")\n",
    "warnings.filterwarnings(\"ignore\", \"Please ensure\")"
   ]
  },
  {
   "cell_type": "code",
   "execution_count": 3,
   "id": "c644273d-4a87-4cf3-9e9b-55c1784569d5",
   "metadata": {},
   "outputs": [],
   "source": [
    "with open('../filelists/hgg_files.txt', 'r') as f:\n",
    "    hgg_files = [line.strip() for line in f]"
   ]
  },
  {
   "cell_type": "code",
   "execution_count": 6,
   "id": "7a792e7c-afc5-475f-b78f-cc84b917b210",
   "metadata": {},
   "outputs": [],
   "source": [
    "hgg = NanoEventsFactory.from_root(\n",
    "    {'/project01/ndcms/cmoore24/signal/hgg/' + hgg_files[0]: \"/Events\"},\n",
    "    delayed=False,\n",
    "    schemaclass=PFNanoAODSchema,\n",
    "    metadata={\"dataset\": \"Hgg\"},\n",
    ").events()"
   ]
  },
  {
   "cell_type": "code",
   "execution_count": 184,
   "id": "2e606644-0545-4fb9-83f9-6473ee2d280f",
   "metadata": {},
   "outputs": [],
   "source": [
    "a = hgg.GenPart.pdgId[0]\n",
    "e = hgg.GenPart.statusFlags[0]\n",
    "b = hgg.GenPart.genPartIdxMother[0]\n",
    "f = hgg.GenPart.pt[0]\n",
    "g = hgg.GenPart.eta[0]\n",
    "h = hgg.GenPart.phi[0]\n",
    "i = hgg.GenPart.mass[0]"
   ]
  },
  {
   "cell_type": "code",
   "execution_count": 185,
   "id": "d181c36a-3c16-4e20-b7b5-596de99c48ac",
   "metadata": {},
   "outputs": [
    {
     "data": {
      "text/html": [
       "<pre>[(21, -1, 14721, 0, 2.34e+04, 0, 0),\n",
       " (21, -1, 10625, 0, -2.29e+04, 0, 0),\n",
       " (25, 0, 4481, 283, 0.896, -0.984, 125),\n",
       " (2, 0, 4481, 246, 0.775, 2.23, 0),\n",
       " (-2, 0, 22913, 41.5, -0.104, 1.72, 0),\n",
       " (25, 2, 257, 283, 0.896, -1.02, 125),\n",
       " (25, 5, 257, 282, 0.889, -1.02, 125),\n",
       " (25, 6, 257, 283, 0.887, -1.02, 125),\n",
       " (25, 7, 257, 282, 0.883, -1.02, 125),\n",
       " (25, 8, 257, 282, 0.885, -1.02, 125),\n",
       " ...,\n",
       " (21, 12, 8449, 0.246, -0.973, -0.957, 0),\n",
       " (21, 12, 8449, 4.11, 0.686, -1.16, 0),\n",
       " (21, 12, 8449, 2.8, 0.551, -1.51, 0),\n",
       " (-1, 14, 8193, 15.7, 1.19, -1.03, 0),\n",
       " (111, 14, 28675, 40, 1.05, -0.963, 0),\n",
       " (21, 4, 8193, 19.6, -0.742, 1.36, 0),\n",
       " (3, 3, 8193, 51, 1, 2.43, 0),\n",
       " (11, 32, 12352, 19.6, 1.05, -0.963, 0),\n",
       " (-11, 32, 12352, 14.3, 1.05, -0.963, 0)]\n",
       "---------------------------------------------------------------------------------------------------------------------------------------------------------------------------------------------------------------------------------------------------------------------------------------------------------------------------------------------------------------------------------------------------------------------------------------------------------------------------------------------\n",
       "type: 37 * (\n",
       "    int32[parameters={&quot;__doc__&quot;: &quot;PDG id&quot;}],\n",
       "    int32[parameters={&quot;__doc__&quot;: &quot;index of the mother particle&quot;}],\n",
       "    int32[parameters={&quot;__doc__&quot;: &quot;gen status flags stored bitwise, bits are: 0 : isPrompt, 1 : isDecayedLeptonHadron, 2 : isTauDecayProduct, 3 : isPromptTauDecayProduct, 4 : isDirectTauDecayProduct, 5 : isDirectPromptTauDecayProduct, 6 : isDirectHadronDecayProduct, 7 : isHardProcess, 8 : fromHardProcess, 9 : isHardProcessTauDecayProduct, 10 : isDirectHardProcessTauDecayProduct, 11 : fromHardProcessBeforeFSR, 12 : isFirstCopy, 13 : isLastCopy, 14 : isLastCopyBeforeFSR, &quot;}],\n",
       "    float32[parameters={&quot;__doc__&quot;: &quot;pt&quot;}],\n",
       "    float32[parameters={&quot;__doc__&quot;: &quot;eta&quot;}],\n",
       "    float32[parameters={&quot;__doc__&quot;: &quot;phi&quot;}],\n",
       "    float32[parameters={&quot;__doc__&quot;: &quot;Mass stored for all particles with the exception of quarks (except top), leptons/neutrinos, photons with mass &lt; 1 GeV, gluons, pi0(111), pi+(211), D0(421), and D+(411). For these particles, you can lookup the value from PDG.&quot;}]\n",
       ")</pre>"
      ],
      "text/plain": [
       "<Array [(21, -1, 14721, 0, 2.34e+04, ...), ...] type='37 * (int32[parameter...'>"
      ]
     },
     "execution_count": 185,
     "metadata": {},
     "output_type": "execute_result"
    }
   ],
   "source": [
    "c = ak.zip([a,b,e,f,g,h,i])\n",
    "c"
   ]
  },
  {
   "cell_type": "code",
   "execution_count": 208,
   "id": "d5ba5f37-c1bf-4ea8-abef-66cabc7281ea",
   "metadata": {},
   "outputs": [
    {
     "data": {
      "text/html": [
       "<pre>[14,\n",
       " 19,\n",
       " 20,\n",
       " 21,\n",
       " 22,\n",
       " 23,\n",
       " 24,\n",
       " 25,\n",
       " 26,\n",
       " 27,\n",
       " 28,\n",
       " 29,\n",
       " 30]\n",
       "----------------\n",
       "type: 13 * int64</pre>"
      ],
      "text/plain": [
       "<Array [14, 19, 20, 21, 22, 23, ..., 25, 26, 27, 28, 29, 30] type='13 * int64'>"
      ]
     },
     "execution_count": 208,
     "metadata": {},
     "output_type": "execute_result"
    }
   ],
   "source": [
    "ak.where((b==12)|(b==13))[0]"
   ]
  },
  {
   "cell_type": "code",
   "execution_count": 221,
   "id": "97ebc7d7-96e1-4451-8fbc-e0d04d91a057",
   "metadata": {},
   "outputs": [
    {
     "data": {
      "text/html": [
       "<pre>---------------\n",
       "type: 0 * int64</pre>"
      ],
      "text/plain": [
       "<Array [] type='0 * int64'>"
      ]
     },
     "execution_count": 221,
     "metadata": {},
     "output_type": "execute_result"
    }
   ],
   "source": [
    "ak.where((b==))[0]"
   ]
  },
  {
   "cell_type": "code",
   "execution_count": 222,
   "id": "02141be8-7fe9-4f45-a491-0869c5f448db",
   "metadata": {},
   "outputs": [
    {
     "data": {
      "text/html": [
       "<pre>(21,\n",
       " 13,\n",
       " 8449,\n",
       " 7.56,\n",
       " 1.01,\n",
       " -1,\n",
       " 0)\n",
       "---------------------------------------------------------------------------------------------------------------------------------------------------------------------------------------------------------------------------------------------------------------------------------------------------------------------------------------------------------------------------------------------------------------------------------------------------------------------------------------------\n",
       "type: (\n",
       "    int32[parameters={&quot;__doc__&quot;: &quot;PDG id&quot;}],\n",
       "    int32[parameters={&quot;__doc__&quot;: &quot;index of the mother particle&quot;}],\n",
       "    int32[parameters={&quot;__doc__&quot;: &quot;gen status flags stored bitwise, bits are: 0 : isPrompt, 1 : isDecayedLeptonHadron, 2 : isTauDecayProduct, 3 : isPromptTauDecayProduct, 4 : isDirectTauDecayProduct, 5 : isDirectPromptTauDecayProduct, 6 : isDirectHadronDecayProduct, 7 : isHardProcess, 8 : fromHardProcess, 9 : isHardProcessTauDecayProduct, 10 : isDirectHardProcessTauDecayProduct, 11 : fromHardProcessBeforeFSR, 12 : isFirstCopy, 13 : isLastCopy, 14 : isLastCopyBeforeFSR, &quot;}],\n",
       "    float32[parameters={&quot;__doc__&quot;: &quot;pt&quot;}],\n",
       "    float32[parameters={&quot;__doc__&quot;: &quot;eta&quot;}],\n",
       "    float32[parameters={&quot;__doc__&quot;: &quot;phi&quot;}],\n",
       "    float32[parameters={&quot;__doc__&quot;: &quot;Mass stored for all particles with the exception of quarks (except top), leptons/neutrinos, photons with mass &lt; 1 GeV, gluons, pi0(111), pi+(211), D0(421), and D+(411). For these particles, you can lookup the value from PDG.&quot;}]\n",
       ")</pre>"
      ],
      "text/plain": [
       "<Record (21, 13, 8449, 7.56, 1.01, -1, 0) type='(int32[parameters={\"__doc__...'>"
      ]
     },
     "execution_count": 222,
     "metadata": {},
     "output_type": "execute_result"
    }
   ],
   "source": [
    "c[19]"
   ]
  },
  {
   "cell_type": "code",
   "execution_count": 173,
   "id": "37c874c3-f8ff-4b1d-9631-df29e3ee0c8c",
   "metadata": {},
   "outputs": [
    {
     "data": {
      "text/html": [
       "<pre>[25,\n",
       " 26,\n",
       " 27,\n",
       " 28]\n",
       "---------------\n",
       "type: 4 * int64</pre>"
      ],
      "text/plain": [
       "<Array [25, 26, 27, 28] type='4 * int64'>"
      ]
     },
     "execution_count": 173,
     "metadata": {},
     "output_type": "execute_result"
    }
   ],
   "source": [
    "d = ak.where((b == 11))\n",
    "d[0]"
   ]
  },
  {
   "cell_type": "code",
   "execution_count": 177,
   "id": "88c221cd-0c33-4a37-9ace-4dd40ec2d0fe",
   "metadata": {},
   "outputs": [
    {
     "data": {
      "text/html": [
       "<pre>[(111, 19, 28738, 10.7, 1.04, -0.375, 0),\n",
       " (-421, 18, 12354, 0.311, -1.97, 1.47, 0),\n",
       " (111, 19, 28738, 23.4, 0.738, -1.3, 0)]\n",
       "---------------------------------------------------------------------------------------------------------------------------------------------------------------------------------------------------------------------------------------------------------------------------------------------------------------------------------------------------------------------------------------------------------------------------------------------------------------------------------------------\n",
       "type: 3 * (\n",
       "    int32[parameters={&quot;__doc__&quot;: &quot;PDG id&quot;}],\n",
       "    int32[parameters={&quot;__doc__&quot;: &quot;index of the mother particle&quot;}],\n",
       "    int32[parameters={&quot;__doc__&quot;: &quot;gen status flags stored bitwise, bits are: 0 : isPrompt, 1 : isDecayedLeptonHadron, 2 : isTauDecayProduct, 3 : isPromptTauDecayProduct, 4 : isDirectTauDecayProduct, 5 : isDirectPromptTauDecayProduct, 6 : isDirectHadronDecayProduct, 7 : isHardProcess, 8 : fromHardProcess, 9 : isHardProcessTauDecayProduct, 10 : isDirectHardProcessTauDecayProduct, 11 : fromHardProcessBeforeFSR, 12 : isFirstCopy, 13 : isLastCopy, 14 : isLastCopyBeforeFSR, &quot;}],\n",
       "    float32[parameters={&quot;__doc__&quot;: &quot;pt&quot;}],\n",
       "    float32[parameters={&quot;__doc__&quot;: &quot;eta&quot;}],\n",
       "    float32[parameters={&quot;__doc__&quot;: &quot;phi&quot;}],\n",
       "    float32[parameters={&quot;__doc__&quot;: &quot;Mass stored for all particles with the exception of quarks (except top), leptons/neutrinos, photons with mass &lt; 1 GeV, gluons, pi0(111), pi+(211), D0(421), and D+(411). For these particles, you can lookup the value from PDG.&quot;}]\n",
       ")</pre>"
      ],
      "text/plain": [
       "<Array [(111, 19, 28738, 10.7, 1.04, ...), ...] type='3 * (int32[parameters...'>"
      ]
     },
     "execution_count": 177,
     "metadata": {},
     "output_type": "execute_result"
    }
   ],
   "source": [
    "c[34:37]"
   ]
  },
  {
   "cell_type": "code",
   "execution_count": 179,
   "id": "dff91ace-4db6-4eb1-ba47-0ec5fd342c91",
   "metadata": {},
   "outputs": [
    {
     "data": {
      "text/plain": [
       "['eta',\n",
       " 'mass',\n",
       " 'phi',\n",
       " 'pt',\n",
       " 'genPartIdxMother',\n",
       " 'pdgId',\n",
       " 'status',\n",
       " 'statusFlags',\n",
       " 'genPartIdxMotherG',\n",
       " 'distinctParentIdxG',\n",
       " 'childrenIdxG',\n",
       " 'distinctChildrenIdxG',\n",
       " 'distinctChildrenDeepIdxG']"
      ]
     },
     "execution_count": 179,
     "metadata": {},
     "output_type": "execute_result"
    }
   ],
   "source": [
    "hgg.GenPart.fields"
   ]
  },
  {
   "cell_type": "code",
   "execution_count": 156,
   "id": "cf543b99-e886-46eb-be52-d4aa1cd026fb",
   "metadata": {},
   "outputs": [
    {
     "data": {
      "text/html": [
       "<pre>[(21, 10, 8449),\n",
       " (21, 10, 8449),\n",
       " (21, 10, 8449),\n",
       " (21, 10, 8449),\n",
       " (21, 10, 8449),\n",
       " (21, 10, 8449),\n",
       " (21, 11, 8449),\n",
       " (21, 11, 8449),\n",
       " (21, 11, 8449),\n",
       " (21, 11, 8449),\n",
       " (21, 10, 8449),\n",
       " (21, 10, 8449),\n",
       " (21, 10, 8449)]\n",
       "--------------------------------------------------------------------------------------------------------------------------------------------------------------------------------------------------------------------------------------------------------------------------------------------------------------------------------------------------------------------------------------------------------------------------------------------------------------------------------------------\n",
       "type: 13 * (\n",
       "    int32[parameters={&quot;__doc__&quot;: &quot;PDG id&quot;}],\n",
       "    int32[parameters={&quot;__doc__&quot;: &quot;index of the mother particle&quot;}],\n",
       "    int32[parameters={&quot;__doc__&quot;: &quot;gen status flags stored bitwise, bits are: 0 : isPrompt, 1 : isDecayedLeptonHadron, 2 : isTauDecayProduct, 3 : isPromptTauDecayProduct, 4 : isDirectTauDecayProduct, 5 : isDirectPromptTauDecayProduct, 6 : isDirectHadronDecayProduct, 7 : isHardProcess, 8 : fromHardProcess, 9 : isHardProcessTauDecayProduct, 10 : isDirectHardProcessTauDecayProduct, 11 : fromHardProcessBeforeFSR, 12 : isFirstCopy, 13 : isLastCopy, 14 : isLastCopyBeforeFSR, &quot;}]\n",
       ")</pre>"
      ],
      "text/plain": [
       "<Array [(21, 10, 8449), ..., (21, 10, ...)] type='13 * (int32[parameters={\"...'>"
      ]
     },
     "execution_count": 156,
     "metadata": {},
     "output_type": "execute_result"
    }
   ],
   "source": [
    "c[19:32]"
   ]
  },
  {
   "cell_type": "code",
   "execution_count": 92,
   "id": "98672b23-816c-47f9-8f25-48523de29c0d",
   "metadata": {},
   "outputs": [
    {
     "data": {
      "text/html": [
       "<pre>[(2, -1),\n",
       " (-1, -1),\n",
       " (111, 19),\n",
       " (-421, 18),\n",
       " (111, 19),\n",
       " (22, 34),\n",
       " (22, 36),\n",
       " (11, 32),\n",
       " (-11, 32)]\n",
       "-----------------------------------------------------------------\n",
       "type: 9 * (\n",
       "    int32[parameters={&quot;__doc__&quot;: &quot;PDG id&quot;}],\n",
       "    int32[parameters={&quot;__doc__&quot;: &quot;index of the mother particle&quot;}]\n",
       ")</pre>"
      ],
      "text/plain": [
       "<Array [(2, -1), (-1, ...), ..., (-11, 32)] type='9 * (int32[parameters={\"_...'>"
      ]
     },
     "execution_count": 92,
     "metadata": {},
     "output_type": "execute_result"
    }
   ],
   "source": [
    "c[32:]"
   ]
  },
  {
   "cell_type": "code",
   "execution_count": 96,
   "id": "42e5276b-18cc-4a7c-af11-22d4fed7413b",
   "metadata": {},
   "outputs": [],
   "source": [
    "e = hgg.GenPart.statusFlags[1]"
   ]
  },
  {
   "cell_type": "code",
   "execution_count": 101,
   "id": "c93e4579-182e-46e5-880f-2b3470b8aafc",
   "metadata": {},
   "outputs": [
    {
     "data": {
      "text/html": [
       "<pre>(25,\n",
       " 6,\n",
       " 26881)\n",
       "--------------------------------------------------------------------------------------------------------------------------------------------------------------------------------------------------------------------------------------------------------------------------------------------------------------------------------------------------------------------------------------------------------------------------------------------------------------------------------------------\n",
       "type: (\n",
       "    int32[parameters={&quot;__doc__&quot;: &quot;PDG id&quot;}],\n",
       "    int32[parameters={&quot;__doc__&quot;: &quot;index of the mother particle&quot;}],\n",
       "    int32[parameters={&quot;__doc__&quot;: &quot;gen status flags stored bitwise, bits are: 0 : isPrompt, 1 : isDecayedLeptonHadron, 2 : isTauDecayProduct, 3 : isPromptTauDecayProduct, 4 : isDirectTauDecayProduct, 5 : isDirectPromptTauDecayProduct, 6 : isDirectHadronDecayProduct, 7 : isHardProcess, 8 : fromHardProcess, 9 : isHardProcessTauDecayProduct, 10 : isDirectHardProcessTauDecayProduct, 11 : fromHardProcessBeforeFSR, 12 : isFirstCopy, 13 : isLastCopy, 14 : isLastCopyBeforeFSR, &quot;}]\n",
       ")</pre>"
      ],
      "text/plain": [
       "<Record (25, 6, 26881) type='(int32[parameters={\"__doc__\": \"PDG id\"}], int3...'>"
      ]
     },
     "execution_count": 101,
     "metadata": {},
     "output_type": "execute_result"
    }
   ],
   "source": [
    "c[9]"
   ]
  },
  {
   "cell_type": "code",
   "execution_count": 119,
   "id": "d59090cc-20dc-4b30-9b79-1b9f3c1f6276",
   "metadata": {},
   "outputs": [
    {
     "data": {
      "text/plain": [
       "(array([ 43., 305., 709., 868., 595., 319., 114.,  28.,  12.,   7.]),\n",
       " array([ 26. ,  36.6,  47.2,  57.8,  68.4,  79. ,  89.6, 100.2, 110.8,\n",
       "        121.4, 132. ]),\n",
       " <BarContainer object of 10 artists>)"
      ]
     },
     "execution_count": 119,
     "metadata": {},
     "output_type": "execute_result"
    },
    {
     "data": {
      "image/png": "[encoded data removed]",
      "text/plain": [
       "<Figure size 640x480 with 1 Axes>"
      ]
     },
     "metadata": {},
     "output_type": "display_data"
    }
   ],
   "source": [
    "plt.hist(ak.count(hgg.GenPart.eta, axis=1))"
   ]
  },
  {
   "cell_type": "code",
   "execution_count": 155,
   "id": "91732340-e0e6-460d-ac92-ac4220aa47f5",
   "metadata": {},
   "outputs": [
    {
     "data": {
      "text/plain": [
       "28738"
      ]
     },
     "execution_count": 155,
     "metadata": {},
     "output_type": "execute_result"
    }
   ],
   "source": [
    "hgg.GenPart.statusFlags[1][36]"
   ]
  },
  {
   "cell_type": "code",
   "execution_count": 136,
   "id": "20d9abb3-73fd-4b76-8300-dceeb8191def",
   "metadata": {},
   "outputs": [
    {
     "data": {
      "text/plain": [
       "'gen status flags stored bitwise, bits are: 0 : isPrompt, 1 : isDecayedLeptonHadron, 2 : isTauDecayProduct, 3 : isPromptTauDecayProduct, 4 : isDirectTauDecayProduct, 5 : isDirectPromptTauDecayProduct, 6 : isDirectHadronDecayProduct, 7 : isHardProcess, 8 : fromHardProcess, 9 : isHardProcessTauDecayProduct, 10 : isDirectHardProcessTauDecayProduct, 11 : fromHardProcessBeforeFSR, 12 : isFirstCopy, 13 : isLastCopy, 14 : isLastCopyBeforeFSR, '"
      ]
     },
     "execution_count": 136,
     "metadata": {},
     "output_type": "execute_result"
    }
   ],
   "source": [
    "hgg.GenPart.statusFlags.__doc__"
   ]
  },
  {
   "cell_type": "code",
   "execution_count": 141,
   "id": "c077fd3a-e956-4c83-9e49-584bb63406bc",
   "metadata": {},
   "outputs": [],
   "source": [
    "flags = ['isPrompt', 'isDecayedLeptonHadron', 'isTauDecayProduct', 'isPromptTauDecayProduct', \n",
    "         'isDirectTauDecayProduct', 'isDirectPromptTauDecayProduct', 'isDirectHadronDecayProduct', 'isHardProcess', 'fromHardProcess', 'isHardProcessTauDecayProduct', \n",
    "         'isDirectHardProcessTauDecayProduct', 'fromHardProcessBeforeFSR', 'isFirstCopy', 'isLastCopy', 'isLastCopyBeforeFSR']"
   ]
  },
  {
   "cell_type": "code",
   "execution_count": 140,
   "id": "ffb7267d-e589-4535-b3f4-6d838a68101e",
   "metadata": {},
   "outputs": [
    {
     "data": {
      "text/plain": [
       "False"
      ]
     },
     "execution_count": 140,
     "metadata": {},
     "output_type": "execute_result"
    }
   ],
   "source": [
    "hgg.GenPart[1][0].hasFlags(['isPromptTauDecayProduct'])"
   ]
  },
  {
   "cell_type": "code",
   "execution_count": 143,
   "id": "2cf3e366-80e6-4cdc-b77d-7eb248f22957",
   "metadata": {},
   "outputs": [],
   "source": [
    "hasFlags = []\n",
    "for i in flags:\n",
    "    hasFlags.append(hgg.GenPart[1][0].hasFlags([i]))"
   ]
  },
  {
   "cell_type": "code",
   "execution_count": 144,
   "id": "787374ea-eb46-4e96-a318-a38e63ebd43d",
   "metadata": {},
   "outputs": [
    {
     "data": {
      "text/plain": [
       "[True,\n",
       " False,\n",
       " False,\n",
       " False,\n",
       " False,\n",
       " False,\n",
       " False,\n",
       " True,\n",
       " True,\n",
       " False,\n",
       " False,\n",
       " True,\n",
       " False,\n",
       " False,\n",
       " False]"
      ]
     },
     "execution_count": 144,
     "metadata": {},
     "output_type": "execute_result"
    }
   ],
   "source": [
    "hasFlags"
   ]
  },
  {
   "cell_type": "code",
   "execution_count": 149,
   "id": "ad4673f4-c04c-4430-b77d-41d20b9a2eaa",
   "metadata": {},
   "outputs": [
    {
     "data": {
      "text/plain": [
       "2433"
      ]
     },
     "execution_count": 149,
     "metadata": {},
     "output_type": "execute_result"
    }
   ],
   "source": [
    "(2**0) + (2**7) + (2**8) + (2**11)"
   ]
  },
  {
   "cell_type": "code",
   "execution_count": 146,
   "id": "d0916244-e911-4c8d-9702-03286fa5c996",
   "metadata": {},
   "outputs": [
    {
     "data": {
      "text/plain": [
       "2433"
      ]
     },
     "execution_count": 146,
     "metadata": {},
     "output_type": "execute_result"
    }
   ],
   "source": [
    "1 + 256 + 128 + 2048"
   ]
  },
  {
   "cell_type": "code",
   "execution_count": 148,
   "id": "cdb4bd4a-e1ad-4b4e-9614-7aa95ff1f3a4",
   "metadata": {},
   "outputs": [
    {
     "data": {
      "text/plain": [
       "2048"
      ]
     },
     "execution_count": 148,
     "metadata": {},
     "output_type": "execute_result"
    }
   ],
   "source": [
    "2**11"
   ]
  },
  {
   "cell_type": "code",
   "execution_count": null,
   "id": "5112ab62-0884-439d-801c-005c6849b674",
   "metadata": {},
   "outputs": [],
   "source": []
  }
 ],
 "metadata": {
  "kernelspec": {
   "display_name": "Python 3 (ipykernel)",
   "language": "python",
   "name": "python3"
  },
  "language_info": {
   "codemirror_mode": {
    "name": "ipython",
    "version": 3
   },
   "file_extension": ".py",
   "mimetype": "text/x-python",
   "name": "python",
   "nbconvert_exporter": "python",
   "pygments_lexer": "ipython3",
   "version": "3.9.18"
  }
 },
 "nbformat": 4,
 "nbformat_minor": 5
}
