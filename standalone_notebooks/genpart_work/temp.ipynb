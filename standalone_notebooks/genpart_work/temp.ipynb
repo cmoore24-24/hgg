{
 "cells": [
  {
   "cell_type": "code",
   "execution_count": 1,
   "id": "525bf860-d2a4-4b2b-b29b-843397d6f4eb",
   "metadata": {},
   "outputs": [
    {
     "name": "stderr",
     "output_type": "stream",
     "text": [
      "/tmp/ipykernel_364213/1518451047.py:8: FutureWarning: In version 2024.7.0 (target date: 2024-06-30 11:59:59-05:00), this will be an error.\n",
      "To raise these warnings as errors (and get stack traces to find out where they're called), run\n",
      "    import warnings\n",
      "    warnings.filterwarnings(\"error\", module=\"coffea.*\")\n",
      "after the first `import coffea` or use `@pytest.mark.filterwarnings(\"error:::coffea.*\")` in pytest.\n",
      "Issue: coffea.nanoevents.methods.vector will be removed and replaced with scikit-hep vector. Nanoevents schemas internal to coffea will be migrated. Otherwise please consider using that package!.\n",
      "  import coffea.nanoevents.methods.vector as vector\n"
     ]
    }
   ],
   "source": [
    "from coffea.nanoevents import NanoEventsFactory, BaseSchema, PFNanoAODSchema\n",
    "import json\n",
    "import fastjet\n",
    "import numpy as np\n",
    "import awkward as ak\n",
    "from coffea import processor\n",
    "import hist\n",
    "import coffea.nanoevents.methods.vector as vector\n",
    "import warnings\n",
    "import matplotlib.pyplot as plt\n",
    "import math"
   ]
  },
  {
   "cell_type": "code",
   "execution_count": 2,
   "id": "36b5f615-2b70-45cc-845e-ce390f11d7b1",
   "metadata": {},
   "outputs": [],
   "source": [
    "warnings.filterwarnings(\"ignore\", module=\"coffea.*\")\n",
    "warnings.filterwarnings(\"ignore\", \"Found duplicate branch\")\n",
    "warnings.filterwarnings(\"ignore\", \"Missing cross-reference index for\")\n",
    "warnings.filterwarnings(\"ignore\", \"dcut\")\n",
    "warnings.filterwarnings(\"ignore\", \"Please ensure\")\n",
    "warnings.filterwarnings(\"ignore\", \"invalid value\")"
   ]
  },
  {
   "cell_type": "code",
   "execution_count": 3,
   "id": "5ae94b4d-4300-4b76-902e-be7de87c00d4",
   "metadata": {},
   "outputs": [],
   "source": [
    "with open('../../filelists/hgg_files.txt', 'r') as f:\n",
    "    hgg_files = [line.strip() for line in f]\n",
    "with open('../../filelists/hbb_files.txt', 'r') as f:\n",
    "    hbb_files = [line.strip() for line in f]\n",
    "with open('../../filelists/300to470_files.txt', 'r') as f:\n",
    "    qcd_files = [line.strip() for line in f]"
   ]
  },
  {
   "cell_type": "code",
   "execution_count": 41,
   "id": "0b2642cb-ad67-43bf-af6c-6afa9df994e5",
   "metadata": {},
   "outputs": [],
   "source": [
    "qcd = NanoEventsFactory.from_root(\n",
    "    {'/project01/ndcms/cmoore24/qcd/300to470/' + qcd_files[0]: \"/Events\"},\n",
    "    delayed=False,\n",
    "    schemaclass=PFNanoAODSchema,\n",
    "    metadata={\"dataset\": \"QCD\"},\n",
    ").events()"
   ]
  },
  {
   "cell_type": "code",
   "execution_count": 65,
   "id": "6d2c3961-c12c-401f-a22b-677ef461501b",
   "metadata": {},
   "outputs": [],
   "source": [
    "qgp = qcd.GenPart"
   ]
  },
  {
   "cell_type": "code",
   "execution_count": 66,
   "id": "a18c02a8-7f20-4573-897b-a74aa284ebd0",
   "metadata": {},
   "outputs": [],
   "source": [
    "c1 = qgp.children\n",
    "c2 = qgp.children.children\n",
    "c3 = qgp.children.children.children\n",
    "c4 = qgp.children.children.children.children\n",
    "c5 = qgp.children.children.children.children.children\n",
    "c6 = qgp.children.children.children.children.children.children\n",
    "c7 = qgp.children.children.children.children.children.children.children\n",
    "c8 = qgp.children.children.children.children.children.children.children.children\n",
    "c9 = qgp.children.children.children.children.children.children.children.children.children\n",
    "c10 = qgp.children.children.children.children.children.children.children.children.children.children\n",
    "c11 = qgp.children.children.children.children.children.children.children.children.children.children.children"
   ]
  },
  {
   "cell_type": "code",
   "execution_count": 67,
   "id": "859dc806-5997-4f7a-a31a-29f8bf2b5f85",
   "metadata": {},
   "outputs": [],
   "source": [
    "c2 = ak.flatten(c2, axis=2)\n",
    "c3 = ak.flatten(ak.flatten(c3, axis=2), axis=2)\n",
    "c4 = ak.flatten(ak.flatten(ak.flatten(c4, axis=2), axis=2), axis=2)\n",
    "c5 = ak.flatten(ak.flatten(ak.flatten(ak.flatten(c5, axis=2), axis=2), axis=2), axis=2)\n",
    "c6 = ak.flatten(ak.flatten(ak.flatten(ak.flatten(ak.flatten(c6, axis=2), axis=2), axis=2), axis=2), axis=2)\n",
    "c7 = ak.flatten(ak.flatten(ak.flatten(ak.flatten(ak.flatten(ak.flatten(c7, axis=2), axis=2), axis=2), axis=2), axis=2), axis=2)\n",
    "c8 = ak.flatten(ak.flatten(ak.flatten(ak.flatten(ak.flatten(ak.flatten(ak.flatten(c8, axis=2), axis=2), axis=2), axis=2), axis=2), axis=2), axis=2)\n",
    "c9 = ak.flatten(ak.flatten(ak.flatten(ak.flatten(ak.flatten(ak.flatten(ak.flatten(ak.flatten(c9, axis=2), axis=2), axis=2), axis=2), axis=2), axis=2), axis=2), axis=2)\n",
    "c10 = ak.flatten(ak.flatten(ak.flatten(ak.flatten(ak.flatten(ak.flatten(ak.flatten(ak.flatten(ak.flatten(c10, axis=2), axis=2), axis=2), axis=2), axis=2), axis=2), axis=2), axis=2), axis=2)\n",
    "c11 = ak.flatten(ak.flatten(ak.flatten(ak.flatten(ak.flatten(ak.flatten(ak.flatten(ak.flatten(ak.flatten(ak.flatten(c11, axis=2), axis=2), axis=2), axis=2), axis=2), axis=2), axis=2), axis=2), axis=2), axis=2)"
   ]
  },
  {
   "cell_type": "code",
   "execution_count": 68,
   "id": "53cca124-7d54-426a-beea-60f5d36cf663",
   "metadata": {},
   "outputs": [],
   "source": [
    "many_children = ak.concatenate([c1, c2, c3, c4, c5, c6, c7, c8, c9, c10, c11], axis=1)"
   ]
  },
  {
   "cell_type": "code",
   "execution_count": 69,
   "id": "3ecd4e3b-73ae-41f5-a0b3-fcfd108f852e",
   "metadata": {},
   "outputs": [],
   "source": [
    "cut = many_children.hasFlags(['isLastCopy', 'isLastCopyBeforeFSR'])\n",
    "cut2 = many_children.hasFlags(['isLastCopy'])"
   ]
  },
  {
   "cell_type": "code",
   "execution_count": 70,
   "id": "8b3db37f-5554-48a7-b063-62616c6d8c0c",
   "metadata": {},
   "outputs": [],
   "source": [
    "many_children = many_children[cut2]\n",
    "a = np.unique(ak.flatten(ak.flatten(abs(many_children.pdgId))), return_counts=True)\n",
    "#a = np.unique(ak.flatten(abs(many_children.pdgId)), return_counts=True)"
   ]
  },
  {
   "cell_type": "code",
   "execution_count": 74,
   "id": "3188b0af-b5c4-4e8a-ae5d-272151c8a806",
   "metadata": {},
   "outputs": [],
   "source": [
    "hbparticles = []\n",
    "for i in a[0]:\n",
    "    hbparticles.append(pdgid_table[str(i)])"
   ]
  },
  {
   "cell_type": "code",
   "execution_count": 76,
   "id": "c1d5bc96-0dbe-4edd-ab54-53f045398fe6",
   "metadata": {},
   "outputs": [
    {
     "data": {
      "image/png": "[encoded data removed]",
      "text/plain": [
       "<Figure size 640x480 with 1 Axes>"
      ]
     },
     "metadata": {},
     "output_type": "display_data"
    }
   ],
   "source": [
    "plt.bar(hbparticles[80:], a[1][80:])\n",
    "plt.xticks(rotation=45, ha=\"right\")\n",
    "plt.title('Hgg Decay Children 1')\n",
    "plt.show()"
   ]
  },
  {
   "cell_type": "code",
   "execution_count": null,
   "id": "7f359cd9-8b94-40b6-9852-98437c2a5ee4",
   "metadata": {},
   "outputs": [],
   "source": []
  }
 ],
 "metadata": {
  "kernelspec": {
   "display_name": "Python 3 (ipykernel)",
   "language": "python",
   "name": "python3"
  },
  "language_info": {
   "codemirror_mode": {
    "name": "ipython",
    "version": 3
   },
   "file_extension": ".py",
   "mimetype": "text/x-python",
   "name": "python",
   "nbconvert_exporter": "python",
   "pygments_lexer": "ipython3",
   "version": "3.10.13"
  }
 },
 "nbformat": 4,
 "nbformat_minor": 5
}
