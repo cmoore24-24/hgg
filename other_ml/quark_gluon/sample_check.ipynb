{
 "cells": [
  {
   "cell_type": "code",
   "execution_count": 27,
   "id": "503eec1f-9b2e-4427-81a1-45d9334dd8ed",
   "metadata": {},
   "outputs": [],
   "source": [
    "import awkward as ak\n",
    "import numpy as np"
   ]
  },
  {
   "cell_type": "code",
   "execution_count": 39,
   "id": "65299a32-06f1-4813-af8f-ec5e078a322d",
   "metadata": {},
   "outputs": [],
   "source": [
    "use = 'gluons'"
   ]
  },
  {
   "cell_type": "code",
   "execution_count": 40,
   "id": "3f7b8c49-fde0-4dd6-b21e-e55138f379aa",
   "metadata": {},
   "outputs": [],
   "source": [
    "sample = ak.from_parquet(f'/project01/ndcms/cmoore24/skims/gluon_finding/truth_samples/{use}/whole/*')"
   ]
  },
  {
   "cell_type": "code",
   "execution_count": 41,
   "id": "7f9e74b4-c019-40a9-b482-edc9a664541f",
   "metadata": {},
   "outputs": [],
   "source": [
    "indices = np.random.permutation(len(sample))"
   ]
  },
  {
   "cell_type": "code",
   "execution_count": 42,
   "id": "3ff34f04-b86e-4000-934a-4e71537afbb9",
   "metadata": {},
   "outputs": [],
   "source": [
    "sample = sample[indices]"
   ]
  },
  {
   "cell_type": "code",
   "execution_count": 43,
   "id": "38cbbda8-f2f1-4366-9fb4-6f36de704985",
   "metadata": {},
   "outputs": [],
   "source": [
    "test = sample[0]"
   ]
  },
  {
   "cell_type": "code",
   "execution_count": 44,
   "id": "1d6d4412-e545-4424-bf4d-71651fe475ab",
   "metadata": {},
   "outputs": [],
   "source": [
    "keep_fields = []\n",
    "for i in test.fields:\n",
    "    if type(test[i]) == np.float32:\n",
    "        keep_fields.append(i)\n",
    "    else:\n",
    "        continue\n",
    "keep_fields.append('isGluon')"
   ]
  },
  {
   "cell_type": "code",
   "execution_count": 45,
   "id": "3f717b28-1a71-43b6-8270-696c3a38cead",
   "metadata": {},
   "outputs": [],
   "source": [
    "sample = sample[keep_fields]"
   ]
  },
  {
   "cell_type": "code",
   "execution_count": 46,
   "id": "798b00b6-ab4a-47ba-92dc-240974af6ef4",
   "metadata": {},
   "outputs": [],
   "source": [
    "kinematics = [\n",
    "    'area',\n",
    "    'eta',\n",
    "    'mass',\n",
    "    'msoftdrop',\n",
    "    'n2b1',\n",
    "    'n3b1',\n",
    "    'phi',\n",
    "    'pt',\n",
    "    # 'rawFactor',\n",
    "    'tau1',\n",
    "    'tau2',\n",
    "    'tau3',\n",
    "    'tau4',\n",
    "    'isGluon'\n",
    "]"
   ]
  },
  {
   "cell_type": "code",
   "execution_count": 47,
   "id": "0f579e10-03bd-4c6a-ab1c-973498d4b0c8",
   "metadata": {},
   "outputs": [],
   "source": [
    "sample = sample[kinematics]"
   ]
  },
  {
   "cell_type": "code",
   "execution_count": 48,
   "id": "b7f377d1-06ae-45f9-ab1e-c1454fd8422a",
   "metadata": {},
   "outputs": [
    {
     "data": {
      "text/plain": [
       "<pyarrow._parquet.FileMetaData object at 0x7f574aac93f0>\n",
       "  created_by: parquet-cpp-arrow version 17.0.0\n",
       "  num_columns: 13\n",
       "  num_rows: 1277542\n",
       "  num_row_groups: 1\n",
       "  format_version: 2.6\n",
       "  serialized_size: 0"
      ]
     },
     "execution_count": 48,
     "metadata": {},
     "output_type": "execute_result"
    }
   ],
   "source": [
    "ak.to_parquet(sample[::2], \n",
    "              f'/project01/ndcms/cmoore24/skims/gluon_finding/truth_samples/{use}/train/{use}_train.parquet')"
   ]
  },
  {
   "cell_type": "code",
   "execution_count": 49,
   "id": "2b33e401-a725-4ba6-b92f-8efdfb2fa298",
   "metadata": {},
   "outputs": [
    {
     "data": {
      "text/plain": [
       "<pyarrow._parquet.FileMetaData object at 0x7f57507cc4a0>\n",
       "  created_by: parquet-cpp-arrow version 17.0.0\n",
       "  num_columns: 13\n",
       "  num_rows: 1277542\n",
       "  num_row_groups: 1\n",
       "  format_version: 2.6\n",
       "  serialized_size: 0"
      ]
     },
     "execution_count": 49,
     "metadata": {},
     "output_type": "execute_result"
    }
   ],
   "source": [
    "ak.to_parquet(sample[1::2], \n",
    "              f'/project01/ndcms/cmoore24/skims/gluon_finding/truth_samples/{use}/test/{use}_test.parquet')"
   ]
  },
  {
   "cell_type": "code",
   "execution_count": null,
   "id": "5ce8a84b-25e2-4f75-8675-3d6c77569a55",
   "metadata": {},
   "outputs": [],
   "source": []
  },
  {
   "cell_type": "code",
   "execution_count": null,
   "id": "2bb0b774-0190-43c6-b2aa-1c986797474b",
   "metadata": {},
   "outputs": [],
   "source": []
  }
 ],
 "metadata": {
  "kernelspec": {
   "display_name": "Python 3 (ipykernel)",
   "language": "python",
   "name": "python3"
  },
  "language_info": {
   "codemirror_mode": {
    "name": "ipython",
    "version": 3
   },
   "file_extension": ".py",
   "mimetype": "text/x-python",
   "name": "python",
   "nbconvert_exporter": "python",
   "pygments_lexer": "ipython3",
   "version": "3.11.9"
  }
 },
 "nbformat": 4,
 "nbformat_minor": 5
}
