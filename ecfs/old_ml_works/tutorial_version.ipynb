{
 "cells": [
  {
   "cell_type": "code",
   "execution_count": 2,
   "id": "74b4f4de",
   "metadata": {},
   "outputs": [],
   "source": [
    "import torch\n",
    "import torch.nn as nn\n",
    "import pandas as pd\n",
    "import matplotlib.pyplot as plt\n",
    "from sklearn.model_selection import train_test_split\n",
    "from sklearn.preprocessing import StandardScaler\n",
    "import dask\n",
    "import dask.dataframe as ddf\n",
    "import sys\n",
    "import numpy as np"
   ]
  },
  {
   "cell_type": "code",
   "execution_count": 3,
   "id": "7066ce6a",
   "metadata": {},
   "outputs": [
    {
     "name": "stdout",
     "output_type": "stream",
     "text": [
      "Using cuda device\n"
     ]
    }
   ],
   "source": [
    "device = (\n",
    "    \"cuda\"\n",
    "    if torch.cuda.is_available()\n",
    "    else \"mps\"\n",
    "    if torch.backends.mps.is_available()\n",
    "    else \"cpu\"\n",
    ")\n",
    "print(f\"Using {device} device\")"
   ]
  },
  {
   "cell_type": "code",
   "execution_count": 4,
   "id": "b33966da",
   "metadata": {},
   "outputs": [],
   "source": [
    "signal_df = pd.read_parquet(\"train/data/signal_data.parquet\")"
   ]
  },
  {
   "cell_type": "code",
   "execution_count": 2,
   "id": "8083b8df",
   "metadata": {},
   "outputs": [
    {
     "ename": "NameError",
     "evalue": "name 'signal_df' is not defined",
     "output_type": "error",
     "traceback": [
      "\u001b[0;31m---------------------------------------------------------------------------\u001b[0m",
      "\u001b[0;31mNameError\u001b[0m                                 Traceback (most recent call last)",
      "Cell \u001b[0;32mIn[2], line 1\u001b[0m\n\u001b[0;32m----> 1\u001b[0m \u001b[43msignal_df\u001b[49m\n",
      "\u001b[0;31mNameError\u001b[0m: name 'signal_df' is not defined"
     ]
    }
   ],
   "source": [
    "signal_df"
   ]
  },
  {
   "cell_type": "code",
   "execution_count": 5,
   "id": "906eb4f5",
   "metadata": {},
   "outputs": [],
   "source": [
    "background_df = pd.read_parquet(\"train/data/background_data.parquet\")#.compute(scheduler='threads')"
   ]
  },
  {
   "cell_type": "code",
   "execution_count": 6,
   "id": "8c96853b",
   "metadata": {},
   "outputs": [],
   "source": [
    "def extract(dframe, key):\n",
    "    return dframe[0][key]"
   ]
  },
  {
   "cell_type": "code",
   "execution_count": 7,
   "id": "2d58841e",
   "metadata": {},
   "outputs": [],
   "source": [
    "signal_fatjets = signal_df['FatJets']\n",
    "background_fatjets = background_df['FatJets']"
   ]
  },
  {
   "cell_type": "code",
   "execution_count": 8,
   "id": "798440dd",
   "metadata": {},
   "outputs": [],
   "source": [
    "keys = list(signal_fatjets[0][0].keys())"
   ]
  },
  {
   "cell_type": "code",
   "execution_count": 9,
   "id": "8c65fe5d",
   "metadata": {},
   "outputs": [],
   "source": [
    "signal_key_vals = {}\n",
    "for i in keys:\n",
    "    signal_key_vals[i] = signal_fatjets.apply(lambda x: extract(x, i)).values.tolist()"
   ]
  },
  {
   "cell_type": "code",
   "execution_count": 10,
   "id": "68c78543",
   "metadata": {},
   "outputs": [],
   "source": [
    "background_key_vals = {}\n",
    "for i in keys:\n",
    "    background_key_vals[i] = background_fatjets.apply(lambda x: extract(x, i)).values.tolist()"
   ]
  },
  {
   "cell_type": "code",
   "execution_count": 233,
   "id": "bce6e269",
   "metadata": {},
   "outputs": [],
   "source": [
    "step_sig = pd.DataFrame.from_dict(signal_key_vals)\n",
    "step_bkg = pd.DataFrame.from_dict(background_key_vals)"
   ]
  },
  {
   "cell_type": "code",
   "execution_count": 234,
   "id": "7ee26a68",
   "metadata": {},
   "outputs": [],
   "source": [
    "items = ['area', 'eta', 'mass','msoftdrop', 'n2b1', 'n3b1', 'phi', 'pt']"
   ]
  },
  {
   "cell_type": "code",
   "execution_count": 235,
   "id": "fe046734",
   "metadata": {},
   "outputs": [],
   "source": [
    "items2 = ['msoftdrop', 'pt']"
   ]
  },
  {
   "cell_type": "code",
   "execution_count": 249,
   "id": "e8e462c9",
   "metadata": {},
   "outputs": [],
   "source": [
    "small_sig = step_sig[items]\n",
    "small_bkg = step_bkg[items]"
   ]
  },
  {
   "cell_type": "code",
   "execution_count": 250,
   "id": "3d262dec",
   "metadata": {},
   "outputs": [
    {
     "name": "stderr",
     "output_type": "stream",
     "text": [
      "/tmp/ipykernel_99/1762296698.py:1: SettingWithCopyWarning: \n",
      "A value is trying to be set on a copy of a slice from a DataFrame.\n",
      "Try using .loc[row_indexer,col_indexer] = value instead\n",
      "\n",
      "See the caveats in the documentation: https://pandas.pydata.org/pandas-docs/stable/user_guide/indexing.html#returning-a-view-versus-a-copy\n",
      "  small_sig['isSignal'] = np.ones(len(small_sig))\n"
     ]
    }
   ],
   "source": [
    "small_sig['isSignal'] = np.ones(len(small_sig))"
   ]
  },
  {
   "cell_type": "code",
   "execution_count": 251,
   "id": "9ff3d68f",
   "metadata": {},
   "outputs": [
    {
     "name": "stderr",
     "output_type": "stream",
     "text": [
      "/tmp/ipykernel_99/773803344.py:1: SettingWithCopyWarning: \n",
      "A value is trying to be set on a copy of a slice from a DataFrame.\n",
      "Try using .loc[row_indexer,col_indexer] = value instead\n",
      "\n",
      "See the caveats in the documentation: https://pandas.pydata.org/pandas-docs/stable/user_guide/indexing.html#returning-a-view-versus-a-copy\n",
      "  small_bkg['isSignal'] = np.zeros(len(small_bkg))\n"
     ]
    }
   ],
   "source": [
    "small_bkg['isSignal'] = np.zeros(len(small_bkg))"
   ]
  },
  {
   "cell_type": "code",
   "execution_count": 252,
   "id": "308705ef",
   "metadata": {},
   "outputs": [],
   "source": [
    "NDIM = len(items)\n",
    "df_all = pd.concat([small_sig, small_bkg])\n",
    "dataset = df_all.values\n",
    "X = dataset[:, 0:NDIM]\n",
    "Y = dataset[:, NDIM]"
   ]
  },
  {
   "cell_type": "code",
   "execution_count": 253,
   "id": "28fe39d8",
   "metadata": {},
   "outputs": [
    {
     "name": "stdout",
     "output_type": "stream",
     "text": [
      "[[ 2.02539062e+00  6.09497070e-01  3.34375000e+01 ... -1.00000000e+00\n",
      "  -5.65063477e-01  3.88000000e+02]\n",
      " [ 2.29296875e+00 -5.44311523e-01  1.37875000e+02 ...  1.36718750e+00\n",
      "   2.70800781e+00  3.81750000e+02]\n",
      " [ 2.01367188e+00 -2.09130859e+00  9.99375000e+01 ...  1.41113281e+00\n",
      "  -2.63427734e+00  2.98000000e+02]\n",
      " ...\n",
      " [ 2.01367188e+00  7.98339844e-01  7.83750000e+01 ...  1.63964844e+00\n",
      "   1.15502930e+00  5.56000000e+02]\n",
      " [ 2.04492188e+00  1.16235352e+00  4.86562500e+01 ...  1.32128906e+00\n",
      "  -2.17480469e+00  4.50250000e+02]\n",
      " [ 2.00390625e+00  1.52685547e+00  5.33125000e+01 ...  5.68359375e-01\n",
      "  -1.89160156e+00  4.78000000e+02]]\n",
      "[[ 1.97460938e+00  9.93041992e-01  8.24375000e+01 ...  1.86328125e+00\n",
      "  -1.00854492e+00  3.00000000e+02]\n",
      " [ 2.04492188e+00  1.22390747e-01  9.91875000e+01 ... -1.00000000e+00\n",
      "   3.13427734e+00  2.53750000e+02]\n",
      " [ 2.05468750e+00 -8.69506836e-01  6.48750000e+01 ...  1.67187500e+00\n",
      "   1.93554688e+00  3.37500000e+02]\n",
      " ...\n",
      " [ 1.97460938e+00  1.62500000e+00  3.29687500e+01 ...  1.04492188e+00\n",
      "   1.23339844e+00  3.69500000e+02]\n",
      " [ 2.01367188e+00 -2.26855469e+00  6.88750000e+01 ... -1.00000000e+00\n",
      "  -5.20629883e-01  4.25750000e+02]\n",
      " [ 1.98437500e+00  8.86962891e-01  6.55625000e+01 ...  1.18554688e+00\n",
      "   2.22167969e+00  3.99250000e+02]]\n"
     ]
    }
   ],
   "source": [
    "X_train_val, X_test, Y_train_val, Y_test = train_test_split(X, Y, test_size=0.2, random_state=7)\n",
    "print(X_train_val)\n",
    "print(X)\n",
    "\n",
    "scaler = StandardScaler().fit(X_train_val)\n",
    "X_train_val = scaler.transform(X_train_val)\n",
    "X_test = scaler.transform(X_test)\n",
    "\n",
    "# Split again, this time into training and validation data.\n",
    "X_train, X_val, Y_train, Y_val = train_test_split(\n",
    "    X_train_val, Y_train_val, test_size=0.2, random_state=7\n",
    ")\n"
   ]
  },
  {
   "cell_type": "code",
   "execution_count": 258,
   "id": "65212bd1",
   "metadata": {},
   "outputs": [],
   "source": [
    "# Build our model.\n",
    "import torch\n",
    "\n",
    "class NeuralNetwork(nn.Module):\n",
    "    def __init__(self, width=64):\n",
    "        super().__init__()\n",
    "        self.linear_relu_stack = nn.Sequential(\n",
    "            nn.Linear(8, width),\n",
    "            nn.ReLU(),\n",
    "            nn.Linear(width, width),\n",
    "            nn.ReLU(),\n",
    "            nn.Linear(width, 1)\n",
    "        )\n",
    "\n",
    "    def forward(self, x):\n",
    "        logits = self.linear_relu_stack(x)\n",
    "        return logits\n",
    "    \n",
    "model = NeuralNetwork()\n",
    "\n",
    "# Use Binary Cross Entropy as our loss function.\n",
    "loss_fn = torch.nn.BCEWithLogitsLoss()\n",
    "\n",
    "# Optimize the model parameters using the Adam optimizer.\n",
    "learning_rate = 0.001\n",
    "optimizer = torch.optim.Adam(model.parameters(), lr=learning_rate)"
   ]
  },
  {
   "cell_type": "code",
   "execution_count": 259,
   "id": "70301a81",
   "metadata": {},
   "outputs": [],
   "source": [
    "# Get validation data ready\n",
    "val_data = torch.from_numpy(X_val).float()\n",
    "val_label = torch.from_numpy(Y_val).float()"
   ]
  },
  {
   "cell_type": "code",
   "execution_count": 260,
   "id": "088fe439",
   "metadata": {},
   "outputs": [
    {
     "name": "stderr",
     "output_type": "stream",
     "text": [
      "100%|██████████| 60/60 [00:01<00:00, 37.68it/s]\n"
     ]
    }
   ],
   "source": [
    "from tqdm import tqdm  # for progress bar while training\n",
    "\n",
    "losses, val_losses = [], []\n",
    "min_loss, stale_epochs = 100.0, 0\n",
    "\n",
    "# 500 epochs.\n",
    "batch_size = 1024\n",
    "for t in tqdm(range(60)):\n",
    "    batch_loss, val_batch_loss = [], []\n",
    "\n",
    "    for b in range(0, X_train.shape[0], batch_size):\n",
    "        X_batch = X_train[b : b + batch_size]\n",
    "        Y_batch = Y_train[b : b + batch_size]\n",
    "        x = torch.from_numpy(X_batch).float()\n",
    "        y_b = torch.from_numpy(Y_batch).float()\n",
    "        y_b = y_b.view(-1, 1)\n",
    "\n",
    "        y_pred = model(x)\n",
    "\n",
    "\n",
    "        # Compute and print loss.\n",
    "        loss = loss_fn(y_pred, y_b)\n",
    "        batch_loss.append(loss.item())\n",
    "\n",
    "        optimizer.zero_grad()\n",
    "\n",
    "        loss.backward()\n",
    "\n",
    "        optimizer.step()\n",
    "\n",
    "        with torch.inference_mode():\n",
    "\n",
    "            output = model(val_data)\n",
    "\n",
    "            val_y = val_label.view_as(output)\n",
    "            val_loss = loss_fn(output, val_y)\n",
    "            val_batch_loss.append(val_loss.item())\n",
    "\n",
    "            # Monitor the loss function to prevent overtraining.\n",
    "            if stale_epochs > 20:\n",
    "                break\n",
    "\n",
    "            if val_loss.item() - min_loss < 0:\n",
    "                min_loss = val_loss.item()\n",
    "                stale_epochs = 0\n",
    "                #torch.save(model.state_dict(), \"pytorch_model_best.pth\")\n",
    "            else:\n",
    "                stale_epochs += 1\n",
    "\n",
    "    losses.append(np.mean(batch_loss))\n",
    "    val_losses.append(np.mean(val_batch_loss))"
   ]
  },
  {
   "cell_type": "code",
   "execution_count": 261,
   "id": "2bfb0a77",
   "metadata": {},
   "outputs": [
    {
     "data": {
      "image/png": "[encoded data removed]",
      "text/plain": [
       "<Figure size 1500x1000 with 2 Axes>"
      ]
     },
     "metadata": {},
     "output_type": "display_data"
    }
   ],
   "source": [
    "import matplotlib.pyplot as plt\n",
    "\n",
    "%matplotlib inline\n",
    "\n",
    "with torch.no_grad():\n",
    "    # plot loss vs epoch\n",
    "    plt.figure(figsize=(15, 10))\n",
    "    ax = plt.subplot(2, 2, 1)\n",
    "    ax.plot(losses, label=\"loss\")\n",
    "    ax.plot(val_losses, label=\"val_loss\")\n",
    "    ax.legend(loc=\"upper right\")\n",
    "    ax.set_xlabel(\"epoch\")\n",
    "    ax.set_ylabel(\"loss\")\n",
    "\n",
    "    # Plot ROC\n",
    "    X_test_in = torch.from_numpy(X_test).float()\n",
    "    Y_predict = model(X_test_in)\n",
    "    from sklearn.metrics import roc_curve, auc\n",
    "\n",
    "    fpr, tpr, thresholds = roc_curve(Y_test, Y_predict)\n",
    "    roc_auc = auc(fpr, tpr)\n",
    "    ax = plt.subplot(2, 2, 3)\n",
    "    ax.plot(fpr, tpr, lw=2, color=\"cyan\", label=\"auc = %.3f\" % (roc_auc))\n",
    "    ax.plot([0, 1], [0, 1], linestyle=\"--\", lw=2, color=\"k\", label=\"random chance\")\n",
    "    ax.set_xlim([0, 1.0])\n",
    "    ax.set_ylim([0, 1.0])\n",
    "    ax.set_xlabel(\"false positive rate\")\n",
    "    ax.set_ylabel(\"true positive rate\")\n",
    "    ax.set_title(\"receiver operating curve\")\n",
    "    ax.legend(loc=\"lower right\")\n",
    "    plt.show()"
   ]
  },
  {
   "cell_type": "code",
   "execution_count": null,
   "id": "df28dff9",
   "metadata": {},
   "outputs": [],
   "source": []
  },
  {
   "cell_type": "code",
   "execution_count": null,
   "id": "20d8cca6",
   "metadata": {},
   "outputs": [],
   "source": []
  }
 ],
 "metadata": {
  "kernelspec": {
   "display_name": "Python 3 (ipykernel)",
   "language": "python",
   "name": "python3"
  },
  "language_info": {
   "codemirror_mode": {
    "name": "ipython",
    "version": 3
   },
   "file_extension": ".py",
   "mimetype": "text/x-python",
   "name": "python",
   "nbconvert_exporter": "python",
   "pygments_lexer": "ipython3",
   "version": "3.10.6"
  }
 },
 "nbformat": 4,
 "nbformat_minor": 5
}
