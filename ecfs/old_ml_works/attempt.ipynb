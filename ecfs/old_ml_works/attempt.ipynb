{
 "cells": [
  {
   "cell_type": "code",
   "execution_count": 1,
   "id": "6cb361c1",
   "metadata": {},
   "outputs": [],
   "source": [
    "import pandas as pd\n",
    "import torch\n",
    "import torch.nn as nn\n",
    "import numpy as np\n",
    "import matplotlib.pyplot as plt"
   ]
  },
  {
   "cell_type": "code",
   "execution_count": 2,
   "id": "9218ae58",
   "metadata": {},
   "outputs": [
    {
     "name": "stdout",
     "output_type": "stream",
     "text": [
      "Using cuda device\n"
     ]
    }
   ],
   "source": [
    "device = (\n",
    "    \"cuda\"\n",
    "    if torch.cuda.is_available()\n",
    "    else \"mps\"\n",
    "    if torch.backends.mps.is_available()\n",
    "    else \"cpu\"\n",
    ")\n",
    "print(f\"Using {device} device\")"
   ]
  },
  {
   "cell_type": "code",
   "execution_count": null,
   "id": "474af675",
   "metadata": {},
   "outputs": [],
   "source": [
    "signal_df = pd.read_parquet(\"train/data/signal_data.parquet\")\n",
    "background_df = pd.read_parquet(\"train/data/background_data.parquet\")"
   ]
  },
  {
   "cell_type": "code",
   "execution_count": null,
   "id": "fe3d5a51",
   "metadata": {},
   "outputs": [],
   "source": [
    "def extract(dframe, key):\n",
    "    return dframe[0][key]"
   ]
  },
  {
   "cell_type": "code",
   "execution_count": null,
   "id": "9479df65",
   "metadata": {},
   "outputs": [],
   "source": [
    "signal_fatjets = signal_df['FatJets']"
   ]
  },
  {
   "cell_type": "code",
   "execution_count": null,
   "id": "daf27231",
   "metadata": {},
   "outputs": [],
   "source": [
    "background_fatjets = background_df['FatJets']"
   ]
  },
  {
   "cell_type": "code",
   "execution_count": null,
   "id": "9e148306",
   "metadata": {},
   "outputs": [],
   "source": [
    "keys = list(signal_fatjets[0][0].keys())"
   ]
  },
  {
   "cell_type": "code",
   "execution_count": null,
   "id": "b842c021",
   "metadata": {},
   "outputs": [],
   "source": [
    "signal_key_vals = {}\n",
    "for i in keys:\n",
    "    signal_key_vals[i] = signal_fatjets.apply(lambda x: extract(x, i)).values.tolist()"
   ]
  },
  {
   "cell_type": "code",
   "execution_count": null,
   "id": "10e72484",
   "metadata": {},
   "outputs": [],
   "source": [
    "background_key_vals = {}\n",
    "for i in keys:\n",
    "    background_key_vals[i] = background_fatjets.apply(lambda x: extract(x, i)).values.tolist()"
   ]
  },
  {
   "cell_type": "code",
   "execution_count": 10,
   "id": "5e1ad2bd",
   "metadata": {},
   "outputs": [],
   "source": [
    "step_sig = pd.DataFrame.from_dict(signal_key_vals)"
   ]
  },
  {
   "cell_type": "code",
   "execution_count": 11,
   "id": "997eb2fa",
   "metadata": {},
   "outputs": [],
   "source": [
    "step_bkg = pd.DataFrame.from_dict(background_key_vals)"
   ]
  },
  {
   "cell_type": "code",
   "execution_count": 12,
   "id": "7f1a09f9",
   "metadata": {},
   "outputs": [],
   "source": [
    "items = ['area', 'eta', 'mass','msoftdrop', 'n2b1', 'n3b1', 'phi', 'pt']"
   ]
  },
  {
   "cell_type": "code",
   "execution_count": 13,
   "id": "d7872716",
   "metadata": {},
   "outputs": [],
   "source": [
    "small_sig = step_sig[items]"
   ]
  },
  {
   "cell_type": "code",
   "execution_count": 14,
   "id": "aac874b6",
   "metadata": {},
   "outputs": [],
   "source": [
    "small_bkg = step_bkg[items]"
   ]
  },
  {
   "cell_type": "code",
   "execution_count": 15,
   "id": "b3505018",
   "metadata": {},
   "outputs": [
    {
     "data": {
      "text/plain": [
       "(1940, 8)"
      ]
     },
     "execution_count": 15,
     "metadata": {},
     "output_type": "execute_result"
    }
   ],
   "source": [
    "small_sig.shape"
   ]
  },
  {
   "cell_type": "code",
   "execution_count": 16,
   "id": "07488d9e",
   "metadata": {},
   "outputs": [
    {
     "data": {
      "text/plain": [
       "(20264, 8)"
      ]
     },
     "execution_count": 16,
     "metadata": {},
     "output_type": "execute_result"
    }
   ],
   "source": [
    "small_bkg.shape"
   ]
  },
  {
   "cell_type": "code",
   "execution_count": 17,
   "id": "17d3de75",
   "metadata": {},
   "outputs": [],
   "source": [
    "sig_arr = small_sig.to_numpy(dtype=float)\n",
    "bkg_arr = small_bkg.to_numpy(dtype=float)"
   ]
  },
  {
   "cell_type": "code",
   "execution_count": 18,
   "id": "f5e0e54d",
   "metadata": {},
   "outputs": [
    {
     "data": {
      "text/plain": [
       "((1940, 8), (20264, 8))"
      ]
     },
     "execution_count": 18,
     "metadata": {},
     "output_type": "execute_result"
    }
   ],
   "source": [
    "sig_arr.shape, bkg_arr.shape"
   ]
  },
  {
   "cell_type": "code",
   "execution_count": 19,
   "id": "50ff30db",
   "metadata": {},
   "outputs": [],
   "source": [
    "comb = np.concatenate((sig_arr, bkg_arr))"
   ]
  },
  {
   "cell_type": "code",
   "execution_count": 20,
   "id": "0448b72d",
   "metadata": {},
   "outputs": [
    {
     "data": {
      "text/plain": [
       "(22204, 8)"
      ]
     },
     "execution_count": 20,
     "metadata": {},
     "output_type": "execute_result"
    }
   ],
   "source": [
    "comb.shape"
   ]
  },
  {
   "cell_type": "code",
   "execution_count": 21,
   "id": "ce395f0d",
   "metadata": {},
   "outputs": [],
   "source": [
    "fatjet_tensor = torch.from_numpy(comb).type(torch.float)"
   ]
  },
  {
   "cell_type": "code",
   "execution_count": 22,
   "id": "fec78c69",
   "metadata": {},
   "outputs": [
    {
     "data": {
      "text/plain": [
       "torch.Size([22204, 8])"
      ]
     },
     "execution_count": 22,
     "metadata": {},
     "output_type": "execute_result"
    }
   ],
   "source": [
    "fatjet_tensor.shape"
   ]
  },
  {
   "cell_type": "code",
   "execution_count": 23,
   "id": "50b94aa8",
   "metadata": {},
   "outputs": [],
   "source": [
    "sig_labels = torch.zeros(1940)\n",
    "bkg_labels = torch.ones(20264)"
   ]
  },
  {
   "cell_type": "code",
   "execution_count": 24,
   "id": "9c374859",
   "metadata": {},
   "outputs": [],
   "source": [
    "label_tensor = torch.concatenate((sig_labels, bkg_labels)).type(torch.LongTensor)"
   ]
  },
  {
   "cell_type": "code",
   "execution_count": 25,
   "id": "40b52ba8",
   "metadata": {},
   "outputs": [
    {
     "data": {
      "text/plain": [
       "torch.Size([22204])"
      ]
     },
     "execution_count": 25,
     "metadata": {},
     "output_type": "execute_result"
    }
   ],
   "source": [
    "label_tensor.shape"
   ]
  },
  {
   "cell_type": "code",
   "execution_count": 26,
   "id": "eb74d5b8",
   "metadata": {},
   "outputs": [],
   "source": [
    "from sklearn.model_selection import train_test_split\n",
    "X_train, X_test, y_train, y_test = train_test_split(fatjet_tensor,\n",
    "    label_tensor,\n",
    "    test_size=0.2,\n",
    "    random_state=42,\n",
    "\n",
    ")"
   ]
  },
  {
   "cell_type": "code",
   "execution_count": 27,
   "id": "01cf2813",
   "metadata": {},
   "outputs": [
    {
     "data": {
      "text/plain": [
       "(torch.Size([17763, 8]),\n",
       " torch.Size([4441, 8]),\n",
       " torch.Size([17763]),\n",
       " torch.Size([4441]))"
      ]
     },
     "execution_count": 27,
     "metadata": {},
     "output_type": "execute_result"
    }
   ],
   "source": [
    "X_train.shape, X_test.shape, y_train.shape, y_test.shape"
   ]
  },
  {
   "cell_type": "code",
   "execution_count": 28,
   "id": "001ffee7",
   "metadata": {},
   "outputs": [
    {
     "name": "stdout",
     "output_type": "stream",
     "text": [
      "NeuralNetwork(\n",
      "  (linear_relu_stack): Sequential(\n",
      "    (0): Linear(in_features=8, out_features=256, bias=True)\n",
      "    (1): ReLU()\n",
      "    (2): Linear(in_features=256, out_features=256, bias=True)\n",
      "    (3): ReLU()\n",
      "    (4): Linear(in_features=256, out_features=2, bias=True)\n",
      "  )\n",
      ")\n"
     ]
    }
   ],
   "source": [
    "# Define model\n",
    "class NeuralNetwork(nn.Module):\n",
    "    def __init__(self, width=256):\n",
    "        super().__init__()\n",
    "        self.linear_relu_stack = nn.Sequential(\n",
    "            nn.Linear(8, width),\n",
    "            nn.ReLU(),\n",
    "            nn.Linear(width, width),\n",
    "            nn.ReLU(),\n",
    "            nn.Linear(width, 2)\n",
    "        )\n",
    "\n",
    "    def forward(self, x):\n",
    "        logits = self.linear_relu_stack(x)\n",
    "        return logits\n",
    "\n",
    "model = NeuralNetwork().to(device)\n",
    "print(model)"
   ]
  },
  {
   "cell_type": "code",
   "execution_count": 29,
   "id": "be52d197",
   "metadata": {},
   "outputs": [],
   "source": [
    "loss_fn = nn.CrossEntropyLoss()\n",
    "optimizer = torch.optim.SGD(model.parameters(), lr=1e-3)"
   ]
  },
  {
   "cell_type": "code",
   "execution_count": 30,
   "id": "3fa7ff19",
   "metadata": {},
   "outputs": [
    {
     "name": "stdout",
     "output_type": "stream",
     "text": [
      "torch.float32 torch.float32 torch.int64 torch.int64\n"
     ]
    }
   ],
   "source": [
    "# Setup data to be device agnostic\n",
    "X_train, y_train = X_train.to(device), y_train.to(device)\n",
    "X_test, y_test = X_test.to(device), y_test.to(device)\n",
    "print(X_train.dtype, X_test.dtype, y_train.dtype, y_test.dtype)"
   ]
  },
  {
   "cell_type": "code",
   "execution_count": 31,
   "id": "b9d7039d",
   "metadata": {},
   "outputs": [
    {
     "name": "stdout",
     "output_type": "stream",
     "text": [
      "Logits:\n",
      "tensor([[10.5433,  7.2174],\n",
      "        [ 5.7327,  6.6618],\n",
      "        [14.5509,  3.8035],\n",
      "        [20.2516,  3.9309],\n",
      "        [ 6.8364,  8.1588],\n",
      "        [ 8.4321,  7.5902],\n",
      "        [10.8001,  4.0935],\n",
      "        [11.8726,  5.5622],\n",
      "        [ 7.3370,  6.3747],\n",
      "        [ 9.4161,  6.5501]], device='cuda:0', grad_fn=<SliceBackward0>)\n",
      "Pred probs:\n",
      "tensor([[9.6531e-01, 3.4693e-02],\n",
      "        [2.8310e-01, 7.1690e-01],\n",
      "        [9.9998e-01, 2.1501e-05],\n",
      "        [1.0000e+00, 8.1661e-08],\n",
      "        [2.1042e-01, 7.8958e-01],\n",
      "        [6.9885e-01, 3.0115e-01],\n",
      "        [9.9878e-01, 1.2213e-03],\n",
      "        [9.9819e-01, 1.8140e-03],\n",
      "        [7.2357e-01, 2.7643e-01],\n",
      "        [9.4614e-01, 5.3857e-02]], device='cuda:0', grad_fn=<SoftmaxBackward0>)\n",
      "Pred labels:\n",
      "tensor([0, 1, 0, 0, 1, 0, 0, 0, 0, 0], device='cuda:0')\n"
     ]
    }
   ],
   "source": [
    "# Print out untrained model outputs\n",
    "print(\"Logits:\")\n",
    "print(model(X_train)[:10])\n",
    "\n",
    "print(\"Pred probs:\")\n",
    "print(torch.softmax(model(X_train)[:10], dim=1))\n",
    "\n",
    "print(\"Pred labels:\")\n",
    "print(torch.softmax(model(X_train)[:10], dim=1).argmax(dim=1))"
   ]
  },
  {
   "cell_type": "code",
   "execution_count": 32,
   "id": "875f5f4b",
   "metadata": {},
   "outputs": [
    {
     "name": "stdout",
     "output_type": "stream",
     "text": [
      "Epoch: 0 | Loss: 156.39 | Test Loss: 2123.41\n",
      "Epoch: 5 | Loss: 19.48 | Test Loss: 8.56\n",
      "Epoch: 10 | Loss: 0.42 | Test Loss: 4.37\n",
      "Epoch: 15 | Loss: 7.02 | Test Loss: 4.89\n",
      "Epoch: 20 | Loss: 2.42 | Test Loss: 1.68\n",
      "Epoch: 25 | Loss: 0.76 | Test Loss: 0.50\n",
      "Epoch: 30 | Loss: 0.32 | Test Loss: 0.28\n",
      "Epoch: 35 | Loss: 0.28 | Test Loss: 0.25\n",
      "Epoch: 40 | Loss: 0.27 | Test Loss: 0.24\n"
     ]
    }
   ],
   "source": [
    "torch.manual_seed(42)\n",
    "epochs = 45\n",
    "losses, test_losses = [], []\n",
    "\n",
    "for epoch in range(epochs):\n",
    "    batch_loss, val_batch_loss = [], []\n",
    "    model.train()\n",
    "    y_logits = model(X_train)\n",
    "    y_pred = torch.softmax(y_logits, dim=1).argmax(dim=1)\n",
    "    \n",
    "    loss = loss_fn(y_logits, y_train)\n",
    "    batch_loss.append(loss.item())\n",
    "\n",
    "    \n",
    "    optimizer.zero_grad()\n",
    "    loss.backward()\n",
    "    optimizer.step()\n",
    "    \n",
    "    model.eval()\n",
    "    with torch.inference_mode():\n",
    "        test_logits = model(X_test)\n",
    "        test_pred = torch.softmax(test_logits, dim=1).argmax(dim=1)\n",
    "        test_loss = loss_fn(test_logits, y_test)\n",
    "        val_batch_loss.append(test_loss.item())\n",
    "    losses.append(np.mean(batch_loss))\n",
    "    test_losses.append(np.mean(val_batch_loss))\n",
    "        \n",
    "    if epoch % 5 == 0:\n",
    "        print(f\"Epoch: {epoch} | Loss: {loss:.2f} | Test Loss: {test_loss:.2f}\")"
   ]
  },
  {
   "cell_type": "code",
   "execution_count": 33,
   "id": "a443b163",
   "metadata": {},
   "outputs": [
    {
     "data": {
      "text/plain": [
       "Text(0, 0.5, 'loss')"
      ]
     },
     "execution_count": 33,
     "metadata": {},
     "output_type": "execute_result"
    },
    {
     "data": {
      "image/png": "[encoded data removed]",
      "text/plain": [
       "<Figure size 1500x1000 with 1 Axes>"
      ]
     },
     "metadata": {},
     "output_type": "display_data"
    }
   ],
   "source": [
    "plt.figure(figsize=(15, 10))\n",
    "ax = plt.subplot(2, 2, 1)\n",
    "ax.plot(losses, label=\"loss\")\n",
    "ax.plot(test_losses, label=\"test_loss\")\n",
    "ax.legend(loc=\"upper right\")\n",
    "ax.set_xlabel(\"epoch\")\n",
    "ax.set_ylabel(\"loss\")"
   ]
  },
  {
   "cell_type": "code",
   "execution_count": 34,
   "id": "bf181938",
   "metadata": {},
   "outputs": [
    {
     "data": {
      "image/png": "[encoded data removed]",
      "text/plain": [
       "<Figure size 640x480 with 1 Axes>"
      ]
     },
     "metadata": {},
     "output_type": "display_data"
    }
   ],
   "source": [
    "with torch.inference_mode():\n",
    "    y_logits = model(X_test)\n",
    "    y_pred = torch.softmax(y_logits, dim=1).argmax(dim=1)\n",
    "    from sklearn.metrics import roc_curve, auc\n",
    "    \n",
    "    fpr, tpr, thresholds = roc_curve(y_test.cpu(), \n",
    "                                     y_pred.cpu())\n",
    "    roc_auc = auc(fpr, tpr)\n",
    "    ax = plt.subplot(2, 2, 3)\n",
    "    ax.plot(fpr, tpr, lw=2, color=\"cyan\", label=\"auc = %.3f\" % (roc_auc))\n",
    "    ax.plot([0, 1], [0, 1], linestyle=\"--\", lw=2, color=\"k\", label=\"random chance\")\n",
    "    ax.set_xlim([0, 1.0])\n",
    "    ax.set_ylim([0, 1.0])\n",
    "    ax.set_xlabel(\"false positive rate\")\n",
    "    ax.set_ylabel(\"true positive rate\")\n",
    "    ax.set_title(\"receiver operating curve\")\n",
    "    ax.legend(loc=\"lower right\")\n",
    "    plt.show()"
   ]
  },
  {
   "cell_type": "code",
   "execution_count": 35,
   "id": "7c7585af",
   "metadata": {},
   "outputs": [
    {
     "data": {
      "text/plain": [
       "tensor([1, 1, 1,  ..., 1, 1, 1], device='cuda:0')"
      ]
     },
     "execution_count": 35,
     "metadata": {},
     "output_type": "execute_result"
    }
   ],
   "source": [
    "y_test"
   ]
  },
  {
   "cell_type": "code",
   "execution_count": 36,
   "id": "21a859df",
   "metadata": {},
   "outputs": [
    {
     "data": {
      "text/plain": [
       "4441"
      ]
     },
     "execution_count": 36,
     "metadata": {},
     "output_type": "execute_result"
    }
   ],
   "source": [
    "len(torch.where(y_pred == 1)[0])"
   ]
  },
  {
   "cell_type": "code",
   "execution_count": 37,
   "id": "2377913a",
   "metadata": {},
   "outputs": [
    {
     "data": {
      "text/plain": [
       "tensor([1, 1, 1,  ..., 1, 1, 1], device='cuda:0')"
      ]
     },
     "execution_count": 37,
     "metadata": {},
     "output_type": "execute_result"
    }
   ],
   "source": [
    "y_pred"
   ]
  },
  {
   "cell_type": "code",
   "execution_count": null,
   "id": "ab0a5289",
   "metadata": {},
   "outputs": [],
   "source": []
  }
 ],
 "metadata": {
  "kernelspec": {
   "display_name": "Python 3 (ipykernel)",
   "language": "python",
   "name": "python3"
  },
  "language_info": {
   "codemirror_mode": {
    "name": "ipython",
    "version": 3
   },
   "file_extension": ".py",
   "mimetype": "text/x-python",
   "name": "python",
   "nbconvert_exporter": "python",
   "pygments_lexer": "ipython3",
   "version": "3.10.6"
  }
 },
 "nbformat": 4,
 "nbformat_minor": 5
}
