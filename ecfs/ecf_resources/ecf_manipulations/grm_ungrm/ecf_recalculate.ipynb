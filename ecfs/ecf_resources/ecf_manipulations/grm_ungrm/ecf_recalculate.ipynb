{
 "cells": [
  {
   "cell_type": "code",
   "execution_count": 36,
   "id": "a30bc7f6-e321-442c-9f04-48d40502ca49",
   "metadata": {},
   "outputs": [],
   "source": [
    "import json\n",
    "import dask\n",
    "import dask_awkward as dak\n",
    "import awkward as ak\n",
    "import numpy as np\n",
    "from coffea import dataset_tools\n",
    "from coffea.nanoevents import NanoEventsFactory, PFNanoAODSchema\n",
    "from ndcctools.taskvine import DaskVine\n",
    "import fastjet\n",
    "import time\n",
    "import os\n",
    "import warnings\n",
    "import scipy\n",
    "import pickle\n",
    "import subprocess"
   ]
  },
  {
   "cell_type": "code",
   "execution_count": 37,
   "id": "58bbfa0a-b6b4-451b-a68d-68ffcbd5056f",
   "metadata": {},
   "outputs": [],
   "source": [
    "warnings.filterwarnings(\"ignore\", \"Found duplicate branch\")\n",
    "warnings.filterwarnings(\"ignore\", \"Missing cross-reference index for\")\n",
    "warnings.filterwarnings(\"ignore\", \"dcut\")\n",
    "warnings.filterwarnings(\"ignore\", \"Please ensure\")\n",
    "warnings.filterwarnings(\"ignore\", \"invalid value\")"
   ]
  },
  {
   "cell_type": "code",
   "execution_count": 38,
   "id": "99ac47c1-2591-452b-8097-45ec7754502d",
   "metadata": {},
   "outputs": [],
   "source": [
    "path = '/project01/ndcms/cmoore24/samples/hgg'\n",
    "files = os.listdir(path)"
   ]
  },
  {
   "cell_type": "code",
   "execution_count": 39,
   "id": "15d196d2-6313-4414-b74d-eb7d4198fad2",
   "metadata": {},
   "outputs": [],
   "source": [
    "hgg = NanoEventsFactory.from_root(\n",
    "    {f'{path}/{files[0]}':\"Events\"},\n",
    "    schemaclass=PFNanoAODSchema,\n",
    "    delayed=False,\n",
    "    metadata={'dataset':'hgg'}\n",
    ").events()"
   ]
  },
  {
   "cell_type": "code",
   "execution_count": 40,
   "id": "5e9f05b8-df15-4671-b70c-0ba6370e0b74",
   "metadata": {},
   "outputs": [],
   "source": [
    "jetdef = fastjet.JetDefinition(\n",
    "    fastjet.cambridge_algorithm, 0.8\n",
    ")\n",
    "pf = ak.flatten(hgg.FatJet.constituents.pf, axis=1)\n",
    "cluster = fastjet.ClusterSequence(pf, jetdef)"
   ]
  },
  {
   "cell_type": "code",
   "execution_count": 41,
   "id": "1acea114-6da7-43eb-bc75-368629c8ca7d",
   "metadata": {},
   "outputs": [],
   "source": [
    "beta1 = cluster.exclusive_jets_energy_correlator(\n",
    "            func='generic', npoint=2, angles=1, beta=1.0, normalized=True)"
   ]
  },
  {
   "cell_type": "code",
   "execution_count": 42,
   "id": "90bb1761-20e2-4cbf-bd90-ac60bccd6419",
   "metadata": {},
   "outputs": [],
   "source": [
    "beta2 = cluster.exclusive_jets_energy_correlator(\n",
    "            func='generic', npoint=2, angles=1, beta=2.0, normalized=True)"
   ]
  },
  {
   "cell_type": "code",
   "execution_count": 50,
   "id": "289f0b80-e3be-454f-97b9-e804d538ea81",
   "metadata": {},
   "outputs": [
    {
     "data": {
      "text/html": [
       "<pre>[0.0732,\n",
       " 0.0326,\n",
       " 0.0181,\n",
       " 0.14,\n",
       " 0.036,\n",
       " 0.0433,\n",
       " 0.131,\n",
       " 0.188,\n",
       " 0.118,\n",
       " 0.00862,\n",
       " ...,\n",
       " 0.0508,\n",
       " 0.0312,\n",
       " 0.0487,\n",
       " 0.0941,\n",
       " 0.0784,\n",
       " 0.0262,\n",
       " 0.0933,\n",
       " 0.0347,\n",
       " 0.0383]\n",
       "--------------------\n",
       "type: 5250 * float64</pre>"
      ],
      "text/plain": [
       "<Array [0.0732, 0.0326, 0.0181, ..., 0.0347, 0.0383] type='5250 * float64'>"
      ]
     },
     "execution_count": 50,
     "metadata": {},
     "output_type": "execute_result"
    }
   ],
   "source": [
    "beta2"
   ]
  },
  {
   "cell_type": "code",
   "execution_count": null,
   "id": "39a9488f-3e13-4a0e-95bc-4c195af9c519",
   "metadata": {},
   "outputs": [],
   "source": []
  }
 ],
 "metadata": {
  "kernelspec": {
   "display_name": "Python 3 (ipykernel)",
   "language": "python",
   "name": "python3"
  },
  "language_info": {
   "codemirror_mode": {
    "name": "ipython",
    "version": 3
   },
   "file_extension": ".py",
   "mimetype": "text/x-python",
   "name": "python",
   "nbconvert_exporter": "python",
   "pygments_lexer": "ipython3",
   "version": "3.11.9"
  }
 },
 "nbformat": 4,
 "nbformat_minor": 5
}
