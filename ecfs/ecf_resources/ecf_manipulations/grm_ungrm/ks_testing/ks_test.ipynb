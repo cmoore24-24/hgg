{
 "cells": [
  {
   "cell_type": "code",
   "execution_count": 46,
   "id": "fd55872e-044e-4e5c-a797-721203fd835d",
   "metadata": {},
   "outputs": [],
   "source": [
    "import numpy as np\n",
    "import awkward as ak\n",
    "import hist\n",
    "import warnings\n",
    "import pickle\n",
    "from coffea.ml_tools.torch_wrapper import torch_wrapper\n",
    "import matplotlib.pyplot as plt\n",
    "import hist\n",
    "from sklearn.metrics import roc_curve, auc\n",
    "import math\n",
    "import os\n",
    "import uproot\n",
    "import json\n",
    "import math\n",
    "import gc"
   ]
  },
  {
   "cell_type": "code",
   "execution_count": 47,
   "id": "6e67395e-7942-441c-ae37-2714bf4294b1",
   "metadata": {},
   "outputs": [],
   "source": [
    "path = '/scratch365/cmoore24/training/hgg/batch2024/ml_results_checking'\n",
    "with open('../event_totals.json', 'r') as f:\n",
    "    totals = json.load(f)"
   ]
  },
  {
   "cell_type": "code",
   "execution_count": 48,
   "id": "7f39e9b1-6efd-470f-a8c6-883aab46e07d",
   "metadata": {},
   "outputs": [],
   "source": [
    "with open(f'{path}/my_xsecs.json', 'r') as f:\n",
    "    xsecs = json.load(f)"
   ]
  },
  {
   "cell_type": "code",
   "execution_count": 49,
   "id": "bf6bb10b-44ab-4bc1-bfdc-21aa2a156f53",
   "metadata": {},
   "outputs": [],
   "source": [
    "xsecs2 = {}\n",
    "for i in xsecs:\n",
    "    if type(xsecs[i]) == dict:\n",
    "        for j in xsecs[i]:\n",
    "            xsecs2[j] = xsecs[i][j]\n",
    "    else:\n",
    "        xsecs2[i] = xsecs[i]\n",
    "xsecs = xsecs2"
   ]
  },
  {
   "cell_type": "code",
   "execution_count": 50,
   "id": "c0b6e800-a4d3-4d8d-9c70-9042d7ea0b15",
   "metadata": {},
   "outputs": [],
   "source": [
    "totals2 = {}\n",
    "for i in totals:\n",
    "    if type(totals[i]) == dict:\n",
    "        for j in totals[i]:\n",
    "            totals2[f'{i}_{j}'] = totals[i][j]\n",
    "    else:\n",
    "        totals2[i] = totals[i]\n",
    "totals = totals2"
   ]
  },
  {
   "cell_type": "code",
   "execution_count": 51,
   "id": "0838f875-ec45-421b-b210-329405d11ee4",
   "metadata": {},
   "outputs": [],
   "source": [
    "totals['ww'] = totals['diboson_ww']\n",
    "totals['wz'] = totals['diboson_wz']\n",
    "totals['zz'] = totals['diboson_zz']"
   ]
  },
  {
   "cell_type": "code",
   "execution_count": 52,
   "id": "353fecff-a381-4e35-b97a-c80bbfcfd112",
   "metadata": {},
   "outputs": [],
   "source": [
    "columns=['goodjets.msoftdrop', 'goodjets.pt', (\"ungroomed_ecfs\", \"6e5^1.0\")]"
   ]
  },
  {
   "cell_type": "code",
   "execution_count": 53,
   "id": "cd272202-0bd6-45c8-85bc-d2b592b81716",
   "metadata": {},
   "outputs": [],
   "source": [
    "def read_files(input_path):\n",
    "    if ('.parquet' in os.listdir(input_path)[0]):\n",
    "        output = ak.from_parquet(f'{input_path}/*', columns=columns)\n",
    "    else:\n",
    "        output = {}\n",
    "        for i in os.listdir(input_path):\n",
    "            if ('flat400' not in i):\n",
    "                output[i] = ak.from_parquet(f'{input_path}/{i}/*', columns=columns)\n",
    "            else:\n",
    "                continue\n",
    "    return output"
   ]
  },
  {
   "cell_type": "code",
   "execution_count": 54,
   "id": "0c7cbff7-188b-452b-bbf0-18cf436c2cb7",
   "metadata": {},
   "outputs": [],
   "source": [
    "region = 'nolepton'\n",
    "path = '/project01/ndcms/cmoore24/skims/full_skims'"
   ]
  },
  {
   "cell_type": "code",
   "execution_count": 55,
   "id": "83ce8727-d1fa-4fa3-80b5-1c5832affcbf",
   "metadata": {},
   "outputs": [],
   "source": [
    "mc = read_files(f'{path}/{region}/mc')"
   ]
  },
  {
   "cell_type": "code",
   "execution_count": 56,
   "id": "5baa60c0-aa2f-484b-a186-6546a1448fad",
   "metadata": {},
   "outputs": [],
   "source": [
    "mc['ww'] = mc['diboson_ww']\n",
    "mc['wz'] = mc['diboson_wz']\n",
    "mc['zz'] = mc['diboson_zz']\n",
    "del(mc['diboson_ww'])\n",
    "del(mc['diboson_wz'])\n",
    "del(mc['diboson_zz'])"
   ]
  },
  {
   "cell_type": "code",
   "execution_count": 57,
   "id": "a3431dc6-6c84-49f2-a794-226140495bd7",
   "metadata": {},
   "outputs": [],
   "source": [
    "for i in mc:\n",
    "    if type(mc[i]) == dict:\n",
    "        for j in mc[i]:\n",
    "            for k in mc[i][j].fields:\n",
    "                if 'event' in k:\n",
    "                    continue\n",
    "                else:\n",
    "                    try:\n",
    "                        mc[i][j][k] = ak.firsts(mc[i][j][k])\n",
    "                    except:\n",
    "                        continue\n",
    "    else:\n",
    "        for j in mc[i].fields:\n",
    "            if 'event' in j:\n",
    "                continue\n",
    "            else:\n",
    "                try:\n",
    "                    mc[i][j] = ak.firsts(mc[i][j])\n",
    "                except:\n",
    "                    continue"
   ]
  },
  {
   "cell_type": "code",
   "execution_count": 58,
   "id": "d92c22a7-c592-444c-a8eb-c7413a78b17d",
   "metadata": {},
   "outputs": [],
   "source": [
    "data = read_files(f'{path}/{region}/data')"
   ]
  },
  {
   "cell_type": "code",
   "execution_count": 59,
   "id": "7e6c8514-0a18-4e62-83f8-0c3e72a64768",
   "metadata": {},
   "outputs": [],
   "source": [
    "for i in data:\n",
    "    if type(data[i]) == dict:\n",
    "        for j in data[i]:\n",
    "            for k in data[i][j].fields:\n",
    "                if 'event' in k:\n",
    "                    continue\n",
    "                else:\n",
    "                    try:\n",
    "                        data[i][j][k] = ak.firsts(data[i][j][k])\n",
    "                    except:\n",
    "                        continue\n",
    "    else:\n",
    "        for j in data[i].fields:\n",
    "            if 'event' in j:\n",
    "                continue\n",
    "            else:\n",
    "                try:\n",
    "                    data[i][j] = ak.firsts(data[i][j])\n",
    "                except:\n",
    "                    continue"
   ]
  },
  {
   "cell_type": "code",
   "execution_count": 60,
   "id": "74cf94fd-86e9-4cc4-bbee-6a0f3ebfe042",
   "metadata": {},
   "outputs": [],
   "source": [
    "upper = 1200\n",
    "lower = 500"
   ]
  },
  {
   "cell_type": "code",
   "execution_count": 61,
   "id": "104ea7c1-ee43-45a4-a464-650bd1b0d8f1",
   "metadata": {},
   "outputs": [],
   "source": [
    "for i in xsecs:\n",
    "    if type(mc[i]) == dict:\n",
    "        for j in mc[i]:\n",
    "            mask = ((mc[i][j].goodjets.pt >= lower) & (mc[i][j].goodjets.pt <= upper))\n",
    "            mc[i][j] = mc[i][j][mask]\n",
    "    else:\n",
    "        mask = ((mc[i].goodjets.pt >= lower) & (mc[i].goodjets.pt <= upper))\n",
    "        mc[i] = mc[i][mask]"
   ]
  },
  {
   "cell_type": "code",
   "execution_count": 62,
   "id": "7a8dbb6b-9bc1-4aa4-b198-218d41d1d968",
   "metadata": {},
   "outputs": [],
   "source": [
    "for i in data:\n",
    "    if type(data[i]) == dict:\n",
    "        for j in data[i]:\n",
    "            mask = ((data[i][j].goodjets.pt >= lower) & (data[i][j].goodjets.pt <= upper))\n",
    "            data[i][j] = data[i][j][mask]\n",
    "    else:\n",
    "        mask = ((data[i].goodjets.pt >= lower) & (data[i].goodjets.pt <= upper))\n",
    "        data[i] = data[i][mask]"
   ]
  },
  {
   "cell_type": "code",
   "execution_count": 63,
   "id": "62747bf6-1534-4e57-bb80-e92bcb93b129",
   "metadata": {},
   "outputs": [],
   "source": [
    "data_s = {}\n",
    "for i in data:\n",
    "    if \"Jet\" in i:\n",
    "        data_s[i] = data[i]"
   ]
  },
  {
   "cell_type": "code",
   "execution_count": 64,
   "id": "06e13118-445e-4323-a19a-38a98a81ac57",
   "metadata": {},
   "outputs": [],
   "source": [
    "data_arr = ak.concatenate([data[i] for i in data_s])"
   ]
  },
  {
   "cell_type": "code",
   "execution_count": 65,
   "id": "c0355685-ec3c-4b1f-aa19-e1dc62790618",
   "metadata": {},
   "outputs": [],
   "source": [
    "var = '6e5^1.0'"
   ]
  },
  {
   "cell_type": "code",
   "execution_count": 66,
   "id": "41886f7c-02d1-4d45-b841-e01b495498d8",
   "metadata": {},
   "outputs": [],
   "source": [
    "ecf_max = 1e-8#ak.max(data_arr.ungroomed_ecfs[var])\n",
    "ecf_min = ak.min(data_arr.ungroomed_ecfs[var])"
   ]
  },
  {
   "cell_type": "code",
   "execution_count": 67,
   "id": "37a7566f-b3a5-4c45-b813-d428fe6e6b24",
   "metadata": {},
   "outputs": [],
   "source": [
    "data_hist = hist.Hist.new.Reg(40, ecf_min, ecf_max, name='ECF', label='Data ECF').Weight()\n",
    "data_hist.fill(ECF=data_arr.ungroomed_ecfs[var]);"
   ]
  },
  {
   "cell_type": "code",
   "execution_count": 68,
   "id": "685f12f1-2d5f-4e58-a041-62b2e405bd96",
   "metadata": {},
   "outputs": [],
   "source": [
    "def ecf_hist(dataset, call):\n",
    "    make_hist = hist.Hist.new.Reg(40, ecf_min, ecf_max, name='ECF', label='MC ECF').Weight()\n",
    "    make_hist.fill(ECF=dataset.ungroomed_ecfs[var])\n",
    "    return make_hist"
   ]
  },
  {
   "cell_type": "code",
   "execution_count": 69,
   "id": "4e042713-1934-4e62-831d-b55b5564df6a",
   "metadata": {},
   "outputs": [],
   "source": [
    "mc2 = {}\n",
    "for i in xsecs:\n",
    "    if type(mc[i]) == dict:\n",
    "        for j in mc[i]:\n",
    "            mc2[j] = mc[i][j]\n",
    "    else:\n",
    "        mc2[i] = mc[i]\n",
    "mc = mc2"
   ]
  },
  {
   "cell_type": "code",
   "execution_count": 70,
   "id": "186ab947-688a-4581-8c47-809bc420d9d2",
   "metadata": {},
   "outputs": [],
   "source": [
    "hists = {}\n",
    "for i in mc:\n",
    "    if type(mc[i]) == dict:\n",
    "        hists[i] = {}\n",
    "        for j in mc[i]:\n",
    "            hists[i][j] = msd_hist(mc[i][j])\n",
    "    else:\n",
    "        hists[i] = ecf_hist(mc[i], j)"
   ]
  },
  {
   "cell_type": "code",
   "execution_count": 71,
   "id": "f8950bf7-cf29-4642-bd4d-23d1bb9298ea",
   "metadata": {},
   "outputs": [],
   "source": [
    "IL = 44.99"
   ]
  },
  {
   "cell_type": "code",
   "execution_count": 72,
   "id": "3aaee901-29e6-455a-aa54-536d58a10376",
   "metadata": {},
   "outputs": [],
   "source": [
    "scaleHgg = ((IL*(xsecs['hgg']*1000)*0.0817)/(totals['hgg']))\n",
    "hists['hgg'].view(flow=True)[:] *= scaleHgg\n",
    "\n",
    "scaleHbb = ((IL*(xsecs['hbb']*1000)*0.581)/(totals['hbb']))\n",
    "hists['hbb'].view(flow=True)[:] *= scaleHbb"
   ]
  },
  {
   "cell_type": "code",
   "execution_count": 73,
   "id": "eedcc8bc-702f-403c-88e9-503dede53dac",
   "metadata": {},
   "outputs": [],
   "source": [
    "for i in mc:\n",
    "    if (i == 'hgg') or (i == 'hbb'):\n",
    "        continue\n",
    "    else:\n",
    "        scale = ((IL*(xsecs[i]*1000))/(totals[i]))\n",
    "        hists[i].view(flow=True)[:] *= scale"
   ]
  },
  {
   "cell_type": "code",
   "execution_count": 74,
   "id": "1c901d4f-533d-42f3-8c24-b1d4a0946a4b",
   "metadata": {},
   "outputs": [],
   "source": [
    "mc_hist = sum(hists[i] for i in hists)"
   ]
  },
  {
   "cell_type": "code",
   "execution_count": 75,
   "id": "059258de-2126-4c14-91e6-f1147d13dc8c",
   "metadata": {},
   "outputs": [
    {
     "data": {
      "image/png": "[encoded data removed]",
      "text/plain": [
       "<Figure size 640x480 with 1 Axes>"
      ]
     },
     "metadata": {},
     "output_type": "display_data"
    }
   ],
   "source": [
    "mc_hist.plot1d(label='MC', density=False, yerr=False)\n",
    "data_hist.plot1d(label='Data', density=False, yerr=False)\n",
    "plt.legend()\n",
    "plt.title('MSD Data vs. MC')\n",
    "plt.show()"
   ]
  },
  {
   "cell_type": "code",
   "execution_count": 76,
   "id": "4d365970-250d-467c-b325-de66b81de07c",
   "metadata": {},
   "outputs": [
    {
     "data": {
      "image/png": "[encoded data removed]",
      "text/plain": [
       "<Figure size 640x480 with 1 Axes>"
      ]
     },
     "metadata": {},
     "output_type": "display_data"
    }
   ],
   "source": [
    "fig, ax = plt.subplots()\n",
    "\n",
    "ax.stairs(np.cumsum(mc_hist.density()), edges=mc_hist.axes[0].edges, label='MC');\n",
    "ax.stairs(np.cumsum(data_hist.density()), edges=data_hist.axes[0].edges, label='Data');\n",
    "plt.legend()\n",
    "plt.title('KS Plot: Greatest Difference')\n",
    "plt.show()"
   ]
  },
  {
   "cell_type": "code",
   "execution_count": 77,
   "id": "ed05f9c6-2a75-44cb-bbe8-ed2c6b5eb9de",
   "metadata": {},
   "outputs": [
    {
     "name": "stdout",
     "output_type": "stream",
     "text": [
      "KS Statistic: 0.011380571041197385\n",
      "Adjusted: 1.9438359458654706\n"
     ]
    }
   ],
   "source": [
    "mc_values, mc_bins = mc_hist.to_numpy()\n",
    "data_values, data_bins = data_hist.to_numpy()\n",
    "mc_density = mc_values / mc_values.sum()\n",
    "data_density = data_values / data_values.sum()\n",
    "mc_cdf = np.cumsum(mc_density)\n",
    "data_cdf = np.cumsum(data_density)\n",
    "ks_statistic = np.max(np.abs(mc_cdf - data_cdf))\n",
    "print(f\"KS Statistic: {ks_statistic}\")\n",
    "print(f\"Adjusted: {-math.log10(ks_statistic)}\")"
   ]
  },
  {
   "cell_type": "code",
   "execution_count": null,
   "id": "e589df38-171f-4c26-9e58-481276c21dd7",
   "metadata": {},
   "outputs": [],
   "source": []
  },
  {
   "cell_type": "code",
   "execution_count": null,
   "id": "2191cd4f-19c3-4f70-8581-6178eff25023",
   "metadata": {},
   "outputs": [],
   "source": []
  }
 ],
 "metadata": {
  "kernelspec": {
   "display_name": "Python 3 (ipykernel)",
   "language": "python",
   "name": "python3"
  },
  "language_info": {
   "codemirror_mode": {
    "name": "ipython",
    "version": 3
   },
   "file_extension": ".py",
   "mimetype": "text/x-python",
   "name": "python",
   "nbconvert_exporter": "python",
   "pygments_lexer": "ipython3",
   "version": "3.11.9"
  }
 },
 "nbformat": 4,
 "nbformat_minor": 5
}
