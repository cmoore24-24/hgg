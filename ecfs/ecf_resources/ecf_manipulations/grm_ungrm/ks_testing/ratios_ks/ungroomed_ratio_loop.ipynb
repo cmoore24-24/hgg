{
 "cells": [
  {
   "cell_type": "code",
   "execution_count": 1,
   "id": "dbbbfd12-f984-4fbd-8fa5-58d78461d322",
   "metadata": {},
   "outputs": [],
   "source": [
    "import numpy as np\n",
    "import awkward as ak\n",
    "import warnings\n",
    "import matplotlib.pyplot as plt\n",
    "import hist\n",
    "import math\n",
    "import os\n",
    "import json\n",
    "import gc\n",
    "import dask_awkward as dak"
   ]
  },
  {
   "cell_type": "code",
   "execution_count": 2,
   "id": "0e9ee8ec-5d3f-4822-9aba-a10beb846d7e",
   "metadata": {},
   "outputs": [],
   "source": [
    "warnings.filterwarnings('ignore', 'invalid value')\n",
    "warnings.filterwarnings('ignore', 'divide by')\n",
    "warnings.filterwarnings('ignore', 'overflow encountered')\n",
    "warnings.filterwarnings('ignore', 'Conversion of an array')"
   ]
  },
  {
   "cell_type": "code",
   "execution_count": 3,
   "id": "e3d73ff5-39d6-4f42-9afc-06a45f989c0d",
   "metadata": {},
   "outputs": [],
   "source": [
    "path = '/scratch365/cmoore24/training/hgg/batch2024/ml_results_checking'\n",
    "with open('../../event_totals.json', 'r') as f:\n",
    "    totals = json.load(f)"
   ]
  },
  {
   "cell_type": "code",
   "execution_count": 4,
   "id": "00d26f51-bc1c-4ee0-aa31-cf4d546436e8",
   "metadata": {},
   "outputs": [],
   "source": [
    "with open(f'{path}/my_xsecs.json', 'r') as f:\n",
    "    xsecs = json.load(f)"
   ]
  },
  {
   "cell_type": "code",
   "execution_count": 5,
   "id": "9504339a-fc04-43d2-91d6-2794c1ee106f",
   "metadata": {},
   "outputs": [],
   "source": [
    "xsecs2 = {}\n",
    "for i in xsecs:\n",
    "    if type(xsecs[i]) == dict:\n",
    "        for j in xsecs[i]:\n",
    "            xsecs2[j] = xsecs[i][j]\n",
    "    else:\n",
    "        xsecs2[i] = xsecs[i]\n",
    "xsecs = xsecs2"
   ]
  },
  {
   "cell_type": "code",
   "execution_count": 6,
   "id": "3c40fc1b-d448-4bfa-8f53-e47aa753c5a1",
   "metadata": {},
   "outputs": [],
   "source": [
    "totals2 = {}\n",
    "for i in totals:\n",
    "    if type(totals[i]) == dict:\n",
    "        for j in totals[i]:\n",
    "            totals2[f'{i}_{j}'] = totals[i][j]\n",
    "    else:\n",
    "        totals2[i] = totals[i]\n",
    "totals = totals2"
   ]
  },
  {
   "cell_type": "code",
   "execution_count": 7,
   "id": "53fe4abc-7d4c-4825-a70e-1d36f4126343",
   "metadata": {},
   "outputs": [],
   "source": [
    "def read_files(input_path):\n",
    "    if ('.parquet' in os.listdir(input_path)[0]):\n",
    "        output = ak.from_parquet(f'{input_path}/new*', columns=columns)\n",
    "    else:\n",
    "        output = {}\n",
    "        for i in os.listdir(input_path):\n",
    "            if ('flat400' not in i):\n",
    "                output[i] = ak.from_parquet(f'{input_path}/{i}/new*', columns=columns)\n",
    "            else:\n",
    "                continue\n",
    "    return output"
   ]
  },
  {
   "cell_type": "code",
   "execution_count": 8,
   "id": "0253204a-a7b1-4d60-91bd-fecf0a372387",
   "metadata": {},
   "outputs": [],
   "source": [
    "totals['ww'] = totals['diboson_ww']\n",
    "totals['wz'] = totals['diboson_wz']\n",
    "totals['zz'] = totals['diboson_zz']"
   ]
  },
  {
   "cell_type": "code",
   "execution_count": 9,
   "id": "60f59c9d-d837-4b94-9bd7-60fe750fd8cc",
   "metadata": {},
   "outputs": [],
   "source": [
    "region = 'nolepton'\n",
    "path = '/project01/ndcms/cmoore24/skims/full_skims'"
   ]
  },
  {
   "cell_type": "code",
   "execution_count": 10,
   "id": "b9b9995c-e61f-467e-999c-a56be87a5499",
   "metadata": {},
   "outputs": [],
   "source": [
    "def add_ratio(ratio, dataframe):\n",
    "    dash = ratio.find('/')\n",
    "    asterisk = ratio.find('*')\n",
    "    numerator = ratio[:dash]\n",
    "    denominator = ratio[dash+1:asterisk]\n",
    "    exponent = float(ratio[asterisk+2:])\n",
    "    num_ecf = dataframe[numerator]\n",
    "    den_ecf = dataframe[denominator]\n",
    "    ecf_ratio = (num_ecf / (den_ecf**exponent))   \n",
    "    return ecf_ratio"
   ]
  },
  {
   "cell_type": "code",
   "execution_count": 11,
   "id": "04e9c5ab-c932-4c9a-bb78-076618ac2fce",
   "metadata": {},
   "outputs": [],
   "source": [
    "def get_num_den(ratio):\n",
    "    dash = ratio.find('/')\n",
    "    asterisk = ratio.find('*')\n",
    "    numerator = ratio[:dash]\n",
    "    denominator = ratio[dash+1:asterisk]  \n",
    "    return (numerator, denominator)"
   ]
  },
  {
   "cell_type": "code",
   "execution_count": 12,
   "id": "dd08a7b7-a62f-4597-912d-5b42f5d33c96",
   "metadata": {},
   "outputs": [],
   "source": [
    "def firsts(mc):\n",
    "    for i in mc:\n",
    "        if type(mc[i]) == dict:\n",
    "            for j in mc[i]:\n",
    "                for k in mc[i][j].fields:\n",
    "                    if 'event' in k:\n",
    "                        continue\n",
    "                    else:\n",
    "                        try:\n",
    "                            mc[i][j][k] = ak.firsts(mc[i][j][k])\n",
    "                        except:\n",
    "                            continue\n",
    "        else:\n",
    "            for j in mc[i].fields:\n",
    "                if 'event' in j:\n",
    "                    continue\n",
    "                else:\n",
    "                    try:\n",
    "                        mc[i][j] = ak.firsts(mc[i][j])\n",
    "                    except:\n",
    "                        continue\n",
    "    return mc"
   ]
  },
  {
   "cell_type": "code",
   "execution_count": 13,
   "id": "a38922c9-511a-4471-95e2-4438a0f70a8c",
   "metadata": {},
   "outputs": [],
   "source": [
    "ecf_list = dak.from_parquet('/project01/ndcms/cmoore24/skims/full_skims/nolepton/mc/hgg/new*').ungroomed_ecfs.fields"
   ]
  },
  {
   "cell_type": "code",
   "execution_count": 14,
   "id": "f4c83e86-06b8-4334-8452-29da2f67fcf9",
   "metadata": {},
   "outputs": [],
   "source": [
    "ratios = []\n",
    "for i in range(len(ecf_list)):\n",
    "    if ecf_list[i][2] == 'e':\n",
    "        n1 = int(ecf_list[i][3])\n",
    "        a = int(ecf_list[i][:2])\n",
    "    else:\n",
    "        n1 = int(ecf_list[i][2])\n",
    "        a = int(ecf_list[i][0])\n",
    "    for j in range(len(ecf_list)):\n",
    "        if ecf_list[i] == ecf_list[j]:\n",
    "            continue\n",
    "        if ecf_list[j][2] == 'e':\n",
    "            n2 = int(ecf_list[j][3])\n",
    "            b = int(ecf_list[j][:2])\n",
    "        else:\n",
    "            n2 = int(ecf_list[j][2])\n",
    "            b = int(ecf_list[j][0])\n",
    "        if n1 < n2:\n",
    "            continue\n",
    "        else:\n",
    "            beta1 = float(ecf_list[i][-2:])\n",
    "            beta2 = float(ecf_list[j][-2:])\n",
    "            exponent = (a * beta1) / (b * beta2)\n",
    "            ratios.append(f'{ecf_list[i]}/{ecf_list[j]}**{exponent}')"
   ]
  },
  {
   "cell_type": "code",
   "execution_count": 15,
   "id": "5a84cafb-0ea3-41b1-81d0-cbdb88b5a37a",
   "metadata": {},
   "outputs": [],
   "source": [
    "upper = 1200\n",
    "lower = 500\n",
    "IL = 44.99"
   ]
  },
  {
   "cell_type": "code",
   "execution_count": 16,
   "id": "7620cf59-35c2-4ece-8431-04dccb1eb360",
   "metadata": {},
   "outputs": [],
   "source": [
    "def ecf_hist(dataset, ecf_min, ecf_max):\n",
    "    make_hist = hist.Hist.new.Reg(40, ecf_min, ecf_max, name='ECF', label='MC ECF').Weight()\n",
    "    make_hist.fill(ECF=dataset)\n",
    "    return make_hist"
   ]
  },
  {
   "cell_type": "code",
   "execution_count": 19,
   "id": "15add26f-5c2c-4c8b-bd04-9b20d76f8411",
   "metadata": {},
   "outputs": [],
   "source": [
    "ecfs_ks = {}\n",
    "with open('ungroomed_ratio_ks.json','w') as f:\n",
    "    json.dump(ecfs_ks, f)"
   ]
  },
  {
   "cell_type": "code",
   "execution_count": 20,
   "id": "8d7abf71-3676-4ae7-a198-b55bba36af63",
   "metadata": {},
   "outputs": [
    {
     "name": "stdout",
     "output_type": "stream",
     "text": [
      "17000\n",
      "17010\n",
      "17020\n"
     ]
    },
    {
     "ename": "ValueError",
     "evalue": "forward transform of start or stop invalid",
     "output_type": "error",
     "traceback": [
      "\u001b[0;31m---------------------------------------------------------------------------\u001b[0m",
      "\u001b[0;31mValueError\u001b[0m                                Traceback (most recent call last)",
      "Cell \u001b[0;32mIn[20], line 50\u001b[0m\n\u001b[1;32m     47\u001b[0m ratio_max \u001b[38;5;241m=\u001b[39m ak\u001b[38;5;241m.\u001b[39mmax(data_ratio)\n\u001b[1;32m     48\u001b[0m ratio_min \u001b[38;5;241m=\u001b[39m ak\u001b[38;5;241m.\u001b[39mmin(data_ratio)\n\u001b[0;32m---> 50\u001b[0m data_hist \u001b[38;5;241m=\u001b[39m \u001b[43mhist\u001b[49m\u001b[38;5;241;43m.\u001b[39;49m\u001b[43mHist\u001b[49m\u001b[38;5;241;43m.\u001b[39;49m\u001b[43mnew\u001b[49m\u001b[38;5;241;43m.\u001b[39;49m\u001b[43mReg\u001b[49m\u001b[43m(\u001b[49m\u001b[38;5;241;43m40\u001b[39;49m\u001b[43m,\u001b[49m\u001b[43m \u001b[49m\u001b[43mratio_min\u001b[49m\u001b[43m,\u001b[49m\u001b[43m \u001b[49m\u001b[43mratio_max\u001b[49m\u001b[43m,\u001b[49m\u001b[43m \u001b[49m\u001b[43mname\u001b[49m\u001b[38;5;241;43m=\u001b[39;49m\u001b[38;5;124;43m'\u001b[39;49m\u001b[38;5;124;43mRatio\u001b[39;49m\u001b[38;5;124;43m'\u001b[39;49m\u001b[43m,\u001b[49m\u001b[43m \u001b[49m\u001b[43mlabel\u001b[49m\u001b[38;5;241;43m=\u001b[39;49m\u001b[38;5;124;43m'\u001b[39;49m\u001b[38;5;124;43mData Ratio\u001b[39;49m\u001b[38;5;124;43m'\u001b[39;49m\u001b[43m)\u001b[49m\u001b[38;5;241m.\u001b[39mWeight()\n\u001b[1;32m     51\u001b[0m data_hist\u001b[38;5;241m.\u001b[39mfill(Ratio\u001b[38;5;241m=\u001b[39mdata_ratio)\n\u001b[1;32m     53\u001b[0m mc2 \u001b[38;5;241m=\u001b[39m {}\n",
      "File \u001b[0;32m~/miniconda3/envs/coffea/lib/python3.11/site-packages/hist/quick_construct.py:54\u001b[0m, in \u001b[0;36mQuickConstruct.Regular\u001b[0;34m(self, bins, start, stop, name, label, metadata, flow, underflow, overflow, growth, circular, transform, __dict__)\u001b[0m\n\u001b[1;32m     34\u001b[0m \u001b[38;5;28;01mdef\u001b[39;00m \u001b[38;5;21mRegular\u001b[39m(\n\u001b[1;32m     35\u001b[0m     \u001b[38;5;28mself\u001b[39m,\n\u001b[1;32m     36\u001b[0m     bins: \u001b[38;5;28mint\u001b[39m,\n\u001b[0;32m   (...)\u001b[0m\n\u001b[1;32m     49\u001b[0m     \u001b[38;5;18m__dict__\u001b[39m: \u001b[38;5;28mdict\u001b[39m[\u001b[38;5;28mstr\u001b[39m, Any] \u001b[38;5;241m|\u001b[39m \u001b[38;5;28;01mNone\u001b[39;00m \u001b[38;5;241m=\u001b[39m \u001b[38;5;28;01mNone\u001b[39;00m,\n\u001b[1;32m     50\u001b[0m ) \u001b[38;5;241m-\u001b[39m\u001b[38;5;241m>\u001b[39m ConstructProxy:\n\u001b[1;32m     51\u001b[0m     \u001b[38;5;28;01mreturn\u001b[39;00m ConstructProxy(\n\u001b[1;32m     52\u001b[0m         \u001b[38;5;28mself\u001b[39m\u001b[38;5;241m.\u001b[39mhist_class,\n\u001b[1;32m     53\u001b[0m         \u001b[38;5;241m*\u001b[39m\u001b[38;5;28mself\u001b[39m\u001b[38;5;241m.\u001b[39maxes,\n\u001b[0;32m---> 54\u001b[0m         \u001b[43maxis\u001b[49m\u001b[38;5;241;43m.\u001b[39;49m\u001b[43mRegular\u001b[49m\u001b[43m(\u001b[49m\n\u001b[1;32m     55\u001b[0m \u001b[43m            \u001b[49m\u001b[43mbins\u001b[49m\u001b[43m,\u001b[49m\n\u001b[1;32m     56\u001b[0m \u001b[43m            \u001b[49m\u001b[43mstart\u001b[49m\u001b[43m,\u001b[49m\n\u001b[1;32m     57\u001b[0m \u001b[43m            \u001b[49m\u001b[43mstop\u001b[49m\u001b[43m,\u001b[49m\n\u001b[1;32m     58\u001b[0m \u001b[43m            \u001b[49m\u001b[43mname\u001b[49m\u001b[38;5;241;43m=\u001b[39;49m\u001b[43mname\u001b[49m\u001b[43m,\u001b[49m\n\u001b[1;32m     59\u001b[0m \u001b[43m            \u001b[49m\u001b[43mlabel\u001b[49m\u001b[38;5;241;43m=\u001b[39;49m\u001b[43mlabel\u001b[49m\u001b[43m,\u001b[49m\n\u001b[1;32m     60\u001b[0m \u001b[43m            \u001b[49m\u001b[43mmetadata\u001b[49m\u001b[38;5;241;43m=\u001b[39;49m\u001b[43mmetadata\u001b[49m\u001b[43m,\u001b[49m\n\u001b[1;32m     61\u001b[0m \u001b[43m            \u001b[49m\u001b[43mflow\u001b[49m\u001b[38;5;241;43m=\u001b[39;49m\u001b[43mflow\u001b[49m\u001b[43m,\u001b[49m\n\u001b[1;32m     62\u001b[0m \u001b[43m            \u001b[49m\u001b[43munderflow\u001b[49m\u001b[38;5;241;43m=\u001b[39;49m\u001b[43munderflow\u001b[49m\u001b[43m,\u001b[49m\n\u001b[1;32m     63\u001b[0m \u001b[43m            \u001b[49m\u001b[43moverflow\u001b[49m\u001b[38;5;241;43m=\u001b[39;49m\u001b[43moverflow\u001b[49m\u001b[43m,\u001b[49m\n\u001b[1;32m     64\u001b[0m \u001b[43m            \u001b[49m\u001b[43mgrowth\u001b[49m\u001b[38;5;241;43m=\u001b[39;49m\u001b[43mgrowth\u001b[49m\u001b[43m,\u001b[49m\n\u001b[1;32m     65\u001b[0m \u001b[43m            \u001b[49m\u001b[43mcircular\u001b[49m\u001b[38;5;241;43m=\u001b[39;49m\u001b[43mcircular\u001b[49m\u001b[43m,\u001b[49m\n\u001b[1;32m     66\u001b[0m \u001b[43m            \u001b[49m\u001b[43mtransform\u001b[49m\u001b[38;5;241;43m=\u001b[39;49m\u001b[43mtransform\u001b[49m\u001b[43m,\u001b[49m\n\u001b[1;32m     67\u001b[0m \u001b[43m            \u001b[49m\u001b[38;5;18;43m__dict__\u001b[39;49m\u001b[38;5;241;43m=\u001b[39;49m\u001b[38;5;18;43m__dict__\u001b[39;49m\u001b[43m,\u001b[49m\n\u001b[1;32m     68\u001b[0m \u001b[43m        \u001b[49m\u001b[43m)\u001b[49m,\n\u001b[1;32m     69\u001b[0m     )\n",
      "File \u001b[0;32m~/miniconda3/envs/coffea/lib/python3.11/site-packages/hist/axis/__init__.py:108\u001b[0m, in \u001b[0;36mRegular.__init__\u001b[0;34m(self, bins, start, stop, name, label, metadata, flow, underflow, overflow, growth, circular, transform, __dict__)\u001b[0m\n\u001b[1;32m     90\u001b[0m \u001b[38;5;28;01mdef\u001b[39;00m \u001b[38;5;21m__init__\u001b[39m(\n\u001b[1;32m     91\u001b[0m     \u001b[38;5;28mself\u001b[39m,\n\u001b[1;32m     92\u001b[0m     bins: \u001b[38;5;28mint\u001b[39m,\n\u001b[0;32m   (...)\u001b[0m\n\u001b[1;32m    106\u001b[0m     \u001b[38;5;18m__dict__\u001b[39m: \u001b[38;5;28mdict\u001b[39m[\u001b[38;5;28mstr\u001b[39m, Any] \u001b[38;5;241m|\u001b[39m \u001b[38;5;28;01mNone\u001b[39;00m \u001b[38;5;241m=\u001b[39m \u001b[38;5;28;01mNone\u001b[39;00m,\n\u001b[1;32m    107\u001b[0m ) \u001b[38;5;241m-\u001b[39m\u001b[38;5;241m>\u001b[39m \u001b[38;5;28;01mNone\u001b[39;00m:\n\u001b[0;32m--> 108\u001b[0m     \u001b[38;5;28;43msuper\u001b[39;49m\u001b[43m(\u001b[49m\u001b[43m)\u001b[49m\u001b[38;5;241;43m.\u001b[39;49m\u001b[38;5;21;43m__init__\u001b[39;49m\u001b[43m(\u001b[49m\n\u001b[1;32m    109\u001b[0m \u001b[43m        \u001b[49m\u001b[43mbins\u001b[49m\u001b[43m,\u001b[49m\n\u001b[1;32m    110\u001b[0m \u001b[43m        \u001b[49m\u001b[43mstart\u001b[49m\u001b[43m,\u001b[49m\n\u001b[1;32m    111\u001b[0m \u001b[43m        \u001b[49m\u001b[43mstop\u001b[49m\u001b[43m,\u001b[49m\n\u001b[1;32m    112\u001b[0m \u001b[43m        \u001b[49m\u001b[43mmetadata\u001b[49m\u001b[38;5;241;43m=\u001b[39;49m\u001b[43mmetadata\u001b[49m\u001b[43m,\u001b[49m\n\u001b[1;32m    113\u001b[0m \u001b[43m        \u001b[49m\u001b[43munderflow\u001b[49m\u001b[38;5;241;43m=\u001b[39;49m\u001b[43mflow\u001b[49m\u001b[43m \u001b[49m\u001b[38;5;28;43;01mif\u001b[39;49;00m\u001b[43m \u001b[49m\u001b[43munderflow\u001b[49m\u001b[43m \u001b[49m\u001b[38;5;129;43;01mis\u001b[39;49;00m\u001b[43m \u001b[49m\u001b[38;5;28;43;01mNone\u001b[39;49;00m\u001b[43m \u001b[49m\u001b[38;5;28;43;01melse\u001b[39;49;00m\u001b[43m \u001b[49m\u001b[43munderflow\u001b[49m\u001b[43m,\u001b[49m\n\u001b[1;32m    114\u001b[0m \u001b[43m        \u001b[49m\u001b[43moverflow\u001b[49m\u001b[38;5;241;43m=\u001b[39;49m\u001b[43mflow\u001b[49m\u001b[43m \u001b[49m\u001b[38;5;28;43;01mif\u001b[39;49;00m\u001b[43m \u001b[49m\u001b[43moverflow\u001b[49m\u001b[43m \u001b[49m\u001b[38;5;129;43;01mis\u001b[39;49;00m\u001b[43m \u001b[49m\u001b[38;5;28;43;01mNone\u001b[39;49;00m\u001b[43m \u001b[49m\u001b[38;5;28;43;01melse\u001b[39;49;00m\u001b[43m \u001b[49m\u001b[43moverflow\u001b[49m\u001b[43m,\u001b[49m\n\u001b[1;32m    115\u001b[0m \u001b[43m        \u001b[49m\u001b[43mgrowth\u001b[49m\u001b[38;5;241;43m=\u001b[39;49m\u001b[43mgrowth\u001b[49m\u001b[43m,\u001b[49m\n\u001b[1;32m    116\u001b[0m \u001b[43m        \u001b[49m\u001b[43mcircular\u001b[49m\u001b[38;5;241;43m=\u001b[39;49m\u001b[43mcircular\u001b[49m\u001b[43m,\u001b[49m\n\u001b[1;32m    117\u001b[0m \u001b[43m        \u001b[49m\u001b[43mtransform\u001b[49m\u001b[38;5;241;43m=\u001b[39;49m\u001b[43mtransform\u001b[49m\u001b[43m,\u001b[49m\n\u001b[1;32m    118\u001b[0m \u001b[43m        \u001b[49m\u001b[38;5;18;43m__dict__\u001b[39;49m\u001b[38;5;241;43m=\u001b[39;49m\u001b[38;5;18;43m__dict__\u001b[39;49m\u001b[43m,\u001b[49m\n\u001b[1;32m    119\u001b[0m \u001b[43m    \u001b[49m\u001b[43m)\u001b[49m\n\u001b[1;32m    120\u001b[0m     \u001b[38;5;28mself\u001b[39m\u001b[38;5;241m.\u001b[39m_ax\u001b[38;5;241m.\u001b[39mmetadata[\u001b[38;5;124m\"\u001b[39m\u001b[38;5;124mname\u001b[39m\u001b[38;5;124m\"\u001b[39m] \u001b[38;5;241m=\u001b[39m name\n\u001b[1;32m    121\u001b[0m     \u001b[38;5;28mself\u001b[39m\u001b[38;5;241m.\u001b[39mlabel: \u001b[38;5;28mstr\u001b[39m \u001b[38;5;241m=\u001b[39m label\n",
      "File \u001b[0;32m~/miniconda3/envs/coffea/lib/python3.11/site-packages/boost_histogram/_internal/axis.py:335\u001b[0m, in \u001b[0;36mRegular.__init__\u001b[0;34m(self, bins, start, stop, metadata, underflow, overflow, growth, circular, transform, __dict__)\u001b[0m\n\u001b[1;32m    333\u001b[0m     ax \u001b[38;5;241m=\u001b[39m ca\u001b[38;5;241m.\u001b[39mregular_uoflow_growth(bins, start, stop)\n\u001b[1;32m    334\u001b[0m \u001b[38;5;28;01melif\u001b[39;00m options \u001b[38;5;241m==\u001b[39m {\u001b[38;5;124m\"\u001b[39m\u001b[38;5;124munderflow\u001b[39m\u001b[38;5;124m\"\u001b[39m, \u001b[38;5;124m\"\u001b[39m\u001b[38;5;124moverflow\u001b[39m\u001b[38;5;124m\"\u001b[39m}:\n\u001b[0;32m--> 335\u001b[0m     ax \u001b[38;5;241m=\u001b[39m \u001b[43mca\u001b[49m\u001b[38;5;241;43m.\u001b[39;49m\u001b[43mregular_uoflow\u001b[49m\u001b[43m(\u001b[49m\u001b[43mbins\u001b[49m\u001b[43m,\u001b[49m\u001b[43m \u001b[49m\u001b[43mstart\u001b[49m\u001b[43m,\u001b[49m\u001b[43m \u001b[49m\u001b[43mstop\u001b[49m\u001b[43m)\u001b[49m\n\u001b[1;32m    336\u001b[0m \u001b[38;5;28;01melif\u001b[39;00m options \u001b[38;5;241m==\u001b[39m {\u001b[38;5;124m\"\u001b[39m\u001b[38;5;124munderflow\u001b[39m\u001b[38;5;124m\"\u001b[39m}:\n\u001b[1;32m    337\u001b[0m     ax \u001b[38;5;241m=\u001b[39m ca\u001b[38;5;241m.\u001b[39mregular_uflow(bins, start, stop)\n",
      "\u001b[0;31mValueError\u001b[0m: forward transform of start or stop invalid"
     ]
    }
   ],
   "source": [
    "# with open('ungroomed_ratio_ks.json','r') as f:\n",
    "#     ecf_ks = json.load(f)\n",
    "# print(len(ecf_ks))\n",
    "    \n",
    "for k in range(17000, len(ratios)):\n",
    "\n",
    "    numerator, denominator = get_num_den(ratios[k])\n",
    "    \n",
    "    columns=['goodjets.msoftdrop', 'goodjets.pt', (\"ungroomed_ecfs\", f'{numerator}'), (\"ungroomed_ecfs\", f'{denominator}')]\n",
    "    mc = read_files(f'{path}/{region}/mc')\n",
    "    mc['ww'] = mc['diboson_ww']\n",
    "    mc['wz'] = mc['diboson_wz']\n",
    "    mc['zz'] = mc['diboson_zz']\n",
    "    del(mc['diboson_ww'])\n",
    "    del(mc['diboson_wz'])\n",
    "    del(mc['diboson_zz'])\n",
    "    mc = firsts(mc)\n",
    "    data = read_files(f'{path}/{region}/data')\n",
    "    data = firsts(data)\n",
    "\n",
    "    for i in xsecs:\n",
    "        if type(mc[i]) == dict:\n",
    "            for j in mc[i]:\n",
    "                mask = ((mc[i][j].goodjets.pt >= lower) & (mc[i][j].goodjets.pt <= upper))\n",
    "                mc[i][j] = mc[i][j][mask]\n",
    "        else:\n",
    "            mask = ((mc[i].goodjets.pt >= lower) & (mc[i].goodjets.pt <= upper))\n",
    "            mc[i] = mc[i][mask]\n",
    "\n",
    "    for i in data:\n",
    "        if type(data[i]) == dict:\n",
    "            for j in data[i]:\n",
    "                mask = ((data[i][j].goodjets.pt >= lower) & (data[i][j].goodjets.pt <= upper))\n",
    "                data[i][j] = data[i][j][mask]\n",
    "        else:\n",
    "            mask = ((data[i].goodjets.pt >= lower) & (data[i].goodjets.pt <= upper))\n",
    "            data[i] = data[i][mask]\n",
    "\n",
    "    data_s = {}\n",
    "    for i in data:\n",
    "        if \"Jet\" in i:\n",
    "            data_s[i] = data[i]  \n",
    "    data_arr = ak.concatenate([data[i] for i in data_s])\n",
    "\n",
    "    data_ratio = add_ratio(ratios[k], data_arr.ungroomed_ecfs)\n",
    "\n",
    "    ratio_max = ak.max(data_ratio)\n",
    "    ratio_min = ak.min(data_ratio)\n",
    "\n",
    "    data_hist = hist.Hist.new.Reg(40, ratio_min, ratio_max, name='Ratio', label='Data Ratio').Weight()\n",
    "    data_hist.fill(Ratio=data_ratio)\n",
    "\n",
    "    mc2 = {}\n",
    "    for i in xsecs:\n",
    "        if type(mc[i]) == dict:\n",
    "            for j in mc[i]:\n",
    "                mc2[j] = mc[i][j]\n",
    "        else:\n",
    "            mc2[i] = mc[i]\n",
    "    mc = mc2    \n",
    "\n",
    "    mc_ratios = {}\n",
    "    for i in mc:\n",
    "        if type(mc[i]) == dict:\n",
    "            for j in mc[i]:\n",
    "                mc_ratios[j] = add_ratio(ratios[k], mc[i][j].ungroomed_ecfs)\n",
    "        else:\n",
    "            mc_ratios[i] = add_ratio(ratios[k], mc[i].ungroomed_ecfs)\n",
    "\n",
    "    hists = {}\n",
    "    for i in mc:\n",
    "        if type(mc[i]) == dict:\n",
    "            hists[i] = {}\n",
    "            for j in mc[i]:\n",
    "                hists[i][j] = ecf_hist(mc_ratios[i][j], ratio_min, ratio_max)\n",
    "        else:\n",
    "            hists[i] = ecf_hist(mc_ratios[i], ratio_min, ratio_max)\n",
    "\n",
    "    scaleHgg = ((IL*(xsecs['hgg']*1000)*0.0817)/(totals['hgg']))\n",
    "    hists['hgg'].view(flow=True)[:] *= scaleHgg\n",
    "    \n",
    "    scaleHbb = ((IL*(xsecs['hbb']*1000)*0.581)/(totals['hbb']))\n",
    "    hists['hbb'].view(flow=True)[:] *= scaleHbb\n",
    "\n",
    "    for i in mc:\n",
    "        if (i == 'hgg') or (i == 'hbb'):\n",
    "            continue\n",
    "        else:\n",
    "            scale = ((IL*(xsecs[i]*1000))/(totals[i]))\n",
    "            hists[i].view(flow=True)[:] *= scale\n",
    "\n",
    "    mc_hist = sum(hists[i] for i in hists)\n",
    "\n",
    "    mc_values, mc_bins = mc_hist.to_numpy()\n",
    "    data_values, data_bins = data_hist.to_numpy()\n",
    "    mc_density = mc_values / mc_values.sum()\n",
    "    data_density = data_values / data_values.sum()\n",
    "    mc_cdf = np.cumsum(mc_density)\n",
    "    data_cdf = np.cumsum(data_density)\n",
    "    ks_statistic = np.max(np.abs(mc_cdf - data_cdf))\n",
    "    try:\n",
    "        adjusted = -math.log10(ks_statistic)\n",
    "\n",
    "        if adjusted >= 3:\n",
    "            ratio_max = np.nanpercentile(np.array(data_ratio), 99)\n",
    "            ratio_min = ak.min(data_ratio)\n",
    "        \n",
    "            data_hist = hist.Hist.new.Reg(40, ratio_min, ratio_max, name='Ratio', label='Data Ratio').Weight()\n",
    "            data_hist.fill(Ratio=data_ratio)\n",
    "\n",
    "            hists = {}\n",
    "            for i in mc:\n",
    "                if type(mc[i]) == dict:\n",
    "                    hists[i] = {}\n",
    "                    for j in mc[i]:\n",
    "                        hists[i][j] = ecf_hist(mc_ratios[i][j], ratio_min, ratio_max, 40)\n",
    "                else:\n",
    "                    hists[i] = ecf_hist(mc_ratios[i], ratio_min, ratio_max, 40)\n",
    "\n",
    "            scaleHgg = ((IL*(xsecs['hgg']*1000)*0.0817)/(totals['hgg']))\n",
    "            hists['hgg'].view(flow=True)[:] *= scaleHgg\n",
    "            \n",
    "            scaleHbb = ((IL*(xsecs['hbb']*1000)*0.581)/(totals['hbb']))\n",
    "            hists['hbb'].view(flow=True)[:] *= scaleHbb\n",
    "        \n",
    "            for i in mc:\n",
    "                if (i == 'hgg') or (i == 'hbb'):\n",
    "                    continue\n",
    "                else:\n",
    "                    scale = ((IL*(xsecs[i]*1000))/(totals[i]))\n",
    "                    hists[i].view(flow=True)[:] *= scale\n",
    "        \n",
    "            mc_hist = sum(hists[i] for i in hists)\n",
    "        \n",
    "            mc_values, mc_bins = mc_hist.to_numpy()\n",
    "            data_values, data_bins = data_hist.to_numpy()\n",
    "            mc_density = mc_values / mc_values.sum()\n",
    "            data_density = data_values / data_values.sum()\n",
    "            mc_cdf = np.cumsum(mc_density)\n",
    "            data_cdf = np.cumsum(data_density)\n",
    "            ks_statistic = np.max(np.abs(mc_cdf - data_cdf))\n",
    "            adjusted = -math.log10(ks_statistic)\n",
    "\n",
    "            with open('ungroomed_ratio_ks.json','r') as f:\n",
    "                ecf_ks = json.load(f)\n",
    "        \n",
    "            ecf_ks[ratios[k]] = adjusted\n",
    "        \n",
    "            with open('ungroomed_ratio_ks.json','w') as f:\n",
    "                json.dump(ecf_ks, f)\n",
    "\n",
    "        else:\n",
    "            with open('ungroomed_ratio_ks.json','r') as f:\n",
    "                ecf_ks = json.load(f)\n",
    "        \n",
    "            ecf_ks[ratios[k]] = adjusted\n",
    "        \n",
    "            with open('ungroomed_ratio_ks.json','w') as f:\n",
    "                json.dump(ecf_ks, f)\n",
    "    except:\n",
    "        with open('ungroomed_ratio_ks.json','r') as f:\n",
    "            ecf_ks = json.load(f)\n",
    "        \n",
    "        ecf_ks[ratios[k]] = None\n",
    "        \n",
    "        with open('ungroomed_ratio_ks.json','w') as f:\n",
    "            json.dump(ecf_ks, f)\n",
    "\n",
    "    #print(f'{var} is done')\n",
    "    gc.collect()\n",
    "    if k % 10 == 0:\n",
    "        print(k)"
   ]
  },
  {
   "cell_type": "code",
   "execution_count": null,
   "id": "ff81581c-45bd-4126-b84a-08dc4b11b190",
   "metadata": {},
   "outputs": [],
   "source": [
    "#GO THROUGH THE PASSING ONES AGAIN WITH 99% AS THE REQUIREMENT"
   ]
  },
  {
   "cell_type": "code",
   "execution_count": 21,
   "id": "1146e501-d9bd-47d8-bc6a-7368f1744efb",
   "metadata": {},
   "outputs": [
    {
     "data": {
      "text/plain": [
       "(0.0, inf)"
      ]
     },
     "execution_count": 21,
     "metadata": {},
     "output_type": "execute_result"
    }
   ],
   "source": [
    "ratio_min, ratio_max"
   ]
  },
  {
   "cell_type": "code",
   "execution_count": null,
   "id": "89aa95ee-5fe2-4875-951c-7606ef322419",
   "metadata": {},
   "outputs": [],
   "source": []
  }
 ],
 "metadata": {
  "kernelspec": {
   "display_name": "Python 3 (ipykernel)",
   "language": "python",
   "name": "python3"
  },
  "language_info": {
   "codemirror_mode": {
    "name": "ipython",
    "version": 3
   },
   "file_extension": ".py",
   "mimetype": "text/x-python",
   "name": "python",
   "nbconvert_exporter": "python",
   "pygments_lexer": "ipython3",
   "version": "3.11.9"
  }
 },
 "nbformat": 4,
 "nbformat_minor": 5
}
