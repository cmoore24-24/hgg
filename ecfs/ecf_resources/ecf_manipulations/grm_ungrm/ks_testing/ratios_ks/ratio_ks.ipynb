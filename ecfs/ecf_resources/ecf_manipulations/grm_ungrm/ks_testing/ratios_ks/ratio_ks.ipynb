{
 "cells": [
  {
   "cell_type": "code",
   "execution_count": 3,
   "id": "fecb20b8-ecda-4bc8-865c-6180b985ea39",
   "metadata": {},
   "outputs": [],
   "source": [
    "import numpy as np\n",
    "import awkward as ak\n",
    "import warnings\n",
    "import matplotlib.pyplot as plt\n",
    "import hist\n",
    "import math\n",
    "import os\n",
    "import json\n",
    "import gc\n",
    "import dask_awkward as dak"
   ]
  },
  {
   "cell_type": "code",
   "execution_count": 4,
   "id": "a882a9c6-b693-4f83-b33c-9dc78f11c467",
   "metadata": {},
   "outputs": [],
   "source": [
    "warnings.filterwarnings('ignore', 'invalid value')\n",
    "warnings.filterwarnings('ignore', 'divide by')\n",
    "warnings.filterwarnings('ignore', 'overflow encountered')\n",
    "warnings.filterwarnings('ignore', 'Conversion of an array')"
   ]
  },
  {
   "cell_type": "code",
   "execution_count": 5,
   "id": "b8b718c1-bf57-4598-9e64-018c16ac06a2",
   "metadata": {},
   "outputs": [],
   "source": [
    "path = '/scratch365/cmoore24/training/hgg/batch2024/ml_results_checking'\n",
    "with open('../../event_totals.json', 'r') as f:\n",
    "    totals = json.load(f)"
   ]
  },
  {
   "cell_type": "code",
   "execution_count": 6,
   "id": "f8d43caa-7167-4ad2-976c-be4c41bc76d6",
   "metadata": {},
   "outputs": [],
   "source": [
    "with open(f'{path}/my_xsecs.json', 'r') as f:\n",
    "    xsecs = json.load(f)"
   ]
  },
  {
   "cell_type": "code",
   "execution_count": 7,
   "id": "3e299823-49f6-411f-bf8d-91d21eb5e8ed",
   "metadata": {},
   "outputs": [],
   "source": [
    "xsecs2 = {}\n",
    "for i in xsecs:\n",
    "    if type(xsecs[i]) == dict:\n",
    "        for j in xsecs[i]:\n",
    "            xsecs2[j] = xsecs[i][j]\n",
    "    else:\n",
    "        xsecs2[i] = xsecs[i]\n",
    "xsecs = xsecs2"
   ]
  },
  {
   "cell_type": "code",
   "execution_count": 8,
   "id": "c1c26b02-2e5a-49e5-9bc6-5d0bb72ca895",
   "metadata": {},
   "outputs": [],
   "source": [
    "totals2 = {}\n",
    "for i in totals:\n",
    "    if type(totals[i]) == dict:\n",
    "        for j in totals[i]:\n",
    "            totals2[f'{i}_{j}'] = totals[i][j]\n",
    "    else:\n",
    "        totals2[i] = totals[i]\n",
    "totals = totals2"
   ]
  },
  {
   "cell_type": "code",
   "execution_count": 9,
   "id": "c4fe1472-908c-4d5b-ae96-57f7fae42e4c",
   "metadata": {},
   "outputs": [],
   "source": [
    "def read_files(input_path):\n",
    "    if ('.parquet' in os.listdir(input_path)[0]):\n",
    "        output = ak.from_parquet(f'{input_path}/new*', columns=columns)\n",
    "    else:\n",
    "        output = {}\n",
    "        for i in os.listdir(input_path):\n",
    "            if ('flat400' not in i):\n",
    "                output[i] = ak.from_parquet(f'{input_path}/{i}/new*', columns=columns)\n",
    "            else:\n",
    "                continue\n",
    "    return output"
   ]
  },
  {
   "cell_type": "code",
   "execution_count": 10,
   "id": "c5f5ef12-214c-4d4d-a803-c610f3b7b6bd",
   "metadata": {},
   "outputs": [],
   "source": [
    "totals['ww'] = totals['diboson_ww']\n",
    "totals['wz'] = totals['diboson_wz']\n",
    "totals['zz'] = totals['diboson_zz']"
   ]
  },
  {
   "cell_type": "code",
   "execution_count": 11,
   "id": "379bc7cd-671b-4ce1-855c-0a59e6ec17f7",
   "metadata": {},
   "outputs": [],
   "source": [
    "region = 'nolepton'\n",
    "path = '/project01/ndcms/cmoore24/skims/full_skims'"
   ]
  },
  {
   "cell_type": "code",
   "execution_count": 12,
   "id": "031c4687-3550-4214-b24b-b6841e7ba7a1",
   "metadata": {},
   "outputs": [],
   "source": [
    "def add_ratio(ratio, dataframe):\n",
    "    dash = ratio.find('/')\n",
    "    asterisk = ratio.find('*')\n",
    "    numerator = ratio[:dash]\n",
    "    denominator = ratio[dash+1:asterisk]\n",
    "    exponent = float(ratio[asterisk+2:])\n",
    "    num_ecf = dataframe[numerator]\n",
    "    den_ecf = dataframe[denominator]\n",
    "    ecf_ratio = (num_ecf / (den_ecf**exponent))   \n",
    "    return ecf_ratio"
   ]
  },
  {
   "cell_type": "code",
   "execution_count": 13,
   "id": "94aafd9d-c164-476a-a868-44465017ae0d",
   "metadata": {},
   "outputs": [],
   "source": [
    "def get_num_den(ratio):\n",
    "    dash = ratio.find('/')\n",
    "    asterisk = ratio.find('*')\n",
    "    numerator = ratio[:dash]\n",
    "    denominator = ratio[dash+1:asterisk]  \n",
    "    return (numerator, denominator)"
   ]
  },
  {
   "cell_type": "code",
   "execution_count": 14,
   "id": "e886e176-428e-4a44-b722-835d22e6df51",
   "metadata": {},
   "outputs": [],
   "source": [
    "def firsts(mc):\n",
    "    for i in mc:\n",
    "        if type(mc[i]) == dict:\n",
    "            for j in mc[i]:\n",
    "                for k in mc[i][j].fields:\n",
    "                    if 'event' in k:\n",
    "                        continue\n",
    "                    else:\n",
    "                        try:\n",
    "                            mc[i][j][k] = ak.firsts(mc[i][j][k])\n",
    "                        except:\n",
    "                            continue\n",
    "        else:\n",
    "            for j in mc[i].fields:\n",
    "                if 'event' in j:\n",
    "                    continue\n",
    "                else:\n",
    "                    try:\n",
    "                        mc[i][j] = ak.firsts(mc[i][j])\n",
    "                    except:\n",
    "                        continue\n",
    "    return mc"
   ]
  },
  {
   "cell_type": "code",
   "execution_count": 15,
   "id": "867fb15e-d829-46a1-948b-85a82fd7f6a9",
   "metadata": {},
   "outputs": [],
   "source": [
    "ecf_list = dak.from_parquet('/project01/ndcms/cmoore24/skims/full_skims/nolepton/mc/hgg/new*').groomed_ecfs.fields"
   ]
  },
  {
   "cell_type": "code",
   "execution_count": 16,
   "id": "44ddb0e2-02ee-4494-88e7-f56a6208f747",
   "metadata": {},
   "outputs": [],
   "source": [
    "ratios = []\n",
    "for i in range(len(ecf_list)):\n",
    "    if ecf_list[i][2] == 'e':\n",
    "        n1 = int(ecf_list[i][3])\n",
    "        a = int(ecf_list[i][:2])\n",
    "    else:\n",
    "        n1 = int(ecf_list[i][2])\n",
    "        a = int(ecf_list[i][0])\n",
    "    for j in range(len(ecf_list)):\n",
    "        if ecf_list[i] == ecf_list[j]:\n",
    "            continue\n",
    "        if ecf_list[j][2] == 'e':\n",
    "            n2 = int(ecf_list[j][3])\n",
    "            b = int(ecf_list[j][:2])\n",
    "        else:\n",
    "            n2 = int(ecf_list[j][2])\n",
    "            b = int(ecf_list[j][0])\n",
    "        if n1 < n2:\n",
    "            continue\n",
    "        else:\n",
    "            beta1 = float(ecf_list[i][-2:])\n",
    "            beta2 = float(ecf_list[j][-2:])\n",
    "            exponent = (a * beta1) / (b * beta2)\n",
    "            ratios.append(f'{ecf_list[i]}/{ecf_list[j]}**{exponent}')"
   ]
  },
  {
   "cell_type": "code",
   "execution_count": 17,
   "id": "b66ee015-5057-4140-a003-2dfc62e35d3a",
   "metadata": {},
   "outputs": [],
   "source": [
    "upper = 1200\n",
    "lower = 500\n",
    "IL = 44.99"
   ]
  },
  {
   "cell_type": "code",
   "execution_count": 18,
   "id": "e19a74cc-127f-4727-b008-7edd44eff560",
   "metadata": {},
   "outputs": [],
   "source": [
    "def ecf_hist(dataset, ecf_min, ecf_max):\n",
    "    make_hist = hist.Hist.new.Reg(40, ecf_min, ecf_max, name='ECF', label='MC ECF').Weight()\n",
    "    make_hist.fill(ECF=dataset)\n",
    "    return make_hist"
   ]
  },
  {
   "cell_type": "code",
   "execution_count": 19,
   "id": "7b3ebcfd-0648-439c-bd8f-e93061414a05",
   "metadata": {},
   "outputs": [],
   "source": [
    "# ratio = ratios[17025]\n",
    "ratio = '4e415/1e340**1.5'\n",
    "#ratio = '1e435/1e405**7.0'"
   ]
  },
  {
   "cell_type": "code",
   "execution_count": 20,
   "id": "99241154-e7d2-4828-82d8-dd519b8b9c84",
   "metadata": {},
   "outputs": [],
   "source": [
    "groom_choice = 'ungroomed'"
   ]
  },
  {
   "cell_type": "code",
   "execution_count": 21,
   "id": "0118f25a-f254-466a-bc1b-b58e24e6c117",
   "metadata": {},
   "outputs": [],
   "source": [
    "numerator, denominator = get_num_den(ratio)"
   ]
  },
  {
   "cell_type": "code",
   "execution_count": 22,
   "id": "8834cbc8-8d7b-4a02-a2a4-eb0cf349c283",
   "metadata": {},
   "outputs": [],
   "source": [
    "columns=['goodjets.msoftdrop', 'goodjets.pt', (f\"{groom_choice}_ecfs\", f'{numerator}'), (f\"{groom_choice}_ecfs\", f'{denominator}')]\n",
    "mc = read_files(f'{path}/{region}/mc')"
   ]
  },
  {
   "cell_type": "code",
   "execution_count": 23,
   "id": "23ce1fcf-59a6-4ee6-8d23-c118707a9726",
   "metadata": {},
   "outputs": [],
   "source": [
    "mc['ww'] = mc['diboson_ww']\n",
    "mc['wz'] = mc['diboson_wz']\n",
    "mc['zz'] = mc['diboson_zz']"
   ]
  },
  {
   "cell_type": "code",
   "execution_count": 24,
   "id": "cfbfac7a-c06f-4482-8115-efcd1dc985cb",
   "metadata": {},
   "outputs": [],
   "source": [
    "del(mc['diboson_ww'])\n",
    "del(mc['diboson_wz'])\n",
    "del(mc['diboson_zz'])"
   ]
  },
  {
   "cell_type": "code",
   "execution_count": 25,
   "id": "d60c20af-0996-45f2-a48a-4a755a0b0abe",
   "metadata": {},
   "outputs": [],
   "source": [
    "mc = firsts(mc)"
   ]
  },
  {
   "cell_type": "code",
   "execution_count": 26,
   "id": "20e5cf34-236d-4210-8461-0b38cb6f6137",
   "metadata": {},
   "outputs": [],
   "source": [
    "data = read_files(f'{path}/{region}/data')\n",
    "data = firsts(data)"
   ]
  },
  {
   "cell_type": "code",
   "execution_count": 27,
   "id": "5f1091ac-51f0-4e29-9b18-64d462cc7c99",
   "metadata": {},
   "outputs": [],
   "source": [
    "for i in xsecs:\n",
    "    if type(mc[i]) == dict:\n",
    "        for j in mc[i]:\n",
    "            mask = ((mc[i][j].goodjets.pt >= lower) & (mc[i][j].goodjets.pt <= upper))\n",
    "            mc[i][j] = mc[i][j][mask]\n",
    "    else:\n",
    "        mask = ((mc[i].goodjets.pt >= lower) & (mc[i].goodjets.pt <= upper))\n",
    "        mc[i] = mc[i][mask]"
   ]
  },
  {
   "cell_type": "code",
   "execution_count": 28,
   "id": "aa2c27c6-a2a2-49f5-8bab-7edf5775e60b",
   "metadata": {},
   "outputs": [],
   "source": [
    "for i in data:\n",
    "    if type(data[i]) == dict:\n",
    "        for j in data[i]:\n",
    "            mask = ((data[i][j].goodjets.pt >= lower) & (data[i][j].goodjets.pt <= upper))\n",
    "            data[i][j] = data[i][j][mask]\n",
    "    else:\n",
    "        mask = ((data[i].goodjets.pt >= lower) & (data[i].goodjets.pt <= upper))\n",
    "        data[i] = data[i][mask]"
   ]
  },
  {
   "cell_type": "code",
   "execution_count": 29,
   "id": "0b7f0083-f435-4c58-a02f-1ecba33fe724",
   "metadata": {},
   "outputs": [],
   "source": [
    "data_s = {}\n",
    "for i in data:\n",
    "    if \"Jet\" in i:\n",
    "        data_s[i] = data[i]  \n",
    "data_arr = ak.concatenate([data[i] for i in data_s])"
   ]
  },
  {
   "cell_type": "code",
   "execution_count": 30,
   "id": "149a42bd-30f8-4681-976d-80ddf3800323",
   "metadata": {},
   "outputs": [],
   "source": [
    "data_ratio = add_ratio(ratio, data_arr[f'{groom_choice}_ecfs'])"
   ]
  },
  {
   "cell_type": "code",
   "execution_count": 31,
   "id": "d3453a26-2daa-4db1-a5cf-505abdc52bdd",
   "metadata": {},
   "outputs": [],
   "source": [
    "# ratio_max = np.nanpercentile(np.array(data_ratio), 100)\n",
    "ratio_max = ak.max(data_ratio)\n",
    "ratio_min = ak.min(data_ratio)"
   ]
  },
  {
   "cell_type": "code",
   "execution_count": 32,
   "id": "941b0e72-d2fb-4d81-a77b-e8db3f2e79c3",
   "metadata": {},
   "outputs": [
    {
     "data": {
      "text/plain": [
       "(0.0, 53.99875709631991)"
      ]
     },
     "execution_count": 32,
     "metadata": {},
     "output_type": "execute_result"
    }
   ],
   "source": [
    "ratio_min, ratio_max"
   ]
  },
  {
   "cell_type": "code",
   "execution_count": 33,
   "id": "d0510f4d-c63b-4563-92e2-2d403bc4ef69",
   "metadata": {},
   "outputs": [],
   "source": [
    "data_hist = hist.Hist.new.Reg(40, ratio_min, ratio_max, name='Ratio', label='Data Ratio').Weight()\n",
    "data_hist.fill(Ratio=data_ratio);"
   ]
  },
  {
   "cell_type": "code",
   "execution_count": 34,
   "id": "caf0448c-e955-4847-826a-8171f2dd7520",
   "metadata": {},
   "outputs": [],
   "source": [
    "ratio_min, ratio_max = adjust_histogram_range(data_hist, data_ratio, ratio_min, ratio_max)\n",
    "#data_ratio = data_ratio[data_ratio <= ratio_max]"
   ]
  },
  {
   "cell_type": "code",
   "execution_count": 35,
   "id": "a4c8bb25-5fb5-46f3-8e3a-341913d7824b",
   "metadata": {},
   "outputs": [
    {
     "data": {
      "text/plain": [
       "(0.0, 53.99875709631991)"
      ]
     },
     "execution_count": 35,
     "metadata": {},
     "output_type": "execute_result"
    }
   ],
   "source": [
    "ratio_min, ratio_max"
   ]
  },
  {
   "cell_type": "code",
   "execution_count": 36,
   "id": "a75ff919-7991-43d3-80b7-64cae636da13",
   "metadata": {},
   "outputs": [],
   "source": [
    "# ratio_max = 4"
   ]
  },
  {
   "cell_type": "code",
   "execution_count": 37,
   "id": "0e7915ab-f8ce-4bdb-9bf4-319654ee6fba",
   "metadata": {},
   "outputs": [],
   "source": [
    "data_hist = hist.Hist.new.Reg(40, ratio_min, ratio_max, name='Ratio', label='Data Ratio').Weight()\n",
    "data_hist.fill(Ratio=data_ratio);"
   ]
  },
  {
   "cell_type": "code",
   "execution_count": 38,
   "id": "0b69497d-fe33-4843-89a7-9e603270af64",
   "metadata": {},
   "outputs": [],
   "source": [
    "mc2 = {}\n",
    "for i in xsecs:\n",
    "    if type(mc[i]) == dict:\n",
    "        for j in mc[i]:\n",
    "            mc2[j] = mc[i][j]\n",
    "    else:\n",
    "        mc2[i] = mc[i]\n",
    "mc = mc2    "
   ]
  },
  {
   "cell_type": "code",
   "execution_count": 39,
   "id": "822f064a-bb80-446e-a0c7-5abfbfdb6533",
   "metadata": {},
   "outputs": [],
   "source": [
    "mc_ratios = {}\n",
    "for i in mc:\n",
    "    if type(mc[i]) == dict:\n",
    "        for j in mc[i]:\n",
    "            mc_ratios[j] = add_ratio(ratio, mc[i][j][f'{groom_choice}_ecfs'])\n",
    "    else:\n",
    "        mc_ratios[i] = add_ratio(ratio, mc[i][f'{groom_choice}_ecfs'])"
   ]
  },
  {
   "cell_type": "code",
   "execution_count": 40,
   "id": "bac56019-37bd-4985-bdac-1179b5ed1202",
   "metadata": {},
   "outputs": [],
   "source": [
    "# for i in mc_ratios:\n",
    "#     mc_ratios[i] = mc_ratios[i][mc_ratios[i] <= ratio_max]"
   ]
  },
  {
   "cell_type": "code",
   "execution_count": 41,
   "id": "3b502524-2039-4695-8fa8-9585e33db591",
   "metadata": {},
   "outputs": [],
   "source": [
    "hists = {}\n",
    "for i in mc:\n",
    "    if type(mc[i]) == dict:\n",
    "        hists[i] = {}\n",
    "        for j in mc[i]:\n",
    "            hists[i][j] = ecf_hist(mc_ratios[i][j], ratio_min, ratio_max)\n",
    "    else:\n",
    "        hists[i] = ecf_hist(mc_ratios[i], ratio_min, ratio_max)"
   ]
  },
  {
   "cell_type": "code",
   "execution_count": 42,
   "id": "e95f9b33-1ef8-4347-b1a3-da11fa7ea64c",
   "metadata": {},
   "outputs": [],
   "source": [
    "scaleHgg = ((IL*(xsecs['hgg']*1000)*0.0817)/(totals['hgg']))\n",
    "hists['hgg'].view(flow=True)[:] *= scaleHgg\n",
    "\n",
    "scaleHbb = ((IL*(xsecs['hbb']*1000)*0.581)/(totals['hbb']))\n",
    "hists['hbb'].view(flow=True)[:] *= scaleHbb"
   ]
  },
  {
   "cell_type": "code",
   "execution_count": 43,
   "id": "5b545cf9-70bb-4822-8aa8-b88259efd1e8",
   "metadata": {},
   "outputs": [],
   "source": [
    "for i in mc:\n",
    "    if (i == 'hgg') or (i == 'hbb'):\n",
    "        continue\n",
    "    else:\n",
    "        scale = ((IL*(xsecs[i]*1000))/(totals[i]))\n",
    "        hists[i].view(flow=True)[:] *= scale\n",
    "\n",
    "mc_hist = sum(hists[i] for i in hists)"
   ]
  },
  {
   "cell_type": "code",
   "execution_count": 44,
   "id": "950efa4e-a22c-4df0-96a9-aec235ccd823",
   "metadata": {},
   "outputs": [
    {
     "data": {
      "text/plain": [
       "2.7781866076364574"
      ]
     },
     "execution_count": 44,
     "metadata": {},
     "output_type": "execute_result"
    }
   ],
   "source": [
    "mc_values, mc_bins = mc_hist.to_numpy()\n",
    "data_values, data_bins = data_hist.to_numpy()\n",
    "mc_density = mc_values / mc_values.sum()\n",
    "data_density = data_values / data_values.sum()\n",
    "mc_cdf = np.cumsum(mc_density)\n",
    "data_cdf = np.cumsum(data_density)\n",
    "ks_statistic = np.max(np.abs(mc_cdf - data_cdf))\n",
    "adjusted = -math.log10(ks_statistic)\n",
    "adjusted"
   ]
  },
  {
   "cell_type": "code",
   "execution_count": 45,
   "id": "55e51fa1-9fc4-45ff-baaa-d8bfab4e081e",
   "metadata": {},
   "outputs": [
    {
     "data": {
      "image/png": "[encoded data removed]",
      "text/plain": [
       "<Figure size 640x480 with 1 Axes>"
      ]
     },
     "metadata": {},
     "output_type": "display_data"
    }
   ],
   "source": [
    "mc_hist.plot1d(label='MC', density=False, yerr=False)\n",
    "data_hist.plot1d(label='Data', density=False, yerr=False)\n",
    "plt.legend()\n",
    "plt.title('MSD Data vs. MC')\n",
    "plt.show()"
   ]
  },
  {
   "cell_type": "code",
   "execution_count": 46,
   "id": "ced2925b-0c63-43dd-8aa3-69f710b860cd",
   "metadata": {},
   "outputs": [
    {
     "data": {
      "image/png": "[encoded data removed]",
      "text/plain": [
       "<Figure size 640x480 with 1 Axes>"
      ]
     },
     "metadata": {},
     "output_type": "display_data"
    }
   ],
   "source": [
    "mc_hist.plot1d(label='MC', density=True, yerr=False)\n",
    "data_hist.plot1d(label='Data', density=True, yerr=False)\n",
    "plt.legend()\n",
    "plt.title('MSD Data vs. MC')\n",
    "plt.show()"
   ]
  },
  {
   "cell_type": "code",
   "execution_count": null,
   "id": "35b9f52f-8006-4f4f-afb7-a5cd2357b20a",
   "metadata": {},
   "outputs": [],
   "source": [
    "#GO THROUGH THE PASSING ONES AGAIN WITH 99% AS THE REQUIREMENT"
   ]
  },
  {
   "cell_type": "code",
   "execution_count": null,
   "id": "dbb7cd23-d0d9-48d0-ae87-8443d263efae",
   "metadata": {},
   "outputs": [],
   "source": []
  },
  {
   "cell_type": "code",
   "execution_count": null,
   "id": "e816aaad-fb35-45e6-afd0-d83c9c9d0195",
   "metadata": {},
   "outputs": [],
   "source": []
  },
  {
   "cell_type": "code",
   "execution_count": null,
   "id": "70a6915c-e6b2-48ad-a051-bbb59327cac0",
   "metadata": {},
   "outputs": [],
   "source": []
  },
  {
   "cell_type": "code",
   "execution_count": 467,
   "id": "33ac5c25-670c-438a-9142-da3ab723c104",
   "metadata": {},
   "outputs": [],
   "source": [
    "def adjust_histogram_range(data_hist, data_ratio, ratio_min, ratio_max, percentile=99):\n",
    "    bin_values, bin_edges = data_hist.to_numpy()\n",
    "    total_entries = bin_values.sum()\n",
    "    if np.any(bin_values > 0.60 * total_entries):\n",
    "        print(bin_values[bin_values > 0.60 * total_entries]/total_entries)\n",
    "        print('Adjusting!')\n",
    "        new_max = np.nanpercentile(np.array(data_ratio), percentile)\n",
    "        print(new_max)\n",
    "        return ratio_min, new_max\n",
    "    else:\n",
    "        return ratio_min, ratio_max"
   ]
  },
  {
   "cell_type": "code",
   "execution_count": 2,
   "id": "aad7c542-b1e0-4b21-a848-2be991b0f902",
   "metadata": {},
   "outputs": [],
   "source": [
    "def adjust_histogram_range(data_hist, data_ratio, ratio_min, ratio_max, percentile=99):\n",
    "    bin_values, bin_edges = data_hist.to_numpy()\n",
    "    total_entries = bin_values.sum()\n",
    "    if np.any(bin_values > 0.60 * total_entries):\n",
    "        print('Adjusting!')\n",
    "        new_max = np.nanpercentile(np.array(data_ratio), percentile)\n",
    "        return ratio_min, new_max\n",
    "    else:\n",
    "        return ratio_min, ratio_max"
   ]
  },
  {
   "cell_type": "code",
   "execution_count": null,
   "id": "fb98c65d-2707-49d4-8914-f6c51155c457",
   "metadata": {},
   "outputs": [],
   "source": []
  },
  {
   "cell_type": "code",
   "execution_count": null,
   "id": "51543d34-9552-48d5-a449-8fdbe99e5b40",
   "metadata": {},
   "outputs": [],
   "source": []
  }
 ],
 "metadata": {
  "kernelspec": {
   "display_name": "Python 3 (ipykernel)",
   "language": "python",
   "name": "python3"
  },
  "language_info": {
   "codemirror_mode": {
    "name": "ipython",
    "version": 3
   },
   "file_extension": ".py",
   "mimetype": "text/x-python",
   "name": "python",
   "nbconvert_exporter": "python",
   "pygments_lexer": "ipython3",
   "version": "3.11.9"
  }
 },
 "nbformat": 4,
 "nbformat_minor": 5
}
