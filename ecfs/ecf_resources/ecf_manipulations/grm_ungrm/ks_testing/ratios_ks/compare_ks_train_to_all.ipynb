{
 "cells": [
  {
   "cell_type": "code",
   "execution_count": 1,
   "id": "a17bbcb3-ae0c-43b8-b900-c271f8689fee",
   "metadata": {},
   "outputs": [],
   "source": [
    "import json\n",
    "import pickle\n",
    "import matplotlib.pyplot as plt\n",
    "import numpy as np"
   ]
  },
  {
   "cell_type": "code",
   "execution_count": 2,
   "id": "d214ae67-6346-42df-a1df-fe6840cbff10",
   "metadata": {},
   "outputs": [],
   "source": [
    "with open('all_ungroomed_ratios.json', 'r') as f:\n",
    "    ugm = json.load(f)"
   ]
  },
  {
   "cell_type": "code",
   "execution_count": 3,
   "id": "0f53939b-d49c-4a4e-a8f9-42d01afc140d",
   "metadata": {},
   "outputs": [],
   "source": [
    "with open('all_groomed_ratios.json', 'r') as f:\n",
    "    grm = json.load(f)"
   ]
  },
  {
   "cell_type": "code",
   "execution_count": 4,
   "id": "a4de4783-e044-4c00-ac46-be8ef7e57727",
   "metadata": {},
   "outputs": [],
   "source": [
    "with open('/scratch365/cmoore24/training/hgg/batch2025/ml_results_check/sub_ratios/100.pkl', 'rb') as f:\n",
    "    train_ratios = pickle.load(f)\n",
    "with open('/scratch365/cmoore24/training/hgg/batch2025/ml_results_check/sub_ratios/1291.pkl', 'rb') as f:\n",
    "    test_ratios = pickle.load(f)"
   ]
  },
  {
   "cell_type": "code",
   "execution_count": 5,
   "id": "e15d01ae-f9ac-4b51-9152-b1a63900bc1b",
   "metadata": {},
   "outputs": [
    {
     "data": {
      "text/plain": [
       "'ugm_1e525/3e505**1_6666666666666667'"
      ]
     },
     "execution_count": 5,
     "metadata": {},
     "output_type": "execute_result"
    }
   ],
   "source": [
    "train_ratios[0]"
   ]
  },
  {
   "cell_type": "code",
   "execution_count": 6,
   "id": "c74542b2-f988-4fb7-afd2-5d413f02a605",
   "metadata": {},
   "outputs": [],
   "source": [
    "train_ks = {}\n",
    "for i in train_ratios:\n",
    "    if 'ugm' in i:\n",
    "        train_ks[i] = ugm[i[4:].replace('_','.')]\n",
    "    elif 'grm' in i:\n",
    "        train_ks[i] = grm[i[4:].replace('_','.')]\n",
    "\n",
    "test_ks = {}\n",
    "for i in test_ratios:\n",
    "    if 'ugm' in i:\n",
    "        test_ks[i] = ugm[i[4:].replace('_','.')]\n",
    "    elif 'grm' in i:\n",
    "        test_ks[i] = grm[i[4:].replace('_','.')]"
   ]
  },
  {
   "cell_type": "code",
   "execution_count": 7,
   "id": "c664d365-4b42-48f4-853c-866f0f6d490c",
   "metadata": {},
   "outputs": [],
   "source": [
    "ugm_ks = [i for i in list(ugm.values()) if type(i) == float]\n",
    "grm_ks = [i for i in list(grm.values()) if type(i) == float]"
   ]
  },
  {
   "cell_type": "code",
   "execution_count": 8,
   "id": "3108afb8-5477-4108-abda-cd45623b00c1",
   "metadata": {
    "scrolled": true
   },
   "outputs": [
    {
     "data": {
      "text/plain": [
       "(1.131223737660445, 3.8935736438663513)"
      ]
     },
     "execution_count": 8,
     "metadata": {},
     "output_type": "execute_result"
    }
   ],
   "source": [
    "min(ugm_ks), max(ugm_ks)"
   ]
  },
  {
   "cell_type": "code",
   "execution_count": 9,
   "id": "8d1fd522-00e3-49f4-aa94-ea892b5bc23e",
   "metadata": {},
   "outputs": [
    {
     "data": {
      "text/plain": [
       "(1.2272016665556933, 4.280561149856297)"
      ]
     },
     "execution_count": 9,
     "metadata": {},
     "output_type": "execute_result"
    }
   ],
   "source": [
    "min(grm_ks), max(grm_ks)"
   ]
  },
  {
   "cell_type": "code",
   "execution_count": 10,
   "id": "c71625d9-46fd-462e-97e7-59b6403704fb",
   "metadata": {},
   "outputs": [],
   "source": [
    "to_hist = grm_ks + ugm_ks"
   ]
  },
  {
   "cell_type": "code",
   "execution_count": 25,
   "id": "934d0a93-4b0e-4196-8d6a-3414ea35c9fb",
   "metadata": {},
   "outputs": [
    {
     "data": {
      "image/png": "[encoded data removed]",
      "text/plain": [
       "<Figure size 640x480 with 1 Axes>"
      ]
     },
     "metadata": {},
     "output_type": "display_data"
    }
   ],
   "source": [
    "# plt.hist(to_hist, bins=40, label='All ECF Ratios', density=True, histtype='step')\n",
    "plt.hist(list(train_ks.values()), bins=10, label='100 ECFs', density=True, histtype='step')\n",
    "plt.hist(list(test_ks.values()), bins=20, label='1291 ECF Ratios', density=True, histtype='step')\n",
    "plt.title('Distribution of KS Values (Density)')\n",
    "plt.xlabel('KS Value')\n",
    "plt.legend()\n",
    "plt.show()"
   ]
  },
  {
   "cell_type": "code",
   "execution_count": 12,
   "id": "26c2913e-052a-4745-a24d-e6adf7f4ddf3",
   "metadata": {},
   "outputs": [
    {
     "data": {
      "text/plain": [
       "(2.000417394562464, 2.4592162176607397)"
      ]
     },
     "execution_count": 12,
     "metadata": {},
     "output_type": "execute_result"
    }
   ],
   "source": [
    "min(list(train_ks.values())), max(list(train_ks.values()))"
   ]
  },
  {
   "cell_type": "code",
   "execution_count": 13,
   "id": "31c6590b-4af4-4932-b669-ebcdc67c958c",
   "metadata": {},
   "outputs": [
    {
     "data": {
      "text/plain": [
       "(2.0001306744783625, 3.3295705521746344)"
      ]
     },
     "execution_count": 13,
     "metadata": {},
     "output_type": "execute_result"
    }
   ],
   "source": [
    "min(list(test_ks.values())), max(list(test_ks.values()))"
   ]
  },
  {
   "cell_type": "code",
   "execution_count": 14,
   "id": "4ae10bfb-43fd-49ac-9799-82f3bcbcce50",
   "metadata": {},
   "outputs": [
    {
     "data": {
      "text/plain": [
       "(37, 63)"
      ]
     },
     "execution_count": 14,
     "metadata": {},
     "output_type": "execute_result"
    }
   ],
   "source": [
    "groomed = 0\n",
    "ungroomed = 0\n",
    "for i in train_ks:\n",
    "    if 'ugm' in i:\n",
    "        ungroomed += 1\n",
    "    elif 'grm' in i:\n",
    "        groomed += 1\n",
    "groomed, ungroomed"
   ]
  },
  {
   "cell_type": "code",
   "execution_count": 15,
   "id": "55cc42f2-7637-43f0-bbcb-3ccd7bb56934",
   "metadata": {},
   "outputs": [],
   "source": [
    "def entry_check(entry):\n",
    "\n",
    "    dash = entry.find('/')\n",
    "    asterisk = entry.find('*')\n",
    "    numerator = entry[4:dash]\n",
    "    denominator = entry[dash+1:asterisk]\n",
    "    exponent = entry[asterisk+2:].replace('_','.')\n",
    "\n",
    "    if float(exponent) > 3:\n",
    "        return 0, 0\n",
    "\n",
    "    if numerator[1] == 'e':\n",
    "        nume = int(numerator[2])\n",
    "\n",
    "    elif numerator[2] == 'e':\n",
    "        nume = int(numerator[3])\n",
    "\n",
    "    if denominator[1] == 'e':\n",
    "        deno = int(denominator[2])\n",
    "\n",
    "    elif denominator[2] == 'e':\n",
    "        deno = int(denominator[3])\n",
    "\n",
    "    return nume, deno"
   ]
  },
  {
   "cell_type": "code",
   "execution_count": 16,
   "id": "97b9cd37-cc04-4443-862b-0f22e249bb74",
   "metadata": {},
   "outputs": [],
   "source": [
    "counts = {\n",
    "    \"5,5\": [0, 0.0],\n",
    "    \"5,4\": [0, 0.0],\n",
    "    \"5,3\": [0, 0.0],\n",
    "    \"5,2\": [0, 0.0],\n",
    "    \"4,4\": [0, 0.0],\n",
    "    \"4,3\": [0, 0.0],\n",
    "    \"4,2\": [0, 0.0],\n",
    "    \"3,3\": [0, 0.0],\n",
    "    \"3,2\": [0, 0.0],\n",
    "    \"2,2\": [0, 0.0],\n",
    "}\n",
    "\n",
    "total = len(train_ks)\n",
    "\n",
    "for i in train_ks:\n",
    "    ra = entry_check(i)\n",
    "    key = f\"{ra[0]},{ra[1]}\"\n",
    "    if key in counts:\n",
    "        counts[key][0] += 1\n",
    "\n",
    "for key in counts:\n",
    "    counts[key][1] = counts[key][0] / total if total > 0 else 0.0"
   ]
  },
  {
   "cell_type": "code",
   "execution_count": 17,
   "id": "19682f02-6408-4e5d-bf6c-9d06951e7f20",
   "metadata": {},
   "outputs": [
    {
     "data": {
      "text/plain": [
       "array([31., 33., 19.,  1.,  8.,  7.,  0.,  1.,  0.,  0.])"
      ]
     },
     "execution_count": 17,
     "metadata": {},
     "output_type": "execute_result"
    }
   ],
   "source": [
    "np.array(list(counts.values()))[:,0]"
   ]
  },
  {
   "cell_type": "code",
   "execution_count": 22,
   "id": "6d4ce453-81b9-49ee-b3e0-f7de772e7c78",
   "metadata": {},
   "outputs": [
    {
     "data": {
      "image/png": "[encoded data removed]",
      "text/plain": [
       "<Figure size 640x480 with 1 Axes>"
      ]
     },
     "metadata": {},
     "output_type": "display_data"
    }
   ],
   "source": [
    "plt.bar(x=list(counts.keys()), height=np.array(list(counts.values()))[:,0])\n",
    "plt.title('Distribution of 100 ECFs')\n",
    "plt.xlabel('Ratio Order')\n",
    "plt.show()"
   ]
  },
  {
   "cell_type": "code",
   "execution_count": 19,
   "id": "e7f15548-1d0f-4acd-99b7-92f3f1211e61",
   "metadata": {},
   "outputs": [],
   "source": [
    "test_counts = {\n",
    "    \"5,5\": [0, 0.0],\n",
    "    \"5,4\": [0, 0.0],\n",
    "    \"5,3\": [0, 0.0],\n",
    "    \"5,2\": [0, 0.0],\n",
    "    \"4,4\": [0, 0.0],\n",
    "    \"4,3\": [0, 0.0],\n",
    "    \"4,2\": [0, 0.0],\n",
    "    \"3,3\": [0, 0.0],\n",
    "    \"3,2\": [0, 0.0],\n",
    "    \"2,2\": [0, 0.0],\n",
    "}\n",
    "\n",
    "total = len(test_ks)\n",
    "\n",
    "for i in test_ks:\n",
    "    ra = entry_check(i)\n",
    "    key = f\"{ra[0]},{ra[1]}\"\n",
    "    if key in test_counts:\n",
    "        test_counts[key][0] += 1\n",
    "\n",
    "for key in test_counts:\n",
    "    test_counts[key][1] = test_counts[key][0] / total if total > 0 else 0.0"
   ]
  },
  {
   "cell_type": "code",
   "execution_count": null,
   "id": "190ea6d6-5938-4a55-8207-4602d098eae5",
   "metadata": {},
   "outputs": [],
   "source": []
  },
  {
   "cell_type": "code",
   "execution_count": 20,
   "id": "4dc0f956-ee7b-431f-a6a6-b708bb22f558",
   "metadata": {},
   "outputs": [
    {
     "data": {
      "image/png": "[encoded data removed]",
      "text/plain": [
       "<Figure size 640x480 with 1 Axes>"
      ]
     },
     "metadata": {},
     "output_type": "display_data"
    }
   ],
   "source": [
    "plt.bar(x=list(test_counts.keys()), height=np.array(list(test_counts.values()))[:,0])\n",
    "plt.title('Distribution of ECFs')\n",
    "plt.xlabel('Ratio Order')\n",
    "plt.show()"
   ]
  },
  {
   "cell_type": "code",
   "execution_count": 23,
   "id": "41784262-0a0f-45ec-a4a1-bd90b7859c43",
   "metadata": {},
   "outputs": [
    {
     "data": {
      "image/png": "[encoded data removed]",
      "text/plain": [
       "<Figure size 640x480 with 1 Axes>"
      ]
     },
     "metadata": {},
     "output_type": "display_data"
    }
   ],
   "source": [
    "labels = list(counts.keys())\n",
    "\n",
    "x = np.arange(len(labels))\n",
    "width = 0.35\n",
    "\n",
    "fig, ax = plt.subplots()\n",
    "ax.bar(x - width/2, np.array(list(counts.values()))[:,1], width, label='100')\n",
    "ax.bar(x + width/2, np.array(list(test_counts.values()))[:,1], width, label='1291')\n",
    "\n",
    "ax.set_xticks(x)\n",
    "ax.set_xticklabels(labels, rotation=0)\n",
    "ax.set_title('Proportional Makeup of ECF Datasets')\n",
    "ax.legend()\n",
    "ax.set_xlabel('Ratio Order')\n",
    "\n",
    "plt.tight_layout()\n",
    "plt.show()"
   ]
  },
  {
   "cell_type": "code",
   "execution_count": null,
   "id": "a2f1a81e-cea5-4aeb-b11b-e1750aad77ee",
   "metadata": {},
   "outputs": [],
   "source": []
  },
  {
   "cell_type": "code",
   "execution_count": null,
   "id": "2c10fd82-ee17-47de-a715-78bdfcd56dc6",
   "metadata": {},
   "outputs": [],
   "source": []
  },
  {
   "cell_type": "code",
   "execution_count": null,
   "id": "4cbf520a-3ac9-456a-842f-95a039951f37",
   "metadata": {},
   "outputs": [],
   "source": []
  }
 ],
 "metadata": {
  "kernelspec": {
   "display_name": "Python 3 (ipykernel)",
   "language": "python",
   "name": "python3"
  },
  "language_info": {
   "codemirror_mode": {
    "name": "ipython",
    "version": 3
   },
   "file_extension": ".py",
   "mimetype": "text/x-python",
   "name": "python",
   "nbconvert_exporter": "python",
   "pygments_lexer": "ipython3",
   "version": "3.11.9"
  }
 },
 "nbformat": 4,
 "nbformat_minor": 5
}
