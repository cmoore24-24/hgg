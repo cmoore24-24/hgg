{
 "cells": [
  {
   "cell_type": "code",
   "execution_count": 1,
   "id": "f7c9d6e8-8272-4e21-b5c3-5244cc11be56",
   "metadata": {},
   "outputs": [],
   "source": [
    "import awkward as ak\n",
    "import json\n",
    "import pandas as pd\n",
    "import numpy as np\n",
    "import pickle\n",
    "import re"
   ]
  },
  {
   "cell_type": "code",
   "execution_count": 28,
   "id": "f0d3e6cd-b120-4f65-87ae-7b3f0bf67ce3",
   "metadata": {},
   "outputs": [],
   "source": [
    "with open('groomed_ks.json', 'r') as f:\n",
    "    metrics = json.load(f)"
   ]
  },
  {
   "cell_type": "code",
   "execution_count": 29,
   "id": "8ce864b8-6acd-439d-a9fe-10fd6d4bfbb1",
   "metadata": {},
   "outputs": [],
   "source": [
    "metrics = pd.DataFrame([metrics[i] for i in metrics], index=list(metrics.keys()), columns=['ks_score'])"
   ]
  },
  {
   "cell_type": "code",
   "execution_count": 33,
   "id": "d3008270-8ff8-40d1-b156-7e6702ea8c4f",
   "metadata": {},
   "outputs": [
    {
     "data": {
      "text/html": [
       "<div>\n",
       "<style scoped>\n",
       "    .dataframe tbody tr th:only-of-type {\n",
       "        vertical-align: middle;\n",
       "    }\n",
       "\n",
       "    .dataframe tbody tr th {\n",
       "        vertical-align: top;\n",
       "    }\n",
       "\n",
       "    .dataframe thead th {\n",
       "        text-align: right;\n",
       "    }\n",
       "</style>\n",
       "<table border=\"1\" class=\"dataframe\">\n",
       "  <thead>\n",
       "    <tr style=\"text-align: right;\">\n",
       "      <th></th>\n",
       "      <th>ks_score</th>\n",
       "    </tr>\n",
       "  </thead>\n",
       "  <tbody>\n",
       "    <tr>\n",
       "      <th>1e2^0.5</th>\n",
       "      <td>1.821457</td>\n",
       "    </tr>\n",
       "    <tr>\n",
       "      <th>1e2^1.0</th>\n",
       "      <td>1.975938</td>\n",
       "    </tr>\n",
       "    <tr>\n",
       "      <th>1e2^1.5</th>\n",
       "      <td>2.102324</td>\n",
       "    </tr>\n",
       "    <tr>\n",
       "      <th>1e2^2.0</th>\n",
       "      <td>2.176156</td>\n",
       "    </tr>\n",
       "    <tr>\n",
       "      <th>1e2^2.5</th>\n",
       "      <td>2.212421</td>\n",
       "    </tr>\n",
       "    <tr>\n",
       "      <th>...</th>\n",
       "      <td>...</td>\n",
       "    </tr>\n",
       "    <tr>\n",
       "      <th>10e5^2.0</th>\n",
       "      <td>3.791579</td>\n",
       "    </tr>\n",
       "    <tr>\n",
       "      <th>10e5^2.5</th>\n",
       "      <td>4.299054</td>\n",
       "    </tr>\n",
       "    <tr>\n",
       "      <th>10e5^3.0</th>\n",
       "      <td>5.024894</td>\n",
       "    </tr>\n",
       "    <tr>\n",
       "      <th>10e5^3.5</th>\n",
       "      <td>4.895827</td>\n",
       "    </tr>\n",
       "    <tr>\n",
       "      <th>10e5^4.0</th>\n",
       "      <td>5.254450</td>\n",
       "    </tr>\n",
       "  </tbody>\n",
       "</table>\n",
       "<p>160 rows × 1 columns</p>\n",
       "</div>"
      ],
      "text/plain": [
       "          ks_score\n",
       "1e2^0.5   1.821457\n",
       "1e2^1.0   1.975938\n",
       "1e2^1.5   2.102324\n",
       "1e2^2.0   2.176156\n",
       "1e2^2.5   2.212421\n",
       "...            ...\n",
       "10e5^2.0  3.791579\n",
       "10e5^2.5  4.299054\n",
       "10e5^3.0  5.024894\n",
       "10e5^3.5  4.895827\n",
       "10e5^4.0  5.254450\n",
       "\n",
       "[160 rows x 1 columns]"
      ]
     },
     "execution_count": 33,
     "metadata": {},
     "output_type": "execute_result"
    }
   ],
   "source": [
    "metrics"
   ]
  },
  {
   "cell_type": "code",
   "execution_count": 47,
   "id": "7e9e895f-1acc-4667-983f-163f9a4e3a23",
   "metadata": {},
   "outputs": [
    {
     "data": {
      "text/html": [
       "<div>\n",
       "<style scoped>\n",
       "    .dataframe tbody tr th:only-of-type {\n",
       "        vertical-align: middle;\n",
       "    }\n",
       "\n",
       "    .dataframe tbody tr th {\n",
       "        vertical-align: top;\n",
       "    }\n",
       "\n",
       "    .dataframe thead th {\n",
       "        text-align: right;\n",
       "    }\n",
       "</style>\n",
       "<table border=\"1\" class=\"dataframe\">\n",
       "  <thead>\n",
       "    <tr style=\"text-align: right;\">\n",
       "      <th></th>\n",
       "      <th>ks_score</th>\n",
       "    </tr>\n",
       "  </thead>\n",
       "  <tbody>\n",
       "    <tr>\n",
       "      <th>1e4^1.5</th>\n",
       "      <td>1.588506</td>\n",
       "    </tr>\n",
       "  </tbody>\n",
       "</table>\n",
       "</div>"
      ],
      "text/plain": [
       "         ks_score\n",
       "1e4^1.5  1.588506"
      ]
     },
     "execution_count": 47,
     "metadata": {},
     "output_type": "execute_result"
    }
   ],
   "source": [
    "metrics[metrics['ks_score'] <= 1.6]\n",
    "# metrics = metrics.loc[:, metrics.columns[(metrics.loc['roc_auc'] <= 0.7)]]"
   ]
  },
  {
   "cell_type": "code",
   "execution_count": 55,
   "id": "7291daf0-4366-4839-a405-5d110ba28925",
   "metadata": {
    "scrolled": true
   },
   "outputs": [
    {
     "data": {
      "text/plain": [
       "5.254450176148531"
      ]
     },
     "execution_count": 55,
     "metadata": {},
     "output_type": "execute_result"
    }
   ],
   "source": [
    "max(metrics.to_numpy(dtype='float64'))[0]"
   ]
  },
  {
   "cell_type": "code",
   "execution_count": 56,
   "id": "77f12ada-8de5-4e7e-929d-5e45f46b5723",
   "metadata": {},
   "outputs": [
    {
     "data": {
      "text/plain": [
       "1.588505812611551"
      ]
     },
     "execution_count": 56,
     "metadata": {},
     "output_type": "execute_result"
    }
   ],
   "source": [
    "min(metrics.to_numpy(dtype='float64'))[0]"
   ]
  },
  {
   "cell_type": "code",
   "execution_count": 26,
   "id": "2f2db1b4-4204-4ecc-84be-027b76c2ad41",
   "metadata": {},
   "outputs": [],
   "source": [
    "with open('ecf_list.pkl', 'wb') as f:\n",
    "    pickle.dump(metrics.columns.to_list(), f)"
   ]
  },
  {
   "cell_type": "code",
   "execution_count": 57,
   "id": "c5cf1b46-57fa-457f-b79b-378465265ab3",
   "metadata": {
    "scrolled": true
   },
   "outputs": [
    {
     "data": {
      "text/plain": [
       "['ks_score']"
      ]
     },
     "execution_count": 57,
     "metadata": {},
     "output_type": "execute_result"
    }
   ],
   "source": [
    "metrics.columns.to_list()"
   ]
  },
  {
   "cell_type": "code",
   "execution_count": 483,
   "id": "8d71efb8-a626-4fc3-b07e-7d4b8848c13d",
   "metadata": {},
   "outputs": [],
   "source": [
    "pattern = r'^\\de5\\^\\d+\\.?\\d*/\\de4\\^\\d+\\.?\\d*\\*\\*\\d+\\.?\\d*$'"
   ]
  },
  {
   "cell_type": "code",
   "execution_count": 484,
   "id": "101e462e-14c5-40d8-8b64-f4ab861b8076",
   "metadata": {},
   "outputs": [],
   "source": [
    "matching_columns = [col for col in metrics.columns if re.match(pattern, col)]"
   ]
  },
  {
   "cell_type": "code",
   "execution_count": 485,
   "id": "b2e59859-c5d1-4fcf-8409-125247946a3b",
   "metadata": {},
   "outputs": [],
   "source": [
    "temp = metrics[matching_columns]"
   ]
  },
  {
   "cell_type": "code",
   "execution_count": 486,
   "id": "6f288d6e-9e62-40b1-a365-906457e3392f",
   "metadata": {},
   "outputs": [
    {
     "data": {
      "text/plain": [
       "0.6860596"
      ]
     },
     "execution_count": 486,
     "metadata": {},
     "output_type": "execute_result"
    }
   ],
   "source": [
    "max(temp.iloc[0, :].to_numpy(dtype='float32'))"
   ]
  },
  {
   "cell_type": "code",
   "execution_count": 487,
   "id": "5a2709eb-d9e4-429d-bb88-6d69f05a5625",
   "metadata": {},
   "outputs": [],
   "source": [
    "temp = temp.loc[:, temp.columns[(temp.loc['roc_auc'] >= 0.678)]]"
   ]
  },
  {
   "cell_type": "code",
   "execution_count": 488,
   "id": "e60d476b-e10b-4c97-a531-d2c84c29cebf",
   "metadata": {},
   "outputs": [
    {
     "data": {
      "text/html": [
       "<div>\n",
       "<style scoped>\n",
       "    .dataframe tbody tr th:only-of-type {\n",
       "        vertical-align: middle;\n",
       "    }\n",
       "\n",
       "    .dataframe tbody tr th {\n",
       "        vertical-align: top;\n",
       "    }\n",
       "\n",
       "    .dataframe thead th {\n",
       "        text-align: right;\n",
       "    }\n",
       "</style>\n",
       "<table border=\"1\" class=\"dataframe\">\n",
       "  <thead>\n",
       "    <tr style=\"text-align: right;\">\n",
       "      <th></th>\n",
       "      <th>1e5^2.5/2e4^0.5**2.5</th>\n",
       "      <th>4e5^0.5/1e4^2.0**1.0</th>\n",
       "      <th>4e5^0.5/1e4^2.5**0.8</th>\n",
       "    </tr>\n",
       "  </thead>\n",
       "  <tbody>\n",
       "    <tr>\n",
       "      <th>roc_auc</th>\n",
       "      <td>0.678954</td>\n",
       "      <td>0.686060</td>\n",
       "      <td>0.678049</td>\n",
       "    </tr>\n",
       "    <tr>\n",
       "      <th>sculpt_metric</th>\n",
       "      <td>0.173663</td>\n",
       "      <td>0.172872</td>\n",
       "      <td>0.073843</td>\n",
       "    </tr>\n",
       "    <tr>\n",
       "      <th>s_sb</th>\n",
       "      <td>0.019668</td>\n",
       "      <td>0.016538</td>\n",
       "      <td>0.036127</td>\n",
       "    </tr>\n",
       "  </tbody>\n",
       "</table>\n",
       "</div>"
      ],
      "text/plain": [
       "               1e5^2.5/2e4^0.5**2.5  4e5^0.5/1e4^2.0**1.0  \\\n",
       "roc_auc                    0.678954              0.686060   \n",
       "sculpt_metric              0.173663              0.172872   \n",
       "s_sb                       0.019668              0.016538   \n",
       "\n",
       "               4e5^0.5/1e4^2.5**0.8  \n",
       "roc_auc                    0.678049  \n",
       "sculpt_metric              0.073843  \n",
       "s_sb                       0.036127  "
      ]
     },
     "execution_count": 488,
     "metadata": {},
     "output_type": "execute_result"
    }
   ],
   "source": [
    "temp"
   ]
  },
  {
   "cell_type": "code",
   "execution_count": null,
   "id": "b17e9795-c5f9-414b-89f8-eca4ef29bf93",
   "metadata": {},
   "outputs": [],
   "source": [
    "use_list = [\n",
    "    '1e5^1.5/2e5^0.5**1.5',\n",
    "    '3e5^0.5/1e5^2.5**0.6',\n",
    "    '4e5^0.5/1e4^2.0**1.0',\n",
    "    '1e5^2.5/2e4^0.5**2.5',\n",
    "    '1e5^0.5/1e3^0.5**1.0',\n",
    "    '1e5^0.5/1e2^4.0**0.125',\n",
    "    '3e4^0.5/1e4^2.5**0.6',\n",
    "    '2e4^3.0/2e3^1.0**3.0',\n",
    "    '1e4^1.0/1e2^4.0**0.25',\n",
    "    '1e3^4.0/3e3^0.5**2.6666666666666665',\n",
    "    '3e3^3.5/1e2^3.5**3.0',\n",
    "]"
   ]
  },
  {
   "cell_type": "code",
   "execution_count": 355,
   "id": "7f3e5c08-77fb-4106-9f99-f7f98c6e4a05",
   "metadata": {},
   "outputs": [],
   "source": [
    "ratio_counts = {}\n",
    "ratio_counts['54'] = 0\n",
    "ratio_counts['53'] = 0\n",
    "ratio_counts['52'] = 0\n",
    "ratio_counts['43'] = 0\n",
    "ratio_counts['42'] = 0\n",
    "ratio_counts['32'] = 0\n",
    "\n",
    "for i in metrics.columns:\n",
    "\n",
    "    dash = i.find('/')\n",
    "    asterisk = i.find('*')\n",
    "    numerator = i[:dash]\n",
    "    denominator = i[dash+1:asterisk]\n",
    "    exponent = i[asterisk+2:]\n",
    "\n",
    "    if numerator[1] == 'e':\n",
    "        num = numerator[2]\n",
    "\n",
    "    elif numerator[1] == 'e':\n",
    "        num = numerator[3]\n",
    "\n",
    "    den = denominator[2]\n",
    "\n",
    "    ratio_counts[num+den] += 1"
   ]
  },
  {
   "cell_type": "code",
   "execution_count": 357,
   "id": "a17fa367-e3da-41cb-89b9-1db9974384d5",
   "metadata": {},
   "outputs": [],
   "source": [
    "# with open('counts/sculpt_001.pkl', 'wb') as f:\n",
    "#     pickle.dump(ratio_counts, f)"
   ]
  },
  {
   "cell_type": "code",
   "execution_count": 143,
   "id": "0836e640-ad75-4320-94c2-e8accc58f964",
   "metadata": {},
   "outputs": [
    {
     "data": {
      "text/html": [
       "<div>\n",
       "<style scoped>\n",
       "    .dataframe tbody tr th:only-of-type {\n",
       "        vertical-align: middle;\n",
       "    }\n",
       "\n",
       "    .dataframe tbody tr th {\n",
       "        vertical-align: top;\n",
       "    }\n",
       "\n",
       "    .dataframe thead th {\n",
       "        text-align: right;\n",
       "    }\n",
       "</style>\n",
       "<table border=\"1\" class=\"dataframe\">\n",
       "  <thead>\n",
       "    <tr style=\"text-align: right;\">\n",
       "      <th></th>\n",
       "      <th>1e3^1.5/1e2^1.5**1.0</th>\n",
       "      <th>1e3^1.5/1e2^2.0**0.75</th>\n",
       "      <th>1e3^1.5/1e2^2.5**0.6</th>\n",
       "      <th>1e3^1.5/1e2^3.0**0.5</th>\n",
       "      <th>1e3^1.5/1e2^3.5**0.42857142857142855</th>\n",
       "      <th>1e3^1.5/1e2^4.0**0.375</th>\n",
       "      <th>1e3^2.0/1e2^1.5**1.3333333333333333</th>\n",
       "      <th>1e3^2.0/1e2^2.0**1.0</th>\n",
       "      <th>1e3^2.0/1e2^2.5**0.8</th>\n",
       "      <th>1e3^2.0/1e2^3.0**0.6666666666666666</th>\n",
       "      <th>...</th>\n",
       "      <th>10e5^4.0/7e5^2.0**2.857142857142857</th>\n",
       "      <th>10e5^4.0/7e5^2.5**2.2857142857142856</th>\n",
       "      <th>10e5^4.0/7e5^3.0**1.9047619047619047</th>\n",
       "      <th>10e5^4.0/7e5^3.5**1.6326530612244898</th>\n",
       "      <th>10e5^4.0/7e5^4.0**1.4285714285714286</th>\n",
       "      <th>10e5^4.0/8e5^2.0**2.5</th>\n",
       "      <th>10e5^4.0/8e5^2.5**2.0</th>\n",
       "      <th>10e5^4.0/8e5^3.0**1.6666666666666667</th>\n",
       "      <th>10e5^4.0/8e5^3.5**1.4285714285714286</th>\n",
       "      <th>10e5^4.0/8e5^4.0**1.25</th>\n",
       "    </tr>\n",
       "  </thead>\n",
       "  <tbody>\n",
       "    <tr>\n",
       "      <th>roc_auc</th>\n",
       "      <td>0.568594</td>\n",
       "      <td>0.579669</td>\n",
       "      <td>0.586344</td>\n",
       "      <td>0.591129</td>\n",
       "      <td>0.594932</td>\n",
       "      <td>0.598135</td>\n",
       "      <td>0.538876</td>\n",
       "      <td>0.558239</td>\n",
       "      <td>0.568827</td>\n",
       "      <td>0.575943</td>\n",
       "      <td>...</td>\n",
       "      <td>0.557589</td>\n",
       "      <td>0.542612</td>\n",
       "      <td>0.531576</td>\n",
       "      <td>0.536800</td>\n",
       "      <td>0.531510</td>\n",
       "      <td>0.549626</td>\n",
       "      <td>0.534527</td>\n",
       "      <td>0.542864</td>\n",
       "      <td>0.537003</td>\n",
       "      <td>0.531874</td>\n",
       "    </tr>\n",
       "    <tr>\n",
       "      <th>sculpt_metric</th>\n",
       "      <td>0.037374</td>\n",
       "      <td>0.034178</td>\n",
       "      <td>0.032818</td>\n",
       "      <td>0.032376</td>\n",
       "      <td>0.035531</td>\n",
       "      <td>0.063505</td>\n",
       "      <td>0.024411</td>\n",
       "      <td>0.024263</td>\n",
       "      <td>0.033007</td>\n",
       "      <td>0.023838</td>\n",
       "      <td>...</td>\n",
       "      <td>0.162110</td>\n",
       "      <td>0.057928</td>\n",
       "      <td>0.131149</td>\n",
       "      <td>0.026022</td>\n",
       "      <td>0.030142</td>\n",
       "      <td>0.068323</td>\n",
       "      <td>0.064411</td>\n",
       "      <td>0.024899</td>\n",
       "      <td>0.024904</td>\n",
       "      <td>0.027061</td>\n",
       "    </tr>\n",
       "    <tr>\n",
       "      <th>s_sb</th>\n",
       "      <td>0.021296</td>\n",
       "      <td>0.024953</td>\n",
       "      <td>0.026932</td>\n",
       "      <td>0.028103</td>\n",
       "      <td>0.025775</td>\n",
       "      <td>0.006678</td>\n",
       "      <td>0.029472</td>\n",
       "      <td>0.029807</td>\n",
       "      <td>0.022260</td>\n",
       "      <td>0.031993</td>\n",
       "      <td>...</td>\n",
       "      <td>0.003590</td>\n",
       "      <td>0.032117</td>\n",
       "      <td>0.010379</td>\n",
       "      <td>0.013662</td>\n",
       "      <td>0.014498</td>\n",
       "      <td>0.031365</td>\n",
       "      <td>0.030397</td>\n",
       "      <td>0.011618</td>\n",
       "      <td>0.015493</td>\n",
       "      <td>0.010470</td>\n",
       "    </tr>\n",
       "  </tbody>\n",
       "</table>\n",
       "<p>3 rows × 7542 columns</p>\n",
       "</div>"
      ],
      "text/plain": [
       "               1e3^1.5/1e2^1.5**1.0  1e3^1.5/1e2^2.0**0.75  \\\n",
       "roc_auc                    0.568594               0.579669   \n",
       "sculpt_metric              0.037374               0.034178   \n",
       "s_sb                       0.021296               0.024953   \n",
       "\n",
       "               1e3^1.5/1e2^2.5**0.6  1e3^1.5/1e2^3.0**0.5  \\\n",
       "roc_auc                    0.586344              0.591129   \n",
       "sculpt_metric              0.032818              0.032376   \n",
       "s_sb                       0.026932              0.028103   \n",
       "\n",
       "               1e3^1.5/1e2^3.5**0.42857142857142855  1e3^1.5/1e2^4.0**0.375  \\\n",
       "roc_auc                                    0.594932                0.598135   \n",
       "sculpt_metric                              0.035531                0.063505   \n",
       "s_sb                                       0.025775                0.006678   \n",
       "\n",
       "               1e3^2.0/1e2^1.5**1.3333333333333333  1e3^2.0/1e2^2.0**1.0  \\\n",
       "roc_auc                                   0.538876              0.558239   \n",
       "sculpt_metric                             0.024411              0.024263   \n",
       "s_sb                                      0.029472              0.029807   \n",
       "\n",
       "               1e3^2.0/1e2^2.5**0.8  1e3^2.0/1e2^3.0**0.6666666666666666  ...  \\\n",
       "roc_auc                    0.568827                             0.575943  ...   \n",
       "sculpt_metric              0.033007                             0.023838  ...   \n",
       "s_sb                       0.022260                             0.031993  ...   \n",
       "\n",
       "               10e5^4.0/7e5^2.0**2.857142857142857  \\\n",
       "roc_auc                                   0.557589   \n",
       "sculpt_metric                             0.162110   \n",
       "s_sb                                      0.003590   \n",
       "\n",
       "               10e5^4.0/7e5^2.5**2.2857142857142856  \\\n",
       "roc_auc                                    0.542612   \n",
       "sculpt_metric                              0.057928   \n",
       "s_sb                                       0.032117   \n",
       "\n",
       "               10e5^4.0/7e5^3.0**1.9047619047619047  \\\n",
       "roc_auc                                    0.531576   \n",
       "sculpt_metric                              0.131149   \n",
       "s_sb                                       0.010379   \n",
       "\n",
       "               10e5^4.0/7e5^3.5**1.6326530612244898  \\\n",
       "roc_auc                                    0.536800   \n",
       "sculpt_metric                              0.026022   \n",
       "s_sb                                       0.013662   \n",
       "\n",
       "               10e5^4.0/7e5^4.0**1.4285714285714286  10e5^4.0/8e5^2.0**2.5  \\\n",
       "roc_auc                                    0.531510               0.549626   \n",
       "sculpt_metric                              0.030142               0.068323   \n",
       "s_sb                                       0.014498               0.031365   \n",
       "\n",
       "               10e5^4.0/8e5^2.5**2.0  10e5^4.0/8e5^3.0**1.6666666666666667  \\\n",
       "roc_auc                     0.534527                              0.542864   \n",
       "sculpt_metric               0.064411                              0.024899   \n",
       "s_sb                        0.030397                              0.011618   \n",
       "\n",
       "               10e5^4.0/8e5^3.5**1.4285714285714286  10e5^4.0/8e5^4.0**1.25  \n",
       "roc_auc                                    0.537003                0.531874  \n",
       "sculpt_metric                              0.024904                0.027061  \n",
       "s_sb                                       0.015493                0.010470  \n",
       "\n",
       "[3 rows x 7542 columns]"
      ]
     },
     "execution_count": 143,
     "metadata": {},
     "output_type": "execute_result"
    }
   ],
   "source": [
    "metrics"
   ]
  },
  {
   "cell_type": "code",
   "execution_count": null,
   "id": "526070ea-25cd-49b7-a9e7-e2a4a6c1f7de",
   "metadata": {},
   "outputs": [],
   "source": []
  }
 ],
 "metadata": {
  "kernelspec": {
   "display_name": "Python 3 (ipykernel)",
   "language": "python",
   "name": "python3"
  },
  "language_info": {
   "codemirror_mode": {
    "name": "ipython",
    "version": 3
   },
   "file_extension": ".py",
   "mimetype": "text/x-python",
   "name": "python",
   "nbconvert_exporter": "python",
   "pygments_lexer": "ipython3",
   "version": "3.11.9"
  }
 },
 "nbformat": 4,
 "nbformat_minor": 5
}
