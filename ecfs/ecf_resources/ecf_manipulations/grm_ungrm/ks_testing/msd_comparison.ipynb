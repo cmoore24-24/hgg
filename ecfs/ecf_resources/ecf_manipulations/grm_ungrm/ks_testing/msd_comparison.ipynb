{
 "cells": [
  {
   "cell_type": "code",
   "execution_count": 1,
   "id": "ad84e36b-6efb-4bad-b214-b115da0caadb",
   "metadata": {},
   "outputs": [],
   "source": [
    "import numpy as np\n",
    "import awkward as ak\n",
    "import hist\n",
    "import warnings\n",
    "import pickle\n",
    "from coffea.ml_tools.torch_wrapper import torch_wrapper\n",
    "import matplotlib.pyplot as plt\n",
    "import hist\n",
    "from sklearn.metrics import roc_curve, auc\n",
    "import math\n",
    "import os\n",
    "import uproot\n",
    "import json\n",
    "import math"
   ]
  },
  {
   "cell_type": "code",
   "execution_count": 2,
   "id": "e1a1c7a1-dcd7-4590-88f0-ffb7c5199a5a",
   "metadata": {},
   "outputs": [],
   "source": [
    "path = '/scratch365/cmoore24/training/hgg/batch2024/ml_results_checking'\n",
    "#with open(f'{path}/subregion_event_totals.json', 'r') as f:\n",
    "with open('../event_totals.json', 'r') as f:\n",
    "    totals = json.load(f)\n",
    "#del(totals['ww4q'])"
   ]
  },
  {
   "cell_type": "code",
   "execution_count": 3,
   "id": "27f31ba7-bdd0-4793-bd5d-81e338cba97d",
   "metadata": {},
   "outputs": [],
   "source": [
    "with open(f'{path}/my_xsecs.json', 'r') as f:\n",
    "    xsecs = json.load(f)"
   ]
  },
  {
   "cell_type": "code",
   "execution_count": 4,
   "id": "a5f411e6-8634-4c34-a7e6-bf75bbc45f85",
   "metadata": {},
   "outputs": [],
   "source": [
    "xsecs2 = {}\n",
    "for i in xsecs:\n",
    "    if type(xsecs[i]) == dict:\n",
    "        for j in xsecs[i]:\n",
    "            xsecs2[j] = xsecs[i][j]\n",
    "    else:\n",
    "        xsecs2[i] = xsecs[i]\n",
    "xsecs = xsecs2"
   ]
  },
  {
   "cell_type": "code",
   "execution_count": 5,
   "id": "48b1930a-2546-4440-8281-2cd01aa588fa",
   "metadata": {},
   "outputs": [],
   "source": [
    "totals2 = {}\n",
    "for i in totals:\n",
    "    if type(totals[i]) == dict:\n",
    "        for j in totals[i]:\n",
    "            totals2[f'{i}_{j}'] = totals[i][j]\n",
    "    else:\n",
    "        totals2[i] = totals[i]\n",
    "totals = totals2"
   ]
  },
  {
   "cell_type": "code",
   "execution_count": 6,
   "id": "c45e1df1-1164-422c-ad11-cf9fd74e1d62",
   "metadata": {},
   "outputs": [],
   "source": [
    "totals['ww'] = totals['diboson_ww']\n",
    "totals['wz'] = totals['diboson_wz']\n",
    "totals['zz'] = totals['diboson_zz']"
   ]
  },
  {
   "cell_type": "code",
   "execution_count": 7,
   "id": "c8079958-a0dd-41b9-a9a1-d25eae3ee4ca",
   "metadata": {},
   "outputs": [],
   "source": [
    "columns=['goodjets.msoftdrop', 'goodjets.pt']"
   ]
  },
  {
   "cell_type": "code",
   "execution_count": 8,
   "id": "37788b7d-7abb-41de-ba30-95adf06fc218",
   "metadata": {},
   "outputs": [],
   "source": [
    "def read_files(input_path):\n",
    "    if ('.parquet' in os.listdir(input_path)[0]):\n",
    "        output = ak.from_parquet(f'{input_path}/new*', columns=columns)\n",
    "    else:\n",
    "        output = {}\n",
    "        for i in os.listdir(input_path):\n",
    "            if ('flat400' not in i):\n",
    "                output[i] = ak.from_parquet(f'{input_path}/{i}/new*', columns=columns)\n",
    "            else:\n",
    "                continue\n",
    "    return output"
   ]
  },
  {
   "cell_type": "code",
   "execution_count": 9,
   "id": "02a16978-59d2-4744-b49a-442c559ac391",
   "metadata": {},
   "outputs": [],
   "source": [
    "region = 'nolepton'\n",
    "path = '/project01/ndcms/cmoore24/skims/full_skims'"
   ]
  },
  {
   "cell_type": "code",
   "execution_count": 10,
   "id": "c078036b-869d-4f68-bcf3-c60ff56f3a36",
   "metadata": {},
   "outputs": [],
   "source": [
    "# qcd = read_files(f'{path}/{region}')\n",
    "# hgg = read_files(f'{path}/{region}')\n",
    "# hbb = read_files(f'{path}/{region}')\n",
    "# wqq = read_files(f'{path}/{region}')\n",
    "# zqq = read_files(f'{path}/{region}')\n",
    "# ttboosted = read_files(f'{path}/{region}')\n",
    "# tthadronic = read_files(f'{path}/{region}')\n",
    "# singletop = read_files(f'{path}/{region}')\n",
    "# ww = read_files(f'{path}/{region}')\n",
    "# wz = read_files(f'{path}/{region}')\n",
    "# zz = read_files(f'{path}/{region}')\n",
    "mc = read_files(f'{path}/{region}/mc')"
   ]
  },
  {
   "cell_type": "code",
   "execution_count": 11,
   "id": "e4fe4841-9fea-4827-a952-bae6aa2969f3",
   "metadata": {},
   "outputs": [],
   "source": [
    "mc['ww'] = mc['diboson_ww']\n",
    "mc['wz'] = mc['diboson_wz']\n",
    "mc['zz'] = mc['diboson_zz']\n",
    "del(mc['diboson_ww'])\n",
    "del(mc['diboson_wz'])\n",
    "del(mc['diboson_zz'])"
   ]
  },
  {
   "cell_type": "code",
   "execution_count": 12,
   "id": "1b150229-eb8c-4929-b56c-8a5e7d6a9641",
   "metadata": {},
   "outputs": [],
   "source": [
    "# mc = {}\n",
    "# mc['hgg'] = hgg\n",
    "# mc['hbb'] = hbb\n",
    "# mc['singletop'] = singletop\n",
    "# mc['ww'] = ww\n",
    "# mc['wz'] = wz\n",
    "# mc['zz'] = zz\n",
    "# mc['qcd'] = qcd\n",
    "# mc['wqq'] = wqq\n",
    "# mc['zqq'] = zqq\n",
    "# mc['ttboosted'] = ttboosted\n",
    "# mc['tthadronic'] = tthadronic"
   ]
  },
  {
   "cell_type": "code",
   "execution_count": 13,
   "id": "34f88605-c469-4b83-8704-badc3cebdf9d",
   "metadata": {},
   "outputs": [],
   "source": [
    "for i in mc:\n",
    "    if type(mc[i]) == dict:\n",
    "        for j in mc[i]:\n",
    "            for k in mc[i][j].fields:\n",
    "                if 'event' in k:\n",
    "                    continue\n",
    "                else:\n",
    "                    try:\n",
    "                        mc[i][j][k] = ak.firsts(mc[i][j][k])\n",
    "                    except:\n",
    "                        continue\n",
    "    else:\n",
    "        for j in mc[i].fields:\n",
    "            if 'event' in j:\n",
    "                continue\n",
    "            else:\n",
    "                try:\n",
    "                    mc[i][j] = ak.firsts(mc[i][j])\n",
    "                except:\n",
    "                    continue"
   ]
  },
  {
   "cell_type": "code",
   "execution_count": 14,
   "id": "b676dad4-88a1-4434-ad47-f9e9c880a4f6",
   "metadata": {},
   "outputs": [],
   "source": [
    "# data = {}\n",
    "# data['B'] = read_files('/project01/ndcms/cmoore24/skims/ecfs/grm_ungrm/ecfs/JetHT2017/nolepton/B')\n",
    "# data['C'] = read_files('/project01/ndcms/cmoore24/skims/ecfs/grm_ungrm/ecfs/JetHT2017/nolepton/C')\n",
    "# data['D'] = read_files('/project01/ndcms/cmoore24/skims/ecfs/grm_ungrm/ecfs/JetHT2017/nolepton/D')\n",
    "# data['E'] = read_files('/project01/ndcms/cmoore24/skims/ecfs/grm_ungrm/ecfs/JetHT2017/nolepton/E')\n",
    "# data['F'] = read_files('/project01/ndcms/cmoore24/skims/ecfs/grm_ungrm/ecfs/JetHT2017/nolepton/F')\n",
    "data = read_files(f'{path}/{region}/data')"
   ]
  },
  {
   "cell_type": "code",
   "execution_count": 15,
   "id": "96399177-2bd6-4d77-b60f-c3d9cb623afa",
   "metadata": {},
   "outputs": [],
   "source": [
    "for i in data:\n",
    "    if type(data[i]) == dict:\n",
    "        for j in data[i]:\n",
    "            for k in data[i][j].fields:\n",
    "                if 'event' in k:\n",
    "                    continue\n",
    "                else:\n",
    "                    try:\n",
    "                        data[i][j][k] = ak.firsts(data[i][j][k])\n",
    "                    except:\n",
    "                        continue\n",
    "    else:\n",
    "        for j in data[i].fields:\n",
    "            if 'event' in j:\n",
    "                continue\n",
    "            else:\n",
    "                try:\n",
    "                    data[i][j] = ak.firsts(data[i][j])\n",
    "                except:\n",
    "                    continue"
   ]
  },
  {
   "cell_type": "code",
   "execution_count": 16,
   "id": "bcc9f25b-746b-4e3a-ae3c-cbc487fda971",
   "metadata": {},
   "outputs": [],
   "source": [
    "upper = 950\n",
    "lower = 475"
   ]
  },
  {
   "cell_type": "code",
   "execution_count": 17,
   "id": "d3ad57ba-8b9f-40f1-9bfa-4c54cebd4e6e",
   "metadata": {},
   "outputs": [],
   "source": [
    "for i in xsecs:\n",
    "    if type(mc[i]) == dict:\n",
    "        for j in mc[i]:\n",
    "            mask = ((mc[i][j].goodjets.pt >= lower) & (mc[i][j].goodjets.pt <= upper))\n",
    "            mc[i][j] = mc[i][j][mask]\n",
    "    else:\n",
    "        mask = ((mc[i].goodjets.pt >= lower) & (mc[i].goodjets.pt <= upper))\n",
    "        mc[i] = mc[i][mask]"
   ]
  },
  {
   "cell_type": "code",
   "execution_count": 18,
   "id": "dfe8508f-87c0-4433-bdf3-d9021b30a261",
   "metadata": {},
   "outputs": [],
   "source": [
    "for i in data:\n",
    "    if type(data[i]) == dict:\n",
    "        for j in data[i]:\n",
    "            mask = ((data[i][j].goodjets.pt >= lower) & (data[i][j].goodjets.pt <= upper))\n",
    "            data[i][j] = data[i][j][mask]\n",
    "    else:\n",
    "        mask = ((data[i].goodjets.pt >= lower) & (data[i].goodjets.pt <= upper))\n",
    "        data[i] = data[i][mask]"
   ]
  },
  {
   "cell_type": "code",
   "execution_count": 19,
   "id": "d8649960-5bde-41cd-aa80-58c7d36c05b4",
   "metadata": {},
   "outputs": [],
   "source": [
    "data_s = {}\n",
    "for i in data:\n",
    "    if \"Jet\" in i:\n",
    "        data_s[i] = data[i]"
   ]
  },
  {
   "cell_type": "code",
   "execution_count": 20,
   "id": "7d202e1c-285d-4505-8866-f3e05a2ec926",
   "metadata": {},
   "outputs": [],
   "source": [
    "# data_dict = {}\n",
    "# for i in data:\n",
    "#         data_dict[i] = ak.concatenate([data[i][j] for j in data[i]])\n",
    "# data_arr = ak.concatenate([data_dict[i] for i in data_dict])\n",
    "data_arr = ak.concatenate([data[i] for i in data_s])"
   ]
  },
  {
   "cell_type": "code",
   "execution_count": 21,
   "id": "6d879486-6b03-485a-be29-f14d91040607",
   "metadata": {},
   "outputs": [],
   "source": [
    "data_hist = hist.Hist.new.Reg(40, 40, 200, name='msd', label='Data MSD').Weight()\n",
    "data_hist.fill(msd=data_arr.goodjets.msoftdrop);"
   ]
  },
  {
   "cell_type": "code",
   "execution_count": 22,
   "id": "8908783b-d822-4792-882a-b52f536a4031",
   "metadata": {},
   "outputs": [],
   "source": [
    "def msd_hist(dataset, call):\n",
    "    make_hist = hist.Hist.new.Reg(40, 40, 200, name='msd', label='MC MSD').Weight()\n",
    "    make_hist.fill(msd=dataset.goodjets.msoftdrop)\n",
    "    return make_hist"
   ]
  },
  {
   "cell_type": "code",
   "execution_count": 23,
   "id": "46d7ed19-5327-476f-87e4-96b684845111",
   "metadata": {},
   "outputs": [],
   "source": [
    "mc2 = {}\n",
    "for i in xsecs:\n",
    "    if type(mc[i]) == dict:\n",
    "        for j in mc[i]:\n",
    "            mc2[j] = mc[i][j]\n",
    "    else:\n",
    "        mc2[i] = mc[i]\n",
    "mc = mc2"
   ]
  },
  {
   "cell_type": "code",
   "execution_count": 24,
   "id": "6517f2f0-5c74-47e1-8918-c9ae291657c1",
   "metadata": {},
   "outputs": [],
   "source": [
    "hists = {}\n",
    "for i in mc:\n",
    "    if type(mc[i]) == dict:\n",
    "        hists[i] = {}\n",
    "        for j in mc[i]:\n",
    "            hists[i][j] = msd_hist(mc[i][j])\n",
    "    else:\n",
    "        hists[i] = msd_hist(mc[i], j)"
   ]
  },
  {
   "cell_type": "code",
   "execution_count": 25,
   "id": "aba07980-fcdb-45fd-b748-56965d88b0fc",
   "metadata": {},
   "outputs": [],
   "source": [
    "IL = 44.99"
   ]
  },
  {
   "cell_type": "code",
   "execution_count": 26,
   "id": "4113f4dd-8dac-48f6-aa64-53b9ad9a7676",
   "metadata": {},
   "outputs": [],
   "source": [
    "scaleHgg = ((IL*(xsecs['hgg']*1000)*0.0817)/(totals['hgg']))\n",
    "hists['hgg'].view(flow=True)[:] *= scaleHgg\n",
    "\n",
    "scaleHbb = ((IL*(xsecs['hbb']*1000)*0.581)/(totals['hbb']))\n",
    "hists['hbb'].view(flow=True)[:] *= scaleHbb"
   ]
  },
  {
   "cell_type": "code",
   "execution_count": 27,
   "id": "85c9b017-21a0-466d-b855-c8301023bd4d",
   "metadata": {},
   "outputs": [],
   "source": [
    "# xsecs['qcd_300to470'] = 6833\n",
    "# xsecs['ttboosted_700to1000'] = 64.55\n",
    "# xsecs['ttboosted_1000toInf'] = 16.45\n",
    "xsecs['tthadronic'] = 687.1"
   ]
  },
  {
   "cell_type": "code",
   "execution_count": 28,
   "id": "a79b7220-173a-4829-8b14-f754e8d842fe",
   "metadata": {},
   "outputs": [],
   "source": [
    "# totals['qcd_300to470'] = 20000000"
   ]
  },
  {
   "cell_type": "code",
   "execution_count": 29,
   "id": "1d4d42db-e2d3-4217-af06-f55d1944c675",
   "metadata": {},
   "outputs": [],
   "source": [
    "for i in mc:\n",
    "    if (i == 'hgg') or (i == 'hbb'):\n",
    "        continue\n",
    "    else:\n",
    "        scale = ((IL*(xsecs[i]*1000))/(totals[i]))\n",
    "        hists[i].view(flow=True)[:] *= scale"
   ]
  },
  {
   "cell_type": "code",
   "execution_count": 30,
   "id": "8e563fab-aaec-41c6-b656-1c8dd60e7ff7",
   "metadata": {},
   "outputs": [],
   "source": [
    "mc_hist = sum(hists[i] for i in hists)"
   ]
  },
  {
   "cell_type": "code",
   "execution_count": 31,
   "id": "f75a2266-540f-4dd9-87df-93812c8f1942",
   "metadata": {},
   "outputs": [],
   "source": [
    "qcd = sum([hists[i] for i in hists if 'qcd' in i])"
   ]
  },
  {
   "cell_type": "code",
   "execution_count": 32,
   "id": "c8a5855f-003c-4c8f-86fc-d66d3c949c0e",
   "metadata": {},
   "outputs": [],
   "source": [
    "wqq = sum([hists[i] for i in hists if 'wqq' in i])"
   ]
  },
  {
   "cell_type": "code",
   "execution_count": 33,
   "id": "7531e8f9-e06c-4873-9b19-18a061dc4972",
   "metadata": {},
   "outputs": [],
   "source": [
    "zqq = sum([hists[i] for i in hists if 'zqq' in i])"
   ]
  },
  {
   "cell_type": "code",
   "execution_count": 34,
   "id": "b4d3fbbd-f2ea-40d0-89d2-5ca494ac4489",
   "metadata": {},
   "outputs": [],
   "source": [
    "ttboosted = sum([hists[i] for i in hists if 'ttboosted' in i])"
   ]
  },
  {
   "cell_type": "code",
   "execution_count": 35,
   "id": "5f923ca6-0170-465c-a62d-7e2b431cd6ef",
   "metadata": {},
   "outputs": [],
   "source": [
    "new_hists = {}\n",
    "new_hists['qcd'] = qcd\n",
    "new_hists['wqq'] = wqq\n",
    "new_hists['zqq'] = zqq\n",
    "new_hists['ttboosted'] = ttboosted\n",
    "new_hists['hbb'] = hists['hbb']\n",
    "new_hists['hgg'] = hists['hgg']\n",
    "new_hists['singletop'] = hists['singletop']\n",
    "new_hists['ww'] = hists['ww']\n",
    "new_hists['wz'] = hists['wz']\n",
    "new_hists['zz'] = hists['zz']\n",
    "new_hists['tthadronic'] = hists['tthadronic']"
   ]
  },
  {
   "cell_type": "code",
   "execution_count": 36,
   "id": "5954e862-63d3-4018-8f92-db5a634e6f52",
   "metadata": {},
   "outputs": [
    {
     "data": {
      "image/png": "[encoded data removed]",
      "text/plain": [
       "<Figure size 640x480 with 1 Axes>"
      ]
     },
     "metadata": {},
     "output_type": "display_data"
    }
   ],
   "source": [
    "labels = [names for names in new_hists]\n",
    "hist.Stack.from_iter([new_hists[i] for i in new_hists]).plot(yerr=False, stack=True, histtype='fill', label=labels, density=False)\n",
    "data_hist.plot1d(label='Data', density=False, yerr=False, color='black')\n",
    "plt.legend(bbox_to_anchor=(1,1))\n",
    "plt.title('SingleMuon MSD')\n",
    "#plt.yscale('log')\n",
    "plt.show()"
   ]
  },
  {
   "cell_type": "code",
   "execution_count": 37,
   "id": "c2a2346c-895a-44e6-a3d4-6c7559196657",
   "metadata": {},
   "outputs": [
    {
     "data": {
      "image/png": "[encoded data removed]",
      "text/plain": [
       "<Figure size 640x480 with 1 Axes>"
      ]
     },
     "metadata": {},
     "output_type": "display_data"
    }
   ],
   "source": [
    "mc_hist.plot1d(label='MC', density=False, yerr=False)\n",
    "data_hist.plot1d(label='Data', density=False, yerr=False)\n",
    "plt.legend()\n",
    "plt.title('MSD- Data vs. MC')\n",
    "plt.show()"
   ]
  },
  {
   "cell_type": "code",
   "execution_count": 38,
   "id": "e6c24b9a-3ffa-445c-888e-75291615a98d",
   "metadata": {},
   "outputs": [
    {
     "data": {
      "text/plain": [
       "26041177.64096123"
      ]
     },
     "execution_count": 38,
     "metadata": {},
     "output_type": "execute_result"
    }
   ],
   "source": [
    "total = 0\n",
    "for i in hists:\n",
    "    total += sum(hists[i].values())\n",
    "total"
   ]
  },
  {
   "cell_type": "code",
   "execution_count": 39,
   "id": "a4e68ada-e49b-4e2b-9601-f1860ad47b59",
   "metadata": {},
   "outputs": [
    {
     "data": {
      "text/plain": [
       "27394364.0"
      ]
     },
     "execution_count": 39,
     "metadata": {},
     "output_type": "execute_result"
    }
   ],
   "source": [
    "sum(data_hist.values())"
   ]
  },
  {
   "cell_type": "code",
   "execution_count": 40,
   "id": "d08730c4-3cb5-425f-909b-8f46e9dd8133",
   "metadata": {},
   "outputs": [
    {
     "data": {
      "image/png": "[encoded data removed]",
      "text/plain": [
       "<Figure size 640x480 with 1 Axes>"
      ]
     },
     "metadata": {},
     "output_type": "display_data"
    }
   ],
   "source": [
    "fig, ax = plt.subplots()\n",
    "\n",
    "ax.stairs(np.cumsum(mc_hist.density()), edges=mc_hist.axes[0].edges, label='MC');\n",
    "ax.stairs(np.cumsum(data_hist.density()), edges=data_hist.axes[0].edges, label='Data');\n",
    "plt.legend()\n",
    "plt.title('KS Plot: Greatest Difference')\n",
    "plt.show()"
   ]
  },
  {
   "cell_type": "code",
   "execution_count": 41,
   "id": "da88b500-7c12-40ab-8a79-bc20b4e711da",
   "metadata": {},
   "outputs": [
    {
     "data": {
      "text/plain": [
       "1.6303751635356365"
      ]
     },
     "execution_count": 41,
     "metadata": {},
     "output_type": "execute_result"
    }
   ],
   "source": [
    "-math.log10(abs(np.cumsum(mc_hist.density() * 11.875) - np.cumsum(data_hist.density() * 11.875)).max())"
   ]
  },
  {
   "cell_type": "code",
   "execution_count": 42,
   "id": "0b2acb16-5306-4007-b51d-91b3d122d1bf",
   "metadata": {},
   "outputs": [
    {
     "name": "stdout",
     "output_type": "stream",
     "text": [
      "KS Statistic: 0.007889531409289163\n",
      "Adjusted: 2.1029487905045716\n"
     ]
    }
   ],
   "source": [
    "# Assuming mc_hist and data_hist are numpy.histogram outputs (values, bin_edges)\n",
    "mc_values, mc_bins = mc_hist.to_numpy()\n",
    "data_values, data_bins = data_hist.to_numpy()\n",
    "\n",
    "# Normalize the histograms to represent densities\n",
    "mc_density = mc_values / mc_values.sum()  # Normalize to sum to 1\n",
    "data_density = data_values / data_values.sum()\n",
    "\n",
    "# Compute the CDFs\n",
    "mc_cdf = np.cumsum(mc_density)\n",
    "data_cdf = np.cumsum(data_density)\n",
    "\n",
    "# Compute the KS statistic as the maximum absolute difference between the CDFs\n",
    "ks_statistic = np.max(np.abs(mc_cdf - data_cdf))\n",
    "print(f\"KS Statistic: {ks_statistic}\")\n",
    "print(f\"Adjusted: {-math.log10(ks_statistic)}\")"
   ]
  },
  {
   "cell_type": "code",
   "execution_count": 43,
   "id": "626ccd76-ec9b-4fca-8a41-f8ad41266042",
   "metadata": {},
   "outputs": [
    {
     "data": {
      "text/plain": [
       "array([0.14626464, 0.28256923, 0.40982106, 0.52877496, 0.64139797,\n",
       "       0.74813864, 0.84762695, 0.94353995, 1.03572736, 1.12534652,\n",
       "       1.21279771, 1.29889681, 1.38303426, 1.46493959, 1.54502754,\n",
       "       1.62303869, 1.69898825, 1.77416442, 1.84757672, 1.91985157,\n",
       "       1.99072206, 2.06093365, 2.12801497, 2.19435176, 2.25888907,\n",
       "       2.32124321, 2.38182353, 2.44025486, 2.49656885, 2.55072043,\n",
       "       2.60252999, 2.6520181 , 2.69974258, 2.74491956, 2.78823639,\n",
       "       2.82937175, 2.8679784 , 2.90409738, 2.93781859, 2.96875   ])"
      ]
     },
     "execution_count": 43,
     "metadata": {},
     "output_type": "execute_result"
    }
   ],
   "source": [
    "np.cumsum(mc_hist.density())*11.875"
   ]
  },
  {
   "cell_type": "code",
   "execution_count": null,
   "id": "44b64ceb-63bb-4f22-8e06-1469a4782241",
   "metadata": {},
   "outputs": [],
   "source": []
  },
  {
   "cell_type": "code",
   "execution_count": null,
   "id": "af56475f-b79a-4fe9-816c-c12f1e575372",
   "metadata": {},
   "outputs": [],
   "source": []
  },
  {
   "cell_type": "code",
   "execution_count": null,
   "id": "6a3f1d64-f698-491a-b5dd-b67bcace4604",
   "metadata": {},
   "outputs": [],
   "source": []
  },
  {
   "cell_type": "code",
   "execution_count": null,
   "id": "b17f30f2-010e-4d1f-bbb9-a7e908d381be",
   "metadata": {},
   "outputs": [],
   "source": []
  }
 ],
 "metadata": {
  "kernelspec": {
   "display_name": "Python 3 (ipykernel)",
   "language": "python",
   "name": "python3"
  },
  "language_info": {
   "codemirror_mode": {
    "name": "ipython",
    "version": 3
   },
   "file_extension": ".py",
   "mimetype": "text/x-python",
   "name": "python",
   "nbconvert_exporter": "python",
   "pygments_lexer": "ipython3",
   "version": "3.11.9"
  }
 },
 "nbformat": 4,
 "nbformat_minor": 5
}
