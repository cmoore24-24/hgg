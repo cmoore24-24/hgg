{
 "cells": [
  {
   "cell_type": "code",
   "execution_count": 1,
   "id": "0570cee2-82b6-43bb-a492-046e4fca208e",
   "metadata": {},
   "outputs": [],
   "source": [
    "import uproot\n",
    "import awkward as ak\n",
    "import os\n",
    "import json\n",
    "from coffea.nanoevents import NanoEventsFactory, BaseSchema, PFNanoAODSchema"
   ]
  },
  {
   "cell_type": "code",
   "execution_count": 2,
   "id": "2950cbbb-e876-4f89-aa9f-fa5373568685",
   "metadata": {},
   "outputs": [],
   "source": [
    "all_files = {}\n",
    "path = '/project01/ndcms/cmoore24/samples'\n",
    "for i in os.listdir(path):\n",
    "    if i == 'flat400':\n",
    "        continue\n",
    "    else:\n",
    "        if '.root' in os.listdir(f'{path}/{i}')[0]:\n",
    "            all_files[i] = {}\n",
    "            for j in os.listdir(f'{path}/{i}'):\n",
    "                all_files[i][f'{path}/{i}/{j}'] = 'Events'\n",
    "        else:\n",
    "            for j in os.listdir(f'{path}/{i}'):\n",
    "                all_files[f'{i}_{j}'] = {}\n",
    "                for k in os.listdir(f'{path}/{i}/{j}'):\n",
    "                    all_files[f'{i}_{j}'][f'{path}/{i}/{j}/{k}'] = 'Events'"
   ]
  },
  {
   "cell_type": "code",
   "execution_count": 3,
   "id": "81acf28e-77bf-4012-8809-98d5eefd1aa7",
   "metadata": {},
   "outputs": [
    {
     "name": "stdout",
     "output_type": "stream",
     "text": [
      "Doing diboson_ww\n",
      "Doing diboson_ww4q\n",
      "Doing diboson_wz\n",
      "Doing diboson_zz\n",
      "Doing hbb\n",
      "Doing hgg\n",
      "Doing qcd_1000to1400\n",
      "Doing qcd_1400to1800\n",
      "Doing qcd_1800to2400\n",
      "Doing qcd_2400to3200\n",
      "Doing qcd_300to470\n",
      "Doing qcd_3200toInf\n",
      "Doing qcd_470to600\n",
      "Doing qcd_600to800\n",
      "Doing qcd_800to1000\n",
      "Doing singletop\n",
      "Doing ttboosted_1000toInf\n",
      "Doing ttboosted_700to1000\n",
      "Doing tthadronic\n",
      "Doing wqq_200to400\n",
      "Doing wqq_400to600\n",
      "Doing wqq_600to800\n",
      "Doing wqq_800toInf\n",
      "Doing zqq_200to400\n",
      "Doing zqq_400to600\n",
      "Doing zqq_600to800\n",
      "Doing zqq_800toInf\n"
     ]
    }
   ],
   "source": [
    "counts = {}\n",
    "for i in all_files:\n",
    "    print(f'Doing {i}')\n",
    "    num_entries = list(uproot.num_entries(all_files[i]))\n",
    "    counts[i] = sum([j[2] for j in num_entries])"
   ]
  },
  {
   "cell_type": "code",
   "execution_count": 4,
   "id": "3fd5635f-17f2-4617-abdd-8c9fa1568401",
   "metadata": {},
   "outputs": [
    {
     "data": {
      "text/plain": [
       "100211999"
      ]
     },
     "execution_count": 4,
     "metadata": {},
     "output_type": "execute_result"
    }
   ],
   "source": [
    "counts['tthadronic']"
   ]
  },
  {
   "cell_type": "code",
   "execution_count": 5,
   "id": "d36100ee-8097-49f4-a2b4-7f4894d97c2c",
   "metadata": {},
   "outputs": [],
   "source": [
    "with open('event_totals.json', 'w') as f:\n",
    "    json.dump(counts, f)"
   ]
  },
  {
   "cell_type": "code",
   "execution_count": null,
   "id": "083783bc-ac20-4712-b281-727261def223",
   "metadata": {},
   "outputs": [],
   "source": []
  }
 ],
 "metadata": {
  "kernelspec": {
   "display_name": "Python 3 (ipykernel)",
   "language": "python",
   "name": "python3"
  },
  "language_info": {
   "codemirror_mode": {
    "name": "ipython",
    "version": 3
   },
   "file_extension": ".py",
   "mimetype": "text/x-python",
   "name": "python",
   "nbconvert_exporter": "python",
   "pygments_lexer": "ipython3",
   "version": "3.11.9"
  }
 },
 "nbformat": 4,
 "nbformat_minor": 5
}
