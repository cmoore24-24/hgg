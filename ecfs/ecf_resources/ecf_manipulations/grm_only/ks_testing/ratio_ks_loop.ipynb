{
 "cells": [
  {
   "cell_type": "code",
   "execution_count": 1,
   "id": "1f748d58-90e2-43b0-aa02-23690c44b1ce",
   "metadata": {},
   "outputs": [],
   "source": [
    "import numpy as np\n",
    "import awkward as ak\n",
    "import hist\n",
    "import warnings\n",
    "import pickle\n",
    "from coffea.ml_tools.torch_wrapper import torch_wrapper\n",
    "import matplotlib.pyplot as plt\n",
    "import hist\n",
    "from sklearn.metrics import roc_curve, auc\n",
    "import math\n",
    "import os\n",
    "import uproot\n",
    "import json\n",
    "import math"
   ]
  },
  {
   "cell_type": "code",
   "execution_count": 2,
   "id": "4b1fea1c-9839-40c6-81cf-dfb5244d3bbd",
   "metadata": {},
   "outputs": [],
   "source": [
    "with open('../../jsons/subregion_event_totals.json', 'r') as f:\n",
    "    totals = json.load(f)\n",
    "with open('../../jsons/my_xsecs.json', 'r') as f:\n",
    "    xsecs = json.load(f)"
   ]
  },
  {
   "cell_type": "code",
   "execution_count": 3,
   "id": "1050c0e1-c27c-47e3-b338-ec5ab85b7c3a",
   "metadata": {},
   "outputs": [],
   "source": [
    "totals_x = {}\n",
    "for i in totals:\n",
    "    if type(totals[i]) == dict:\n",
    "        totals_x[i] = {}\n",
    "        for j in totals[i]:\n",
    "            totals_x[i][f'{i}_{j}'] = totals[i][j]\n",
    "    else:\n",
    "        totals_x[i] = totals[i]"
   ]
  },
  {
   "cell_type": "code",
   "execution_count": 4,
   "id": "def94c4b-767f-4789-9ae0-2fb45a9abfbc",
   "metadata": {},
   "outputs": [],
   "source": [
    "hgg = ak.from_parquet('/project01/ndcms/cmoore24/skims/ecfs/singlemuon/single_parquets/hgg.parquet')\n",
    "hbb = ak.from_parquet('/project01/ndcms/cmoore24/skims/ecfs/singlemuon/single_parquets/hbb.parquet')\n",
    "singletop = ak.from_parquet('/project01/ndcms/cmoore24/skims/ecfs/singlemuon/single_parquets/singletop.parquet')\n",
    "ww = ak.from_parquet('/project01/ndcms/cmoore24/skims/ecfs/singlemuon/single_parquets/ww.parquet')\n",
    "wz = ak.from_parquet('/project01/ndcms/cmoore24/skims/ecfs/singlemuon/single_parquets/wz.parquet')\n",
    "zz = ak.from_parquet('/project01/ndcms/cmoore24/skims/ecfs/singlemuon/single_parquets/zz.parquet')"
   ]
  },
  {
   "cell_type": "code",
   "execution_count": 5,
   "id": "e4f88223-9041-419d-9e48-86875cc6a014",
   "metadata": {},
   "outputs": [],
   "source": [
    "qcd = {}\n",
    "#qcd['qcd_300to470'] = ak.from_parquet('/project01/ndcms/cmoore24/skims/ecfs/singlemuon/single_parquets/qcd_300to470.parquet')\n",
    "qcd['qcd_470to600'] = ak.from_parquet('/project01/ndcms/cmoore24/skims/ecfs/singlemuon/single_parquets/qcd_470to600.parquet')\n",
    "qcd['qcd_600to800'] = ak.from_parquet('/project01/ndcms/cmoore24/skims/ecfs/singlemuon/single_parquets/qcd_600to800.parquet')\n",
    "qcd['qcd_800to1000'] = ak.from_parquet('/project01/ndcms/cmoore24/skims/ecfs/singlemuon/single_parquets/qcd_800to1000.parquet')\n",
    "qcd['qcd_1000to1400'] = ak.from_parquet('/project01/ndcms/cmoore24/skims/ecfs/singlemuon/single_parquets/qcd_1000to1400.parquet')\n",
    "qcd['qcd_1400to1800'] = ak.from_parquet('/project01/ndcms/cmoore24/skims/ecfs/singlemuon/single_parquets/qcd_1400to1800.parquet')\n",
    "qcd['qcd_1800to2400'] = ak.from_parquet('/project01/ndcms/cmoore24/skims/ecfs/singlemuon/single_parquets/qcd_1800to2400.parquet')\n",
    "qcd['qcd_2400to3200'] = ak.from_parquet('/project01/ndcms/cmoore24/skims/ecfs/singlemuon/single_parquets/qcd_2400to3200.parquet')\n",
    "qcd['qcd_3200toInf'] = ak.from_parquet('/project01/ndcms/cmoore24/skims/ecfs/singlemuon/single_parquets/qcd_3200toInf.parquet')"
   ]
  },
  {
   "cell_type": "code",
   "execution_count": 6,
   "id": "87158bfc-418f-4c7a-9ba2-c3c771e35e9a",
   "metadata": {},
   "outputs": [],
   "source": [
    "wqq = {}\n",
    "#wqq['wqq_200to400'] = ak.from_parquet('/project01/ndcms/cmoore24/skims/ecfs/singlemuon/single_parquets/wqq_200to400.parquet')\n",
    "wqq['wqq_400to600'] = ak.from_parquet('/project01/ndcms/cmoore24/skims/ecfs/singlemuon/single_parquets/wqq_400to600.parquet')\n",
    "wqq['wqq_600to800'] = ak.from_parquet('/project01/ndcms/cmoore24/skims/ecfs/singlemuon/single_parquets/wqq_600to800.parquet')\n",
    "wqq['wqq_800toInf'] = ak.from_parquet('/project01/ndcms/cmoore24/skims/ecfs/singlemuon/single_parquets/wqq_800toInf.parquet')"
   ]
  },
  {
   "cell_type": "code",
   "execution_count": 7,
   "id": "c10aab20-34bc-40cd-ad68-ea18577cf543",
   "metadata": {},
   "outputs": [],
   "source": [
    "zqq = {}\n",
    "#zqq['zqq_200to400'] = ak.from_parquet('/project01/ndcms/cmoore24/skims/ecfs/singlemuon/single_parquets/zqq_200to400.parquet')\n",
    "zqq['zqq_400to600'] = ak.from_parquet('/project01/ndcms/cmoore24/skims/ecfs/singlemuon/single_parquets/zqq_400to600.parquet')\n",
    "zqq['zqq_600to800'] = ak.from_parquet('/project01/ndcms/cmoore24/skims/ecfs/singlemuon/single_parquets/zqq_600to800.parquet')\n",
    "zqq['zqq_800toInf'] = ak.from_parquet('/project01/ndcms/cmoore24/skims/ecfs/singlemuon/single_parquets/zqq_800toInf.parquet')"
   ]
  },
  {
   "cell_type": "code",
   "execution_count": 8,
   "id": "7f21fc71-63da-4f5b-92bf-d7bf2d60ed09",
   "metadata": {},
   "outputs": [],
   "source": [
    "ttboosted = {}\n",
    "ttboosted['ttboosted_700to1000'] = ak.from_parquet('/project01/ndcms/cmoore24/skims/ecfs/singlemuon/single_parquets/ttboosted_700to1000.parquet')\n",
    "ttboosted['ttboosted_1000toInf'] = ak.from_parquet('/project01/ndcms/cmoore24/skims/ecfs/singlemuon/single_parquets/ttboosted_1000toInf.parquet')"
   ]
  },
  {
   "cell_type": "code",
   "execution_count": 9,
   "id": "16c96096-4bb4-487b-9d61-dd73217b963a",
   "metadata": {},
   "outputs": [],
   "source": [
    "mc = {}\n",
    "mc['hgg'] = hgg\n",
    "mc['hbb'] = hbb\n",
    "mc['singletop'] = singletop\n",
    "mc['ww'] = ww\n",
    "mc['wz'] = wz\n",
    "mc['zz'] = zz\n",
    "mc['qcd'] = qcd\n",
    "mc['wqq'] = wqq\n",
    "mc['zqq'] = zqq\n",
    "mc['ttboosted'] = ttboosted"
   ]
  },
  {
   "cell_type": "code",
   "execution_count": 10,
   "id": "43543bb7-0029-4b18-bbc0-5d360ca0659e",
   "metadata": {},
   "outputs": [],
   "source": [
    "for i in mc:\n",
    "    if type(mc[i]) == dict:\n",
    "        for j in mc[i]:\n",
    "            mc[i][j] = mc[i][j][(ak.any(mc[i][j].pt > 450, axis=1))]\n",
    "    else:\n",
    "        mc[i] = mc[i][ak.any(mc[i].pt > 450, axis=1)]\n",
    "\n",
    "for i in mc:\n",
    "    if type(mc[i]) == dict:\n",
    "        for j in mc[i]:\n",
    "            mc[i][j] = mc[i][j][(ak.any(mc[i][j].pt < 600, axis=1))]\n",
    "    else:\n",
    "        mc[i] = mc[i][ak.any(mc[i].pt < 600, axis=1)]"
   ]
  },
  {
   "cell_type": "code",
   "execution_count": 11,
   "id": "5ddf611c-49d6-4fc8-8f7f-503e041a2ae5",
   "metadata": {},
   "outputs": [],
   "source": [
    "data = {}\n",
    "data['B'] = ak.from_parquet('/project01/ndcms/cmoore24/skims/ecfs/singlemuon/single_parquets/SingleMuon_B.parquet')\n",
    "data['C'] = ak.from_parquet('/project01/ndcms/cmoore24/skims/ecfs/singlemuon/single_parquets/SingleMuon_C.parquet')\n",
    "data['D'] = ak.from_parquet('/project01/ndcms/cmoore24/skims/ecfs/singlemuon/single_parquets/SingleMuon_D.parquet')\n",
    "data['E'] = ak.from_parquet('/project01/ndcms/cmoore24/skims/ecfs/singlemuon/single_parquets/SingleMuon_E.parquet')\n",
    "data['F'] = ak.from_parquet('/project01/ndcms/cmoore24/skims/ecfs/singlemuon/single_parquets/SingleMuon_F.parquet')\n",
    "\n",
    "for i in data:\n",
    "    if type(data[i]) == dict:\n",
    "        for j in data[i]:\n",
    "            data[i][j] = data[i][j][(ak.any(data[i][j].pt > 450, axis=1))]\n",
    "    else:\n",
    "        data[i] = data[i][ak.any(data[i].pt > 450, axis=1)]\n",
    "\n",
    "for i in data:\n",
    "    if type(data[i]) == dict:\n",
    "        for j in data[i]:\n",
    "            data[i][j] = data[i][j][(ak.any(data[i][j].pt < 600, axis=1))]\n",
    "    else:\n",
    "        data[i] = data[i][ak.any(data[i].pt < 600, axis=1)]\n",
    "\n",
    "data_arr = ak.concatenate([data['B'], data['C'], data['D'], data['E'], data['F']])"
   ]
  },
  {
   "cell_type": "code",
   "execution_count": 12,
   "id": "59a65a46-0d8f-48af-8311-7aa4b80fd422",
   "metadata": {},
   "outputs": [],
   "source": [
    "with open('/scratch365/cmoore24/training/hgg/binary/ecfs_project/ratios_equal0.pkl', 'rb') as f:\n",
    "    ecf_elist0 = pickle.load(f)\n",
    "with open('/scratch365/cmoore24/training/hgg/binary/ecfs_project/ratios_equal1.pkl', 'rb') as f:\n",
    "    ecf_elist1 = pickle.load(f)\n",
    "with open('/scratch365/cmoore24/training/hgg/binary/ecfs_project/ratios_equal2.pkl', 'rb') as f:\n",
    "    ecf_elist2 = pickle.load(f)"
   ]
  },
  {
   "cell_type": "code",
   "execution_count": 13,
   "id": "ff248f7b-31e1-4abd-ab98-d25b6c74b5a0",
   "metadata": {},
   "outputs": [],
   "source": [
    "with open('/scratch365/cmoore24/training/hgg/binary/ecfs_project/ratios0.pkl', 'rb') as f:\n",
    "    ecf_list0 = pickle.load(f)\n",
    "with open('/scratch365/cmoore24/training/hgg/binary/ecfs_project/ratios1.pkl', 'rb') as f:\n",
    "    ecf_list1 = pickle.load(f)\n",
    "with open('/scratch365/cmoore24/training/hgg/binary/ecfs_project/ratios2.pkl', 'rb') as f:\n",
    "    ecf_list2 = pickle.load(f)"
   ]
  },
  {
   "cell_type": "code",
   "execution_count": 14,
   "id": "c3d41956-1e0e-4229-a0c2-0b6fcd9ebdce",
   "metadata": {},
   "outputs": [],
   "source": [
    "ecf_list = ecf_list0 + ecf_list1 + ecf_list2 + ecf_elist0 + ecf_elist1 + ecf_elist2"
   ]
  },
  {
   "cell_type": "code",
   "execution_count": 15,
   "id": "5eaa21b2-a553-4c75-9e12-bef03f3c69fb",
   "metadata": {},
   "outputs": [],
   "source": [
    "def var_hist(dataset, bins, mini, maxi):\n",
    "    \n",
    "    make_hist = hist.Hist.new.Reg(bins, mini, maxi, name='var', label='MC Var').Weight()\n",
    "    make_hist.fill(var=dataset)\n",
    "    return make_hist"
   ]
  },
  {
   "cell_type": "code",
   "execution_count": 16,
   "id": "91c8068c-97d9-470b-be7e-98a7ad58ebf5",
   "metadata": {},
   "outputs": [],
   "source": [
    "def round_sig(x, sig=2):\n",
    "    return round(x, sig-int(math.floor(math.log10(abs(x))))-1)"
   ]
  },
  {
   "cell_type": "code",
   "execution_count": 17,
   "id": "c5431d50-d4a2-4c07-9cd9-4b5b8fdfbfd2",
   "metadata": {},
   "outputs": [],
   "source": [
    "def find_multiplier(decimal_number):\n",
    "    decimal_str = str(decimal_number)\n",
    "    \n",
    "    if '.' in decimal_str:\n",
    "        whole_part, fractional_part = decimal_str.split('.')\n",
    "        if int(fractional_part) == 0:\n",
    "            return 1\n",
    "        else:\n",
    "            decimal_places = len(fractional_part)\n",
    "    else:\n",
    "        return 1\n",
    "    multiplier = 10 ** decimal_places\n",
    "    return multiplier"
   ]
  },
  {
   "cell_type": "code",
   "execution_count": 18,
   "id": "db710800-9dea-4d28-9941-196cb979c2c8",
   "metadata": {},
   "outputs": [],
   "source": [
    "def format_float(num):\n",
    "    return np.format_float_positional(num, trim='-')"
   ]
  },
  {
   "cell_type": "code",
   "execution_count": 19,
   "id": "3ab83096-223b-467d-b8a5-990726eecf94",
   "metadata": {},
   "outputs": [],
   "source": [
    "def cal(data):\n",
    "    data = data[~np.isnan(data)]\n",
    "    Q1 = np.percentile(data, 25)\n",
    "    Q3 = np.percentile(data, 75)\n",
    "    IQR = Q3 - Q1\n",
    "    upper_limit = Q3 + 1.5 * IQR\n",
    "    \n",
    "    return upper_limit"
   ]
  },
  {
   "cell_type": "code",
   "execution_count": 20,
   "id": "6dd25594-ed2b-4def-82f1-f7048c2bb282",
   "metadata": {},
   "outputs": [],
   "source": [
    "IL = 44.99"
   ]
  },
  {
   "cell_type": "code",
   "execution_count": 42,
   "id": "20a28e4a-0e19-4d66-847d-01e49f632767",
   "metadata": {},
   "outputs": [],
   "source": [
    "with open('ks_tests.json', 'w') as f:\n",
    "    json.dump({}, f)\n",
    "index = 0"
   ]
  },
  {
   "cell_type": "code",
   "execution_count": 142,
   "id": "906b3a6c-bffa-4800-a96b-7f085dfa511b",
   "metadata": {},
   "outputs": [
    {
     "name": "stderr",
     "output_type": "stream",
     "text": [
      "/afs/crc.nd.edu/user/c/cmoore24/miniconda3/envs/coffea/lib/python3.11/site-packages/awkward/_nplikes/array_module.py:246: RuntimeWarning: divide by zero encountered in divide\n",
      "  return impl(*broadcasted_args, **(kwargs or {}))\n"
     ]
    }
   ],
   "source": [
    "for ecf in ecf_list[index:]:\n",
    "\n",
    "\n",
    "    dash = ecf.find('/')\n",
    "    asterisk = ecf.find('*')\n",
    "    numerator = ecf[:dash]\n",
    "    denominator = ecf[dash+1:asterisk]\n",
    "    exponent = float(ecf[asterisk+2:])\n",
    "\n",
    "    # if exponent >= 3:\n",
    "    #     continue\n",
    "\n",
    "    data_ratio = ak.flatten(data_arr.ECFs[numerator] / (data_arr.ECFs[denominator] ** exponent))\n",
    "\n",
    "    mini = ak.min(data_ratio)\n",
    "\n",
    "    try:\n",
    "        maxi = round_sig(float(cal(data_ratio)))\n",
    "\n",
    "    except:\n",
    "        \n",
    "        with open('ks_tests.json', 'r') as f:\n",
    "            result = json.load(f)\n",
    "        \n",
    "        result[ecf] = None\n",
    "        \n",
    "        with open('ks_tests.json', 'w') as f:\n",
    "            json.dump(result, f)\n",
    "        \n",
    "        index += 1\n",
    "        continue\n",
    "    \n",
    "    if maxi < 9e-308:\n",
    "        \n",
    "        with open('ks_tests.json', 'r') as f:\n",
    "            result = json.load(f)\n",
    "    \n",
    "        result[ecf] = None\n",
    "    \n",
    "        with open('ks_tests.json', 'w') as f:\n",
    "            json.dump(result, f)\n",
    "\n",
    "        index += 1\n",
    "        continue\n",
    "    \n",
    "    mult = find_multiplier(format_float(maxi-mini))\n",
    "    bins = int(math.ceil((maxi-mini) * mult))\n",
    "\n",
    "\n",
    "    bin_adjust = (bins/100)\n",
    "    bins = int(bins/(bin_adjust))\n",
    "\n",
    "    ecf_hists = {}\n",
    "    for i in mc:\n",
    "        if type(mc[i]) == dict:\n",
    "            ecf_hists[i] = {}\n",
    "            for j in mc[i]:\n",
    "                ratio = ak.flatten(mc[i][j].ECFs[numerator] / (mc[i][j].ECFs[denominator] ** exponent))\n",
    "                ecf_hists[i][j] = var_hist(ratio, bins, mini, maxi)\n",
    "        else:\n",
    "            ratio = ak.flatten(mc[i].ECFs[numerator] / (mc[i].ECFs[denominator] ** exponent))\n",
    "            ecf_hists[i] = var_hist(ratio, bins, mini, maxi)\n",
    "\n",
    "    data_ecf_hist = hist.Hist.new.Reg(bins, mini, maxi, name='var', label='Data Var').Weight()\n",
    "    data_ecf_hist.fill(var=data_ratio);\n",
    "\n",
    "    scaleHgg = ((IL*(xsecs['hgg']*1000)*0.0817)/(totals['hgg']))\n",
    "    ecf_hists['hgg'].view(flow=True)[:] *= scaleHgg\n",
    "\n",
    "    scaleHbb = ((IL*(xsecs['hbb']*1000)*0.581)/(totals['hbb']))\n",
    "    ecf_hists['hbb'].view(flow=True)[:] *= scaleHbb\n",
    "\n",
    "    for i in mc:\n",
    "        if (i == 'hgg') or (i == 'hbb'):\n",
    "            continue\n",
    "        else:\n",
    "            if type(mc[i]) == dict:\n",
    "                for j in mc[i]:\n",
    "                    scale = ((IL*(xsecs[i][j]*1000))/(totals_x[i][j]))\n",
    "                    ecf_hists[i][j].view(flow=True)[:] *= scale\n",
    "            else:\n",
    "                scale = ((IL*(xsecs[i]*1000))/(totals_x[i]))\n",
    "                ecf_hists[i].view(flow=True)[:] *= scale\n",
    "\n",
    "    qcd_hist = sum(ecf_hists['qcd'][i] for i in ecf_hists['qcd'])\n",
    "    wqq_hist = sum(ecf_hists['wqq'][i] for i in ecf_hists['wqq'])\n",
    "    zqq_hist = sum(ecf_hists['zqq'][i] for i in ecf_hists['zqq'])\n",
    "    ttboosted_hist = sum(ecf_hists['ttboosted'][i] for i in ecf_hists['ttboosted'])\n",
    "\n",
    "    single_hists = {}\n",
    "    single_hists['qcd'] = qcd_hist\n",
    "    single_hists['wqq'] = wqq_hist\n",
    "    single_hists['zqq'] = zqq_hist\n",
    "    single_hists['ttboosted'] = ttboosted_hist\n",
    "    single_hists['hgg'] = ecf_hists['hgg']\n",
    "    single_hists['hbb'] = ecf_hists['hbb']\n",
    "    single_hists['ww'] = ecf_hists['ww']\n",
    "    single_hists['zz'] = ecf_hists['zz']\n",
    "    single_hists['wz'] = ecf_hists['wz']\n",
    "    single_hists['singletop'] = ecf_hists['singletop']\n",
    "    \n",
    "    mc_ecf_hist = sum(single_hists[i] for i in single_hists)\n",
    "\n",
    "    ks_value = -math.log10(abs(np.cumsum((data_ecf_hist.density() / mult) * bin_adjust) - np.cumsum((mc_ecf_hist.density() / mult) * bin_adjust)).max()) \n",
    "    #print(np.cumsum((data_ecf_hist.density() / mult) * bin_adjust)[-1])    \n",
    "    #print(ks_value)\n",
    "\n",
    "    # if ks_value <= 1:\n",
    "    #     print(ks_value)\n",
    "    #     break\n",
    "\n",
    "    with open('ks_tests.json', 'r') as f:\n",
    "        result = json.load(f)\n",
    "\n",
    "    result[ecf] = ks_value\n",
    "\n",
    "    with open('ks_tests.json', 'w') as f:\n",
    "        json.dump(result, f)\n",
    "\n",
    "    index += 1"
   ]
  },
  {
   "cell_type": "code",
   "execution_count": 143,
   "id": "7dcaf6c0-6185-4fe4-a556-732e3e0c7d80",
   "metadata": {},
   "outputs": [
    {
     "data": {
      "text/plain": [
       "17312"
      ]
     },
     "execution_count": 143,
     "metadata": {},
     "output_type": "execute_result"
    }
   ],
   "source": [
    "index"
   ]
  },
  {
   "cell_type": "code",
   "execution_count": null,
   "id": "f7ac6baf-8e5d-4861-a6b1-2bf82c650c0d",
   "metadata": {},
   "outputs": [],
   "source": []
  }
 ],
 "metadata": {
  "kernelspec": {
   "display_name": "Python 3 (ipykernel)",
   "language": "python",
   "name": "python3"
  },
  "language_info": {
   "codemirror_mode": {
    "name": "ipython",
    "version": 3
   },
   "file_extension": ".py",
   "mimetype": "text/x-python",
   "name": "python",
   "nbconvert_exporter": "python",
   "pygments_lexer": "ipython3",
   "version": "3.11.9"
  }
 },
 "nbformat": 4,
 "nbformat_minor": 5
}
