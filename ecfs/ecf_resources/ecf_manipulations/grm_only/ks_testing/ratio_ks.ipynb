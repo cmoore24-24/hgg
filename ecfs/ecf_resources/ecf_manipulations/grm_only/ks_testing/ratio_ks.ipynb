{
 "cells": [
  {
   "cell_type": "code",
   "execution_count": 1,
   "id": "1f748d58-90e2-43b0-aa02-23690c44b1ce",
   "metadata": {},
   "outputs": [],
   "source": [
    "import numpy as np\n",
    "import awkward as ak\n",
    "import hist\n",
    "import warnings\n",
    "import pickle\n",
    "from coffea.ml_tools.torch_wrapper import torch_wrapper\n",
    "import matplotlib.pyplot as plt\n",
    "import hist\n",
    "from sklearn.metrics import roc_curve, auc\n",
    "import math\n",
    "import os\n",
    "import uproot\n",
    "import json\n",
    "import math"
   ]
  },
  {
   "cell_type": "code",
   "execution_count": 2,
   "id": "4b1fea1c-9839-40c6-81cf-dfb5244d3bbd",
   "metadata": {},
   "outputs": [],
   "source": [
    "with open('../../jsons/subregion_event_totals.json', 'r') as f:\n",
    "    totals = json.load(f)\n",
    "with open('../../jsons/my_xsecs.json', 'r') as f:\n",
    "    xsecs = json.load(f)"
   ]
  },
  {
   "cell_type": "code",
   "execution_count": 3,
   "id": "1050c0e1-c27c-47e3-b338-ec5ab85b7c3a",
   "metadata": {},
   "outputs": [],
   "source": [
    "totals_x = {}\n",
    "for i in totals:\n",
    "    if type(totals[i]) == dict:\n",
    "        totals_x[i] = {}\n",
    "        for j in totals[i]:\n",
    "            totals_x[i][f'{i}_{j}'] = totals[i][j]\n",
    "    else:\n",
    "        totals_x[i] = totals[i]"
   ]
  },
  {
   "cell_type": "code",
   "execution_count": 4,
   "id": "def94c4b-767f-4789-9ae0-2fb45a9abfbc",
   "metadata": {},
   "outputs": [],
   "source": [
    "hgg = ak.from_parquet('/project01/ndcms/cmoore24/skims/ecfs/singlemuon/single_parquets/hgg.parquet')\n",
    "hbb = ak.from_parquet('/project01/ndcms/cmoore24/skims/ecfs/singlemuon/single_parquets/hbb.parquet')\n",
    "singletop = ak.from_parquet('/project01/ndcms/cmoore24/skims/ecfs/singlemuon/single_parquets/singletop.parquet')\n",
    "ww = ak.from_parquet('/project01/ndcms/cmoore24/skims/ecfs/singlemuon/single_parquets/ww.parquet')\n",
    "wz = ak.from_parquet('/project01/ndcms/cmoore24/skims/ecfs/singlemuon/single_parquets/wz.parquet')\n",
    "zz = ak.from_parquet('/project01/ndcms/cmoore24/skims/ecfs/singlemuon/single_parquets/zz.parquet')"
   ]
  },
  {
   "cell_type": "code",
   "execution_count": 5,
   "id": "e4f88223-9041-419d-9e48-86875cc6a014",
   "metadata": {},
   "outputs": [],
   "source": [
    "qcd = {}\n",
    "#qcd['qcd_300to470'] = ak.from_parquet('/project01/ndcms/cmoore24/skims/ecfs/singlemuon/single_parquets/qcd_300to470.parquet')\n",
    "qcd['qcd_470to600'] = ak.from_parquet('/project01/ndcms/cmoore24/skims/ecfs/singlemuon/single_parquets/qcd_470to600.parquet')\n",
    "qcd['qcd_600to800'] = ak.from_parquet('/project01/ndcms/cmoore24/skims/ecfs/singlemuon/single_parquets/qcd_600to800.parquet')\n",
    "qcd['qcd_800to1000'] = ak.from_parquet('/project01/ndcms/cmoore24/skims/ecfs/singlemuon/single_parquets/qcd_800to1000.parquet')\n",
    "qcd['qcd_1000to1400'] = ak.from_parquet('/project01/ndcms/cmoore24/skims/ecfs/singlemuon/single_parquets/qcd_1000to1400.parquet')\n",
    "qcd['qcd_1400to1800'] = ak.from_parquet('/project01/ndcms/cmoore24/skims/ecfs/singlemuon/single_parquets/qcd_1400to1800.parquet')\n",
    "qcd['qcd_1800to2400'] = ak.from_parquet('/project01/ndcms/cmoore24/skims/ecfs/singlemuon/single_parquets/qcd_1800to2400.parquet')\n",
    "qcd['qcd_2400to3200'] = ak.from_parquet('/project01/ndcms/cmoore24/skims/ecfs/singlemuon/single_parquets/qcd_2400to3200.parquet')\n",
    "qcd['qcd_3200toInf'] = ak.from_parquet('/project01/ndcms/cmoore24/skims/ecfs/singlemuon/single_parquets/qcd_3200toInf.parquet')"
   ]
  },
  {
   "cell_type": "code",
   "execution_count": 6,
   "id": "87158bfc-418f-4c7a-9ba2-c3c771e35e9a",
   "metadata": {},
   "outputs": [],
   "source": [
    "wqq = {}\n",
    "#wqq['wqq_200to400'] = ak.from_parquet('/project01/ndcms/cmoore24/skims/ecfs/singlemuon/single_parquets/wqq_200to400.parquet')\n",
    "wqq['wqq_400to600'] = ak.from_parquet('/project01/ndcms/cmoore24/skims/ecfs/singlemuon/single_parquets/wqq_400to600.parquet')\n",
    "wqq['wqq_600to800'] = ak.from_parquet('/project01/ndcms/cmoore24/skims/ecfs/singlemuon/single_parquets/wqq_600to800.parquet')\n",
    "wqq['wqq_800toInf'] = ak.from_parquet('/project01/ndcms/cmoore24/skims/ecfs/singlemuon/single_parquets/wqq_800toInf.parquet')"
   ]
  },
  {
   "cell_type": "code",
   "execution_count": 7,
   "id": "c10aab20-34bc-40cd-ad68-ea18577cf543",
   "metadata": {},
   "outputs": [],
   "source": [
    "zqq = {}\n",
    "#zqq['zqq_200to400'] = ak.from_parquet('/project01/ndcms/cmoore24/skims/ecfs/singlemuon/single_parquets/zqq_200to400.parquet')\n",
    "zqq['zqq_400to600'] = ak.from_parquet('/project01/ndcms/cmoore24/skims/ecfs/singlemuon/single_parquets/zqq_400to600.parquet')\n",
    "zqq['zqq_600to800'] = ak.from_parquet('/project01/ndcms/cmoore24/skims/ecfs/singlemuon/single_parquets/zqq_600to800.parquet')\n",
    "zqq['zqq_800toInf'] = ak.from_parquet('/project01/ndcms/cmoore24/skims/ecfs/singlemuon/single_parquets/zqq_800toInf.parquet')"
   ]
  },
  {
   "cell_type": "code",
   "execution_count": 8,
   "id": "7f21fc71-63da-4f5b-92bf-d7bf2d60ed09",
   "metadata": {},
   "outputs": [],
   "source": [
    "ttboosted = {}\n",
    "ttboosted['ttboosted_700to1000'] = ak.from_parquet('/project01/ndcms/cmoore24/skims/ecfs/singlemuon/single_parquets/ttboosted_700to1000.parquet')\n",
    "ttboosted['ttboosted_1000toInf'] = ak.from_parquet('/project01/ndcms/cmoore24/skims/ecfs/singlemuon/single_parquets/ttboosted_1000toInf.parquet')"
   ]
  },
  {
   "cell_type": "code",
   "execution_count": 9,
   "id": "16c96096-4bb4-487b-9d61-dd73217b963a",
   "metadata": {},
   "outputs": [],
   "source": [
    "mc = {}\n",
    "mc['hgg'] = hgg\n",
    "mc['hbb'] = hbb\n",
    "mc['singletop'] = singletop\n",
    "mc['ww'] = ww\n",
    "mc['wz'] = wz\n",
    "mc['zz'] = zz\n",
    "mc['qcd'] = qcd\n",
    "mc['wqq'] = wqq\n",
    "mc['zqq'] = zqq\n",
    "mc['ttboosted'] = ttboosted"
   ]
  },
  {
   "cell_type": "code",
   "execution_count": 10,
   "id": "43543bb7-0029-4b18-bbc0-5d360ca0659e",
   "metadata": {},
   "outputs": [],
   "source": [
    "for i in mc:\n",
    "    if type(mc[i]) == dict:\n",
    "        for j in mc[i]:\n",
    "            mc[i][j] = mc[i][j][(ak.any(mc[i][j].pt > 450, axis=1))]\n",
    "    else:\n",
    "        mc[i] = mc[i][ak.any(mc[i].pt > 450, axis=1)]\n",
    "\n",
    "for i in mc:\n",
    "    if type(mc[i]) == dict:\n",
    "        for j in mc[i]:\n",
    "            mc[i][j] = mc[i][j][(ak.any(mc[i][j].pt < 600, axis=1))]\n",
    "    else:\n",
    "        mc[i] = mc[i][ak.any(mc[i].pt < 600, axis=1)]"
   ]
  },
  {
   "cell_type": "code",
   "execution_count": 11,
   "id": "5ddf611c-49d6-4fc8-8f7f-503e041a2ae5",
   "metadata": {},
   "outputs": [],
   "source": [
    "data = {}\n",
    "data['B'] = ak.from_parquet('/project01/ndcms/cmoore24/skims/ecfs/singlemuon/single_parquets/SingleMuon_B.parquet')\n",
    "data['C'] = ak.from_parquet('/project01/ndcms/cmoore24/skims/ecfs/singlemuon/single_parquets/SingleMuon_C.parquet')\n",
    "data['D'] = ak.from_parquet('/project01/ndcms/cmoore24/skims/ecfs/singlemuon/single_parquets/SingleMuon_D.parquet')\n",
    "data['E'] = ak.from_parquet('/project01/ndcms/cmoore24/skims/ecfs/singlemuon/single_parquets/SingleMuon_E.parquet')\n",
    "data['F'] = ak.from_parquet('/project01/ndcms/cmoore24/skims/ecfs/singlemuon/single_parquets/SingleMuon_F.parquet')\n",
    "\n",
    "for i in data:\n",
    "    if type(data[i]) == dict:\n",
    "        for j in data[i]:\n",
    "            data[i][j] = data[i][j][(ak.any(data[i][j].pt > 450, axis=1))]\n",
    "    else:\n",
    "        data[i] = data[i][ak.any(data[i].pt > 450, axis=1)]\n",
    "\n",
    "for i in data:\n",
    "    if type(data[i]) == dict:\n",
    "        for j in data[i]:\n",
    "            data[i][j] = data[i][j][(ak.any(data[i][j].pt < 600, axis=1))]\n",
    "    else:\n",
    "        data[i] = data[i][ak.any(data[i].pt < 600, axis=1)]\n",
    "\n",
    "data_arr = ak.concatenate([data['B'], data['C'], data['D'], data['E'], data['F']])"
   ]
  },
  {
   "cell_type": "code",
   "execution_count": 12,
   "id": "59a65a46-0d8f-48af-8311-7aa4b80fd422",
   "metadata": {},
   "outputs": [],
   "source": [
    "with open('/scratch365/cmoore24/training/hgg/binary/ecfs_project/ratios_equal0.pkl', 'rb') as f:\n",
    "    ecf_elist0 = pickle.load(f)\n",
    "with open('/scratch365/cmoore24/training/hgg/binary/ecfs_project/ratios_equal1.pkl', 'rb') as f:\n",
    "    ecf_elist1 = pickle.load(f)\n",
    "with open('/scratch365/cmoore24/training/hgg/binary/ecfs_project/ratios_equal2.pkl', 'rb') as f:\n",
    "    ecf_elist2 = pickle.load(f)"
   ]
  },
  {
   "cell_type": "code",
   "execution_count": 13,
   "id": "ff248f7b-31e1-4abd-ab98-d25b6c74b5a0",
   "metadata": {},
   "outputs": [],
   "source": [
    "with open('/scratch365/cmoore24/training/hgg/binary/ecfs_project/ratios0.pkl', 'rb') as f:\n",
    "    ecf_list0 = pickle.load(f)\n",
    "with open('/scratch365/cmoore24/training/hgg/binary/ecfs_project/ratios1.pkl', 'rb') as f:\n",
    "    ecf_list1 = pickle.load(f)\n",
    "with open('/scratch365/cmoore24/training/hgg/binary/ecfs_project/ratios2.pkl', 'rb') as f:\n",
    "    ecf_list2 = pickle.load(f)"
   ]
  },
  {
   "cell_type": "code",
   "execution_count": 14,
   "id": "c3d41956-1e0e-4229-a0c2-0b6fcd9ebdce",
   "metadata": {},
   "outputs": [],
   "source": [
    "ecf_list = ecf_list0 + ecf_list1 + ecf_list2 + ecf_elist0 + ecf_elist1 + ecf_elist2"
   ]
  },
  {
   "cell_type": "code",
   "execution_count": 15,
   "id": "9c422327-3c51-418a-b426-828eba73dd0d",
   "metadata": {},
   "outputs": [
    {
     "data": {
      "text/plain": [
       "17312"
      ]
     },
     "execution_count": 15,
     "metadata": {},
     "output_type": "execute_result"
    }
   ],
   "source": [
    "len(ecf_list)"
   ]
  },
  {
   "cell_type": "code",
   "execution_count": 16,
   "id": "5eaa21b2-a553-4c75-9e12-bef03f3c69fb",
   "metadata": {},
   "outputs": [],
   "source": [
    "def var_hist(dataset, bins, mini, maxi):\n",
    "    \n",
    "    make_hist = hist.Hist.new.Reg(bins, mini, maxi, name='var', label='MC Var').Weight()\n",
    "    make_hist.fill(var=dataset)\n",
    "    return make_hist"
   ]
  },
  {
   "cell_type": "code",
   "execution_count": 17,
   "id": "91c8068c-97d9-470b-be7e-98a7ad58ebf5",
   "metadata": {},
   "outputs": [],
   "source": [
    "def round_sig(x, sig=2):\n",
    "    return round(x, sig-int(math.floor(math.log10(abs(x))))-1)"
   ]
  },
  {
   "cell_type": "code",
   "execution_count": 18,
   "id": "c5431d50-d4a2-4c07-9cd9-4b5b8fdfbfd2",
   "metadata": {},
   "outputs": [],
   "source": [
    "def find_multiplier(decimal_number):\n",
    "    decimal_str = str(decimal_number)\n",
    "    \n",
    "    if '.' in decimal_str:\n",
    "        whole_part, fractional_part = decimal_str.split('.')\n",
    "        if int(fractional_part) == 0:\n",
    "            return 1\n",
    "        else:\n",
    "            decimal_places = len(fractional_part)\n",
    "    else:\n",
    "        return 1\n",
    "    multiplier = 10 ** decimal_places\n",
    "    return multiplier"
   ]
  },
  {
   "cell_type": "code",
   "execution_count": 19,
   "id": "db710800-9dea-4d28-9941-196cb979c2c8",
   "metadata": {},
   "outputs": [],
   "source": [
    "def format_float(num):\n",
    "    return np.format_float_positional(num, trim='-')"
   ]
  },
  {
   "cell_type": "code",
   "execution_count": 1260,
   "id": "0b9ec673-9246-486a-9e83-04388bd37be1",
   "metadata": {},
   "outputs": [],
   "source": [
    "def cal(data):\n",
    "    data = data[~np.isnan(data)]\n",
    "    Q1 = np.percentile(data, 25)\n",
    "    Q2 = np.percentile(data, 75)\n",
    "    IQR = Q2 - Q1\n",
    "    upper_limit = Q2 + 1.5 * IQR\n",
    "    \n",
    "    return upper_limit"
   ]
  },
  {
   "cell_type": "code",
   "execution_count": 1261,
   "id": "6dd25594-ed2b-4def-82f1-f7048c2bb282",
   "metadata": {},
   "outputs": [],
   "source": [
    "IL = 44.99"
   ]
  },
  {
   "cell_type": "code",
   "execution_count": 1320,
   "id": "6d8039ce-abdf-408b-b375-33f1b3cde19a",
   "metadata": {},
   "outputs": [],
   "source": [
    "ecf = ecf_list[0]\n",
    "ecf = '3e5^0.5/2e5^1.0**0.75'"
   ]
  },
  {
   "cell_type": "code",
   "execution_count": 1321,
   "id": "c1eadb57-db85-4e14-a3a3-21cbee80d3e6",
   "metadata": {},
   "outputs": [],
   "source": [
    "dash = ecf.find('/')\n",
    "asterisk = ecf.find('*')\n",
    "numerator = ecf[:dash]\n",
    "denominator = ecf[dash+1:asterisk]\n",
    "exponent = float(ecf[asterisk+2:])"
   ]
  },
  {
   "cell_type": "code",
   "execution_count": 1322,
   "id": "a85b696e-5a27-4a85-b51f-bec01c944006",
   "metadata": {},
   "outputs": [
    {
     "name": "stderr",
     "output_type": "stream",
     "text": [
      "/afs/crc.nd.edu/user/c/cmoore24/miniconda3/envs/coffea/lib/python3.11/site-packages/awkward/_nplikes/array_module.py:246: RuntimeWarning: invalid value encountered in divide\n",
      "  return impl(*broadcasted_args, **(kwargs or {}))\n"
     ]
    }
   ],
   "source": [
    "data_ratio = ak.flatten(data_arr.ECFs[numerator] / (data_arr.ECFs[denominator] ** exponent))"
   ]
  },
  {
   "cell_type": "code",
   "execution_count": 1323,
   "id": "ba592279-9578-4f27-9025-f18fd5aebb72",
   "metadata": {},
   "outputs": [
    {
     "name": "stdout",
     "output_type": "stream",
     "text": [
      "18000.0\n"
     ]
    }
   ],
   "source": [
    "mini = ak.min(data_ratio)\n",
    "maxi = round_sig(cal(data_ratio))\n",
    "print(maxi)\n",
    "mult = find_multiplier(format_float(maxi-mini))\n",
    "bins = int(math.ceil((maxi-mini) * mult))"
   ]
  },
  {
   "cell_type": "code",
   "execution_count": 1324,
   "id": "5e8a2c3b-1ba3-4454-bb50-2c51ccb40c26",
   "metadata": {},
   "outputs": [],
   "source": [
    "bin_adjust = (bins/100)\n",
    "bins = int(bins/(bin_adjust))"
   ]
  },
  {
   "cell_type": "code",
   "execution_count": 1325,
   "id": "88822153-3efd-4598-b228-a93697a382da",
   "metadata": {},
   "outputs": [],
   "source": [
    "ecf_hists = {}\n",
    "for i in mc:\n",
    "    if type(mc[i]) == dict:\n",
    "        ecf_hists[i] = {}\n",
    "        for j in mc[i]:\n",
    "            ratio = ak.flatten(mc[i][j].ECFs[numerator] / (mc[i][j].ECFs[denominator] ** exponent))\n",
    "            ecf_hists[i][j] = var_hist(ratio, bins, mini, maxi)\n",
    "    else:\n",
    "        ratio = ak.flatten(mc[i].ECFs[numerator] / (mc[i].ECFs[denominator] ** exponent))\n",
    "        ecf_hists[i] = var_hist(ratio, bins, mini, maxi)"
   ]
  },
  {
   "cell_type": "code",
   "execution_count": 1326,
   "id": "87d96106-6cf9-4b18-817e-982aa36c9af7",
   "metadata": {},
   "outputs": [],
   "source": [
    "data_ecf_hist = hist.Hist.new.Reg(bins, mini, maxi, name='var', label='Data Var').Weight()\n",
    "data_ecf_hist.fill(var=data_ratio);"
   ]
  },
  {
   "cell_type": "code",
   "execution_count": 1327,
   "id": "d6b973b9-759c-485f-a18f-ea9a9df0e2bb",
   "metadata": {},
   "outputs": [],
   "source": [
    "scaleHgg = ((IL*(xsecs['hgg']*1000)*0.0817)/(totals['hgg']))\n",
    "ecf_hists['hgg'].view(flow=True)[:] *= scaleHgg\n",
    "\n",
    "scaleHbb = ((IL*(xsecs['hbb']*1000)*0.581)/(totals['hbb']))\n",
    "ecf_hists['hbb'].view(flow=True)[:] *= scaleHbb"
   ]
  },
  {
   "cell_type": "code",
   "execution_count": 1328,
   "id": "7c143cdf-66c7-40a1-92fb-61e8416e168b",
   "metadata": {},
   "outputs": [],
   "source": [
    "for i in mc:\n",
    "    if (i == 'hgg') or (i == 'hbb'):\n",
    "        continue\n",
    "    else:\n",
    "        if type(mc[i]) == dict:\n",
    "            for j in mc[i]:\n",
    "                scale = ((IL*(xsecs[i][j]*1000))/(totals_x[i][j]))\n",
    "                ecf_hists[i][j].view(flow=True)[:] *= scale\n",
    "        else:\n",
    "            scale = ((IL*(xsecs[i]*1000))/(totals_x[i]))\n",
    "            ecf_hists[i].view(flow=True)[:] *= scale"
   ]
  },
  {
   "cell_type": "code",
   "execution_count": 1329,
   "id": "726498b6-ed27-42f3-9856-0a8f16c54de1",
   "metadata": {},
   "outputs": [],
   "source": [
    "qcd_hist = sum(ecf_hists['qcd'][i] for i in ecf_hists['qcd'])\n",
    "wqq_hist = sum(ecf_hists['wqq'][i] for i in ecf_hists['wqq'])\n",
    "zqq_hist = sum(ecf_hists['zqq'][i] for i in ecf_hists['zqq'])\n",
    "ttboosted_hist = sum(ecf_hists['ttboosted'][i] for i in ecf_hists['ttboosted'])\n",
    "\n",
    "single_hists = {}\n",
    "single_hists['qcd'] = qcd_hist\n",
    "single_hists['wqq'] = wqq_hist\n",
    "single_hists['zqq'] = zqq_hist\n",
    "single_hists['ttboosted'] = ttboosted_hist\n",
    "single_hists['hgg'] = ecf_hists['hgg']\n",
    "single_hists['hbb'] = ecf_hists['hbb']\n",
    "single_hists['ww'] = ecf_hists['ww']\n",
    "single_hists['zz'] = ecf_hists['zz']\n",
    "single_hists['wz'] = ecf_hists['wz']\n",
    "single_hists['singletop'] = ecf_hists['singletop']\n",
    "\n",
    "mc_ecf_hist = sum(single_hists[i] for i in single_hists)"
   ]
  },
  {
   "cell_type": "code",
   "execution_count": 1330,
   "id": "5d396b73-c50d-4f3c-b7cf-4b53f2570338",
   "metadata": {},
   "outputs": [],
   "source": [
    "ks_value = -math.log10(abs(np.cumsum(data_ecf_hist.density() / mult * bin_adjust) - np.cumsum(mc_ecf_hist.density() / mult * bin_adjust)).max())"
   ]
  },
  {
   "cell_type": "code",
   "execution_count": 1331,
   "id": "83437d59-ab29-4db7-9d3b-36c72828ad84",
   "metadata": {},
   "outputs": [
    {
     "data": {
      "text/plain": [
       "array([7.07751650e-04, 3.16718863e-03, 8.79381425e-03, 1.79061167e-02,\n",
       "       3.20965373e-02, 5.34175558e-02, 8.14268273e-02, 1.20335474e-01,\n",
       "       1.63490631e-01, 2.08662880e-01, 2.56294566e-01, 3.03678539e-01,\n",
       "       3.49169277e-01, 3.92607534e-01, 4.32825522e-01, 4.70230196e-01,\n",
       "       5.04573845e-01, 5.34405577e-01, 5.61300140e-01, 5.85912203e-01,\n",
       "       6.08170993e-01, 6.29067360e-01, 6.46230338e-01, 6.62561707e-01,\n",
       "       6.77265248e-01, 6.91101792e-01, 7.03965179e-01, 7.15996957e-01,\n",
       "       7.27161739e-01, 7.37778014e-01, 7.47527293e-01, 7.57064246e-01,\n",
       "       7.66123467e-01, 7.74474937e-01, 7.82118655e-01, 7.90098554e-01,\n",
       "       7.97264540e-01, 8.03899712e-01, 8.10287170e-01, 8.16692323e-01,\n",
       "       8.22743599e-01, 8.28777182e-01, 8.34722296e-01, 8.40348922e-01,\n",
       "       8.45250102e-01, 8.50363607e-01, 8.55123237e-01, 8.59741317e-01,\n",
       "       8.64093989e-01, 8.68110480e-01, 8.72197746e-01, 8.76568112e-01,\n",
       "       8.80726153e-01, 8.84813419e-01, 8.88670665e-01, 8.92740237e-01,\n",
       "       8.96650565e-01, 9.00277793e-01, 9.03285737e-01, 9.07036821e-01,\n",
       "       9.10257091e-01, 9.13424279e-01, 9.16609162e-01, 9.19369393e-01,\n",
       "       9.22377338e-01, 9.25632995e-01, 9.28570165e-01, 9.31489640e-01,\n",
       "       9.34426810e-01, 9.37523223e-01, 9.40177292e-01, 9.42937523e-01,\n",
       "       9.45697755e-01, 9.47962560e-01, 9.50492772e-01, 9.52863740e-01,\n",
       "       9.54845445e-01, 9.57340269e-01, 9.59746625e-01, 9.62259143e-01,\n",
       "       9.64506255e-01, 9.66381797e-01, 9.68239645e-01, 9.70433675e-01,\n",
       "       9.72840030e-01, 9.74644797e-01, 9.76714971e-01, 9.78572819e-01,\n",
       "       9.80342198e-01, 9.81970027e-01, 9.83916344e-01, 9.85774192e-01,\n",
       "       9.87932834e-01, 9.89843764e-01, 9.91453899e-01, 9.93240972e-01,\n",
       "       9.94957269e-01, 9.96708955e-01, 9.98460640e-01, 1.00000000e+00])"
      ]
     },
     "execution_count": 1331,
     "metadata": {},
     "output_type": "execute_result"
    }
   ],
   "source": [
    "np.cumsum((data_ecf_hist.density() / mult) * bin_adjust)"
   ]
  },
  {
   "cell_type": "code",
   "execution_count": 1332,
   "id": "da2034a1-82f3-4def-babe-1a8990777d7c",
   "metadata": {},
   "outputs": [
    {
     "data": {
      "text/plain": [
       "1.4490547330335262"
      ]
     },
     "execution_count": 1332,
     "metadata": {},
     "output_type": "execute_result"
    }
   ],
   "source": [
    "ks_value"
   ]
  },
  {
   "cell_type": "code",
   "execution_count": null,
   "id": "eb4b2a99-9807-480d-a77a-4e7a453da08c",
   "metadata": {},
   "outputs": [],
   "source": []
  },
  {
   "cell_type": "code",
   "execution_count": 1333,
   "id": "4ca044ee-d73f-4f37-97f3-c265b6e748b5",
   "metadata": {},
   "outputs": [],
   "source": [
    "ecf_hists = {}\n",
    "for i in mc:\n",
    "    if type(mc[i]) == dict:\n",
    "        ecf_hists[i] = {}\n",
    "        for j in mc[i]:\n",
    "            ratio = ak.flatten(mc[i][j].ECFs[numerator] / (mc[i][j].ECFs[denominator] ** exponent))\n",
    "            ecf_hists[i][j] = var_hist(ratio, 40, mini, maxi)\n",
    "    else:\n",
    "        ratio = ak.flatten(mc[i].ECFs[numerator] / (mc[i].ECFs[denominator] ** exponent))\n",
    "        ecf_hists[i] = var_hist(ratio, 40, mini, maxi)"
   ]
  },
  {
   "cell_type": "code",
   "execution_count": 1334,
   "id": "40ae3e79-a1ef-4bcc-9878-bb2775b5cf74",
   "metadata": {},
   "outputs": [],
   "source": [
    "data_ecf_hist = hist.Hist.new.Reg(40, mini, maxi, name='var', label='Data Var').Weight()\n",
    "data_ecf_hist.fill(var=data_ratio);"
   ]
  },
  {
   "cell_type": "code",
   "execution_count": 1335,
   "id": "aaa9e2ea-f358-48c4-a77e-fe291e764533",
   "metadata": {},
   "outputs": [],
   "source": [
    "scaleHgg = ((IL*(xsecs['hgg']*1000)*0.0817)/(totals['hgg']))\n",
    "ecf_hists['hgg'].view(flow=True)[:] *= scaleHgg\n",
    "\n",
    "scaleHbb = ((IL*(xsecs['hbb']*1000)*0.581)/(totals['hbb']))\n",
    "ecf_hists['hbb'].view(flow=True)[:] *= scaleHbb"
   ]
  },
  {
   "cell_type": "code",
   "execution_count": 1336,
   "id": "dba6eccd-c92d-4468-8353-9e2bc3e3f4a5",
   "metadata": {},
   "outputs": [],
   "source": [
    "for i in mc:\n",
    "    if (i == 'hgg') or (i == 'hbb'):\n",
    "        continue\n",
    "    else:\n",
    "        if type(mc[i]) == dict:\n",
    "            for j in mc[i]:\n",
    "                scale = ((IL*(xsecs[i][j]*1000))/(totals_x[i][j]))\n",
    "                ecf_hists[i][j].view(flow=True)[:] *= scale\n",
    "        else:\n",
    "            scale = ((IL*(xsecs[i]*1000))/(totals_x[i]))\n",
    "            ecf_hists[i].view(flow=True)[:] *= scale"
   ]
  },
  {
   "cell_type": "code",
   "execution_count": 1337,
   "id": "d1040413-1291-4bae-b4fb-a015025ac70e",
   "metadata": {},
   "outputs": [],
   "source": [
    "qcd_hist = sum(ecf_hists['qcd'][i] for i in ecf_hists['qcd'])\n",
    "wqq_hist = sum(ecf_hists['wqq'][i] for i in ecf_hists['wqq'])\n",
    "zqq_hist = sum(ecf_hists['zqq'][i] for i in ecf_hists['zqq'])\n",
    "ttboosted_hist = sum(ecf_hists['ttboosted'][i] for i in ecf_hists['ttboosted'])\n",
    "\n",
    "single_hists = {}\n",
    "single_hists['qcd'] = qcd_hist\n",
    "single_hists['wqq'] = wqq_hist\n",
    "single_hists['zqq'] = zqq_hist\n",
    "single_hists['ttboosted'] = ttboosted_hist\n",
    "single_hists['hgg'] = ecf_hists['hgg']\n",
    "single_hists['hbb'] = ecf_hists['hbb']\n",
    "single_hists['ww'] = ecf_hists['ww']\n",
    "single_hists['zz'] = ecf_hists['zz']\n",
    "single_hists['wz'] = ecf_hists['wz']\n",
    "single_hists['singletop'] = ecf_hists['singletop']\n",
    "\n",
    "mc_ecf_hist = sum(single_hists[i] for i in single_hists)"
   ]
  },
  {
   "cell_type": "code",
   "execution_count": 1338,
   "id": "42991fb6-8cc1-415f-92a8-eb70033ed8c8",
   "metadata": {},
   "outputs": [
    {
     "data": {
      "image/png": "[encoded data removed]",
      "text/plain": [
       "<Figure size 640x480 with 1 Axes>"
      ]
     },
     "metadata": {},
     "output_type": "display_data"
    }
   ],
   "source": [
    "mc_ecf_hist.plot1d(label='MC', density=True)\n",
    "data_ecf_hist.plot1d(label='Data', density=True)\n",
    "plt.legend()\n",
    "plt.yscale('log')\n",
    "plt.show()"
   ]
  },
  {
   "cell_type": "code",
   "execution_count": null,
   "id": "6c1f9610-913a-4586-ab81-0a3b32394dcc",
   "metadata": {},
   "outputs": [],
   "source": []
  },
  {
   "cell_type": "code",
   "execution_count": null,
   "id": "54b5237b-3619-4785-9330-253a3e32d965",
   "metadata": {},
   "outputs": [],
   "source": []
  },
  {
   "cell_type": "code",
   "execution_count": null,
   "id": "8cad0d5a-a311-427d-9341-f3c8f79c8185",
   "metadata": {},
   "outputs": [],
   "source": []
  },
  {
   "cell_type": "code",
   "execution_count": null,
   "id": "f2077565-ac62-47b3-812e-3e85dd892655",
   "metadata": {},
   "outputs": [],
   "source": []
  },
  {
   "cell_type": "code",
   "execution_count": null,
   "id": "9beb2fe3-ac1b-4db7-9c0f-ea333b42787c",
   "metadata": {},
   "outputs": [],
   "source": []
  },
  {
   "cell_type": "code",
   "execution_count": null,
   "id": "442dba2b-b55b-4d88-9265-8829a3b6d6f2",
   "metadata": {},
   "outputs": [],
   "source": []
  }
 ],
 "metadata": {
  "kernelspec": {
   "display_name": "Python 3 (ipykernel)",
   "language": "python",
   "name": "python3"
  },
  "language_info": {
   "codemirror_mode": {
    "name": "ipython",
    "version": 3
   },
   "file_extension": ".py",
   "mimetype": "text/x-python",
   "name": "python",
   "nbconvert_exporter": "python",
   "pygments_lexer": "ipython3",
   "version": "3.11.9"
  }
 },
 "nbformat": 4,
 "nbformat_minor": 5
}
