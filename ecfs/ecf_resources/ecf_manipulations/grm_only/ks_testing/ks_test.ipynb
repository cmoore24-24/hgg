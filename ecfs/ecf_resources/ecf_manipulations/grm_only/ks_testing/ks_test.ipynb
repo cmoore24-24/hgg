{
 "cells": [
  {
   "cell_type": "code",
   "execution_count": 1,
   "id": "93521807-ca73-4cf1-90d1-4d57c4b35d85",
   "metadata": {},
   "outputs": [],
   "source": [
    "import numpy as np\n",
    "import awkward as ak\n",
    "import hist\n",
    "import warnings\n",
    "import pickle\n",
    "from coffea.ml_tools.torch_wrapper import torch_wrapper\n",
    "import matplotlib.pyplot as plt\n",
    "import hist\n",
    "from sklearn.metrics import roc_curve, auc\n",
    "import math\n",
    "import os\n",
    "import uproot\n",
    "import json\n",
    "import math"
   ]
  },
  {
   "cell_type": "code",
   "execution_count": 2,
   "id": "897f370a-0a81-4ca4-a326-4072757e92fb",
   "metadata": {},
   "outputs": [
    {
     "ename": "FileNotFoundError",
     "evalue": "[Errno 2] No such file or directory: '../../jsons/subregion_event_totals.json'",
     "output_type": "error",
     "traceback": [
      "\u001b[0;31m---------------------------------------------------------------------------\u001b[0m",
      "\u001b[0;31mFileNotFoundError\u001b[0m                         Traceback (most recent call last)",
      "Cell \u001b[0;32mIn[2], line 1\u001b[0m\n\u001b[0;32m----> 1\u001b[0m \u001b[38;5;28;01mwith\u001b[39;00m \u001b[38;5;28;43mopen\u001b[39;49m\u001b[43m(\u001b[49m\u001b[38;5;124;43m'\u001b[39;49m\u001b[38;5;124;43m../../jsons/subregion_event_totals.json\u001b[39;49m\u001b[38;5;124;43m'\u001b[39;49m\u001b[43m,\u001b[49m\u001b[43m \u001b[49m\u001b[38;5;124;43m'\u001b[39;49m\u001b[38;5;124;43mr\u001b[39;49m\u001b[38;5;124;43m'\u001b[39;49m\u001b[43m)\u001b[49m \u001b[38;5;28;01mas\u001b[39;00m f:\n\u001b[1;32m      2\u001b[0m     totals \u001b[38;5;241m=\u001b[39m json\u001b[38;5;241m.\u001b[39mload(f)\n\u001b[1;32m      3\u001b[0m \u001b[38;5;28;01mwith\u001b[39;00m \u001b[38;5;28mopen\u001b[39m(\u001b[38;5;124m'\u001b[39m\u001b[38;5;124m../../jsons/my_xsecs.json\u001b[39m\u001b[38;5;124m'\u001b[39m, \u001b[38;5;124m'\u001b[39m\u001b[38;5;124mr\u001b[39m\u001b[38;5;124m'\u001b[39m) \u001b[38;5;28;01mas\u001b[39;00m f:\n",
      "File \u001b[0;32m~/miniconda3/envs/coffea/lib/python3.11/site-packages/IPython/core/interactiveshell.py:324\u001b[0m, in \u001b[0;36m_modified_open\u001b[0;34m(file, *args, **kwargs)\u001b[0m\n\u001b[1;32m    317\u001b[0m \u001b[38;5;28;01mif\u001b[39;00m file \u001b[38;5;129;01min\u001b[39;00m {\u001b[38;5;241m0\u001b[39m, \u001b[38;5;241m1\u001b[39m, \u001b[38;5;241m2\u001b[39m}:\n\u001b[1;32m    318\u001b[0m     \u001b[38;5;28;01mraise\u001b[39;00m \u001b[38;5;167;01mValueError\u001b[39;00m(\n\u001b[1;32m    319\u001b[0m         \u001b[38;5;124mf\u001b[39m\u001b[38;5;124m\"\u001b[39m\u001b[38;5;124mIPython won\u001b[39m\u001b[38;5;124m'\u001b[39m\u001b[38;5;124mt let you open fd=\u001b[39m\u001b[38;5;132;01m{\u001b[39;00mfile\u001b[38;5;132;01m}\u001b[39;00m\u001b[38;5;124m by default \u001b[39m\u001b[38;5;124m\"\u001b[39m\n\u001b[1;32m    320\u001b[0m         \u001b[38;5;124m\"\u001b[39m\u001b[38;5;124mas it is likely to crash IPython. If you know what you are doing, \u001b[39m\u001b[38;5;124m\"\u001b[39m\n\u001b[1;32m    321\u001b[0m         \u001b[38;5;124m\"\u001b[39m\u001b[38;5;124myou can use builtins\u001b[39m\u001b[38;5;124m'\u001b[39m\u001b[38;5;124m open.\u001b[39m\u001b[38;5;124m\"\u001b[39m\n\u001b[1;32m    322\u001b[0m     )\n\u001b[0;32m--> 324\u001b[0m \u001b[38;5;28;01mreturn\u001b[39;00m \u001b[43mio_open\u001b[49m\u001b[43m(\u001b[49m\u001b[43mfile\u001b[49m\u001b[43m,\u001b[49m\u001b[43m \u001b[49m\u001b[38;5;241;43m*\u001b[39;49m\u001b[43margs\u001b[49m\u001b[43m,\u001b[49m\u001b[43m \u001b[49m\u001b[38;5;241;43m*\u001b[39;49m\u001b[38;5;241;43m*\u001b[39;49m\u001b[43mkwargs\u001b[49m\u001b[43m)\u001b[49m\n",
      "\u001b[0;31mFileNotFoundError\u001b[0m: [Errno 2] No such file or directory: '../../jsons/subregion_event_totals.json'"
     ]
    }
   ],
   "source": [
    "with open('../../jsons/subregion_event_totals.json', 'r') as f:\n",
    "    totals = json.load(f)\n",
    "with open('../../jsons/my_xsecs.json', 'r') as f:\n",
    "    xsecs = json.load(f)"
   ]
  },
  {
   "cell_type": "code",
   "execution_count": 243,
   "id": "c7471557-5830-44f1-b32d-68b7e6589040",
   "metadata": {},
   "outputs": [],
   "source": [
    "xsecs['qcd']['qcd_300to470'] = 6833*(0.25)"
   ]
  },
  {
   "cell_type": "code",
   "execution_count": 244,
   "id": "210745d2-775a-437a-841f-7fbea0188190",
   "metadata": {},
   "outputs": [
    {
     "data": {
      "text/plain": [
       "1708.25"
      ]
     },
     "execution_count": 244,
     "metadata": {},
     "output_type": "execute_result"
    }
   ],
   "source": [
    "xsecs['qcd']['qcd_300to470']"
   ]
  },
  {
   "cell_type": "code",
   "execution_count": 245,
   "id": "afe1b9ca-5438-4c79-9a21-29bf2d80738b",
   "metadata": {},
   "outputs": [],
   "source": [
    "totals_x = {}\n",
    "for i in totals:\n",
    "    if type(totals[i]) == dict:\n",
    "        totals_x[i] = {}\n",
    "        for j in totals[i]:\n",
    "            totals_x[i][f'{i}_{j}'] = totals[i][j]\n",
    "    else:\n",
    "        totals_x[i] = totals[i]"
   ]
  },
  {
   "cell_type": "code",
   "execution_count": 246,
   "id": "091bf3b1-f895-4b9a-bec2-33db107047fe",
   "metadata": {},
   "outputs": [],
   "source": [
    "hgg = ak.from_parquet('/project01/ndcms/cmoore24/skims/ecfs/singlemuon/single_parquets/hgg.parquet')\n",
    "hbb = ak.from_parquet('/project01/ndcms/cmoore24/skims/ecfs/singlemuon/single_parquets/hbb.parquet')\n",
    "singletop = ak.from_parquet('/project01/ndcms/cmoore24/skims/ecfs/singlemuon/single_parquets/singletop.parquet')\n",
    "ww = ak.from_parquet('/project01/ndcms/cmoore24/skims/ecfs/singlemuon/single_parquets/ww.parquet')\n",
    "wz = ak.from_parquet('/project01/ndcms/cmoore24/skims/ecfs/singlemuon/single_parquets/wz.parquet')\n",
    "zz = ak.from_parquet('/project01/ndcms/cmoore24/skims/ecfs/singlemuon/single_parquets/zz.parquet')"
   ]
  },
  {
   "cell_type": "code",
   "execution_count": 267,
   "id": "5c951d0a-8b81-434c-9dd5-5fbe7f0c17ed",
   "metadata": {},
   "outputs": [],
   "source": [
    "qcd = {}\n",
    "#qcd['qcd_300to470'] = ak.from_parquet('/project01/ndcms/cmoore24/skims/ecfs/singlemuon/single_parquets/qcd_300to470.parquet')\n",
    "qcd['qcd_470to600'] = ak.from_parquet('/project01/ndcms/cmoore24/skims/ecfs/singlemuon/single_parquets/qcd_470to600.parquet')\n",
    "qcd['qcd_600to800'] = ak.from_parquet('/project01/ndcms/cmoore24/skims/ecfs/singlemuon/single_parquets/qcd_600to800.parquet')\n",
    "qcd['qcd_800to1000'] = ak.from_parquet('/project01/ndcms/cmoore24/skims/ecfs/singlemuon/single_parquets/qcd_800to1000.parquet')\n",
    "qcd['qcd_1000to1400'] = ak.from_parquet('/project01/ndcms/cmoore24/skims/ecfs/singlemuon/single_parquets/qcd_1000to1400.parquet')\n",
    "qcd['qcd_1400to1800'] = ak.from_parquet('/project01/ndcms/cmoore24/skims/ecfs/singlemuon/single_parquets/qcd_1400to1800.parquet')\n",
    "qcd['qcd_1800to2400'] = ak.from_parquet('/project01/ndcms/cmoore24/skims/ecfs/singlemuon/single_parquets/qcd_1800to2400.parquet')\n",
    "qcd['qcd_2400to3200'] = ak.from_parquet('/project01/ndcms/cmoore24/skims/ecfs/singlemuon/single_parquets/qcd_2400to3200.parquet')\n",
    "qcd['qcd_3200toInf'] = ak.from_parquet('/project01/ndcms/cmoore24/skims/ecfs/singlemuon/single_parquets/qcd_3200toInf.parquet')"
   ]
  },
  {
   "cell_type": "code",
   "execution_count": 268,
   "id": "4acd7088-a319-4772-8a87-4fd8c9110899",
   "metadata": {},
   "outputs": [],
   "source": [
    "wqq = {}\n",
    "#wqq['wqq_200to400'] = ak.from_parquet('/project01/ndcms/cmoore24/skims/ecfs/singlemuon/single_parquets/wqq_200to400.parquet')\n",
    "wqq['wqq_400to600'] = ak.from_parquet('/project01/ndcms/cmoore24/skims/ecfs/singlemuon/single_parquets/wqq_400to600.parquet')\n",
    "wqq['wqq_600to800'] = ak.from_parquet('/project01/ndcms/cmoore24/skims/ecfs/singlemuon/single_parquets/wqq_600to800.parquet')\n",
    "wqq['wqq_800toInf'] = ak.from_parquet('/project01/ndcms/cmoore24/skims/ecfs/singlemuon/single_parquets/wqq_800toInf.parquet')"
   ]
  },
  {
   "cell_type": "code",
   "execution_count": 269,
   "id": "04c07678-6abb-4657-b661-8f15ce3e18d2",
   "metadata": {},
   "outputs": [],
   "source": [
    "zqq = {}\n",
    "#zqq['zqq_200to400'] = ak.from_parquet('/project01/ndcms/cmoore24/skims/ecfs/singlemuon/single_parquets/zqq_200to400.parquet')\n",
    "zqq['zqq_400to600'] = ak.from_parquet('/project01/ndcms/cmoore24/skims/ecfs/singlemuon/single_parquets/zqq_400to600.parquet')\n",
    "zqq['zqq_600to800'] = ak.from_parquet('/project01/ndcms/cmoore24/skims/ecfs/singlemuon/single_parquets/zqq_600to800.parquet')\n",
    "zqq['zqq_800toInf'] = ak.from_parquet('/project01/ndcms/cmoore24/skims/ecfs/singlemuon/single_parquets/zqq_800toInf.parquet')"
   ]
  },
  {
   "cell_type": "code",
   "execution_count": 270,
   "id": "293b4835-b2d5-4b58-bfd2-7c7e63915e67",
   "metadata": {},
   "outputs": [],
   "source": [
    "ttboosted = {}\n",
    "ttboosted['ttboosted_700to1000'] = ak.from_parquet('/project01/ndcms/cmoore24/skims/ecfs/singlemuon/single_parquets/ttboosted_700to1000.parquet')\n",
    "ttboosted['ttboosted_1000toInf'] = ak.from_parquet('/project01/ndcms/cmoore24/skims/ecfs/singlemuon/single_parquets/ttboosted_1000toInf.parquet')"
   ]
  },
  {
   "cell_type": "code",
   "execution_count": 271,
   "id": "fb023cdf-e9fd-47d3-a1d0-c8f76cb93ab1",
   "metadata": {},
   "outputs": [],
   "source": [
    "mc = {}\n",
    "mc['hgg'] = hgg\n",
    "mc['hbb'] = hbb\n",
    "mc['singletop'] = singletop\n",
    "mc['ww'] = ww\n",
    "mc['wz'] = wz\n",
    "mc['zz'] = zz\n",
    "mc['qcd'] = qcd\n",
    "mc['wqq'] = wqq\n",
    "mc['zqq'] = zqq\n",
    "mc['ttboosted'] = ttboosted"
   ]
  },
  {
   "cell_type": "code",
   "execution_count": 272,
   "id": "1bf89fc3-89a5-4a23-805e-32fe52ac4eca",
   "metadata": {},
   "outputs": [],
   "source": [
    "for i in mc:\n",
    "    if type(mc[i]) == dict:\n",
    "        for j in mc[i]:\n",
    "            mc[i][j] = mc[i][j][(ak.any(mc[i][j].pt > 450, axis=1))]\n",
    "    else:\n",
    "        mc[i] = mc[i][ak.any(mc[i].pt > 450, axis=1)]\n",
    "\n",
    "for i in mc:\n",
    "    if type(mc[i]) == dict:\n",
    "        for j in mc[i]:\n",
    "            mc[i][j] = mc[i][j][(ak.any(mc[i][j].pt < 600, axis=1))]\n",
    "    else:\n",
    "        mc[i] = mc[i][ak.any(mc[i].pt < 600, axis=1)]"
   ]
  },
  {
   "cell_type": "code",
   "execution_count": 273,
   "id": "0dadfa5e-8b35-477e-adcb-53b774c67f44",
   "metadata": {},
   "outputs": [],
   "source": [
    "data = {}\n",
    "data['B'] = ak.from_parquet('/project01/ndcms/cmoore24/skims/ecfs/singlemuon/single_parquets/SingleMuon_B.parquet')\n",
    "data['C'] = ak.from_parquet('/project01/ndcms/cmoore24/skims/ecfs/singlemuon/single_parquets/SingleMuon_C.parquet')\n",
    "data['D'] = ak.from_parquet('/project01/ndcms/cmoore24/skims/ecfs/singlemuon/single_parquets/SingleMuon_D.parquet')\n",
    "data['E'] = ak.from_parquet('/project01/ndcms/cmoore24/skims/ecfs/singlemuon/single_parquets/SingleMuon_E.parquet')\n",
    "data['F'] = ak.from_parquet('/project01/ndcms/cmoore24/skims/ecfs/singlemuon/single_parquets/SingleMuon_F.parquet')\n",
    "\n",
    "for i in data:\n",
    "    if type(data[i]) == dict:\n",
    "        for j in data[i]:\n",
    "            data[i][j] = data[i][j][(ak.any(data[i][j].pt > 450, axis=1))]\n",
    "    else:\n",
    "        data[i] = data[i][ak.any(data[i].pt > 450, axis=1)]\n",
    "\n",
    "for i in data:\n",
    "    if type(data[i]) == dict:\n",
    "        for j in data[i]:\n",
    "            data[i][j] = data[i][j][(ak.any(data[i][j].pt < 600, axis=1))]\n",
    "    else:\n",
    "        data[i] = data[i][ak.any(data[i].pt < 600, axis=1)]\n",
    "\n",
    "data_arr = ak.concatenate([data['B'], data['C'], data['D'], data['E'], data['F']])"
   ]
  },
  {
   "cell_type": "code",
   "execution_count": 274,
   "id": "828b7f4f-3ac6-43a2-8756-934b42e4c26d",
   "metadata": {},
   "outputs": [],
   "source": [
    "data_hist = hist.Hist.new.Reg(40, 40, 200, name='msd', label='Data MSD').Weight()\n",
    "data_hist.fill(msd=ak.flatten(data_arr.msoftdrop));"
   ]
  },
  {
   "cell_type": "code",
   "execution_count": 275,
   "id": "88310758-a903-46cd-8c1c-1cac8d2a16b1",
   "metadata": {},
   "outputs": [],
   "source": [
    "def msd_hist(dataset):\n",
    "    make_hist = hist.Hist.new.Reg(40, 40, 200, name='msd', label='MC MSD').Weight()\n",
    "    make_hist.fill(msd=ak.flatten(dataset.msoftdrop))\n",
    "    return make_hist"
   ]
  },
  {
   "cell_type": "code",
   "execution_count": 276,
   "id": "c201b6fb-ab83-444e-af59-94f375a67f16",
   "metadata": {},
   "outputs": [],
   "source": [
    "hists = {}\n",
    "for i in mc:\n",
    "    if type(mc[i]) == dict:\n",
    "        hists[i] = {}\n",
    "        for j in mc[i]:\n",
    "            hists[i][j] = msd_hist(mc[i][j])\n",
    "    else:\n",
    "        hists[i] = msd_hist(mc[i])"
   ]
  },
  {
   "cell_type": "code",
   "execution_count": 277,
   "id": "c608a81e-be20-48fa-97c7-880ea6c034b6",
   "metadata": {},
   "outputs": [],
   "source": [
    "IL = 44.99"
   ]
  },
  {
   "cell_type": "code",
   "execution_count": 278,
   "id": "9ddb3c42-1edd-414a-952a-dd2b9c96d072",
   "metadata": {},
   "outputs": [],
   "source": [
    "scaleHgg = ((IL*(xsecs['hgg']*1000)*0.0817)/(totals['hgg']))\n",
    "hists['hgg'].view(flow=True)[:] *= scaleHgg\n",
    "\n",
    "scaleHbb = ((IL*(xsecs['hbb']*1000)*0.581)/(totals['hbb']))\n",
    "hists['hbb'].view(flow=True)[:] *= scaleHbb"
   ]
  },
  {
   "cell_type": "code",
   "execution_count": 279,
   "id": "c6c69175-a4db-41b2-adde-4684c65d14ef",
   "metadata": {},
   "outputs": [],
   "source": [
    "for i in mc:\n",
    "    if (i == 'hgg') or (i == 'hbb'):\n",
    "        continue\n",
    "    else:\n",
    "        if type(mc[i]) == dict:\n",
    "            for j in mc[i]:\n",
    "                scale = ((IL*(xsecs[i][j]*1000))/(totals_x[i][j]))\n",
    "                hists[i][j].view(flow=True)[:] *= scale\n",
    "        else:\n",
    "            scale = ((IL*(xsecs[i]*1000))/(totals_x[i]))\n",
    "            hists[i].view(flow=True)[:] *= scale"
   ]
  },
  {
   "cell_type": "code",
   "execution_count": 280,
   "id": "ef4e6ea5-1bbe-4a51-b51b-05ae46ae07de",
   "metadata": {},
   "outputs": [],
   "source": [
    "qcd_hist = sum(hists['qcd'][i] for i in hists['qcd'])"
   ]
  },
  {
   "cell_type": "code",
   "execution_count": 281,
   "id": "adeaf60d-f657-4df1-90e0-dac31b2a9f48",
   "metadata": {},
   "outputs": [],
   "source": [
    "wqq_hist = sum(hists['wqq'][i] for i in hists['wqq'])"
   ]
  },
  {
   "cell_type": "code",
   "execution_count": 282,
   "id": "5b7a7490-c95b-41c7-a4b9-96688ac65285",
   "metadata": {},
   "outputs": [],
   "source": [
    "zqq_hist = sum(hists['zqq'][i] for i in hists['zqq'])"
   ]
  },
  {
   "cell_type": "code",
   "execution_count": 283,
   "id": "157733d1-7b60-4efa-be7d-8d1f834a17cb",
   "metadata": {},
   "outputs": [],
   "source": [
    "ttboosted_hist = sum(hists['ttboosted'][i] for i in hists['ttboosted'])"
   ]
  },
  {
   "cell_type": "code",
   "execution_count": 284,
   "id": "338ec391-85a2-4fc7-b740-d9875ae96fa5",
   "metadata": {},
   "outputs": [],
   "source": [
    "single_hists = {}\n",
    "single_hists['qcd'] = qcd_hist\n",
    "single_hists['wqq'] = wqq_hist\n",
    "single_hists['zqq'] = zqq_hist\n",
    "single_hists['ttboosted'] = ttboosted_hist\n",
    "single_hists['hgg'] = hists['hgg']\n",
    "single_hists['hbb'] = hists['hbb']\n",
    "single_hists['ww'] = hists['ww']\n",
    "single_hists['zz'] = hists['zz']\n",
    "single_hists['wz'] = hists['wz']\n",
    "single_hists['singletop'] = hists['singletop']\n",
    "\n",
    "mc_hist = sum(single_hists[i] for i in single_hists)"
   ]
  },
  {
   "cell_type": "code",
   "execution_count": 285,
   "id": "362ac33a-cff7-4200-947a-438e3c8b835a",
   "metadata": {},
   "outputs": [
    {
     "data": {
      "image/png": "[encoded data removed]",
      "text/plain": [
       "<Figure size 640x480 with 1 Axes>"
      ]
     },
     "metadata": {},
     "output_type": "display_data"
    }
   ],
   "source": [
    "mc_hist.plot1d(label='MC', density=True)\n",
    "data_hist.plot1d(label='Data', density=True)\n",
    "plt.legend()\n",
    "plt.show()"
   ]
  },
  {
   "cell_type": "code",
   "execution_count": 286,
   "id": "460de61c-cecc-4bd0-a327-37ea5d9bff54",
   "metadata": {},
   "outputs": [
    {
     "data": {
      "image/png": "[encoded data removed]",
      "text/plain": [
       "<Figure size 640x480 with 1 Axes>"
      ]
     },
     "metadata": {},
     "output_type": "display_data"
    }
   ],
   "source": [
    "mc_hist.plot1d(label='MC', density=False)\n",
    "data_hist.plot1d(label='Data', density=False)\n",
    "plt.legend()\n",
    "plt.show()"
   ]
  },
  {
   "cell_type": "code",
   "execution_count": 287,
   "id": "417d6dae-cd76-477f-bd90-889b846220dd",
   "metadata": {},
   "outputs": [
    {
     "data": {
      "text/plain": [
       "<matplotlib.legend.Legend at 0x7fd08c38a010>"
      ]
     },
     "execution_count": 287,
     "metadata": {},
     "output_type": "execute_result"
    },
    {
     "data": {
      "image/png": "[encoded data removed]",
      "text/plain": [
       "<Figure size 640x480 with 1 Axes>"
      ]
     },
     "metadata": {},
     "output_type": "display_data"
    }
   ],
   "source": [
    "fig, ax = plt.subplots()\n",
    "\n",
    "ax.stairs(np.cumsum(mc_hist.density()), edges=mc_hist.axes[0].edges, label='MC');\n",
    "ax.stairs(np.cumsum(data_hist.density()), edges=data_hist.axes[0].edges, label='Data');\n",
    "plt.legend()"
   ]
  },
  {
   "cell_type": "code",
   "execution_count": 288,
   "id": "1f500a66-b8d6-40f5-b763-08787deea26d",
   "metadata": {},
   "outputs": [
    {
     "data": {
      "text/plain": [
       "1.9053075535050457"
      ]
     },
     "execution_count": 288,
     "metadata": {},
     "output_type": "execute_result"
    }
   ],
   "source": [
    "-math.log10(abs(np.cumsum(mc_hist.density() * 4) - np.cumsum(data_hist.density() * 4)).max())"
   ]
  },
  {
   "cell_type": "code",
   "execution_count": 196,
   "id": "9f574ac3-f569-4538-8c28-85362c98e39d",
   "metadata": {},
   "outputs": [
    {
     "data": {
      "text/plain": [
       "array([0.0316184 , 0.06271847, 0.09215764, 0.12034148, 0.14559813,\n",
       "       0.17254465, 0.19738997, 0.22192102, 0.24746841, 0.27336336,\n",
       "       0.30137739, 0.33104621, 0.36032617, 0.38821834, 0.41641011,\n",
       "       0.4441885 , 0.47162807, 0.49847603, 0.52526982, 0.55156091,\n",
       "       0.57917079, 0.60636895, 0.63304381, 0.66042725, 0.68624339,\n",
       "       0.71128069, 0.73627126, 0.76001225, 0.78320567, 0.80552629,\n",
       "       0.82823928, 0.85052147, 0.87256273, 0.8943802 , 0.91626009,\n",
       "       0.93730844, 0.95639656, 0.97367699, 0.98845062, 1.        ])"
      ]
     },
     "execution_count": 196,
     "metadata": {},
     "output_type": "execute_result"
    }
   ],
   "source": [
    "np.cumsum(mc_hist.density()*4)"
   ]
  },
  {
   "cell_type": "code",
   "execution_count": 83,
   "id": "aee079b9-754b-435a-aad7-2f2e9d5b4b73",
   "metadata": {},
   "outputs": [],
   "source": [
    "variable = '1e2^1.0'"
   ]
  },
  {
   "cell_type": "code",
   "execution_count": 84,
   "id": "b2161677-3754-42b4-8e69-0eefcf3c01da",
   "metadata": {},
   "outputs": [
    {
     "name": "stdout",
     "output_type": "stream",
     "text": [
      "64663\n",
      "64616\n"
     ]
    }
   ],
   "source": [
    "a = ak.flatten(data_arr.ECFs[variable])\n",
    "print(len(a))\n",
    "a = a[a > 0]\n",
    "print(len(a))"
   ]
  },
  {
   "cell_type": "code",
   "execution_count": 103,
   "id": "0e322253-505c-44dc-8737-09490b215240",
   "metadata": {},
   "outputs": [
    {
     "data": {
      "image/png": "[encoded data removed]",
      "text/plain": [
       "<Figure size 640x480 with 1 Axes>"
      ]
     },
     "metadata": {},
     "output_type": "display_data"
    }
   ],
   "source": [
    "plt.hist(ak.flatten(data_arr.ECFs[variable]), bins=40, histtype='step')\n",
    "# plt.hist(np.log(a), bins=100, histtype='step', log=False)\n",
    "plt.show()"
   ]
  },
  {
   "cell_type": "code",
   "execution_count": 153,
   "id": "61b8d91c-13e5-44c0-bd32-e124e6df856a",
   "metadata": {},
   "outputs": [],
   "source": [
    "mini = math.floor(ak.min(data_arr.ECFs[variable]))\n",
    "maxi = math.ceil(ak.max(data_arr.ECFs[variable]))\n",
    "# mini = math.floor(ak.min(np.log(a)))\n",
    "# maxi = math.ceil(ak.max(np.log(a)))\n",
    "# mini = 0\n",
    "# maxi = 1000\n",
    "bins = np.arange(mini, maxi)"
   ]
  },
  {
   "cell_type": "code",
   "execution_count": 170,
   "id": "ed65feb7-26ed-4bbe-b86e-2a9b982325d8",
   "metadata": {},
   "outputs": [
    {
     "data": {
      "text/plain": [
       "2865.0"
      ]
     },
     "execution_count": 170,
     "metadata": {},
     "output_type": "execute_result"
    }
   ],
   "source": [
    "len(bins)/44"
   ]
  },
  {
   "cell_type": "code",
   "execution_count": 171,
   "id": "386016b8-7a52-44ef-98f8-f543aa7d22aa",
   "metadata": {},
   "outputs": [],
   "source": [
    "def var_hist(dataset, variable, log=False):\n",
    "    dataset = ak.flatten(dataset.ECFs[variable])\n",
    "    if log == True:\n",
    "        dataset = dataset + 1e-50\n",
    "        dataset = np.log(dataset)\n",
    "    make_hist = hist.Hist.new.Reg(44, mini, maxi, name='var', label='MC Var').Weight()\n",
    "    make_hist.fill(var=dataset)\n",
    "    return make_hist"
   ]
  },
  {
   "cell_type": "code",
   "execution_count": 172,
   "id": "2fae1d1d-243c-42ba-a804-2003e09b2644",
   "metadata": {},
   "outputs": [],
   "source": [
    "ecf_hists = {}\n",
    "for i in mc:\n",
    "    if type(mc[i]) == dict:\n",
    "        ecf_hists[i] = {}\n",
    "        for j in mc[i]:\n",
    "            ecf_hists[i][j] = var_hist(mc[i][j], variable, log=False)\n",
    "    else:\n",
    "        ecf_hists[i] = var_hist(mc[i], variable, log=False)"
   ]
  },
  {
   "cell_type": "code",
   "execution_count": 173,
   "id": "c18fc3c0-f45b-4fd0-91df-e9c3bd470e83",
   "metadata": {},
   "outputs": [],
   "source": [
    "dataset = ak.flatten(data_arr.ECFs[variable])\n",
    "# dataset = dataset + 1e-50\n",
    "# dataset = np.log(dataset)\n",
    "data_ecf_hist = hist.Hist.new.Reg(44, mini, maxi, name='var', label='Data Var').Weight()\n",
    "data_ecf_hist.fill(var=dataset);"
   ]
  },
  {
   "cell_type": "code",
   "execution_count": 174,
   "id": "46622f4c-8776-4343-be9c-2f0ece0b8b30",
   "metadata": {},
   "outputs": [
    {
     "data": {
      "text/plain": [
       "126060"
      ]
     },
     "execution_count": 174,
     "metadata": {},
     "output_type": "execute_result"
    }
   ],
   "source": [
    "maxi"
   ]
  },
  {
   "cell_type": "code",
   "execution_count": 175,
   "id": "4d672f58-8dc8-43fd-beb1-1e1355b1cd38",
   "metadata": {},
   "outputs": [],
   "source": [
    "scaleHgg = ((IL*(xsecs['hgg']*1000)*0.0817)/(totals['hgg']))\n",
    "ecf_hists['hgg'].view(flow=True)[:] *= scaleHgg\n",
    "\n",
    "scaleHbb = ((IL*(xsecs['hbb']*1000)*0.581)/(totals['hbb']))\n",
    "ecf_hists['hbb'].view(flow=True)[:] *= scaleHbb"
   ]
  },
  {
   "cell_type": "code",
   "execution_count": 176,
   "id": "828c9bb9-c7cc-4c57-8cda-372738d69663",
   "metadata": {},
   "outputs": [],
   "source": [
    "for i in mc:\n",
    "    if (i == 'hgg') or (i == 'hbb'):\n",
    "        continue\n",
    "    else:\n",
    "        if type(mc[i]) == dict:\n",
    "            for j in mc[i]:\n",
    "                scale = ((IL*(xsecs[i][j]*1000))/(totals_x[i][j]))\n",
    "                ecf_hists[i][j].view(flow=True)[:] *= scale\n",
    "        else:\n",
    "            scale = ((IL*(xsecs[i]*1000))/(totals_x[i]))\n",
    "            ecf_hists[i].view(flow=True)[:] *= scale"
   ]
  },
  {
   "cell_type": "code",
   "execution_count": 177,
   "id": "f16f3611-5d2e-4832-9aa9-fde72bc3f160",
   "metadata": {},
   "outputs": [],
   "source": [
    "qcd_hist = sum(ecf_hists['qcd'][i] for i in ecf_hists['qcd'])\n",
    "wqq_hist = sum(ecf_hists['wqq'][i] for i in ecf_hists['wqq'])\n",
    "zqq_hist = sum(ecf_hists['zqq'][i] for i in ecf_hists['zqq'])\n",
    "ttboosted_hist = sum(ecf_hists['ttboosted'][i] for i in ecf_hists['ttboosted'])"
   ]
  },
  {
   "cell_type": "code",
   "execution_count": 178,
   "id": "fba74ee1-d98c-43d7-954d-004759c1c9d6",
   "metadata": {},
   "outputs": [],
   "source": [
    "single_hists = {}\n",
    "single_hists['qcd'] = qcd_hist\n",
    "single_hists['wqq'] = wqq_hist\n",
    "single_hists['zqq'] = zqq_hist\n",
    "single_hists['ttboosted'] = ttboosted_hist\n",
    "single_hists['hgg'] = ecf_hists['hgg']\n",
    "single_hists['hbb'] = ecf_hists['hbb']\n",
    "single_hists['ww'] = ecf_hists['ww']\n",
    "single_hists['zz'] = ecf_hists['zz']\n",
    "single_hists['wz'] = ecf_hists['wz']\n",
    "single_hists['singletop'] = ecf_hists['singletop']\n",
    "\n",
    "mc_ecf_hist = sum(single_hists[i] for i in single_hists)"
   ]
  },
  {
   "cell_type": "code",
   "execution_count": 180,
   "id": "b8d2109a-7775-4da5-9d7c-985760e363c1",
   "metadata": {},
   "outputs": [
    {
     "data": {
      "image/png": "[encoded data removed]",
      "text/plain": [
       "<Figure size 640x480 with 1 Axes>"
      ]
     },
     "metadata": {},
     "output_type": "display_data"
    }
   ],
   "source": [
    "mc_ecf_hist.plot1d(label='MC', density=True)\n",
    "data_ecf_hist.plot1d(label='Data', density=True)\n",
    "plt.legend()\n",
    "plt.show()"
   ]
  },
  {
   "cell_type": "code",
   "execution_count": 181,
   "id": "111eb90d-d81b-400f-8313-81127f80f610",
   "metadata": {},
   "outputs": [
    {
     "data": {
      "image/png": "[encoded data removed]",
      "text/plain": [
       "<Figure size 640x480 with 1 Axes>"
      ]
     },
     "metadata": {},
     "output_type": "display_data"
    }
   ],
   "source": [
    "mc_ecf_hist.plot1d(label='MC', density=False)\n",
    "data_ecf_hist.plot1d(label='Data', density=False)\n",
    "plt.legend()\n",
    "plt.show()"
   ]
  },
  {
   "cell_type": "code",
   "execution_count": 183,
   "id": "13710ac3-c8e1-4f2e-b940-4fb0c8e9d5ba",
   "metadata": {},
   "outputs": [
    {
     "data": {
      "text/plain": [
       "<matplotlib.legend.Legend at 0x7f73c7cf4b90>"
      ]
     },
     "execution_count": 183,
     "metadata": {},
     "output_type": "execute_result"
    },
    {
     "data": {
      "image/png": "[encoded data removed]",
      "text/plain": [
       "<Figure size 640x480 with 1 Axes>"
      ]
     },
     "metadata": {},
     "output_type": "display_data"
    }
   ],
   "source": [
    "fig, ax = plt.subplots()\n",
    "\n",
    "ax.stairs(np.cumsum(mc_hist.density()*2865), edges=mc_hist.axes[0].edges, label='MC');\n",
    "ax.stairs(np.cumsum(data_hist.density()*2865), edges=data_hist.axes[0].edges, label='Data');\n",
    "plt.legend()"
   ]
  },
  {
   "cell_type": "code",
   "execution_count": 184,
   "id": "8edc3047-24ed-4d75-be8f-0feb8d581b73",
   "metadata": {},
   "outputs": [
    {
     "data": {
      "text/plain": [
       "1.325015311060301"
      ]
     },
     "execution_count": 184,
     "metadata": {},
     "output_type": "execute_result"
    }
   ],
   "source": [
    "-math.log10(abs(np.cumsum(data_ecf_hist.density()*2865) - np.cumsum(mc_ecf_hist.density()*2865)).max())"
   ]
  },
  {
   "cell_type": "code",
   "execution_count": 186,
   "id": "dfcee283-6bea-4f5a-b5b5-86c17eccb25e",
   "metadata": {},
   "outputs": [
    {
     "data": {
      "text/plain": [
       "array([0.00289192, 0.00436107, 0.05452887, 0.14492059, 0.23526592,\n",
       "       0.33274052, 0.42959652, 0.52138008, 0.60393115, 0.67987876,\n",
       "       0.74818675, 0.80545289, 0.85537324, 0.89794782, 0.93333127,\n",
       "       0.95999258, 0.9771121 , 0.98779828, 0.99324188, 0.99607194,\n",
       "       0.99740191, 0.99828341, 0.9985927 , 0.99901025, 0.99930408,\n",
       "       0.9994742 , 0.99956699, 0.9996907 , 0.99978349, 0.99987628,\n",
       "       0.99992268, 0.99995361, 0.99996907, 0.99996907, 0.99996907,\n",
       "       0.99996907, 0.99996907, 0.99998454, 0.99998454, 0.99998454,\n",
       "       0.99998454, 0.99998454, 0.99998454, 1.        ])"
      ]
     },
     "execution_count": 186,
     "metadata": {},
     "output_type": "execute_result"
    }
   ],
   "source": [
    "np.cumsum(data_ecf_hist.density()*2865)"
   ]
  },
  {
   "cell_type": "code",
   "execution_count": 134,
   "id": "463149b9-e078-4957-84e1-0240fde8f375",
   "metadata": {},
   "outputs": [
    {
     "data": {
      "text/plain": [
       "array([0.00735738, 0.01446732, 0.02128729, 0.02789076, 0.03435891,\n",
       "       0.0404791 , 0.04644851, 0.05229034, 0.05796592, 0.06439154,\n",
       "       0.07086355, 0.07800056, 0.0851105 , 0.0922591 , 0.09912547,\n",
       "       0.1060421 , 0.11291233, 0.1197555 , 0.12670693, 0.13390579,\n",
       "       0.14069097, 0.14825325, 0.15548304, 0.1627283 , 0.16973772,\n",
       "       0.1767394 , 0.18330421, 0.18961384, 0.19556392, 0.20149854,\n",
       "       0.20737903, 0.21290769, 0.21844409, 0.22394569, 0.22919985,\n",
       "       0.23435736, 0.23910119, 0.24322255, 0.24688771, 0.25      ])"
      ]
     },
     "execution_count": 134,
     "metadata": {},
     "output_type": "execute_result"
    }
   ],
   "source": [
    "np.cumsum(data_hist.density())"
   ]
  },
  {
   "cell_type": "code",
   "execution_count": 188,
   "id": "7db68312-2e09-42ce-b394-6cdfcad5c8fa",
   "metadata": {},
   "outputs": [
    {
     "data": {
      "text/plain": [
       "126060"
      ]
     },
     "execution_count": 188,
     "metadata": {},
     "output_type": "execute_result"
    }
   ],
   "source": [
    "maxi"
   ]
  },
  {
   "cell_type": "code",
   "execution_count": null,
   "id": "3a77544c-e588-4156-8c5f-47f21f3c7cdc",
   "metadata": {},
   "outputs": [],
   "source": []
  },
  {
   "cell_type": "code",
   "execution_count": null,
   "id": "ffba4424-2c0f-4864-97a6-7915f603e683",
   "metadata": {},
   "outputs": [],
   "source": []
  }
 ],
 "metadata": {
  "kernelspec": {
   "display_name": "Python 3 (ipykernel)",
   "language": "python",
   "name": "python3"
  },
  "language_info": {
   "codemirror_mode": {
    "name": "ipython",
    "version": 3
   },
   "file_extension": ".py",
   "mimetype": "text/x-python",
   "name": "python",
   "nbconvert_exporter": "python",
   "pygments_lexer": "ipython3",
   "version": "3.11.9"
  }
 },
 "nbformat": 4,
 "nbformat_minor": 5
}
