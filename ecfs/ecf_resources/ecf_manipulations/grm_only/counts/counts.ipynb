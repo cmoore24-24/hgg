{
 "cells": [
  {
   "cell_type": "code",
   "execution_count": 3,
   "id": "46cc5b69-5874-479a-9ac6-83dbdf7d0748",
   "metadata": {},
   "outputs": [],
   "source": [
    "import pickle\n",
    "import matplotlib.pyplot\n",
    "import awkward\n",
    "import numpy\n",
    "import os"
   ]
  },
  {
   "cell_type": "code",
   "execution_count": 4,
   "id": "78e65502-3937-4d2f-add4-f15500ee219c",
   "metadata": {},
   "outputs": [],
   "source": [
    "files = os.listdir()"
   ]
  },
  {
   "cell_type": "code",
   "execution_count": 6,
   "id": "91ec40c8-63f3-4184-b3b6-238b24b23aae",
   "metadata": {},
   "outputs": [],
   "source": [
    "roc_files = []\n",
    "for i in files:\n",
    "    if 'roc' in i:\n",
    "        roc_files.append(i)"
   ]
  },
  {
   "cell_type": "code",
   "execution_count": 10,
   "id": "6bb61e5f-7338-4812-89fc-23349bb7a3aa",
   "metadata": {},
   "outputs": [],
   "source": [
    "roc_values = {}\n",
    "for i in roc_files:\n",
    "    with open(i, 'rb') as f:\n",
    "        roc_values[i.strip('.pkl')] = pickle.load(f)"
   ]
  },
  {
   "cell_type": "code",
   "execution_count": 12,
   "id": "0ccb07a9-bcfa-4808-97d1-6a2b03b06bdd",
   "metadata": {},
   "outputs": [
    {
     "data": {
      "text/plain": [
       "dict_keys(['roc_65-70', 'roc_55-60', 'roc_60-65', 'roc_50-55', 'roc_45-50', 'roc_40-45', 'roc_70'])"
      ]
     },
     "execution_count": 12,
     "metadata": {},
     "output_type": "execute_result"
    }
   ],
   "source": [
    "roc_values.keys()"
   ]
  },
  {
   "cell_type": "code",
   "execution_count": 105,
   "id": "5f6a68c2-eb72-45bc-b31b-d7c1e34b2e19",
   "metadata": {},
   "outputs": [
    {
     "data": {
      "text/plain": [
       "192"
      ]
     },
     "execution_count": 105,
     "metadata": {},
     "output_type": "execute_result"
    }
   ],
   "source": [
    "sum(roc_values[i]['32'] for i in roc_values)"
   ]
  },
  {
   "cell_type": "code",
   "execution_count": 113,
   "id": "68c15112-aadd-4671-9ed6-4817544d3e3f",
   "metadata": {},
   "outputs": [
    {
     "data": {
      "text/plain": [
       "0.0"
      ]
     },
     "execution_count": 113,
     "metadata": {},
     "output_type": "execute_result"
    }
   ],
   "source": [
    "roc_values['roc_70']['32'] / 192 * 100"
   ]
  },
  {
   "cell_type": "code",
   "execution_count": 120,
   "id": "be660f95-6d3a-4176-88c8-0644f93eb8e5",
   "metadata": {},
   "outputs": [
    {
     "data": {
      "text/plain": [
       "24"
      ]
     },
     "execution_count": 120,
     "metadata": {},
     "output_type": "execute_result"
    }
   ],
   "source": [
    "roc_values['roc_65-70']['32'] "
   ]
  },
  {
   "cell_type": "code",
   "execution_count": 121,
   "id": "a5c28d0a-c3ad-4c65-a3c9-67bebb0f532e",
   "metadata": {},
   "outputs": [
    {
     "data": {
      "text/plain": [
       "73"
      ]
     },
     "execution_count": 121,
     "metadata": {},
     "output_type": "execute_result"
    }
   ],
   "source": [
    "roc_values['roc_60-65']['32']"
   ]
  },
  {
   "cell_type": "code",
   "execution_count": 122,
   "id": "bb24b5ef-8362-498f-9897-f6e91749c523",
   "metadata": {},
   "outputs": [
    {
     "data": {
      "text/plain": [
       "58"
      ]
     },
     "execution_count": 122,
     "metadata": {},
     "output_type": "execute_result"
    }
   ],
   "source": [
    "roc_values['roc_55-60']['32']"
   ]
  },
  {
   "cell_type": "code",
   "execution_count": 123,
   "id": "40f0dedf-86df-4da6-b7a0-f46d369d994f",
   "metadata": {},
   "outputs": [
    {
     "data": {
      "text/plain": [
       "37"
      ]
     },
     "execution_count": 123,
     "metadata": {},
     "output_type": "execute_result"
    }
   ],
   "source": [
    "roc_values['roc_50-55']['32']"
   ]
  },
  {
   "cell_type": "code",
   "execution_count": 124,
   "id": "5b0f07ce-bec1-4aa4-8e7c-b0f2d21fea2e",
   "metadata": {},
   "outputs": [
    {
     "data": {
      "text/plain": [
       "0"
      ]
     },
     "execution_count": 124,
     "metadata": {},
     "output_type": "execute_result"
    }
   ],
   "source": [
    "roc_values['roc_45-50']['32']"
   ]
  },
  {
   "cell_type": "code",
   "execution_count": 119,
   "id": "2f2f56dc-8196-457e-bf25-04a1f2e4199e",
   "metadata": {},
   "outputs": [
    {
     "data": {
      "text/plain": [
       "0.0"
      ]
     },
     "execution_count": 119,
     "metadata": {},
     "output_type": "execute_result"
    }
   ],
   "source": [
    "roc_values['roc_40-45']['32']  / 192 * 100"
   ]
  },
  {
   "cell_type": "code",
   "execution_count": null,
   "id": "aa9fdfd2-5fea-44a5-a22a-cd9e629d3768",
   "metadata": {},
   "outputs": [],
   "source": []
  },
  {
   "cell_type": "code",
   "execution_count": null,
   "id": "1aba8fc9-7599-46c9-bbce-4cc652d6dbd9",
   "metadata": {},
   "outputs": [],
   "source": []
  }
 ],
 "metadata": {
  "kernelspec": {
   "display_name": "Python 3 (ipykernel)",
   "language": "python",
   "name": "python3"
  },
  "language_info": {
   "codemirror_mode": {
    "name": "ipython",
    "version": 3
   },
   "file_extension": ".py",
   "mimetype": "text/x-python",
   "name": "python",
   "nbconvert_exporter": "python",
   "pygments_lexer": "ipython3",
   "version": "3.11.9"
  }
 },
 "nbformat": 4,
 "nbformat_minor": 5
}
