{
 "cells": [
  {
   "cell_type": "code",
   "execution_count": 1,
   "id": "3db0c6b7-5b7c-4ffb-8ac1-4570b97762b9",
   "metadata": {},
   "outputs": [],
   "source": [
    "import numpy as np\n",
    "import awkward as ak\n",
    "import hist\n",
    "import warnings\n",
    "import pickle\n",
    "from coffea.ml_tools.torch_wrapper import torch_wrapper\n",
    "import matplotlib.pyplot as plt\n",
    "import hist\n",
    "from sklearn.metrics import roc_curve, auc\n",
    "import math\n",
    "import os\n",
    "import uproot\n",
    "import json\n",
    "#from utility_functions2 import *"
   ]
  },
  {
   "cell_type": "code",
   "execution_count": 2,
   "id": "1eb45d31-0caa-4b55-93f2-4919a021931f",
   "metadata": {},
   "outputs": [],
   "source": [
    "warnings.filterwarnings('ignore', 'invalid value')\n",
    "warnings.filterwarnings('ignore', 'No format')"
   ]
  },
  {
   "cell_type": "code",
   "execution_count": 3,
   "id": "8a301a95-efcb-417d-ab88-fad933b5af31",
   "metadata": {},
   "outputs": [],
   "source": [
    "hgg = ak.from_parquet('/scratch365/cmoore24/training/data/ecfs/hgg_ecfs.parquet')"
   ]
  },
  {
   "cell_type": "code",
   "execution_count": 4,
   "id": "c5f58e86-e3cb-4b62-8b86-ff6cd384567f",
   "metadata": {},
   "outputs": [],
   "source": [
    "qcd = ak.firsts(ak.from_parquet('/scratch365/cmoore24/training/data/ecfs/qcd_ecfs.parquet'))"
   ]
  },
  {
   "cell_type": "code",
   "execution_count": 5,
   "id": "fee8ec67-078f-40c8-96aa-7083164d319d",
   "metadata": {},
   "outputs": [],
   "source": [
    "hgg = hgg[ak.flatten(hgg.msoftdrop < 200)]\n",
    "hgg = hgg[ak.flatten(hgg.msoftdrop > 40)]\n",
    "hgg = hgg[ak.flatten(hgg.pt < 600)]\n",
    "hgg = hgg[ak.flatten(hgg.pt > 450)]"
   ]
  },
  {
   "cell_type": "code",
   "execution_count": 6,
   "id": "6eb75ae3-6435-4842-b034-70f4cc0ae879",
   "metadata": {},
   "outputs": [],
   "source": [
    "qcd = qcd[qcd.msoftdrop < 200]\n",
    "qcd = qcd[qcd.msoftdrop > 40]\n",
    "qcd = qcd[qcd.pt < 600]\n",
    "qcd = qcd[qcd.pt > 450]"
   ]
  },
  {
   "cell_type": "code",
   "execution_count": 7,
   "id": "b8b23a57-fc52-418a-bfdc-88b93e06c876",
   "metadata": {},
   "outputs": [],
   "source": [
    "mask = ak.ones_like(hgg[hgg.fields[0]], dtype='bool')\n",
    "mask = ak.fill_none(mask, True)\n",
    "for j in hgg.fields:\n",
    "    if hgg[j].fields == []:\n",
    "        mask = mask & (~ak.is_none(ak.nan_to_none(hgg[j])))\n",
    "    else:\n",
    "        for i in hgg[j].fields:\n",
    "            mask = mask & (~ak.is_none(ak.nan_to_none(hgg[j][i])))\n",
    "hgg = hgg[ak.flatten(mask)]"
   ]
  },
  {
   "cell_type": "code",
   "execution_count": 8,
   "id": "3b228b4e-725f-4bd4-be8a-7274c933443f",
   "metadata": {},
   "outputs": [],
   "source": [
    "mask = ak.ones_like(qcd[qcd.fields[0]], dtype='bool')\n",
    "mask = ak.fill_none(mask, True)\n",
    "for j in qcd.fields:\n",
    "    if qcd[j].fields == []:\n",
    "        mask = mask & (~ak.is_none(ak.nan_to_none(qcd[j])))\n",
    "    else:\n",
    "        for i in qcd[j].fields:\n",
    "            mask = mask & (~ak.is_none(ak.nan_to_none(qcd[j][i])))\n",
    "qcd = qcd[mask]"
   ]
  },
  {
   "cell_type": "code",
   "execution_count": 9,
   "id": "d1787021-646e-44c0-98fd-643a11874bfb",
   "metadata": {},
   "outputs": [],
   "source": [
    "with open('/scratch365/cmoore24/training/hgg/binary/ecfs_project/ratios_equal0.pkl', 'rb') as f:\n",
    "    ecf_list0 = pickle.load(f)\n",
    "with open('/scratch365/cmoore24/training/hgg/binary/ecfs_project/ratios_equal1.pkl', 'rb') as f:\n",
    "    ecf_list1 = pickle.load(f)\n",
    "with open('/scratch365/cmoore24/training/hgg/binary/ecfs_project/ratios_equal2.pkl', 'rb') as f:\n",
    "    ecf_list2 = pickle.load(f)"
   ]
  },
  {
   "cell_type": "code",
   "execution_count": 10,
   "id": "25679837-2172-4992-adf8-3b16f3abd9fc",
   "metadata": {},
   "outputs": [],
   "source": [
    "with open('ratios0.pkl', 'rb') as f:\n",
    "    ecf_list0 = pickle.load(f)\n",
    "with open('ratios1.pkl', 'rb') as f:\n",
    "    ecf_list1 = pickle.load(f)\n",
    "with open('ratios2.pkl', 'rb') as f:\n",
    "    ecf_list2 = pickle.load(f)"
   ]
  },
  {
   "cell_type": "code",
   "execution_count": 11,
   "id": "6868057d-804d-48a4-96c0-e238d93c0ab1",
   "metadata": {},
   "outputs": [],
   "source": [
    "with open('/scratch365/cmoore24/training/hgg/binary/ecfs_project/ratios_equal0.json', 'r') as f:\n",
    "    ecf_json0 = json.load(f)\n",
    "with open('/scratch365/cmoore24/training/hgg/binary/ecfs_project/ratios_equal1.json', 'r') as f:\n",
    "    ecf_json1 = json.load(f)\n",
    "with open('/scratch365/cmoore24/training/hgg/binary/ecfs_project/ratios_equal2.json', 'r') as f:\n",
    "    ecf_json2 = json.load(f)"
   ]
  },
  {
   "cell_type": "code",
   "execution_count": 12,
   "id": "17d8a8e9-b48e-4b32-899d-17558ffbe16b",
   "metadata": {},
   "outputs": [],
   "source": [
    "with open('ratios0.json', 'r') as f:\n",
    "    ecf_json0 = json.load(f)\n",
    "with open('ratios1.json', 'r') as f:\n",
    "    ecf_json1 = json.load(f)\n",
    "with open('ratios2.json', 'r') as f:\n",
    "    ecf_json2 = json.load(f)"
   ]
  },
  {
   "cell_type": "code",
   "execution_count": 13,
   "id": "766f0303-d447-4e1a-8d55-f868f34614f6",
   "metadata": {},
   "outputs": [],
   "source": [
    "ecf_list = ecf_list0 + ecf_list1 + ecf_list2\n",
    "ecf_json = (ecf_json0 | ecf_json1) | ecf_json2"
   ]
  },
  {
   "cell_type": "code",
   "execution_count": 14,
   "id": "a9660034-c47f-4169-b406-45fad6865fa8",
   "metadata": {},
   "outputs": [
    {
     "data": {
      "text/plain": [
       "'1e3^1.0/1e2^1.0**1.0'"
      ]
     },
     "execution_count": 14,
     "metadata": {},
     "output_type": "execute_result"
    }
   ],
   "source": [
    "ecf_list[9]"
   ]
  },
  {
   "cell_type": "code",
   "execution_count": 15,
   "id": "e1f45bce-9cac-4033-9ea5-153b68e690be",
   "metadata": {},
   "outputs": [
    {
     "data": {
      "text/plain": [
       "'4e5^0.5/1e3^2.5**0.8'"
      ]
     },
     "execution_count": 15,
     "metadata": {},
     "output_type": "execute_result"
    }
   ],
   "source": [
    "# use_ecf = ecf_list[2089]\n",
    "use_ecf = \t'4e5^0.5/1e3^2.5**0.8'\n",
    "use_ecf"
   ]
  },
  {
   "cell_type": "code",
   "execution_count": 16,
   "id": "1ccf1d50-1b5d-435d-9816-edfce76961e4",
   "metadata": {},
   "outputs": [
    {
     "data": {
      "text/plain": [
       "3660"
      ]
     },
     "execution_count": 16,
     "metadata": {},
     "output_type": "execute_result"
    }
   ],
   "source": [
    "index = ecf_json[use_ecf]['index']\n",
    "index"
   ]
  },
  {
   "cell_type": "code",
   "execution_count": 17,
   "id": "4a9342f4-0d92-435e-9631-6c3fc7ab3867",
   "metadata": {},
   "outputs": [],
   "source": [
    "model = f'/scratch365/cmoore24/training/hgg/binary/ecfs_project/outputs/models/traced_model{index}.pt'\n",
    "# model = f'/scratch365/cmoore24/training/hgg/binary/ecfs_project/traced_model_test.pt'"
   ]
  },
  {
   "cell_type": "code",
   "execution_count": 18,
   "id": "0029d411-7646-48cd-9bdb-3d08187a3969",
   "metadata": {},
   "outputs": [],
   "source": [
    "scaler = f'/scratch365/cmoore24/training/hgg/binary/ecfs_project/outputs/scalers/scaler{index}.pkl'\n",
    "# scaler = f'/scratch365/cmoore24/training/hgg/binary/ecfs_project/scaler_test.pkl'\n",
    "\n",
    "with open(scaler, 'rb') as f:\n",
    "    scaler = pickle.load(f)"
   ]
  },
  {
   "cell_type": "code",
   "execution_count": 19,
   "id": "ec8447c1-6344-4eac-b05a-dd7b7a46b202",
   "metadata": {},
   "outputs": [
    {
     "name": "stdout",
     "output_type": "stream",
     "text": [
      "4e5^0.5\n",
      "1e3^2.5\n",
      "0.8\n"
     ]
    }
   ],
   "source": [
    "dash = use_ecf.find('/')\n",
    "asterisk = use_ecf.find('*')\n",
    "numerator = use_ecf[:dash]\n",
    "print(numerator)\n",
    "denominator = use_ecf[dash+1:asterisk]\n",
    "print(denominator)\n",
    "exponent = use_ecf[asterisk+2:]\n",
    "print(exponent)"
   ]
  },
  {
   "cell_type": "code",
   "execution_count": 20,
   "id": "07ded0c3-8d1b-47de-b313-af98f1e72e13",
   "metadata": {},
   "outputs": [],
   "source": [
    "num_hgg = hgg.ECFs[numerator]\n",
    "den_hgg = hgg.ECFs[denominator]\n",
    "hgg_ecf = num_hgg/(den_hgg**float(exponent))\n",
    "nan_mask = np.isnan(hgg_ecf)\n",
    "hgg_ecf = hgg_ecf[~nan_mask]\n"
   ]
  },
  {
   "cell_type": "code",
   "execution_count": 21,
   "id": "f6f97bc8-503e-48e1-a115-8c481f1e68df",
   "metadata": {},
   "outputs": [],
   "source": [
    "hgg_sub_array = ak.zip({\n",
    "                        'ecf': hgg_ecf, \n",
    "                        # 'ecf': hgg.d2b1,\n",
    "                        'msoftdrop': hgg.msoftdrop[~nan_mask],\n",
    "                        },\n",
    "                       depth_limit=1,\n",
    "                      )"
   ]
  },
  {
   "cell_type": "code",
   "execution_count": 22,
   "id": "1efd027e-15ba-4e4a-a433-902fb8798a20",
   "metadata": {},
   "outputs": [],
   "source": [
    "num_qcd = qcd.ECFs[numerator]\n",
    "den_qcd = qcd.ECFs[denominator]\n",
    "qcd_ecf = num_qcd/(den_qcd**float(exponent))\n",
    "nan_mask = np.isnan(qcd_ecf)\n",
    "qcd_ecf = qcd_ecf[~nan_mask]"
   ]
  },
  {
   "cell_type": "code",
   "execution_count": 23,
   "id": "cf601e6e-1945-4598-a36d-9cc577d68180",
   "metadata": {},
   "outputs": [],
   "source": [
    "qcd_sub_array = ak.zip({\n",
    "                        'ecf': qcd_ecf, \n",
    "                        # 'ecf': qcd.d2b1,\n",
    "                        'msoftdrop': qcd.msoftdrop[~nan_mask],\n",
    "                        },\n",
    "                       depth_limit=1,\n",
    "                      )"
   ]
  },
  {
   "cell_type": "code",
   "execution_count": 24,
   "id": "57ec7daf-a422-4a53-8123-73deb652c820",
   "metadata": {},
   "outputs": [],
   "source": [
    "class EnergyCorrelatorFunctionTagger(torch_wrapper):\n",
    "    def prepare_awkward(self, events, scaler):\n",
    "        fatjets = events\n",
    "\n",
    "        imap = {\n",
    "            'vars': {\n",
    "                f'{use_ecf}': fatjets.ecf,\n",
    "            },\n",
    "        }\n",
    "\n",
    "        retmap = {\n",
    "            k: ak.concatenate([x[:, np.newaxis] for x in imap[k].values()], axis=1)\n",
    "            for k in imap.keys()\n",
    "        }\n",
    "        x = ak.values_astype(scaler.transform(retmap['vars']), \"float32\")\n",
    "        return (x,), {}"
   ]
  },
  {
   "cell_type": "code",
   "execution_count": 25,
   "id": "793988db-595b-49b1-9abe-e8d0f10220bb",
   "metadata": {},
   "outputs": [],
   "source": [
    "tagger = EnergyCorrelatorFunctionTagger(model)"
   ]
  },
  {
   "cell_type": "code",
   "execution_count": 26,
   "id": "2bd8a811-b7c2-4bf1-8437-2730c636f9ec",
   "metadata": {},
   "outputs": [],
   "source": [
    "hgg_scores = tagger(hgg_sub_array, scaler)[:,0]"
   ]
  },
  {
   "cell_type": "code",
   "execution_count": 27,
   "id": "b00a0aeb-7eee-42a3-8660-0f5ef6bf1b02",
   "metadata": {},
   "outputs": [],
   "source": [
    "qcd_scores = tagger(qcd_sub_array, scaler)[:,0]"
   ]
  },
  {
   "cell_type": "code",
   "execution_count": 28,
   "id": "eea62ca8-8a00-438b-8618-bd28da2af149",
   "metadata": {},
   "outputs": [
    {
     "data": {
      "text/plain": [
       "1.1107526"
      ]
     },
     "execution_count": 28,
     "metadata": {},
     "output_type": "execute_result"
    }
   ],
   "source": [
    "up = max(ak.max(hgg_scores), ak.max(qcd_scores))\n",
    "up"
   ]
  },
  {
   "cell_type": "code",
   "execution_count": 29,
   "id": "db25f4c9-f403-44db-bc2d-014fc94de2c8",
   "metadata": {},
   "outputs": [
    {
     "data": {
      "text/plain": [
       "-3.2379699"
      ]
     },
     "execution_count": 29,
     "metadata": {},
     "output_type": "execute_result"
    }
   ],
   "source": [
    "down = min(ak.min(hgg_scores), ak.min(qcd_scores))\n",
    "down"
   ]
  },
  {
   "cell_type": "code",
   "execution_count": 30,
   "id": "0820b51c-6cdc-4b7a-822f-1459ab75edbe",
   "metadata": {},
   "outputs": [
    {
     "data": {
      "image/png": "[encoded data removed]",
      "text/plain": [
       "<Figure size 640x480 with 1 Axes>"
      ]
     },
     "metadata": {},
     "output_type": "display_data"
    }
   ],
   "source": [
    "pltrange = (down, up)\n",
    "plt.hist(hgg_scores, bins=40, histtype='step', label='Hgg', density=True, range=pltrange)\n",
    "plt.hist(qcd_scores, bins=40, histtype='step', label='QCD', density=True, range=pltrange)\n",
    "plt.title(f'Hgg vs QCD NN Output Scores')\n",
    "plt.legend()\n",
    "plt.show()"
   ]
  },
  {
   "cell_type": "code",
   "execution_count": 31,
   "id": "03abb7ff-b0cd-4a6d-844f-2f90c634366b",
   "metadata": {},
   "outputs": [],
   "source": [
    "bkg_zeros = ak.zeros_like(qcd_scores)\n",
    "sig_ones = ak.ones_like(hgg_scores)\n",
    "combined = ak.concatenate([qcd_scores,hgg_scores])\n",
    "combined_truth = ak.concatenate([bkg_zeros, sig_ones])"
   ]
  },
  {
   "cell_type": "code",
   "execution_count": 32,
   "id": "7f397e89-4816-4b0c-b1de-e740582b66e1",
   "metadata": {},
   "outputs": [],
   "source": [
    "fpr, tpr, thresholds = roc_curve(combined_truth, combined)\n",
    "roc_auc = auc(fpr, tpr)"
   ]
  },
  {
   "cell_type": "code",
   "execution_count": 33,
   "id": "0548e828-9963-4775-ba6b-c6624ae29fa4",
   "metadata": {},
   "outputs": [
    {
     "data": {
      "text/plain": [
       "(-4.0, 2.0)"
      ]
     },
     "execution_count": 33,
     "metadata": {},
     "output_type": "execute_result"
    }
   ],
   "source": [
    "hrange=(np.floor(ak.min(qcd_scores)), np.ceil(ak.max(qcd_scores)))\n",
    "hrange"
   ]
  },
  {
   "cell_type": "code",
   "execution_count": 34,
   "id": "4b35665d-5ac2-4feb-aa7e-c4156f831896",
   "metadata": {},
   "outputs": [],
   "source": [
    "hgg_hist = np.histogram(hgg_scores, bins=20,\n",
    "                range=hrange\n",
    "                )\n",
    "qcd_hist = np.histogram(qcd_scores, bins=20, \n",
    "                 range=hrange\n",
    "                )"
   ]
  },
  {
   "cell_type": "code",
   "execution_count": 35,
   "id": "248b971c-569a-4ccb-8cf5-b21e6ad014dc",
   "metadata": {},
   "outputs": [],
   "source": [
    "sig_sums = []\n",
    "for i in range(len(hgg_hist[0])+1):\n",
    "    sig_sums.append(sum(hgg_hist[0][len(hgg_hist[0])-i:]))\n",
    "\n",
    "bkg_sums = []\n",
    "for i in range(len(qcd_hist[0])+1):\n",
    "    bkg_sums.append(sum(qcd_hist[0][len(qcd_hist[0])-i:]))"
   ]
  },
  {
   "cell_type": "code",
   "execution_count": 36,
   "id": "2a8cca0e-25e9-48b3-8725-17de9e579a0a",
   "metadata": {},
   "outputs": [],
   "source": [
    "sig_ratios = []\n",
    "for i in sig_sums:\n",
    "    sig_ratios.append(i/sig_sums[-1])\n",
    "bkg_ratios = []\n",
    "for i in bkg_sums:\n",
    "    bkg_ratios.append(i/bkg_sums[-1])"
   ]
  },
  {
   "cell_type": "code",
   "execution_count": 37,
   "id": "62714d46-fa7d-4382-8ee6-a760a52f5b89",
   "metadata": {},
   "outputs": [],
   "source": [
    "wp_ratios = {}\n",
    "for i in range(len(hgg_hist[1])):\n",
    "    wp_ratios[str(hgg_hist[1][-i-1])] = [sig_ratios[i], bkg_ratios[i]]"
   ]
  },
  {
   "cell_type": "code",
   "execution_count": 38,
   "id": "b033af60-e294-430d-8847-48f9e29f3567",
   "metadata": {},
   "outputs": [
    {
     "data": {
      "image/png": "[encoded data removed]",
      "text/plain": [
       "<Figure size 640x480 with 1 Axes>"
      ]
     },
     "metadata": {},
     "output_type": "display_data"
    }
   ],
   "source": [
    "plt.plot(fpr, tpr, lw=2, color=\"cyan\", label=\"auc = %.3f\" % (roc_auc))\n",
    "plt.plot(np.linspace(0,1,100), np.linspace(0,1,100), linestyle=\"--\", lw=2, color=\"k\", label=\"random chance\")\n",
    "plt.xlim([0, 1.0])\n",
    "#     ax.set_ylim([1e-5, 1.0])\n",
    "plt.xlabel(\"False positive rate\")\n",
    "plt.ylabel(\"True positive rate\")\n",
    "plt.title(f\"Hgg receiver operating curve\")\n",
    "plt.legend(loc=\"lower right\")\n",
    "plt.axvline(x=0.5, color='black')\n",
    "plt.axhline(y=0.5, color='black')\n",
    "# for i in wp_ratios:\n",
    "#     plt.plot(wp_ratios[i][1], wp_ratios[i][0], 'o', label=f'WP = {str(i)}')\n",
    "#plt.legend(bbox_to_anchor=(1,1))\n",
    "plt.show()"
   ]
  },
  {
   "cell_type": "code",
   "execution_count": 251,
   "id": "8841afa4-75b6-4c4e-bf4b-9f4aeb413b30",
   "metadata": {},
   "outputs": [],
   "source": [
    "def get_cut(qcd_scores, break_val):\n",
    "    hrange=(ak.min(qcd_scores), ak.max(qcd_scores))\n",
    "    proportion=1.0\n",
    "    i = 0\n",
    "    while proportion > 0.70:\n",
    "        qcd_hist = np.histogram(qcd_scores, bins=100000, \n",
    "                     range=hrange\n",
    "                    )\n",
    "        largest_bin_indices = np.argsort(qcd_hist[0])[-2:]\n",
    "        largest_bin_vals = qcd_hist[1][largest_bin_indices]\n",
    "        hrange = (largest_bin_vals[0], ak.max(qcd_scores))\n",
    "        proportion = sum(qcd_hist[0])/len(qcd_scores)\n",
    "        print(proportion)\n",
    "        i += 1\n",
    "        if i > break_val:\n",
    "            break\n",
    "    cumulative_distribution = np.cumsum(qcd_hist[0][min(largest_bin_indices):max(largest_bin_indices)])\n",
    "    total_count = cumulative_distribution[-1]\n",
    "    half_count = total_count / 2\n",
    "    median_bin_index = np.where(cumulative_distribution >= half_count)[0][0]\n",
    "    cut = qcd_hist[1][median_bin_index]\n",
    "    return cut"
   ]
  },
  {
   "cell_type": "code",
   "execution_count": 252,
   "id": "9f449649-1bc9-44b4-b958-0a68e1bec461",
   "metadata": {},
   "outputs": [
    {
     "name": "stdout",
     "output_type": "stream",
     "text": [
      "1.0\n",
      "0.5836158790704246\n"
     ]
    },
    {
     "data": {
      "text/plain": [
       "0.3135699927806854"
      ]
     },
     "execution_count": 252,
     "metadata": {},
     "output_type": "execute_result"
    }
   ],
   "source": [
    "cut = get_cut(hgg_scores, 49)\n",
    "cut"
   ]
  },
  {
   "cell_type": "code",
   "execution_count": 253,
   "id": "f0b4e1ff-7533-439b-ba4d-ccdfff0cc39d",
   "metadata": {},
   "outputs": [
    {
     "data": {
      "text/plain": [
       "1.0578351"
      ]
     },
     "execution_count": 253,
     "metadata": {},
     "output_type": "execute_result"
    }
   ],
   "source": [
    "ak.max(hgg_scores)"
   ]
  },
  {
   "cell_type": "code",
   "execution_count": 254,
   "id": "9a080dff-804d-4bed-b17a-370b471ba63f",
   "metadata": {},
   "outputs": [],
   "source": [
    "#cut = 0.4"
   ]
  },
  {
   "cell_type": "code",
   "execution_count": 255,
   "id": "a32086db-0d9a-4382-99d2-3765b4b307ed",
   "metadata": {},
   "outputs": [],
   "source": [
    "mask = ~((qcd_scores > cut))\n",
    "qcd_cut_msd = qcd_sub_array.msoftdrop[mask]\n",
    "qcd_fail_hist = hist.Hist.new.Reg(40, 40, 200, name='msd', label='QCD MSD').Weight()\n",
    "qcd_fail_hist.fill(msd=qcd_cut_msd);\n",
    "\n",
    "mask = ~((hgg_scores > cut))\n",
    "hgg_cut_msd = ak.flatten(hgg_sub_array.msoftdrop[mask])\n",
    "hgg_fail_hist = hist.Hist.new.Reg(40, 40, 200, name='msd', label='Hgg MSD').Weight()\n",
    "hgg_fail_hist.fill(msd=hgg_cut_msd);"
   ]
  },
  {
   "cell_type": "code",
   "execution_count": 256,
   "id": "c7b81963-2f6a-4fb8-b318-d6d23f040dcc",
   "metadata": {},
   "outputs": [
    {
     "data": {
      "text/plain": [
       "1538898"
      ]
     },
     "execution_count": 256,
     "metadata": {},
     "output_type": "execute_result"
    }
   ],
   "source": [
    "len(qcd_cut_msd)"
   ]
  },
  {
   "cell_type": "code",
   "execution_count": 257,
   "id": "bc5d4aea-5c4e-4278-9429-619921e001ec",
   "metadata": {},
   "outputs": [],
   "source": [
    "mask = ((qcd_scores > cut))\n",
    "qcd_cut_msd = qcd_sub_array.msoftdrop[mask]\n",
    "qcd_pass_hist = hist.Hist.new.Reg(40, 40, 200, name='msd', label='QCD MSD').Weight()\n",
    "qcd_pass_hist.fill(msd=qcd_cut_msd);\n",
    "\n",
    "mask = ((hgg_scores > cut))\n",
    "hgg_cut_msd = ak.flatten(hgg_sub_array.msoftdrop[mask])\n",
    "hgg_pass_hist = hist.Hist.new.Reg(40, 40, 200, name='msd', label='Hgg MSD').Weight()\n",
    "hgg_pass_hist.fill(msd=hgg_cut_msd);"
   ]
  },
  {
   "cell_type": "code",
   "execution_count": 258,
   "id": "cf9ebce5-15fb-4fe5-a010-6ea11484fc5e",
   "metadata": {},
   "outputs": [
    {
     "data": {
      "text/plain": [
       "607021"
      ]
     },
     "execution_count": 258,
     "metadata": {},
     "output_type": "execute_result"
    }
   ],
   "source": [
    "len(qcd_cut_msd)"
   ]
  },
  {
   "cell_type": "code",
   "execution_count": 259,
   "id": "d74f562a-aec7-4161-8ab9-c21d7b30fe51",
   "metadata": {},
   "outputs": [],
   "source": [
    "with open('../jsons/subregion_event_totals.json', 'r') as f:\n",
    "    totals = json.load(f)\n",
    "with open('../jsons/my_xsecs.json', 'r') as f:\n",
    "    xsecs = json.load(f)"
   ]
  },
  {
   "cell_type": "code",
   "execution_count": 260,
   "id": "c58f3070-1330-4568-ad89-3c4604341cb0",
   "metadata": {},
   "outputs": [],
   "source": [
    "scale = ((44.99*(xsecs['hgg']*0.0817*1000))/totals['hgg'])\n",
    "hgg_pass_hist.view(flow=True)[:] *= scale\n",
    "hgg_fail_hist.view(flow=True)[:] *= scale"
   ]
  },
  {
   "cell_type": "code",
   "execution_count": 261,
   "id": "b39ef16a-5050-4fef-a016-6f16273338ec",
   "metadata": {},
   "outputs": [],
   "source": [
    "scale = ((44.99*(xsecs['qcd']['qcd_470to600']*1000))/totals['qcd']['470to600'])\n",
    "qcd_pass_hist.view(flow=True)[:] *= scale\n",
    "qcd_fail_hist.view(flow=True)[:] *= scale"
   ]
  },
  {
   "cell_type": "code",
   "execution_count": 262,
   "id": "9594468c-b6b3-4191-88ec-c3e4013c8173",
   "metadata": {},
   "outputs": [],
   "source": [
    "total_qcd_hist = qcd_pass_hist + qcd_fail_hist\n",
    "total_hgg_hist = hgg_pass_hist + hgg_fail_hist"
   ]
  },
  {
   "cell_type": "code",
   "execution_count": 274,
   "id": "4f429a3a-49d3-4d35-91aa-579ec05d5daa",
   "metadata": {},
   "outputs": [
    {
     "data": {
      "image/png": "[encoded data removed]",
      "text/plain": [
       "<Figure size 640x480 with 1 Axes>"
      ]
     },
     "metadata": {},
     "output_type": "display_data"
    }
   ],
   "source": [
    "qcd_pass_hist.plot1d(density=True, label='QCD Passing')\n",
    "#qcd_fail_hist.plot1d(density=True, label='QCD Failing')\n",
    "#total_qcd_hist.plot1d(density=True, label='QCD Total')\n",
    "\n",
    "hgg_pass_hist.plot1d(density=True, label='Hgg Passing')\n",
    "#hgg_fail_hist.plot1d(density=True, label='Hgg Failing')\n",
    "#total_hgg_hist.plot1d(density=True, label='Hgg Total')\n",
    "\n",
    "plt.legend()\n",
    "plt.show()"
   ]
  },
  {
   "cell_type": "code",
   "execution_count": 264,
   "id": "5a451b99-26f1-44e0-9ea3-c5fff638059f",
   "metadata": {},
   "outputs": [
    {
     "data": {
      "text/html": [
       "<html>\n",
       "<div style=\"display:flex; align-items:center;\">\n",
       "<div style=\"width:290px;\">\n",
       "<svg xmlns=\"http://www.w3.org/2000/svg\" viewBox=\"-10 -105 270 120\">\n",
       "<line x1=\"-5\" y1=\"0\" x2=\"255\" y2=\"0\" style=\"fill:none;stroke-width:2;stroke:currentColor\"/>\n",
       "<text text-anchor=\"middle\" x=\"0\" y=\"15\" style=\"fill:currentColor;\">\n",
       "40\n",
       "</text>\n",
       "<text text-anchor=\"middle\" x=\"250\" y=\"15\" style=\"fill:currentColor;\">\n",
       "200\n",
       "</text>\n",
       "<text text-anchor=\"middle\" x=\"125.0\" y=\"15\" style=\"fill:currentColor;\">\n",
       "Hgg MSD\n",
       "</text>\n",
       "<polyline points=\"  0,0   0,-5.41 6.25,-5.41 6.25,-4.86 12.5,-4.86 12.5,-5.8 18.75,-5.8 18.75,-6.48  25,-6.48  25,-4.95 31.25,-4.95 31.25,-5.02 37.5,-5.02 37.5,-6.19 43.75,-6.19 43.75,-6.44  50,-6.44  50,-6.54 56.25,-6.54 56.25,-7.25 62.5,-7.25 62.5,-7.35 68.75,-7.35 68.75,-7.77  75,-7.77  75,-9.29 81.25,-9.29 81.25,-10.3 87.5,-10.3 87.5,-10.9 93.75,-10.9 93.75,-13 100,-13 100,-15 106.25,-15 106.25,-18.4 112.5,-18.4 112.5,-28.3 118.75,-28.3 118.75,-43.6 125,-43.6 125,-63.3 131.25,-63.3 131.25,-90.2 137.5,-90.2 137.5,-100 143.75,-100 143.75,-96.6 150,-96.6 150,-80.9 156.25,-80.9 156.25,-57.1 162.5,-57.1 162.5,-37.4 168.75,-37.4 168.75,-21.2 175,-21.2 175,-12.7 181.25,-12.7 181.25,-8.32 187.5,-8.32 187.5,-6.41 193.75,-6.41 193.75,-5.02 200,-5.02 200,-4.6 206.25,-4.6 206.25,-3.63 212.5,-3.63 212.5,-2.75 218.75,-2.75 218.75,-3.21 225,-3.21 225,-2.69 231.25,-2.69 231.25,-3.04 237.5,-3.04 237.5,-2.33 243.75,-2.33 243.75,-2.23 250,-2.23 250,0\" style=\"fill:none; stroke:currentColor;\"/>\n",
       "</svg>\n",
       "</div>\n",
       "<div style=\"flex=grow:1;\">\n",
       "Regular(40, 40, 200, name='msd', label='Hgg MSD')<br/>\n",
       "<hr style=\"margin-top:.2em; margin-bottom:.2em;\"/>\n",
       "Weight() Σ=WeightedSum(value=18.4662, variance=0.0133631)\n",
       "\n",
       "</div>\n",
       "</div>\n",
       "</html>"
      ],
      "text/plain": [
       "Hist(Regular(40, 40, 200, name='msd', label='Hgg MSD'), storage=Weight()) # Sum: WeightedSum(value=18.4662, variance=0.0133631)"
      ]
     },
     "execution_count": 264,
     "metadata": {},
     "output_type": "execute_result"
    }
   ],
   "source": [
    "hgg_pass_hist"
   ]
  },
  {
   "cell_type": "code",
   "execution_count": 265,
   "id": "d0240f49-88c5-4b33-bcda-a540d27f06ad",
   "metadata": {},
   "outputs": [
    {
     "data": {
      "text/html": [
       "<html>\n",
       "<div style=\"display:flex; align-items:center;\">\n",
       "<div style=\"width:290px;\">\n",
       "<svg xmlns=\"http://www.w3.org/2000/svg\" viewBox=\"-10 -105 270 120\">\n",
       "<line x1=\"-5\" y1=\"0\" x2=\"255\" y2=\"0\" style=\"fill:none;stroke-width:2;stroke:currentColor\"/>\n",
       "<text text-anchor=\"middle\" x=\"0\" y=\"15\" style=\"fill:currentColor;\">\n",
       "40\n",
       "</text>\n",
       "<text text-anchor=\"middle\" x=\"250\" y=\"15\" style=\"fill:currentColor;\">\n",
       "200\n",
       "</text>\n",
       "<text text-anchor=\"middle\" x=\"125.0\" y=\"15\" style=\"fill:currentColor;\">\n",
       "Hgg MSD\n",
       "</text>\n",
       "<polyline points=\"  0,0   0,-5.9 6.25,-5.9 6.25,-5.55 12.5,-5.55 12.5,-6.39 18.75,-6.39 18.75,-6.14  25,-6.14  25,-5.61 31.25,-5.61 31.25,-5.58 37.5,-5.58 37.5,-6.2 43.75,-6.2 43.75,-6.42  50,-6.42  50,-6.5 56.25,-6.5 56.25,-7.05 62.5,-7.05 62.5,-7.41 68.75,-7.41 68.75,-8  75,-8  75,-8.9 81.25,-8.9 81.25,-9.6 87.5,-9.6 87.5,-10.8 93.75,-10.8 93.75,-12.6 100,-12.6 100,-14.8 106.25,-14.8 106.25,-18.7 112.5,-18.7 112.5,-29.6 118.75,-29.6 118.75,-43.5 125,-43.5 125,-65.5 131.25,-65.5 131.25,-91.2 137.5,-91.2 137.5,-100 143.75,-100 143.75,-97.1 150,-97.1 150,-80.4 156.25,-80.4 156.25,-56.4 162.5,-56.4 162.5,-35.8 168.75,-35.8 168.75,-19.8 175,-19.8 175,-11.6 181.25,-11.6 181.25,-7.31 187.5,-7.31 187.5,-5.12 193.75,-5.12 193.75,-3.82 200,-3.82 200,-3.62 206.25,-3.62 206.25,-2.8 212.5,-2.8 212.5,-2.12 218.75,-2.12 218.75,-2.29 225,-2.29 225,-1.93 231.25,-1.93 231.25,-1.89 237.5,-1.89 237.5,-1.53 243.75,-1.53 243.75,-1.33 250,-1.33 250,0\" style=\"fill:none; stroke:currentColor;\"/>\n",
       "</svg>\n",
       "</div>\n",
       "<div style=\"flex=grow:1;\">\n",
       "Regular(40, 40, 200, name='msd', label='Hgg MSD')<br/>\n",
       "<hr style=\"margin-top:.2em; margin-bottom:.2em;\"/>\n",
       "Weight() Σ=WeightedSum(value=40.979, variance=0.0296546)\n",
       "\n",
       "</div>\n",
       "</div>\n",
       "</html>"
      ],
      "text/plain": [
       "Hist(Regular(40, 40, 200, name='msd', label='Hgg MSD'), storage=Weight()) # Sum: WeightedSum(value=40.979, variance=0.0296546)"
      ]
     },
     "execution_count": 265,
     "metadata": {},
     "output_type": "execute_result"
    }
   ],
   "source": [
    "total_hgg_hist"
   ]
  },
  {
   "cell_type": "code",
   "execution_count": 269,
   "id": "23ffa952-ffee-4907-a33b-8eac79f921f8",
   "metadata": {},
   "outputs": [],
   "source": [
    "sorsb = hgg_pass_hist.values() / np.sqrt(hgg_pass_hist.values() + qcd_pass_hist.values())"
   ]
  },
  {
   "cell_type": "code",
   "execution_count": 270,
   "id": "71fac20f-8665-4b14-8e1a-5d7ab3408f94",
   "metadata": {},
   "outputs": [
    {
     "data": {
      "text/plain": [
       "0.039671668583758486"
      ]
     },
     "execution_count": 270,
     "metadata": {},
     "output_type": "execute_result"
    }
   ],
   "source": [
    "np.sqrt(np.sum(sorsb**2))"
   ]
  },
  {
   "cell_type": "code",
   "execution_count": null,
   "id": "939681e7-0a71-4e14-af8c-c0bc81bc4534",
   "metadata": {},
   "outputs": [],
   "source": []
  },
  {
   "cell_type": "code",
   "execution_count": null,
   "id": "85131e24-95be-454a-90bc-bf54f1293438",
   "metadata": {},
   "outputs": [],
   "source": []
  },
  {
   "cell_type": "code",
   "execution_count": null,
   "id": "a526e461-5132-4ffe-b9d3-0dc6ec0c81b1",
   "metadata": {},
   "outputs": [],
   "source": []
  },
  {
   "cell_type": "code",
   "execution_count": 272,
   "id": "33fcc2a1-f96d-4fe3-a9ac-8c033dbf7f9a",
   "metadata": {},
   "outputs": [
    {
     "data": {
      "text/plain": [
       "(743719.7044853303, 2629171.387035137)"
      ]
     },
     "execution_count": 272,
     "metadata": {},
     "output_type": "execute_result"
    }
   ],
   "source": [
    "sum(qcd_pass_hist.values()), sum(total_qcd_hist.values())"
   ]
  },
  {
   "cell_type": "code",
   "execution_count": 273,
   "id": "e7bfe1c7-fa7b-48bd-98d8-b7d25dd6d2d3",
   "metadata": {},
   "outputs": [
    {
     "data": {
      "text/plain": [
       "28.287227989500064"
      ]
     },
     "execution_count": 273,
     "metadata": {},
     "output_type": "execute_result"
    }
   ],
   "source": [
    "sum(qcd_pass_hist.values())/sum(total_qcd_hist.values())* 100"
   ]
  },
  {
   "cell_type": "code",
   "execution_count": 89,
   "id": "281758ae-9cce-447b-98cb-aa2779c659e5",
   "metadata": {},
   "outputs": [],
   "source": [
    "sculpt_metric = sum(abs(total_qcd_hist.density() - qcd_pass_hist.density()))"
   ]
  },
  {
   "cell_type": "code",
   "execution_count": 90,
   "id": "e6d3d992-46e3-4923-b58d-81894c244bde",
   "metadata": {},
   "outputs": [
    {
     "data": {
      "text/plain": [
       "1.0408340855860843e-17"
      ]
     },
     "execution_count": 90,
     "metadata": {},
     "output_type": "execute_result"
    }
   ],
   "source": [
    "sum(total_qcd_hist[30:].density() - qcd_pass_hist[30:].density()) # Look a"
   ]
  },
  {
   "cell_type": "code",
   "execution_count": 91,
   "id": "d810a32c-c491-489a-b660-0cc053bd37fe",
   "metadata": {},
   "outputs": [
    {
     "data": {
      "image/png": "[encoded data removed]",
      "text/plain": [
       "<Figure size 640x480 with 1 Axes>"
      ]
     },
     "metadata": {},
     "output_type": "display_data"
    }
   ],
   "source": [
    "fig, ax = plt.subplots()\n",
    "\n",
    "ax.stairs(np.cumsum(total_qcd_hist.density()), edges=total_qcd_hist.axes[0].edges);\n",
    "ax.stairs(np.cumsum(qcd_pass_hist.density()), edges=qcd_pass_hist.axes[0].edges);"
   ]
  },
  {
   "cell_type": "code",
   "execution_count": 92,
   "id": "92f4f530-e55d-4c26-806f-f121881c6014",
   "metadata": {},
   "outputs": [
    {
     "data": {
      "text/plain": [
       "0.028857023822828842"
      ]
     },
     "execution_count": 92,
     "metadata": {},
     "output_type": "execute_result"
    }
   ],
   "source": [
    "abs(np.cumsum(total_qcd_hist.density() * 4) - np.cumsum(qcd_pass_hist.density() * 4)).max()"
   ]
  },
  {
   "cell_type": "code",
   "execution_count": 93,
   "id": "8ae5d570-bebb-4611-bd19-37dba127826b",
   "metadata": {},
   "outputs": [
    {
     "data": {
      "text/plain": [
       "0.02050888633452582"
      ]
     },
     "execution_count": 93,
     "metadata": {},
     "output_type": "execute_result"
    }
   ],
   "source": [
    "sculpt_metric"
   ]
  },
  {
   "cell_type": "code",
   "execution_count": 94,
   "id": "786a3e98-c02d-4774-a042-48bdb9eec12f",
   "metadata": {},
   "outputs": [
    {
     "data": {
      "text/plain": [
       "0.6444098419510024"
      ]
     },
     "execution_count": 94,
     "metadata": {},
     "output_type": "execute_result"
    }
   ],
   "source": [
    "roc_auc"
   ]
  },
  {
   "cell_type": "code",
   "execution_count": null,
   "id": "78f9a01a-4db5-41a8-b858-6638b27ccf7b",
   "metadata": {},
   "outputs": [],
   "source": []
  },
  {
   "cell_type": "code",
   "execution_count": null,
   "id": "47d3fa73-5b00-403d-aff4-95b9e70abf73",
   "metadata": {},
   "outputs": [],
   "source": []
  },
  {
   "cell_type": "code",
   "execution_count": null,
   "id": "f8163c72-31e1-4705-ae64-461d1088f3bf",
   "metadata": {},
   "outputs": [],
   "source": []
  },
  {
   "cell_type": "code",
   "execution_count": null,
   "id": "d6049d46-7627-472c-9ff9-3a783ab6bc86",
   "metadata": {},
   "outputs": [],
   "source": []
  },
  {
   "cell_type": "code",
   "execution_count": null,
   "id": "5b2d0239-9bd1-4a04-a091-e5f7a7f7ed2e",
   "metadata": {},
   "outputs": [],
   "source": []
  }
 ],
 "metadata": {
  "kernelspec": {
   "display_name": "Python 3 (ipykernel)",
   "language": "python",
   "name": "python3"
  },
  "language_info": {
   "codemirror_mode": {
    "name": "ipython",
    "version": 3
   },
   "file_extension": ".py",
   "mimetype": "text/x-python",
   "name": "python",
   "nbconvert_exporter": "python",
   "pygments_lexer": "ipython3",
   "version": "3.11.9"
  }
 },
 "nbformat": 4,
 "nbformat_minor": 5
}
