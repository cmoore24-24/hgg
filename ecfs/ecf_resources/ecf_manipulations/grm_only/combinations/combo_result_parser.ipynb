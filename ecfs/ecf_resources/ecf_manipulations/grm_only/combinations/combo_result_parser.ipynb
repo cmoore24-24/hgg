{
 "cells": [
  {
   "cell_type": "code",
   "execution_count": 1,
   "id": "f7c9d6e8-8272-4e21-b5c3-5244cc11be56",
   "metadata": {},
   "outputs": [],
   "source": [
    "import awkward as ak\n",
    "import json\n",
    "import pandas as pd\n",
    "import numpy as np\n",
    "import pickle"
   ]
  },
  {
   "cell_type": "code",
   "execution_count": 25,
   "id": "321eafaf-a813-497e-9e57-2ea32c898b34",
   "metadata": {},
   "outputs": [],
   "source": [
    "with open('ecf_results.json', 'r') as f:\n",
    "    metrics = json.load(f)"
   ]
  },
  {
   "cell_type": "code",
   "execution_count": 26,
   "id": "3b34fc0c-8314-44d2-a508-c8e97b7e2476",
   "metadata": {},
   "outputs": [],
   "source": [
    "metrics = pd.DataFrame(metrics)"
   ]
  },
  {
   "cell_type": "code",
   "execution_count": 27,
   "id": "7e9e895f-1acc-4667-983f-163f9a4e3a23",
   "metadata": {},
   "outputs": [],
   "source": [
    "# metrics = metrics.loc[:, metrics.columns[(metrics.loc['roc_auc'] > 0.80)]]\n",
    "# metrics = metrics.loc[:, metrics.columns[(metrics.loc['roc_auc'] < 0.80)]]"
   ]
  },
  {
   "cell_type": "code",
   "execution_count": 28,
   "id": "382169f9-992b-441a-9acf-021abcbd2f2e",
   "metadata": {},
   "outputs": [],
   "source": [
    "# metrics = metrics.loc[:, metrics.columns[(metrics.loc['sculpt_metric'] > 0.01)]]\n",
    "# metrics = metrics.loc[:, metrics.columns[(metrics.loc['sculpt_metric'] < 0.03)]]"
   ]
  },
  {
   "cell_type": "code",
   "execution_count": 29,
   "id": "7291daf0-4366-4839-a405-5d110ba28925",
   "metadata": {},
   "outputs": [
    {
     "data": {
      "text/plain": [
       "0.7342195912388285"
      ]
     },
     "execution_count": 29,
     "metadata": {},
     "output_type": "execute_result"
    }
   ],
   "source": [
    "max(metrics.iloc[0, :])"
   ]
  },
  {
   "cell_type": "code",
   "execution_count": 21,
   "id": "97b8ed4b-237a-4980-83cb-bdc27e3db868",
   "metadata": {},
   "outputs": [
    {
     "data": {
      "text/html": [
       "<div>\n",
       "<style scoped>\n",
       "    .dataframe tbody tr th:only-of-type {\n",
       "        vertical-align: middle;\n",
       "    }\n",
       "\n",
       "    .dataframe tbody tr th {\n",
       "        vertical-align: top;\n",
       "    }\n",
       "\n",
       "    .dataframe thead th {\n",
       "        text-align: right;\n",
       "    }\n",
       "</style>\n",
       "<table border=\"1\" class=\"dataframe\">\n",
       "  <thead>\n",
       "    <tr style=\"text-align: right;\">\n",
       "      <th></th>\n",
       "      <th>22</th>\n",
       "      <th>23</th>\n",
       "      <th>24</th>\n",
       "      <th>28</th>\n",
       "      <th>29</th>\n",
       "      <th>37</th>\n",
       "      <th>44</th>\n",
       "      <th>59</th>\n",
       "      <th>60</th>\n",
       "      <th>64</th>\n",
       "      <th>68</th>\n",
       "    </tr>\n",
       "  </thead>\n",
       "  <tbody>\n",
       "    <tr>\n",
       "      <th>roc_auc</th>\n",
       "      <td>0.643741</td>\n",
       "      <td>0.657721</td>\n",
       "      <td>0.649309</td>\n",
       "      <td>0.652898</td>\n",
       "      <td>0.656546</td>\n",
       "      <td>0.654151</td>\n",
       "      <td>0.654805</td>\n",
       "      <td>0.652227</td>\n",
       "      <td>0.645057</td>\n",
       "      <td>0.651709</td>\n",
       "      <td>0.651585</td>\n",
       "    </tr>\n",
       "    <tr>\n",
       "      <th>sculpt_metric</th>\n",
       "      <td>0.020246</td>\n",
       "      <td>0.026476</td>\n",
       "      <td>0.023540</td>\n",
       "      <td>0.027441</td>\n",
       "      <td>0.029863</td>\n",
       "      <td>0.024552</td>\n",
       "      <td>0.026759</td>\n",
       "      <td>0.027845</td>\n",
       "      <td>0.014215</td>\n",
       "      <td>0.024741</td>\n",
       "      <td>0.029972</td>\n",
       "    </tr>\n",
       "  </tbody>\n",
       "</table>\n",
       "</div>"
      ],
      "text/plain": [
       "                     22        23        24        28        29        37  \\\n",
       "roc_auc        0.643741  0.657721  0.649309  0.652898  0.656546  0.654151   \n",
       "sculpt_metric  0.020246  0.026476  0.023540  0.027441  0.029863  0.024552   \n",
       "\n",
       "                     44        59        60        64        68  \n",
       "roc_auc        0.654805  0.652227  0.645057  0.651709  0.651585  \n",
       "sculpt_metric  0.026759  0.027845  0.014215  0.024741  0.029972  "
      ]
     },
     "execution_count": 21,
     "metadata": {},
     "output_type": "execute_result"
    }
   ],
   "source": [
    "metrics"
   ]
  },
  {
   "cell_type": "code",
   "execution_count": 11,
   "id": "d29152ec-981c-491a-82b6-fce2213ceb9c",
   "metadata": {},
   "outputs": [
    {
     "data": {
      "text/plain": [
       "Index(['221'], dtype='object')"
      ]
     },
     "execution_count": 11,
     "metadata": {},
     "output_type": "execute_result"
    }
   ],
   "source": [
    "metrics.iloc[:, ].columns"
   ]
  },
  {
   "cell_type": "code",
   "execution_count": 12,
   "id": "a75f678a-fcca-40c3-b325-5c17c622c415",
   "metadata": {},
   "outputs": [
    {
     "data": {
      "text/plain": [
       "1"
      ]
     },
     "execution_count": 12,
     "metadata": {},
     "output_type": "execute_result"
    }
   ],
   "source": [
    "len(metrics.iloc[0, :].values)"
   ]
  },
  {
   "cell_type": "code",
   "execution_count": 22,
   "id": "fc3c775c-4f70-49b6-a613-d7ee6cda9cef",
   "metadata": {},
   "outputs": [],
   "source": [
    "with open('combinations.pkl', 'rb') as f:\n",
    "    combinations = pickle.load(f)"
   ]
  },
  {
   "cell_type": "code",
   "execution_count": 23,
   "id": "c0ec00ad-bb5d-4590-bdbe-a93e0535202d",
   "metadata": {},
   "outputs": [
    {
     "data": {
      "text/plain": [
       "['1e4^0.5/1e2^0.5**1.0', '2e5^0.5/1e2^0.5**2.0', '5e5^0.5/2e3^1.0**1.25']"
      ]
     },
     "execution_count": 23,
     "metadata": {},
     "output_type": "execute_result"
    }
   ],
   "source": [
    "combinations['60']"
   ]
  },
  {
   "cell_type": "code",
   "execution_count": 53,
   "id": "7637543e-e586-4621-894b-be7e491086c9",
   "metadata": {},
   "outputs": [],
   "source": [
    "good_combos = metrics.iloc[:, ].columns"
   ]
  },
  {
   "cell_type": "code",
   "execution_count": 54,
   "id": "36b00123-1268-4c40-8174-e3095e372577",
   "metadata": {},
   "outputs": [],
   "source": [
    "starts = {}\n",
    "index = 0\n",
    "for i in good_combos:\n",
    "    starts[str(index)] = combinations[str(i)]\n",
    "    index += 1"
   ]
  },
  {
   "cell_type": "code",
   "execution_count": 57,
   "id": "fda60c5a-d8c5-4202-9a79-5d4bd77a2e29",
   "metadata": {},
   "outputs": [],
   "source": [
    "with open('two_combos.pkl', 'wb') as f:\n",
    "    pickle.dump(starts, f)"
   ]
  },
  {
   "cell_type": "code",
   "execution_count": null,
   "id": "632b02c4-1017-4399-abe4-da4bedd1d460",
   "metadata": {},
   "outputs": [],
   "source": []
  }
 ],
 "metadata": {
  "kernelspec": {
   "display_name": "Python 3 (ipykernel)",
   "language": "python",
   "name": "python3"
  },
  "language_info": {
   "codemirror_mode": {
    "name": "ipython",
    "version": 3
   },
   "file_extension": ".py",
   "mimetype": "text/x-python",
   "name": "python",
   "nbconvert_exporter": "python",
   "pygments_lexer": "ipython3",
   "version": "3.11.9"
  }
 },
 "nbformat": 4,
 "nbformat_minor": 5
}
