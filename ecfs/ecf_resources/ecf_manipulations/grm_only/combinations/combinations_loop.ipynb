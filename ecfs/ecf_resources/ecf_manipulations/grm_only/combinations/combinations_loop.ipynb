{
 "cells": [
  {
   "cell_type": "code",
   "execution_count": 27,
   "id": "71369fde-0807-4c07-b671-3a1387e7b54b",
   "metadata": {},
   "outputs": [],
   "source": [
    "import numpy as np\n",
    "import awkward as ak\n",
    "import hist\n",
    "import warnings\n",
    "import pickle\n",
    "from coffea.ml_tools.torch_wrapper import torch_wrapper\n",
    "import hist\n",
    "from sklearn.metrics import roc_curve, auc\n",
    "import os\n",
    "import json\n",
    "import copy"
   ]
  },
  {
   "cell_type": "code",
   "execution_count": 11,
   "id": "9cf921db-d8b7-431b-9ad9-93a709dfccc2",
   "metadata": {},
   "outputs": [],
   "source": [
    "warnings.filterwarnings('ignore', 'invalid value')\n",
    "warnings.filterwarnings('ignore', 'No format')\n",
    "warnings.filterwarnings('ignore', 'overflow encountered in cast')\n",
    "warnings.filterwarnings('ignore', 'divide by zero encountered in divide')"
   ]
  },
  {
   "cell_type": "code",
   "execution_count": 12,
   "id": "a1c10ddf-4b9f-49fb-bfef-3878ec94a169",
   "metadata": {},
   "outputs": [],
   "source": [
    "hgg = ak.from_parquet('/scratch365/cmoore24/training/data/ecfs/hgg_ecfs.parquet')"
   ]
  },
  {
   "cell_type": "code",
   "execution_count": 13,
   "id": "a16eb5af-8bb8-49cb-90fd-a741a4ca06a5",
   "metadata": {},
   "outputs": [],
   "source": [
    "qcd = ak.firsts(ak.from_parquet('/scratch365/cmoore24/training/data/ecfs/qcd_ecfs.parquet'))"
   ]
  },
  {
   "cell_type": "code",
   "execution_count": 14,
   "id": "09ec7bfd-1f88-4d39-8ca9-8af53d0ec875",
   "metadata": {},
   "outputs": [],
   "source": [
    "hgg = hgg[ak.flatten(hgg.msoftdrop < 200)]\n",
    "hgg = hgg[ak.flatten(hgg.msoftdrop > 40)]\n",
    "hgg = hgg[ak.flatten(hgg.pt < 600)]\n",
    "hgg = hgg[ak.flatten(hgg.pt > 450)]"
   ]
  },
  {
   "cell_type": "code",
   "execution_count": 15,
   "id": "a73584ce-fecf-41f0-9929-f16532adcb2a",
   "metadata": {},
   "outputs": [],
   "source": [
    "qcd = qcd[qcd.msoftdrop < 200]\n",
    "qcd = qcd[qcd.msoftdrop > 40]\n",
    "qcd = qcd[qcd.pt < 600]\n",
    "qcd = qcd[qcd.pt > 450]"
   ]
  },
  {
   "cell_type": "code",
   "execution_count": 16,
   "id": "9cbe50d9-a875-4ffd-ad7c-98d26c086538",
   "metadata": {},
   "outputs": [],
   "source": [
    "mask = ak.ones_like(hgg[hgg.fields[0]], dtype='bool')\n",
    "mask = ak.fill_none(mask, True)\n",
    "for j in hgg.fields:\n",
    "    if hgg[j].fields == []:\n",
    "        mask = mask & (~ak.is_none(ak.nan_to_none(hgg[j])))\n",
    "    else:\n",
    "        for i in hgg[j].fields:\n",
    "            mask = mask & (~ak.is_none(ak.nan_to_none(hgg[j][i])))\n",
    "hgg = hgg[ak.flatten(mask)]"
   ]
  },
  {
   "cell_type": "code",
   "execution_count": 17,
   "id": "fb52addf-17b5-45ec-ba22-0e6b7f1a1867",
   "metadata": {},
   "outputs": [],
   "source": [
    "mask = ak.ones_like(qcd[qcd.fields[0]], dtype='bool')\n",
    "mask = ak.fill_none(mask, True)\n",
    "for j in qcd.fields:\n",
    "    if qcd[j].fields == []:\n",
    "        mask = mask & (~ak.is_none(ak.nan_to_none(qcd[j])))\n",
    "    else:\n",
    "        for i in qcd[j].fields:\n",
    "            mask = mask & (~ak.is_none(ak.nan_to_none(qcd[j][i])))\n",
    "qcd = qcd[mask]"
   ]
  },
  {
   "cell_type": "code",
   "execution_count": 18,
   "id": "03a355c7-0356-4818-b596-fec6a9147b34",
   "metadata": {},
   "outputs": [],
   "source": [
    "hgg_train = ak.zip({\n",
    "    'd2b1': hgg.d2b1,\n",
    "    'ECFs': hgg.ECFs,\n",
    "    'msoftdrop': hgg.msoftdrop,\n",
    "    'pt': hgg.pt,\n",
    "},\n",
    "       depth_limit=1\n",
    "      )"
   ]
  },
  {
   "cell_type": "code",
   "execution_count": 19,
   "id": "8267fcf2-633d-43c0-8ff1-d4548fbeb840",
   "metadata": {},
   "outputs": [],
   "source": [
    "qcd_train = ak.zip({\n",
    "    'd2b1': qcd.d2b1,\n",
    "    'ECFs': qcd.ECFs,\n",
    "    'msoftdrop': qcd.msoftdrop,\n",
    "    'pt': qcd.pt,\n",
    "},\n",
    "       depth_limit=1\n",
    "      )"
   ]
  },
  {
   "cell_type": "code",
   "execution_count": 21,
   "id": "aa45cf0f-9a1f-4a13-8f03-eda2d6f96203",
   "metadata": {},
   "outputs": [],
   "source": [
    "with open('/scratch365/cmoore24/training/hgg/binary/ecfs_project/combo_training/combinations.pkl', 'rb') as f:\n",
    "    combinations = pickle.load(f)"
   ]
  },
  {
   "cell_type": "code",
   "execution_count": 22,
   "id": "6c320e8d-ac89-481d-9c87-8f062794a530",
   "metadata": {},
   "outputs": [],
   "source": [
    "with open('../../jsons/subregion_event_totals.json', 'r') as f:\n",
    "    totals = json.load(f)\n",
    "with open('../../jsons/my_xsecs.json', 'r') as f:\n",
    "    xsecs = json.load(f)"
   ]
  },
  {
   "cell_type": "code",
   "execution_count": 23,
   "id": "54c0a8fa-c2a6-4ec1-b0ec-e0dc6821d33f",
   "metadata": {},
   "outputs": [],
   "source": [
    "class EnergyCorrelatorFunctionTagger(torch_wrapper):\n",
    "    def prepare_awkward(self, events, scaler, imap):\n",
    "        fatjets = events\n",
    "    \n",
    "\n",
    "    \n",
    "        retmap = {\n",
    "            k: ak.concatenate([x[:, np.newaxis] for x in imap[k].values()], axis=1)\n",
    "            for k in imap.keys()\n",
    "        }\n",
    "        x = ak.values_astype(scaler.transform(retmap['vars']), \"float32\")\n",
    "        return (x,), {}"
   ]
  },
  {
   "cell_type": "code",
   "execution_count": 24,
   "id": "13a20288-a91d-4213-be88-103b636b01a6",
   "metadata": {},
   "outputs": [],
   "source": [
    "def get_cut(qcd_scores, break_val):\n",
    "    hrange=(ak.min(qcd_scores), ak.max(qcd_scores))\n",
    "    proportion=1.0\n",
    "    i = 0\n",
    "    while proportion > 0.15:\n",
    "        qcd_hist = np.histogram(qcd_scores, bins=1000, \n",
    "                     range=hrange\n",
    "                    )\n",
    "        largest_bin_indices = np.argsort(qcd_hist[0])[-100:]\n",
    "        largest_bin_vals = qcd_hist[1][largest_bin_indices]\n",
    "        hrange = (largest_bin_vals[0], ak.max(qcd_scores))\n",
    "        proportion = sum(qcd_hist[0])/len(qcd_scores)\n",
    "        #print(proportion)\n",
    "        i += 1\n",
    "        if i > break_val:\n",
    "            break\n",
    "    cumulative_distribution = np.cumsum(qcd_hist[0][min(largest_bin_indices):max(largest_bin_indices)])\n",
    "    total_count = cumulative_distribution[-1]\n",
    "    half_count = total_count / 2\n",
    "    median_bin_index = np.where(cumulative_distribution >= half_count)[0][0]\n",
    "    cut = qcd_hist[1][median_bin_index]\n",
    "    return cut"
   ]
  },
  {
   "cell_type": "code",
   "execution_count": 31,
   "id": "c46ac652-f581-4818-8ba5-4d8439f6d3d9",
   "metadata": {},
   "outputs": [],
   "source": [
    "def imapper(array, ratio_list):\n",
    "    imap = {}\n",
    "    imap['vars'] = {}\n",
    "    for i in ratio_list:\n",
    "        imap['vars'][i] = array[i]\n",
    "    return imap"
   ]
  },
  {
   "cell_type": "code",
   "execution_count": 32,
   "id": "b87e2728-a423-4dec-8790-be76ad0a10ed",
   "metadata": {},
   "outputs": [],
   "source": [
    "def add_ratio(ratio, dataframe):\n",
    "    dash = ratio.find('/')\n",
    "    asterisk = ratio.find('*')\n",
    "    numerator = ratio[:dash]\n",
    "    denominator = ratio[dash+1:asterisk]\n",
    "    exponent = float(ratio[asterisk+2:])\n",
    "    num_ecf = dataframe[numerator]\n",
    "    den_ecf = dataframe[denominator]\n",
    "    ecf_ratio = (num_ecf)/(den_ecf**exponent)\n",
    "    return ecf_ratio"
   ]
  },
  {
   "cell_type": "code",
   "execution_count": 35,
   "id": "5db5113e-1a37-4aff-8d5c-f0f1e8107a47",
   "metadata": {},
   "outputs": [],
   "source": [
    "for i in range(0,70):\n",
    "    ratio_list = combinations[str(i)]\n",
    "    model = f'/scratch365/cmoore24/training/hgg/binary/ecfs_project/combo_training/outputs/models/traced_model{i}.pt'\n",
    "    scaler = f'/scratch365/cmoore24/training/hgg/binary/ecfs_project/combo_training/outputs/scalers/scaler{i}.pkl'\n",
    "    with open(scaler, 'rb') as f:\n",
    "        scaler = pickle.load(f)\n",
    "\n",
    "    hgg_sub_array = copy.deepcopy(hgg_train)\n",
    "    for j in ratio_list:\n",
    "        hgg_sub_array[j] = add_ratio(j, hgg_sub_array.ECFs)\n",
    "                    \n",
    "\n",
    "    qcd_sub_array = copy.deepcopy(qcd_train)\n",
    "    for j in ratio_list:\n",
    "        qcd_sub_array[j] = add_ratio(j, qcd_sub_array.ECFs)\n",
    "\n",
    "    tagger = EnergyCorrelatorFunctionTagger(model)\n",
    "    \n",
    "    hgg_imap = imapper(hgg_sub_array, ratio_list)\n",
    "    hgg_scores = tagger(hgg_sub_array, scaler, hgg_imap)[:,0]\n",
    "\n",
    "    qcd_imap = imapper(qcd_sub_array, ratio_list)\n",
    "    qcd_scores = tagger(qcd_sub_array, scaler, qcd_imap)[:,0]\n",
    "\n",
    "    nan_mask2 = np.isnan(hgg_scores)\n",
    "    hgg_sub_array = hgg_sub_array[~nan_mask2]\n",
    "    hgg_scores = hgg_scores[~nan_mask2]\n",
    "\n",
    "    nan_mask2 = np.isnan(qcd_scores)\n",
    "    qcd_sub_array = qcd_sub_array[~nan_mask2]\n",
    "    qcd_scores = qcd_scores[~nan_mask2]\n",
    "\n",
    "    bkg_zeros = ak.zeros_like(qcd_scores)\n",
    "    sig_ones = ak.ones_like(hgg_scores)\n",
    "    combined = ak.concatenate([qcd_scores,hgg_scores])\n",
    "    combined_truth = ak.concatenate([bkg_zeros, sig_ones])\n",
    "\n",
    "    try:\n",
    "        fpr, tpr, thresholds = roc_curve(combined_truth, combined)\n",
    "        roc_auc = auc(fpr, tpr)\n",
    "    except:\n",
    "        with open('ecf_results.json', 'r') as f:\n",
    "            results = json.load(f)\n",
    "    \n",
    "        results[str(i)] = {'roc_auc': None, 'sculpt_metric': None}\n",
    "    \n",
    "        with open('ecf_results.json', 'w') as f:\n",
    "            json.dump(results, f)\n",
    "        continue\n",
    "\n",
    "    if ak.min(qcd_scores) < -8:\n",
    "        cut = get_cut(qcd_scores, 100)\n",
    "    else:\n",
    "        cut = get_cut(qcd_scores, 50)\n",
    "\n",
    "    mask = ~((qcd_scores > cut))\n",
    "    qcd_cut_msd = qcd_sub_array.msoftdrop[mask]\n",
    "    qcd_fail_hist = hist.Hist.new.Reg(40, 40, 200, name='msd', label='QCD MSD').Weight()\n",
    "    qcd_fail_hist.fill(msd=qcd_cut_msd);\n",
    "\n",
    "    mask = ((qcd_scores > cut))\n",
    "    qcd_cut_msd = qcd_sub_array.msoftdrop[mask]\n",
    "    qcd_pass_hist = hist.Hist.new.Reg(40, 40, 200, name='msd', label='QCD MSD').Weight()\n",
    "    qcd_pass_hist.fill(msd=qcd_cut_msd);\n",
    "\n",
    "    scale = ((44.99*(xsecs['qcd']['qcd_470to600']*1000))/totals['qcd']['470to600'])\n",
    "    qcd_pass_hist.view(flow=True)[:] *= scale\n",
    "    qcd_fail_hist.view(flow=True)[:] *= scale\n",
    "\n",
    "    total_qcd_hist = qcd_pass_hist + qcd_fail_hist\n",
    "\n",
    "    sculpt_metric = sum(abs(total_qcd_hist.density() - qcd_pass_hist.density()))\n",
    "\n",
    "    with open('ecf_results.json', 'r') as f:\n",
    "        results = json.load(f)\n",
    "\n",
    "    results[str(i)] = {'roc_auc': roc_auc, 'sculpt_metric': sculpt_metric}\n",
    "\n",
    "    with open('ecf_results.json', 'w') as f:\n",
    "        json.dump(results, f)"
   ]
  },
  {
   "cell_type": "code",
   "execution_count": null,
   "id": "1636e1bb-b06f-4b70-b66a-96c25913462e",
   "metadata": {},
   "outputs": [],
   "source": []
  }
 ],
 "metadata": {
  "kernelspec": {
   "display_name": "Python 3 (ipykernel)",
   "language": "python",
   "name": "python3"
  },
  "language_info": {
   "codemirror_mode": {
    "name": "ipython",
    "version": 3
   },
   "file_extension": ".py",
   "mimetype": "text/x-python",
   "name": "python",
   "nbconvert_exporter": "python",
   "pygments_lexer": "ipython3",
   "version": "3.11.9"
  }
 },
 "nbformat": 4,
 "nbformat_minor": 5
}
