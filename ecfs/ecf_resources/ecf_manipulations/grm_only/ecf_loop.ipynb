{
 "cells": [
  {
   "cell_type": "code",
   "execution_count": 1,
   "id": "8620df69-1a62-49ad-b164-53971be81698",
   "metadata": {},
   "outputs": [],
   "source": [
    "import numpy as np\n",
    "import awkward as ak\n",
    "import hist\n",
    "import warnings\n",
    "import pickle\n",
    "from coffea.ml_tools.torch_wrapper import torch_wrapper\n",
    "import hist\n",
    "from sklearn.metrics import roc_curve, auc\n",
    "import os\n",
    "import json"
   ]
  },
  {
   "cell_type": "code",
   "execution_count": 2,
   "id": "d073bcac-342b-4521-a942-584c934059f4",
   "metadata": {},
   "outputs": [],
   "source": [
    "warnings.filterwarnings('ignore', 'invalid value')\n",
    "warnings.filterwarnings('ignore', 'No format')\n",
    "warnings.filterwarnings('ignore', 'overflow encountered in cast')\n",
    "warnings.filterwarnings('ignore', 'divide by zero encountered in divide')"
   ]
  },
  {
   "cell_type": "code",
   "execution_count": 3,
   "id": "d5695e2f-590f-496b-ba08-27410e1b236e",
   "metadata": {},
   "outputs": [],
   "source": [
    "hgg = ak.from_parquet('/scratch365/cmoore24/training/data/ecfs/hgg_ecfs.parquet')"
   ]
  },
  {
   "cell_type": "code",
   "execution_count": 4,
   "id": "4bf7ad7c-fa33-427e-880f-8902e4cdce5d",
   "metadata": {},
   "outputs": [],
   "source": [
    "qcd = ak.firsts(ak.from_parquet('/scratch365/cmoore24/training/data/ecfs/qcd_ecfs.parquet'))"
   ]
  },
  {
   "cell_type": "code",
   "execution_count": 5,
   "id": "3c0a379d-291c-4503-9653-9889ed799a16",
   "metadata": {},
   "outputs": [],
   "source": [
    "hgg = hgg[ak.flatten(hgg.msoftdrop < 200)]\n",
    "hgg = hgg[ak.flatten(hgg.msoftdrop > 40)]\n",
    "hgg = hgg[ak.flatten(hgg.pt < 600)]\n",
    "hgg = hgg[ak.flatten(hgg.pt > 450)]"
   ]
  },
  {
   "cell_type": "code",
   "execution_count": 6,
   "id": "b601d3c4-3bf2-4f3b-bb88-40dd05340b1e",
   "metadata": {},
   "outputs": [],
   "source": [
    "qcd = qcd[qcd.msoftdrop < 200]\n",
    "qcd = qcd[qcd.msoftdrop > 40]\n",
    "qcd = qcd[qcd.pt < 600]\n",
    "qcd = qcd[qcd.pt > 450]"
   ]
  },
  {
   "cell_type": "code",
   "execution_count": 7,
   "id": "ca005722-c5f2-4918-9a44-4fff3ce9aed9",
   "metadata": {},
   "outputs": [],
   "source": [
    "mask = ak.ones_like(hgg[hgg.fields[0]], dtype='bool')\n",
    "mask = ak.fill_none(mask, True)\n",
    "for j in hgg.fields:\n",
    "    if hgg[j].fields == []:\n",
    "        mask = mask & (~ak.is_none(ak.nan_to_none(hgg[j])))\n",
    "    else:\n",
    "        for i in hgg[j].fields:\n",
    "            mask = mask & (~ak.is_none(ak.nan_to_none(hgg[j][i])))\n",
    "hgg = hgg[ak.flatten(mask)]"
   ]
  },
  {
   "cell_type": "code",
   "execution_count": 8,
   "id": "fdbb6670-304d-4135-a88c-19f480187cda",
   "metadata": {},
   "outputs": [],
   "source": [
    "mask = ak.ones_like(qcd[qcd.fields[0]], dtype='bool')\n",
    "mask = ak.fill_none(mask, True)\n",
    "for j in qcd.fields:\n",
    "    if qcd[j].fields == []:\n",
    "        mask = mask & (~ak.is_none(ak.nan_to_none(qcd[j])))\n",
    "    else:\n",
    "        for i in qcd[j].fields:\n",
    "            mask = mask & (~ak.is_none(ak.nan_to_none(qcd[j][i])))\n",
    "qcd = qcd[mask]"
   ]
  },
  {
   "cell_type": "code",
   "execution_count": 9,
   "id": "ba3372f8-7365-403b-a40c-e35c2de628ee",
   "metadata": {},
   "outputs": [],
   "source": [
    "with open('/scratch365/cmoore24/training/hgg/binary/ecfs_project/ratios_equal0.pkl', 'rb') as f:\n",
    "    ecf_list0 = pickle.load(f)\n",
    "with open('/scratch365/cmoore24/training/hgg/binary/ecfs_project/ratios_equal1.pkl', 'rb') as f:\n",
    "    ecf_list1 = pickle.load(f)\n",
    "with open('/scratch365/cmoore24/training/hgg/binary/ecfs_project/ratios_equal2.pkl', 'rb') as f:\n",
    "    ecf_list2 = pickle.load(f)"
   ]
  },
  {
   "cell_type": "code",
   "execution_count": 10,
   "id": "003d32b0-2b16-4c81-ad4c-2a03ebfbb02b",
   "metadata": {},
   "outputs": [],
   "source": [
    "with open('ratios0.pkl', 'rb') as f:\n",
    "    ecf_list0 = pickle.load(f)\n",
    "with open('ratios1.pkl', 'rb') as f:\n",
    "    ecf_list1 = pickle.load(f)\n",
    "with open('ratios2.pkl', 'rb') as f:\n",
    "    ecf_list2 = pickle.load(f)"
   ]
  },
  {
   "cell_type": "code",
   "execution_count": 11,
   "id": "43feb141-1241-4c62-86c0-adb5fc876e02",
   "metadata": {},
   "outputs": [],
   "source": [
    "with open('/scratch365/cmoore24/training/hgg/binary/ecfs_project/ratios_equal0.json', 'r') as f:\n",
    "    ecf_json0 = json.load(f)\n",
    "with open('/scratch365/cmoore24/training/hgg/binary/ecfs_project/ratios_equal1.json', 'r') as f:\n",
    "    ecf_json1 = json.load(f)\n",
    "with open('/scratch365/cmoore24/training/hgg/binary/ecfs_project/ratios_equal2.json', 'r') as f:\n",
    "    ecf_json2 = json.load(f)"
   ]
  },
  {
   "cell_type": "code",
   "execution_count": 12,
   "id": "cd1bcee3-35fe-47a2-9df4-61375e7c7936",
   "metadata": {},
   "outputs": [],
   "source": [
    "with open('ratios0.json', 'r') as f:\n",
    "    ecf_json0 = json.load(f)\n",
    "with open('ratios1.json', 'r') as f:\n",
    "    ecf_json1 = json.load(f)\n",
    "with open('ratios2.json', 'r') as f:\n",
    "    ecf_json2 = json.load(f)"
   ]
  },
  {
   "cell_type": "code",
   "execution_count": 13,
   "id": "fcd6915a-f258-4ea2-96c8-1459c8efe00f",
   "metadata": {},
   "outputs": [],
   "source": [
    "ecf_list = ecf_list0 + ecf_list1 + ecf_list2"
   ]
  },
  {
   "cell_type": "code",
   "execution_count": 14,
   "id": "8bb09b15-ab40-47d9-aa4f-b01f0357a19c",
   "metadata": {},
   "outputs": [],
   "source": [
    "ecf_json = (ecf_json0 | ecf_json1) | ecf_json2"
   ]
  },
  {
   "cell_type": "code",
   "execution_count": 15,
   "id": "2cbabbca-b09c-4ff0-9fc7-67d358eabe01",
   "metadata": {},
   "outputs": [],
   "source": [
    "with open('../jsons/subregion_event_totals.json', 'r') as f:\n",
    "    totals = json.load(f)\n",
    "with open('../jsons/my_xsecs.json', 'r') as f:\n",
    "    xsecs = json.load(f)"
   ]
  },
  {
   "cell_type": "code",
   "execution_count": 16,
   "id": "47438c85-ee4d-42e6-89f3-a28cc52945e9",
   "metadata": {},
   "outputs": [],
   "source": [
    "class EnergyCorrelatorFunctionTagger(torch_wrapper):\n",
    "    def prepare_awkward(self, events, scaler, function):\n",
    "        fatjets = events\n",
    "    \n",
    "        imap = {\n",
    "            'vars': {\n",
    "                f'{function}': fatjets.ecf,\n",
    "            },\n",
    "        }\n",
    "    \n",
    "        retmap = {\n",
    "            k: ak.concatenate([x[:, np.newaxis] for x in imap[k].values()], axis=1)\n",
    "            for k in imap.keys()\n",
    "        }\n",
    "        x = ak.values_astype(scaler.transform(retmap['vars']), \"float32\")\n",
    "        return (x,), {}"
   ]
  },
  {
   "cell_type": "code",
   "execution_count": 17,
   "id": "5da704f2-c0ea-453d-ab81-1c3e15c9c1bf",
   "metadata": {},
   "outputs": [],
   "source": [
    "def get_cut(qcd_scores, break_val):\n",
    "    hrange=(ak.min(qcd_scores), ak.max(qcd_scores))\n",
    "    proportion=1.0\n",
    "    i = 0\n",
    "    while proportion > 0.60:\n",
    "        qcd_hist = np.histogram(qcd_scores, bins=10000, \n",
    "                     range=hrange\n",
    "                    )\n",
    "        largest_bin_indices = np.argsort(qcd_hist[0])[-100:]\n",
    "        largest_bin_vals = qcd_hist[1][largest_bin_indices]\n",
    "        hrange = (largest_bin_vals[0], ak.max(qcd_scores))\n",
    "        proportion = sum(qcd_hist[0])/len(qcd_scores)\n",
    "        #print(proportion)\n",
    "        i += 1\n",
    "        if i > break_val:\n",
    "            break\n",
    "    cumulative_distribution = np.cumsum(qcd_hist[0][min(largest_bin_indices):max(largest_bin_indices)])\n",
    "    total_count = cumulative_distribution[-1]\n",
    "    half_count = total_count / 2\n",
    "    median_bin_index = np.where(cumulative_distribution >= half_count)[0][0]\n",
    "    cut = qcd_hist[1][median_bin_index]\n",
    "    return cut"
   ]
  },
  {
   "cell_type": "code",
   "execution_count": 18,
   "id": "a0e474a1-879d-407a-b46c-7fb6fb5c676d",
   "metadata": {},
   "outputs": [],
   "source": [
    "with open('ecf_results.json', 'w') as f:\n",
    "    json.dump({}, f)"
   ]
  },
  {
   "cell_type": "code",
   "execution_count": 19,
   "id": "bd817962-3062-4ae3-a1d4-c5120a6f91a7",
   "metadata": {},
   "outputs": [
    {
     "name": "stderr",
     "output_type": "stream",
     "text": [
      "/afs/crc.nd.edu/user/c/cmoore24/miniconda3/envs/coffea/lib/python3.11/site-packages/awkward/_nplikes/array_module.py:246: RuntimeWarning: overflow encountered in divide\n",
      "  return impl(*broadcasted_args, **(kwargs or {}))\n"
     ]
    }
   ],
   "source": [
    "for ecf in ecf_list[:]:\n",
    "    index = ecf_json[ecf]['index']\n",
    "    model = f'/scratch365/cmoore24/training/hgg/binary/ecfs_project/outputs/models/traced_model{index}.pt'\n",
    "    scaler = f'/scratch365/cmoore24/training/hgg/binary/ecfs_project/outputs/scalers/scaler{index}.pkl'\n",
    "    with open(scaler, 'rb') as f:\n",
    "        scaler = pickle.load(f)\n",
    "\n",
    "    dash = ecf.find('/')\n",
    "    asterisk = ecf.find('*')\n",
    "    numerator = ecf[:dash]\n",
    "    denominator = ecf[dash+1:asterisk]\n",
    "    exponent = ecf[asterisk+2:]\n",
    "\n",
    "    num_hgg = hgg.ECFs[numerator]\n",
    "    den_hgg = hgg.ECFs[denominator]\n",
    "    hgg_ecf = num_hgg/(den_hgg**float(exponent))\n",
    "    nan_mask = np.isnan(hgg_ecf)\n",
    "    hgg_ecf = hgg_ecf[~nan_mask]\n",
    "    \n",
    "    hgg_sub_array = ak.zip({\n",
    "                        'ecf': hgg_ecf, \n",
    "                        'msoftdrop': hgg.msoftdrop[~nan_mask],\n",
    "                        },\n",
    "                       depth_limit=1,\n",
    "                      )\n",
    "\n",
    "    hgg_sub_array = hgg_sub_array[~(hgg_sub_array.ecf == np.inf)]\n",
    "\n",
    "    num_qcd = qcd.ECFs[numerator]\n",
    "    den_qcd = qcd.ECFs[denominator]\n",
    "    qcd_ecf = num_qcd/(den_qcd**float(exponent))\n",
    "    nan_mask = np.isnan(qcd_ecf)\n",
    "    qcd_ecf = qcd_ecf[~nan_mask]\n",
    "\n",
    "    qcd_sub_array = ak.zip({\n",
    "                        'ecf': qcd_ecf, \n",
    "                        'msoftdrop': qcd.msoftdrop[~nan_mask],\n",
    "                        },\n",
    "                       depth_limit=1,\n",
    "                      )\n",
    "\n",
    "    qcd_sub_array = qcd_sub_array[~(qcd_sub_array.ecf == np.inf)]\n",
    "    \n",
    "    tagger = EnergyCorrelatorFunctionTagger(model)\n",
    "    hgg_scores = tagger(hgg_sub_array, scaler, ecf)[:,0]\n",
    "    qcd_scores = tagger(qcd_sub_array, scaler, ecf)[:,0]\n",
    "\n",
    "    nan_mask2 = np.isnan(hgg_scores)\n",
    "    hgg_sub_array = hgg_sub_array[~nan_mask2]\n",
    "    hgg_scores = hgg_scores[~nan_mask2]\n",
    "\n",
    "    nan_mask2 = np.isnan(qcd_scores)\n",
    "    qcd_sub_array = qcd_sub_array[~nan_mask2]\n",
    "    qcd_scores = qcd_scores[~nan_mask2]\n",
    "    \n",
    "    bkg_zeros = ak.zeros_like(qcd_scores)\n",
    "    sig_ones = ak.ones_like(hgg_scores)\n",
    "    combined = ak.concatenate([qcd_scores,hgg_scores])\n",
    "    combined_truth = ak.concatenate([bkg_zeros, sig_ones])\n",
    "\n",
    "    try:\n",
    "        fpr, tpr, thresholds = roc_curve(combined_truth, combined)\n",
    "        roc_auc = auc(fpr, tpr)\n",
    "    except:\n",
    "        with open('ecf_results.json', 'r') as f:\n",
    "            results = json.load(f)\n",
    "    \n",
    "        results[ecf] = {'roc_auc': None, 'sculpt_metric': None, 's_sb': None}\n",
    "    \n",
    "        with open('ecf_results.json', 'w') as f:\n",
    "            json.dump(results, f)\n",
    "        continue\n",
    "\n",
    "\n",
    "    cut = get_cut(hgg_scores, 50)\n",
    "\n",
    "    mask = ~((qcd_scores > cut))\n",
    "    qcd_cut_msd = qcd_sub_array.msoftdrop[mask]\n",
    "    qcd_fail_hist = hist.Hist.new.Reg(40, 40, 200, name='msd', label='QCD MSD').Weight()\n",
    "    qcd_fail_hist.fill(msd=qcd_cut_msd);\n",
    "\n",
    "    mask = ~((hgg_scores > cut))\n",
    "    hgg_cut_msd = ak.flatten(hgg_sub_array.msoftdrop[mask])\n",
    "    hgg_fail_hist = hist.Hist.new.Reg(40, 40, 200, name='msd', label='Hgg MSD').Weight()\n",
    "    hgg_fail_hist.fill(msd=hgg_cut_msd);\n",
    "\n",
    "    mask = ((qcd_scores > cut))\n",
    "    qcd_cut_msd = qcd_sub_array.msoftdrop[mask]\n",
    "    qcd_pass_hist = hist.Hist.new.Reg(40, 40, 200, name='msd', label='QCD MSD').Weight()\n",
    "    qcd_pass_hist.fill(msd=qcd_cut_msd);\n",
    "\n",
    "    mask = ((hgg_scores > cut))\n",
    "    hgg_cut_msd = ak.flatten(hgg_sub_array.msoftdrop[mask])\n",
    "    hgg_pass_hist = hist.Hist.new.Reg(40, 40, 200, name='msd', label='Hgg MSD').Weight()\n",
    "    hgg_pass_hist.fill(msd=hgg_cut_msd);\n",
    "\n",
    "    scale = ((44.99*(xsecs['qcd']['qcd_470to600']*1000))/totals['qcd']['470to600'])\n",
    "    qcd_pass_hist.view(flow=True)[:] *= scale\n",
    "    qcd_fail_hist.view(flow=True)[:] *= scale\n",
    "\n",
    "    scale = ((44.99*(xsecs['hgg']*0.0817*1000))/totals['hgg'])\n",
    "    hgg_pass_hist.view(flow=True)[:] *= scale\n",
    "    hgg_fail_hist.view(flow=True)[:] *= scale\n",
    "\n",
    "    total_qcd_hist = qcd_pass_hist + qcd_fail_hist\n",
    "\n",
    "    sculpt_metric = sum(abs(total_qcd_hist.density() - qcd_pass_hist.density()))\n",
    "\n",
    "    sorsb = hgg_pass_hist.values() / np.sqrt(hgg_pass_hist.values() + qcd_pass_hist.values())\n",
    "    strength = np.sqrt(np.sum(sorsb**2))\n",
    "    \n",
    "\n",
    "    with open('ecf_results.json', 'r') as f:\n",
    "        results = json.load(f)\n",
    "\n",
    "    if np.isnan(strength):\n",
    "        results[ecf] = {'roc_auc': roc_auc, 'sculpt_metric': sculpt_metric, 's_sb': None}\n",
    "    else:\n",
    "        results[ecf] = {'roc_auc': roc_auc, 'sculpt_metric': sculpt_metric, 's_sb':strength}\n",
    "\n",
    "    with open('ecf_results.json', 'w') as f:\n",
    "        json.dump(results, f)"
   ]
  },
  {
   "cell_type": "code",
   "execution_count": 85,
   "id": "e8360485-2949-4991-ac37-64b599ad0dd9",
   "metadata": {},
   "outputs": [
    {
     "data": {
      "text/plain": [
       "'2e4^3.5/2e4^0.5**7.0'"
      ]
     },
     "execution_count": 85,
     "metadata": {},
     "output_type": "execute_result"
    }
   ],
   "source": [
    "ecf"
   ]
  },
  {
   "cell_type": "code",
   "execution_count": 86,
   "id": "88cfe00c-34f2-4a34-8135-f669a8c0f8b0",
   "metadata": {},
   "outputs": [
    {
     "data": {
      "text/plain": [
       "1274"
      ]
     },
     "execution_count": 86,
     "metadata": {},
     "output_type": "execute_result"
    }
   ],
   "source": [
    "ecf_list.index(ecf)"
   ]
  },
  {
   "cell_type": "code",
   "execution_count": 87,
   "id": "edf0a2b6-63b6-42d7-a536-cf1eb572a13b",
   "metadata": {},
   "outputs": [
    {
     "data": {
      "text/plain": [
       "9184"
      ]
     },
     "execution_count": 87,
     "metadata": {},
     "output_type": "execute_result"
    }
   ],
   "source": [
    "len(ecf_list)"
   ]
  },
  {
   "cell_type": "code",
   "execution_count": null,
   "id": "0fc260bd-bc0b-4bd8-9f42-b4b5e01f3863",
   "metadata": {},
   "outputs": [],
   "source": [
    "1187"
   ]
  }
 ],
 "metadata": {
  "kernelspec": {
   "display_name": "Python 3 (ipykernel)",
   "language": "python",
   "name": "python3"
  },
  "language_info": {
   "codemirror_mode": {
    "name": "ipython",
    "version": 3
   },
   "file_extension": ".py",
   "mimetype": "text/x-python",
   "name": "python",
   "nbconvert_exporter": "python",
   "pygments_lexer": "ipython3",
   "version": "3.11.9"
  }
 },
 "nbformat": 4,
 "nbformat_minor": 5
}
