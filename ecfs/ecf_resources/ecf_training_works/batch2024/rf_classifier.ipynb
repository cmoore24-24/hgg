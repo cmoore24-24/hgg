{
 "cells": [
  {
   "cell_type": "code",
   "execution_count": 1,
   "id": "f0cdbcf5-63d4-42a3-a989-d1a1c730fc2d",
   "metadata": {},
   "outputs": [],
   "source": [
    "import torch\n",
    "import torch.nn as nn\n",
    "import pandas as pd\n",
    "import numpy as np\n",
    "import os\n",
    "from sklearn.model_selection import train_test_split\n",
    "from sklearn.preprocessing import StandardScaler\n",
    "from sklearn.ensemble import RandomForestClassifier\n",
    "from sklearn.linear_model import Lasso\n",
    "from sklearn.feature_selection import SelectFromModel\n",
    "import matplotlib.pyplot as plt\n",
    "from tqdm import tqdm\n",
    "import pickle"
   ]
  },
  {
   "cell_type": "code",
   "execution_count": 2,
   "id": "fca37326-f821-440e-9aac-99f93ccb1710",
   "metadata": {},
   "outputs": [],
   "source": [
    "hgg = pd.read_parquet('/scratch365/cmoore24/training/hgg/batch/inputs/grm_ungrm/flat400_all_ratios.parquet')\n",
    "qcd = pd.read_parquet('/scratch365/cmoore24/training/hgg/batch/inputs/grm_ungrm/sculpted_qcd_all_ratios.parquet')"
   ]
  },
  {
   "cell_type": "code",
   "execution_count": 3,
   "id": "4b0d0619-4204-4cce-8136-4cdac094132b",
   "metadata": {},
   "outputs": [],
   "source": [
    "hgg['isSignal'] = 1\n",
    "qcd['isSignal'] = 0"
   ]
  },
  {
   "cell_type": "code",
   "execution_count": 4,
   "id": "aa61029d-5e7e-4d79-b882-9e3078c3bfd6",
   "metadata": {},
   "outputs": [],
   "source": [
    "qcd = pd.concat([hgg, qcd])"
   ]
  },
  {
   "cell_type": "code",
   "execution_count": 5,
   "id": "4516cbcd-cefc-4110-9f77-46285d70e4aa",
   "metadata": {},
   "outputs": [],
   "source": [
    "del(hgg)"
   ]
  },
  {
   "cell_type": "code",
   "execution_count": 6,
   "id": "0caaaa2d-1ba0-4f5a-894e-96f8634f4cf0",
   "metadata": {},
   "outputs": [],
   "source": [
    "feature_names = qcd.columns\n",
    "feature_names = feature_names[:-1]"
   ]
  },
  {
   "cell_type": "code",
   "execution_count": 7,
   "id": "3080102e-593b-4efb-8287-9737b891c13f",
   "metadata": {},
   "outputs": [],
   "source": [
    "X = qcd.drop(columns=['isSignal']).values"
   ]
  },
  {
   "cell_type": "code",
   "execution_count": 8,
   "id": "376953b0-35cc-4d35-8a26-a61b75234bc2",
   "metadata": {},
   "outputs": [],
   "source": [
    "y = qcd['isSignal'].values"
   ]
  },
  {
   "cell_type": "code",
   "execution_count": 9,
   "id": "cc6d059f-19c9-46be-9c25-9126870fd4b0",
   "metadata": {},
   "outputs": [],
   "source": [
    "del(qcd)"
   ]
  },
  {
   "cell_type": "code",
   "execution_count": 10,
   "id": "3bfb78dc-4a2e-41bb-bba8-9c18825a2c81",
   "metadata": {},
   "outputs": [
    {
     "data": {
      "text/html": [
       "<style>#sk-container-id-1 {color: black;background-color: white;}#sk-container-id-1 pre{padding: 0;}#sk-container-id-1 div.sk-toggleable {background-color: white;}#sk-container-id-1 label.sk-toggleable__label {cursor: pointer;display: block;width: 100%;margin-bottom: 0;padding: 0.3em;box-sizing: border-box;text-align: center;}#sk-container-id-1 label.sk-toggleable__label-arrow:before {content: \"▸\";float: left;margin-right: 0.25em;color: #696969;}#sk-container-id-1 label.sk-toggleable__label-arrow:hover:before {color: black;}#sk-container-id-1 div.sk-estimator:hover label.sk-toggleable__label-arrow:before {color: black;}#sk-container-id-1 div.sk-toggleable__content {max-height: 0;max-width: 0;overflow: hidden;text-align: left;background-color: #f0f8ff;}#sk-container-id-1 div.sk-toggleable__content pre {margin: 0.2em;color: black;border-radius: 0.25em;background-color: #f0f8ff;}#sk-container-id-1 input.sk-toggleable__control:checked~div.sk-toggleable__content {max-height: 200px;max-width: 100%;overflow: auto;}#sk-container-id-1 input.sk-toggleable__control:checked~label.sk-toggleable__label-arrow:before {content: \"▾\";}#sk-container-id-1 div.sk-estimator input.sk-toggleable__control:checked~label.sk-toggleable__label {background-color: #d4ebff;}#sk-container-id-1 div.sk-label input.sk-toggleable__control:checked~label.sk-toggleable__label {background-color: #d4ebff;}#sk-container-id-1 input.sk-hidden--visually {border: 0;clip: rect(1px 1px 1px 1px);clip: rect(1px, 1px, 1px, 1px);height: 1px;margin: -1px;overflow: hidden;padding: 0;position: absolute;width: 1px;}#sk-container-id-1 div.sk-estimator {font-family: monospace;background-color: #f0f8ff;border: 1px dotted black;border-radius: 0.25em;box-sizing: border-box;margin-bottom: 0.5em;}#sk-container-id-1 div.sk-estimator:hover {background-color: #d4ebff;}#sk-container-id-1 div.sk-parallel-item::after {content: \"\";width: 100%;border-bottom: 1px solid gray;flex-grow: 1;}#sk-container-id-1 div.sk-label:hover label.sk-toggleable__label {background-color: #d4ebff;}#sk-container-id-1 div.sk-serial::before {content: \"\";position: absolute;border-left: 1px solid gray;box-sizing: border-box;top: 0;bottom: 0;left: 50%;z-index: 0;}#sk-container-id-1 div.sk-serial {display: flex;flex-direction: column;align-items: center;background-color: white;padding-right: 0.2em;padding-left: 0.2em;position: relative;}#sk-container-id-1 div.sk-item {position: relative;z-index: 1;}#sk-container-id-1 div.sk-parallel {display: flex;align-items: stretch;justify-content: center;background-color: white;position: relative;}#sk-container-id-1 div.sk-item::before, #sk-container-id-1 div.sk-parallel-item::before {content: \"\";position: absolute;border-left: 1px solid gray;box-sizing: border-box;top: 0;bottom: 0;left: 50%;z-index: -1;}#sk-container-id-1 div.sk-parallel-item {display: flex;flex-direction: column;z-index: 1;position: relative;background-color: white;}#sk-container-id-1 div.sk-parallel-item:first-child::after {align-self: flex-end;width: 50%;}#sk-container-id-1 div.sk-parallel-item:last-child::after {align-self: flex-start;width: 50%;}#sk-container-id-1 div.sk-parallel-item:only-child::after {width: 0;}#sk-container-id-1 div.sk-dashed-wrapped {border: 1px dashed gray;margin: 0 0.4em 0.5em 0.4em;box-sizing: border-box;padding-bottom: 0.4em;background-color: white;}#sk-container-id-1 div.sk-label label {font-family: monospace;font-weight: bold;display: inline-block;line-height: 1.2em;}#sk-container-id-1 div.sk-label-container {text-align: center;}#sk-container-id-1 div.sk-container {/* jupyter's `normalize.less` sets `[hidden] { display: none; }` but bootstrap.min.css set `[hidden] { display: none !important; }` so we also need the `!important` here to be able to override the default hidden behavior on the sphinx rendered scikit-learn.org. See: https://github.com/scikit-learn/scikit-learn/issues/21755 */display: inline-block !important;position: relative;}#sk-container-id-1 div.sk-text-repr-fallback {display: none;}</style><div id=\"sk-container-id-1\" class=\"sk-top-container\"><div class=\"sk-text-repr-fallback\"><pre>RandomForestClassifier(n_estimators=500, n_jobs=-1)</pre><b>In a Jupyter environment, please rerun this cell to show the HTML representation or trust the notebook. <br />On GitHub, the HTML representation is unable to render, please try loading this page with nbviewer.org.</b></div><div class=\"sk-container\" hidden><div class=\"sk-item\"><div class=\"sk-estimator sk-toggleable\"><input class=\"sk-toggleable__control sk-hidden--visually\" id=\"sk-estimator-id-1\" type=\"checkbox\" checked><label for=\"sk-estimator-id-1\" class=\"sk-toggleable__label sk-toggleable__label-arrow\">RandomForestClassifier</label><div class=\"sk-toggleable__content\"><pre>RandomForestClassifier(n_estimators=500, n_jobs=-1)</pre></div></div></div></div></div>"
      ],
      "text/plain": [
       "RandomForestClassifier(n_estimators=500, n_jobs=-1)"
      ]
     },
     "execution_count": 10,
     "metadata": {},
     "output_type": "execute_result"
    }
   ],
   "source": [
    "rf = RandomForestClassifier(n_estimators=500, n_jobs=-1)\n",
    "rf.fit(X, y)"
   ]
  },
  {
   "cell_type": "code",
   "execution_count": 22,
   "id": "4af60381-d5fd-4a9e-a8a4-c56cfcd6eb55",
   "metadata": {},
   "outputs": [],
   "source": [
    "importances = rf.feature_importances_\n",
    "indices = np.argsort(importances)[::-1]\n",
    "top_n = 100\n",
    "X_reduced_rf = X[:, indices[:top_n]]"
   ]
  },
  {
   "cell_type": "code",
   "execution_count": 23,
   "id": "b507d364-b501-4c7e-8aa1-3b691124752d",
   "metadata": {},
   "outputs": [],
   "source": [
    "rf_selected_features = feature_names[indices[:top_n]].tolist()"
   ]
  },
  {
   "cell_type": "code",
   "execution_count": 24,
   "id": "b1f8b9c5-4573-4398-b419-b35daff2a371",
   "metadata": {},
   "outputs": [],
   "source": [
    "grm = 0\n",
    "ungrm = 0\n",
    "for i in rf_selected_features:\n",
    "    if 'Grm' in i:\n",
    "        grm += 1\n",
    "    elif 'Ungrm' in i:\n",
    "        ungrm += 1"
   ]
  },
  {
   "cell_type": "code",
   "execution_count": 25,
   "id": "902757c4-c830-42b3-864a-9698fed88b2f",
   "metadata": {},
   "outputs": [
    {
     "data": {
      "text/plain": [
       "(31, 69)"
      ]
     },
     "execution_count": 25,
     "metadata": {},
     "output_type": "execute_result"
    }
   ],
   "source": [
    "grm, ungrm"
   ]
  },
  {
   "cell_type": "code",
   "execution_count": 14,
   "id": "9e479c7f-5d6a-435e-b2d4-0edfaac43ac1",
   "metadata": {},
   "outputs": [],
   "source": [
    "with open('./inputs/grm_ungrm/rf_model.pkl', 'wb') as f:\n",
    "    pickle.dump(rf, f)"
   ]
  },
  {
   "cell_type": "code",
   "execution_count": null,
   "id": "2c14d6b7-cf1d-4076-9755-1821c49b518f",
   "metadata": {},
   "outputs": [],
   "source": []
  }
 ],
 "metadata": {
  "kernelspec": {
   "display_name": "Python 3 (ipykernel)",
   "language": "python",
   "name": "python3"
  },
  "language_info": {
   "codemirror_mode": {
    "name": "ipython",
    "version": 3
   },
   "file_extension": ".py",
   "mimetype": "text/x-python",
   "name": "python",
   "nbconvert_exporter": "python",
   "pygments_lexer": "ipython3",
   "version": "3.11.9"
  }
 },
 "nbformat": 4,
 "nbformat_minor": 5
}
