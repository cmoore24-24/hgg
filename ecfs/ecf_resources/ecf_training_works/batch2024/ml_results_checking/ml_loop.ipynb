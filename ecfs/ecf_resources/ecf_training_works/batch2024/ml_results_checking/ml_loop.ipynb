{
 "cells": [
  {
   "cell_type": "code",
   "execution_count": 1,
   "id": "7ed2ca7d-dda6-437e-9059-74fbd6b022ba",
   "metadata": {},
   "outputs": [],
   "source": [
    "import numpy as np\n",
    "import awkward as ak\n",
    "import hist\n",
    "import warnings\n",
    "import pickle\n",
    "from coffea.ml_tools.torch_wrapper import torch_wrapper\n",
    "import matplotlib.pyplot as plt\n",
    "import hist\n",
    "from sklearn.metrics import roc_curve, auc\n",
    "import math\n",
    "import os\n",
    "import uproot\n",
    "import json\n",
    "from tqdm import tqdm"
   ]
  },
  {
   "cell_type": "code",
   "execution_count": 2,
   "id": "a7e36941-fd96-4f6d-8aee-2ff55cb23d37",
   "metadata": {},
   "outputs": [],
   "source": [
    "warnings.filterwarnings('ignore', 'invalid value')\n",
    "warnings.filterwarnings('ignore', 'No format')"
   ]
  },
  {
   "cell_type": "code",
   "execution_count": 3,
   "id": "3125b599-d8c9-4dfe-8974-a474a6af1ab5",
   "metadata": {},
   "outputs": [],
   "source": [
    "hgg = ak.from_parquet('/scratch365/cmoore24/training/data/ecfs/nanless_hgg.parquet')\n",
    "qcd = ak.firsts(ak.from_parquet('/scratch365/cmoore24/training/data/ecfs/q476_ecfs.parquet'))"
   ]
  },
  {
   "cell_type": "code",
   "execution_count": 4,
   "id": "53468c7e-d385-46c3-9331-517642284495",
   "metadata": {},
   "outputs": [],
   "source": [
    "hgg = hgg[hgg.msoftdrop <= 170]\n",
    "hgg = hgg[hgg.msoftdrop >= 80]\n",
    "hgg = hgg[hgg.pt <= 600]\n",
    "hgg = hgg[hgg.pt >= 450]"
   ]
  },
  {
   "cell_type": "code",
   "execution_count": 5,
   "id": "31f8ff9d-65f6-4946-942c-f06960114920",
   "metadata": {},
   "outputs": [],
   "source": [
    "qcd = qcd[qcd.msoftdrop <= 170]\n",
    "qcd = qcd[qcd.msoftdrop >= 80]\n",
    "qcd = qcd[qcd.pt <= 600]\n",
    "qcd = qcd[qcd.pt >= 450]"
   ]
  },
  {
   "cell_type": "code",
   "execution_count": 6,
   "id": "14cbee71-ce61-4780-b87a-1e06a268e019",
   "metadata": {},
   "outputs": [],
   "source": [
    "def nan_remover(sample):\n",
    "    if type(sample) == dict:\n",
    "        for j in sample:\n",
    "            mask = ak.ones_like(sample[j][sample[j].fields[0]], dtype='bool')\n",
    "            mask = ak.fill_none(mask, True)\n",
    "            for k in sample[j].fields:\n",
    "                mask = mask & (~ak.is_none(ak.nan_to_none(sample[j][k])))\n",
    "            sample[j] = sample[j][mask]\n",
    "    else:\n",
    "        mask = ak.ones_like(sample[sample.fields[0]], dtype='bool')\n",
    "        mask = ak.fill_none(mask, True)\n",
    "        for j in sample.fields:\n",
    "            if sample[j].fields == []:\n",
    "                mask = mask & (~ak.is_none(ak.nan_to_none(sample[j])))\n",
    "            else:\n",
    "                for k in sample[j].fields:\n",
    "                    mask = mask & (~ak.is_none(ak.nan_to_none(sample[j][k])))\n",
    "        sample = sample[mask]\n",
    "    return sample"
   ]
  },
  {
   "cell_type": "code",
   "execution_count": 7,
   "id": "5fee4da6-c60a-4cf7-98aa-c8a03d254190",
   "metadata": {},
   "outputs": [],
   "source": [
    "hgg = nan_remover(hgg)\n",
    "qcd = nan_remover(qcd)"
   ]
  },
  {
   "cell_type": "code",
   "execution_count": 8,
   "id": "23e06a6b-3109-4d60-870b-6ca05060002f",
   "metadata": {},
   "outputs": [],
   "source": [
    "def add_ratio(ratio, dataframe):\n",
    "    dash = ratio.find('/')\n",
    "    asterisk = ratio.find('*')\n",
    "    numerator = ratio[:dash]\n",
    "    denominator = ratio[dash+1:asterisk]\n",
    "    exponent = float(ratio[asterisk+2:])\n",
    "    num_ecf = dataframe[numerator]\n",
    "    den_ecf = dataframe[denominator]\n",
    "    ecf_ratio = (num_ecf)/(den_ecf**exponent)\n",
    "    return ecf_ratio"
   ]
  },
  {
   "cell_type": "code",
   "execution_count": 9,
   "id": "d434b4ed-c9b6-468c-a5a3-6394ffe89769",
   "metadata": {},
   "outputs": [],
   "source": [
    "def imapper(array, ratio_list):\n",
    "    imap = {}\n",
    "    imap['vars'] = {}\n",
    "    for i in ratio_list:\n",
    "        try:\n",
    "            imap['vars'][i] = array.ratios[i]\n",
    "        except:\n",
    "            imap['vars'][i] = array[i]\n",
    "    return imap"
   ]
  },
  {
   "cell_type": "code",
   "execution_count": 10,
   "id": "3d6fa9a4-8ad9-4da9-af9e-a56cd0a86d4d",
   "metadata": {},
   "outputs": [],
   "source": [
    "class EnergyCorrelatorFunctionTagger(torch_wrapper):\n",
    "    def prepare_awkward(self, events, scaler, imap):\n",
    "        #fatjets = events\n",
    "\n",
    "        retmap = {\n",
    "            k: ak.concatenate([x[:, np.newaxis] for x in imap[k].values()], axis=1)\n",
    "            for k in imap.keys()\n",
    "        }\n",
    "        x = ak.values_astype(scaler.transform(retmap['vars']), \"float32\")\n",
    "        return (x,), {}"
   ]
  },
  {
   "cell_type": "code",
   "execution_count": 11,
   "id": "8bb00e1b-8cc0-4929-ada3-77f5b5bdf6cb",
   "metadata": {},
   "outputs": [],
   "source": [
    "def get_cut(data, target_percentile=0.20):\n",
    "    data = np.array(data)\n",
    "    cut_value = np.percentile(data, (1 - target_percentile) * 100)\n",
    "    return cut_value"
   ]
  },
  {
   "cell_type": "code",
   "execution_count": 12,
   "id": "ce573d7e-6a19-4a9b-8f89-ab4b5df3f15e",
   "metadata": {},
   "outputs": [],
   "source": [
    "ml_dirs = os.listdir('/scratch365/cmoore24/training/hgg/batch/outputs/')\n",
    "path = '/scratch365/cmoore24/training/hgg/batch/outputs'"
   ]
  },
  {
   "cell_type": "code",
   "execution_count": 13,
   "id": "d9bc72fb-3bf3-4e61-9f0e-d647f33f7c8d",
   "metadata": {},
   "outputs": [],
   "source": [
    "with open('/afs/crc.nd.edu/user/c/cmoore24/Public/hgg/ml/ml_processor_work/jsons/subregion_event_totals.json', 'r') as f:\n",
    "    totals = json.load(f)\n",
    "with open('/afs/crc.nd.edu/user/c/cmoore24/Public/hgg/ml/ml_processor_work/jsons/my_xsecs.json', 'r') as f:\n",
    "    xsecs = json.load(f)"
   ]
  },
  {
   "cell_type": "code",
   "execution_count": 14,
   "id": "3094c558-8c41-4272-8ef5-474bc972be5a",
   "metadata": {},
   "outputs": [],
   "source": [
    "with open('model_results.json', 'w') as f:\n",
    "    json.dump({}, f)"
   ]
  },
  {
   "cell_type": "code",
   "execution_count": 15,
   "id": "0873ec4e-b824-4243-88ab-cd524c246a9c",
   "metadata": {},
   "outputs": [
    {
     "name": "stderr",
     "output_type": "stream",
     "text": [
      "100%|███████████████████████████████████████| 648/648 [7:11:00<00:00, 39.91s/it]\n"
     ]
    }
   ],
   "source": [
    "for i in tqdm(ml_dirs):\n",
    "\n",
    "    ## Read in the list of ECFs used in this training\n",
    "    with open(f'{path}/{i}/selected_ecfs.txt', 'r') as f:\n",
    "        ecf_list = f.readlines()\n",
    "    ecf_list = [item.strip() for item in ecf_list]\n",
    "    \n",
    "    ## Calculate the actual ratios and add them to an appropriate dictionary\n",
    "    hgg_ratios = {}\n",
    "    for j in ecf_list:\n",
    "        hgg_ratios[j] = add_ratio(j, hgg.ECFs)    \n",
    "\n",
    "    qcd_ratios = {}\n",
    "    for j in ecf_list:\n",
    "        qcd_ratios[j] = add_ratio(j, qcd.ECFs)\n",
    "\n",
    "    ## Read in the model specific files\n",
    "    model = f'{path}/{i}/traced_model.pt'\n",
    "    scaler = f'{path}/{i}/scaler.pkl'\n",
    "    with open(scaler, 'rb') as f:\n",
    "        scaler = pickle.load(f)\n",
    "\n",
    "    ## Start building the model\n",
    "    tagger = EnergyCorrelatorFunctionTagger(model)\n",
    "\n",
    "    hgg_imap = imapper(hgg_ratios, ecf_list)\n",
    "    hgg_scores = tagger(hgg, scaler, hgg_imap)[:,0]\n",
    "\n",
    "    qcd_imap = imapper(qcd_ratios, ecf_list)\n",
    "    qcd_scores = tagger(qcd, scaler, qcd_imap)[:,0]\n",
    "\n",
    "    ## Remove NaNs \n",
    "    mask = ~np.isnan(qcd_scores)\n",
    "    qcd_scores = qcd_scores[mask]\n",
    "    qcd_train = qcd[mask]\n",
    "\n",
    "    mask = ~np.isnan(hgg_scores)\n",
    "    hgg_scores = hgg_scores[mask]\n",
    "    hgg_train = hgg[mask]\n",
    "\n",
    "    ## Calculate ROC AUC\n",
    "    bkg_zeros = ak.zeros_like(qcd_scores)\n",
    "    sig_ones = ak.ones_like(hgg_scores)\n",
    "    combined = ak.concatenate([qcd_scores,hgg_scores])\n",
    "    combined_truth = ak.concatenate([bkg_zeros, sig_ones])\n",
    "\n",
    "    try:\n",
    "        fpr, tpr, thresholds = roc_curve(combined_truth, combined)\n",
    "        roc_auc = auc(fpr, tpr)\n",
    "    except:\n",
    "        with open('model_results.json', 'r') as f:\n",
    "            results = json.load(f)\n",
    "    \n",
    "        results[ecf] = {'roc_auc': None, 'sculpt_metric': None}\n",
    "    \n",
    "        with open('model_results.json', 'w') as f:\n",
    "            json.dump(results, f)\n",
    "        continue\n",
    "\n",
    "\n",
    "    ## Build Hists for sculpting metrics\n",
    "    cut = get_cut(qcd_scores)\n",
    "\n",
    "    mask = ~((qcd_scores >= cut))\n",
    "    qcd_cut_msd = qcd_train.msoftdrop[mask]\n",
    "    qcd_fail_hist = hist.Hist.new.Reg(40, 80, 170, name='msd', label='QCD MSD').Weight()\n",
    "    qcd_fail_hist.fill(msd=qcd_cut_msd);\n",
    "\n",
    "    mask = ((qcd_scores >= cut))\n",
    "    qcd_cut_msd = qcd_train.msoftdrop[mask]\n",
    "    qcd_pass_hist = hist.Hist.new.Reg(40, 80, 170, name='msd', label='QCD MSD').Weight()\n",
    "    qcd_pass_hist.fill(msd=qcd_cut_msd);\n",
    "\n",
    "    scale = ((44.99*(xsecs['qcd']['qcd_470to600']*1000))/totals['qcd']['470to600'])\n",
    "    qcd_pass_hist.view(flow=True)[:] *= scale\n",
    "    qcd_fail_hist.view(flow=True)[:] *= scale\n",
    "\n",
    "    total_qcd_hist = qcd_pass_hist + qcd_fail_hist\n",
    "\n",
    "    sculpt_metric = sum(abs(total_qcd_hist.density() - qcd_pass_hist.density()))\n",
    "\n",
    "    with open('model_results.json', 'r') as f:\n",
    "        results = json.load(f)\n",
    "\n",
    "    results[i] = {'roc_auc': roc_auc, 'sculpt_metric': sculpt_metric}\n",
    "\n",
    "    with open('model_results.json', 'w') as f:\n",
    "        json.dump(results, f)"
   ]
  },
  {
   "cell_type": "code",
   "execution_count": null,
   "id": "991f35ff-4117-40f6-b164-02ea254381e7",
   "metadata": {},
   "outputs": [],
   "source": []
  },
  {
   "cell_type": "code",
   "execution_count": null,
   "id": "2e7c3a77-bb74-4415-9e13-e51af020530a",
   "metadata": {},
   "outputs": [],
   "source": []
  },
  {
   "cell_type": "code",
   "execution_count": null,
   "id": "21fd9be3-6180-4df5-9f7d-63351de72aab",
   "metadata": {},
   "outputs": [],
   "source": []
  }
 ],
 "metadata": {
  "kernelspec": {
   "display_name": "Python 3 (ipykernel)",
   "language": "python",
   "name": "python3"
  },
  "language_info": {
   "codemirror_mode": {
    "name": "ipython",
    "version": 3
   },
   "file_extension": ".py",
   "mimetype": "text/x-python",
   "name": "python",
   "nbconvert_exporter": "python",
   "pygments_lexer": "ipython3",
   "version": "3.11.9"
  }
 },
 "nbformat": 4,
 "nbformat_minor": 5
}
