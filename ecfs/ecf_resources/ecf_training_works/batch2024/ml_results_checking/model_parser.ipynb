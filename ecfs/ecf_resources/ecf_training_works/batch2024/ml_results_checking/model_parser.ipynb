{
 "cells": [
  {
   "cell_type": "code",
   "execution_count": 73,
   "id": "58ad504a-fdea-420a-a0db-6f6c55ead3c7",
   "metadata": {},
   "outputs": [],
   "source": [
    "import awkward as ak\n",
    "import json\n",
    "import pandas as pd\n",
    "import numpy as np\n",
    "import pickle\n",
    "import re"
   ]
  },
  {
   "cell_type": "code",
   "execution_count": 74,
   "id": "e59bbdde-353d-479c-bfb0-6deee6bd08a2",
   "metadata": {},
   "outputs": [],
   "source": [
    "with open('model_results.json', 'rb') as f:\n",
    "    models = json.load(f)"
   ]
  },
  {
   "cell_type": "code",
   "execution_count": 75,
   "id": "6831e1b8-47f1-4d0c-9346-c0be758b104c",
   "metadata": {},
   "outputs": [],
   "source": [
    "models = pd.DataFrame(models)"
   ]
  },
  {
   "cell_type": "code",
   "execution_count": 71,
   "id": "91bc24b9-33da-4558-a4e8-f746e9c62f1a",
   "metadata": {},
   "outputs": [],
   "source": [
    "models = models.loc[:, models.columns[(models.loc['roc_auc'] >= 0.73855)]]"
   ]
  },
  {
   "cell_type": "code",
   "execution_count": 72,
   "id": "6f6e1da0-6ccf-4d0c-b509-c3af9bd6f5e4",
   "metadata": {},
   "outputs": [
    {
     "data": {
      "text/html": [
       "<div>\n",
       "<style scoped>\n",
       "    .dataframe tbody tr th:only-of-type {\n",
       "        vertical-align: middle;\n",
       "    }\n",
       "\n",
       "    .dataframe tbody tr th {\n",
       "        vertical-align: top;\n",
       "    }\n",
       "\n",
       "    .dataframe thead th {\n",
       "        text-align: right;\n",
       "    }\n",
       "</style>\n",
       "<table border=\"1\" class=\"dataframe\">\n",
       "  <thead>\n",
       "    <tr style=\"text-align: right;\">\n",
       "      <th></th>\n",
       "      <th>256nodes_3layers_120ecfs_64batch_0msoftdrop</th>\n",
       "      <th>256nodes_2layers_120ecfs_64batch_0msoftdrop</th>\n",
       "      <th>256nodes_3layers_120ecfs_32batch_0msoftdrop</th>\n",
       "    </tr>\n",
       "  </thead>\n",
       "  <tbody>\n",
       "    <tr>\n",
       "      <th>roc_auc</th>\n",
       "      <td>0.738605</td>\n",
       "      <td>0.738568</td>\n",
       "      <td>0.738673</td>\n",
       "    </tr>\n",
       "    <tr>\n",
       "      <th>sculpt_metric</th>\n",
       "      <td>0.103278</td>\n",
       "      <td>0.104117</td>\n",
       "      <td>0.103172</td>\n",
       "    </tr>\n",
       "  </tbody>\n",
       "</table>\n",
       "</div>"
      ],
      "text/plain": [
       "               256nodes_3layers_120ecfs_64batch_0msoftdrop  \\\n",
       "roc_auc                                           0.738605   \n",
       "sculpt_metric                                     0.103278   \n",
       "\n",
       "               256nodes_2layers_120ecfs_64batch_0msoftdrop  \\\n",
       "roc_auc                                           0.738568   \n",
       "sculpt_metric                                     0.104117   \n",
       "\n",
       "               256nodes_3layers_120ecfs_32batch_0msoftdrop  \n",
       "roc_auc                                           0.738673  \n",
       "sculpt_metric                                     0.103172  "
      ]
     },
     "execution_count": 72,
     "metadata": {},
     "output_type": "execute_result"
    }
   ],
   "source": [
    "models"
   ]
  },
  {
   "cell_type": "code",
   "execution_count": 78,
   "id": "eea0ab64-7bc7-48e7-a4cc-456df05073b9",
   "metadata": {},
   "outputs": [],
   "source": [
    "models = models.loc[:, models.columns[(models.loc['sculpt_metric'] <= 0.067)]]"
   ]
  },
  {
   "cell_type": "code",
   "execution_count": 79,
   "id": "0a342663-f472-4e73-bb86-a29177d3299f",
   "metadata": {},
   "outputs": [
    {
     "data": {
      "text/html": [
       "<div>\n",
       "<style scoped>\n",
       "    .dataframe tbody tr th:only-of-type {\n",
       "        vertical-align: middle;\n",
       "    }\n",
       "\n",
       "    .dataframe tbody tr th {\n",
       "        vertical-align: top;\n",
       "    }\n",
       "\n",
       "    .dataframe thead th {\n",
       "        text-align: right;\n",
       "    }\n",
       "</style>\n",
       "<table border=\"1\" class=\"dataframe\">\n",
       "  <thead>\n",
       "    <tr style=\"text-align: right;\">\n",
       "      <th></th>\n",
       "      <th>256nodes_3layers_100ecfs_64batch_2msoftdrop</th>\n",
       "      <th>256nodes_3layers_100ecfs_32batch_2msoftdrop</th>\n",
       "      <th>256nodes_4layers_100ecfs_32batch_2msoftdrop</th>\n",
       "    </tr>\n",
       "  </thead>\n",
       "  <tbody>\n",
       "    <tr>\n",
       "      <th>roc_auc</th>\n",
       "      <td>0.730890</td>\n",
       "      <td>0.731087</td>\n",
       "      <td>0.730705</td>\n",
       "    </tr>\n",
       "    <tr>\n",
       "      <th>sculpt_metric</th>\n",
       "      <td>0.064901</td>\n",
       "      <td>0.066819</td>\n",
       "      <td>0.064572</td>\n",
       "    </tr>\n",
       "  </tbody>\n",
       "</table>\n",
       "</div>"
      ],
      "text/plain": [
       "               256nodes_3layers_100ecfs_64batch_2msoftdrop  \\\n",
       "roc_auc                                           0.730890   \n",
       "sculpt_metric                                     0.064901   \n",
       "\n",
       "               256nodes_3layers_100ecfs_32batch_2msoftdrop  \\\n",
       "roc_auc                                           0.731087   \n",
       "sculpt_metric                                     0.066819   \n",
       "\n",
       "               256nodes_4layers_100ecfs_32batch_2msoftdrop  \n",
       "roc_auc                                           0.730705  \n",
       "sculpt_metric                                     0.064572  "
      ]
     },
     "execution_count": 79,
     "metadata": {},
     "output_type": "execute_result"
    }
   ],
   "source": [
    "models"
   ]
  },
  {
   "cell_type": "code",
   "execution_count": null,
   "id": "8d2b91bc-8642-42c0-b88f-80b8b466ac93",
   "metadata": {},
   "outputs": [],
   "source": []
  }
 ],
 "metadata": {
  "kernelspec": {
   "display_name": "Python 3 (ipykernel)",
   "language": "python",
   "name": "python3"
  },
  "language_info": {
   "codemirror_mode": {
    "name": "ipython",
    "version": 3
   },
   "file_extension": ".py",
   "mimetype": "text/x-python",
   "name": "python",
   "nbconvert_exporter": "python",
   "pygments_lexer": "ipython3",
   "version": "3.11.9"
  }
 },
 "nbformat": 4,
 "nbformat_minor": 5
}
