{
 "cells": [
  {
   "cell_type": "code",
   "execution_count": 1,
   "id": "155470fb-8afc-4c03-85d8-03c2d08359e8",
   "metadata": {},
   "outputs": [],
   "source": [
    "import awkward as ak"
   ]
  },
  {
   "cell_type": "code",
   "execution_count": 2,
   "id": "ccbddfa1-620b-450d-a16a-8ca8c60afd03",
   "metadata": {},
   "outputs": [],
   "source": [
    "a = ak.from_parquet('nanless_flat400.parquet')"
   ]
  },
  {
   "cell_type": "code",
   "execution_count": 3,
   "id": "f6d8fd73-8973-4a99-9e1f-c0bdac2b23f7",
   "metadata": {},
   "outputs": [],
   "source": [
    "temp = {}\n",
    "# for i in a.groomed_ecf_ratios.fields:\n",
    "#     temp[f'{i}_Grm'] = a.groomed_ecf_ratios[i]\n",
    "for i in  a.ungroomed_ecf_ratios.fields:\n",
    "    temp[f'{i}_Ungrm'] = a.ungroomed_ecf_ratios[i]\n",
    "# temp['color_ring'] = a.goodjets.color_ring"
   ]
  },
  {
   "cell_type": "code",
   "execution_count": 4,
   "id": "e957f50a-a5ec-4d2c-9e60-a6256c68dc09",
   "metadata": {},
   "outputs": [],
   "source": [
    "# temp = {}\n",
    "# # for i in a.fields:\n",
    "#     # if 'Grm' in i:\n",
    "#     #     temp[f'{i}'] = a[i]\n",
    "# for i in  a.fields:\n",
    "#     if 'Ungrm' in i:\n",
    "#         temp[f'{i}'] = a[i]"
   ]
  },
  {
   "cell_type": "code",
   "execution_count": 5,
   "id": "deae3e78-bd94-4b92-8e29-e522b4b7e7a5",
   "metadata": {},
   "outputs": [],
   "source": [
    "all_ratios = ak.zip(temp)"
   ]
  },
  {
   "cell_type": "code",
   "execution_count": null,
   "id": "d88e99b7-e0c0-4f2a-a7c1-c28e95185d92",
   "metadata": {},
   "outputs": [],
   "source": [
    "ak.to_parquet(all_ratios, 'flat400_all_ratios.parquet')"
   ]
  },
  {
   "cell_type": "code",
   "execution_count": 26,
   "id": "d99d577a-5684-42c3-93eb-50d7a7a843d0",
   "metadata": {},
   "outputs": [
    {
     "data": {
      "text/plain": [
       "['4e5^2.5/8e5^0.5**2.5_Grm',\n",
       " '4e5^1.5/7e5^0.5**1.7142857142857142_Grm',\n",
       " '4e5^2.0/8e5^0.5**2.0_Grm',\n",
       " '5e5^2.0/9e5^0.5**2.2222222222222223_Grm',\n",
       " '5e5^2.5/9e5^0.5**2.7777777777777777_Grm',\n",
       " '2e4^3.0/5e4^0.5**2.4_Grm',\n",
       " '4e5^2.0/7e5^0.5**2.2857142857142856_Grm',\n",
       " '4e5^2.5/9e5^0.5**2.2222222222222223_Grm',\n",
       " '3e5^2.0/4e4^0.5**3.0_Grm',\n",
       " '3e5^2.0/6e5^0.5**2.0_Grm']"
      ]
     },
     "execution_count": 26,
     "metadata": {},
     "output_type": "execute_result"
    }
   ],
   "source": [
    "all_ratios.fields[:10]"
   ]
  },
  {
   "cell_type": "code",
   "execution_count": 2,
   "id": "36bef0f0-e46e-4cfb-a5ee-8f737e8209f2",
   "metadata": {},
   "outputs": [],
   "source": [
    "a = ak.from_parquet('stitched_qcd_all_ratios.parquet')"
   ]
  },
  {
   "cell_type": "code",
   "execution_count": 3,
   "id": "f5beae87-4aed-4b2f-b0ee-66cbff725588",
   "metadata": {},
   "outputs": [
    {
     "data": {
      "text/plain": [
       "['4e5^2.5/8e5^0.5**2.5_Grm',\n",
       " '4e5^1.5/7e5^0.5**1.7142857142857142_Grm',\n",
       " '4e5^2.0/8e5^0.5**2.0_Grm',\n",
       " '5e5^2.0/9e5^0.5**2.2222222222222223_Grm',\n",
       " '5e5^2.5/9e5^0.5**2.7777777777777777_Grm',\n",
       " '2e4^3.0/5e4^0.5**2.4_Grm',\n",
       " '4e5^2.0/7e5^0.5**2.2857142857142856_Grm',\n",
       " '4e5^2.5/9e5^0.5**2.2222222222222223_Grm',\n",
       " '3e5^2.0/4e4^0.5**3.0_Grm',\n",
       " '3e5^2.0/6e5^0.5**2.0_Grm']"
      ]
     },
     "execution_count": 3,
     "metadata": {},
     "output_type": "execute_result"
    }
   ],
   "source": [
    "a.fields[:10]"
   ]
  },
  {
   "cell_type": "code",
   "execution_count": null,
   "id": "4ad79918-e764-47bc-8138-0f5bad05b253",
   "metadata": {},
   "outputs": [],
   "source": []
  }
 ],
 "metadata": {
  "kernelspec": {
   "display_name": "Python 3 (ipykernel)",
   "language": "python",
   "name": "python3"
  },
  "language_info": {
   "codemirror_mode": {
    "name": "ipython",
    "version": 3
   },
   "file_extension": ".py",
   "mimetype": "text/x-python",
   "name": "python",
   "nbconvert_exporter": "python",
   "pygments_lexer": "ipython3",
   "version": "3.11.9"
  }
 },
 "nbformat": 4,
 "nbformat_minor": 5
}
