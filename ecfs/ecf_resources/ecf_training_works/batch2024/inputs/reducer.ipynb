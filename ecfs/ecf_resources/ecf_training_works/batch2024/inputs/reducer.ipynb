{
 "cells": [
  {
   "cell_type": "code",
   "execution_count": 1,
   "id": "1e89de74",
   "metadata": {},
   "outputs": [],
   "source": [
    "import numpy as np \n",
    "import awkward as ak \n",
    "import os\n",
    "import numpy as np\n",
    "import matplotlib.pyplot as plt"
   ]
  },
  {
   "cell_type": "code",
   "execution_count": 2,
   "id": "fe249b16",
   "metadata": {},
   "outputs": [],
   "source": [
    "qcd = ak.firsts(ak.from_parquet('flat400.parquet'))"
   ]
  },
  {
   "cell_type": "code",
   "execution_count": 3,
   "id": "60d90fb9-fde8-45f7-a7ed-6aae9693fc33",
   "metadata": {},
   "outputs": [],
   "source": [
    "qcd = qcd[(qcd.goodjets.msoftdrop >= 80) & (qcd.goodjets.msoftdrop <= 170) & (qcd.goodjets.btag_count == 0)]"
   ]
  },
  {
   "cell_type": "code",
   "execution_count": 4,
   "id": "1ee572e1",
   "metadata": {},
   "outputs": [],
   "source": [
    "def nan_remover(sample):\n",
    "    if type(sample) == dict:\n",
    "        for j in sample:\n",
    "            mask = ak.ones_like(sample[j][sample[j].fields[0]], dtype='bool')\n",
    "            mask = ak.fill_none(mask, True)\n",
    "            for k in sample[j].fields:\n",
    "                mask = mask & (~ak.is_none(ak.nan_to_none(sample[j][k])))\n",
    "            sample[j] = sample[j][mask]\n",
    "    else:\n",
    "        mask = ak.ones_like(sample[sample.fields[0]], dtype='bool')\n",
    "        mask = ak.fill_none(mask, True)\n",
    "        for j in sample.fields:\n",
    "            if sample[j].fields == []:\n",
    "                mask = mask & (~ak.is_none(ak.nan_to_none(sample[j])))\n",
    "            else:\n",
    "                for k in sample[j].fields:\n",
    "                    mask = mask & (~ak.is_none(ak.nan_to_none(sample[j][k])))\n",
    "        sample = sample[mask]\n",
    "    return mask"
   ]
  },
  {
   "cell_type": "code",
   "execution_count": 5,
   "id": "2995be0b-5ff3-4345-8dd1-90506f05a7cf",
   "metadata": {},
   "outputs": [
    {
     "data": {
      "text/plain": [
       "802234"
      ]
     },
     "execution_count": 5,
     "metadata": {},
     "output_type": "execute_result"
    }
   ],
   "source": [
    "len(qcd)"
   ]
  },
  {
   "cell_type": "code",
   "execution_count": 6,
   "id": "763d48be",
   "metadata": {},
   "outputs": [],
   "source": [
    "mask = nan_remover(qcd.groomed_ecf_ratios) & nan_remover(qcd.ungroomed_ecf_ratios) & nan_remover(qcd.goodjets)"
   ]
  },
  {
   "cell_type": "code",
   "execution_count": 7,
   "id": "716bc722-b712-484e-8bf8-eea7d98b9283",
   "metadata": {},
   "outputs": [
    {
     "data": {
      "text/plain": [
       "795006"
      ]
     },
     "execution_count": 7,
     "metadata": {},
     "output_type": "execute_result"
    }
   ],
   "source": [
    "len(qcd[mask])"
   ]
  },
  {
   "cell_type": "code",
   "execution_count": 8,
   "id": "a692fd13-ad7d-49f6-bea5-4c9ae302cd1f",
   "metadata": {},
   "outputs": [],
   "source": [
    "sub = qcd[mask]"
   ]
  },
  {
   "cell_type": "code",
   "execution_count": 9,
   "id": "1cc49f26",
   "metadata": {},
   "outputs": [],
   "source": [
    "a = np.zeros((len(qcd),), dtype='bool')\n",
    "a[::1] = True\n",
    "arr = qcd[a]"
   ]
  },
  {
   "cell_type": "code",
   "execution_count": 10,
   "id": "0f245d63",
   "metadata": {},
   "outputs": [
    {
     "data": {
      "text/plain": [
       "(802234, 802234, 795006)"
      ]
     },
     "execution_count": 10,
     "metadata": {},
     "output_type": "execute_result"
    }
   ],
   "source": [
    "len(qcd), len(arr), len(sub)"
   ]
  },
  {
   "cell_type": "code",
   "execution_count": 11,
   "id": "dcf353ed",
   "metadata": {},
   "outputs": [
    {
     "data": {
      "text/plain": [
       "<pyarrow._parquet.FileMetaData object at 0x7f8147b54950>\n",
       "  created_by: parquet-cpp-arrow version 17.0.0\n",
       "  num_columns: 339\n",
       "  num_rows: 795006\n",
       "  num_row_groups: 1\n",
       "  format_version: 2.6\n",
       "  serialized_size: 0"
      ]
     },
     "execution_count": 11,
     "metadata": {},
     "output_type": "execute_result"
    }
   ],
   "source": [
    "ak.to_parquet(sub, 'nanless_flat400.parquet')"
   ]
  },
  {
   "cell_type": "code",
   "execution_count": 2,
   "id": "47310a67",
   "metadata": {},
   "outputs": [],
   "source": [
    "hgg = ak.from_parquet('powheg400_full_sample.parquet')"
   ]
  },
  {
   "cell_type": "code",
   "execution_count": 3,
   "id": "efe01f5f-5a43-4126-8d90-e0abcbce71ca",
   "metadata": {},
   "outputs": [],
   "source": [
    "hgg = ak.firsts(hgg)"
   ]
  },
  {
   "cell_type": "code",
   "execution_count": 4,
   "id": "5a00005d",
   "metadata": {},
   "outputs": [
    {
     "data": {
      "text/plain": [
       "1102488"
      ]
     },
     "execution_count": 4,
     "metadata": {},
     "output_type": "execute_result"
    }
   ],
   "source": [
    "len(hgg)"
   ]
  },
  {
   "cell_type": "code",
   "execution_count": 5,
   "id": "417a567e-77fc-43a7-b3ea-8d8877704ae3",
   "metadata": {},
   "outputs": [],
   "source": [
    "hgg = hgg[(hgg.msoftdrop >= 80) & (hgg.msoftdrop <= 170)]"
   ]
  },
  {
   "cell_type": "code",
   "execution_count": 6,
   "id": "4fe3387c",
   "metadata": {},
   "outputs": [
    {
     "data": {
      "text/plain": [
       "797599"
      ]
     },
     "execution_count": 6,
     "metadata": {},
     "output_type": "execute_result"
    }
   ],
   "source": [
    "len(hgg)"
   ]
  },
  {
   "cell_type": "code",
   "execution_count": 10,
   "id": "1e03f278-4f41-4a3c-807f-f5cfaa3dc14b",
   "metadata": {},
   "outputs": [],
   "source": [
    "hgg = nan_remover(hgg)"
   ]
  },
  {
   "cell_type": "code",
   "execution_count": 11,
   "id": "96e7f090-8166-43b6-9b73-7c8b2c0a850e",
   "metadata": {},
   "outputs": [
    {
     "data": {
      "text/plain": [
       "790840"
      ]
     },
     "execution_count": 11,
     "metadata": {},
     "output_type": "execute_result"
    }
   ],
   "source": [
    "len(hgg)"
   ]
  },
  {
   "cell_type": "code",
   "execution_count": 12,
   "id": "a09ff587",
   "metadata": {},
   "outputs": [
    {
     "data": {
      "text/plain": [
       "<pyarrow._parquet.FileMetaData object at 0x7fd809907e70>\n",
       "  created_by: parquet-cpp-arrow version 17.0.0\n",
       "  num_columns: 165\n",
       "  num_rows: 790840\n",
       "  num_row_groups: 1\n",
       "  format_version: 2.6\n",
       "  serialized_size: 0"
      ]
     },
     "execution_count": 12,
     "metadata": {},
     "output_type": "execute_result"
    }
   ],
   "source": [
    "ak.to_parquet(hgg, 'nanless_hgg_full_sample.parquet')"
   ]
  },
  {
   "cell_type": "code",
   "execution_count": null,
   "id": "f88a5039",
   "metadata": {},
   "outputs": [],
   "source": []
  }
 ],
 "metadata": {
  "kernelspec": {
   "display_name": "Python 3 (ipykernel)",
   "language": "python",
   "name": "python3"
  },
  "language_info": {
   "codemirror_mode": {
    "name": "ipython",
    "version": 3
   },
   "file_extension": ".py",
   "mimetype": "text/x-python",
   "name": "python",
   "nbconvert_exporter": "python",
   "pygments_lexer": "ipython3",
   "version": "3.11.9"
  }
 },
 "nbformat": 4,
 "nbformat_minor": 5
}
