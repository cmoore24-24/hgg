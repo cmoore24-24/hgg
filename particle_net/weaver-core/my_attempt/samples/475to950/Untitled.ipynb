{
 "cells": [
  {
   "cell_type": "code",
   "execution_count": 1,
   "id": "20f22e6c-239f-4f12-afa2-0e0a782737da",
   "metadata": {},
   "outputs": [],
   "source": [
    "import numpy as np\n",
    "import awkward as ak\n",
    "import hist\n",
    "import warnings\n",
    "import pickle\n",
    "import matplotlib.pyplot as plt\n",
    "import math\n",
    "import os\n",
    "import uproot\n",
    "import json\n",
    "import gc"
   ]
  },
  {
   "cell_type": "code",
   "execution_count": 2,
   "id": "a006ee5a-296f-4b4f-95fd-38d38f4c0506",
   "metadata": {},
   "outputs": [],
   "source": [
    "columns = ['pnet_vals', 'goodjets']"
   ]
  },
  {
   "cell_type": "code",
   "execution_count": 3,
   "id": "450b3179-0bb5-4992-aa68-b1f0fefd4cd6",
   "metadata": {},
   "outputs": [],
   "source": [
    "#path = '/project01/ndcms/cmoore24/skims/full_skims/nolepton/mc/'"
   ]
  },
  {
   "cell_type": "code",
   "execution_count": 4,
   "id": "931346ad-f635-45e2-a582-eb14b38e6761",
   "metadata": {},
   "outputs": [],
   "source": [
    "qcd = ak.from_parquet(f'./qcd/*')\n",
    "hgg = ak.from_parquet(f'./hgg/hgg/*')\n",
    "arr = ak.concatenate([hgg, qcd])"
   ]
  },
  {
   "cell_type": "code",
   "execution_count": 5,
   "id": "ac057b05-1928-464a-bce7-8808da8bd686",
   "metadata": {},
   "outputs": [],
   "source": [
    "# arr = ak.from_parquet(f'{path}/hgg/*')"
   ]
  },
  {
   "cell_type": "code",
   "execution_count": 4,
   "id": "f1a84ca9-1cd9-4d5b-b378-818050c2547d",
   "metadata": {},
   "outputs": [],
   "source": [
    "# arr = ak.from_parquet('qcd/*')"
   ]
  },
  {
   "cell_type": "code",
   "execution_count": 6,
   "id": "f3be5278-c291-4dac-af17-5f754cd20396",
   "metadata": {},
   "outputs": [],
   "source": [
    "# flat_arr = {}\n",
    "# for i in os.listdir(f'{path}/flat400'):\n",
    "#     flat_arr[i] = ak.from_parquet(f'{path}/flat400/{i}/*', columns=columns)\n",
    "# arr = ak.concatenate([flat_arr[x] for x in flat_arr])"
   ]
  },
  {
   "cell_type": "code",
   "execution_count": 7,
   "id": "7e4f3135-8f79-454d-843a-ddc8799a1b86",
   "metadata": {},
   "outputs": [],
   "source": [
    "arr = arr[arr.goodjets.msoftdrop <= 170]\n",
    "arr = arr[arr.goodjets.msoftdrop >= 80]\n",
    "arr = arr[arr.goodjets.pt <= 950]\n",
    "arr = arr[arr.goodjets.pt >= 475]\n",
    "arr = arr[arr.goodjets.btag_count == 0]\n",
    "arr = arr[arr.goodjets.trigger_mask]"
   ]
  },
  {
   "cell_type": "code",
   "execution_count": 6,
   "id": "1b4bcd49-986e-4cb2-bfa4-4e1e43637b93",
   "metadata": {},
   "outputs": [],
   "source": [
    "size = math.floor(len(arr)/6)"
   ]
  },
  {
   "cell_type": "code",
   "execution_count": 7,
   "id": "e8594888-9814-4479-bbd6-f901f2572598",
   "metadata": {},
   "outputs": [],
   "source": [
    "i1 = size\n",
    "i2 = size * 2\n",
    "i3 = size * 3\n",
    "i4 = size * 4\n",
    "i5 = size * 5\n",
    "i6 = size * 6"
   ]
  },
  {
   "cell_type": "code",
   "execution_count": 8,
   "id": "c28c3ea0-ac98-4ad8-ae3c-ddb1d47b8be7",
   "metadata": {},
   "outputs": [],
   "source": [
    "shuffle = np.random.permutation(len(arr))\n",
    "arr = arr[shuffle]"
   ]
  },
  {
   "cell_type": "code",
   "execution_count": 9,
   "id": "c9692dc5-76da-4d11-93c0-a2aa639a3811",
   "metadata": {},
   "outputs": [],
   "source": [
    "shuffled = {}\n",
    "shuffled['one'] = arr[:i1]\n",
    "shuffled['two'] = arr[i1:i2]\n",
    "shuffled['three'] = arr[i2:i3]\n",
    "shuffled['four'] = arr[i3:i4]\n",
    "shuffled['five'] = arr[i4:i5]\n",
    "shuffled['six'] = arr[i5:]"
   ]
  },
  {
   "cell_type": "code",
   "execution_count": 10,
   "id": "c0eaae3c-0763-4b38-a70d-9d7bebc78b12",
   "metadata": {},
   "outputs": [
    {
     "data": {
      "text/plain": [
       "{'one': <Array [{pfcand_eta: [...], ...}, ..., {...}] type='167125 * ?{pfcand_eta: ...'>,\n",
       " 'two': <Array [{pfcand_eta: [...], ...}, ..., {...}] type='167125 * ?{pfcand_eta: ...'>,\n",
       " 'three': <Array [{pfcand_eta: [...], ...}, ..., {...}] type='167125 * ?{pfcand_eta: ...'>,\n",
       " 'four': <Array [{pfcand_eta: [...], ...}, ..., {...}] type='167125 * ?{pfcand_eta: ...'>,\n",
       " 'five': <Array [{pfcand_eta: [...], ...}, ..., {...}] type='167125 * ?{pfcand_eta: ...'>,\n",
       " 'six': <Array [{pfcand_eta: [...], ...}, ..., {...}] type='167125 * ?{pfcand_eta: ...'>}"
      ]
     },
     "execution_count": 10,
     "metadata": {},
     "output_type": "execute_result"
    }
   ],
   "source": [
    "shuffled"
   ]
  },
  {
   "cell_type": "code",
   "execution_count": 14,
   "id": "64ed8fad-2715-4882-926d-185b525a6326",
   "metadata": {},
   "outputs": [],
   "source": [
    "for i in shuffled:\n",
    "    ak.to_parquet(shuffled[i], f'all_classes/hgg_qcd/{i}.parquet')"
   ]
  },
  {
   "cell_type": "code",
   "execution_count": 2,
   "id": "2dc27b49-bd13-4fd8-9e79-9def58c25623",
   "metadata": {},
   "outputs": [],
   "source": [
    "a = ak.from_parquet('all_classes/hgg_qcd/*')"
   ]
  },
  {
   "cell_type": "code",
   "execution_count": 5,
   "id": "6459461e-8322-4444-b996-1ed0bc3e5c91",
   "metadata": {},
   "outputs": [],
   "source": [
    "b = ak.from_parquet('../450to600/all_classes/hgg_qcd/*')"
   ]
  },
  {
   "cell_type": "code",
   "execution_count": 6,
   "id": "722592a7-c39d-44de-94f1-1afe22304f63",
   "metadata": {},
   "outputs": [
    {
     "data": {
      "text/html": [
       "<pre>[{pfcand_eta: [-1.22, -0.877, ..., -1.11], pfcand_phi: [...], ...},\n",
       " {pfcand_eta: [0.0813, -0.465, ..., -1.03], pfcand_phi: [...], ...},\n",
       " {pfcand_eta: [1.15, 0.861, ..., 0.547], pfcand_phi: [...], ...},\n",
       " {pfcand_eta: [0.61, 0.593, ..., 0.882], pfcand_phi: [1.2, ...], ...},\n",
       " {pfcand_eta: [1.29, 0.632, ..., 0.34, 0.2], pfcand_phi: [...], ...},\n",
       " {pfcand_eta: [0.409, 0.227, ..., 0.119], pfcand_phi: [...], ...},\n",
       " {pfcand_eta: [0.093, 0.264, ..., 0.316], pfcand_phi: [...], ...},\n",
       " {pfcand_eta: [-1.79, -0.943, ..., -0.792], pfcand_phi: [...], ...},\n",
       " {pfcand_eta: [-0.753, -0.741, ..., -0.567], pfcand_phi: [...], ...},\n",
       " {pfcand_eta: [0.333, 0.349, ..., 0.123], pfcand_phi: [...], ...},\n",
       " ...,\n",
       " {pfcand_eta: [0.502, 0.514, ..., -0.276], pfcand_phi: [...], ...},\n",
       " {pfcand_eta: [-0.745, -0.669, ..., -1.04], pfcand_phi: [...], ...},\n",
       " {pfcand_eta: [-0.673, -0.882, ..., -0.344], pfcand_phi: [...], ...},\n",
       " {pfcand_eta: [0.359, -0.0258, ..., 0.672], pfcand_phi: [...], ...},\n",
       " {pfcand_eta: [0.257, 0.126, ..., 0.238], pfcand_phi: [...], ...},\n",
       " {pfcand_eta: [2.43, 2.42, ..., 1.99, 2.71], pfcand_phi: [...], ...},\n",
       " {pfcand_eta: [1.46, 0.895, ..., 1.29, 1.25], pfcand_phi: [...], ...},\n",
       " {pfcand_eta: [-0.116, 0.441, ..., -0.184], pfcand_phi: [...], ...},\n",
       " {pfcand_eta: [0.646, 0.971, ..., 1.47], pfcand_phi: [...], ...}]\n",
       "----------------------------------------------------------------------\n",
       "type: 1002750 * ?{\n",
       "    pfcand_eta: var * ?float32,\n",
       "    pfcand_phi: var * ?float32,\n",
       "    pfcand_charge: var * ?int32,\n",
       "    pfcand_d0: var * ?float32,\n",
       "    pfcand_dz: var * ?float32,\n",
       "    pfcand_lostInnerHits: var * ?int32,\n",
       "    pfcand_pt: var * ?float32,\n",
       "    sv_eta: var * float32,\n",
       "    sv_phi: var * float32,\n",
       "    sv_dxy: var * float32,\n",
       "    sv_mass: var * float32,\n",
       "    sv_chi2: var * float32,\n",
       "    sv_ntracks: var * uint8,\n",
       "    sv_pt: var * float32,\n",
       "    fj_sdmass: float32,\n",
       "    fj_pt: float32,\n",
       "    fj_eta: float32,\n",
       "    fj_phi: float32,\n",
       "    label_H_gg: float32,\n",
       "    label_QCD: float32\n",
       "}</pre>"
      ],
      "text/plain": [
       "<Array [{pfcand_eta: [...], ...}, ..., {...}] type='1002750 * ?{pfcand_eta:...'>"
      ]
     },
     "execution_count": 6,
     "metadata": {},
     "output_type": "execute_result"
    }
   ],
   "source": [
    "a"
   ]
  },
  {
   "cell_type": "code",
   "execution_count": null,
   "id": "657aab6d-fc5c-489f-81ed-4b24ec15ea3b",
   "metadata": {},
   "outputs": [],
   "source": []
  }
 ],
 "metadata": {
  "kernelspec": {
   "display_name": "Python 3 (ipykernel)",
   "language": "python",
   "name": "python3"
  },
  "language_info": {
   "codemirror_mode": {
    "name": "ipython",
    "version": 3
   },
   "file_extension": ".py",
   "mimetype": "text/x-python",
   "name": "python",
   "nbconvert_exporter": "python",
   "pygments_lexer": "ipython3",
   "version": "3.11.9"
  }
 },
 "nbformat": 4,
 "nbformat_minor": 5
}
