{
 "cells": [
  {
   "cell_type": "code",
   "execution_count": 1,
   "id": "60e96f59-1b90-4587-abc4-e4d439e60ff5",
   "metadata": {},
   "outputs": [],
   "source": [
    "import numpy as np\n",
    "import awkward as ak\n",
    "import hist\n",
    "import warnings\n",
    "import pickle\n",
    "from coffea.ml_tools.torch_wrapper import torch_wrapper\n",
    "import matplotlib.pyplot as plt\n",
    "import hist\n",
    "from sklearn.metrics import roc_curve, auc\n",
    "import math\n",
    "import os\n",
    "import uproot\n",
    "import json"
   ]
  },
  {
   "cell_type": "code",
   "execution_count": 2,
   "id": "ad7f8a69-fd6b-48dd-901b-6b7ee8fbeeac",
   "metadata": {},
   "outputs": [],
   "source": [
    "warnings.filterwarnings('ignore', 'No format checks')"
   ]
  },
  {
   "cell_type": "code",
   "execution_count": 43,
   "id": "bb64c692-c720-4714-8eca-58c7419985f2",
   "metadata": {},
   "outputs": [],
   "source": [
    "path = 'wqq_control/'"
   ]
  },
  {
   "cell_type": "code",
   "execution_count": 44,
   "id": "85c3573f-59a9-4b53-81b9-82601574b315",
   "metadata": {},
   "outputs": [],
   "source": [
    "arr = {}\n",
    "files = os.listdir(f'{path}')\n",
    "for i in files:\n",
    "    if 'wqq' in i:\n",
    "        arr[i.rstrip('.parquet')] = ak.from_parquet(f'{path}/{i}')"
   ]
  },
  {
   "cell_type": "code",
   "execution_count": 45,
   "id": "460198da-5927-4470-bc19-e1799a6b78e7",
   "metadata": {},
   "outputs": [
    {
     "data": {
      "text/plain": [
       "{'wqq_200to400': <Array [{pfcand_eta: [...], ...}] type='1 * {pfcand_eta: var * ?float32, pf...'>,\n",
       " 'wqq_400to600': <Array [{pfcand_eta: [...], ...}, ..., {...}] type='24 * {pfcand_eta: var *...'>,\n",
       " 'wqq_600to800': <Array [{pfcand_eta: [...], ...}, ..., {...}] type='10038 * {pfcand_eta: va...'>,\n",
       " 'wqq_800toInf': <Array [{pfcand_eta: [...], ...}, ..., {...}] type='901682 * {pfcand_eta: v...'>}"
      ]
     },
     "execution_count": 45,
     "metadata": {},
     "output_type": "execute_result"
    }
   ],
   "source": [
    "arr"
   ]
  },
  {
   "cell_type": "code",
   "execution_count": null,
   "id": "6fa09cbd-c1f8-455c-a774-6b0f936b1ee5",
   "metadata": {},
   "outputs": [],
   "source": []
  },
  {
   "cell_type": "code",
   "execution_count": 11,
   "id": "2128cf81-07af-4755-8d04-e497dd8aae6b",
   "metadata": {},
   "outputs": [],
   "source": [
    "def nan_remover(sample):\n",
    "    if type(sample) == dict:\n",
    "        for j in sample:\n",
    "            mask = ak.ones_like(sample[j][sample[j].fields[0]], dtype='bool')\n",
    "            mask = ak.fill_none(mask, True)\n",
    "            for k in sample[j].fields:\n",
    "                mask = mask & (~ak.is_none(ak.nan_to_none(sample[j][k])))\n",
    "            sample[j] = sample[j][mask]\n",
    "    else:\n",
    "        mask = ak.ones_like(sample[sample.fields[0]], dtype='bool')\n",
    "        mask = ak.fill_none(mask, True)\n",
    "        for j in sample.fields:\n",
    "            if sample[j].fields == []:\n",
    "                mask = mask & (~ak.is_none(ak.nan_to_none(sample[j])))\n",
    "            else:\n",
    "                for k in sample[j].fields:\n",
    "                    mask = mask & (~ak.is_none(ak.nan_to_none(sample[j][k])))\n",
    "        sample = sample[mask]\n",
    "    return mask"
   ]
  },
  {
   "cell_type": "code",
   "execution_count": 13,
   "id": "ed762bde-ff95-4b20-9de0-2efec73519ef",
   "metadata": {},
   "outputs": [],
   "source": [
    "for i in arr:\n",
    "    arr[i] = arr[i][arr[i].fj_sdmass <= 170]\n",
    "    arr[i] = arr[i][arr[i].fj_sdmass >= 80]\n",
    "    arr[i] = arr[i][arr[i].fj_pt >= 450]\n",
    "    arr[i] = arr[i][arr[i].fj_pt <= 600]"
   ]
  },
  {
   "cell_type": "code",
   "execution_count": 14,
   "id": "d507df42-4eb2-4167-b46a-0e1a0b8306bb",
   "metadata": {},
   "outputs": [],
   "source": [
    "# for i in qcd:\n",
    "#     mask = (nan_remover(qcd[i]))\n",
    "#     qcd[i] = qcd[i][mask]"
   ]
  },
  {
   "cell_type": "code",
   "execution_count": null,
   "id": "2554e6ad-5491-44d3-99e5-a0616d8d868a",
   "metadata": {},
   "outputs": [],
   "source": []
  },
  {
   "cell_type": "code",
   "execution_count": 23,
   "id": "cd2f97dc-b311-424b-a97b-38f07b947f74",
   "metadata": {},
   "outputs": [],
   "source": [
    "IL = 44.99\n",
    "xsec = {}\n",
    "xsec['qcd_300to470'] = 1400 #6833\n",
    "xsec['qcd_470to600'] = 549.5\n",
    "xsec['qcd_600to800'] = 156.5\n",
    "xsec['qcd_800to1000'] = 26.22\n",
    "xsec['qcd_1000to1400'] = 7.475\n",
    "xsec['qcd_1400to1800'] = 0.6482\n",
    "xsec['qcd_1800to2400'] = 0.08742\n",
    "xsec['qcd_2400to3200'] = 0.005237\n",
    "xsec['qcd_3200toInf'] = 0.0001353"
   ]
  },
  {
   "cell_type": "code",
   "execution_count": 24,
   "id": "ff1115ed-2473-4e9e-b3b4-f8ef836f8936",
   "metadata": {},
   "outputs": [],
   "source": [
    "qcd_frac = {}\n",
    "for i in arr:\n",
    "    qcd_frac[i] = ((xsec[i]*1000)*IL)/len(qcd[i])\n",
    "qcd_frac['tot'] = sum(qcd_frac.values())\n",
    "sval = {}\n",
    "for i in arr:\n",
    "    sval[i] = qcd_frac[i]/qcd_frac['tot']\n",
    "combed = {}\n",
    "for i in arr:\n",
    "    temp = arr[i]\n",
    "    combed[i] = temp[np.random.rand(len(temp)) < sval[i]]\n",
    "qcd_stitched = ak.concatenate([combed[x] for x in combed])"
   ]
  },
  {
   "cell_type": "code",
   "execution_count": 36,
   "id": "f1d8bba7-d7c3-45c5-8f9e-78b554662b3c",
   "metadata": {},
   "outputs": [],
   "source": [
    "qcd_msd = qcd_stitched.fj_sdmass\n",
    "qcd_stitched_hist = hist.Hist.new.Reg(40, 80, 170, name='msd', label='QCD MSD').Weight()\n",
    "qcd_stitched_hist.fill(msd=qcd_msd);"
   ]
  },
  {
   "cell_type": "code",
   "execution_count": null,
   "id": "83b73e38-35d7-4c4a-9d45-1f3d04b80187",
   "metadata": {},
   "outputs": [],
   "source": []
  },
  {
   "cell_type": "code",
   "execution_count": 37,
   "id": "772e0042-b5f4-4d02-8ac4-4d91b4dc77bf",
   "metadata": {},
   "outputs": [
    {
     "data": {
      "image/png": "[encoded data removed]",
      "text/plain": [
       "<Figure size 640x480 with 1 Axes>"
      ]
     },
     "metadata": {},
     "output_type": "display_data"
    }
   ],
   "source": [
    "qcd_stitched_hist.plot1d()\n",
    "plt.show()"
   ]
  },
  {
   "cell_type": "code",
   "execution_count": 46,
   "id": "dafddd20-8894-485c-89a3-fc2c61f0aa96",
   "metadata": {},
   "outputs": [],
   "source": [
    "qcd_hist_dict = {}\n",
    "for i in arr:\n",
    "    temp_qcd_hist = hist.Hist.new.Reg(40, 80, 170, name='msd', label='QCD MSD').Weight()\n",
    "    temp_qcd_hist.fill(msd=arr[i].fj_sdmass);\n",
    "    qcd_hist_dict[i] = temp_qcd_hist"
   ]
  },
  {
   "cell_type": "code",
   "execution_count": 39,
   "id": "a65187ef-14e9-4dc0-adf6-5d3313b7ecac",
   "metadata": {},
   "outputs": [],
   "source": [
    "path = '/scratch365/cmoore24/training/hgg/batch/ml_results_checking'\n",
    "with open(f'{path}/subregion_event_totals.json', 'r') as f:\n",
    "    totals = json.load(f)\n",
    "del(totals['ww4q'])"
   ]
  },
  {
   "cell_type": "code",
   "execution_count": 40,
   "id": "0263a009-d13e-4dfa-81ad-1e595fbfe8ec",
   "metadata": {},
   "outputs": [],
   "source": [
    "with open(f'{path}/my_xsecs.json', 'r') as f:\n",
    "    xsecs = json.load(f)"
   ]
  },
  {
   "cell_type": "code",
   "execution_count": null,
   "id": "ac5a8bff-9e60-47e6-89cf-ead48f5008f9",
   "metadata": {},
   "outputs": [],
   "source": []
  },
  {
   "cell_type": "code",
   "execution_count": 41,
   "id": "6765180c-b4de-48c1-89d5-48e906f6dde5",
   "metadata": {},
   "outputs": [],
   "source": [
    "xsecs2 = {}\n",
    "for i in xsecs:\n",
    "    if type(xsecs[i]) == dict:\n",
    "        for j in xsecs[i]:\n",
    "            xsecs2[j] = xsecs[i][j]\n",
    "    else:\n",
    "        xsecs2[i] = xsecs[i]\n",
    "xsecs = xsecs2"
   ]
  },
  {
   "cell_type": "code",
   "execution_count": 42,
   "id": "19b8968b-b327-44e0-84a1-4f0f34846c16",
   "metadata": {},
   "outputs": [],
   "source": [
    "totals2 = {}\n",
    "for i in totals:\n",
    "    if type(totals[i]) == dict:\n",
    "        for j in totals[i]:\n",
    "            totals2[f'{i}_{j}'] = totals[i][j]\n",
    "    else:\n",
    "        totals2[i] = totals[i]\n",
    "totals = totals2"
   ]
  },
  {
   "cell_type": "code",
   "execution_count": 43,
   "id": "e3527068-bdd1-4d83-8d71-c182076922f4",
   "metadata": {},
   "outputs": [],
   "source": [
    "for i in qcd_hist_dict:\n",
    "    scale = ((44.99*(xsecs[i]*1000))/totals[i])\n",
    "    qcd_hist_dict[i].view(flow=True)[:] *= scale"
   ]
  },
  {
   "cell_type": "code",
   "execution_count": 47,
   "id": "bc0986f0-cbb9-4a82-b3fe-19a1c4c4dbfb",
   "metadata": {},
   "outputs": [],
   "source": [
    "qcd_hist = sum(value for key, value in qcd_hist_dict.items())"
   ]
  },
  {
   "cell_type": "code",
   "execution_count": 48,
   "id": "a911d432-301b-4a1d-b614-8c40b201b618",
   "metadata": {},
   "outputs": [
    {
     "data": {
      "image/png": "[encoded data removed]",
      "text/plain": [
       "<Figure size 640x480 with 1 Axes>"
      ]
     },
     "metadata": {},
     "output_type": "display_data"
    }
   ],
   "source": [
    "qcd_hist.plot1d()\n",
    "plt.show()"
   ]
  },
  {
   "cell_type": "code",
   "execution_count": null,
   "id": "f10003f5-8d66-43db-8f5f-0c6c93c82eb4",
   "metadata": {},
   "outputs": [],
   "source": []
  },
  {
   "cell_type": "code",
   "execution_count": 46,
   "id": "91e4ca8c-fa63-452f-ae67-6232931f8808",
   "metadata": {},
   "outputs": [
    {
     "data": {
      "image/png": "[encoded data removed]",
      "text/plain": [
       "<Figure size 640x480 with 1 Axes>"
      ]
     },
     "metadata": {},
     "output_type": "display_data"
    }
   ],
   "source": [
    "qcd_stitched_hist.plot1d(density=True, label='Stitched')\n",
    "qcd_hist.plot1d(density=True, label='Scaled')\n",
    "plt.legend()\n",
    "plt.show()"
   ]
  },
  {
   "cell_type": "code",
   "execution_count": 3,
   "id": "3f8b8b5f-c34c-4521-b96b-5e7829bedd8d",
   "metadata": {},
   "outputs": [],
   "source": [
    "hgg = ak.from_parquet('hgg/hgg_regular/*')\n",
    "qcd = ak.from_parquet('qcd/qcd_totrain/*')\n",
    "#wqq = ak.from_parquet('wqq_totrain/*')"
   ]
  },
  {
   "cell_type": "code",
   "execution_count": 4,
   "id": "471cfbd2-1a53-4729-83c7-6bcbe01e813c",
   "metadata": {},
   "outputs": [],
   "source": [
    "hgg = ak.concatenate([hgg, qcd])"
   ]
  },
  {
   "cell_type": "code",
   "execution_count": null,
   "id": "3843250f-2047-4c7b-be08-43444798d5f6",
   "metadata": {},
   "outputs": [],
   "source": []
  },
  {
   "cell_type": "code",
   "execution_count": null,
   "id": "0d478e7c-6381-4536-b1e6-309084f9b049",
   "metadata": {},
   "outputs": [],
   "source": []
  },
  {
   "cell_type": "code",
   "execution_count": 5,
   "id": "a63b612a-0883-434a-8955-67d3b46ad72d",
   "metadata": {},
   "outputs": [
    {
     "ename": "NameError",
     "evalue": "name 'arr' is not defined",
     "output_type": "error",
     "traceback": [
      "\u001b[0;31m---------------------------------------------------------------------------\u001b[0m",
      "\u001b[0;31mNameError\u001b[0m                                 Traceback (most recent call last)",
      "Cell \u001b[0;32mIn[5], line 1\u001b[0m\n\u001b[0;32m----> 1\u001b[0m hgg \u001b[38;5;241m=\u001b[39m ak\u001b[38;5;241m.\u001b[39mconcatenate([arr[i] \u001b[38;5;28;01mfor\u001b[39;00m i \u001b[38;5;129;01min\u001b[39;00m \u001b[43marr\u001b[49m])\n",
      "\u001b[0;31mNameError\u001b[0m: name 'arr' is not defined"
     ]
    }
   ],
   "source": [
    "hgg = ak.concatenate([arr[i] for i in arr])"
   ]
  },
  {
   "cell_type": "code",
   "execution_count": 6,
   "id": "70a9ba9f-243a-4395-8aa0-906ce0a0d810",
   "metadata": {},
   "outputs": [],
   "source": [
    "import math\n",
    "size = math.floor(len(hgg)/6)"
   ]
  },
  {
   "cell_type": "code",
   "execution_count": null,
   "id": "dcd2e61c-2ddb-4b88-b809-c00bd907fc01",
   "metadata": {},
   "outputs": [],
   "source": []
  },
  {
   "cell_type": "code",
   "execution_count": 7,
   "id": "5fb62227-22f9-4e3c-a1ee-ae05eb7c7d6e",
   "metadata": {},
   "outputs": [],
   "source": [
    "i1 = size\n",
    "i2 = size * 2\n",
    "i3 = size * 3\n",
    "i4 = size * 4\n",
    "i5 = size * 5\n",
    "i6 = size * 6"
   ]
  },
  {
   "cell_type": "code",
   "execution_count": 8,
   "id": "2c5ce709-2c09-4264-b354-f58b70eb7c41",
   "metadata": {},
   "outputs": [],
   "source": [
    "shuffle = np.random.permutation(len(hgg))\n",
    "hgg = hgg[shuffle]"
   ]
  },
  {
   "cell_type": "code",
   "execution_count": 9,
   "id": "da3ff938-aaa7-494d-9f17-a33c304eeac3",
   "metadata": {},
   "outputs": [
    {
     "data": {
      "text/plain": [
       "0.0"
      ]
     },
     "execution_count": 9,
     "metadata": {},
     "output_type": "execute_result"
    }
   ],
   "source": [
    "hgg[5].label_H_gg"
   ]
  },
  {
   "cell_type": "code",
   "execution_count": 10,
   "id": "6330a52b-938d-45f9-834e-794513551f57",
   "metadata": {},
   "outputs": [],
   "source": [
    "one = hgg[:i1]\n",
    "two = hgg[i1:i2]\n",
    "three = hgg[i2:i3]\n",
    "four = hgg[i3:i4]\n",
    "five = hgg[i4:i5]\n",
    "six = hgg[i5:]"
   ]
  },
  {
   "cell_type": "code",
   "execution_count": 16,
   "id": "2bb8065c-9c90-4cf9-9a38-d6c6f634926e",
   "metadata": {},
   "outputs": [
    {
     "data": {
      "text/plain": [
       "<pyarrow._parquet.FileMetaData object at 0x7f0129fa2570>\n",
       "  created_by: parquet-cpp-arrow version 17.0.0\n",
       "  num_columns: 21\n",
       "  num_rows: 109554\n",
       "  num_row_groups: 1\n",
       "  format_version: 2.6\n",
       "  serialized_size: 0"
      ]
     },
     "execution_count": 16,
     "metadata": {},
     "output_type": "execute_result"
    }
   ],
   "source": [
    "ak.to_parquet(six, 'all_classes/hgg_qcd/six.parquet')"
   ]
  },
  {
   "cell_type": "code",
   "execution_count": 141,
   "id": "a782a39a-8eef-4b01-b600-ef47edc0040f",
   "metadata": {},
   "outputs": [
    {
     "data": {
      "text/plain": [
       "823422"
      ]
     },
     "execution_count": 141,
     "metadata": {},
     "output_type": "execute_result"
    }
   ],
   "source": [
    "len(qcd_stitched)"
   ]
  },
  {
   "cell_type": "code",
   "execution_count": null,
   "id": "4a000d76-548d-4349-be18-a93a1dc34e98",
   "metadata": {},
   "outputs": [],
   "source": []
  }
 ],
 "metadata": {
  "kernelspec": {
   "display_name": "Python 3 (ipykernel)",
   "language": "python",
   "name": "python3"
  },
  "language_info": {
   "codemirror_mode": {
    "name": "ipython",
    "version": 3
   },
   "file_extension": ".py",
   "mimetype": "text/x-python",
   "name": "python",
   "nbconvert_exporter": "python",
   "pygments_lexer": "ipython3",
   "version": "3.11.9"
  }
 },
 "nbformat": 4,
 "nbformat_minor": 5
}
